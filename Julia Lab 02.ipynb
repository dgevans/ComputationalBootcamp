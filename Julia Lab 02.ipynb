{
 "cells": [
  {
   "cell_type": "markdown",
   "metadata": {},
   "source": [
    "# Functions and Modeling Applications"
   ]
  },
  {
   "cell_type": "markdown",
   "metadata": {},
   "source": [
    "Contents:\n",
    "\n",
    "- [Functions and Modeling Applications](#Functions-and-Modeling-Applications)  \n",
    "  - [Creating Functions](#Creating-Functions)  \n",
    "  - [Loops](#Loops)\n",
    "  - [Linear Algebra](#Linear-Algebra)  \n",
    "  - [Finite Markov Chains](#Finite-Markov-Chains)   \n",
    "\n",
    "\n",
    "This lab covers: \n",
    "\n",
    "(1) User-defined functions;\n",
    "\n",
    "(2) Loops;\n",
    "\n",
    "(3) Linear algebra applications; \n",
    "\n",
    "(4) Modeling finite-state Markov chains.\n",
    "\n",
    "----"
   ]
  },
  {
   "cell_type": "markdown",
   "metadata": {},
   "source": [
    "## Creating Functions "
   ]
  },
  {
   "cell_type": "markdown",
   "metadata": {},
   "source": [
    "In this section we will cover the basics of creating custom functions."
   ]
  },
  {
   "cell_type": "markdown",
   "metadata": {},
   "source": [
    "A function is essentially an object that takes a set of inputs, applies some sort of procedure to said inputs, and spits out a result.\n",
    "\n",
    "Functions can be handy for organizing code that is likely to be routinely re-used in the future with varying inputs."
   ]
  },
  {
   "cell_type": "code",
   "execution_count": 64,
   "metadata": {},
   "outputs": [],
   "source": []
  },
  {
   "cell_type": "markdown",
   "metadata": {},
   "source": [
    "Let's define a function named `add` that takes two variables, `x` and `y`, as inputs, and returns their sum."
   ]
  },
  {
   "cell_type": "code",
   "execution_count": 65,
   "metadata": {},
   "outputs": [
    {
     "name": "stderr",
     "output_type": "stream",
     "text": [
      "\u001b[32m\u001b[1m   Resolving\u001b[22m\u001b[39m package versions...\n",
      "\u001b[32m\u001b[1m  No Changes\u001b[22m\u001b[39m to `C:\\Users\\leide\\.julia\\environments\\v1.11\\Project.toml`\n",
      "\u001b[32m\u001b[1m  No Changes\u001b[22m\u001b[39m to `C:\\Users\\leide\\.julia\\environments\\v1.11\\Manifest.toml`\n"
     ]
    }
   ],
   "source": [
    "using Pkg # Load `Pkg`, which can be used to install packages\n",
    "Pkg.add(\"Plots\")\n"
   ]
  },
  {
   "cell_type": "code",
   "execution_count": 66,
   "metadata": {},
   "outputs": [
    {
     "data": {
      "text/plain": [
       "add (generic function with 1 method)"
      ]
     },
     "metadata": {},
     "output_type": "display_data"
    }
   ],
   "source": [
    "function add(x, y)\n",
    "    z = x + y\n",
    "    return z\n",
    "end "
   ]
  },
  {
   "cell_type": "markdown",
   "metadata": {},
   "source": [
    "To check, we call on `add()` with the inputs `x=2` and `y=3` -- obviously the output is supposed to be 5. "
   ]
  },
  {
   "cell_type": "code",
   "execution_count": 67,
   "metadata": {},
   "outputs": [
    {
     "data": {
      "text/plain": [
       "5"
      ]
     },
     "metadata": {},
     "output_type": "display_data"
    }
   ],
   "source": [
    "add(2,3)"
   ]
  },
  {
   "cell_type": "markdown",
   "metadata": {},
   "source": [
    "Success!\n",
    "\n",
    "Recall that we stored the output into a variable `z` that was defined inside of the function.\n",
    "\n",
    "If we try to call on `z` in the global environment (outside of the function), we will get an error since `z` only lives within the function:"
   ]
  },
  {
   "cell_type": "code",
   "execution_count": 68,
   "metadata": {},
   "outputs": [
    {
     "data": {
      "text/plain": [
       "5"
      ]
     },
     "metadata": {},
     "output_type": "display_data"
    }
   ],
   "source": [
    "z=6\n",
    "add(2,3)"
   ]
  },
  {
   "cell_type": "markdown",
   "metadata": {},
   "source": [
    "Now let's define a function called `all_operations` that takes takes two variables, `x` and `y`, as inputs, and returns their sum, difference, product, and quotient. "
   ]
  },
  {
   "cell_type": "code",
   "execution_count": 69,
   "metadata": {},
   "outputs": [
    {
     "data": {
      "text/plain": [
       "all_operations (generic function with 1 method)"
      ]
     },
     "metadata": {},
     "output_type": "display_data"
    }
   ],
   "source": [
    "function all_operations(x, y)\n",
    "    sum = x + y\n",
    "    difference = x - y\n",
    "    product = x * y\n",
    "    quotient = x / y \n",
    "    result = (sum, difference, product, quotient) #notice the parenthesis here. It means that the object result will be a tuple\n",
    "    return result  \n",
    "end "
   ]
  },
  {
   "cell_type": "markdown",
   "metadata": {},
   "source": [
    "To check whether `all_operations` works, we call on it with the inputs `x=1` and `y=2`:"
   ]
  },
  {
   "cell_type": "code",
   "execution_count": 70,
   "metadata": {},
   "outputs": [
    {
     "data": {
      "text/plain": [
       "(3, -1, 2, 0.5)"
      ]
     },
     "metadata": {},
     "output_type": "display_data"
    }
   ],
   "source": [
    "all_operations(1, 2)"
   ]
  },
  {
   "cell_type": "markdown",
   "metadata": {},
   "source": [
    "**Notice that the output of `all_operations()` is a tuple with four entires.**\n",
    "\n",
    "Tuples are useful as function output objects because we can easily store their entries as separate variables:"
   ]
  },
  {
   "cell_type": "code",
   "execution_count": 71,
   "metadata": {},
   "outputs": [
    {
     "name": "stdout",
     "output_type": "stream",
     "text": [
      "xy_sum = 3\n",
      "xy_difference = -1\n",
      "xy_product = 2\n",
      "xy_quotient = 0.5\n"
     ]
    }
   ],
   "source": [
    "# Store output of `all_operations(1,2)` as separate variables. Here, we are giving names to each element of the tuple created above\n",
    "(xy_sum, xy_difference, xy_product, xy_quotient) = all_operations(1,2) #You can define the LHS either with or without the parenthesis\n",
    "\n",
    "# Print all collected variables\n",
    "@show xy_sum\n",
    "@show xy_difference\n",
    "@show xy_product\n",
    "@show xy_quotient;"
   ]
  },
  {
   "cell_type": "markdown",
   "metadata": {},
   "source": [
    "An alternative simpler way of defining the `all_operations` function by creating an equivalent `all_operations_v2`:"
   ]
  },
  {
   "cell_type": "code",
   "execution_count": 72,
   "metadata": {},
   "outputs": [
    {
     "data": {
      "text/plain": [
       "all_operations_v2 (generic function with 1 method)"
      ]
     },
     "metadata": {},
     "output_type": "display_data"
    }
   ],
   "source": [
    "function all_operations_v2(x,y)\n",
    "    (x + y, x - y, x * y, x / y)\n",
    "end "
   ]
  },
  {
   "cell_type": "markdown",
   "metadata": {},
   "source": [
    "What did we do differently?\n",
    "- We defined and stored all operation results in an unassigned tuple ;\n",
    "- We didn't use `return` at the end of the function to return the output.\n",
    "\n",
    "**Notice that when we called on the function, Julia noticed the lack of a `return` command and chose the last thing it saw as the output -- in our case this was the unassigned tuple.**\n",
    "\n",
    "Is this alternative way of defining `all_operations()` better? Not necessarily -- it depends on the context. For example, you might find that shorter code isn't *necessarily* easier to read.\n",
    "\n",
    "Let's just apply `all_operations()` and `all_operations_v2()` to the same inputs and check whether the outputs match using a custom-defined function `check()`: "
   ]
  },
  {
   "cell_type": "code",
   "execution_count": 73,
   "metadata": {},
   "outputs": [
    {
     "data": {
      "text/plain": [
       "\"The two functions are the same!\""
      ]
     },
     "metadata": {},
     "output_type": "display_data"
    }
   ],
   "source": [
    "# Create var. `condition` that tests whether outputs are equivalent\n",
    "condition = all_operations(1,2) == all_operations_v2(1,2)\n",
    "\n",
    "# Create fun. `check` w/ input `condition`\n",
    "function check(condition)\n",
    "    if condition == true \n",
    "        result = \"The two functions are the same!\"\n",
    "    end \n",
    "    if condition != true\n",
    "        result = \"The two functions are not the same!\"\n",
    "    end \n",
    "    return result\n",
    "end \n",
    "\n",
    "# Run `check` on `condition`\n",
    "check(condition)"
   ]
  },
  {
   "cell_type": "markdown",
   "metadata": {},
   "source": [
    "The `check()` function, as defined in the previous cell, is pretty clunky -- let's simplify it by using if-else instead of two if loops:"
   ]
  },
  {
   "cell_type": "code",
   "execution_count": 74,
   "metadata": {},
   "outputs": [
    {
     "data": {
      "text/plain": [
       "\"The two functions are the same!\""
      ]
     },
     "metadata": {},
     "output_type": "display_data"
    }
   ],
   "source": [
    "# Re-define function `check()`, so that instead of two separate if loops, it becomes a single if-else one. \n",
    "function check(condition)\n",
    "    if condition \n",
    "        return \"The two functions are the same!\"\n",
    "    else \n",
    "        return \"The two functions are not the same!\"\n",
    "    end \n",
    "end\n",
    "\n",
    "# Call on `check()`\n",
    "check(condition)"
   ]
  },
  {
   "cell_type": "markdown",
   "metadata": {},
   "source": [
    "Or alternatively:"
   ]
  },
  {
   "cell_type": "code",
   "execution_count": 75,
   "metadata": {},
   "outputs": [
    {
     "data": {
      "text/plain": [
       "\"The two functions are the same!\""
      ]
     },
     "metadata": {},
     "output_type": "display_data"
    }
   ],
   "source": [
    "# Re-define function `check()\n",
    "function check(condition)\n",
    "    if condition == true \n",
    "        return \"The two functions are the same!\"\n",
    "    end \n",
    "    \"The two functions are not the same!\"\n",
    "end \n",
    "\n",
    "# Call on `check()`\n",
    "check(condition)"
   ]
  },
  {
   "cell_type": "markdown",
   "metadata": {},
   "source": [
    "Again -- in the case of simple functions such as the ones shown above, being super efficient is not necessary. \n",
    "\n",
    "**But clunky code can make larger scripts hard to read, and potentially even run slow!**"
   ]
  },
  {
   "cell_type": "markdown",
   "metadata": {},
   "source": [
    "Now let's talk math.\n",
    "\n",
    "Defining mathematical functions in Julia is easy.\n",
    "\n",
    "Let's define the polynomial mapping $f:\\mathbb{R} \\rightarrow \\mathbb{R}$ such that $f(x) = x^2 - 3x + 2$:"
   ]
  },
  {
   "cell_type": "code",
   "execution_count": 76,
   "metadata": {
    "scrolled": true
   },
   "outputs": [
    {
     "data": {
      "text/plain": [
       "f (generic function with 1 method)"
      ]
     },
     "metadata": {},
     "output_type": "display_data"
    }
   ],
   "source": [
    "f(x) = x^2 - 3x + 2"
   ]
  },
  {
   "cell_type": "markdown",
   "metadata": {},
   "source": [
    "Suppose we're interested in knowing the value of $f(\\pi)$:"
   ]
  },
  {
   "cell_type": "code",
   "execution_count": 77,
   "metadata": {},
   "outputs": [
    {
     "data": {
      "text/plain": [
       "2.4448264403199786"
      ]
     },
     "metadata": {},
     "output_type": "display_data"
    }
   ],
   "source": [
    "f(pi)"
   ]
  },
  {
   "cell_type": "markdown",
   "metadata": {},
   "source": [
    "Alternatively:"
   ]
  },
  {
   "cell_type": "code",
   "execution_count": 78,
   "metadata": {},
   "outputs": [
    {
     "data": {
      "text/plain": [
       "2.4448264403199786"
      ]
     },
     "metadata": {},
     "output_type": "display_data"
    }
   ],
   "source": [
    "f(π)"
   ]
  },
  {
   "cell_type": "markdown",
   "metadata": {},
   "source": [
    "There are a lot of details on user-defined functions that we haven't been able to cover here, but I think the above should be enough to get you started. \n",
    "\n",
    "Visit the official Julia manual section on [functions](https://docs.julialang.org/en/v1/manual/functions/) to learn more."
   ]
  },
  {
   "cell_type": "markdown",
   "metadata": {},
   "source": [
    "---"
   ]
  },
  {
   "cell_type": "markdown",
   "metadata": {},
   "source": [
    "## *Loops*"
   ]
  },
  {
   "cell_type": "markdown",
   "metadata": {},
   "source": []
  },
  {
   "cell_type": "markdown",
   "metadata": {},
   "source": [
    "Let's print every integer between 1 and 5 using a while loop:"
   ]
  },
  {
   "cell_type": "code",
   "execution_count": 79,
   "metadata": {},
   "outputs": [
    {
     "name": "stdout",
     "output_type": "stream",
     "text": [
      "1\n",
      "2\n",
      "3\n",
      "4\n",
      "5\n"
     ]
    }
   ],
   "source": [
    "# Initial value\n",
    "i = 1\n",
    "\n",
    "# While loop:\n",
    "while i <= 5 # Run until i = 5\n",
    "    println(i) # Print i \n",
    "    i = i + 1 # Add 1 to i for the next iteration of the loop\n",
    "end "
   ]
  },
  {
   "cell_type": "markdown",
   "metadata": {},
   "source": [
    "The above can be accomplished more easily using a for loop:"
   ]
  },
  {
   "cell_type": "code",
   "execution_count": 80,
   "metadata": {},
   "outputs": [
    {
     "name": "stdout",
     "output_type": "stream",
     "text": [
      "1\n",
      "2\n",
      "3\n",
      "4\n",
      "5\n"
     ]
    }
   ],
   "source": [
    "for i in 1:5 \n",
    "    println(i)\n",
    "end "
   ]
  },
  {
   "cell_type": "markdown",
   "metadata": {},
   "source": [
    "**We can pass any kind of sequence to a for loop.**\n",
    "\n",
    "For example, we can print the set of odd numbers between 1 and 5 by defining a sequence called `sequence` and then iterating the values of said sequence:"
   ]
  },
  {
   "cell_type": "code",
   "execution_count": 81,
   "metadata": {},
   "outputs": [
    {
     "name": "stdout",
     "output_type": "stream",
     "text": [
      "1.0\n",
      "3.0\n",
      "5.0\n"
     ]
    }
   ],
   "source": [
    "sequence = [1.0,3.0,5.0]\n",
    "\n",
    "for i in sequence \n",
    "    println(i)\n",
    "end "
   ]
  },
  {
   "cell_type": "markdown",
   "metadata": {},
   "source": [
    "What if we want to instead print the index associated with the entries of `sequence` instead of the entry values themselves?"
   ]
  },
  {
   "cell_type": "code",
   "execution_count": 82,
   "metadata": {},
   "outputs": [
    {
     "name": "stdout",
     "output_type": "stream",
     "text": [
      "1\n",
      "2\n",
      "3\n"
     ]
    }
   ],
   "source": [
    "for i in eachindex(sequence)\n",
    "    println(i)\n",
    "end "
   ]
  },
  {
   "cell_type": "markdown",
   "metadata": {},
   "source": [
    "Suppose we want to square all values of `sequence` and store it as a separate array called `seq_out`.\n",
    "\n",
    "We can accomplish this using a for loop that goes through each entry of `sequence`, squares it, and stores it as the corresponding entry of `seq_out`:"
   ]
  },
  {
   "cell_type": "code",
   "execution_count": 83,
   "metadata": {},
   "outputs": [
    {
     "data": {
      "text/plain": [
       "3-element Vector{Float64}:\n",
       "  1.0\n",
       "  9.0\n",
       " 25.0"
      ]
     },
     "metadata": {},
     "output_type": "display_data"
    }
   ],
   "source": [
    "# Declare `seq_out` as a vector \n",
    "# w/ the same number of entries as `sequence`\n",
    "seq_out  = zeros(length(sequence))\n",
    "\n",
    "# Run a for-loop that goes through\n",
    "# the indexes of `sequence`\n",
    "for i in eachindex(sequence) \n",
    "    seq_out[i] = sequence[i]^2\n",
    "end \n",
    "\n",
    "# Print `seq_out`\n",
    "seq_out"
   ]
  },
  {
   "cell_type": "markdown",
   "metadata": {},
   "source": [
    "Alternatively, we can use a for loop in a **comprehension**:"
   ]
  },
  {
   "cell_type": "code",
   "execution_count": 84,
   "metadata": {},
   "outputs": [
    {
     "data": {
      "text/plain": [
       "3-element Vector{Float64}:\n",
       "  1.0\n",
       "  9.0\n",
       " 25.0"
      ]
     },
     "metadata": {},
     "output_type": "display_data"
    }
   ],
   "source": [
    "seq_out = [sequence[i]^2 for i in eachindex(sequence)]"
   ]
  },
  {
   "cell_type": "markdown",
   "metadata": {},
   "source": [
    "Even better -- we can **broadcast** (remember this from last lab?) `^2` across `sequence`."
   ]
  },
  {
   "cell_type": "code",
   "execution_count": 85,
   "metadata": {},
   "outputs": [
    {
     "data": {
      "text/plain": [
       "3-element Vector{Float64}:\n",
       "  1.0\n",
       "  9.0\n",
       " 25.0"
      ]
     },
     "metadata": {},
     "output_type": "display_data"
    }
   ],
   "source": [
    "seq_out = sequence.^2"
   ]
  },
  {
   "cell_type": "markdown",
   "metadata": {},
   "source": [
    "---"
   ]
  },
  {
   "cell_type": "markdown",
   "metadata": {},
   "source": [
    "## Linear Algebra"
   ]
  },
  {
   "cell_type": "markdown",
   "metadata": {},
   "source": [
    "First, we load up the `LinearAlgebra` package."
   ]
  },
  {
   "cell_type": "code",
   "execution_count": 86,
   "metadata": {},
   "outputs": [],
   "source": [
    "using LinearAlgebra"
   ]
  },
  {
   "cell_type": "markdown",
   "metadata": {},
   "source": [
    "Let's assume we have vectors $a_1 = (1, 2, 3)'$ and $a_2 = (4, 5, 6)'$.\n",
    "\n",
    "We start by defining these two column vectors:"
   ]
  },
  {
   "cell_type": "code",
   "execution_count": 87,
   "metadata": {},
   "outputs": [],
   "source": [
    "a_1 = [1; 2; 3]\n",
    "a_2 = [4, 5, 6];"
   ]
  },
  {
   "cell_type": "markdown",
   "metadata": {},
   "source": [
    "Recall that whether we use `;`'s or `,`'s to separate entries in single-entry arrays, we still get column vectors."
   ]
  },
  {
   "cell_type": "markdown",
   "metadata": {},
   "source": [
    "Obviously $a_1$ and $a_2$ do not span each other, but let's just check to be sure:"
   ]
  },
  {
   "cell_type": "code",
   "execution_count": 88,
   "metadata": {},
   "outputs": [
    {
     "data": {
      "text/plain": [
       "2-element Vector{Float64}:\n",
       " -0.0\n",
       " -0.0"
      ]
     },
     "metadata": {},
     "output_type": "display_data"
    }
   ],
   "source": [
    "A = [a_1 a_2]\n",
    "b = A \\ zeros(3)\n",
    "\n"
   ]
  },
  {
   "cell_type": "markdown",
   "metadata": {},
   "source": [
    "Since the zero vector is the only solution for $x$ in $A \\, x = b$ where $A = [ a_1 a_2 ]$, then $a_1$ and $a_2$ must be linearly independent.\n",
    "\n"
   ]
  },
  {
   "cell_type": "markdown",
   "metadata": {},
   "source": [
    "Find the dot product of $a_1$ and $a_2$:"
   ]
  },
  {
   "cell_type": "code",
   "execution_count": 89,
   "metadata": {},
   "outputs": [
    {
     "data": {
      "text/plain": [
       "32"
      ]
     },
     "metadata": {},
     "output_type": "display_data"
    }
   ],
   "source": [
    "a_1' * a_2"
   ]
  },
  {
   "cell_type": "markdown",
   "metadata": {},
   "source": [
    "Alternatively:"
   ]
  },
  {
   "cell_type": "code",
   "execution_count": 90,
   "metadata": {},
   "outputs": [
    {
     "data": {
      "text/plain": [
       "32"
      ]
     },
     "metadata": {},
     "output_type": "display_data"
    }
   ],
   "source": [
    "dot(a_1, a_2)\n",
    "\n"
   ]
  },
  {
   "cell_type": "markdown",
   "metadata": {},
   "source": [
    "Now let's find $a_1 a_2'$:"
   ]
  },
  {
   "cell_type": "code",
   "execution_count": 91,
   "metadata": {},
   "outputs": [
    {
     "data": {
      "text/plain": [
       "3×3 Matrix{Int64}:\n",
       "  4   5   6\n",
       "  8  10  12\n",
       " 12  15  18"
      ]
     },
     "metadata": {},
     "output_type": "display_data"
    }
   ],
   "source": [
    "a_1 * a_2'"
   ]
  },
  {
   "cell_type": "markdown",
   "metadata": {},
   "source": [
    "Now let's add the two vectors:"
   ]
  },
  {
   "cell_type": "code",
   "execution_count": 92,
   "metadata": {},
   "outputs": [
    {
     "data": {
      "text/plain": [
       "3-element Vector{Int64}:\n",
       " 5\n",
       " 7\n",
       " 9"
      ]
     },
     "metadata": {},
     "output_type": "display_data"
    }
   ],
   "source": [
    "a_1 + a_2 "
   ]
  },
  {
   "cell_type": "markdown",
   "metadata": {},
   "source": [
    "Subtract $a_2$ from $a_1$:"
   ]
  },
  {
   "cell_type": "code",
   "execution_count": 93,
   "metadata": {},
   "outputs": [
    {
     "data": {
      "text/plain": [
       "3-element Vector{Int64}:\n",
       " -3\n",
       " -3\n",
       " -3"
      ]
     },
     "metadata": {},
     "output_type": "display_data"
    }
   ],
   "source": [
    "a_1 - a_2 "
   ]
  },
  {
   "cell_type": "markdown",
   "metadata": {},
   "source": [
    "Let's scale vector $a_1$ by 3:"
   ]
  },
  {
   "cell_type": "code",
   "execution_count": 94,
   "metadata": {},
   "outputs": [
    {
     "data": {
      "text/plain": [
       "3-element Vector{Int64}:\n",
       " 3\n",
       " 6\n",
       " 9"
      ]
     },
     "metadata": {},
     "output_type": "display_data"
    }
   ],
   "source": [
    "3a_1 "
   ]
  },
  {
   "cell_type": "markdown",
   "metadata": {},
   "source": [
    "Equivalently:"
   ]
  },
  {
   "cell_type": "code",
   "execution_count": 95,
   "metadata": {},
   "outputs": [
    {
     "data": {
      "text/plain": [
       "3-element Vector{Int64}:\n",
       " 3\n",
       " 6\n",
       " 9"
      ]
     },
     "metadata": {},
     "output_type": "display_data"
    }
   ],
   "source": [
    "3 * a_1 "
   ]
  },
  {
   "cell_type": "markdown",
   "metadata": {},
   "source": [
    "Equivalently:"
   ]
  },
  {
   "cell_type": "code",
   "execution_count": 96,
   "metadata": {},
   "outputs": [
    {
     "data": {
      "text/plain": [
       "3-element Vector{Int64}:\n",
       " 3\n",
       " 6\n",
       " 9"
      ]
     },
     "metadata": {},
     "output_type": "display_data"
    }
   ],
   "source": [
    "3 .* a_1"
   ]
  },
  {
   "cell_type": "markdown",
   "metadata": {},
   "source": [
    "The norm of vector $a_1$:"
   ]
  },
  {
   "cell_type": "code",
   "execution_count": 97,
   "metadata": {},
   "outputs": [
    {
     "data": {
      "text/plain": [
       "3.7416573867739413"
      ]
     },
     "metadata": {},
     "output_type": "display_data"
    }
   ],
   "source": [
    "norm(a_1)"
   ]
  },
  {
   "cell_type": "markdown",
   "metadata": {},
   "source": [
    "Since $a_1$ and $a_2$ cannot span $\\mathbb{R}^3$, we can find another orthogonal vector $a_3$.\n",
    "\n",
    "Is $a_3 = a_1 + a_2$ orthogonal? (Obviously not, by definition, but let's practice checking)"
   ]
  },
  {
   "cell_type": "code",
   "execution_count": 98,
   "metadata": {},
   "outputs": [
    {
     "data": {
      "text/plain": [
       "2-element Vector{Float64}:\n",
       " 0.9999999999999979\n",
       " 1.000000000000001"
      ]
     },
     "metadata": {},
     "output_type": "display_data"
    }
   ],
   "source": [
    "a_3 = a_1 + a_2\n",
    "b = A \\ a_3 "
   ]
  },
  {
   "cell_type": "markdown",
   "metadata": {},
   "source": [
    "Since there exists a non-trivial solution to $x$ in $[a_1 \\, a_2] \\, x = A \\, x = a_3$, then $a_3$ is not linearly independent. "
   ]
  },
  {
   "cell_type": "markdown",
   "metadata": {},
   "source": [
    "We can find a linearly independent $a_3$ by guessing some initial vector $b_3$, projecting it onto the columns of $A$ to obtain the projection $\\hat{b}_3$, and then extracting the orthogonal $a_3 = b_3 - \\hat{b}_3$:"
   ]
  },
  {
   "cell_type": "code",
   "execution_count": 99,
   "metadata": {},
   "outputs": [
    {
     "data": {
      "text/plain": [
       "3-element Vector{Float64}:\n",
       " 0.0\n",
       " 1.7763568394002505e-15\n",
       " 3.552713678800501e-15"
      ]
     },
     "metadata": {},
     "output_type": "display_data"
    }
   ],
   "source": [
    "b_3 = [2, 3, 4]\n",
    "a_3 = b_3 - (A * inv(A'A) * A' * b_3)\n",
    "a_3"
   ]
  },
  {
   "cell_type": "markdown",
   "metadata": {},
   "source": [
    "Now let's check whether $a_3$ is actually linearly independent by redefining $A$ as $A = [a_1 \\, a_2 \\, a_3]$ and solving for $x$ in $A \\, x = 0$:"
   ]
  },
  {
   "cell_type": "code",
   "execution_count": 114,
   "metadata": {},
   "outputs": [
    {
     "name": "stdout",
     "output_type": "stream",
     "text": [
      "Matrix A is not full rank. Columns are linearly dependent.\n"
     ]
    }
   ],
   "source": [
    "\n",
    "# Check if the matrix A is full rank\n",
    "rank_A = rank(A)\n",
    "if rank_A < size(A, 2)\n",
    "    println(\"Matrix A is not full rank. Columns are linearly dependent.\")\n",
    "else\n",
    "    println(\"Matrix A is full rank. Columns are linearly independent.\")\n",
    "end"
   ]
  },
  {
   "cell_type": "code",
   "execution_count": null,
   "metadata": {},
   "outputs": [],
   "source": []
  },
  {
   "cell_type": "markdown",
   "metadata": {},
   "source": [
    "Since the only solution for $x$ in $A \\, x = 0$ is the trivial solution, then $A$ must be full-rank."
   ]
  },
  {
   "cell_type": "markdown",
   "metadata": {},
   "source": [
    "Now let's check the eigenvalues and eigenvectors of $A$:"
   ]
  },
  {
   "cell_type": "code",
   "execution_count": 37,
   "metadata": {},
   "outputs": [],
   "source": [
    "eigenv_A, eigenvec_A =eigen(A);"
   ]
  },
  {
   "cell_type": "code",
   "execution_count": 103,
   "metadata": {},
   "outputs": [
    {
     "data": {
      "text/plain": [
       "3-element Vector{Float64}:\n",
       " -0.4641016151377525\n",
       " -3.72818950727888e-30\n",
       "  6.464101615137754"
      ]
     },
     "metadata": {},
     "output_type": "display_data"
    }
   ],
   "source": [
    "eigenv_A"
   ]
  },
  {
   "cell_type": "code",
   "execution_count": 104,
   "metadata": {},
   "outputs": [
    {
     "data": {
      "text/plain": [
       "3×3 Matrix{Float64}:\n",
       " -0.491831  -2.36848e-15  -0.412884\n",
       "  0.180023   5.92119e-16  -0.56401\n",
       "  0.851877   1.0          -0.715136"
      ]
     },
     "metadata": {},
     "output_type": "display_data"
    }
   ],
   "source": [
    "eigenvec_A"
   ]
  },
  {
   "cell_type": "markdown",
   "metadata": {},
   "source": [
    "---"
   ]
  },
  {
   "cell_type": "markdown",
   "metadata": {},
   "source": [
    "## Finite Markov Chains"
   ]
  },
  {
   "cell_type": "markdown",
   "metadata": {},
   "source": [
    "Suppose that for a Markov process with three states we are given an initial state distribution and a stochastic matrix. \n",
    "\n",
    "We are told to compute the state density in 10 periods (at $t=10$).\n",
    "\n",
    "The given initial distribution is $P_0 = (1/3, 1/3, 1/3)'$, while the stochastic matrix is \n",
    "\n",
    "$$M = \\begin{bmatrix} 0.95 & 0.05 & 0 \\\\ 0.15 & 0.75 & 0.1 \\\\ 0 & 0.5 & 0.5 \\end{bmatrix} \\, .$$ "
   ]
  },
  {
   "cell_type": "code",
   "execution_count": 106,
   "metadata": {},
   "outputs": [
    {
     "data": {
      "text/plain": [
       "3-element Vector{Float64}:\n",
       " 0.6415045988833332\n",
       " 0.2941181890520833\n",
       " 0.06437721206458331"
      ]
     },
     "metadata": {},
     "output_type": "display_data"
    }
   ],
   "source": [
    "# Define initial state distr.\n",
    "P0 = [1/3, 1/3, 1/3]\n",
    "\n",
    "# Define stochastic matrix\n",
    "M = [0.95 0.05 0 ; 0.15 0.75 0.1 ; 0.0 0.5 0.5]\n",
    "\n",
    "# Compute state distr. at t = 10\n",
    "P10 = (P0' * M^(10))'"
   ]
  },
  {
   "cell_type": "markdown",
   "metadata": {},
   "source": [
    "More generally, what if we're interested in computing the state density for a variety of $n \\in \\mathbb{N}$ periods? \n",
    "\n",
    "This is when writing custom functions comes in handy!\n",
    "\n",
    "Let's create a function named `markov_chain` with inputs for $P_0$, $M$, and $n$:"
   ]
  },
  {
   "cell_type": "code",
   "execution_count": 107,
   "metadata": {},
   "outputs": [
    {
     "data": {
      "text/plain": [
       "markov_chain (generic function with 1 method)"
      ]
     },
     "metadata": {},
     "output_type": "display_data"
    }
   ],
   "source": [
    "function markov_chain(P0, M, n)\n",
    "    \n",
    "    # Start by creating a copy of P0\n",
    "    # to later feed into the loop\n",
    "    P = copy(P0) \n",
    "    \n",
    "    # Run a loop that computes\n",
    "    # P n-steps ahead\n",
    "    for i in 1:n \n",
    "        new_P = (P' * M)'\n",
    "        P = new_P\n",
    "        \n",
    "    end \n",
    "    \n",
    "    # Return the final state distr.\n",
    "    return P\n",
    "\n",
    "end     "
   ]
  },
  {
   "cell_type": "markdown",
   "metadata": {},
   "source": [
    "We can now try our new function out using the previously-defined `P0` and `M` with `n` set to 10:"
   ]
  },
  {
   "cell_type": "code",
   "execution_count": 108,
   "metadata": {},
   "outputs": [
    {
     "data": {
      "text/plain": [
       "3-element Vector{Float64}:\n",
       " 0.641504598883333\n",
       " 0.29411818905208326\n",
       " 0.06437721206458331"
      ]
     },
     "metadata": {},
     "output_type": "display_data"
    }
   ],
   "source": [
    "markov_chain(P0, M, 10)"
   ]
  },
  {
   "cell_type": "markdown",
   "metadata": {},
   "source": [
    "Does this match `P10`?"
   ]
  },
  {
   "cell_type": "code",
   "execution_count": 109,
   "metadata": {},
   "outputs": [
    {
     "data": {
      "text/plain": [
       "true"
      ]
     },
     "metadata": {},
     "output_type": "display_data"
    }
   ],
   "source": [
    "markov_chain(P0, M, 10) ≈ P10"
   ]
  },
  {
   "cell_type": "markdown",
   "metadata": {},
   "source": [
    "It does!\n",
    "\n",
    "We can now use this function to do a whole bunch of useful things.\n",
    "\n",
    "For example, given the same $P_0$ and $M$, we can now create a list of $P_n$ for $n = 1,2,\\ldots,20$:"
   ]
  },
  {
   "cell_type": "code",
   "execution_count": 110,
   "metadata": {},
   "outputs": [],
   "source": [
    "probabilities = [markov_chain(P0, M, n) for n in 1:20];"
   ]
  },
  {
   "cell_type": "markdown",
   "metadata": {},
   "source": [
    "We may visualize the probability of each state across time by gathering and plotting the corresponding series for all three states:"
   ]
  },
  {
   "cell_type": "code",
   "execution_count": 111,
   "metadata": {},
   "outputs": [],
   "source": [
    "state1 = zeros(20)\n",
    "state2 = zeros(20)\n",
    "state3 = zeros(20)\n",
    "\n",
    "for i in 1:20\n",
    "    state1[i] = probabilities[i][1]\n",
    "    state2[i] = probabilities[i][2]\n",
    "    state3[i] = probabilities[i][3]\n",
    "end "
   ]
  },
  {
   "cell_type": "markdown",
   "metadata": {},
   "source": [
    "Let's load the `Plots` package to make a couple of plots."
   ]
  },
  {
   "cell_type": "code",
   "execution_count": 112,
   "metadata": {},
   "outputs": [],
   "source": [
    "using Plots"
   ]
  },
  {
   "cell_type": "markdown",
   "metadata": {},
   "source": [
    "First, let's make a simple plot that contains all series:"
   ]
  },
  {
   "cell_type": "code",
   "execution_count": 50,
   "metadata": {},
   "outputs": [
    {
     "data": {
      "image/png": "[encoded data removed]",
      "image/svg+xml": [
       "<?xml version=\"1.0\" encoding=\"utf-8\"?>\n",
       "<svg xmlns=\"http://www.w3.org/2000/svg\" xmlns:xlink=\"http://www.w3.org/1999/xlink\" width=\"600\" height=\"400\" viewBox=\"0 0 2400 1600\">\n",
       "<defs>\n",
       "  <clipPath id=\"clip260\">\n",
       "    <rect x=\"0\" y=\"0\" width=\"2400\" height=\"1600\"/>\n",
       "  </clipPath>\n",
       "</defs>\n",
       "<path clip-path=\"url(#clip260)\" d=\"M0 1600 L2400 1600 L2400 0 L0 0  Z\" fill=\"#ffffff\" fill-rule=\"evenodd\" fill-opacity=\"1\"/>\n",
       "<defs>\n",
       "  <clipPath id=\"clip261\">\n",
       "    <rect x=\"480\" y=\"0\" width=\"1681\" height=\"1600\"/>\n",
       "  </clipPath>\n",
       "</defs>\n",
       "<path clip-path=\"url(#clip260)\" d=\"M156.598 1486.45 L2352.76 1486.45 L2352.76 47.2441 L156.598 47.2441  Z\" fill=\"#ffffff\" fill-rule=\"evenodd\" fill-opacity=\"1\"/>\n",
       "<defs>\n",
       "  <clipPath id=\"clip262\">\n",
       "    <rect x=\"156\" y=\"47\" width=\"2197\" height=\"1440\"/>\n",
       "  </clipPath>\n",
       "</defs>\n",
       "<polyline clip-path=\"url(#clip262)\" style=\"stroke:#000000; stroke-linecap:round; stroke-linejoin:round; stroke-width:2; stroke-opacity:0.1; fill:none\" points=\"654.932,1486.45 654.932,47.2441 \"/>\n",
       "<polyline clip-path=\"url(#clip262)\" style=\"stroke:#000000; stroke-linecap:round; stroke-linejoin:round; stroke-width:2; stroke-opacity:0.1; fill:none\" points=\"1200.15,1486.45 1200.15,47.2441 \"/>\n",
       "<polyline clip-path=\"url(#clip262)\" style=\"stroke:#000000; stroke-linecap:round; stroke-linejoin:round; stroke-width:2; stroke-opacity:0.1; fill:none\" points=\"1745.38,1486.45 1745.38,47.2441 \"/>\n",
       "<polyline clip-path=\"url(#clip262)\" style=\"stroke:#000000; stroke-linecap:round; stroke-linejoin:round; stroke-width:2; stroke-opacity:0.1; fill:none\" points=\"2290.6,1486.45 2290.6,47.2441 \"/>\n",
       "<polyline clip-path=\"url(#clip262)\" style=\"stroke:#000000; stroke-linecap:round; stroke-linejoin:round; stroke-width:2; stroke-opacity:0.1; fill:none\" points=\"156.598,1342.35 2352.76,1342.35 \"/>\n",
       "<polyline clip-path=\"url(#clip262)\" style=\"stroke:#000000; stroke-linecap:round; stroke-linejoin:round; stroke-width:2; stroke-opacity:0.1; fill:none\" points=\"156.598,1134.11 2352.76,1134.11 \"/>\n",
       "<polyline clip-path=\"url(#clip262)\" style=\"stroke:#000000; stroke-linecap:round; stroke-linejoin:round; stroke-width:2; stroke-opacity:0.1; fill:none\" points=\"156.598,925.865 2352.76,925.865 \"/>\n",
       "<polyline clip-path=\"url(#clip262)\" style=\"stroke:#000000; stroke-linecap:round; stroke-linejoin:round; stroke-width:2; stroke-opacity:0.1; fill:none\" points=\"156.598,717.623 2352.76,717.623 \"/>\n",
       "<polyline clip-path=\"url(#clip262)\" style=\"stroke:#000000; stroke-linecap:round; stroke-linejoin:round; stroke-width:2; stroke-opacity:0.1; fill:none\" points=\"156.598,509.38 2352.76,509.38 \"/>\n",
       "<polyline clip-path=\"url(#clip262)\" style=\"stroke:#000000; stroke-linecap:round; stroke-linejoin:round; stroke-width:2; stroke-opacity:0.1; fill:none\" points=\"156.598,301.138 2352.76,301.138 \"/>\n",
       "<polyline clip-path=\"url(#clip262)\" style=\"stroke:#000000; stroke-linecap:round; stroke-linejoin:round; stroke-width:2; stroke-opacity:0.1; fill:none\" points=\"156.598,92.8953 2352.76,92.8953 \"/>\n",
       "<polyline clip-path=\"url(#clip260)\" style=\"stroke:#000000; stroke-linecap:round; stroke-linejoin:round; stroke-width:4; stroke-opacity:1; fill:none\" points=\"156.598,1486.45 2352.76,1486.45 \"/>\n",
       "<polyline clip-path=\"url(#clip260)\" style=\"stroke:#000000; stroke-linecap:round; stroke-linejoin:round; stroke-width:4; stroke-opacity:1; fill:none\" points=\"654.932,1486.45 654.932,1467.55 \"/>\n",
       "<polyline clip-path=\"url(#clip260)\" style=\"stroke:#000000; stroke-linecap:round; stroke-linejoin:round; stroke-width:4; stroke-opacity:1; fill:none\" points=\"1200.15,1486.45 1200.15,1467.55 \"/>\n",
       "<polyline clip-path=\"url(#clip260)\" style=\"stroke:#000000; stroke-linecap:round; stroke-linejoin:round; stroke-width:4; stroke-opacity:1; fill:none\" points=\"1745.38,1486.45 1745.38,1467.55 \"/>\n",
       "<polyline clip-path=\"url(#clip260)\" style=\"stroke:#000000; stroke-linecap:round; stroke-linejoin:round; stroke-width:4; stroke-opacity:1; fill:none\" points=\"2290.6,1486.45 2290.6,1467.55 \"/>\n",
       "<path clip-path=\"url(#clip260)\" d=\"M645.21 1514.29 L663.566 1514.29 L663.566 1518.22 L649.492 1518.22 L649.492 1526.7 Q650.511 1526.35 651.529 1526.19 Q652.548 1526 653.566 1526 Q659.353 1526 662.733 1529.17 Q666.112 1532.34 666.112 1537.76 Q666.112 1543.34 662.64 1546.44 Q659.168 1549.52 652.849 1549.52 Q650.673 1549.52 648.404 1549.15 Q646.159 1548.78 643.751 1548.04 L643.751 1543.34 Q645.835 1544.47 648.057 1545.03 Q650.279 1545.58 652.756 1545.58 Q656.761 1545.58 659.099 1543.48 Q661.437 1541.37 661.437 1537.76 Q661.437 1534.15 659.099 1532.04 Q656.761 1529.94 652.756 1529.94 Q650.881 1529.94 649.006 1530.35 Q647.154 1530.77 645.21 1531.65 L645.21 1514.29 Z\" fill=\"#000000\" fill-rule=\"nonzero\" fill-opacity=\"1\" /><path clip-path=\"url(#clip260)\" d=\"M1174.84 1544.91 L1182.48 1544.91 L1182.48 1518.55 L1174.17 1520.21 L1174.17 1515.95 L1182.43 1514.29 L1187.11 1514.29 L1187.11 1544.91 L1194.75 1544.91 L1194.75 1548.85 L1174.84 1548.85 L1174.84 1544.91 Z\" fill=\"#000000\" fill-rule=\"nonzero\" fill-opacity=\"1\" /><path clip-path=\"url(#clip260)\" d=\"M1214.19 1517.37 Q1210.58 1517.37 1208.75 1520.93 Q1206.95 1524.47 1206.95 1531.6 Q1206.95 1538.71 1208.75 1542.27 Q1210.58 1545.82 1214.19 1545.82 Q1217.83 1545.82 1219.63 1542.27 Q1221.46 1538.71 1221.46 1531.6 Q1221.46 1524.47 1219.63 1520.93 Q1217.83 1517.37 1214.19 1517.37 M1214.19 1513.66 Q1220 1513.66 1223.06 1518.27 Q1226.14 1522.85 1226.14 1531.6 Q1226.14 1540.33 1223.06 1544.94 Q1220 1549.52 1214.19 1549.52 Q1208.38 1549.52 1205.31 1544.94 Q1202.25 1540.33 1202.25 1531.6 Q1202.25 1522.85 1205.31 1518.27 Q1208.38 1513.66 1214.19 1513.66 Z\" fill=\"#000000\" fill-rule=\"nonzero\" fill-opacity=\"1\" /><path clip-path=\"url(#clip260)\" d=\"M1720.56 1544.91 L1728.2 1544.91 L1728.2 1518.55 L1719.89 1520.21 L1719.89 1515.95 L1728.16 1514.29 L1732.83 1514.29 L1732.83 1544.91 L1740.47 1544.91 L1740.47 1548.85 L1720.56 1548.85 L1720.56 1544.91 Z\" fill=\"#000000\" fill-rule=\"nonzero\" fill-opacity=\"1\" /><path clip-path=\"url(#clip260)\" d=\"M1749.96 1514.29 L1768.32 1514.29 L1768.32 1518.22 L1754.24 1518.22 L1754.24 1526.7 Q1755.26 1526.35 1756.28 1526.19 Q1757.3 1526 1758.32 1526 Q1764.1 1526 1767.48 1529.17 Q1770.86 1532.34 1770.86 1537.76 Q1770.86 1543.34 1767.39 1546.44 Q1763.92 1549.52 1757.6 1549.52 Q1755.42 1549.52 1753.16 1549.15 Q1750.91 1548.78 1748.5 1548.04 L1748.5 1543.34 Q1750.59 1544.47 1752.81 1545.03 Q1755.03 1545.58 1757.51 1545.58 Q1761.51 1545.58 1763.85 1543.48 Q1766.19 1541.37 1766.19 1537.76 Q1766.19 1534.15 1763.85 1532.04 Q1761.51 1529.94 1757.51 1529.94 Q1755.63 1529.94 1753.76 1530.35 Q1751.91 1530.77 1749.96 1531.65 L1749.96 1514.29 Z\" fill=\"#000000\" fill-rule=\"nonzero\" fill-opacity=\"1\" /><path clip-path=\"url(#clip260)\" d=\"M2269.37 1544.91 L2285.69 1544.91 L2285.69 1548.85 L2263.75 1548.85 L2263.75 1544.91 Q2266.41 1542.16 2270.99 1537.53 Q2275.6 1532.88 2276.78 1531.53 Q2279.03 1529.01 2279.91 1527.27 Q2280.81 1525.51 2280.81 1523.82 Q2280.81 1521.07 2278.86 1519.33 Q2276.94 1517.6 2273.84 1517.6 Q2271.64 1517.6 2269.19 1518.36 Q2266.76 1519.13 2263.98 1520.68 L2263.98 1515.95 Q2266.8 1514.82 2269.26 1514.24 Q2271.71 1513.66 2273.75 1513.66 Q2279.12 1513.66 2282.31 1516.35 Q2285.51 1519.03 2285.51 1523.52 Q2285.51 1525.65 2284.7 1527.57 Q2283.91 1529.47 2281.8 1532.07 Q2281.23 1532.74 2278.12 1535.95 Q2275.02 1539.15 2269.37 1544.91 Z\" fill=\"#000000\" fill-rule=\"nonzero\" fill-opacity=\"1\" /><path clip-path=\"url(#clip260)\" d=\"M2305.51 1517.37 Q2301.9 1517.37 2300.07 1520.93 Q2298.26 1524.47 2298.26 1531.6 Q2298.26 1538.71 2300.07 1542.27 Q2301.9 1545.82 2305.51 1545.82 Q2309.14 1545.82 2310.95 1542.27 Q2312.78 1538.71 2312.78 1531.6 Q2312.78 1524.47 2310.95 1520.93 Q2309.14 1517.37 2305.51 1517.37 M2305.51 1513.66 Q2311.32 1513.66 2314.37 1518.27 Q2317.45 1522.85 2317.45 1531.6 Q2317.45 1540.33 2314.37 1544.94 Q2311.32 1549.52 2305.51 1549.52 Q2299.7 1549.52 2296.62 1544.94 Q2293.56 1540.33 2293.56 1531.6 Q2293.56 1522.85 2296.62 1518.27 Q2299.7 1513.66 2305.51 1513.66 Z\" fill=\"#000000\" fill-rule=\"nonzero\" fill-opacity=\"1\" /><polyline clip-path=\"url(#clip260)\" style=\"stroke:#000000; stroke-linecap:round; stroke-linejoin:round; stroke-width:4; stroke-opacity:1; fill:none\" points=\"156.598,1486.45 156.598,47.2441 \"/>\n",
       "<polyline clip-path=\"url(#clip260)\" style=\"stroke:#000000; stroke-linecap:round; stroke-linejoin:round; stroke-width:4; stroke-opacity:1; fill:none\" points=\"156.598,1342.35 175.496,1342.35 \"/>\n",
       "<polyline clip-path=\"url(#clip260)\" style=\"stroke:#000000; stroke-linecap:round; stroke-linejoin:round; stroke-width:4; stroke-opacity:1; fill:none\" points=\"156.598,1134.11 175.496,1134.11 \"/>\n",
       "<polyline clip-path=\"url(#clip260)\" style=\"stroke:#000000; stroke-linecap:round; stroke-linejoin:round; stroke-width:4; stroke-opacity:1; fill:none\" points=\"156.598,925.865 175.496,925.865 \"/>\n",
       "<polyline clip-path=\"url(#clip260)\" style=\"stroke:#000000; stroke-linecap:round; stroke-linejoin:round; stroke-width:4; stroke-opacity:1; fill:none\" points=\"156.598,717.623 175.496,717.623 \"/>\n",
       "<polyline clip-path=\"url(#clip260)\" style=\"stroke:#000000; stroke-linecap:round; stroke-linejoin:round; stroke-width:4; stroke-opacity:1; fill:none\" points=\"156.598,509.38 175.496,509.38 \"/>\n",
       "<polyline clip-path=\"url(#clip260)\" style=\"stroke:#000000; stroke-linecap:round; stroke-linejoin:round; stroke-width:4; stroke-opacity:1; fill:none\" points=\"156.598,301.138 175.496,301.138 \"/>\n",
       "<polyline clip-path=\"url(#clip260)\" style=\"stroke:#000000; stroke-linecap:round; stroke-linejoin:round; stroke-width:4; stroke-opacity:1; fill:none\" points=\"156.598,92.8953 175.496,92.8953 \"/>\n",
       "<path clip-path=\"url(#clip260)\" d=\"M64.6495 1328.15 Q61.0384 1328.15 59.2097 1331.71 Q57.4041 1335.26 57.4041 1342.39 Q57.4041 1349.49 59.2097 1353.06 Q61.0384 1356.6 64.6495 1356.6 Q68.2837 1356.6 70.0892 1353.06 Q71.9179 1349.49 71.9179 1342.39 Q71.9179 1335.26 70.0892 1331.71 Q68.2837 1328.15 64.6495 1328.15 M64.6495 1324.45 Q70.4596 1324.45 73.5152 1329.05 Q76.5938 1333.64 76.5938 1342.39 Q76.5938 1351.11 73.5152 1355.72 Q70.4596 1360.3 64.6495 1360.3 Q58.8393 1360.3 55.7606 1355.72 Q52.7051 1351.11 52.7051 1342.39 Q52.7051 1333.64 55.7606 1329.05 Q58.8393 1324.45 64.6495 1324.45 Z\" fill=\"#000000\" fill-rule=\"nonzero\" fill-opacity=\"1\" /><path clip-path=\"url(#clip260)\" d=\"M84.8114 1353.75 L89.6956 1353.75 L89.6956 1359.63 L84.8114 1359.63 L84.8114 1353.75 Z\" fill=\"#000000\" fill-rule=\"nonzero\" fill-opacity=\"1\" /><path clip-path=\"url(#clip260)\" d=\"M100.691 1355.7 L108.33 1355.7 L108.33 1329.33 L100.02 1331 L100.02 1326.74 L108.283 1325.07 L112.959 1325.07 L112.959 1355.7 L120.598 1355.7 L120.598 1359.63 L100.691 1359.63 L100.691 1355.7 Z\" fill=\"#000000\" fill-rule=\"nonzero\" fill-opacity=\"1\" /><path clip-path=\"url(#clip260)\" d=\"M65.0198 1119.91 Q61.4087 1119.91 59.58 1123.47 Q57.7745 1127.01 57.7745 1134.14 Q57.7745 1141.25 59.58 1144.81 Q61.4087 1148.36 65.0198 1148.36 Q68.6541 1148.36 70.4596 1144.81 Q72.2883 1141.25 72.2883 1134.14 Q72.2883 1127.01 70.4596 1123.47 Q68.6541 1119.91 65.0198 1119.91 M65.0198 1116.2 Q70.83 1116.2 73.8855 1120.81 Q76.9642 1125.39 76.9642 1134.14 Q76.9642 1142.87 73.8855 1147.48 Q70.83 1152.06 65.0198 1152.06 Q59.2097 1152.06 56.131 1147.48 Q53.0754 1142.87 53.0754 1134.14 Q53.0754 1125.39 56.131 1120.81 Q59.2097 1116.2 65.0198 1116.2 Z\" fill=\"#000000\" fill-rule=\"nonzero\" fill-opacity=\"1\" /><path clip-path=\"url(#clip260)\" d=\"M85.1818 1145.51 L90.066 1145.51 L90.066 1151.39 L85.1818 1151.39 L85.1818 1145.51 Z\" fill=\"#000000\" fill-rule=\"nonzero\" fill-opacity=\"1\" /><path clip-path=\"url(#clip260)\" d=\"M104.279 1147.45 L120.598 1147.45 L120.598 1151.39 L98.6539 1151.39 L98.6539 1147.45 Q101.316 1144.7 105.899 1140.07 Q110.506 1135.42 111.686 1134.07 Q113.932 1131.55 114.811 1129.81 Q115.714 1128.05 115.714 1126.37 Q115.714 1123.61 113.77 1121.87 Q111.848 1120.14 108.746 1120.14 Q106.547 1120.14 104.094 1120.9 Q101.663 1121.67 98.8854 1123.22 L98.8854 1118.49 Q101.709 1117.36 104.163 1116.78 Q106.617 1116.2 108.654 1116.2 Q114.024 1116.2 117.219 1118.89 Q120.413 1121.57 120.413 1126.06 Q120.413 1128.19 119.603 1130.12 Q118.816 1132.01 116.709 1134.61 Q116.131 1135.28 113.029 1138.49 Q109.927 1141.69 104.279 1147.45 Z\" fill=\"#000000\" fill-rule=\"nonzero\" fill-opacity=\"1\" /><path clip-path=\"url(#clip260)\" d=\"M64.0708 911.664 Q60.4597 911.664 58.631 915.229 Q56.8254 918.771 56.8254 925.9 Q56.8254 933.007 58.631 936.571 Q60.4597 940.113 64.0708 940.113 Q67.705 940.113 69.5105 936.571 Q71.3392 933.007 71.3392 925.9 Q71.3392 918.771 69.5105 915.229 Q67.705 911.664 64.0708 911.664 M64.0708 907.96 Q69.8809 907.96 72.9365 912.567 Q76.0151 917.15 76.0151 925.9 Q76.0151 934.627 72.9365 939.233 Q69.8809 943.817 64.0708 943.817 Q58.2606 943.817 55.1819 939.233 Q52.1264 934.627 52.1264 925.9 Q52.1264 917.15 55.1819 912.567 Q58.2606 907.96 64.0708 907.96 Z\" fill=\"#000000\" fill-rule=\"nonzero\" fill-opacity=\"1\" /><path clip-path=\"url(#clip260)\" d=\"M84.2327 937.266 L89.1169 937.266 L89.1169 943.145 L84.2327 943.145 L84.2327 937.266 Z\" fill=\"#000000\" fill-rule=\"nonzero\" fill-opacity=\"1\" /><path clip-path=\"url(#clip260)\" d=\"M113.469 924.511 Q116.825 925.229 118.7 927.497 Q120.598 929.766 120.598 933.099 Q120.598 938.215 117.08 941.016 Q113.561 943.817 107.08 943.817 Q104.904 943.817 102.589 943.377 Q100.297 942.96 97.8437 942.104 L97.8437 937.59 Q99.7882 938.724 102.103 939.303 Q104.418 939.882 106.941 939.882 Q111.339 939.882 113.631 938.146 Q115.945 936.409 115.945 933.099 Q115.945 930.044 113.793 928.331 Q111.663 926.595 107.844 926.595 L103.816 926.595 L103.816 922.752 L108.029 922.752 Q111.478 922.752 113.307 921.386 Q115.135 919.997 115.135 917.405 Q115.135 914.743 113.237 913.331 Q111.362 911.896 107.844 911.896 Q105.922 911.896 103.723 912.312 Q101.524 912.729 98.8854 913.609 L98.8854 909.442 Q101.547 908.701 103.862 908.331 Q106.2 907.96 108.26 907.96 Q113.584 907.96 116.686 910.391 Q119.788 912.798 119.788 916.919 Q119.788 919.789 118.145 921.78 Q116.501 923.747 113.469 924.511 Z\" fill=\"#000000\" fill-rule=\"nonzero\" fill-opacity=\"1\" /><path clip-path=\"url(#clip260)\" d=\"M62.9365 703.422 Q59.3254 703.422 57.4967 706.986 Q55.6912 710.528 55.6912 717.658 Q55.6912 724.764 57.4967 728.329 Q59.3254 731.871 62.9365 731.871 Q66.5707 731.871 68.3763 728.329 Q70.205 724.764 70.205 717.658 Q70.205 710.528 68.3763 706.986 Q66.5707 703.422 62.9365 703.422 M62.9365 699.718 Q68.7467 699.718 71.8022 704.324 Q74.8809 708.908 74.8809 717.658 Q74.8809 726.384 71.8022 730.991 Q68.7467 735.574 62.9365 735.574 Q57.1264 735.574 54.0477 730.991 Q50.9921 726.384 50.9921 717.658 Q50.9921 708.908 54.0477 704.324 Q57.1264 699.718 62.9365 699.718 Z\" fill=\"#000000\" fill-rule=\"nonzero\" fill-opacity=\"1\" /><path clip-path=\"url(#clip260)\" d=\"M83.0984 729.023 L87.9827 729.023 L87.9827 734.903 L83.0984 734.903 L83.0984 729.023 Z\" fill=\"#000000\" fill-rule=\"nonzero\" fill-opacity=\"1\" /><path clip-path=\"url(#clip260)\" d=\"M111.015 704.417 L99.2095 722.866 L111.015 722.866 L111.015 704.417 M109.788 700.343 L115.668 700.343 L115.668 722.866 L120.598 722.866 L120.598 726.755 L115.668 726.755 L115.668 734.903 L111.015 734.903 L111.015 726.755 L95.4132 726.755 L95.4132 722.241 L109.788 700.343 Z\" fill=\"#000000\" fill-rule=\"nonzero\" fill-opacity=\"1\" /><path clip-path=\"url(#clip260)\" d=\"M64.418 495.179 Q60.8069 495.179 58.9782 498.744 Q57.1726 502.286 57.1726 509.415 Q57.1726 516.522 58.9782 520.086 Q60.8069 523.628 64.418 523.628 Q68.0522 523.628 69.8578 520.086 Q71.6865 516.522 71.6865 509.415 Q71.6865 502.286 69.8578 498.744 Q68.0522 495.179 64.418 495.179 M64.418 491.475 Q70.2281 491.475 73.2837 496.082 Q76.3624 500.665 76.3624 509.415 Q76.3624 518.142 73.2837 522.748 Q70.2281 527.332 64.418 527.332 Q58.6078 527.332 55.5291 522.748 Q52.4736 518.142 52.4736 509.415 Q52.4736 500.665 55.5291 496.082 Q58.6078 491.475 64.418 491.475 Z\" fill=\"#000000\" fill-rule=\"nonzero\" fill-opacity=\"1\" /><path clip-path=\"url(#clip260)\" d=\"M84.5799 520.781 L89.4641 520.781 L89.4641 526.66 L84.5799 526.66 L84.5799 520.781 Z\" fill=\"#000000\" fill-rule=\"nonzero\" fill-opacity=\"1\" /><path clip-path=\"url(#clip260)\" d=\"M99.6956 492.1 L118.052 492.1 L118.052 496.036 L103.978 496.036 L103.978 504.508 Q104.996 504.16 106.015 503.998 Q107.033 503.813 108.052 503.813 Q113.839 503.813 117.219 506.985 Q120.598 510.156 120.598 515.572 Q120.598 521.151 117.126 524.253 Q113.654 527.332 107.334 527.332 Q105.159 527.332 102.89 526.961 Q100.645 526.591 98.2372 525.85 L98.2372 521.151 Q100.321 522.285 102.543 522.841 Q104.765 523.397 107.242 523.397 Q111.246 523.397 113.584 521.29 Q115.922 519.184 115.922 515.572 Q115.922 511.961 113.584 509.855 Q111.246 507.748 107.242 507.748 Q105.367 507.748 103.492 508.165 Q101.64 508.582 99.6956 509.461 L99.6956 492.1 Z\" fill=\"#000000\" fill-rule=\"nonzero\" fill-opacity=\"1\" /><path clip-path=\"url(#clip260)\" d=\"M63.2606 286.937 Q59.6495 286.937 57.8208 290.501 Q56.0152 294.043 56.0152 301.173 Q56.0152 308.279 57.8208 311.844 Q59.6495 315.385 63.2606 315.385 Q66.8948 315.385 68.7004 311.844 Q70.5291 308.279 70.5291 301.173 Q70.5291 294.043 68.7004 290.501 Q66.8948 286.937 63.2606 286.937 M63.2606 283.233 Q69.0707 283.233 72.1263 287.839 Q75.205 292.423 75.205 301.173 Q75.205 309.899 72.1263 314.506 Q69.0707 319.089 63.2606 319.089 Q57.4504 319.089 54.3717 314.506 Q51.3162 309.899 51.3162 301.173 Q51.3162 292.423 54.3717 287.839 Q57.4504 283.233 63.2606 283.233 Z\" fill=\"#000000\" fill-rule=\"nonzero\" fill-opacity=\"1\" /><path clip-path=\"url(#clip260)\" d=\"M83.4225 312.538 L88.3067 312.538 L88.3067 318.418 L83.4225 318.418 L83.4225 312.538 Z\" fill=\"#000000\" fill-rule=\"nonzero\" fill-opacity=\"1\" /><path clip-path=\"url(#clip260)\" d=\"M109.071 299.274 Q105.922 299.274 104.071 301.427 Q102.242 303.58 102.242 307.33 Q102.242 311.057 104.071 313.233 Q105.922 315.385 109.071 315.385 Q112.219 315.385 114.047 313.233 Q115.899 311.057 115.899 307.33 Q115.899 303.58 114.047 301.427 Q112.219 299.274 109.071 299.274 M118.353 284.622 L118.353 288.881 Q116.594 288.048 114.788 287.608 Q113.006 287.168 111.246 287.168 Q106.617 287.168 104.163 290.293 Q101.733 293.418 101.385 299.737 Q102.751 297.723 104.811 296.659 Q106.871 295.571 109.348 295.571 Q114.557 295.571 117.566 298.742 Q120.598 301.89 120.598 307.33 Q120.598 312.654 117.45 315.872 Q114.302 319.089 109.071 319.089 Q103.075 319.089 99.9039 314.506 Q96.7326 309.899 96.7326 301.173 Q96.7326 292.978 100.621 288.117 Q104.51 283.233 111.061 283.233 Q112.82 283.233 114.603 283.58 Q116.408 283.927 118.353 284.622 Z\" fill=\"#000000\" fill-rule=\"nonzero\" fill-opacity=\"1\" /><path clip-path=\"url(#clip260)\" d=\"M64.3254 78.694 Q60.7143 78.694 58.8856 82.2587 Q57.0801 85.8004 57.0801 92.93 Q57.0801 100.036 58.8856 103.601 Q60.7143 107.143 64.3254 107.143 Q67.9596 107.143 69.7652 103.601 Q71.5939 100.036 71.5939 92.93 Q71.5939 85.8004 69.7652 82.2587 Q67.9596 78.694 64.3254 78.694 M64.3254 74.9903 Q70.1355 74.9903 73.1911 79.5967 Q76.2698 84.18 76.2698 92.93 Q76.2698 101.657 73.1911 106.263 Q70.1355 110.847 64.3254 110.847 Q58.5152 110.847 55.4365 106.263 Q52.381 101.657 52.381 92.93 Q52.381 84.18 55.4365 79.5967 Q58.5152 74.9903 64.3254 74.9903 Z\" fill=\"#000000\" fill-rule=\"nonzero\" fill-opacity=\"1\" /><path clip-path=\"url(#clip260)\" d=\"M84.4873 104.296 L89.3715 104.296 L89.3715 110.175 L84.4873 110.175 L84.4873 104.296 Z\" fill=\"#000000\" fill-rule=\"nonzero\" fill-opacity=\"1\" /><path clip-path=\"url(#clip260)\" d=\"M98.3761 75.6153 L120.598 75.6153 L120.598 77.606 L108.052 110.175 L103.168 110.175 L114.973 79.5504 L98.3761 79.5504 L98.3761 75.6153 Z\" fill=\"#000000\" fill-rule=\"nonzero\" fill-opacity=\"1\" /><polyline clip-path=\"url(#clip262)\" style=\"stroke:#009af9; stroke-linecap:round; stroke-linejoin:round; stroke-width:4; stroke-opacity:1; fill:none\" points=\"218.754,787.037 327.798,689.857 436.843,594.413 545.887,509.519 654.932,436.758 763.976,375.336 873.021,323.823 982.066,280.74 1091.11,244.752 1200.15,214.708 1309.2,189.63 1418.24,168.701 1527.29,151.234 1636.33,136.657 1745.38,124.493 1854.42,114.341 1963.47,105.87 2072.51,98.7998 2181.56,92.8999 2290.6,87.9763 \"/>\n",
       "<polyline clip-path=\"url(#clip262)\" style=\"stroke:#e26f46; stroke-linecap:round; stroke-linejoin:round; stroke-width:4; stroke-opacity:1; fill:none\" points=\"218.754,648.209 327.798,627.384 436.843,665.909 545.887,718.491 654.932,769.838 763.976,815.418 873.021,854.452 982.066,887.392 1091.11,915.014 1200.15,938.114 1309.2,957.409 1418.24,973.518 1527.29,986.963 1636.33,998.185 1745.38,1007.55 1854.42,1015.36 1963.47,1021.89 2072.51,1027.33 2181.56,1031.87 2290.6,1035.66 \"/>\n",
       "<polyline clip-path=\"url(#clip262)\" style=\"stroke:#3da44d; stroke-linecap:round; stroke-linejoin:round; stroke-width:4; stroke-opacity:1; fill:none\" points=\"218.754,1134.11 327.798,1252.11 436.843,1309.03 545.887,1341.34 654.932,1362.76 763.976,1378.6 873.021,1391.08 982.066,1401.22 1091.11,1409.59 1200.15,1416.53 1309.2,1422.31 1418.24,1427.14 1527.29,1431.16 1636.33,1434.51 1745.38,1437.31 1854.42,1439.65 1963.47,1441.6 2072.51,1443.22 2181.56,1444.58 2290.6,1445.72 \"/>\n",
       "<path clip-path=\"url(#clip260)\" d=\"M229.803 302.578 L502.428 302.578 L502.428 95.2176 L229.803 95.2176  Z\" fill=\"#ffffff\" fill-rule=\"evenodd\" fill-opacity=\"1\"/>\n",
       "<polyline clip-path=\"url(#clip260)\" style=\"stroke:#000000; stroke-linecap:round; stroke-linejoin:round; stroke-width:4; stroke-opacity:1; fill:none\" points=\"229.803,302.578 502.428,302.578 502.428,95.2176 229.803,95.2176 229.803,302.578 \"/>\n",
       "<polyline clip-path=\"url(#clip260)\" style=\"stroke:#009af9; stroke-linecap:round; stroke-linejoin:round; stroke-width:4; stroke-opacity:1; fill:none\" points=\"254.205,147.058 400.616,147.058 \"/>\n",
       "<path clip-path=\"url(#clip260)\" d=\"M438.86 166.745 Q437.054 171.375 435.342 172.787 Q433.629 174.199 430.758 174.199 L427.355 174.199 L427.355 170.634 L429.855 170.634 Q431.615 170.634 432.587 169.8 Q433.559 168.967 434.74 165.865 L435.504 163.921 L425.018 138.412 L429.531 138.412 L437.633 158.689 L445.735 138.412 L450.249 138.412 L438.86 166.745 Z\" fill=\"#000000\" fill-rule=\"nonzero\" fill-opacity=\"1\" /><path clip-path=\"url(#clip260)\" d=\"M457.54 160.402 L465.179 160.402 L465.179 134.037 L456.869 135.703 L456.869 131.444 L465.133 129.778 L469.809 129.778 L469.809 160.402 L477.448 160.402 L477.448 164.338 L457.54 164.338 L457.54 160.402 Z\" fill=\"#000000\" fill-rule=\"nonzero\" fill-opacity=\"1\" /><polyline clip-path=\"url(#clip260)\" style=\"stroke:#e26f46; stroke-linecap:round; stroke-linejoin:round; stroke-width:4; stroke-opacity:1; fill:none\" points=\"254.205,198.898 400.616,198.898 \"/>\n",
       "<path clip-path=\"url(#clip260)\" d=\"M438.86 218.585 Q437.054 223.215 435.342 224.627 Q433.629 226.039 430.758 226.039 L427.355 226.039 L427.355 222.474 L429.855 222.474 Q431.615 222.474 432.587 221.64 Q433.559 220.807 434.74 217.705 L435.504 215.761 L425.018 190.252 L429.531 190.252 L437.633 210.529 L445.735 190.252 L450.249 190.252 L438.86 218.585 Z\" fill=\"#000000\" fill-rule=\"nonzero\" fill-opacity=\"1\" /><path clip-path=\"url(#clip260)\" d=\"M460.758 212.242 L477.077 212.242 L477.077 216.178 L455.133 216.178 L455.133 212.242 Q457.795 209.488 462.378 204.858 Q466.985 200.205 468.165 198.863 Q470.411 196.34 471.29 194.604 Q472.193 192.844 472.193 191.155 Q472.193 188.4 470.249 186.664 Q468.327 184.928 465.226 184.928 Q463.027 184.928 460.573 185.692 Q458.142 186.455 455.365 188.006 L455.365 183.284 Q458.189 182.15 460.642 181.571 Q463.096 180.993 465.133 180.993 Q470.503 180.993 473.698 183.678 Q476.892 186.363 476.892 190.854 Q476.892 192.983 476.082 194.905 Q475.295 196.803 473.189 199.395 Q472.61 200.067 469.508 203.284 Q466.406 206.479 460.758 212.242 Z\" fill=\"#000000\" fill-rule=\"nonzero\" fill-opacity=\"1\" /><polyline clip-path=\"url(#clip260)\" style=\"stroke:#3da44d; stroke-linecap:round; stroke-linejoin:round; stroke-width:4; stroke-opacity:1; fill:none\" points=\"254.205,250.738 400.616,250.738 \"/>\n",
       "<path clip-path=\"url(#clip260)\" d=\"M438.86 270.425 Q437.054 275.055 435.342 276.467 Q433.629 277.879 430.758 277.879 L427.355 277.879 L427.355 274.314 L429.855 274.314 Q431.615 274.314 432.587 273.48 Q433.559 272.647 434.74 269.545 L435.504 267.601 L425.018 242.092 L429.531 242.092 L437.633 262.369 L445.735 242.092 L450.249 242.092 L438.86 270.425 Z\" fill=\"#000000\" fill-rule=\"nonzero\" fill-opacity=\"1\" /><path clip-path=\"url(#clip260)\" d=\"M470.897 249.383 Q474.253 250.101 476.128 252.369 Q478.026 254.638 478.026 257.971 Q478.026 263.087 474.508 265.888 Q470.989 268.689 464.508 268.689 Q462.332 268.689 460.017 268.249 Q457.726 267.832 455.272 266.976 L455.272 262.462 Q457.216 263.596 459.531 264.175 Q461.846 264.754 464.369 264.754 Q468.767 264.754 471.059 263.018 Q473.374 261.281 473.374 257.971 Q473.374 254.916 471.221 253.203 Q469.091 251.467 465.272 251.467 L461.244 251.467 L461.244 247.624 L465.457 247.624 Q468.906 247.624 470.735 246.258 Q472.564 244.87 472.564 242.277 Q472.564 239.615 470.665 238.203 Q468.79 236.768 465.272 236.768 Q463.351 236.768 461.152 237.184 Q458.953 237.601 456.314 238.481 L456.314 234.314 Q458.976 233.573 461.29 233.203 Q463.628 232.833 465.689 232.833 Q471.013 232.833 474.114 235.263 Q477.216 237.67 477.216 241.791 Q477.216 244.661 475.573 246.652 Q473.929 248.62 470.897 249.383 Z\" fill=\"#000000\" fill-rule=\"nonzero\" fill-opacity=\"1\" /></svg>\n"
      ],
      "text/html": [
       "<?xml version=\"1.0\" encoding=\"utf-8\"?>\n",
       "<svg xmlns=\"http://www.w3.org/2000/svg\" xmlns:xlink=\"http://www.w3.org/1999/xlink\" width=\"600\" height=\"400\" viewBox=\"0 0 2400 1600\">\n",
       "<defs>\n",
       "  <clipPath id=\"clip310\">\n",
       "    <rect x=\"0\" y=\"0\" width=\"2400\" height=\"1600\"/>\n",
       "  </clipPath>\n",
       "</defs>\n",
       "<path clip-path=\"url(#clip310)\" d=\"M0 1600 L2400 1600 L2400 0 L0 0  Z\" fill=\"#ffffff\" fill-rule=\"evenodd\" fill-opacity=\"1\"/>\n",
       "<defs>\n",
       "  <clipPath id=\"clip311\">\n",
       "    <rect x=\"480\" y=\"0\" width=\"1681\" height=\"1600\"/>\n",
       "  </clipPath>\n",
       "</defs>\n",
       "<path clip-path=\"url(#clip310)\" d=\"M156.598 1486.45 L2352.76 1486.45 L2352.76 47.2441 L156.598 47.2441  Z\" fill=\"#ffffff\" fill-rule=\"evenodd\" fill-opacity=\"1\"/>\n",
       "<defs>\n",
       "  <clipPath id=\"clip312\">\n",
       "    <rect x=\"156\" y=\"47\" width=\"2197\" height=\"1440\"/>\n",
       "  </clipPath>\n",
       "</defs>\n",
       "<polyline clip-path=\"url(#clip312)\" style=\"stroke:#000000; stroke-linecap:round; stroke-linejoin:round; stroke-width:2; stroke-opacity:0.1; fill:none\" points=\"654.932,1486.45 654.932,47.2441 \"/>\n",
       "<polyline clip-path=\"url(#clip312)\" style=\"stroke:#000000; stroke-linecap:round; stroke-linejoin:round; stroke-width:2; stroke-opacity:0.1; fill:none\" points=\"1200.15,1486.45 1200.15,47.2441 \"/>\n",
       "<polyline clip-path=\"url(#clip312)\" style=\"stroke:#000000; stroke-linecap:round; stroke-linejoin:round; stroke-width:2; stroke-opacity:0.1; fill:none\" points=\"1745.38,1486.45 1745.38,47.2441 \"/>\n",
       "<polyline clip-path=\"url(#clip312)\" style=\"stroke:#000000; stroke-linecap:round; stroke-linejoin:round; stroke-width:2; stroke-opacity:0.1; fill:none\" points=\"2290.6,1486.45 2290.6,47.2441 \"/>\n",
       "<polyline clip-path=\"url(#clip312)\" style=\"stroke:#000000; stroke-linecap:round; stroke-linejoin:round; stroke-width:2; stroke-opacity:0.1; fill:none\" points=\"156.598,1342.35 2352.76,1342.35 \"/>\n",
       "<polyline clip-path=\"url(#clip312)\" style=\"stroke:#000000; stroke-linecap:round; stroke-linejoin:round; stroke-width:2; stroke-opacity:0.1; fill:none\" points=\"156.598,1134.11 2352.76,1134.11 \"/>\n",
       "<polyline clip-path=\"url(#clip312)\" style=\"stroke:#000000; stroke-linecap:round; stroke-linejoin:round; stroke-width:2; stroke-opacity:0.1; fill:none\" points=\"156.598,925.865 2352.76,925.865 \"/>\n",
       "<polyline clip-path=\"url(#clip312)\" style=\"stroke:#000000; stroke-linecap:round; stroke-linejoin:round; stroke-width:2; stroke-opacity:0.1; fill:none\" points=\"156.598,717.623 2352.76,717.623 \"/>\n",
       "<polyline clip-path=\"url(#clip312)\" style=\"stroke:#000000; stroke-linecap:round; stroke-linejoin:round; stroke-width:2; stroke-opacity:0.1; fill:none\" points=\"156.598,509.38 2352.76,509.38 \"/>\n",
       "<polyline clip-path=\"url(#clip312)\" style=\"stroke:#000000; stroke-linecap:round; stroke-linejoin:round; stroke-width:2; stroke-opacity:0.1; fill:none\" points=\"156.598,301.138 2352.76,301.138 \"/>\n",
       "<polyline clip-path=\"url(#clip312)\" style=\"stroke:#000000; stroke-linecap:round; stroke-linejoin:round; stroke-width:2; stroke-opacity:0.1; fill:none\" points=\"156.598,92.8953 2352.76,92.8953 \"/>\n",
       "<polyline clip-path=\"url(#clip310)\" style=\"stroke:#000000; stroke-linecap:round; stroke-linejoin:round; stroke-width:4; stroke-opacity:1; fill:none\" points=\"156.598,1486.45 2352.76,1486.45 \"/>\n",
       "<polyline clip-path=\"url(#clip310)\" style=\"stroke:#000000; stroke-linecap:round; stroke-linejoin:round; stroke-width:4; stroke-opacity:1; fill:none\" points=\"654.932,1486.45 654.932,1467.55 \"/>\n",
       "<polyline clip-path=\"url(#clip310)\" style=\"stroke:#000000; stroke-linecap:round; stroke-linejoin:round; stroke-width:4; stroke-opacity:1; fill:none\" points=\"1200.15,1486.45 1200.15,1467.55 \"/>\n",
       "<polyline clip-path=\"url(#clip310)\" style=\"stroke:#000000; stroke-linecap:round; stroke-linejoin:round; stroke-width:4; stroke-opacity:1; fill:none\" points=\"1745.38,1486.45 1745.38,1467.55 \"/>\n",
       "<polyline clip-path=\"url(#clip310)\" style=\"stroke:#000000; stroke-linecap:round; stroke-linejoin:round; stroke-width:4; stroke-opacity:1; fill:none\" points=\"2290.6,1486.45 2290.6,1467.55 \"/>\n",
       "<path clip-path=\"url(#clip310)\" d=\"M645.21 1514.29 L663.566 1514.29 L663.566 1518.22 L649.492 1518.22 L649.492 1526.7 Q650.511 1526.35 651.529 1526.19 Q652.548 1526 653.566 1526 Q659.353 1526 662.733 1529.17 Q666.112 1532.34 666.112 1537.76 Q666.112 1543.34 662.64 1546.44 Q659.168 1549.52 652.849 1549.52 Q650.673 1549.52 648.404 1549.15 Q646.159 1548.78 643.751 1548.04 L643.751 1543.34 Q645.835 1544.47 648.057 1545.03 Q650.279 1545.58 652.756 1545.58 Q656.761 1545.58 659.099 1543.48 Q661.437 1541.37 661.437 1537.76 Q661.437 1534.15 659.099 1532.04 Q656.761 1529.94 652.756 1529.94 Q650.881 1529.94 649.006 1530.35 Q647.154 1530.77 645.21 1531.65 L645.21 1514.29 Z\" fill=\"#000000\" fill-rule=\"nonzero\" fill-opacity=\"1\" /><path clip-path=\"url(#clip310)\" d=\"M1174.84 1544.91 L1182.48 1544.91 L1182.48 1518.55 L1174.17 1520.21 L1174.17 1515.95 L1182.43 1514.29 L1187.11 1514.29 L1187.11 1544.91 L1194.75 1544.91 L1194.75 1548.85 L1174.84 1548.85 L1174.84 1544.91 Z\" fill=\"#000000\" fill-rule=\"nonzero\" fill-opacity=\"1\" /><path clip-path=\"url(#clip310)\" d=\"M1214.19 1517.37 Q1210.58 1517.37 1208.75 1520.93 Q1206.95 1524.47 1206.95 1531.6 Q1206.95 1538.71 1208.75 1542.27 Q1210.58 1545.82 1214.19 1545.82 Q1217.83 1545.82 1219.63 1542.27 Q1221.46 1538.71 1221.46 1531.6 Q1221.46 1524.47 1219.63 1520.93 Q1217.83 1517.37 1214.19 1517.37 M1214.19 1513.66 Q1220 1513.66 1223.06 1518.27 Q1226.14 1522.85 1226.14 1531.6 Q1226.14 1540.33 1223.06 1544.94 Q1220 1549.52 1214.19 1549.52 Q1208.38 1549.52 1205.31 1544.94 Q1202.25 1540.33 1202.25 1531.6 Q1202.25 1522.85 1205.31 1518.27 Q1208.38 1513.66 1214.19 1513.66 Z\" fill=\"#000000\" fill-rule=\"nonzero\" fill-opacity=\"1\" /><path clip-path=\"url(#clip310)\" d=\"M1720.56 1544.91 L1728.2 1544.91 L1728.2 1518.55 L1719.89 1520.21 L1719.89 1515.95 L1728.16 1514.29 L1732.83 1514.29 L1732.83 1544.91 L1740.47 1544.91 L1740.47 1548.85 L1720.56 1548.85 L1720.56 1544.91 Z\" fill=\"#000000\" fill-rule=\"nonzero\" fill-opacity=\"1\" /><path clip-path=\"url(#clip310)\" d=\"M1749.96 1514.29 L1768.32 1514.29 L1768.32 1518.22 L1754.24 1518.22 L1754.24 1526.7 Q1755.26 1526.35 1756.28 1526.19 Q1757.3 1526 1758.32 1526 Q1764.1 1526 1767.48 1529.17 Q1770.86 1532.34 1770.86 1537.76 Q1770.86 1543.34 1767.39 1546.44 Q1763.92 1549.52 1757.6 1549.52 Q1755.42 1549.52 1753.16 1549.15 Q1750.91 1548.78 1748.5 1548.04 L1748.5 1543.34 Q1750.59 1544.47 1752.81 1545.03 Q1755.03 1545.58 1757.51 1545.58 Q1761.51 1545.58 1763.85 1543.48 Q1766.19 1541.37 1766.19 1537.76 Q1766.19 1534.15 1763.85 1532.04 Q1761.51 1529.94 1757.51 1529.94 Q1755.63 1529.94 1753.76 1530.35 Q1751.91 1530.77 1749.96 1531.65 L1749.96 1514.29 Z\" fill=\"#000000\" fill-rule=\"nonzero\" fill-opacity=\"1\" /><path clip-path=\"url(#clip310)\" d=\"M2269.37 1544.91 L2285.69 1544.91 L2285.69 1548.85 L2263.75 1548.85 L2263.75 1544.91 Q2266.41 1542.16 2270.99 1537.53 Q2275.6 1532.88 2276.78 1531.53 Q2279.03 1529.01 2279.91 1527.27 Q2280.81 1525.51 2280.81 1523.82 Q2280.81 1521.07 2278.86 1519.33 Q2276.94 1517.6 2273.84 1517.6 Q2271.64 1517.6 2269.19 1518.36 Q2266.76 1519.13 2263.98 1520.68 L2263.98 1515.95 Q2266.8 1514.82 2269.26 1514.24 Q2271.71 1513.66 2273.75 1513.66 Q2279.12 1513.66 2282.31 1516.35 Q2285.51 1519.03 2285.51 1523.52 Q2285.51 1525.65 2284.7 1527.57 Q2283.91 1529.47 2281.8 1532.07 Q2281.23 1532.74 2278.12 1535.95 Q2275.02 1539.15 2269.37 1544.91 Z\" fill=\"#000000\" fill-rule=\"nonzero\" fill-opacity=\"1\" /><path clip-path=\"url(#clip310)\" d=\"M2305.51 1517.37 Q2301.9 1517.37 2300.07 1520.93 Q2298.26 1524.47 2298.26 1531.6 Q2298.26 1538.71 2300.07 1542.27 Q2301.9 1545.82 2305.51 1545.82 Q2309.14 1545.82 2310.95 1542.27 Q2312.78 1538.71 2312.78 1531.6 Q2312.78 1524.47 2310.95 1520.93 Q2309.14 1517.37 2305.51 1517.37 M2305.51 1513.66 Q2311.32 1513.66 2314.37 1518.27 Q2317.45 1522.85 2317.45 1531.6 Q2317.45 1540.33 2314.37 1544.94 Q2311.32 1549.52 2305.51 1549.52 Q2299.7 1549.52 2296.62 1544.94 Q2293.56 1540.33 2293.56 1531.6 Q2293.56 1522.85 2296.62 1518.27 Q2299.7 1513.66 2305.51 1513.66 Z\" fill=\"#000000\" fill-rule=\"nonzero\" fill-opacity=\"1\" /><polyline clip-path=\"url(#clip310)\" style=\"stroke:#000000; stroke-linecap:round; stroke-linejoin:round; stroke-width:4; stroke-opacity:1; fill:none\" points=\"156.598,1486.45 156.598,47.2441 \"/>\n",
       "<polyline clip-path=\"url(#clip310)\" style=\"stroke:#000000; stroke-linecap:round; stroke-linejoin:round; stroke-width:4; stroke-opacity:1; fill:none\" points=\"156.598,1342.35 175.496,1342.35 \"/>\n",
       "<polyline clip-path=\"url(#clip310)\" style=\"stroke:#000000; stroke-linecap:round; stroke-linejoin:round; stroke-width:4; stroke-opacity:1; fill:none\" points=\"156.598,1134.11 175.496,1134.11 \"/>\n",
       "<polyline clip-path=\"url(#clip310)\" style=\"stroke:#000000; stroke-linecap:round; stroke-linejoin:round; stroke-width:4; stroke-opacity:1; fill:none\" points=\"156.598,925.865 175.496,925.865 \"/>\n",
       "<polyline clip-path=\"url(#clip310)\" style=\"stroke:#000000; stroke-linecap:round; stroke-linejoin:round; stroke-width:4; stroke-opacity:1; fill:none\" points=\"156.598,717.623 175.496,717.623 \"/>\n",
       "<polyline clip-path=\"url(#clip310)\" style=\"stroke:#000000; stroke-linecap:round; stroke-linejoin:round; stroke-width:4; stroke-opacity:1; fill:none\" points=\"156.598,509.38 175.496,509.38 \"/>\n",
       "<polyline clip-path=\"url(#clip310)\" style=\"stroke:#000000; stroke-linecap:round; stroke-linejoin:round; stroke-width:4; stroke-opacity:1; fill:none\" points=\"156.598,301.138 175.496,301.138 \"/>\n",
       "<polyline clip-path=\"url(#clip310)\" style=\"stroke:#000000; stroke-linecap:round; stroke-linejoin:round; stroke-width:4; stroke-opacity:1; fill:none\" points=\"156.598,92.8953 175.496,92.8953 \"/>\n",
       "<path clip-path=\"url(#clip310)\" d=\"M64.6495 1328.15 Q61.0384 1328.15 59.2097 1331.71 Q57.4041 1335.26 57.4041 1342.39 Q57.4041 1349.49 59.2097 1353.06 Q61.0384 1356.6 64.6495 1356.6 Q68.2837 1356.6 70.0892 1353.06 Q71.9179 1349.49 71.9179 1342.39 Q71.9179 1335.26 70.0892 1331.71 Q68.2837 1328.15 64.6495 1328.15 M64.6495 1324.45 Q70.4596 1324.45 73.5152 1329.05 Q76.5938 1333.64 76.5938 1342.39 Q76.5938 1351.11 73.5152 1355.72 Q70.4596 1360.3 64.6495 1360.3 Q58.8393 1360.3 55.7606 1355.72 Q52.7051 1351.11 52.7051 1342.39 Q52.7051 1333.64 55.7606 1329.05 Q58.8393 1324.45 64.6495 1324.45 Z\" fill=\"#000000\" fill-rule=\"nonzero\" fill-opacity=\"1\" /><path clip-path=\"url(#clip310)\" d=\"M84.8114 1353.75 L89.6956 1353.75 L89.6956 1359.63 L84.8114 1359.63 L84.8114 1353.75 Z\" fill=\"#000000\" fill-rule=\"nonzero\" fill-opacity=\"1\" /><path clip-path=\"url(#clip310)\" d=\"M100.691 1355.7 L108.33 1355.7 L108.33 1329.33 L100.02 1331 L100.02 1326.74 L108.283 1325.07 L112.959 1325.07 L112.959 1355.7 L120.598 1355.7 L120.598 1359.63 L100.691 1359.63 L100.691 1355.7 Z\" fill=\"#000000\" fill-rule=\"nonzero\" fill-opacity=\"1\" /><path clip-path=\"url(#clip310)\" d=\"M65.0198 1119.91 Q61.4087 1119.91 59.58 1123.47 Q57.7745 1127.01 57.7745 1134.14 Q57.7745 1141.25 59.58 1144.81 Q61.4087 1148.36 65.0198 1148.36 Q68.6541 1148.36 70.4596 1144.81 Q72.2883 1141.25 72.2883 1134.14 Q72.2883 1127.01 70.4596 1123.47 Q68.6541 1119.91 65.0198 1119.91 M65.0198 1116.2 Q70.83 1116.2 73.8855 1120.81 Q76.9642 1125.39 76.9642 1134.14 Q76.9642 1142.87 73.8855 1147.48 Q70.83 1152.06 65.0198 1152.06 Q59.2097 1152.06 56.131 1147.48 Q53.0754 1142.87 53.0754 1134.14 Q53.0754 1125.39 56.131 1120.81 Q59.2097 1116.2 65.0198 1116.2 Z\" fill=\"#000000\" fill-rule=\"nonzero\" fill-opacity=\"1\" /><path clip-path=\"url(#clip310)\" d=\"M85.1818 1145.51 L90.066 1145.51 L90.066 1151.39 L85.1818 1151.39 L85.1818 1145.51 Z\" fill=\"#000000\" fill-rule=\"nonzero\" fill-opacity=\"1\" /><path clip-path=\"url(#clip310)\" d=\"M104.279 1147.45 L120.598 1147.45 L120.598 1151.39 L98.6539 1151.39 L98.6539 1147.45 Q101.316 1144.7 105.899 1140.07 Q110.506 1135.42 111.686 1134.07 Q113.932 1131.55 114.811 1129.81 Q115.714 1128.05 115.714 1126.37 Q115.714 1123.61 113.77 1121.87 Q111.848 1120.14 108.746 1120.14 Q106.547 1120.14 104.094 1120.9 Q101.663 1121.67 98.8854 1123.22 L98.8854 1118.49 Q101.709 1117.36 104.163 1116.78 Q106.617 1116.2 108.654 1116.2 Q114.024 1116.2 117.219 1118.89 Q120.413 1121.57 120.413 1126.06 Q120.413 1128.19 119.603 1130.12 Q118.816 1132.01 116.709 1134.61 Q116.131 1135.28 113.029 1138.49 Q109.927 1141.69 104.279 1147.45 Z\" fill=\"#000000\" fill-rule=\"nonzero\" fill-opacity=\"1\" /><path clip-path=\"url(#clip310)\" d=\"M64.0708 911.664 Q60.4597 911.664 58.631 915.229 Q56.8254 918.771 56.8254 925.9 Q56.8254 933.007 58.631 936.571 Q60.4597 940.113 64.0708 940.113 Q67.705 940.113 69.5105 936.571 Q71.3392 933.007 71.3392 925.9 Q71.3392 918.771 69.5105 915.229 Q67.705 911.664 64.0708 911.664 M64.0708 907.96 Q69.8809 907.96 72.9365 912.567 Q76.0151 917.15 76.0151 925.9 Q76.0151 934.627 72.9365 939.233 Q69.8809 943.817 64.0708 943.817 Q58.2606 943.817 55.1819 939.233 Q52.1264 934.627 52.1264 925.9 Q52.1264 917.15 55.1819 912.567 Q58.2606 907.96 64.0708 907.96 Z\" fill=\"#000000\" fill-rule=\"nonzero\" fill-opacity=\"1\" /><path clip-path=\"url(#clip310)\" d=\"M84.2327 937.266 L89.1169 937.266 L89.1169 943.145 L84.2327 943.145 L84.2327 937.266 Z\" fill=\"#000000\" fill-rule=\"nonzero\" fill-opacity=\"1\" /><path clip-path=\"url(#clip310)\" d=\"M113.469 924.511 Q116.825 925.229 118.7 927.497 Q120.598 929.766 120.598 933.099 Q120.598 938.215 117.08 941.016 Q113.561 943.817 107.08 943.817 Q104.904 943.817 102.589 943.377 Q100.297 942.96 97.8437 942.104 L97.8437 937.59 Q99.7882 938.724 102.103 939.303 Q104.418 939.882 106.941 939.882 Q111.339 939.882 113.631 938.146 Q115.945 936.409 115.945 933.099 Q115.945 930.044 113.793 928.331 Q111.663 926.595 107.844 926.595 L103.816 926.595 L103.816 922.752 L108.029 922.752 Q111.478 922.752 113.307 921.386 Q115.135 919.997 115.135 917.405 Q115.135 914.743 113.237 913.331 Q111.362 911.896 107.844 911.896 Q105.922 911.896 103.723 912.312 Q101.524 912.729 98.8854 913.609 L98.8854 909.442 Q101.547 908.701 103.862 908.331 Q106.2 907.96 108.26 907.96 Q113.584 907.96 116.686 910.391 Q119.788 912.798 119.788 916.919 Q119.788 919.789 118.145 921.78 Q116.501 923.747 113.469 924.511 Z\" fill=\"#000000\" fill-rule=\"nonzero\" fill-opacity=\"1\" /><path clip-path=\"url(#clip310)\" d=\"M62.9365 703.422 Q59.3254 703.422 57.4967 706.986 Q55.6912 710.528 55.6912 717.658 Q55.6912 724.764 57.4967 728.329 Q59.3254 731.871 62.9365 731.871 Q66.5707 731.871 68.3763 728.329 Q70.205 724.764 70.205 717.658 Q70.205 710.528 68.3763 706.986 Q66.5707 703.422 62.9365 703.422 M62.9365 699.718 Q68.7467 699.718 71.8022 704.324 Q74.8809 708.908 74.8809 717.658 Q74.8809 726.384 71.8022 730.991 Q68.7467 735.574 62.9365 735.574 Q57.1264 735.574 54.0477 730.991 Q50.9921 726.384 50.9921 717.658 Q50.9921 708.908 54.0477 704.324 Q57.1264 699.718 62.9365 699.718 Z\" fill=\"#000000\" fill-rule=\"nonzero\" fill-opacity=\"1\" /><path clip-path=\"url(#clip310)\" d=\"M83.0984 729.023 L87.9827 729.023 L87.9827 734.903 L83.0984 734.903 L83.0984 729.023 Z\" fill=\"#000000\" fill-rule=\"nonzero\" fill-opacity=\"1\" /><path clip-path=\"url(#clip310)\" d=\"M111.015 704.417 L99.2095 722.866 L111.015 722.866 L111.015 704.417 M109.788 700.343 L115.668 700.343 L115.668 722.866 L120.598 722.866 L120.598 726.755 L115.668 726.755 L115.668 734.903 L111.015 734.903 L111.015 726.755 L95.4132 726.755 L95.4132 722.241 L109.788 700.343 Z\" fill=\"#000000\" fill-rule=\"nonzero\" fill-opacity=\"1\" /><path clip-path=\"url(#clip310)\" d=\"M64.418 495.179 Q60.8069 495.179 58.9782 498.744 Q57.1726 502.286 57.1726 509.415 Q57.1726 516.522 58.9782 520.086 Q60.8069 523.628 64.418 523.628 Q68.0522 523.628 69.8578 520.086 Q71.6865 516.522 71.6865 509.415 Q71.6865 502.286 69.8578 498.744 Q68.0522 495.179 64.418 495.179 M64.418 491.475 Q70.2281 491.475 73.2837 496.082 Q76.3624 500.665 76.3624 509.415 Q76.3624 518.142 73.2837 522.748 Q70.2281 527.332 64.418 527.332 Q58.6078 527.332 55.5291 522.748 Q52.4736 518.142 52.4736 509.415 Q52.4736 500.665 55.5291 496.082 Q58.6078 491.475 64.418 491.475 Z\" fill=\"#000000\" fill-rule=\"nonzero\" fill-opacity=\"1\" /><path clip-path=\"url(#clip310)\" d=\"M84.5799 520.781 L89.4641 520.781 L89.4641 526.66 L84.5799 526.66 L84.5799 520.781 Z\" fill=\"#000000\" fill-rule=\"nonzero\" fill-opacity=\"1\" /><path clip-path=\"url(#clip310)\" d=\"M99.6956 492.1 L118.052 492.1 L118.052 496.036 L103.978 496.036 L103.978 504.508 Q104.996 504.16 106.015 503.998 Q107.033 503.813 108.052 503.813 Q113.839 503.813 117.219 506.985 Q120.598 510.156 120.598 515.572 Q120.598 521.151 117.126 524.253 Q113.654 527.332 107.334 527.332 Q105.159 527.332 102.89 526.961 Q100.645 526.591 98.2372 525.85 L98.2372 521.151 Q100.321 522.285 102.543 522.841 Q104.765 523.397 107.242 523.397 Q111.246 523.397 113.584 521.29 Q115.922 519.184 115.922 515.572 Q115.922 511.961 113.584 509.855 Q111.246 507.748 107.242 507.748 Q105.367 507.748 103.492 508.165 Q101.64 508.582 99.6956 509.461 L99.6956 492.1 Z\" fill=\"#000000\" fill-rule=\"nonzero\" fill-opacity=\"1\" /><path clip-path=\"url(#clip310)\" d=\"M63.2606 286.937 Q59.6495 286.937 57.8208 290.501 Q56.0152 294.043 56.0152 301.173 Q56.0152 308.279 57.8208 311.844 Q59.6495 315.385 63.2606 315.385 Q66.8948 315.385 68.7004 311.844 Q70.5291 308.279 70.5291 301.173 Q70.5291 294.043 68.7004 290.501 Q66.8948 286.937 63.2606 286.937 M63.2606 283.233 Q69.0707 283.233 72.1263 287.839 Q75.205 292.423 75.205 301.173 Q75.205 309.899 72.1263 314.506 Q69.0707 319.089 63.2606 319.089 Q57.4504 319.089 54.3717 314.506 Q51.3162 309.899 51.3162 301.173 Q51.3162 292.423 54.3717 287.839 Q57.4504 283.233 63.2606 283.233 Z\" fill=\"#000000\" fill-rule=\"nonzero\" fill-opacity=\"1\" /><path clip-path=\"url(#clip310)\" d=\"M83.4225 312.538 L88.3067 312.538 L88.3067 318.418 L83.4225 318.418 L83.4225 312.538 Z\" fill=\"#000000\" fill-rule=\"nonzero\" fill-opacity=\"1\" /><path clip-path=\"url(#clip310)\" d=\"M109.071 299.274 Q105.922 299.274 104.071 301.427 Q102.242 303.58 102.242 307.33 Q102.242 311.057 104.071 313.233 Q105.922 315.385 109.071 315.385 Q112.219 315.385 114.047 313.233 Q115.899 311.057 115.899 307.33 Q115.899 303.58 114.047 301.427 Q112.219 299.274 109.071 299.274 M118.353 284.622 L118.353 288.881 Q116.594 288.048 114.788 287.608 Q113.006 287.168 111.246 287.168 Q106.617 287.168 104.163 290.293 Q101.733 293.418 101.385 299.737 Q102.751 297.723 104.811 296.659 Q106.871 295.571 109.348 295.571 Q114.557 295.571 117.566 298.742 Q120.598 301.89 120.598 307.33 Q120.598 312.654 117.45 315.872 Q114.302 319.089 109.071 319.089 Q103.075 319.089 99.9039 314.506 Q96.7326 309.899 96.7326 301.173 Q96.7326 292.978 100.621 288.117 Q104.51 283.233 111.061 283.233 Q112.82 283.233 114.603 283.58 Q116.408 283.927 118.353 284.622 Z\" fill=\"#000000\" fill-rule=\"nonzero\" fill-opacity=\"1\" /><path clip-path=\"url(#clip310)\" d=\"M64.3254 78.694 Q60.7143 78.694 58.8856 82.2587 Q57.0801 85.8004 57.0801 92.93 Q57.0801 100.036 58.8856 103.601 Q60.7143 107.143 64.3254 107.143 Q67.9596 107.143 69.7652 103.601 Q71.5939 100.036 71.5939 92.93 Q71.5939 85.8004 69.7652 82.2587 Q67.9596 78.694 64.3254 78.694 M64.3254 74.9903 Q70.1355 74.9903 73.1911 79.5967 Q76.2698 84.18 76.2698 92.93 Q76.2698 101.657 73.1911 106.263 Q70.1355 110.847 64.3254 110.847 Q58.5152 110.847 55.4365 106.263 Q52.381 101.657 52.381 92.93 Q52.381 84.18 55.4365 79.5967 Q58.5152 74.9903 64.3254 74.9903 Z\" fill=\"#000000\" fill-rule=\"nonzero\" fill-opacity=\"1\" /><path clip-path=\"url(#clip310)\" d=\"M84.4873 104.296 L89.3715 104.296 L89.3715 110.175 L84.4873 110.175 L84.4873 104.296 Z\" fill=\"#000000\" fill-rule=\"nonzero\" fill-opacity=\"1\" /><path clip-path=\"url(#clip310)\" d=\"M98.3761 75.6153 L120.598 75.6153 L120.598 77.606 L108.052 110.175 L103.168 110.175 L114.973 79.5504 L98.3761 79.5504 L98.3761 75.6153 Z\" fill=\"#000000\" fill-rule=\"nonzero\" fill-opacity=\"1\" /><polyline clip-path=\"url(#clip312)\" style=\"stroke:#009af9; stroke-linecap:round; stroke-linejoin:round; stroke-width:4; stroke-opacity:1; fill:none\" points=\"218.754,787.037 327.798,689.857 436.843,594.413 545.887,509.519 654.932,436.758 763.976,375.336 873.021,323.823 982.066,280.74 1091.11,244.752 1200.15,214.708 1309.2,189.63 1418.24,168.701 1527.29,151.234 1636.33,136.657 1745.38,124.493 1854.42,114.341 1963.47,105.87 2072.51,98.7998 2181.56,92.8999 2290.6,87.9763 \"/>\n",
       "<polyline clip-path=\"url(#clip312)\" style=\"stroke:#e26f46; stroke-linecap:round; stroke-linejoin:round; stroke-width:4; stroke-opacity:1; fill:none\" points=\"218.754,648.209 327.798,627.384 436.843,665.909 545.887,718.491 654.932,769.838 763.976,815.418 873.021,854.452 982.066,887.392 1091.11,915.014 1200.15,938.114 1309.2,957.409 1418.24,973.518 1527.29,986.963 1636.33,998.185 1745.38,1007.55 1854.42,1015.36 1963.47,1021.89 2072.51,1027.33 2181.56,1031.87 2290.6,1035.66 \"/>\n",
       "<polyline clip-path=\"url(#clip312)\" style=\"stroke:#3da44d; stroke-linecap:round; stroke-linejoin:round; stroke-width:4; stroke-opacity:1; fill:none\" points=\"218.754,1134.11 327.798,1252.11 436.843,1309.03 545.887,1341.34 654.932,1362.76 763.976,1378.6 873.021,1391.08 982.066,1401.22 1091.11,1409.59 1200.15,1416.53 1309.2,1422.31 1418.24,1427.14 1527.29,1431.16 1636.33,1434.51 1745.38,1437.31 1854.42,1439.65 1963.47,1441.6 2072.51,1443.22 2181.56,1444.58 2290.6,1445.72 \"/>\n",
       "<path clip-path=\"url(#clip310)\" d=\"M229.803 302.578 L502.428 302.578 L502.428 95.2176 L229.803 95.2176  Z\" fill=\"#ffffff\" fill-rule=\"evenodd\" fill-opacity=\"1\"/>\n",
       "<polyline clip-path=\"url(#clip310)\" style=\"stroke:#000000; stroke-linecap:round; stroke-linejoin:round; stroke-width:4; stroke-opacity:1; fill:none\" points=\"229.803,302.578 502.428,302.578 502.428,95.2176 229.803,95.2176 229.803,302.578 \"/>\n",
       "<polyline clip-path=\"url(#clip310)\" style=\"stroke:#009af9; stroke-linecap:round; stroke-linejoin:round; stroke-width:4; stroke-opacity:1; fill:none\" points=\"254.205,147.058 400.616,147.058 \"/>\n",
       "<path clip-path=\"url(#clip310)\" d=\"M438.86 166.745 Q437.054 171.375 435.342 172.787 Q433.629 174.199 430.758 174.199 L427.355 174.199 L427.355 170.634 L429.855 170.634 Q431.615 170.634 432.587 169.8 Q433.559 168.967 434.74 165.865 L435.504 163.921 L425.018 138.412 L429.531 138.412 L437.633 158.689 L445.735 138.412 L450.249 138.412 L438.86 166.745 Z\" fill=\"#000000\" fill-rule=\"nonzero\" fill-opacity=\"1\" /><path clip-path=\"url(#clip310)\" d=\"M457.54 160.402 L465.179 160.402 L465.179 134.037 L456.869 135.703 L456.869 131.444 L465.133 129.778 L469.809 129.778 L469.809 160.402 L477.448 160.402 L477.448 164.338 L457.54 164.338 L457.54 160.402 Z\" fill=\"#000000\" fill-rule=\"nonzero\" fill-opacity=\"1\" /><polyline clip-path=\"url(#clip310)\" style=\"stroke:#e26f46; stroke-linecap:round; stroke-linejoin:round; stroke-width:4; stroke-opacity:1; fill:none\" points=\"254.205,198.898 400.616,198.898 \"/>\n",
       "<path clip-path=\"url(#clip310)\" d=\"M438.86 218.585 Q437.054 223.215 435.342 224.627 Q433.629 226.039 430.758 226.039 L427.355 226.039 L427.355 222.474 L429.855 222.474 Q431.615 222.474 432.587 221.64 Q433.559 220.807 434.74 217.705 L435.504 215.761 L425.018 190.252 L429.531 190.252 L437.633 210.529 L445.735 190.252 L450.249 190.252 L438.86 218.585 Z\" fill=\"#000000\" fill-rule=\"nonzero\" fill-opacity=\"1\" /><path clip-path=\"url(#clip310)\" d=\"M460.758 212.242 L477.077 212.242 L477.077 216.178 L455.133 216.178 L455.133 212.242 Q457.795 209.488 462.378 204.858 Q466.985 200.205 468.165 198.863 Q470.411 196.34 471.29 194.604 Q472.193 192.844 472.193 191.155 Q472.193 188.4 470.249 186.664 Q468.327 184.928 465.226 184.928 Q463.027 184.928 460.573 185.692 Q458.142 186.455 455.365 188.006 L455.365 183.284 Q458.189 182.15 460.642 181.571 Q463.096 180.993 465.133 180.993 Q470.503 180.993 473.698 183.678 Q476.892 186.363 476.892 190.854 Q476.892 192.983 476.082 194.905 Q475.295 196.803 473.189 199.395 Q472.61 200.067 469.508 203.284 Q466.406 206.479 460.758 212.242 Z\" fill=\"#000000\" fill-rule=\"nonzero\" fill-opacity=\"1\" /><polyline clip-path=\"url(#clip310)\" style=\"stroke:#3da44d; stroke-linecap:round; stroke-linejoin:round; stroke-width:4; stroke-opacity:1; fill:none\" points=\"254.205,250.738 400.616,250.738 \"/>\n",
       "<path clip-path=\"url(#clip310)\" d=\"M438.86 270.425 Q437.054 275.055 435.342 276.467 Q433.629 277.879 430.758 277.879 L427.355 277.879 L427.355 274.314 L429.855 274.314 Q431.615 274.314 432.587 273.48 Q433.559 272.647 434.74 269.545 L435.504 267.601 L425.018 242.092 L429.531 242.092 L437.633 262.369 L445.735 242.092 L450.249 242.092 L438.86 270.425 Z\" fill=\"#000000\" fill-rule=\"nonzero\" fill-opacity=\"1\" /><path clip-path=\"url(#clip310)\" d=\"M470.897 249.383 Q474.253 250.101 476.128 252.369 Q478.026 254.638 478.026 257.971 Q478.026 263.087 474.508 265.888 Q470.989 268.689 464.508 268.689 Q462.332 268.689 460.017 268.249 Q457.726 267.832 455.272 266.976 L455.272 262.462 Q457.216 263.596 459.531 264.175 Q461.846 264.754 464.369 264.754 Q468.767 264.754 471.059 263.018 Q473.374 261.281 473.374 257.971 Q473.374 254.916 471.221 253.203 Q469.091 251.467 465.272 251.467 L461.244 251.467 L461.244 247.624 L465.457 247.624 Q468.906 247.624 470.735 246.258 Q472.564 244.87 472.564 242.277 Q472.564 239.615 470.665 238.203 Q468.79 236.768 465.272 236.768 Q463.351 236.768 461.152 237.184 Q458.953 237.601 456.314 238.481 L456.314 234.314 Q458.976 233.573 461.29 233.203 Q463.628 232.833 465.689 232.833 Q471.013 232.833 474.114 235.263 Q477.216 237.67 477.216 241.791 Q477.216 244.661 475.573 246.652 Q473.929 248.62 470.897 249.383 Z\" fill=\"#000000\" fill-rule=\"nonzero\" fill-opacity=\"1\" /></svg>\n"
      ]
     },
     "metadata": {},
     "output_type": "display_data"
    }
   ],
   "source": [
    "time = 1:20\n",
    "plot(time, state1) # Plot state 1 density\n",
    "plot!(time, state2) # Plot state 2 density\n",
    "plot!(time, state3) # Plot state 3 density"
   ]
  },
  {
   "cell_type": "markdown",
   "metadata": {},
   "source": [
    "Notice that with time, being in state 1 becomes more likely, while states 2 and 3 becomes less likely."
   ]
  },
  {
   "cell_type": "markdown",
   "metadata": {},
   "source": [
    "We may also create a separate plot for each series, but include them in a single composition:"
   ]
  },
  {
   "cell_type": "code",
   "execution_count": 51,
   "metadata": {},
   "outputs": [
    {
     "data": {
      "image/png": "[encoded data removed]",
      "image/svg+xml": [
       "<?xml version=\"1.0\" encoding=\"utf-8\"?>\n",
       "<svg xmlns=\"http://www.w3.org/2000/svg\" xmlns:xlink=\"http://www.w3.org/1999/xlink\" width=\"600\" height=\"400\" viewBox=\"0 0 2400 1600\">\n",
       "<defs>\n",
       "  <clipPath id=\"clip350\">\n",
       "    <rect x=\"0\" y=\"0\" width=\"2400\" height=\"1600\"/>\n",
       "  </clipPath>\n",
       "</defs>\n",
       "<path clip-path=\"url(#clip350)\" d=\"M0 1600 L2400 1600 L2400 0 L0 0  Z\" fill=\"#ffffff\" fill-rule=\"evenodd\" fill-opacity=\"1\"/>\n",
       "<defs>\n",
       "  <clipPath id=\"clip351\">\n",
       "    <rect x=\"480\" y=\"0\" width=\"1681\" height=\"1600\"/>\n",
       "  </clipPath>\n",
       "</defs>\n",
       "<path clip-path=\"url(#clip350)\" d=\"M186.436 686.448 L1152.84 686.448 L1152.84 123.472 L186.436 123.472  Z\" fill=\"#ffffff\" fill-rule=\"evenodd\" fill-opacity=\"1\"/>\n",
       "<defs>\n",
       "  <clipPath id=\"clip352\">\n",
       "    <rect x=\"186\" y=\"123\" width=\"967\" height=\"564\"/>\n",
       "  </clipPath>\n",
       "</defs>\n",
       "<polyline clip-path=\"url(#clip352)\" style=\"stroke:#000000; stroke-linecap:round; stroke-linejoin:round; stroke-width:2; stroke-opacity:0.1; fill:none\" points=\"405.724,686.448 405.724,123.472 \"/>\n",
       "<polyline clip-path=\"url(#clip352)\" style=\"stroke:#000000; stroke-linecap:round; stroke-linejoin:round; stroke-width:2; stroke-opacity:0.1; fill:none\" points=\"645.644,686.448 645.644,123.472 \"/>\n",
       "<polyline clip-path=\"url(#clip352)\" style=\"stroke:#000000; stroke-linecap:round; stroke-linejoin:round; stroke-width:2; stroke-opacity:0.1; fill:none\" points=\"885.565,686.448 885.565,123.472 \"/>\n",
       "<polyline clip-path=\"url(#clip352)\" style=\"stroke:#000000; stroke-linecap:round; stroke-linejoin:round; stroke-width:2; stroke-opacity:0.1; fill:none\" points=\"1125.49,686.448 1125.49,123.472 \"/>\n",
       "<polyline clip-path=\"url(#clip352)\" style=\"stroke:#000000; stroke-linecap:round; stroke-linejoin:round; stroke-width:2; stroke-opacity:0.1; fill:none\" points=\"186.436,617.777 1152.84,617.777 \"/>\n",
       "<polyline clip-path=\"url(#clip352)\" style=\"stroke:#000000; stroke-linecap:round; stroke-linejoin:round; stroke-width:2; stroke-opacity:0.1; fill:none\" points=\"186.436,459.566 1152.84,459.566 \"/>\n",
       "<polyline clip-path=\"url(#clip352)\" style=\"stroke:#000000; stroke-linecap:round; stroke-linejoin:round; stroke-width:2; stroke-opacity:0.1; fill:none\" points=\"186.436,301.354 1152.84,301.354 \"/>\n",
       "<polyline clip-path=\"url(#clip352)\" style=\"stroke:#000000; stroke-linecap:round; stroke-linejoin:round; stroke-width:2; stroke-opacity:0.1; fill:none\" points=\"186.436,143.143 1152.84,143.143 \"/>\n",
       "<polyline clip-path=\"url(#clip350)\" style=\"stroke:#000000; stroke-linecap:round; stroke-linejoin:round; stroke-width:4; stroke-opacity:1; fill:none\" points=\"186.436,686.448 1152.84,686.448 \"/>\n",
       "<polyline clip-path=\"url(#clip350)\" style=\"stroke:#000000; stroke-linecap:round; stroke-linejoin:round; stroke-width:4; stroke-opacity:1; fill:none\" points=\"405.724,686.448 405.724,667.55 \"/>\n",
       "<polyline clip-path=\"url(#clip350)\" style=\"stroke:#000000; stroke-linecap:round; stroke-linejoin:round; stroke-width:4; stroke-opacity:1; fill:none\" points=\"645.644,686.448 645.644,667.55 \"/>\n",
       "<polyline clip-path=\"url(#clip350)\" style=\"stroke:#000000; stroke-linecap:round; stroke-linejoin:round; stroke-width:4; stroke-opacity:1; fill:none\" points=\"885.565,686.448 885.565,667.55 \"/>\n",
       "<polyline clip-path=\"url(#clip350)\" style=\"stroke:#000000; stroke-linecap:round; stroke-linejoin:round; stroke-width:4; stroke-opacity:1; fill:none\" points=\"1125.49,686.448 1125.49,667.55 \"/>\n",
       "<path clip-path=\"url(#clip350)\" d=\"M396.001 714.288 L414.358 714.288 L414.358 718.223 L400.284 718.223 L400.284 726.695 Q401.302 726.348 402.321 726.186 Q403.339 726.001 404.358 726.001 Q410.145 726.001 413.525 729.172 Q416.904 732.343 416.904 737.76 Q416.904 743.339 413.432 746.44 Q409.96 749.519 403.64 749.519 Q401.464 749.519 399.196 749.149 Q396.951 748.778 394.543 748.038 L394.543 743.339 Q396.626 744.473 398.849 745.028 Q401.071 745.584 403.548 745.584 Q407.552 745.584 409.89 743.478 Q412.228 741.371 412.228 737.76 Q412.228 734.149 409.89 732.042 Q407.552 729.936 403.548 729.936 Q401.673 729.936 399.798 730.353 Q397.946 730.769 396.001 731.649 L396.001 714.288 Z\" fill=\"#000000\" fill-rule=\"nonzero\" fill-opacity=\"1\" /><path clip-path=\"url(#clip350)\" d=\"M620.332 744.913 L627.971 744.913 L627.971 718.547 L619.661 720.214 L619.661 715.955 L627.925 714.288 L632.6 714.288 L632.6 744.913 L640.239 744.913 L640.239 748.848 L620.332 748.848 L620.332 744.913 Z\" fill=\"#000000\" fill-rule=\"nonzero\" fill-opacity=\"1\" /><path clip-path=\"url(#clip350)\" d=\"M659.684 717.367 Q656.073 717.367 654.244 720.931 Q652.438 724.473 652.438 731.603 Q652.438 738.709 654.244 742.274 Q656.073 745.815 659.684 745.815 Q663.318 745.815 665.123 742.274 Q666.952 738.709 666.952 731.603 Q666.952 724.473 665.123 720.931 Q663.318 717.367 659.684 717.367 M659.684 713.663 Q665.494 713.663 668.549 718.269 Q671.628 722.853 671.628 731.603 Q671.628 740.329 668.549 744.936 Q665.494 749.519 659.684 749.519 Q653.874 749.519 650.795 744.936 Q647.739 740.329 647.739 731.603 Q647.739 722.853 650.795 718.269 Q653.874 713.663 659.684 713.663 Z\" fill=\"#000000\" fill-rule=\"nonzero\" fill-opacity=\"1\" /><path clip-path=\"url(#clip350)\" d=\"M860.75 744.913 L868.389 744.913 L868.389 718.547 L860.079 720.214 L860.079 715.955 L868.343 714.288 L873.019 714.288 L873.019 744.913 L880.658 744.913 L880.658 748.848 L860.75 748.848 L860.75 744.913 Z\" fill=\"#000000\" fill-rule=\"nonzero\" fill-opacity=\"1\" /><path clip-path=\"url(#clip350)\" d=\"M890.148 714.288 L908.505 714.288 L908.505 718.223 L894.431 718.223 L894.431 726.695 Q895.449 726.348 896.468 726.186 Q897.486 726.001 898.505 726.001 Q904.292 726.001 907.672 729.172 Q911.051 732.343 911.051 737.76 Q911.051 743.339 907.579 746.44 Q904.107 749.519 897.787 749.519 Q895.611 749.519 893.343 749.149 Q891.098 748.778 888.69 748.038 L888.69 743.339 Q890.773 744.473 892.996 745.028 Q895.218 745.584 897.695 745.584 Q901.699 745.584 904.037 743.478 Q906.375 741.371 906.375 737.76 Q906.375 734.149 904.037 732.042 Q901.699 729.936 897.695 729.936 Q895.82 729.936 893.945 730.353 Q892.093 730.769 890.148 731.649 L890.148 714.288 Z\" fill=\"#000000\" fill-rule=\"nonzero\" fill-opacity=\"1\" /><path clip-path=\"url(#clip350)\" d=\"M1104.26 744.913 L1120.58 744.913 L1120.58 748.848 L1098.63 748.848 L1098.63 744.913 Q1101.3 742.158 1105.88 737.528 Q1110.49 732.876 1111.67 731.533 Q1113.91 729.01 1114.79 727.274 Q1115.69 725.515 1115.69 723.825 Q1115.69 721.07 1113.75 719.334 Q1111.83 717.598 1108.73 717.598 Q1106.53 717.598 1104.07 718.362 Q1101.64 719.126 1098.87 720.677 L1098.87 715.955 Q1101.69 714.82 1104.14 714.242 Q1106.6 713.663 1108.63 713.663 Q1114 713.663 1117.2 716.348 Q1120.39 719.033 1120.39 723.524 Q1120.39 725.654 1119.58 727.575 Q1118.8 729.473 1116.69 732.066 Q1116.11 732.737 1113.01 735.954 Q1109.91 739.149 1104.26 744.913 Z\" fill=\"#000000\" fill-rule=\"nonzero\" fill-opacity=\"1\" /><path clip-path=\"url(#clip350)\" d=\"M1140.39 717.367 Q1136.78 717.367 1134.95 720.931 Q1133.15 724.473 1133.15 731.603 Q1133.15 738.709 1134.95 742.274 Q1136.78 745.815 1140.39 745.815 Q1144.03 745.815 1145.83 742.274 Q1147.66 738.709 1147.66 731.603 Q1147.66 724.473 1145.83 720.931 Q1144.03 717.367 1140.39 717.367 M1140.39 713.663 Q1146.2 713.663 1149.26 718.269 Q1152.34 722.853 1152.34 731.603 Q1152.34 740.329 1149.26 744.936 Q1146.2 749.519 1140.39 749.519 Q1134.58 749.519 1131.5 744.936 Q1128.45 740.329 1128.45 731.603 Q1128.45 722.853 1131.5 718.269 Q1134.58 713.663 1140.39 713.663 Z\" fill=\"#000000\" fill-rule=\"nonzero\" fill-opacity=\"1\" /><polyline clip-path=\"url(#clip350)\" style=\"stroke:#000000; stroke-linecap:round; stroke-linejoin:round; stroke-width:4; stroke-opacity:1; fill:none\" points=\"186.436,686.448 186.436,123.472 \"/>\n",
       "<polyline clip-path=\"url(#clip350)\" style=\"stroke:#000000; stroke-linecap:round; stroke-linejoin:round; stroke-width:4; stroke-opacity:1; fill:none\" points=\"186.436,617.777 205.334,617.777 \"/>\n",
       "<polyline clip-path=\"url(#clip350)\" style=\"stroke:#000000; stroke-linecap:round; stroke-linejoin:round; stroke-width:4; stroke-opacity:1; fill:none\" points=\"186.436,459.566 205.334,459.566 \"/>\n",
       "<polyline clip-path=\"url(#clip350)\" style=\"stroke:#000000; stroke-linecap:round; stroke-linejoin:round; stroke-width:4; stroke-opacity:1; fill:none\" points=\"186.436,301.354 205.334,301.354 \"/>\n",
       "<polyline clip-path=\"url(#clip350)\" style=\"stroke:#000000; stroke-linecap:round; stroke-linejoin:round; stroke-width:4; stroke-opacity:1; fill:none\" points=\"186.436,143.143 205.334,143.143 \"/>\n",
       "<path clip-path=\"url(#clip350)\" d=\"M92.7743 603.576 Q89.1632 603.576 87.3345 607.141 Q85.529 610.683 85.529 617.812 Q85.529 624.919 87.3345 628.483 Q89.1632 632.025 92.7743 632.025 Q96.4085 632.025 98.2141 628.483 Q100.043 624.919 100.043 617.812 Q100.043 610.683 98.2141 607.141 Q96.4085 603.576 92.7743 603.576 M92.7743 599.872 Q98.5845 599.872 101.64 604.479 Q104.719 609.062 104.719 617.812 Q104.719 626.539 101.64 631.145 Q98.5845 635.729 92.7743 635.729 Q86.9642 635.729 83.8855 631.145 Q80.8299 626.539 80.8299 617.812 Q80.8299 609.062 83.8855 604.479 Q86.9642 599.872 92.7743 599.872 Z\" fill=\"#000000\" fill-rule=\"nonzero\" fill-opacity=\"1\" /><path clip-path=\"url(#clip350)\" d=\"M112.936 629.178 L117.82 629.178 L117.82 635.057 L112.936 635.057 L112.936 629.178 Z\" fill=\"#000000\" fill-rule=\"nonzero\" fill-opacity=\"1\" /><path clip-path=\"url(#clip350)\" d=\"M140.853 604.571 L129.047 623.02 L140.853 623.02 L140.853 604.571 M139.626 600.497 L145.506 600.497 L145.506 623.02 L150.436 623.02 L150.436 626.909 L145.506 626.909 L145.506 635.057 L140.853 635.057 L140.853 626.909 L125.251 626.909 L125.251 622.395 L139.626 600.497 Z\" fill=\"#000000\" fill-rule=\"nonzero\" fill-opacity=\"1\" /><path clip-path=\"url(#clip350)\" d=\"M94.2558 445.364 Q90.6447 445.364 88.816 448.929 Q87.0105 452.471 87.0105 459.601 Q87.0105 466.707 88.816 470.272 Q90.6447 473.813 94.2558 473.813 Q97.89 473.813 99.6956 470.272 Q101.524 466.707 101.524 459.601 Q101.524 452.471 99.6956 448.929 Q97.89 445.364 94.2558 445.364 M94.2558 441.661 Q100.066 441.661 103.121 446.267 Q106.2 450.851 106.2 459.601 Q106.2 468.327 103.121 472.934 Q100.066 477.517 94.2558 477.517 Q88.4456 477.517 85.3669 472.934 Q82.3114 468.327 82.3114 459.601 Q82.3114 450.851 85.3669 446.267 Q88.4456 441.661 94.2558 441.661 Z\" fill=\"#000000\" fill-rule=\"nonzero\" fill-opacity=\"1\" /><path clip-path=\"url(#clip350)\" d=\"M114.418 470.966 L119.302 470.966 L119.302 476.846 L114.418 476.846 L114.418 470.966 Z\" fill=\"#000000\" fill-rule=\"nonzero\" fill-opacity=\"1\" /><path clip-path=\"url(#clip350)\" d=\"M129.533 442.286 L147.89 442.286 L147.89 446.221 L133.816 446.221 L133.816 454.693 Q134.834 454.346 135.853 454.184 Q136.871 453.999 137.89 453.999 Q143.677 453.999 147.056 457.17 Q150.436 460.341 150.436 465.758 Q150.436 471.337 146.964 474.438 Q143.492 477.517 137.172 477.517 Q134.996 477.517 132.728 477.147 Q130.482 476.776 128.075 476.036 L128.075 471.337 Q130.158 472.471 132.381 473.026 Q134.603 473.582 137.08 473.582 Q141.084 473.582 143.422 471.475 Q145.76 469.369 145.76 465.758 Q145.76 462.147 143.422 460.04 Q141.084 457.934 137.08 457.934 Q135.205 457.934 133.33 458.351 Q131.478 458.767 129.533 459.647 L129.533 442.286 Z\" fill=\"#000000\" fill-rule=\"nonzero\" fill-opacity=\"1\" /><path clip-path=\"url(#clip350)\" d=\"M93.0984 287.153 Q89.4873 287.153 87.6586 290.718 Q85.8531 294.259 85.8531 301.389 Q85.8531 308.495 87.6586 312.06 Q89.4873 315.602 93.0984 315.602 Q96.7326 315.602 98.5382 312.06 Q100.367 308.495 100.367 301.389 Q100.367 294.259 98.5382 290.718 Q96.7326 287.153 93.0984 287.153 M93.0984 283.449 Q98.9085 283.449 101.964 288.056 Q105.043 292.639 105.043 301.389 Q105.043 310.116 101.964 314.722 Q98.9085 319.305 93.0984 319.305 Q87.2882 319.305 84.2095 314.722 Q81.154 310.116 81.154 301.389 Q81.154 292.639 84.2095 288.056 Q87.2882 283.449 93.0984 283.449 Z\" fill=\"#000000\" fill-rule=\"nonzero\" fill-opacity=\"1\" /><path clip-path=\"url(#clip350)\" d=\"M113.26 312.755 L118.145 312.755 L118.145 318.634 L113.26 318.634 L113.26 312.755 Z\" fill=\"#000000\" fill-rule=\"nonzero\" fill-opacity=\"1\" /><path clip-path=\"url(#clip350)\" d=\"M138.908 299.491 Q135.76 299.491 133.908 301.644 Q132.08 303.796 132.08 307.546 Q132.08 311.273 133.908 313.449 Q135.76 315.602 138.908 315.602 Q142.056 315.602 143.885 313.449 Q145.737 311.273 145.737 307.546 Q145.737 303.796 143.885 301.644 Q142.056 299.491 138.908 299.491 M148.191 284.838 L148.191 289.097 Q146.431 288.264 144.626 287.824 Q142.843 287.384 141.084 287.384 Q136.455 287.384 134.001 290.509 Q131.57 293.634 131.223 299.954 Q132.589 297.94 134.649 296.875 Q136.709 295.787 139.186 295.787 Q144.394 295.787 147.404 298.958 Q150.436 302.107 150.436 307.546 Q150.436 312.87 147.288 316.088 Q144.14 319.305 138.908 319.305 Q132.913 319.305 129.742 314.722 Q126.57 310.116 126.57 301.389 Q126.57 293.195 130.459 288.333 Q134.348 283.449 140.899 283.449 Q142.658 283.449 144.441 283.796 Q146.246 284.144 148.191 284.838 Z\" fill=\"#000000\" fill-rule=\"nonzero\" fill-opacity=\"1\" /><path clip-path=\"url(#clip350)\" d=\"M94.1632 128.941 Q90.5521 128.941 88.7234 132.506 Q86.9179 136.048 86.9179 143.177 Q86.9179 150.284 88.7234 153.849 Q90.5521 157.39 94.1632 157.39 Q97.7974 157.39 99.603 153.849 Q101.432 150.284 101.432 143.177 Q101.432 136.048 99.603 132.506 Q97.7974 128.941 94.1632 128.941 M94.1632 125.238 Q99.9733 125.238 103.029 129.844 Q106.108 134.427 106.108 143.177 Q106.108 151.904 103.029 156.511 Q99.9733 161.094 94.1632 161.094 Q88.353 161.094 85.2743 156.511 Q82.2188 151.904 82.2188 143.177 Q82.2188 134.427 85.2743 129.844 Q88.353 125.238 94.1632 125.238 Z\" fill=\"#000000\" fill-rule=\"nonzero\" fill-opacity=\"1\" /><path clip-path=\"url(#clip350)\" d=\"M114.325 154.543 L119.209 154.543 L119.209 160.423 L114.325 160.423 L114.325 154.543 Z\" fill=\"#000000\" fill-rule=\"nonzero\" fill-opacity=\"1\" /><path clip-path=\"url(#clip350)\" d=\"M128.214 125.863 L150.436 125.863 L150.436 127.853 L137.89 160.423 L133.006 160.423 L144.811 129.798 L128.214 129.798 L128.214 125.863 Z\" fill=\"#000000\" fill-rule=\"nonzero\" fill-opacity=\"1\" /><path clip-path=\"url(#clip350)\" d=\"M363.813 12.096 L374.832 12.096 L401.649 62.6918 L401.649 12.096 L409.589 12.096 L409.589 72.576 L398.57 72.576 L371.753 21.9802 L371.753 72.576 L363.813 72.576 L363.813 12.096 Z\" fill=\"#000000\" fill-rule=\"nonzero\" fill-opacity=\"1\" /><path clip-path=\"url(#clip350)\" d=\"M443.13 32.4315 Q437.135 32.4315 433.651 37.1306 Q430.167 41.7891 430.167 49.9314 Q430.167 58.0738 433.611 62.7728 Q437.094 67.4314 443.13 67.4314 Q449.085 67.4314 452.569 62.7323 Q456.053 58.0333 456.053 49.9314 Q456.053 41.8701 452.569 37.1711 Q449.085 32.4315 443.13 32.4315 M443.13 26.1121 Q452.852 26.1121 458.402 32.4315 Q463.952 38.7509 463.952 49.9314 Q463.952 61.0714 458.402 67.4314 Q452.852 73.7508 443.13 73.7508 Q433.367 73.7508 427.818 67.4314 Q422.309 61.0714 422.309 49.9314 Q422.309 38.7509 427.818 32.4315 Q433.367 26.1121 443.13 26.1121 Z\" fill=\"#000000\" fill-rule=\"nonzero\" fill-opacity=\"1\" /><path clip-path=\"url(#clip350)\" d=\"M502.597 34.1734 Q501.342 33.4443 499.843 33.1202 Q498.385 32.7556 496.602 32.7556 Q490.283 32.7556 486.88 36.8875 Q483.518 40.9789 483.518 48.6757 L483.518 72.576 L476.024 72.576 L476.024 27.2059 L483.518 27.2059 L483.518 34.2544 Q485.867 30.1225 489.635 28.1376 Q493.402 26.1121 498.79 26.1121 Q499.559 26.1121 500.491 26.2337 Q501.423 26.3147 502.557 26.5172 L502.597 34.1734 Z\" fill=\"#000000\" fill-rule=\"nonzero\" fill-opacity=\"1\" /><path clip-path=\"url(#clip350)\" d=\"M544.281 35.9153 Q547.076 30.8922 550.965 28.5022 Q554.854 26.1121 560.12 26.1121 Q567.209 26.1121 571.058 31.0947 Q574.906 36.0368 574.906 45.1919 L574.906 72.576 L567.412 72.576 L567.412 45.4349 Q567.412 38.913 565.103 35.7533 Q562.794 32.5936 558.054 32.5936 Q552.262 32.5936 548.899 36.4419 Q545.537 40.2903 545.537 46.9338 L545.537 72.576 L538.043 72.576 L538.043 45.4349 Q538.043 38.8725 535.734 35.7533 Q533.425 32.5936 528.604 32.5936 Q522.892 32.5936 519.53 36.4824 Q516.168 40.3308 516.168 46.9338 L516.168 72.576 L508.674 72.576 L508.674 27.2059 L516.168 27.2059 L516.168 34.2544 Q518.72 30.082 522.285 28.0971 Q525.85 26.1121 530.751 26.1121 Q535.693 26.1121 539.137 28.6237 Q542.62 31.1352 544.281 35.9153 Z\" fill=\"#000000\" fill-rule=\"nonzero\" fill-opacity=\"1\" /><path clip-path=\"url(#clip350)\" d=\"M610.392 49.7694 Q601.358 49.7694 597.875 51.8354 Q594.391 53.9013 594.391 58.8839 Q594.391 62.8538 596.984 65.2034 Q599.617 67.5124 604.113 67.5124 Q610.311 67.5124 614.038 63.1374 Q617.805 58.7219 617.805 51.4303 L617.805 49.7694 L610.392 49.7694 M625.259 46.6907 L625.259 72.576 L617.805 72.576 L617.805 65.6895 Q615.253 69.8214 611.445 71.8063 Q607.637 73.7508 602.128 73.7508 Q595.161 73.7508 591.029 69.8619 Q586.937 65.9325 586.937 59.3701 Q586.937 51.7138 592.041 47.825 Q597.186 43.9361 607.354 43.9361 L617.805 43.9361 L617.805 43.2069 Q617.805 38.0623 614.402 35.2672 Q611.04 32.4315 604.923 32.4315 Q601.034 32.4315 597.348 33.3632 Q593.662 34.295 590.259 36.1584 L590.259 29.2718 Q594.35 27.692 598.199 26.9223 Q602.047 26.1121 605.693 26.1121 Q615.537 26.1121 620.398 31.2163 Q625.259 36.3204 625.259 46.6907 Z\" fill=\"#000000\" fill-rule=\"nonzero\" fill-opacity=\"1\" /><path clip-path=\"url(#clip350)\" d=\"M640.612 9.54393 L648.065 9.54393 L648.065 72.576 L640.612 72.576 L640.612 9.54393 Z\" fill=\"#000000\" fill-rule=\"nonzero\" fill-opacity=\"1\" /><path clip-path=\"url(#clip350)\" d=\"M731.595 63.9476 L731.595 47.7034 L718.227 47.7034 L718.227 40.9789 L739.697 40.9789 L739.697 66.9452 Q734.957 70.3075 729.246 72.0494 Q723.534 73.7508 717.052 73.7508 Q702.874 73.7508 694.853 65.4869 Q686.873 57.1826 686.873 42.3968 Q686.873 27.5705 694.853 19.3066 Q702.874 11.0023 717.052 11.0023 Q722.967 11.0023 728.273 12.4606 Q733.621 13.9189 738.117 16.7545 L738.117 25.464 Q733.58 21.6156 728.476 19.6712 Q723.372 17.7268 717.741 17.7268 Q706.641 17.7268 701.051 23.9246 Q695.502 30.1225 695.502 42.3968 Q695.502 54.6305 701.051 60.8284 Q706.641 67.0263 717.741 67.0263 Q722.075 67.0263 725.478 66.2971 Q728.881 65.5274 731.595 63.9476 Z\" fill=\"#000000\" fill-rule=\"nonzero\" fill-opacity=\"1\" /><path clip-path=\"url(#clip350)\" d=\"M780.611 34.1734 Q779.355 33.4443 777.856 33.1202 Q776.398 32.7556 774.616 32.7556 Q768.296 32.7556 764.893 36.8875 Q761.531 40.9789 761.531 48.6757 L761.531 72.576 L754.037 72.576 L754.037 27.2059 L761.531 27.2059 L761.531 34.2544 Q763.881 30.1225 767.648 28.1376 Q771.415 26.1121 776.803 26.1121 Q777.573 26.1121 778.505 26.2337 Q779.436 26.3147 780.57 26.5172 L780.611 34.1734 Z\" fill=\"#000000\" fill-rule=\"nonzero\" fill-opacity=\"1\" /><path clip-path=\"url(#clip350)\" d=\"M804.187 32.4315 Q798.192 32.4315 794.708 37.1306 Q791.224 41.7891 791.224 49.9314 Q791.224 58.0738 794.668 62.7728 Q798.151 67.4314 804.187 67.4314 Q810.142 67.4314 813.626 62.7323 Q817.11 58.0333 817.11 49.9314 Q817.11 41.8701 813.626 37.1711 Q810.142 32.4315 804.187 32.4315 M804.187 26.1121 Q813.909 26.1121 819.459 32.4315 Q825.009 38.7509 825.009 49.9314 Q825.009 61.0714 819.459 67.4314 Q813.909 73.7508 804.187 73.7508 Q794.425 73.7508 788.875 67.4314 Q783.366 61.0714 783.366 49.9314 Q783.366 38.7509 788.875 32.4315 Q794.425 26.1121 804.187 26.1121 Z\" fill=\"#000000\" fill-rule=\"nonzero\" fill-opacity=\"1\" /><path clip-path=\"url(#clip350)\" d=\"M833.03 27.2059 L840.483 27.2059 L849.8 62.6108 L859.077 27.2059 L867.867 27.2059 L877.185 62.6108 L886.461 27.2059 L893.915 27.2059 L882.046 72.576 L873.255 72.576 L863.493 35.3887 L853.689 72.576 L844.899 72.576 L833.03 27.2059 Z\" fill=\"#000000\" fill-rule=\"nonzero\" fill-opacity=\"1\" /><path clip-path=\"url(#clip350)\" d=\"M912.589 14.324 L912.589 27.2059 L927.942 27.2059 L927.942 32.9987 L912.589 32.9987 L912.589 57.6282 Q912.589 63.1779 914.088 64.7578 Q915.628 66.3376 920.286 66.3376 L927.942 66.3376 L927.942 72.576 L920.286 72.576 Q911.658 72.576 908.377 69.3758 Q905.095 66.1351 905.095 57.6282 L905.095 32.9987 L899.627 32.9987 L899.627 27.2059 L905.095 27.2059 L905.095 14.324 L912.589 14.324 Z\" fill=\"#000000\" fill-rule=\"nonzero\" fill-opacity=\"1\" /><path clip-path=\"url(#clip350)\" d=\"M975.459 45.1919 L975.459 72.576 L968.006 72.576 L968.006 45.4349 Q968.006 38.994 965.494 35.7938 Q962.983 32.5936 957.96 32.5936 Q951.924 32.5936 948.44 36.4419 Q944.956 40.2903 944.956 46.9338 L944.956 72.576 L937.462 72.576 L937.462 9.54393 L944.956 9.54393 L944.956 34.2544 Q947.63 30.163 951.235 28.1376 Q954.881 26.1121 959.62 26.1121 Q967.439 26.1121 971.449 30.9732 Q975.459 35.7938 975.459 45.1919 Z\" fill=\"#000000\" fill-rule=\"nonzero\" fill-opacity=\"1\" /><polyline clip-path=\"url(#clip352)\" style=\"stroke:#009af9; stroke-linecap:round; stroke-linejoin:round; stroke-width:4; stroke-opacity:1; fill:none\" points=\"213.787,670.515 261.771,596.683 309.755,524.169 357.739,459.671 405.724,404.391 453.708,357.726 501.692,318.589 549.676,285.857 597.66,258.516 645.644,235.689 693.629,216.636 741.613,200.735 789.597,187.465 837.581,176.391 885.565,167.149 933.549,159.436 981.533,153 1029.52,147.629 1077.5,143.146 1125.49,139.405 \"/>\n",
       "<path clip-path=\"url(#clip350)\" d=\"M218.649 245.918 L367.72 245.918 L367.72 142.238 L218.649 142.238  Z\" fill=\"#ffffff\" fill-rule=\"evenodd\" fill-opacity=\"1\"/>\n",
       "<polyline clip-path=\"url(#clip350)\" style=\"stroke:#000000; stroke-linecap:round; stroke-linejoin:round; stroke-width:4; stroke-opacity:1; fill:none\" points=\"218.649,245.918 367.72,245.918 367.72,142.238 218.649,142.238 218.649,245.918 \"/>\n",
       "<polyline clip-path=\"url(#clip350)\" style=\"stroke:#009af9; stroke-linecap:round; stroke-linejoin:round; stroke-width:4; stroke-opacity:1; fill:none\" points=\"229.387,194.078 293.814,194.078 \"/>\n",
       "<path clip-path=\"url(#clip350)\" d=\"M318.394 213.765 Q316.589 218.395 314.876 219.807 Q313.163 221.219 310.292 221.219 L306.89 221.219 L306.89 217.654 L309.39 217.654 Q311.149 217.654 312.121 216.821 Q313.093 215.988 314.274 212.886 L315.038 210.941 L304.552 185.432 L309.066 185.432 L317.167 205.71 L325.269 185.432 L329.783 185.432 L318.394 213.765 Z\" fill=\"#000000\" fill-rule=\"nonzero\" fill-opacity=\"1\" /><path clip-path=\"url(#clip350)\" d=\"M337.075 207.423 L344.714 207.423 L344.714 181.057 L336.403 182.724 L336.403 178.465 L344.667 176.798 L349.343 176.798 L349.343 207.423 L356.982 207.423 L356.982 211.358 L337.075 211.358 L337.075 207.423 Z\" fill=\"#000000\" fill-rule=\"nonzero\" fill-opacity=\"1\" /><path clip-path=\"url(#clip350)\" d=\"M1386.36 686.448 L2352.76 686.448 L2352.76 123.472 L1386.36 123.472  Z\" fill=\"#ffffff\" fill-rule=\"evenodd\" fill-opacity=\"1\"/>\n",
       "<defs>\n",
       "  <clipPath id=\"clip353\">\n",
       "    <rect x=\"1386\" y=\"123\" width=\"967\" height=\"564\"/>\n",
       "  </clipPath>\n",
       "</defs>\n",
       "<polyline clip-path=\"url(#clip353)\" style=\"stroke:#000000; stroke-linecap:round; stroke-linejoin:round; stroke-width:2; stroke-opacity:0.1; fill:none\" points=\"1605.64,686.448 1605.64,123.472 \"/>\n",
       "<polyline clip-path=\"url(#clip353)\" style=\"stroke:#000000; stroke-linecap:round; stroke-linejoin:round; stroke-width:2; stroke-opacity:0.1; fill:none\" points=\"1845.56,686.448 1845.56,123.472 \"/>\n",
       "<polyline clip-path=\"url(#clip353)\" style=\"stroke:#000000; stroke-linecap:round; stroke-linejoin:round; stroke-width:2; stroke-opacity:0.1; fill:none\" points=\"2085.48,686.448 2085.48,123.472 \"/>\n",
       "<polyline clip-path=\"url(#clip353)\" style=\"stroke:#000000; stroke-linecap:round; stroke-linejoin:round; stroke-width:2; stroke-opacity:0.1; fill:none\" points=\"2325.4,686.448 2325.4,123.472 \"/>\n",
       "<polyline clip-path=\"url(#clip353)\" style=\"stroke:#000000; stroke-linecap:round; stroke-linejoin:round; stroke-width:2; stroke-opacity:0.1; fill:none\" points=\"1386.36,663.132 2352.76,663.132 \"/>\n",
       "<polyline clip-path=\"url(#clip353)\" style=\"stroke:#000000; stroke-linecap:round; stroke-linejoin:round; stroke-width:2; stroke-opacity:0.1; fill:none\" points=\"1386.36,527.685 2352.76,527.685 \"/>\n",
       "<polyline clip-path=\"url(#clip353)\" style=\"stroke:#000000; stroke-linecap:round; stroke-linejoin:round; stroke-width:2; stroke-opacity:0.1; fill:none\" points=\"1386.36,392.239 2352.76,392.239 \"/>\n",
       "<polyline clip-path=\"url(#clip353)\" style=\"stroke:#000000; stroke-linecap:round; stroke-linejoin:round; stroke-width:2; stroke-opacity:0.1; fill:none\" points=\"1386.36,256.792 2352.76,256.792 \"/>\n",
       "<polyline clip-path=\"url(#clip350)\" style=\"stroke:#000000; stroke-linecap:round; stroke-linejoin:round; stroke-width:4; stroke-opacity:1; fill:none\" points=\"1386.36,686.448 2352.76,686.448 \"/>\n",
       "<polyline clip-path=\"url(#clip350)\" style=\"stroke:#000000; stroke-linecap:round; stroke-linejoin:round; stroke-width:4; stroke-opacity:1; fill:none\" points=\"1605.64,686.448 1605.64,667.55 \"/>\n",
       "<polyline clip-path=\"url(#clip350)\" style=\"stroke:#000000; stroke-linecap:round; stroke-linejoin:round; stroke-width:4; stroke-opacity:1; fill:none\" points=\"1845.56,686.448 1845.56,667.55 \"/>\n",
       "<polyline clip-path=\"url(#clip350)\" style=\"stroke:#000000; stroke-linecap:round; stroke-linejoin:round; stroke-width:4; stroke-opacity:1; fill:none\" points=\"2085.48,686.448 2085.48,667.55 \"/>\n",
       "<polyline clip-path=\"url(#clip350)\" style=\"stroke:#000000; stroke-linecap:round; stroke-linejoin:round; stroke-width:4; stroke-opacity:1; fill:none\" points=\"2325.4,686.448 2325.4,667.55 \"/>\n",
       "<path clip-path=\"url(#clip350)\" d=\"M1595.92 714.288 L1614.28 714.288 L1614.28 718.223 L1600.2 718.223 L1600.2 726.695 Q1601.22 726.348 1602.24 726.186 Q1603.26 726.001 1604.28 726.001 Q1610.06 726.001 1613.44 729.172 Q1616.82 732.343 1616.82 737.76 Q1616.82 743.339 1613.35 746.44 Q1609.88 749.519 1603.56 749.519 Q1601.38 749.519 1599.11 749.149 Q1596.87 748.778 1594.46 748.038 L1594.46 743.339 Q1596.55 744.473 1598.77 745.028 Q1600.99 745.584 1603.47 745.584 Q1607.47 745.584 1609.81 743.478 Q1612.15 741.371 1612.15 737.76 Q1612.15 734.149 1609.81 732.042 Q1607.47 729.936 1603.47 729.936 Q1601.59 729.936 1599.72 730.353 Q1597.86 730.769 1595.92 731.649 L1595.92 714.288 Z\" fill=\"#000000\" fill-rule=\"nonzero\" fill-opacity=\"1\" /><path clip-path=\"url(#clip350)\" d=\"M1820.25 744.913 L1827.89 744.913 L1827.89 718.547 L1819.58 720.214 L1819.58 715.955 L1827.84 714.288 L1832.52 714.288 L1832.52 744.913 L1840.16 744.913 L1840.16 748.848 L1820.25 748.848 L1820.25 744.913 Z\" fill=\"#000000\" fill-rule=\"nonzero\" fill-opacity=\"1\" /><path clip-path=\"url(#clip350)\" d=\"M1859.6 717.367 Q1855.99 717.367 1854.16 720.931 Q1852.36 724.473 1852.36 731.603 Q1852.36 738.709 1854.16 742.274 Q1855.99 745.815 1859.6 745.815 Q1863.24 745.815 1865.04 742.274 Q1866.87 738.709 1866.87 731.603 Q1866.87 724.473 1865.04 720.931 Q1863.24 717.367 1859.6 717.367 M1859.6 713.663 Q1865.41 713.663 1868.47 718.269 Q1871.55 722.853 1871.55 731.603 Q1871.55 740.329 1868.47 744.936 Q1865.41 749.519 1859.6 749.519 Q1853.79 749.519 1850.71 744.936 Q1847.66 740.329 1847.66 731.603 Q1847.66 722.853 1850.71 718.269 Q1853.79 713.663 1859.6 713.663 Z\" fill=\"#000000\" fill-rule=\"nonzero\" fill-opacity=\"1\" /><path clip-path=\"url(#clip350)\" d=\"M2060.67 744.913 L2068.31 744.913 L2068.31 718.547 L2060 720.214 L2060 715.955 L2068.26 714.288 L2072.94 714.288 L2072.94 744.913 L2080.58 744.913 L2080.58 748.848 L2060.67 748.848 L2060.67 744.913 Z\" fill=\"#000000\" fill-rule=\"nonzero\" fill-opacity=\"1\" /><path clip-path=\"url(#clip350)\" d=\"M2090.07 714.288 L2108.42 714.288 L2108.42 718.223 L2094.35 718.223 L2094.35 726.695 Q2095.37 726.348 2096.39 726.186 Q2097.41 726.001 2098.42 726.001 Q2104.21 726.001 2107.59 729.172 Q2110.97 732.343 2110.97 737.76 Q2110.97 743.339 2107.5 746.44 Q2104.03 749.519 2097.71 749.519 Q2095.53 749.519 2093.26 749.149 Q2091.02 748.778 2088.61 748.038 L2088.61 743.339 Q2090.69 744.473 2092.91 745.028 Q2095.14 745.584 2097.61 745.584 Q2101.62 745.584 2103.96 743.478 Q2106.29 741.371 2106.29 737.76 Q2106.29 734.149 2103.96 732.042 Q2101.62 729.936 2097.61 729.936 Q2095.74 729.936 2093.86 730.353 Q2092.01 730.769 2090.07 731.649 L2090.07 714.288 Z\" fill=\"#000000\" fill-rule=\"nonzero\" fill-opacity=\"1\" /><path clip-path=\"url(#clip350)\" d=\"M2304.18 744.913 L2320.5 744.913 L2320.5 748.848 L2298.55 748.848 L2298.55 744.913 Q2301.22 742.158 2305.8 737.528 Q2310.41 732.876 2311.59 731.533 Q2313.83 729.01 2314.71 727.274 Q2315.61 725.515 2315.61 723.825 Q2315.61 721.07 2313.67 719.334 Q2311.75 717.598 2308.65 717.598 Q2306.45 717.598 2303.99 718.362 Q2301.56 719.126 2298.78 720.677 L2298.78 715.955 Q2301.61 714.82 2304.06 714.242 Q2306.52 713.663 2308.55 713.663 Q2313.92 713.663 2317.12 716.348 Q2320.31 719.033 2320.31 723.524 Q2320.31 725.654 2319.5 727.575 Q2318.72 729.473 2316.61 732.066 Q2316.03 732.737 2312.93 735.954 Q2309.83 739.149 2304.18 744.913 Z\" fill=\"#000000\" fill-rule=\"nonzero\" fill-opacity=\"1\" /><path clip-path=\"url(#clip350)\" d=\"M2340.31 717.367 Q2336.7 717.367 2334.87 720.931 Q2333.07 724.473 2333.07 731.603 Q2333.07 738.709 2334.87 742.274 Q2336.7 745.815 2340.31 745.815 Q2343.95 745.815 2345.75 742.274 Q2347.58 738.709 2347.58 731.603 Q2347.58 724.473 2345.75 720.931 Q2343.95 717.367 2340.31 717.367 M2340.31 713.663 Q2346.12 713.663 2349.18 718.269 Q2352.26 722.853 2352.26 731.603 Q2352.26 740.329 2349.18 744.936 Q2346.12 749.519 2340.31 749.519 Q2334.5 749.519 2331.42 744.936 Q2328.37 740.329 2328.37 731.603 Q2328.37 722.853 2331.42 718.269 Q2334.5 713.663 2340.31 713.663 Z\" fill=\"#000000\" fill-rule=\"nonzero\" fill-opacity=\"1\" /><polyline clip-path=\"url(#clip350)\" style=\"stroke:#000000; stroke-linecap:round; stroke-linejoin:round; stroke-width:4; stroke-opacity:1; fill:none\" points=\"1386.36,686.448 1386.36,123.472 \"/>\n",
       "<polyline clip-path=\"url(#clip350)\" style=\"stroke:#000000; stroke-linecap:round; stroke-linejoin:round; stroke-width:4; stroke-opacity:1; fill:none\" points=\"1386.36,663.132 1405.25,663.132 \"/>\n",
       "<polyline clip-path=\"url(#clip350)\" style=\"stroke:#000000; stroke-linecap:round; stroke-linejoin:round; stroke-width:4; stroke-opacity:1; fill:none\" points=\"1386.36,527.685 1405.25,527.685 \"/>\n",
       "<polyline clip-path=\"url(#clip350)\" style=\"stroke:#000000; stroke-linecap:round; stroke-linejoin:round; stroke-width:4; stroke-opacity:1; fill:none\" points=\"1386.36,392.239 1405.25,392.239 \"/>\n",
       "<polyline clip-path=\"url(#clip350)\" style=\"stroke:#000000; stroke-linecap:round; stroke-linejoin:round; stroke-width:4; stroke-opacity:1; fill:none\" points=\"1386.36,256.792 1405.25,256.792 \"/>\n",
       "<path clip-path=\"url(#clip350)\" d=\"M1264.01 648.931 Q1260.4 648.931 1258.57 652.496 Q1256.77 656.037 1256.77 663.167 Q1256.77 670.273 1258.57 673.838 Q1260.4 677.38 1264.01 677.38 Q1267.65 677.38 1269.45 673.838 Q1271.28 670.273 1271.28 663.167 Q1271.28 656.037 1269.45 652.496 Q1267.65 648.931 1264.01 648.931 M1264.01 645.227 Q1269.82 645.227 1272.88 649.834 Q1275.96 654.417 1275.96 663.167 Q1275.96 671.894 1272.88 676.5 Q1269.82 681.083 1264.01 681.083 Q1258.2 681.083 1255.12 676.5 Q1252.07 671.894 1252.07 663.167 Q1252.07 654.417 1255.12 649.834 Q1258.2 645.227 1264.01 645.227 Z\" fill=\"#000000\" fill-rule=\"nonzero\" fill-opacity=\"1\" /><path clip-path=\"url(#clip350)\" d=\"M1284.17 674.532 L1289.06 674.532 L1289.06 680.412 L1284.17 680.412 L1284.17 674.532 Z\" fill=\"#000000\" fill-rule=\"nonzero\" fill-opacity=\"1\" /><path clip-path=\"url(#clip350)\" d=\"M1303.27 676.477 L1319.59 676.477 L1319.59 680.412 L1297.65 680.412 L1297.65 676.477 Q1300.31 673.722 1304.89 669.093 Q1309.5 664.44 1310.68 663.097 Q1312.92 660.574 1313.8 658.838 Q1314.71 657.079 1314.71 655.389 Q1314.71 652.634 1312.76 650.898 Q1310.84 649.162 1307.74 649.162 Q1305.54 649.162 1303.09 649.926 Q1300.66 650.69 1297.88 652.241 L1297.88 647.519 Q1300.7 646.384 1303.16 645.806 Q1305.61 645.227 1307.65 645.227 Q1313.02 645.227 1316.21 647.912 Q1319.41 650.597 1319.41 655.088 Q1319.41 657.218 1318.6 659.139 Q1317.81 661.037 1315.7 663.63 Q1315.12 664.301 1312.02 667.519 Q1308.92 670.713 1303.27 676.477 Z\" fill=\"#000000\" fill-rule=\"nonzero\" fill-opacity=\"1\" /><path clip-path=\"url(#clip350)\" d=\"M1329.45 645.852 L1347.81 645.852 L1347.81 649.787 L1333.73 649.787 L1333.73 658.259 Q1334.75 657.912 1335.77 657.75 Q1336.79 657.565 1337.81 657.565 Q1343.6 657.565 1346.98 660.736 Q1350.36 663.908 1350.36 669.324 Q1350.36 674.903 1346.88 678.005 Q1343.41 681.083 1337.09 681.083 Q1334.92 681.083 1332.65 680.713 Q1330.4 680.343 1327.99 679.602 L1327.99 674.903 Q1330.08 676.037 1332.3 676.593 Q1334.52 677.148 1337 677.148 Q1341 677.148 1343.34 675.042 Q1345.68 672.935 1345.68 669.324 Q1345.68 665.713 1343.34 663.607 Q1341 661.5 1337 661.5 Q1335.12 661.5 1333.25 661.917 Q1331.4 662.333 1329.45 663.213 L1329.45 645.852 Z\" fill=\"#000000\" fill-rule=\"nonzero\" fill-opacity=\"1\" /><path clip-path=\"url(#clip350)\" d=\"M1263.02 513.484 Q1259.41 513.484 1257.58 517.049 Q1255.77 520.591 1255.77 527.72 Q1255.77 534.827 1257.58 538.391 Q1259.41 541.933 1263.02 541.933 Q1266.65 541.933 1268.46 538.391 Q1270.29 534.827 1270.29 527.72 Q1270.29 520.591 1268.46 517.049 Q1266.65 513.484 1263.02 513.484 M1263.02 509.781 Q1268.83 509.781 1271.88 514.387 Q1274.96 518.97 1274.96 527.72 Q1274.96 536.447 1271.88 541.053 Q1268.83 545.637 1263.02 545.637 Q1257.21 545.637 1254.13 541.053 Q1251.07 536.447 1251.07 527.72 Q1251.07 518.97 1254.13 514.387 Q1257.21 509.781 1263.02 509.781 Z\" fill=\"#000000\" fill-rule=\"nonzero\" fill-opacity=\"1\" /><path clip-path=\"url(#clip350)\" d=\"M1283.18 539.086 L1288.06 539.086 L1288.06 544.965 L1283.18 544.965 L1283.18 539.086 Z\" fill=\"#000000\" fill-rule=\"nonzero\" fill-opacity=\"1\" /><path clip-path=\"url(#clip350)\" d=\"M1312.42 526.331 Q1315.77 527.049 1317.65 529.317 Q1319.54 531.586 1319.54 534.919 Q1319.54 540.035 1316.03 542.836 Q1312.51 545.637 1306.03 545.637 Q1303.85 545.637 1301.54 545.197 Q1299.24 544.78 1296.79 543.924 L1296.79 539.41 Q1298.73 540.544 1301.05 541.123 Q1303.36 541.702 1305.89 541.702 Q1310.29 541.702 1312.58 539.966 Q1314.89 538.229 1314.89 534.919 Q1314.89 531.864 1312.74 530.151 Q1310.61 528.415 1306.79 528.415 L1302.76 528.415 L1302.76 524.572 L1306.98 524.572 Q1310.42 524.572 1312.25 523.206 Q1314.08 521.817 1314.08 519.225 Q1314.08 516.563 1312.18 515.151 Q1310.31 513.716 1306.79 513.716 Q1304.87 513.716 1302.67 514.132 Q1300.47 514.549 1297.83 515.429 L1297.83 511.262 Q1300.49 510.521 1302.81 510.151 Q1305.15 509.781 1307.21 509.781 Q1312.53 509.781 1315.63 512.211 Q1318.73 514.618 1318.73 518.739 Q1318.73 521.609 1317.09 523.6 Q1315.45 525.567 1312.42 526.331 Z\" fill=\"#000000\" fill-rule=\"nonzero\" fill-opacity=\"1\" /><path clip-path=\"url(#clip350)\" d=\"M1338.41 513.484 Q1334.8 513.484 1332.97 517.049 Q1331.17 520.591 1331.17 527.72 Q1331.17 534.827 1332.97 538.391 Q1334.8 541.933 1338.41 541.933 Q1342.04 541.933 1343.85 538.391 Q1345.68 534.827 1345.68 527.72 Q1345.68 520.591 1343.85 517.049 Q1342.04 513.484 1338.41 513.484 M1338.41 509.781 Q1344.22 509.781 1347.28 514.387 Q1350.36 518.97 1350.36 527.72 Q1350.36 536.447 1347.28 541.053 Q1344.22 545.637 1338.41 545.637 Q1332.6 545.637 1329.52 541.053 Q1326.47 536.447 1326.47 527.72 Q1326.47 518.97 1329.52 514.387 Q1332.6 509.781 1338.41 509.781 Z\" fill=\"#000000\" fill-rule=\"nonzero\" fill-opacity=\"1\" /><path clip-path=\"url(#clip350)\" d=\"M1264.01 378.038 Q1260.4 378.038 1258.57 381.602 Q1256.77 385.144 1256.77 392.274 Q1256.77 399.38 1258.57 402.945 Q1260.4 406.487 1264.01 406.487 Q1267.65 406.487 1269.45 402.945 Q1271.28 399.38 1271.28 392.274 Q1271.28 385.144 1269.45 381.602 Q1267.65 378.038 1264.01 378.038 M1264.01 374.334 Q1269.82 374.334 1272.88 378.94 Q1275.96 383.524 1275.96 392.274 Q1275.96 401 1272.88 405.607 Q1269.82 410.19 1264.01 410.19 Q1258.2 410.19 1255.12 405.607 Q1252.07 401 1252.07 392.274 Q1252.07 383.524 1255.12 378.94 Q1258.2 374.334 1264.01 374.334 Z\" fill=\"#000000\" fill-rule=\"nonzero\" fill-opacity=\"1\" /><path clip-path=\"url(#clip350)\" d=\"M1284.17 403.639 L1289.06 403.639 L1289.06 409.519 L1284.17 409.519 L1284.17 403.639 Z\" fill=\"#000000\" fill-rule=\"nonzero\" fill-opacity=\"1\" /><path clip-path=\"url(#clip350)\" d=\"M1313.41 390.885 Q1316.77 391.602 1318.64 393.871 Q1320.54 396.139 1320.54 399.473 Q1320.54 404.588 1317.02 407.389 Q1313.5 410.19 1307.02 410.19 Q1304.85 410.19 1302.53 409.75 Q1300.24 409.334 1297.79 408.477 L1297.79 403.963 Q1299.73 405.098 1302.05 405.676 Q1304.36 406.255 1306.88 406.255 Q1311.28 406.255 1313.57 404.519 Q1315.89 402.783 1315.89 399.473 Q1315.89 396.417 1313.73 394.704 Q1311.61 392.968 1307.79 392.968 L1303.76 392.968 L1303.76 389.126 L1307.97 389.126 Q1311.42 389.126 1313.25 387.76 Q1315.08 386.371 1315.08 383.778 Q1315.08 381.116 1313.18 379.704 Q1311.3 378.269 1307.79 378.269 Q1305.86 378.269 1303.67 378.686 Q1301.47 379.102 1298.83 379.982 L1298.83 375.815 Q1301.49 375.075 1303.8 374.704 Q1306.14 374.334 1308.2 374.334 Q1313.53 374.334 1316.63 376.764 Q1319.73 379.172 1319.73 383.292 Q1319.73 386.163 1318.09 388.153 Q1316.44 390.121 1313.41 390.885 Z\" fill=\"#000000\" fill-rule=\"nonzero\" fill-opacity=\"1\" /><path clip-path=\"url(#clip350)\" d=\"M1329.45 374.959 L1347.81 374.959 L1347.81 378.894 L1333.73 378.894 L1333.73 387.366 Q1334.75 387.019 1335.77 386.857 Q1336.79 386.672 1337.81 386.672 Q1343.6 386.672 1346.98 389.843 Q1350.36 393.014 1350.36 398.431 Q1350.36 404.01 1346.88 407.112 Q1343.41 410.19 1337.09 410.19 Q1334.92 410.19 1332.65 409.82 Q1330.4 409.45 1327.99 408.709 L1327.99 404.01 Q1330.08 405.144 1332.3 405.7 Q1334.52 406.255 1337 406.255 Q1341 406.255 1343.34 404.149 Q1345.68 402.042 1345.68 398.431 Q1345.68 394.82 1343.34 392.713 Q1341 390.607 1337 390.607 Q1335.12 390.607 1333.25 391.024 Q1331.4 391.44 1329.45 392.32 L1329.45 374.959 Z\" fill=\"#000000\" fill-rule=\"nonzero\" fill-opacity=\"1\" /><path clip-path=\"url(#clip350)\" d=\"M1263.02 242.591 Q1259.41 242.591 1257.58 246.156 Q1255.77 249.698 1255.77 256.827 Q1255.77 263.934 1257.58 267.498 Q1259.41 271.04 1263.02 271.04 Q1266.65 271.04 1268.46 267.498 Q1270.29 263.934 1270.29 256.827 Q1270.29 249.698 1268.46 246.156 Q1266.65 242.591 1263.02 242.591 M1263.02 238.887 Q1268.83 238.887 1271.88 243.494 Q1274.96 248.077 1274.96 256.827 Q1274.96 265.554 1271.88 270.16 Q1268.83 274.744 1263.02 274.744 Q1257.21 274.744 1254.13 270.16 Q1251.07 265.554 1251.07 256.827 Q1251.07 248.077 1254.13 243.494 Q1257.21 238.887 1263.02 238.887 Z\" fill=\"#000000\" fill-rule=\"nonzero\" fill-opacity=\"1\" /><path clip-path=\"url(#clip350)\" d=\"M1283.18 268.193 L1288.06 268.193 L1288.06 274.072 L1283.18 274.072 L1283.18 268.193 Z\" fill=\"#000000\" fill-rule=\"nonzero\" fill-opacity=\"1\" /><path clip-path=\"url(#clip350)\" d=\"M1311.1 243.586 L1299.29 262.035 L1311.1 262.035 L1311.1 243.586 M1309.87 239.512 L1315.75 239.512 L1315.75 262.035 L1320.68 262.035 L1320.68 265.924 L1315.75 265.924 L1315.75 274.072 L1311.1 274.072 L1311.1 265.924 L1295.49 265.924 L1295.49 261.41 L1309.87 239.512 Z\" fill=\"#000000\" fill-rule=\"nonzero\" fill-opacity=\"1\" /><path clip-path=\"url(#clip350)\" d=\"M1338.41 242.591 Q1334.8 242.591 1332.97 246.156 Q1331.17 249.698 1331.17 256.827 Q1331.17 263.934 1332.97 267.498 Q1334.8 271.04 1338.41 271.04 Q1342.04 271.04 1343.85 267.498 Q1345.68 263.934 1345.68 256.827 Q1345.68 249.698 1343.85 246.156 Q1342.04 242.591 1338.41 242.591 M1338.41 238.887 Q1344.22 238.887 1347.28 243.494 Q1350.36 248.077 1350.36 256.827 Q1350.36 265.554 1347.28 270.16 Q1344.22 274.744 1338.41 274.744 Q1332.6 274.744 1329.52 270.16 Q1326.47 265.554 1326.47 256.827 Q1326.47 248.077 1329.52 243.494 Q1332.6 238.887 1338.41 238.887 Z\" fill=\"#000000\" fill-rule=\"nonzero\" fill-opacity=\"1\" /><path clip-path=\"url(#clip350)\" d=\"M1698.61 44.2197 Q1701.24 45.1109 1703.71 48.0275 Q1706.22 50.9442 1708.73 56.0483 L1717.04 72.576 L1708.25 72.576 L1700.51 57.061 Q1697.51 50.9847 1694.68 48.9997 Q1691.88 47.0148 1687.02 47.0148 L1678.11 47.0148 L1678.11 72.576 L1669.93 72.576 L1669.93 12.096 L1688.4 12.096 Q1698.77 12.096 1703.87 16.4305 Q1708.98 20.7649 1708.98 29.5149 Q1708.98 35.2267 1706.3 38.994 Q1703.67 42.7613 1698.61 44.2197 M1678.11 18.8205 L1678.11 40.2903 L1688.4 40.2903 Q1694.31 40.2903 1697.31 37.5762 Q1700.35 34.8216 1700.35 29.5149 Q1700.35 24.2082 1697.31 21.5346 Q1694.31 18.8205 1688.4 18.8205 L1678.11 18.8205 Z\" fill=\"#000000\" fill-rule=\"nonzero\" fill-opacity=\"1\" /><path clip-path=\"url(#clip350)\" d=\"M1762.33 48.0275 L1762.33 51.6733 L1728.06 51.6733 Q1728.54 59.3701 1732.68 63.421 Q1736.85 67.4314 1744.26 67.4314 Q1748.55 67.4314 1752.57 66.3781 Q1756.62 65.3249 1760.59 63.2184 L1760.59 70.267 Q1756.58 71.9684 1752.36 72.8596 Q1748.15 73.7508 1743.82 73.7508 Q1732.96 73.7508 1726.6 67.4314 Q1720.28 61.1119 1720.28 50.3365 Q1720.28 39.1965 1726.27 32.6746 Q1732.31 26.1121 1742.52 26.1121 Q1751.67 26.1121 1756.98 32.0264 Q1762.33 37.9003 1762.33 48.0275 M1754.87 45.84 Q1754.79 39.7232 1751.43 36.0774 Q1748.11 32.4315 1742.6 32.4315 Q1736.36 32.4315 1732.59 35.9558 Q1728.87 39.4801 1728.3 45.8805 L1754.87 45.84 Z\" fill=\"#000000\" fill-rule=\"nonzero\" fill-opacity=\"1\" /><path clip-path=\"url(#clip350)\" d=\"M1807.21 28.9478 L1807.21 35.9153 Q1804.05 34.1734 1800.85 33.3227 Q1797.69 32.4315 1794.45 32.4315 Q1787.2 32.4315 1783.19 37.0496 Q1779.18 41.6271 1779.18 49.9314 Q1779.18 58.2358 1783.19 62.8538 Q1787.2 67.4314 1794.45 67.4314 Q1797.69 67.4314 1800.85 66.5807 Q1804.05 65.6895 1807.21 63.9476 L1807.21 70.8341 Q1804.09 72.2924 1800.73 73.0216 Q1797.41 73.7508 1793.64 73.7508 Q1783.39 73.7508 1777.36 67.3098 Q1771.32 60.8689 1771.32 49.9314 Q1771.32 38.832 1777.4 32.472 Q1783.51 26.1121 1794.13 26.1121 Q1797.57 26.1121 1800.85 26.8413 Q1804.13 27.5299 1807.21 28.9478 Z\" fill=\"#000000\" fill-rule=\"nonzero\" fill-opacity=\"1\" /><path clip-path=\"url(#clip350)\" d=\"M1858.98 48.0275 L1858.98 51.6733 L1824.71 51.6733 Q1825.2 59.3701 1829.33 63.421 Q1833.5 67.4314 1840.92 67.4314 Q1845.21 67.4314 1849.22 66.3781 Q1853.27 65.3249 1857.24 63.2184 L1857.24 70.267 Q1853.23 71.9684 1849.02 72.8596 Q1844.8 73.7508 1840.47 73.7508 Q1829.61 73.7508 1823.25 67.4314 Q1816.93 61.1119 1816.93 50.3365 Q1816.93 39.1965 1822.93 32.6746 Q1828.97 26.1121 1839.17 26.1121 Q1848.33 26.1121 1853.64 32.0264 Q1858.98 37.9003 1858.98 48.0275 M1851.53 45.84 Q1851.45 39.7232 1848.09 36.0774 Q1844.76 32.4315 1839.25 32.4315 Q1833.02 32.4315 1829.25 35.9558 Q1825.52 39.4801 1824.96 45.8805 L1851.53 45.84 Z\" fill=\"#000000\" fill-rule=\"nonzero\" fill-opacity=\"1\" /><path clip-path=\"url(#clip350)\" d=\"M1900.14 28.5427 L1900.14 35.5912 Q1896.98 33.9709 1893.58 33.1607 Q1890.17 32.3505 1886.53 32.3505 Q1880.98 32.3505 1878.18 34.0519 Q1875.43 35.7533 1875.43 39.156 Q1875.43 41.7486 1877.41 43.2475 Q1879.4 44.7058 1885.39 46.0426 L1887.95 46.6097 Q1895.89 48.3111 1899.21 51.4303 Q1902.57 54.509 1902.57 60.0587 Q1902.57 66.3781 1897.55 70.0644 Q1892.56 73.7508 1883.81 73.7508 Q1880.17 73.7508 1876.2 73.0216 Q1872.27 72.3329 1867.89 70.9151 L1867.89 63.2184 Q1872.03 65.3654 1876.04 66.4591 Q1880.05 67.5124 1883.98 67.5124 Q1889.24 67.5124 1892.08 65.73 Q1894.91 63.9071 1894.91 60.6258 Q1894.91 57.5877 1892.85 55.9673 Q1890.82 54.3469 1883.9 52.8481 L1881.3 52.2405 Q1874.38 50.7821 1871.3 47.7845 Q1868.22 44.7463 1868.22 39.4801 Q1868.22 33.0797 1872.76 29.5959 Q1877.29 26.1121 1885.64 26.1121 Q1889.77 26.1121 1893.42 26.7198 Q1897.06 27.3274 1900.14 28.5427 Z\" fill=\"#000000\" fill-rule=\"nonzero\" fill-opacity=\"1\" /><path clip-path=\"url(#clip350)\" d=\"M1943.36 28.5427 L1943.36 35.5912 Q1940.2 33.9709 1936.8 33.1607 Q1933.4 32.3505 1929.75 32.3505 Q1924.2 32.3505 1921.41 34.0519 Q1918.65 35.7533 1918.65 39.156 Q1918.65 41.7486 1920.64 43.2475 Q1922.62 44.7058 1928.62 46.0426 L1931.17 46.6097 Q1939.11 48.3111 1942.43 51.4303 Q1945.79 54.509 1945.79 60.0587 Q1945.79 66.3781 1940.77 70.0644 Q1935.79 73.7508 1927.04 73.7508 Q1923.39 73.7508 1919.42 73.0216 Q1915.49 72.3329 1911.12 70.9151 L1911.12 63.2184 Q1915.25 65.3654 1919.26 66.4591 Q1923.27 67.5124 1927.2 67.5124 Q1932.47 67.5124 1935.3 65.73 Q1938.14 63.9071 1938.14 60.6258 Q1938.14 57.5877 1936.07 55.9673 Q1934.05 54.3469 1927.12 52.8481 L1924.53 52.2405 Q1917.6 50.7821 1914.52 47.7845 Q1911.44 44.7463 1911.44 39.4801 Q1911.44 33.0797 1915.98 29.5959 Q1920.52 26.1121 1928.86 26.1121 Q1932.99 26.1121 1936.64 26.7198 Q1940.28 27.3274 1943.36 28.5427 Z\" fill=\"#000000\" fill-rule=\"nonzero\" fill-opacity=\"1\" /><path clip-path=\"url(#clip350)\" d=\"M1957.66 27.2059 L1965.12 27.2059 L1965.12 72.576 L1957.66 72.576 L1957.66 27.2059 M1957.66 9.54393 L1965.12 9.54393 L1965.12 18.9825 L1957.66 18.9825 L1957.66 9.54393 Z\" fill=\"#000000\" fill-rule=\"nonzero\" fill-opacity=\"1\" /><path clip-path=\"url(#clip350)\" d=\"M1998.29 32.4315 Q1992.3 32.4315 1988.81 37.1306 Q1985.33 41.7891 1985.33 49.9314 Q1985.33 58.0738 1988.77 62.7728 Q1992.26 67.4314 1998.29 67.4314 Q2004.25 67.4314 2007.73 62.7323 Q2011.22 58.0333 2011.22 49.9314 Q2011.22 41.8701 2007.73 37.1711 Q2004.25 32.4315 1998.29 32.4315 M1998.29 26.1121 Q2008.02 26.1121 2013.57 32.4315 Q2019.11 38.7509 2019.11 49.9314 Q2019.11 61.0714 2013.57 67.4314 Q2008.02 73.7508 1998.29 73.7508 Q1988.53 73.7508 1982.98 67.4314 Q1977.47 61.0714 1977.47 49.9314 Q1977.47 38.7509 1982.98 32.4315 Q1988.53 26.1121 1998.29 26.1121 Z\" fill=\"#000000\" fill-rule=\"nonzero\" fill-opacity=\"1\" /><path clip-path=\"url(#clip350)\" d=\"M2069.18 45.1919 L2069.18 72.576 L2061.73 72.576 L2061.73 45.4349 Q2061.73 38.994 2059.22 35.7938 Q2056.71 32.5936 2051.68 32.5936 Q2045.65 32.5936 2042.16 36.4419 Q2038.68 40.2903 2038.68 46.9338 L2038.68 72.576 L2031.19 72.576 L2031.19 27.2059 L2038.68 27.2059 L2038.68 34.2544 Q2041.35 30.163 2044.96 28.1376 Q2048.61 26.1121 2053.34 26.1121 Q2061.16 26.1121 2065.17 30.9732 Q2069.18 35.7938 2069.18 45.1919 Z\" fill=\"#000000\" fill-rule=\"nonzero\" fill-opacity=\"1\" /><polyline clip-path=\"url(#clip353)\" style=\"stroke:#009af9; stroke-linecap:round; stroke-linejoin:round; stroke-width:4; stroke-opacity:1; fill:none\" points=\"1413.71,166.495 1461.69,139.405 1509.67,189.521 1557.66,257.921 1605.64,324.717 1653.63,384.009 1701.61,434.787 1749.6,477.637 1797.58,513.569 1845.56,543.619 1893.55,568.719 1941.53,589.674 1989.52,607.165 2037.5,621.762 2085.48,633.944 2133.47,644.111 2181.45,652.595 2229.44,659.675 2277.42,665.584 2325.4,670.515 \"/>\n",
       "<path clip-path=\"url(#clip350)\" d=\"M2171.47 245.918 L2320.54 245.918 L2320.54 142.238 L2171.47 142.238  Z\" fill=\"#ffffff\" fill-rule=\"evenodd\" fill-opacity=\"1\"/>\n",
       "<polyline clip-path=\"url(#clip350)\" style=\"stroke:#000000; stroke-linecap:round; stroke-linejoin:round; stroke-width:4; stroke-opacity:1; fill:none\" points=\"2171.47,245.918 2320.54,245.918 2320.54,142.238 2171.47,142.238 2171.47,245.918 \"/>\n",
       "<polyline clip-path=\"url(#clip350)\" style=\"stroke:#009af9; stroke-linecap:round; stroke-linejoin:round; stroke-width:4; stroke-opacity:1; fill:none\" points=\"2182.21,194.078 2246.64,194.078 \"/>\n",
       "<path clip-path=\"url(#clip350)\" d=\"M2271.22 213.765 Q2269.41 218.395 2267.7 219.807 Q2265.99 221.219 2263.12 221.219 L2259.71 221.219 L2259.71 217.654 L2262.21 217.654 Q2263.97 217.654 2264.94 216.821 Q2265.92 215.988 2267.1 212.886 L2267.86 210.941 L2257.37 185.432 L2261.89 185.432 L2269.99 205.71 L2278.09 185.432 L2282.61 185.432 L2271.22 213.765 Z\" fill=\"#000000\" fill-rule=\"nonzero\" fill-opacity=\"1\" /><path clip-path=\"url(#clip350)\" d=\"M2289.9 207.423 L2297.54 207.423 L2297.54 181.057 L2289.23 182.724 L2289.23 178.465 L2297.49 176.798 L2302.17 176.798 L2302.17 207.423 L2309.8 207.423 L2309.8 211.358 L2289.9 211.358 L2289.9 207.423 Z\" fill=\"#000000\" fill-rule=\"nonzero\" fill-opacity=\"1\" /><path clip-path=\"url(#clip350)\" d=\"M186.436 1486.45 L1152.84 1486.45 L1152.84 923.472 L186.436 923.472  Z\" fill=\"#ffffff\" fill-rule=\"evenodd\" fill-opacity=\"1\"/>\n",
       "<defs>\n",
       "  <clipPath id=\"clip354\">\n",
       "    <rect x=\"186\" y=\"923\" width=\"967\" height=\"564\"/>\n",
       "  </clipPath>\n",
       "</defs>\n",
       "<polyline clip-path=\"url(#clip354)\" style=\"stroke:#000000; stroke-linecap:round; stroke-linejoin:round; stroke-width:2; stroke-opacity:0.1; fill:none\" points=\"405.724,1486.45 405.724,923.472 \"/>\n",
       "<polyline clip-path=\"url(#clip354)\" style=\"stroke:#000000; stroke-linecap:round; stroke-linejoin:round; stroke-width:2; stroke-opacity:0.1; fill:none\" points=\"645.644,1486.45 645.644,923.472 \"/>\n",
       "<polyline clip-path=\"url(#clip354)\" style=\"stroke:#000000; stroke-linecap:round; stroke-linejoin:round; stroke-width:2; stroke-opacity:0.1; fill:none\" points=\"885.565,1486.45 885.565,923.472 \"/>\n",
       "<polyline clip-path=\"url(#clip354)\" style=\"stroke:#000000; stroke-linecap:round; stroke-linejoin:round; stroke-width:2; stroke-opacity:0.1; fill:none\" points=\"1125.49,1486.45 1125.49,923.472 \"/>\n",
       "<polyline clip-path=\"url(#clip354)\" style=\"stroke:#000000; stroke-linecap:round; stroke-linejoin:round; stroke-width:2; stroke-opacity:0.1; fill:none\" points=\"186.436,1436.31 1152.84,1436.31 \"/>\n",
       "<polyline clip-path=\"url(#clip354)\" style=\"stroke:#000000; stroke-linecap:round; stroke-linejoin:round; stroke-width:2; stroke-opacity:0.1; fill:none\" points=\"186.436,1329.83 1152.84,1329.83 \"/>\n",
       "<polyline clip-path=\"url(#clip354)\" style=\"stroke:#000000; stroke-linecap:round; stroke-linejoin:round; stroke-width:2; stroke-opacity:0.1; fill:none\" points=\"186.436,1223.35 1152.84,1223.35 \"/>\n",
       "<polyline clip-path=\"url(#clip354)\" style=\"stroke:#000000; stroke-linecap:round; stroke-linejoin:round; stroke-width:2; stroke-opacity:0.1; fill:none\" points=\"186.436,1116.87 1152.84,1116.87 \"/>\n",
       "<polyline clip-path=\"url(#clip354)\" style=\"stroke:#000000; stroke-linecap:round; stroke-linejoin:round; stroke-width:2; stroke-opacity:0.1; fill:none\" points=\"186.436,1010.39 1152.84,1010.39 \"/>\n",
       "<polyline clip-path=\"url(#clip350)\" style=\"stroke:#000000; stroke-linecap:round; stroke-linejoin:round; stroke-width:4; stroke-opacity:1; fill:none\" points=\"186.436,1486.45 1152.84,1486.45 \"/>\n",
       "<polyline clip-path=\"url(#clip350)\" style=\"stroke:#000000; stroke-linecap:round; stroke-linejoin:round; stroke-width:4; stroke-opacity:1; fill:none\" points=\"405.724,1486.45 405.724,1467.55 \"/>\n",
       "<polyline clip-path=\"url(#clip350)\" style=\"stroke:#000000; stroke-linecap:round; stroke-linejoin:round; stroke-width:4; stroke-opacity:1; fill:none\" points=\"645.644,1486.45 645.644,1467.55 \"/>\n",
       "<polyline clip-path=\"url(#clip350)\" style=\"stroke:#000000; stroke-linecap:round; stroke-linejoin:round; stroke-width:4; stroke-opacity:1; fill:none\" points=\"885.565,1486.45 885.565,1467.55 \"/>\n",
       "<polyline clip-path=\"url(#clip350)\" style=\"stroke:#000000; stroke-linecap:round; stroke-linejoin:round; stroke-width:4; stroke-opacity:1; fill:none\" points=\"1125.49,1486.45 1125.49,1467.55 \"/>\n",
       "<path clip-path=\"url(#clip350)\" d=\"M396.001 1514.29 L414.358 1514.29 L414.358 1518.22 L400.284 1518.22 L400.284 1526.7 Q401.302 1526.35 402.321 1526.19 Q403.339 1526 404.358 1526 Q410.145 1526 413.525 1529.17 Q416.904 1532.34 416.904 1537.76 Q416.904 1543.34 413.432 1546.44 Q409.96 1549.52 403.64 1549.52 Q401.464 1549.52 399.196 1549.15 Q396.951 1548.78 394.543 1548.04 L394.543 1543.34 Q396.626 1544.47 398.849 1545.03 Q401.071 1545.58 403.548 1545.58 Q407.552 1545.58 409.89 1543.48 Q412.228 1541.37 412.228 1537.76 Q412.228 1534.15 409.89 1532.04 Q407.552 1529.94 403.548 1529.94 Q401.673 1529.94 399.798 1530.35 Q397.946 1530.77 396.001 1531.65 L396.001 1514.29 Z\" fill=\"#000000\" fill-rule=\"nonzero\" fill-opacity=\"1\" /><path clip-path=\"url(#clip350)\" d=\"M620.332 1544.91 L627.971 1544.91 L627.971 1518.55 L619.661 1520.21 L619.661 1515.95 L627.925 1514.29 L632.6 1514.29 L632.6 1544.91 L640.239 1544.91 L640.239 1548.85 L620.332 1548.85 L620.332 1544.91 Z\" fill=\"#000000\" fill-rule=\"nonzero\" fill-opacity=\"1\" /><path clip-path=\"url(#clip350)\" d=\"M659.684 1517.37 Q656.073 1517.37 654.244 1520.93 Q652.438 1524.47 652.438 1531.6 Q652.438 1538.71 654.244 1542.27 Q656.073 1545.82 659.684 1545.82 Q663.318 1545.82 665.123 1542.27 Q666.952 1538.71 666.952 1531.6 Q666.952 1524.47 665.123 1520.93 Q663.318 1517.37 659.684 1517.37 M659.684 1513.66 Q665.494 1513.66 668.549 1518.27 Q671.628 1522.85 671.628 1531.6 Q671.628 1540.33 668.549 1544.94 Q665.494 1549.52 659.684 1549.52 Q653.874 1549.52 650.795 1544.94 Q647.739 1540.33 647.739 1531.6 Q647.739 1522.85 650.795 1518.27 Q653.874 1513.66 659.684 1513.66 Z\" fill=\"#000000\" fill-rule=\"nonzero\" fill-opacity=\"1\" /><path clip-path=\"url(#clip350)\" d=\"M860.75 1544.91 L868.389 1544.91 L868.389 1518.55 L860.079 1520.21 L860.079 1515.95 L868.343 1514.29 L873.019 1514.29 L873.019 1544.91 L880.658 1544.91 L880.658 1548.85 L860.75 1548.85 L860.75 1544.91 Z\" fill=\"#000000\" fill-rule=\"nonzero\" fill-opacity=\"1\" /><path clip-path=\"url(#clip350)\" d=\"M890.148 1514.29 L908.505 1514.29 L908.505 1518.22 L894.431 1518.22 L894.431 1526.7 Q895.449 1526.35 896.468 1526.19 Q897.486 1526 898.505 1526 Q904.292 1526 907.672 1529.17 Q911.051 1532.34 911.051 1537.76 Q911.051 1543.34 907.579 1546.44 Q904.107 1549.52 897.787 1549.52 Q895.611 1549.52 893.343 1549.15 Q891.098 1548.78 888.69 1548.04 L888.69 1543.34 Q890.773 1544.47 892.996 1545.03 Q895.218 1545.58 897.695 1545.58 Q901.699 1545.58 904.037 1543.48 Q906.375 1541.37 906.375 1537.76 Q906.375 1534.15 904.037 1532.04 Q901.699 1529.94 897.695 1529.94 Q895.82 1529.94 893.945 1530.35 Q892.093 1530.77 890.148 1531.65 L890.148 1514.29 Z\" fill=\"#000000\" fill-rule=\"nonzero\" fill-opacity=\"1\" /><path clip-path=\"url(#clip350)\" d=\"M1104.26 1544.91 L1120.58 1544.91 L1120.58 1548.85 L1098.63 1548.85 L1098.63 1544.91 Q1101.3 1542.16 1105.88 1537.53 Q1110.49 1532.88 1111.67 1531.53 Q1113.91 1529.01 1114.79 1527.27 Q1115.69 1525.51 1115.69 1523.82 Q1115.69 1521.07 1113.75 1519.33 Q1111.83 1517.6 1108.73 1517.6 Q1106.53 1517.6 1104.07 1518.36 Q1101.64 1519.13 1098.87 1520.68 L1098.87 1515.95 Q1101.69 1514.82 1104.14 1514.24 Q1106.6 1513.66 1108.63 1513.66 Q1114 1513.66 1117.2 1516.35 Q1120.39 1519.03 1120.39 1523.52 Q1120.39 1525.65 1119.58 1527.57 Q1118.8 1529.47 1116.69 1532.07 Q1116.11 1532.74 1113.01 1535.95 Q1109.91 1539.15 1104.26 1544.91 Z\" fill=\"#000000\" fill-rule=\"nonzero\" fill-opacity=\"1\" /><path clip-path=\"url(#clip350)\" d=\"M1140.39 1517.37 Q1136.78 1517.37 1134.95 1520.93 Q1133.15 1524.47 1133.15 1531.6 Q1133.15 1538.71 1134.95 1542.27 Q1136.78 1545.82 1140.39 1545.82 Q1144.03 1545.82 1145.83 1542.27 Q1147.66 1538.71 1147.66 1531.6 Q1147.66 1524.47 1145.83 1520.93 Q1144.03 1517.37 1140.39 1517.37 M1140.39 1513.66 Q1146.2 1513.66 1149.26 1518.27 Q1152.34 1522.85 1152.34 1531.6 Q1152.34 1540.33 1149.26 1544.94 Q1146.2 1549.52 1140.39 1549.52 Q1134.58 1549.52 1131.5 1544.94 Q1128.45 1540.33 1128.45 1531.6 Q1128.45 1522.85 1131.5 1518.27 Q1134.58 1513.66 1140.39 1513.66 Z\" fill=\"#000000\" fill-rule=\"nonzero\" fill-opacity=\"1\" /><polyline clip-path=\"url(#clip350)\" style=\"stroke:#000000; stroke-linecap:round; stroke-linejoin:round; stroke-width:4; stroke-opacity:1; fill:none\" points=\"186.436,1486.45 186.436,923.472 \"/>\n",
       "<polyline clip-path=\"url(#clip350)\" style=\"stroke:#000000; stroke-linecap:round; stroke-linejoin:round; stroke-width:4; stroke-opacity:1; fill:none\" points=\"186.436,1436.31 205.334,1436.31 \"/>\n",
       "<polyline clip-path=\"url(#clip350)\" style=\"stroke:#000000; stroke-linecap:round; stroke-linejoin:round; stroke-width:4; stroke-opacity:1; fill:none\" points=\"186.436,1329.83 205.334,1329.83 \"/>\n",
       "<polyline clip-path=\"url(#clip350)\" style=\"stroke:#000000; stroke-linecap:round; stroke-linejoin:round; stroke-width:4; stroke-opacity:1; fill:none\" points=\"186.436,1223.35 205.334,1223.35 \"/>\n",
       "<polyline clip-path=\"url(#clip350)\" style=\"stroke:#000000; stroke-linecap:round; stroke-linejoin:round; stroke-width:4; stroke-opacity:1; fill:none\" points=\"186.436,1116.87 205.334,1116.87 \"/>\n",
       "<polyline clip-path=\"url(#clip350)\" style=\"stroke:#000000; stroke-linecap:round; stroke-linejoin:round; stroke-width:4; stroke-opacity:1; fill:none\" points=\"186.436,1010.39 205.334,1010.39 \"/>\n",
       "<path clip-path=\"url(#clip350)\" d=\"M62.9365 1422.11 Q59.3254 1422.11 57.4967 1425.67 Q55.6912 1429.22 55.6912 1436.34 Q55.6912 1443.45 57.4967 1447.02 Q59.3254 1450.56 62.9365 1450.56 Q66.5707 1450.56 68.3763 1447.02 Q70.205 1443.45 70.205 1436.34 Q70.205 1429.22 68.3763 1425.67 Q66.5707 1422.11 62.9365 1422.11 M62.9365 1418.41 Q68.7467 1418.41 71.8022 1423.01 Q74.8809 1427.6 74.8809 1436.34 Q74.8809 1445.07 71.8022 1449.68 Q68.7467 1454.26 62.9365 1454.26 Q57.1264 1454.26 54.0477 1449.68 Q50.9921 1445.07 50.9921 1436.34 Q50.9921 1427.6 54.0477 1423.01 Q57.1264 1418.41 62.9365 1418.41 Z\" fill=\"#000000\" fill-rule=\"nonzero\" fill-opacity=\"1\" /><path clip-path=\"url(#clip350)\" d=\"M83.0984 1447.71 L87.9827 1447.71 L87.9827 1453.59 L83.0984 1453.59 L83.0984 1447.71 Z\" fill=\"#000000\" fill-rule=\"nonzero\" fill-opacity=\"1\" /><path clip-path=\"url(#clip350)\" d=\"M108.168 1422.11 Q104.557 1422.11 102.728 1425.67 Q100.922 1429.22 100.922 1436.34 Q100.922 1443.45 102.728 1447.02 Q104.557 1450.56 108.168 1450.56 Q111.802 1450.56 113.608 1447.02 Q115.436 1443.45 115.436 1436.34 Q115.436 1429.22 113.608 1425.67 Q111.802 1422.11 108.168 1422.11 M108.168 1418.41 Q113.978 1418.41 117.033 1423.01 Q120.112 1427.6 120.112 1436.34 Q120.112 1445.07 117.033 1449.68 Q113.978 1454.26 108.168 1454.26 Q102.358 1454.26 99.2789 1449.68 Q96.2234 1445.07 96.2234 1436.34 Q96.2234 1427.6 99.2789 1423.01 Q102.358 1418.41 108.168 1418.41 Z\" fill=\"#000000\" fill-rule=\"nonzero\" fill-opacity=\"1\" /><path clip-path=\"url(#clip350)\" d=\"M138.908 1434.45 Q135.76 1434.45 133.908 1436.6 Q132.08 1438.75 132.08 1442.5 Q132.08 1446.23 133.908 1448.41 Q135.76 1450.56 138.908 1450.56 Q142.056 1450.56 143.885 1448.41 Q145.737 1446.23 145.737 1442.5 Q145.737 1438.75 143.885 1436.6 Q142.056 1434.45 138.908 1434.45 M148.191 1419.79 L148.191 1424.05 Q146.431 1423.22 144.626 1422.78 Q142.843 1422.34 141.084 1422.34 Q136.455 1422.34 134.001 1425.47 Q131.57 1428.59 131.223 1434.91 Q132.589 1432.9 134.649 1431.83 Q136.709 1430.74 139.186 1430.74 Q144.394 1430.74 147.404 1433.91 Q150.436 1437.06 150.436 1442.5 Q150.436 1447.83 147.288 1451.04 Q144.14 1454.26 138.908 1454.26 Q132.913 1454.26 129.742 1449.68 Q126.57 1445.07 126.57 1436.34 Q126.57 1428.15 130.459 1423.29 Q134.348 1418.41 140.899 1418.41 Q142.658 1418.41 144.441 1418.75 Q146.246 1419.1 148.191 1419.79 Z\" fill=\"#000000\" fill-rule=\"nonzero\" fill-opacity=\"1\" /><path clip-path=\"url(#clip350)\" d=\"M63.2837 1315.63 Q59.6726 1315.63 57.8439 1319.19 Q56.0384 1322.74 56.0384 1329.87 Q56.0384 1336.97 57.8439 1340.54 Q59.6726 1344.08 63.2837 1344.08 Q66.918 1344.08 68.7235 1340.54 Q70.5522 1336.97 70.5522 1329.87 Q70.5522 1322.74 68.7235 1319.19 Q66.918 1315.63 63.2837 1315.63 M63.2837 1311.93 Q69.0939 1311.93 72.1494 1316.53 Q75.2281 1321.12 75.2281 1329.87 Q75.2281 1338.59 72.1494 1343.2 Q69.0939 1347.78 63.2837 1347.78 Q57.4736 1347.78 54.3949 1343.2 Q51.3393 1338.59 51.3393 1329.87 Q51.3393 1321.12 54.3949 1316.53 Q57.4736 1311.93 63.2837 1311.93 Z\" fill=\"#000000\" fill-rule=\"nonzero\" fill-opacity=\"1\" /><path clip-path=\"url(#clip350)\" d=\"M83.4457 1341.23 L88.3299 1341.23 L88.3299 1347.11 L83.4457 1347.11 L83.4457 1341.23 Z\" fill=\"#000000\" fill-rule=\"nonzero\" fill-opacity=\"1\" /><path clip-path=\"url(#clip350)\" d=\"M108.515 1315.63 Q104.904 1315.63 103.075 1319.19 Q101.27 1322.74 101.27 1329.87 Q101.27 1336.97 103.075 1340.54 Q104.904 1344.08 108.515 1344.08 Q112.149 1344.08 113.955 1340.54 Q115.783 1336.97 115.783 1329.87 Q115.783 1322.74 113.955 1319.19 Q112.149 1315.63 108.515 1315.63 M108.515 1311.93 Q114.325 1311.93 117.381 1316.53 Q120.459 1321.12 120.459 1329.87 Q120.459 1338.59 117.381 1343.2 Q114.325 1347.78 108.515 1347.78 Q102.705 1347.78 99.6261 1343.2 Q96.5706 1338.59 96.5706 1329.87 Q96.5706 1321.12 99.6261 1316.53 Q102.705 1311.93 108.515 1311.93 Z\" fill=\"#000000\" fill-rule=\"nonzero\" fill-opacity=\"1\" /><path clip-path=\"url(#clip350)\" d=\"M128.816 1346.39 L128.816 1342.13 Q130.575 1342.97 132.381 1343.41 Q134.186 1343.85 135.922 1343.85 Q140.552 1343.85 142.982 1340.74 Q145.436 1337.62 145.783 1331.28 Q144.441 1333.27 142.381 1334.33 Q140.32 1335.4 137.82 1335.4 Q132.635 1335.4 129.603 1332.27 Q126.594 1329.12 126.594 1323.68 Q126.594 1318.36 129.742 1315.14 Q132.89 1311.93 138.121 1311.93 Q144.117 1311.93 147.265 1316.53 Q150.436 1321.12 150.436 1329.87 Q150.436 1338.04 146.547 1342.92 Q142.681 1347.78 136.131 1347.78 Q134.371 1347.78 132.566 1347.43 Q130.76 1347.09 128.816 1346.39 M138.121 1331.74 Q141.269 1331.74 143.098 1329.59 Q144.95 1327.43 144.95 1323.68 Q144.95 1319.96 143.098 1317.81 Q141.269 1315.63 138.121 1315.63 Q134.973 1315.63 133.121 1317.81 Q131.293 1319.96 131.293 1323.68 Q131.293 1327.43 133.121 1329.59 Q134.973 1331.74 138.121 1331.74 Z\" fill=\"#000000\" fill-rule=\"nonzero\" fill-opacity=\"1\" /><path clip-path=\"url(#clip350)\" d=\"M64.6958 1209.15 Q61.0847 1209.15 59.256 1212.71 Q57.4504 1216.26 57.4504 1223.39 Q57.4504 1230.49 59.256 1234.06 Q61.0847 1237.6 64.6958 1237.6 Q68.33 1237.6 70.1355 1234.06 Q71.9642 1230.49 71.9642 1223.39 Q71.9642 1216.26 70.1355 1212.71 Q68.33 1209.15 64.6958 1209.15 M64.6958 1205.45 Q70.5059 1205.45 73.5614 1210.05 Q76.6401 1214.64 76.6401 1223.39 Q76.6401 1232.11 73.5614 1236.72 Q70.5059 1241.3 64.6958 1241.3 Q58.8856 1241.3 55.8069 1236.72 Q52.7514 1232.11 52.7514 1223.39 Q52.7514 1214.64 55.8069 1210.05 Q58.8856 1205.45 64.6958 1205.45 Z\" fill=\"#000000\" fill-rule=\"nonzero\" fill-opacity=\"1\" /><path clip-path=\"url(#clip350)\" d=\"M84.8577 1234.75 L89.7419 1234.75 L89.7419 1240.63 L84.8577 1240.63 L84.8577 1234.75 Z\" fill=\"#000000\" fill-rule=\"nonzero\" fill-opacity=\"1\" /><path clip-path=\"url(#clip350)\" d=\"M100.737 1236.7 L108.376 1236.7 L108.376 1210.33 L100.066 1212 L100.066 1207.74 L108.33 1206.07 L113.006 1206.07 L113.006 1236.7 L120.645 1236.7 L120.645 1240.63 L100.737 1240.63 L100.737 1236.7 Z\" fill=\"#000000\" fill-rule=\"nonzero\" fill-opacity=\"1\" /><path clip-path=\"url(#clip350)\" d=\"M134.117 1236.7 L150.436 1236.7 L150.436 1240.63 L128.492 1240.63 L128.492 1236.7 Q131.154 1233.94 135.737 1229.31 Q140.343 1224.66 141.524 1223.32 Q143.769 1220.79 144.649 1219.06 Q145.552 1217.3 145.552 1215.61 Q145.552 1212.85 143.607 1211.12 Q141.686 1209.38 138.584 1209.38 Q136.385 1209.38 133.931 1210.15 Q131.501 1210.91 128.723 1212.46 L128.723 1207.74 Q131.547 1206.6 134.001 1206.02 Q136.455 1205.45 138.492 1205.45 Q143.862 1205.45 147.056 1208.13 Q150.251 1210.82 150.251 1215.31 Q150.251 1217.44 149.441 1219.36 Q148.654 1221.26 146.547 1223.85 Q145.968 1224.52 142.867 1227.74 Q139.765 1230.93 134.117 1236.7 Z\" fill=\"#000000\" fill-rule=\"nonzero\" fill-opacity=\"1\" /><path clip-path=\"url(#clip350)\" d=\"M64.0939 1102.67 Q60.4828 1102.67 58.6541 1106.23 Q56.8486 1109.78 56.8486 1116.91 Q56.8486 1124.01 58.6541 1127.58 Q60.4828 1131.12 64.0939 1131.12 Q67.7281 1131.12 69.5337 1127.58 Q71.3624 1124.01 71.3624 1116.91 Q71.3624 1109.78 69.5337 1106.23 Q67.7281 1102.67 64.0939 1102.67 M64.0939 1098.97 Q69.9041 1098.97 72.9596 1103.57 Q76.0383 1108.16 76.0383 1116.91 Q76.0383 1125.63 72.9596 1130.24 Q69.9041 1134.82 64.0939 1134.82 Q58.2838 1134.82 55.2051 1130.24 Q52.1495 1125.63 52.1495 1116.91 Q52.1495 1108.16 55.2051 1103.57 Q58.2838 1098.97 64.0939 1098.97 Z\" fill=\"#000000\" fill-rule=\"nonzero\" fill-opacity=\"1\" /><path clip-path=\"url(#clip350)\" d=\"M84.2558 1128.27 L89.1401 1128.27 L89.1401 1134.15 L84.2558 1134.15 L84.2558 1128.27 Z\" fill=\"#000000\" fill-rule=\"nonzero\" fill-opacity=\"1\" /><path clip-path=\"url(#clip350)\" d=\"M100.135 1130.22 L107.774 1130.22 L107.774 1103.85 L99.4641 1105.52 L99.4641 1101.26 L107.728 1099.59 L112.404 1099.59 L112.404 1130.22 L120.043 1130.22 L120.043 1134.15 L100.135 1134.15 L100.135 1130.22 Z\" fill=\"#000000\" fill-rule=\"nonzero\" fill-opacity=\"1\" /><path clip-path=\"url(#clip350)\" d=\"M129.533 1099.59 L147.89 1099.59 L147.89 1103.53 L133.816 1103.53 L133.816 1112 Q134.834 1111.65 135.853 1111.49 Q136.871 1111.3 137.89 1111.3 Q143.677 1111.3 147.056 1114.48 Q150.436 1117.65 150.436 1123.06 Q150.436 1128.64 146.964 1131.74 Q143.492 1134.82 137.172 1134.82 Q134.996 1134.82 132.728 1134.45 Q130.482 1134.08 128.075 1133.34 L128.075 1128.64 Q130.158 1129.78 132.381 1130.33 Q134.603 1130.89 137.08 1130.89 Q141.084 1130.89 143.422 1128.78 Q145.76 1126.67 145.76 1123.06 Q145.76 1119.45 143.422 1117.35 Q141.084 1115.24 137.08 1115.24 Q135.205 1115.24 133.33 1115.66 Q131.478 1116.07 129.533 1116.95 L129.533 1099.59 Z\" fill=\"#000000\" fill-rule=\"nonzero\" fill-opacity=\"1\" /><path clip-path=\"url(#clip350)\" d=\"M63.1911 996.19 Q59.58 996.19 57.7513 999.755 Q55.9458 1003.3 55.9458 1010.43 Q55.9458 1017.53 57.7513 1021.1 Q59.58 1024.64 63.1911 1024.64 Q66.8254 1024.64 68.6309 1021.1 Q70.4596 1017.53 70.4596 1010.43 Q70.4596 1003.3 68.6309 999.755 Q66.8254 996.19 63.1911 996.19 M63.1911 992.487 Q69.0013 992.487 72.0568 997.093 Q75.1355 1001.68 75.1355 1010.43 Q75.1355 1019.15 72.0568 1023.76 Q69.0013 1028.34 63.1911 1028.34 Q57.381 1028.34 54.3023 1023.76 Q51.2468 1019.15 51.2468 1010.43 Q51.2468 1001.68 54.3023 997.093 Q57.381 992.487 63.1911 992.487 Z\" fill=\"#000000\" fill-rule=\"nonzero\" fill-opacity=\"1\" /><path clip-path=\"url(#clip350)\" d=\"M83.3531 1021.79 L88.2373 1021.79 L88.2373 1027.67 L83.3531 1027.67 L83.3531 1021.79 Z\" fill=\"#000000\" fill-rule=\"nonzero\" fill-opacity=\"1\" /><path clip-path=\"url(#clip350)\" d=\"M99.2326 1023.74 L106.871 1023.74 L106.871 997.371 L98.5613 999.038 L98.5613 994.778 L106.825 993.112 L111.501 993.112 L111.501 1023.74 L119.14 1023.74 L119.14 1027.67 L99.2326 1027.67 L99.2326 1023.74 Z\" fill=\"#000000\" fill-rule=\"nonzero\" fill-opacity=\"1\" /><path clip-path=\"url(#clip350)\" d=\"M138.584 1011.26 Q135.251 1011.26 133.33 1013.04 Q131.432 1014.82 131.432 1017.95 Q131.432 1021.07 133.33 1022.86 Q135.251 1024.64 138.584 1024.64 Q141.918 1024.64 143.839 1022.86 Q145.76 1021.05 145.76 1017.95 Q145.76 1014.82 143.839 1013.04 Q141.941 1011.26 138.584 1011.26 M133.908 1009.27 Q130.899 1008.53 129.209 1006.47 Q127.543 1004.41 127.543 1001.45 Q127.543 997.302 130.482 994.894 Q133.445 992.487 138.584 992.487 Q143.746 992.487 146.686 994.894 Q149.626 997.302 149.626 1001.45 Q149.626 1004.41 147.936 1006.47 Q146.269 1008.53 143.283 1009.27 Q146.663 1010.06 148.538 1012.35 Q150.436 1014.64 150.436 1017.95 Q150.436 1022.97 147.357 1025.66 Q144.302 1028.34 138.584 1028.34 Q132.867 1028.34 129.788 1025.66 Q126.732 1022.97 126.732 1017.95 Q126.732 1014.64 128.631 1012.35 Q130.529 1010.06 133.908 1009.27 M132.195 1001.88 Q132.195 1004.57 133.862 1006.07 Q135.552 1007.58 138.584 1007.58 Q141.593 1007.58 143.283 1006.07 Q144.996 1004.57 144.996 1001.88 Q144.996 999.2 143.283 997.695 Q141.593 996.19 138.584 996.19 Q135.552 996.19 133.862 997.695 Q132.195 999.2 132.195 1001.88 Z\" fill=\"#000000\" fill-rule=\"nonzero\" fill-opacity=\"1\" /><path clip-path=\"url(#clip350)\" d=\"M355.691 818.821 L355.691 865.851 L365.576 865.851 Q378.093 865.851 383.886 860.18 Q389.719 854.509 389.719 842.275 Q389.719 830.123 383.886 824.492 Q378.093 818.821 365.576 818.821 L355.691 818.821 M347.509 812.096 L364.32 812.096 Q381.901 812.096 390.124 819.428 Q398.347 826.72 398.347 842.275 Q398.347 857.912 390.084 865.244 Q381.82 872.576 364.32 872.576 L347.509 872.576 L347.509 812.096 Z\" fill=\"#000000\" fill-rule=\"nonzero\" fill-opacity=\"1\" /><path clip-path=\"url(#clip350)\" d=\"M449.875 848.028 L449.875 851.673 L415.604 851.673 Q416.09 859.37 420.222 863.421 Q424.395 867.431 431.808 867.431 Q436.102 867.431 440.112 866.378 Q444.163 865.325 448.133 863.218 L448.133 870.267 Q444.123 871.968 439.91 872.86 Q435.697 873.751 431.362 873.751 Q420.506 873.751 414.146 867.431 Q407.827 861.112 407.827 850.337 Q407.827 839.197 413.822 832.675 Q419.858 826.112 430.066 826.112 Q439.221 826.112 444.528 832.026 Q449.875 837.9 449.875 848.028 M442.421 845.84 Q442.34 839.723 438.978 836.077 Q435.656 832.432 430.147 832.432 Q423.909 832.432 420.141 835.956 Q416.414 839.48 415.847 845.881 L442.421 845.84 Z\" fill=\"#000000\" fill-rule=\"nonzero\" fill-opacity=\"1\" /><path clip-path=\"url(#clip350)\" d=\"M500.916 848.028 L500.916 851.673 L466.646 851.673 Q467.132 859.37 471.264 863.421 Q475.436 867.431 482.849 867.431 Q487.143 867.431 491.154 866.378 Q495.205 865.325 499.174 863.218 L499.174 870.267 Q495.164 871.968 490.951 872.86 Q486.738 873.751 482.404 873.751 Q471.547 873.751 465.187 867.431 Q458.868 861.112 458.868 850.337 Q458.868 839.197 464.863 832.675 Q470.899 826.112 481.107 826.112 Q490.262 826.112 495.569 832.026 Q500.916 837.9 500.916 848.028 M493.463 845.84 Q493.382 839.723 490.019 836.077 Q486.698 832.432 481.188 832.432 Q474.95 832.432 471.183 835.956 Q467.456 839.48 466.889 845.881 L493.463 845.84 Z\" fill=\"#000000\" fill-rule=\"nonzero\" fill-opacity=\"1\" /><path clip-path=\"url(#clip350)\" d=\"M520.361 865.77 L520.361 889.833 L512.866 889.833 L512.866 827.206 L520.361 827.206 L520.361 834.092 Q522.71 830.042 526.275 828.097 Q529.88 826.112 534.863 826.112 Q543.127 826.112 548.271 832.675 Q553.457 839.237 553.457 849.931 Q553.457 860.626 548.271 867.188 Q543.127 873.751 534.863 873.751 Q529.88 873.751 526.275 871.806 Q522.71 869.821 520.361 865.77 M545.719 849.931 Q545.719 841.708 542.317 837.05 Q538.954 832.351 533.04 832.351 Q527.126 832.351 523.723 837.05 Q520.361 841.708 520.361 849.931 Q520.361 858.155 523.723 862.854 Q527.126 867.512 533.04 867.512 Q538.954 867.512 542.317 862.854 Q545.719 858.155 545.719 849.931 Z\" fill=\"#000000\" fill-rule=\"nonzero\" fill-opacity=\"1\" /><path clip-path=\"url(#clip350)\" d=\"M621.188 844.22 Q623.821 845.111 626.292 848.028 Q628.803 850.944 631.315 856.048 L639.619 872.576 L630.829 872.576 L623.092 857.061 Q620.094 850.985 617.258 849 Q614.463 847.015 609.602 847.015 L600.69 847.015 L600.69 872.576 L592.507 872.576 L592.507 812.096 L610.979 812.096 Q621.35 812.096 626.454 816.43 Q631.558 820.765 631.558 829.515 Q631.558 835.227 628.884 838.994 Q626.251 842.761 621.188 844.22 M600.69 818.821 L600.69 840.29 L610.979 840.29 Q616.894 840.29 619.891 837.576 Q622.93 834.822 622.93 829.515 Q622.93 824.208 619.891 821.535 Q616.894 818.821 610.979 818.821 L600.69 818.821 Z\" fill=\"#000000\" fill-rule=\"nonzero\" fill-opacity=\"1\" /><path clip-path=\"url(#clip350)\" d=\"M684.908 848.028 L684.908 851.673 L650.638 851.673 Q651.124 859.37 655.256 863.421 Q659.428 867.431 666.841 867.431 Q671.135 867.431 675.146 866.378 Q679.197 865.325 683.167 863.218 L683.167 870.267 Q679.156 871.968 674.943 872.86 Q670.73 873.751 666.396 873.751 Q655.539 873.751 649.179 867.431 Q642.86 861.112 642.86 850.337 Q642.86 839.197 648.855 832.675 Q654.891 826.112 665.099 826.112 Q674.255 826.112 679.561 832.026 Q684.908 837.9 684.908 848.028 M677.455 845.84 Q677.374 839.723 674.011 836.077 Q670.69 832.432 665.18 832.432 Q658.942 832.432 655.175 835.956 Q651.448 839.48 650.881 845.881 L677.455 845.84 Z\" fill=\"#000000\" fill-rule=\"nonzero\" fill-opacity=\"1\" /><path clip-path=\"url(#clip350)\" d=\"M729.792 828.948 L729.792 835.915 Q726.633 834.173 723.432 833.323 Q720.273 832.432 717.032 832.432 Q709.781 832.432 705.771 837.05 Q701.76 841.627 701.76 849.931 Q701.76 858.236 705.771 862.854 Q709.781 867.431 717.032 867.431 Q720.273 867.431 723.432 866.581 Q726.633 865.689 729.792 863.948 L729.792 870.834 Q726.673 872.292 723.311 873.022 Q719.989 873.751 716.222 873.751 Q705.973 873.751 699.937 867.31 Q693.901 860.869 693.901 849.931 Q693.901 838.832 699.978 832.472 Q706.095 826.112 716.708 826.112 Q720.151 826.112 723.432 826.841 Q726.714 827.53 729.792 828.948 Z\" fill=\"#000000\" fill-rule=\"nonzero\" fill-opacity=\"1\" /><path clip-path=\"url(#clip350)\" d=\"M781.563 848.028 L781.563 851.673 L747.292 851.673 Q747.778 859.37 751.91 863.421 Q756.083 867.431 763.496 867.431 Q767.79 867.431 771.8 866.378 Q775.851 865.325 779.821 863.218 L779.821 870.267 Q775.811 871.968 771.598 872.86 Q767.385 873.751 763.05 873.751 Q752.194 873.751 745.834 867.431 Q739.515 861.112 739.515 850.337 Q739.515 839.197 745.51 832.675 Q751.546 826.112 761.754 826.112 Q770.909 826.112 776.216 832.026 Q781.563 837.9 781.563 848.028 M774.109 845.84 Q774.028 839.723 770.666 836.077 Q767.344 832.432 761.835 832.432 Q755.597 832.432 751.829 835.956 Q748.102 839.48 747.535 845.881 L774.109 845.84 Z\" fill=\"#000000\" fill-rule=\"nonzero\" fill-opacity=\"1\" /><path clip-path=\"url(#clip350)\" d=\"M822.72 828.543 L822.72 835.591 Q819.56 833.971 816.158 833.161 Q812.755 832.351 809.109 832.351 Q803.559 832.351 800.764 834.052 Q798.01 835.753 798.01 839.156 Q798.01 841.749 799.995 843.247 Q801.98 844.706 807.975 846.043 L810.527 846.61 Q818.467 848.311 821.788 851.43 Q825.151 854.509 825.151 860.059 Q825.151 866.378 820.128 870.064 Q815.145 873.751 806.395 873.751 Q802.749 873.751 798.779 873.022 Q794.85 872.333 790.475 870.915 L790.475 863.218 Q794.607 865.365 798.617 866.459 Q802.628 867.512 806.557 867.512 Q811.823 867.512 814.659 865.73 Q817.494 863.907 817.494 860.626 Q817.494 857.588 815.429 855.967 Q813.403 854.347 806.476 852.848 L803.883 852.24 Q796.956 850.782 793.878 847.784 Q790.799 844.746 790.799 839.48 Q790.799 833.08 795.336 829.596 Q799.873 826.112 808.218 826.112 Q812.35 826.112 815.996 826.72 Q819.641 827.327 822.72 828.543 Z\" fill=\"#000000\" fill-rule=\"nonzero\" fill-opacity=\"1\" /><path clip-path=\"url(#clip350)\" d=\"M865.943 828.543 L865.943 835.591 Q862.784 833.971 859.381 833.161 Q855.978 832.351 852.332 832.351 Q846.783 832.351 843.987 834.052 Q841.233 835.753 841.233 839.156 Q841.233 841.749 843.218 843.247 Q845.203 844.706 851.198 846.043 L853.75 846.61 Q861.69 848.311 865.012 851.43 Q868.374 854.509 868.374 860.059 Q868.374 866.378 863.351 870.064 Q858.368 873.751 849.618 873.751 Q845.972 873.751 842.002 873.022 Q838.073 872.333 833.698 870.915 L833.698 863.218 Q837.83 865.365 841.84 866.459 Q845.851 867.512 849.78 867.512 Q855.046 867.512 857.882 865.73 Q860.718 863.907 860.718 860.626 Q860.718 857.588 858.652 855.967 Q856.626 854.347 849.699 852.848 L847.107 852.24 Q840.18 850.782 837.101 847.784 Q834.022 844.746 834.022 839.48 Q834.022 833.08 838.559 829.596 Q843.096 826.112 851.441 826.112 Q855.573 826.112 859.219 826.72 Q862.865 827.327 865.943 828.543 Z\" fill=\"#000000\" fill-rule=\"nonzero\" fill-opacity=\"1\" /><path clip-path=\"url(#clip350)\" d=\"M880.243 827.206 L887.697 827.206 L887.697 872.576 L880.243 872.576 L880.243 827.206 M880.243 809.544 L887.697 809.544 L887.697 818.983 L880.243 818.983 L880.243 809.544 Z\" fill=\"#000000\" fill-rule=\"nonzero\" fill-opacity=\"1\" /><path clip-path=\"url(#clip350)\" d=\"M920.874 832.432 Q914.878 832.432 911.394 837.131 Q907.911 841.789 907.911 849.931 Q907.911 858.074 911.354 862.773 Q914.838 867.431 920.874 867.431 Q926.828 867.431 930.312 862.732 Q933.796 858.033 933.796 849.931 Q933.796 841.87 930.312 837.171 Q926.828 832.432 920.874 832.432 M920.874 826.112 Q930.596 826.112 936.145 832.432 Q941.695 838.751 941.695 849.931 Q941.695 861.071 936.145 867.431 Q930.596 873.751 920.874 873.751 Q911.111 873.751 905.561 867.431 Q900.052 861.071 900.052 849.931 Q900.052 838.751 905.561 832.432 Q911.111 826.112 920.874 826.112 Z\" fill=\"#000000\" fill-rule=\"nonzero\" fill-opacity=\"1\" /><path clip-path=\"url(#clip350)\" d=\"M991.764 845.192 L991.764 872.576 L984.311 872.576 L984.311 845.435 Q984.311 838.994 981.799 835.794 Q979.288 832.594 974.264 832.594 Q968.229 832.594 964.745 836.442 Q961.261 840.29 961.261 846.934 L961.261 872.576 L953.767 872.576 L953.767 827.206 L961.261 827.206 L961.261 834.254 Q963.935 830.163 967.54 828.138 Q971.186 826.112 975.925 826.112 Q983.744 826.112 987.754 830.973 Q991.764 835.794 991.764 845.192 Z\" fill=\"#000000\" fill-rule=\"nonzero\" fill-opacity=\"1\" /><polyline clip-path=\"url(#clip354)\" style=\"stroke:#009af9; stroke-linecap:round; stroke-linejoin:round; stroke-width:4; stroke-opacity:1; fill:none\" points=\"213.787,939.405 261.771,1140.53 309.755,1237.55 357.739,1292.62 405.724,1329.12 453.708,1356.12 501.692,1377.39 549.676,1394.68 597.66,1408.94 645.644,1420.77 693.629,1430.63 741.613,1438.85 789.597,1445.7 837.581,1451.42 885.565,1456.19 933.549,1460.17 981.533,1463.5 1029.52,1466.27 1077.5,1468.58 1125.49,1470.51 \"/>\n",
       "<path clip-path=\"url(#clip350)\" d=\"M971.553 1045.92 L1120.62 1045.92 L1120.62 942.238 L971.553 942.238  Z\" fill=\"#ffffff\" fill-rule=\"evenodd\" fill-opacity=\"1\"/>\n",
       "<polyline clip-path=\"url(#clip350)\" style=\"stroke:#000000; stroke-linecap:round; stroke-linejoin:round; stroke-width:4; stroke-opacity:1; fill:none\" points=\"971.553,1045.92 1120.62,1045.92 1120.62,942.238 971.553,942.238 971.553,1045.92 \"/>\n",
       "<polyline clip-path=\"url(#clip350)\" style=\"stroke:#009af9; stroke-linecap:round; stroke-linejoin:round; stroke-width:4; stroke-opacity:1; fill:none\" points=\"982.291,994.078 1046.72,994.078 \"/>\n",
       "<path clip-path=\"url(#clip350)\" d=\"M1071.3 1013.77 Q1069.49 1018.39 1067.78 1019.81 Q1066.07 1021.22 1063.2 1021.22 L1059.79 1021.22 L1059.79 1017.65 L1062.29 1017.65 Q1064.05 1017.65 1065.02 1016.82 Q1066 1015.99 1067.18 1012.89 L1067.94 1010.94 L1057.46 985.432 L1061.97 985.432 L1070.07 1005.71 L1078.17 985.432 L1082.69 985.432 L1071.3 1013.77 Z\" fill=\"#000000\" fill-rule=\"nonzero\" fill-opacity=\"1\" /><path clip-path=\"url(#clip350)\" d=\"M1089.98 1007.42 L1097.62 1007.42 L1097.62 981.057 L1089.31 982.724 L1089.31 978.465 L1097.57 976.798 L1102.25 976.798 L1102.25 1007.42 L1109.89 1007.42 L1109.89 1011.36 L1089.98 1011.36 L1089.98 1007.42 Z\" fill=\"#000000\" fill-rule=\"nonzero\" fill-opacity=\"1\" /></svg>\n"
      ],
      "text/html": [
       "<?xml version=\"1.0\" encoding=\"utf-8\"?>\n",
       "<svg xmlns=\"http://www.w3.org/2000/svg\" xmlns:xlink=\"http://www.w3.org/1999/xlink\" width=\"600\" height=\"400\" viewBox=\"0 0 2400 1600\">\n",
       "<defs>\n",
       "  <clipPath id=\"clip400\">\n",
       "    <rect x=\"0\" y=\"0\" width=\"2400\" height=\"1600\"/>\n",
       "  </clipPath>\n",
       "</defs>\n",
       "<path clip-path=\"url(#clip400)\" d=\"M0 1600 L2400 1600 L2400 0 L0 0  Z\" fill=\"#ffffff\" fill-rule=\"evenodd\" fill-opacity=\"1\"/>\n",
       "<defs>\n",
       "  <clipPath id=\"clip401\">\n",
       "    <rect x=\"480\" y=\"0\" width=\"1681\" height=\"1600\"/>\n",
       "  </clipPath>\n",
       "</defs>\n",
       "<path clip-path=\"url(#clip400)\" d=\"M186.436 686.448 L1152.84 686.448 L1152.84 123.472 L186.436 123.472  Z\" fill=\"#ffffff\" fill-rule=\"evenodd\" fill-opacity=\"1\"/>\n",
       "<defs>\n",
       "  <clipPath id=\"clip402\">\n",
       "    <rect x=\"186\" y=\"123\" width=\"967\" height=\"564\"/>\n",
       "  </clipPath>\n",
       "</defs>\n",
       "<polyline clip-path=\"url(#clip402)\" style=\"stroke:#000000; stroke-linecap:round; stroke-linejoin:round; stroke-width:2; stroke-opacity:0.1; fill:none\" points=\"405.724,686.448 405.724,123.472 \"/>\n",
       "<polyline clip-path=\"url(#clip402)\" style=\"stroke:#000000; stroke-linecap:round; stroke-linejoin:round; stroke-width:2; stroke-opacity:0.1; fill:none\" points=\"645.644,686.448 645.644,123.472 \"/>\n",
       "<polyline clip-path=\"url(#clip402)\" style=\"stroke:#000000; stroke-linecap:round; stroke-linejoin:round; stroke-width:2; stroke-opacity:0.1; fill:none\" points=\"885.565,686.448 885.565,123.472 \"/>\n",
       "<polyline clip-path=\"url(#clip402)\" style=\"stroke:#000000; stroke-linecap:round; stroke-linejoin:round; stroke-width:2; stroke-opacity:0.1; fill:none\" points=\"1125.49,686.448 1125.49,123.472 \"/>\n",
       "<polyline clip-path=\"url(#clip402)\" style=\"stroke:#000000; stroke-linecap:round; stroke-linejoin:round; stroke-width:2; stroke-opacity:0.1; fill:none\" points=\"186.436,617.777 1152.84,617.777 \"/>\n",
       "<polyline clip-path=\"url(#clip402)\" style=\"stroke:#000000; stroke-linecap:round; stroke-linejoin:round; stroke-width:2; stroke-opacity:0.1; fill:none\" points=\"186.436,459.566 1152.84,459.566 \"/>\n",
       "<polyline clip-path=\"url(#clip402)\" style=\"stroke:#000000; stroke-linecap:round; stroke-linejoin:round; stroke-width:2; stroke-opacity:0.1; fill:none\" points=\"186.436,301.354 1152.84,301.354 \"/>\n",
       "<polyline clip-path=\"url(#clip402)\" style=\"stroke:#000000; stroke-linecap:round; stroke-linejoin:round; stroke-width:2; stroke-opacity:0.1; fill:none\" points=\"186.436,143.143 1152.84,143.143 \"/>\n",
       "<polyline clip-path=\"url(#clip400)\" style=\"stroke:#000000; stroke-linecap:round; stroke-linejoin:round; stroke-width:4; stroke-opacity:1; fill:none\" points=\"186.436,686.448 1152.84,686.448 \"/>\n",
       "<polyline clip-path=\"url(#clip400)\" style=\"stroke:#000000; stroke-linecap:round; stroke-linejoin:round; stroke-width:4; stroke-opacity:1; fill:none\" points=\"405.724,686.448 405.724,667.55 \"/>\n",
       "<polyline clip-path=\"url(#clip400)\" style=\"stroke:#000000; stroke-linecap:round; stroke-linejoin:round; stroke-width:4; stroke-opacity:1; fill:none\" points=\"645.644,686.448 645.644,667.55 \"/>\n",
       "<polyline clip-path=\"url(#clip400)\" style=\"stroke:#000000; stroke-linecap:round; stroke-linejoin:round; stroke-width:4; stroke-opacity:1; fill:none\" points=\"885.565,686.448 885.565,667.55 \"/>\n",
       "<polyline clip-path=\"url(#clip400)\" style=\"stroke:#000000; stroke-linecap:round; stroke-linejoin:round; stroke-width:4; stroke-opacity:1; fill:none\" points=\"1125.49,686.448 1125.49,667.55 \"/>\n",
       "<path clip-path=\"url(#clip400)\" d=\"M396.001 714.288 L414.358 714.288 L414.358 718.223 L400.284 718.223 L400.284 726.695 Q401.302 726.348 402.321 726.186 Q403.339 726.001 404.358 726.001 Q410.145 726.001 413.525 729.172 Q416.904 732.343 416.904 737.76 Q416.904 743.339 413.432 746.44 Q409.96 749.519 403.64 749.519 Q401.464 749.519 399.196 749.149 Q396.951 748.778 394.543 748.038 L394.543 743.339 Q396.626 744.473 398.849 745.028 Q401.071 745.584 403.548 745.584 Q407.552 745.584 409.89 743.478 Q412.228 741.371 412.228 737.76 Q412.228 734.149 409.89 732.042 Q407.552 729.936 403.548 729.936 Q401.673 729.936 399.798 730.353 Q397.946 730.769 396.001 731.649 L396.001 714.288 Z\" fill=\"#000000\" fill-rule=\"nonzero\" fill-opacity=\"1\" /><path clip-path=\"url(#clip400)\" d=\"M620.332 744.913 L627.971 744.913 L627.971 718.547 L619.661 720.214 L619.661 715.955 L627.925 714.288 L632.6 714.288 L632.6 744.913 L640.239 744.913 L640.239 748.848 L620.332 748.848 L620.332 744.913 Z\" fill=\"#000000\" fill-rule=\"nonzero\" fill-opacity=\"1\" /><path clip-path=\"url(#clip400)\" d=\"M659.684 717.367 Q656.073 717.367 654.244 720.931 Q652.438 724.473 652.438 731.603 Q652.438 738.709 654.244 742.274 Q656.073 745.815 659.684 745.815 Q663.318 745.815 665.123 742.274 Q666.952 738.709 666.952 731.603 Q666.952 724.473 665.123 720.931 Q663.318 717.367 659.684 717.367 M659.684 713.663 Q665.494 713.663 668.549 718.269 Q671.628 722.853 671.628 731.603 Q671.628 740.329 668.549 744.936 Q665.494 749.519 659.684 749.519 Q653.874 749.519 650.795 744.936 Q647.739 740.329 647.739 731.603 Q647.739 722.853 650.795 718.269 Q653.874 713.663 659.684 713.663 Z\" fill=\"#000000\" fill-rule=\"nonzero\" fill-opacity=\"1\" /><path clip-path=\"url(#clip400)\" d=\"M860.75 744.913 L868.389 744.913 L868.389 718.547 L860.079 720.214 L860.079 715.955 L868.343 714.288 L873.019 714.288 L873.019 744.913 L880.658 744.913 L880.658 748.848 L860.75 748.848 L860.75 744.913 Z\" fill=\"#000000\" fill-rule=\"nonzero\" fill-opacity=\"1\" /><path clip-path=\"url(#clip400)\" d=\"M890.148 714.288 L908.505 714.288 L908.505 718.223 L894.431 718.223 L894.431 726.695 Q895.449 726.348 896.468 726.186 Q897.486 726.001 898.505 726.001 Q904.292 726.001 907.672 729.172 Q911.051 732.343 911.051 737.76 Q911.051 743.339 907.579 746.44 Q904.107 749.519 897.787 749.519 Q895.611 749.519 893.343 749.149 Q891.098 748.778 888.69 748.038 L888.69 743.339 Q890.773 744.473 892.996 745.028 Q895.218 745.584 897.695 745.584 Q901.699 745.584 904.037 743.478 Q906.375 741.371 906.375 737.76 Q906.375 734.149 904.037 732.042 Q901.699 729.936 897.695 729.936 Q895.82 729.936 893.945 730.353 Q892.093 730.769 890.148 731.649 L890.148 714.288 Z\" fill=\"#000000\" fill-rule=\"nonzero\" fill-opacity=\"1\" /><path clip-path=\"url(#clip400)\" d=\"M1104.26 744.913 L1120.58 744.913 L1120.58 748.848 L1098.63 748.848 L1098.63 744.913 Q1101.3 742.158 1105.88 737.528 Q1110.49 732.876 1111.67 731.533 Q1113.91 729.01 1114.79 727.274 Q1115.69 725.515 1115.69 723.825 Q1115.69 721.07 1113.75 719.334 Q1111.83 717.598 1108.73 717.598 Q1106.53 717.598 1104.07 718.362 Q1101.64 719.126 1098.87 720.677 L1098.87 715.955 Q1101.69 714.82 1104.14 714.242 Q1106.6 713.663 1108.63 713.663 Q1114 713.663 1117.2 716.348 Q1120.39 719.033 1120.39 723.524 Q1120.39 725.654 1119.58 727.575 Q1118.8 729.473 1116.69 732.066 Q1116.11 732.737 1113.01 735.954 Q1109.91 739.149 1104.26 744.913 Z\" fill=\"#000000\" fill-rule=\"nonzero\" fill-opacity=\"1\" /><path clip-path=\"url(#clip400)\" d=\"M1140.39 717.367 Q1136.78 717.367 1134.95 720.931 Q1133.15 724.473 1133.15 731.603 Q1133.15 738.709 1134.95 742.274 Q1136.78 745.815 1140.39 745.815 Q1144.03 745.815 1145.83 742.274 Q1147.66 738.709 1147.66 731.603 Q1147.66 724.473 1145.83 720.931 Q1144.03 717.367 1140.39 717.367 M1140.39 713.663 Q1146.2 713.663 1149.26 718.269 Q1152.34 722.853 1152.34 731.603 Q1152.34 740.329 1149.26 744.936 Q1146.2 749.519 1140.39 749.519 Q1134.58 749.519 1131.5 744.936 Q1128.45 740.329 1128.45 731.603 Q1128.45 722.853 1131.5 718.269 Q1134.58 713.663 1140.39 713.663 Z\" fill=\"#000000\" fill-rule=\"nonzero\" fill-opacity=\"1\" /><polyline clip-path=\"url(#clip400)\" style=\"stroke:#000000; stroke-linecap:round; stroke-linejoin:round; stroke-width:4; stroke-opacity:1; fill:none\" points=\"186.436,686.448 186.436,123.472 \"/>\n",
       "<polyline clip-path=\"url(#clip400)\" style=\"stroke:#000000; stroke-linecap:round; stroke-linejoin:round; stroke-width:4; stroke-opacity:1; fill:none\" points=\"186.436,617.777 205.334,617.777 \"/>\n",
       "<polyline clip-path=\"url(#clip400)\" style=\"stroke:#000000; stroke-linecap:round; stroke-linejoin:round; stroke-width:4; stroke-opacity:1; fill:none\" points=\"186.436,459.566 205.334,459.566 \"/>\n",
       "<polyline clip-path=\"url(#clip400)\" style=\"stroke:#000000; stroke-linecap:round; stroke-linejoin:round; stroke-width:4; stroke-opacity:1; fill:none\" points=\"186.436,301.354 205.334,301.354 \"/>\n",
       "<polyline clip-path=\"url(#clip400)\" style=\"stroke:#000000; stroke-linecap:round; stroke-linejoin:round; stroke-width:4; stroke-opacity:1; fill:none\" points=\"186.436,143.143 205.334,143.143 \"/>\n",
       "<path clip-path=\"url(#clip400)\" d=\"M92.7743 603.576 Q89.1632 603.576 87.3345 607.141 Q85.529 610.683 85.529 617.812 Q85.529 624.919 87.3345 628.483 Q89.1632 632.025 92.7743 632.025 Q96.4085 632.025 98.2141 628.483 Q100.043 624.919 100.043 617.812 Q100.043 610.683 98.2141 607.141 Q96.4085 603.576 92.7743 603.576 M92.7743 599.872 Q98.5845 599.872 101.64 604.479 Q104.719 609.062 104.719 617.812 Q104.719 626.539 101.64 631.145 Q98.5845 635.729 92.7743 635.729 Q86.9642 635.729 83.8855 631.145 Q80.8299 626.539 80.8299 617.812 Q80.8299 609.062 83.8855 604.479 Q86.9642 599.872 92.7743 599.872 Z\" fill=\"#000000\" fill-rule=\"nonzero\" fill-opacity=\"1\" /><path clip-path=\"url(#clip400)\" d=\"M112.936 629.178 L117.82 629.178 L117.82 635.057 L112.936 635.057 L112.936 629.178 Z\" fill=\"#000000\" fill-rule=\"nonzero\" fill-opacity=\"1\" /><path clip-path=\"url(#clip400)\" d=\"M140.853 604.571 L129.047 623.02 L140.853 623.02 L140.853 604.571 M139.626 600.497 L145.506 600.497 L145.506 623.02 L150.436 623.02 L150.436 626.909 L145.506 626.909 L145.506 635.057 L140.853 635.057 L140.853 626.909 L125.251 626.909 L125.251 622.395 L139.626 600.497 Z\" fill=\"#000000\" fill-rule=\"nonzero\" fill-opacity=\"1\" /><path clip-path=\"url(#clip400)\" d=\"M94.2558 445.364 Q90.6447 445.364 88.816 448.929 Q87.0105 452.471 87.0105 459.601 Q87.0105 466.707 88.816 470.272 Q90.6447 473.813 94.2558 473.813 Q97.89 473.813 99.6956 470.272 Q101.524 466.707 101.524 459.601 Q101.524 452.471 99.6956 448.929 Q97.89 445.364 94.2558 445.364 M94.2558 441.661 Q100.066 441.661 103.121 446.267 Q106.2 450.851 106.2 459.601 Q106.2 468.327 103.121 472.934 Q100.066 477.517 94.2558 477.517 Q88.4456 477.517 85.3669 472.934 Q82.3114 468.327 82.3114 459.601 Q82.3114 450.851 85.3669 446.267 Q88.4456 441.661 94.2558 441.661 Z\" fill=\"#000000\" fill-rule=\"nonzero\" fill-opacity=\"1\" /><path clip-path=\"url(#clip400)\" d=\"M114.418 470.966 L119.302 470.966 L119.302 476.846 L114.418 476.846 L114.418 470.966 Z\" fill=\"#000000\" fill-rule=\"nonzero\" fill-opacity=\"1\" /><path clip-path=\"url(#clip400)\" d=\"M129.533 442.286 L147.89 442.286 L147.89 446.221 L133.816 446.221 L133.816 454.693 Q134.834 454.346 135.853 454.184 Q136.871 453.999 137.89 453.999 Q143.677 453.999 147.056 457.17 Q150.436 460.341 150.436 465.758 Q150.436 471.337 146.964 474.438 Q143.492 477.517 137.172 477.517 Q134.996 477.517 132.728 477.147 Q130.482 476.776 128.075 476.036 L128.075 471.337 Q130.158 472.471 132.381 473.026 Q134.603 473.582 137.08 473.582 Q141.084 473.582 143.422 471.475 Q145.76 469.369 145.76 465.758 Q145.76 462.147 143.422 460.04 Q141.084 457.934 137.08 457.934 Q135.205 457.934 133.33 458.351 Q131.478 458.767 129.533 459.647 L129.533 442.286 Z\" fill=\"#000000\" fill-rule=\"nonzero\" fill-opacity=\"1\" /><path clip-path=\"url(#clip400)\" d=\"M93.0984 287.153 Q89.4873 287.153 87.6586 290.718 Q85.8531 294.259 85.8531 301.389 Q85.8531 308.495 87.6586 312.06 Q89.4873 315.602 93.0984 315.602 Q96.7326 315.602 98.5382 312.06 Q100.367 308.495 100.367 301.389 Q100.367 294.259 98.5382 290.718 Q96.7326 287.153 93.0984 287.153 M93.0984 283.449 Q98.9085 283.449 101.964 288.056 Q105.043 292.639 105.043 301.389 Q105.043 310.116 101.964 314.722 Q98.9085 319.305 93.0984 319.305 Q87.2882 319.305 84.2095 314.722 Q81.154 310.116 81.154 301.389 Q81.154 292.639 84.2095 288.056 Q87.2882 283.449 93.0984 283.449 Z\" fill=\"#000000\" fill-rule=\"nonzero\" fill-opacity=\"1\" /><path clip-path=\"url(#clip400)\" d=\"M113.26 312.755 L118.145 312.755 L118.145 318.634 L113.26 318.634 L113.26 312.755 Z\" fill=\"#000000\" fill-rule=\"nonzero\" fill-opacity=\"1\" /><path clip-path=\"url(#clip400)\" d=\"M138.908 299.491 Q135.76 299.491 133.908 301.644 Q132.08 303.796 132.08 307.546 Q132.08 311.273 133.908 313.449 Q135.76 315.602 138.908 315.602 Q142.056 315.602 143.885 313.449 Q145.737 311.273 145.737 307.546 Q145.737 303.796 143.885 301.644 Q142.056 299.491 138.908 299.491 M148.191 284.838 L148.191 289.097 Q146.431 288.264 144.626 287.824 Q142.843 287.384 141.084 287.384 Q136.455 287.384 134.001 290.509 Q131.57 293.634 131.223 299.954 Q132.589 297.94 134.649 296.875 Q136.709 295.787 139.186 295.787 Q144.394 295.787 147.404 298.958 Q150.436 302.107 150.436 307.546 Q150.436 312.87 147.288 316.088 Q144.14 319.305 138.908 319.305 Q132.913 319.305 129.742 314.722 Q126.57 310.116 126.57 301.389 Q126.57 293.195 130.459 288.333 Q134.348 283.449 140.899 283.449 Q142.658 283.449 144.441 283.796 Q146.246 284.144 148.191 284.838 Z\" fill=\"#000000\" fill-rule=\"nonzero\" fill-opacity=\"1\" /><path clip-path=\"url(#clip400)\" d=\"M94.1632 128.941 Q90.5521 128.941 88.7234 132.506 Q86.9179 136.048 86.9179 143.177 Q86.9179 150.284 88.7234 153.849 Q90.5521 157.39 94.1632 157.39 Q97.7974 157.39 99.603 153.849 Q101.432 150.284 101.432 143.177 Q101.432 136.048 99.603 132.506 Q97.7974 128.941 94.1632 128.941 M94.1632 125.238 Q99.9733 125.238 103.029 129.844 Q106.108 134.427 106.108 143.177 Q106.108 151.904 103.029 156.511 Q99.9733 161.094 94.1632 161.094 Q88.353 161.094 85.2743 156.511 Q82.2188 151.904 82.2188 143.177 Q82.2188 134.427 85.2743 129.844 Q88.353 125.238 94.1632 125.238 Z\" fill=\"#000000\" fill-rule=\"nonzero\" fill-opacity=\"1\" /><path clip-path=\"url(#clip400)\" d=\"M114.325 154.543 L119.209 154.543 L119.209 160.423 L114.325 160.423 L114.325 154.543 Z\" fill=\"#000000\" fill-rule=\"nonzero\" fill-opacity=\"1\" /><path clip-path=\"url(#clip400)\" d=\"M128.214 125.863 L150.436 125.863 L150.436 127.853 L137.89 160.423 L133.006 160.423 L144.811 129.798 L128.214 129.798 L128.214 125.863 Z\" fill=\"#000000\" fill-rule=\"nonzero\" fill-opacity=\"1\" /><path clip-path=\"url(#clip400)\" d=\"M363.813 12.096 L374.832 12.096 L401.649 62.6918 L401.649 12.096 L409.589 12.096 L409.589 72.576 L398.57 72.576 L371.753 21.9802 L371.753 72.576 L363.813 72.576 L363.813 12.096 Z\" fill=\"#000000\" fill-rule=\"nonzero\" fill-opacity=\"1\" /><path clip-path=\"url(#clip400)\" d=\"M443.13 32.4315 Q437.135 32.4315 433.651 37.1306 Q430.167 41.7891 430.167 49.9314 Q430.167 58.0738 433.611 62.7728 Q437.094 67.4314 443.13 67.4314 Q449.085 67.4314 452.569 62.7323 Q456.053 58.0333 456.053 49.9314 Q456.053 41.8701 452.569 37.1711 Q449.085 32.4315 443.13 32.4315 M443.13 26.1121 Q452.852 26.1121 458.402 32.4315 Q463.952 38.7509 463.952 49.9314 Q463.952 61.0714 458.402 67.4314 Q452.852 73.7508 443.13 73.7508 Q433.367 73.7508 427.818 67.4314 Q422.309 61.0714 422.309 49.9314 Q422.309 38.7509 427.818 32.4315 Q433.367 26.1121 443.13 26.1121 Z\" fill=\"#000000\" fill-rule=\"nonzero\" fill-opacity=\"1\" /><path clip-path=\"url(#clip400)\" d=\"M502.597 34.1734 Q501.342 33.4443 499.843 33.1202 Q498.385 32.7556 496.602 32.7556 Q490.283 32.7556 486.88 36.8875 Q483.518 40.9789 483.518 48.6757 L483.518 72.576 L476.024 72.576 L476.024 27.2059 L483.518 27.2059 L483.518 34.2544 Q485.867 30.1225 489.635 28.1376 Q493.402 26.1121 498.79 26.1121 Q499.559 26.1121 500.491 26.2337 Q501.423 26.3147 502.557 26.5172 L502.597 34.1734 Z\" fill=\"#000000\" fill-rule=\"nonzero\" fill-opacity=\"1\" /><path clip-path=\"url(#clip400)\" d=\"M544.281 35.9153 Q547.076 30.8922 550.965 28.5022 Q554.854 26.1121 560.12 26.1121 Q567.209 26.1121 571.058 31.0947 Q574.906 36.0368 574.906 45.1919 L574.906 72.576 L567.412 72.576 L567.412 45.4349 Q567.412 38.913 565.103 35.7533 Q562.794 32.5936 558.054 32.5936 Q552.262 32.5936 548.899 36.4419 Q545.537 40.2903 545.537 46.9338 L545.537 72.576 L538.043 72.576 L538.043 45.4349 Q538.043 38.8725 535.734 35.7533 Q533.425 32.5936 528.604 32.5936 Q522.892 32.5936 519.53 36.4824 Q516.168 40.3308 516.168 46.9338 L516.168 72.576 L508.674 72.576 L508.674 27.2059 L516.168 27.2059 L516.168 34.2544 Q518.72 30.082 522.285 28.0971 Q525.85 26.1121 530.751 26.1121 Q535.693 26.1121 539.137 28.6237 Q542.62 31.1352 544.281 35.9153 Z\" fill=\"#000000\" fill-rule=\"nonzero\" fill-opacity=\"1\" /><path clip-path=\"url(#clip400)\" d=\"M610.392 49.7694 Q601.358 49.7694 597.875 51.8354 Q594.391 53.9013 594.391 58.8839 Q594.391 62.8538 596.984 65.2034 Q599.617 67.5124 604.113 67.5124 Q610.311 67.5124 614.038 63.1374 Q617.805 58.7219 617.805 51.4303 L617.805 49.7694 L610.392 49.7694 M625.259 46.6907 L625.259 72.576 L617.805 72.576 L617.805 65.6895 Q615.253 69.8214 611.445 71.8063 Q607.637 73.7508 602.128 73.7508 Q595.161 73.7508 591.029 69.8619 Q586.937 65.9325 586.937 59.3701 Q586.937 51.7138 592.041 47.825 Q597.186 43.9361 607.354 43.9361 L617.805 43.9361 L617.805 43.2069 Q617.805 38.0623 614.402 35.2672 Q611.04 32.4315 604.923 32.4315 Q601.034 32.4315 597.348 33.3632 Q593.662 34.295 590.259 36.1584 L590.259 29.2718 Q594.35 27.692 598.199 26.9223 Q602.047 26.1121 605.693 26.1121 Q615.537 26.1121 620.398 31.2163 Q625.259 36.3204 625.259 46.6907 Z\" fill=\"#000000\" fill-rule=\"nonzero\" fill-opacity=\"1\" /><path clip-path=\"url(#clip400)\" d=\"M640.612 9.54393 L648.065 9.54393 L648.065 72.576 L640.612 72.576 L640.612 9.54393 Z\" fill=\"#000000\" fill-rule=\"nonzero\" fill-opacity=\"1\" /><path clip-path=\"url(#clip400)\" d=\"M731.595 63.9476 L731.595 47.7034 L718.227 47.7034 L718.227 40.9789 L739.697 40.9789 L739.697 66.9452 Q734.957 70.3075 729.246 72.0494 Q723.534 73.7508 717.052 73.7508 Q702.874 73.7508 694.853 65.4869 Q686.873 57.1826 686.873 42.3968 Q686.873 27.5705 694.853 19.3066 Q702.874 11.0023 717.052 11.0023 Q722.967 11.0023 728.273 12.4606 Q733.621 13.9189 738.117 16.7545 L738.117 25.464 Q733.58 21.6156 728.476 19.6712 Q723.372 17.7268 717.741 17.7268 Q706.641 17.7268 701.051 23.9246 Q695.502 30.1225 695.502 42.3968 Q695.502 54.6305 701.051 60.8284 Q706.641 67.0263 717.741 67.0263 Q722.075 67.0263 725.478 66.2971 Q728.881 65.5274 731.595 63.9476 Z\" fill=\"#000000\" fill-rule=\"nonzero\" fill-opacity=\"1\" /><path clip-path=\"url(#clip400)\" d=\"M780.611 34.1734 Q779.355 33.4443 777.856 33.1202 Q776.398 32.7556 774.616 32.7556 Q768.296 32.7556 764.893 36.8875 Q761.531 40.9789 761.531 48.6757 L761.531 72.576 L754.037 72.576 L754.037 27.2059 L761.531 27.2059 L761.531 34.2544 Q763.881 30.1225 767.648 28.1376 Q771.415 26.1121 776.803 26.1121 Q777.573 26.1121 778.505 26.2337 Q779.436 26.3147 780.57 26.5172 L780.611 34.1734 Z\" fill=\"#000000\" fill-rule=\"nonzero\" fill-opacity=\"1\" /><path clip-path=\"url(#clip400)\" d=\"M804.187 32.4315 Q798.192 32.4315 794.708 37.1306 Q791.224 41.7891 791.224 49.9314 Q791.224 58.0738 794.668 62.7728 Q798.151 67.4314 804.187 67.4314 Q810.142 67.4314 813.626 62.7323 Q817.11 58.0333 817.11 49.9314 Q817.11 41.8701 813.626 37.1711 Q810.142 32.4315 804.187 32.4315 M804.187 26.1121 Q813.909 26.1121 819.459 32.4315 Q825.009 38.7509 825.009 49.9314 Q825.009 61.0714 819.459 67.4314 Q813.909 73.7508 804.187 73.7508 Q794.425 73.7508 788.875 67.4314 Q783.366 61.0714 783.366 49.9314 Q783.366 38.7509 788.875 32.4315 Q794.425 26.1121 804.187 26.1121 Z\" fill=\"#000000\" fill-rule=\"nonzero\" fill-opacity=\"1\" /><path clip-path=\"url(#clip400)\" d=\"M833.03 27.2059 L840.483 27.2059 L849.8 62.6108 L859.077 27.2059 L867.867 27.2059 L877.185 62.6108 L886.461 27.2059 L893.915 27.2059 L882.046 72.576 L873.255 72.576 L863.493 35.3887 L853.689 72.576 L844.899 72.576 L833.03 27.2059 Z\" fill=\"#000000\" fill-rule=\"nonzero\" fill-opacity=\"1\" /><path clip-path=\"url(#clip400)\" d=\"M912.589 14.324 L912.589 27.2059 L927.942 27.2059 L927.942 32.9987 L912.589 32.9987 L912.589 57.6282 Q912.589 63.1779 914.088 64.7578 Q915.628 66.3376 920.286 66.3376 L927.942 66.3376 L927.942 72.576 L920.286 72.576 Q911.658 72.576 908.377 69.3758 Q905.095 66.1351 905.095 57.6282 L905.095 32.9987 L899.627 32.9987 L899.627 27.2059 L905.095 27.2059 L905.095 14.324 L912.589 14.324 Z\" fill=\"#000000\" fill-rule=\"nonzero\" fill-opacity=\"1\" /><path clip-path=\"url(#clip400)\" d=\"M975.459 45.1919 L975.459 72.576 L968.006 72.576 L968.006 45.4349 Q968.006 38.994 965.494 35.7938 Q962.983 32.5936 957.96 32.5936 Q951.924 32.5936 948.44 36.4419 Q944.956 40.2903 944.956 46.9338 L944.956 72.576 L937.462 72.576 L937.462 9.54393 L944.956 9.54393 L944.956 34.2544 Q947.63 30.163 951.235 28.1376 Q954.881 26.1121 959.62 26.1121 Q967.439 26.1121 971.449 30.9732 Q975.459 35.7938 975.459 45.1919 Z\" fill=\"#000000\" fill-rule=\"nonzero\" fill-opacity=\"1\" /><polyline clip-path=\"url(#clip402)\" style=\"stroke:#009af9; stroke-linecap:round; stroke-linejoin:round; stroke-width:4; stroke-opacity:1; fill:none\" points=\"213.787,670.515 261.771,596.683 309.755,524.169 357.739,459.671 405.724,404.391 453.708,357.726 501.692,318.589 549.676,285.857 597.66,258.516 645.644,235.689 693.629,216.636 741.613,200.735 789.597,187.465 837.581,176.391 885.565,167.149 933.549,159.436 981.533,153 1029.52,147.629 1077.5,143.146 1125.49,139.405 \"/>\n",
       "<path clip-path=\"url(#clip400)\" d=\"M218.649 245.918 L367.72 245.918 L367.72 142.238 L218.649 142.238  Z\" fill=\"#ffffff\" fill-rule=\"evenodd\" fill-opacity=\"1\"/>\n",
       "<polyline clip-path=\"url(#clip400)\" style=\"stroke:#000000; stroke-linecap:round; stroke-linejoin:round; stroke-width:4; stroke-opacity:1; fill:none\" points=\"218.649,245.918 367.72,245.918 367.72,142.238 218.649,142.238 218.649,245.918 \"/>\n",
       "<polyline clip-path=\"url(#clip400)\" style=\"stroke:#009af9; stroke-linecap:round; stroke-linejoin:round; stroke-width:4; stroke-opacity:1; fill:none\" points=\"229.387,194.078 293.814,194.078 \"/>\n",
       "<path clip-path=\"url(#clip400)\" d=\"M318.394 213.765 Q316.589 218.395 314.876 219.807 Q313.163 221.219 310.292 221.219 L306.89 221.219 L306.89 217.654 L309.39 217.654 Q311.149 217.654 312.121 216.821 Q313.093 215.988 314.274 212.886 L315.038 210.941 L304.552 185.432 L309.066 185.432 L317.167 205.71 L325.269 185.432 L329.783 185.432 L318.394 213.765 Z\" fill=\"#000000\" fill-rule=\"nonzero\" fill-opacity=\"1\" /><path clip-path=\"url(#clip400)\" d=\"M337.075 207.423 L344.714 207.423 L344.714 181.057 L336.403 182.724 L336.403 178.465 L344.667 176.798 L349.343 176.798 L349.343 207.423 L356.982 207.423 L356.982 211.358 L337.075 211.358 L337.075 207.423 Z\" fill=\"#000000\" fill-rule=\"nonzero\" fill-opacity=\"1\" /><path clip-path=\"url(#clip400)\" d=\"M1386.36 686.448 L2352.76 686.448 L2352.76 123.472 L1386.36 123.472  Z\" fill=\"#ffffff\" fill-rule=\"evenodd\" fill-opacity=\"1\"/>\n",
       "<defs>\n",
       "  <clipPath id=\"clip403\">\n",
       "    <rect x=\"1386\" y=\"123\" width=\"967\" height=\"564\"/>\n",
       "  </clipPath>\n",
       "</defs>\n",
       "<polyline clip-path=\"url(#clip403)\" style=\"stroke:#000000; stroke-linecap:round; stroke-linejoin:round; stroke-width:2; stroke-opacity:0.1; fill:none\" points=\"1605.64,686.448 1605.64,123.472 \"/>\n",
       "<polyline clip-path=\"url(#clip403)\" style=\"stroke:#000000; stroke-linecap:round; stroke-linejoin:round; stroke-width:2; stroke-opacity:0.1; fill:none\" points=\"1845.56,686.448 1845.56,123.472 \"/>\n",
       "<polyline clip-path=\"url(#clip403)\" style=\"stroke:#000000; stroke-linecap:round; stroke-linejoin:round; stroke-width:2; stroke-opacity:0.1; fill:none\" points=\"2085.48,686.448 2085.48,123.472 \"/>\n",
       "<polyline clip-path=\"url(#clip403)\" style=\"stroke:#000000; stroke-linecap:round; stroke-linejoin:round; stroke-width:2; stroke-opacity:0.1; fill:none\" points=\"2325.4,686.448 2325.4,123.472 \"/>\n",
       "<polyline clip-path=\"url(#clip403)\" style=\"stroke:#000000; stroke-linecap:round; stroke-linejoin:round; stroke-width:2; stroke-opacity:0.1; fill:none\" points=\"1386.36,663.132 2352.76,663.132 \"/>\n",
       "<polyline clip-path=\"url(#clip403)\" style=\"stroke:#000000; stroke-linecap:round; stroke-linejoin:round; stroke-width:2; stroke-opacity:0.1; fill:none\" points=\"1386.36,527.685 2352.76,527.685 \"/>\n",
       "<polyline clip-path=\"url(#clip403)\" style=\"stroke:#000000; stroke-linecap:round; stroke-linejoin:round; stroke-width:2; stroke-opacity:0.1; fill:none\" points=\"1386.36,392.239 2352.76,392.239 \"/>\n",
       "<polyline clip-path=\"url(#clip403)\" style=\"stroke:#000000; stroke-linecap:round; stroke-linejoin:round; stroke-width:2; stroke-opacity:0.1; fill:none\" points=\"1386.36,256.792 2352.76,256.792 \"/>\n",
       "<polyline clip-path=\"url(#clip400)\" style=\"stroke:#000000; stroke-linecap:round; stroke-linejoin:round; stroke-width:4; stroke-opacity:1; fill:none\" points=\"1386.36,686.448 2352.76,686.448 \"/>\n",
       "<polyline clip-path=\"url(#clip400)\" style=\"stroke:#000000; stroke-linecap:round; stroke-linejoin:round; stroke-width:4; stroke-opacity:1; fill:none\" points=\"1605.64,686.448 1605.64,667.55 \"/>\n",
       "<polyline clip-path=\"url(#clip400)\" style=\"stroke:#000000; stroke-linecap:round; stroke-linejoin:round; stroke-width:4; stroke-opacity:1; fill:none\" points=\"1845.56,686.448 1845.56,667.55 \"/>\n",
       "<polyline clip-path=\"url(#clip400)\" style=\"stroke:#000000; stroke-linecap:round; stroke-linejoin:round; stroke-width:4; stroke-opacity:1; fill:none\" points=\"2085.48,686.448 2085.48,667.55 \"/>\n",
       "<polyline clip-path=\"url(#clip400)\" style=\"stroke:#000000; stroke-linecap:round; stroke-linejoin:round; stroke-width:4; stroke-opacity:1; fill:none\" points=\"2325.4,686.448 2325.4,667.55 \"/>\n",
       "<path clip-path=\"url(#clip400)\" d=\"M1595.92 714.288 L1614.28 714.288 L1614.28 718.223 L1600.2 718.223 L1600.2 726.695 Q1601.22 726.348 1602.24 726.186 Q1603.26 726.001 1604.28 726.001 Q1610.06 726.001 1613.44 729.172 Q1616.82 732.343 1616.82 737.76 Q1616.82 743.339 1613.35 746.44 Q1609.88 749.519 1603.56 749.519 Q1601.38 749.519 1599.11 749.149 Q1596.87 748.778 1594.46 748.038 L1594.46 743.339 Q1596.55 744.473 1598.77 745.028 Q1600.99 745.584 1603.47 745.584 Q1607.47 745.584 1609.81 743.478 Q1612.15 741.371 1612.15 737.76 Q1612.15 734.149 1609.81 732.042 Q1607.47 729.936 1603.47 729.936 Q1601.59 729.936 1599.72 730.353 Q1597.86 730.769 1595.92 731.649 L1595.92 714.288 Z\" fill=\"#000000\" fill-rule=\"nonzero\" fill-opacity=\"1\" /><path clip-path=\"url(#clip400)\" d=\"M1820.25 744.913 L1827.89 744.913 L1827.89 718.547 L1819.58 720.214 L1819.58 715.955 L1827.84 714.288 L1832.52 714.288 L1832.52 744.913 L1840.16 744.913 L1840.16 748.848 L1820.25 748.848 L1820.25 744.913 Z\" fill=\"#000000\" fill-rule=\"nonzero\" fill-opacity=\"1\" /><path clip-path=\"url(#clip400)\" d=\"M1859.6 717.367 Q1855.99 717.367 1854.16 720.931 Q1852.36 724.473 1852.36 731.603 Q1852.36 738.709 1854.16 742.274 Q1855.99 745.815 1859.6 745.815 Q1863.24 745.815 1865.04 742.274 Q1866.87 738.709 1866.87 731.603 Q1866.87 724.473 1865.04 720.931 Q1863.24 717.367 1859.6 717.367 M1859.6 713.663 Q1865.41 713.663 1868.47 718.269 Q1871.55 722.853 1871.55 731.603 Q1871.55 740.329 1868.47 744.936 Q1865.41 749.519 1859.6 749.519 Q1853.79 749.519 1850.71 744.936 Q1847.66 740.329 1847.66 731.603 Q1847.66 722.853 1850.71 718.269 Q1853.79 713.663 1859.6 713.663 Z\" fill=\"#000000\" fill-rule=\"nonzero\" fill-opacity=\"1\" /><path clip-path=\"url(#clip400)\" d=\"M2060.67 744.913 L2068.31 744.913 L2068.31 718.547 L2060 720.214 L2060 715.955 L2068.26 714.288 L2072.94 714.288 L2072.94 744.913 L2080.58 744.913 L2080.58 748.848 L2060.67 748.848 L2060.67 744.913 Z\" fill=\"#000000\" fill-rule=\"nonzero\" fill-opacity=\"1\" /><path clip-path=\"url(#clip400)\" d=\"M2090.07 714.288 L2108.42 714.288 L2108.42 718.223 L2094.35 718.223 L2094.35 726.695 Q2095.37 726.348 2096.39 726.186 Q2097.41 726.001 2098.42 726.001 Q2104.21 726.001 2107.59 729.172 Q2110.97 732.343 2110.97 737.76 Q2110.97 743.339 2107.5 746.44 Q2104.03 749.519 2097.71 749.519 Q2095.53 749.519 2093.26 749.149 Q2091.02 748.778 2088.61 748.038 L2088.61 743.339 Q2090.69 744.473 2092.91 745.028 Q2095.14 745.584 2097.61 745.584 Q2101.62 745.584 2103.96 743.478 Q2106.29 741.371 2106.29 737.76 Q2106.29 734.149 2103.96 732.042 Q2101.62 729.936 2097.61 729.936 Q2095.74 729.936 2093.86 730.353 Q2092.01 730.769 2090.07 731.649 L2090.07 714.288 Z\" fill=\"#000000\" fill-rule=\"nonzero\" fill-opacity=\"1\" /><path clip-path=\"url(#clip400)\" d=\"M2304.18 744.913 L2320.5 744.913 L2320.5 748.848 L2298.55 748.848 L2298.55 744.913 Q2301.22 742.158 2305.8 737.528 Q2310.41 732.876 2311.59 731.533 Q2313.83 729.01 2314.71 727.274 Q2315.61 725.515 2315.61 723.825 Q2315.61 721.07 2313.67 719.334 Q2311.75 717.598 2308.65 717.598 Q2306.45 717.598 2303.99 718.362 Q2301.56 719.126 2298.78 720.677 L2298.78 715.955 Q2301.61 714.82 2304.06 714.242 Q2306.52 713.663 2308.55 713.663 Q2313.92 713.663 2317.12 716.348 Q2320.31 719.033 2320.31 723.524 Q2320.31 725.654 2319.5 727.575 Q2318.72 729.473 2316.61 732.066 Q2316.03 732.737 2312.93 735.954 Q2309.83 739.149 2304.18 744.913 Z\" fill=\"#000000\" fill-rule=\"nonzero\" fill-opacity=\"1\" /><path clip-path=\"url(#clip400)\" d=\"M2340.31 717.367 Q2336.7 717.367 2334.87 720.931 Q2333.07 724.473 2333.07 731.603 Q2333.07 738.709 2334.87 742.274 Q2336.7 745.815 2340.31 745.815 Q2343.95 745.815 2345.75 742.274 Q2347.58 738.709 2347.58 731.603 Q2347.58 724.473 2345.75 720.931 Q2343.95 717.367 2340.31 717.367 M2340.31 713.663 Q2346.12 713.663 2349.18 718.269 Q2352.26 722.853 2352.26 731.603 Q2352.26 740.329 2349.18 744.936 Q2346.12 749.519 2340.31 749.519 Q2334.5 749.519 2331.42 744.936 Q2328.37 740.329 2328.37 731.603 Q2328.37 722.853 2331.42 718.269 Q2334.5 713.663 2340.31 713.663 Z\" fill=\"#000000\" fill-rule=\"nonzero\" fill-opacity=\"1\" /><polyline clip-path=\"url(#clip400)\" style=\"stroke:#000000; stroke-linecap:round; stroke-linejoin:round; stroke-width:4; stroke-opacity:1; fill:none\" points=\"1386.36,686.448 1386.36,123.472 \"/>\n",
       "<polyline clip-path=\"url(#clip400)\" style=\"stroke:#000000; stroke-linecap:round; stroke-linejoin:round; stroke-width:4; stroke-opacity:1; fill:none\" points=\"1386.36,663.132 1405.25,663.132 \"/>\n",
       "<polyline clip-path=\"url(#clip400)\" style=\"stroke:#000000; stroke-linecap:round; stroke-linejoin:round; stroke-width:4; stroke-opacity:1; fill:none\" points=\"1386.36,527.685 1405.25,527.685 \"/>\n",
       "<polyline clip-path=\"url(#clip400)\" style=\"stroke:#000000; stroke-linecap:round; stroke-linejoin:round; stroke-width:4; stroke-opacity:1; fill:none\" points=\"1386.36,392.239 1405.25,392.239 \"/>\n",
       "<polyline clip-path=\"url(#clip400)\" style=\"stroke:#000000; stroke-linecap:round; stroke-linejoin:round; stroke-width:4; stroke-opacity:1; fill:none\" points=\"1386.36,256.792 1405.25,256.792 \"/>\n",
       "<path clip-path=\"url(#clip400)\" d=\"M1264.01 648.931 Q1260.4 648.931 1258.57 652.496 Q1256.77 656.037 1256.77 663.167 Q1256.77 670.273 1258.57 673.838 Q1260.4 677.38 1264.01 677.38 Q1267.65 677.38 1269.45 673.838 Q1271.28 670.273 1271.28 663.167 Q1271.28 656.037 1269.45 652.496 Q1267.65 648.931 1264.01 648.931 M1264.01 645.227 Q1269.82 645.227 1272.88 649.834 Q1275.96 654.417 1275.96 663.167 Q1275.96 671.894 1272.88 676.5 Q1269.82 681.083 1264.01 681.083 Q1258.2 681.083 1255.12 676.5 Q1252.07 671.894 1252.07 663.167 Q1252.07 654.417 1255.12 649.834 Q1258.2 645.227 1264.01 645.227 Z\" fill=\"#000000\" fill-rule=\"nonzero\" fill-opacity=\"1\" /><path clip-path=\"url(#clip400)\" d=\"M1284.17 674.532 L1289.06 674.532 L1289.06 680.412 L1284.17 680.412 L1284.17 674.532 Z\" fill=\"#000000\" fill-rule=\"nonzero\" fill-opacity=\"1\" /><path clip-path=\"url(#clip400)\" d=\"M1303.27 676.477 L1319.59 676.477 L1319.59 680.412 L1297.65 680.412 L1297.65 676.477 Q1300.31 673.722 1304.89 669.093 Q1309.5 664.44 1310.68 663.097 Q1312.92 660.574 1313.8 658.838 Q1314.71 657.079 1314.71 655.389 Q1314.71 652.634 1312.76 650.898 Q1310.84 649.162 1307.74 649.162 Q1305.54 649.162 1303.09 649.926 Q1300.66 650.69 1297.88 652.241 L1297.88 647.519 Q1300.7 646.384 1303.16 645.806 Q1305.61 645.227 1307.65 645.227 Q1313.02 645.227 1316.21 647.912 Q1319.41 650.597 1319.41 655.088 Q1319.41 657.218 1318.6 659.139 Q1317.81 661.037 1315.7 663.63 Q1315.12 664.301 1312.02 667.519 Q1308.92 670.713 1303.27 676.477 Z\" fill=\"#000000\" fill-rule=\"nonzero\" fill-opacity=\"1\" /><path clip-path=\"url(#clip400)\" d=\"M1329.45 645.852 L1347.81 645.852 L1347.81 649.787 L1333.73 649.787 L1333.73 658.259 Q1334.75 657.912 1335.77 657.75 Q1336.79 657.565 1337.81 657.565 Q1343.6 657.565 1346.98 660.736 Q1350.36 663.908 1350.36 669.324 Q1350.36 674.903 1346.88 678.005 Q1343.41 681.083 1337.09 681.083 Q1334.92 681.083 1332.65 680.713 Q1330.4 680.343 1327.99 679.602 L1327.99 674.903 Q1330.08 676.037 1332.3 676.593 Q1334.52 677.148 1337 677.148 Q1341 677.148 1343.34 675.042 Q1345.68 672.935 1345.68 669.324 Q1345.68 665.713 1343.34 663.607 Q1341 661.5 1337 661.5 Q1335.12 661.5 1333.25 661.917 Q1331.4 662.333 1329.45 663.213 L1329.45 645.852 Z\" fill=\"#000000\" fill-rule=\"nonzero\" fill-opacity=\"1\" /><path clip-path=\"url(#clip400)\" d=\"M1263.02 513.484 Q1259.41 513.484 1257.58 517.049 Q1255.77 520.591 1255.77 527.72 Q1255.77 534.827 1257.58 538.391 Q1259.41 541.933 1263.02 541.933 Q1266.65 541.933 1268.46 538.391 Q1270.29 534.827 1270.29 527.72 Q1270.29 520.591 1268.46 517.049 Q1266.65 513.484 1263.02 513.484 M1263.02 509.781 Q1268.83 509.781 1271.88 514.387 Q1274.96 518.97 1274.96 527.72 Q1274.96 536.447 1271.88 541.053 Q1268.83 545.637 1263.02 545.637 Q1257.21 545.637 1254.13 541.053 Q1251.07 536.447 1251.07 527.72 Q1251.07 518.97 1254.13 514.387 Q1257.21 509.781 1263.02 509.781 Z\" fill=\"#000000\" fill-rule=\"nonzero\" fill-opacity=\"1\" /><path clip-path=\"url(#clip400)\" d=\"M1283.18 539.086 L1288.06 539.086 L1288.06 544.965 L1283.18 544.965 L1283.18 539.086 Z\" fill=\"#000000\" fill-rule=\"nonzero\" fill-opacity=\"1\" /><path clip-path=\"url(#clip400)\" d=\"M1312.42 526.331 Q1315.77 527.049 1317.65 529.317 Q1319.54 531.586 1319.54 534.919 Q1319.54 540.035 1316.03 542.836 Q1312.51 545.637 1306.03 545.637 Q1303.85 545.637 1301.54 545.197 Q1299.24 544.78 1296.79 543.924 L1296.79 539.41 Q1298.73 540.544 1301.05 541.123 Q1303.36 541.702 1305.89 541.702 Q1310.29 541.702 1312.58 539.966 Q1314.89 538.229 1314.89 534.919 Q1314.89 531.864 1312.74 530.151 Q1310.61 528.415 1306.79 528.415 L1302.76 528.415 L1302.76 524.572 L1306.98 524.572 Q1310.42 524.572 1312.25 523.206 Q1314.08 521.817 1314.08 519.225 Q1314.08 516.563 1312.18 515.151 Q1310.31 513.716 1306.79 513.716 Q1304.87 513.716 1302.67 514.132 Q1300.47 514.549 1297.83 515.429 L1297.83 511.262 Q1300.49 510.521 1302.81 510.151 Q1305.15 509.781 1307.21 509.781 Q1312.53 509.781 1315.63 512.211 Q1318.73 514.618 1318.73 518.739 Q1318.73 521.609 1317.09 523.6 Q1315.45 525.567 1312.42 526.331 Z\" fill=\"#000000\" fill-rule=\"nonzero\" fill-opacity=\"1\" /><path clip-path=\"url(#clip400)\" d=\"M1338.41 513.484 Q1334.8 513.484 1332.97 517.049 Q1331.17 520.591 1331.17 527.72 Q1331.17 534.827 1332.97 538.391 Q1334.8 541.933 1338.41 541.933 Q1342.04 541.933 1343.85 538.391 Q1345.68 534.827 1345.68 527.72 Q1345.68 520.591 1343.85 517.049 Q1342.04 513.484 1338.41 513.484 M1338.41 509.781 Q1344.22 509.781 1347.28 514.387 Q1350.36 518.97 1350.36 527.72 Q1350.36 536.447 1347.28 541.053 Q1344.22 545.637 1338.41 545.637 Q1332.6 545.637 1329.52 541.053 Q1326.47 536.447 1326.47 527.72 Q1326.47 518.97 1329.52 514.387 Q1332.6 509.781 1338.41 509.781 Z\" fill=\"#000000\" fill-rule=\"nonzero\" fill-opacity=\"1\" /><path clip-path=\"url(#clip400)\" d=\"M1264.01 378.038 Q1260.4 378.038 1258.57 381.602 Q1256.77 385.144 1256.77 392.274 Q1256.77 399.38 1258.57 402.945 Q1260.4 406.487 1264.01 406.487 Q1267.65 406.487 1269.45 402.945 Q1271.28 399.38 1271.28 392.274 Q1271.28 385.144 1269.45 381.602 Q1267.65 378.038 1264.01 378.038 M1264.01 374.334 Q1269.82 374.334 1272.88 378.94 Q1275.96 383.524 1275.96 392.274 Q1275.96 401 1272.88 405.607 Q1269.82 410.19 1264.01 410.19 Q1258.2 410.19 1255.12 405.607 Q1252.07 401 1252.07 392.274 Q1252.07 383.524 1255.12 378.94 Q1258.2 374.334 1264.01 374.334 Z\" fill=\"#000000\" fill-rule=\"nonzero\" fill-opacity=\"1\" /><path clip-path=\"url(#clip400)\" d=\"M1284.17 403.639 L1289.06 403.639 L1289.06 409.519 L1284.17 409.519 L1284.17 403.639 Z\" fill=\"#000000\" fill-rule=\"nonzero\" fill-opacity=\"1\" /><path clip-path=\"url(#clip400)\" d=\"M1313.41 390.885 Q1316.77 391.602 1318.64 393.871 Q1320.54 396.139 1320.54 399.473 Q1320.54 404.588 1317.02 407.389 Q1313.5 410.19 1307.02 410.19 Q1304.85 410.19 1302.53 409.75 Q1300.24 409.334 1297.79 408.477 L1297.79 403.963 Q1299.73 405.098 1302.05 405.676 Q1304.36 406.255 1306.88 406.255 Q1311.28 406.255 1313.57 404.519 Q1315.89 402.783 1315.89 399.473 Q1315.89 396.417 1313.73 394.704 Q1311.61 392.968 1307.79 392.968 L1303.76 392.968 L1303.76 389.126 L1307.97 389.126 Q1311.42 389.126 1313.25 387.76 Q1315.08 386.371 1315.08 383.778 Q1315.08 381.116 1313.18 379.704 Q1311.3 378.269 1307.79 378.269 Q1305.86 378.269 1303.67 378.686 Q1301.47 379.102 1298.83 379.982 L1298.83 375.815 Q1301.49 375.075 1303.8 374.704 Q1306.14 374.334 1308.2 374.334 Q1313.53 374.334 1316.63 376.764 Q1319.73 379.172 1319.73 383.292 Q1319.73 386.163 1318.09 388.153 Q1316.44 390.121 1313.41 390.885 Z\" fill=\"#000000\" fill-rule=\"nonzero\" fill-opacity=\"1\" /><path clip-path=\"url(#clip400)\" d=\"M1329.45 374.959 L1347.81 374.959 L1347.81 378.894 L1333.73 378.894 L1333.73 387.366 Q1334.75 387.019 1335.77 386.857 Q1336.79 386.672 1337.81 386.672 Q1343.6 386.672 1346.98 389.843 Q1350.36 393.014 1350.36 398.431 Q1350.36 404.01 1346.88 407.112 Q1343.41 410.19 1337.09 410.19 Q1334.92 410.19 1332.65 409.82 Q1330.4 409.45 1327.99 408.709 L1327.99 404.01 Q1330.08 405.144 1332.3 405.7 Q1334.52 406.255 1337 406.255 Q1341 406.255 1343.34 404.149 Q1345.68 402.042 1345.68 398.431 Q1345.68 394.82 1343.34 392.713 Q1341 390.607 1337 390.607 Q1335.12 390.607 1333.25 391.024 Q1331.4 391.44 1329.45 392.32 L1329.45 374.959 Z\" fill=\"#000000\" fill-rule=\"nonzero\" fill-opacity=\"1\" /><path clip-path=\"url(#clip400)\" d=\"M1263.02 242.591 Q1259.41 242.591 1257.58 246.156 Q1255.77 249.698 1255.77 256.827 Q1255.77 263.934 1257.58 267.498 Q1259.41 271.04 1263.02 271.04 Q1266.65 271.04 1268.46 267.498 Q1270.29 263.934 1270.29 256.827 Q1270.29 249.698 1268.46 246.156 Q1266.65 242.591 1263.02 242.591 M1263.02 238.887 Q1268.83 238.887 1271.88 243.494 Q1274.96 248.077 1274.96 256.827 Q1274.96 265.554 1271.88 270.16 Q1268.83 274.744 1263.02 274.744 Q1257.21 274.744 1254.13 270.16 Q1251.07 265.554 1251.07 256.827 Q1251.07 248.077 1254.13 243.494 Q1257.21 238.887 1263.02 238.887 Z\" fill=\"#000000\" fill-rule=\"nonzero\" fill-opacity=\"1\" /><path clip-path=\"url(#clip400)\" d=\"M1283.18 268.193 L1288.06 268.193 L1288.06 274.072 L1283.18 274.072 L1283.18 268.193 Z\" fill=\"#000000\" fill-rule=\"nonzero\" fill-opacity=\"1\" /><path clip-path=\"url(#clip400)\" d=\"M1311.1 243.586 L1299.29 262.035 L1311.1 262.035 L1311.1 243.586 M1309.87 239.512 L1315.75 239.512 L1315.75 262.035 L1320.68 262.035 L1320.68 265.924 L1315.75 265.924 L1315.75 274.072 L1311.1 274.072 L1311.1 265.924 L1295.49 265.924 L1295.49 261.41 L1309.87 239.512 Z\" fill=\"#000000\" fill-rule=\"nonzero\" fill-opacity=\"1\" /><path clip-path=\"url(#clip400)\" d=\"M1338.41 242.591 Q1334.8 242.591 1332.97 246.156 Q1331.17 249.698 1331.17 256.827 Q1331.17 263.934 1332.97 267.498 Q1334.8 271.04 1338.41 271.04 Q1342.04 271.04 1343.85 267.498 Q1345.68 263.934 1345.68 256.827 Q1345.68 249.698 1343.85 246.156 Q1342.04 242.591 1338.41 242.591 M1338.41 238.887 Q1344.22 238.887 1347.28 243.494 Q1350.36 248.077 1350.36 256.827 Q1350.36 265.554 1347.28 270.16 Q1344.22 274.744 1338.41 274.744 Q1332.6 274.744 1329.52 270.16 Q1326.47 265.554 1326.47 256.827 Q1326.47 248.077 1329.52 243.494 Q1332.6 238.887 1338.41 238.887 Z\" fill=\"#000000\" fill-rule=\"nonzero\" fill-opacity=\"1\" /><path clip-path=\"url(#clip400)\" d=\"M1698.61 44.2197 Q1701.24 45.1109 1703.71 48.0275 Q1706.22 50.9442 1708.73 56.0483 L1717.04 72.576 L1708.25 72.576 L1700.51 57.061 Q1697.51 50.9847 1694.68 48.9997 Q1691.88 47.0148 1687.02 47.0148 L1678.11 47.0148 L1678.11 72.576 L1669.93 72.576 L1669.93 12.096 L1688.4 12.096 Q1698.77 12.096 1703.87 16.4305 Q1708.98 20.7649 1708.98 29.5149 Q1708.98 35.2267 1706.3 38.994 Q1703.67 42.7613 1698.61 44.2197 M1678.11 18.8205 L1678.11 40.2903 L1688.4 40.2903 Q1694.31 40.2903 1697.31 37.5762 Q1700.35 34.8216 1700.35 29.5149 Q1700.35 24.2082 1697.31 21.5346 Q1694.31 18.8205 1688.4 18.8205 L1678.11 18.8205 Z\" fill=\"#000000\" fill-rule=\"nonzero\" fill-opacity=\"1\" /><path clip-path=\"url(#clip400)\" d=\"M1762.33 48.0275 L1762.33 51.6733 L1728.06 51.6733 Q1728.54 59.3701 1732.68 63.421 Q1736.85 67.4314 1744.26 67.4314 Q1748.55 67.4314 1752.57 66.3781 Q1756.62 65.3249 1760.59 63.2184 L1760.59 70.267 Q1756.58 71.9684 1752.36 72.8596 Q1748.15 73.7508 1743.82 73.7508 Q1732.96 73.7508 1726.6 67.4314 Q1720.28 61.1119 1720.28 50.3365 Q1720.28 39.1965 1726.27 32.6746 Q1732.31 26.1121 1742.52 26.1121 Q1751.67 26.1121 1756.98 32.0264 Q1762.33 37.9003 1762.33 48.0275 M1754.87 45.84 Q1754.79 39.7232 1751.43 36.0774 Q1748.11 32.4315 1742.6 32.4315 Q1736.36 32.4315 1732.59 35.9558 Q1728.87 39.4801 1728.3 45.8805 L1754.87 45.84 Z\" fill=\"#000000\" fill-rule=\"nonzero\" fill-opacity=\"1\" /><path clip-path=\"url(#clip400)\" d=\"M1807.21 28.9478 L1807.21 35.9153 Q1804.05 34.1734 1800.85 33.3227 Q1797.69 32.4315 1794.45 32.4315 Q1787.2 32.4315 1783.19 37.0496 Q1779.18 41.6271 1779.18 49.9314 Q1779.18 58.2358 1783.19 62.8538 Q1787.2 67.4314 1794.45 67.4314 Q1797.69 67.4314 1800.85 66.5807 Q1804.05 65.6895 1807.21 63.9476 L1807.21 70.8341 Q1804.09 72.2924 1800.73 73.0216 Q1797.41 73.7508 1793.64 73.7508 Q1783.39 73.7508 1777.36 67.3098 Q1771.32 60.8689 1771.32 49.9314 Q1771.32 38.832 1777.4 32.472 Q1783.51 26.1121 1794.13 26.1121 Q1797.57 26.1121 1800.85 26.8413 Q1804.13 27.5299 1807.21 28.9478 Z\" fill=\"#000000\" fill-rule=\"nonzero\" fill-opacity=\"1\" /><path clip-path=\"url(#clip400)\" d=\"M1858.98 48.0275 L1858.98 51.6733 L1824.71 51.6733 Q1825.2 59.3701 1829.33 63.421 Q1833.5 67.4314 1840.92 67.4314 Q1845.21 67.4314 1849.22 66.3781 Q1853.27 65.3249 1857.24 63.2184 L1857.24 70.267 Q1853.23 71.9684 1849.02 72.8596 Q1844.8 73.7508 1840.47 73.7508 Q1829.61 73.7508 1823.25 67.4314 Q1816.93 61.1119 1816.93 50.3365 Q1816.93 39.1965 1822.93 32.6746 Q1828.97 26.1121 1839.17 26.1121 Q1848.33 26.1121 1853.64 32.0264 Q1858.98 37.9003 1858.98 48.0275 M1851.53 45.84 Q1851.45 39.7232 1848.09 36.0774 Q1844.76 32.4315 1839.25 32.4315 Q1833.02 32.4315 1829.25 35.9558 Q1825.52 39.4801 1824.96 45.8805 L1851.53 45.84 Z\" fill=\"#000000\" fill-rule=\"nonzero\" fill-opacity=\"1\" /><path clip-path=\"url(#clip400)\" d=\"M1900.14 28.5427 L1900.14 35.5912 Q1896.98 33.9709 1893.58 33.1607 Q1890.17 32.3505 1886.53 32.3505 Q1880.98 32.3505 1878.18 34.0519 Q1875.43 35.7533 1875.43 39.156 Q1875.43 41.7486 1877.41 43.2475 Q1879.4 44.7058 1885.39 46.0426 L1887.95 46.6097 Q1895.89 48.3111 1899.21 51.4303 Q1902.57 54.509 1902.57 60.0587 Q1902.57 66.3781 1897.55 70.0644 Q1892.56 73.7508 1883.81 73.7508 Q1880.17 73.7508 1876.2 73.0216 Q1872.27 72.3329 1867.89 70.9151 L1867.89 63.2184 Q1872.03 65.3654 1876.04 66.4591 Q1880.05 67.5124 1883.98 67.5124 Q1889.24 67.5124 1892.08 65.73 Q1894.91 63.9071 1894.91 60.6258 Q1894.91 57.5877 1892.85 55.9673 Q1890.82 54.3469 1883.9 52.8481 L1881.3 52.2405 Q1874.38 50.7821 1871.3 47.7845 Q1868.22 44.7463 1868.22 39.4801 Q1868.22 33.0797 1872.76 29.5959 Q1877.29 26.1121 1885.64 26.1121 Q1889.77 26.1121 1893.42 26.7198 Q1897.06 27.3274 1900.14 28.5427 Z\" fill=\"#000000\" fill-rule=\"nonzero\" fill-opacity=\"1\" /><path clip-path=\"url(#clip400)\" d=\"M1943.36 28.5427 L1943.36 35.5912 Q1940.2 33.9709 1936.8 33.1607 Q1933.4 32.3505 1929.75 32.3505 Q1924.2 32.3505 1921.41 34.0519 Q1918.65 35.7533 1918.65 39.156 Q1918.65 41.7486 1920.64 43.2475 Q1922.62 44.7058 1928.62 46.0426 L1931.17 46.6097 Q1939.11 48.3111 1942.43 51.4303 Q1945.79 54.509 1945.79 60.0587 Q1945.79 66.3781 1940.77 70.0644 Q1935.79 73.7508 1927.04 73.7508 Q1923.39 73.7508 1919.42 73.0216 Q1915.49 72.3329 1911.12 70.9151 L1911.12 63.2184 Q1915.25 65.3654 1919.26 66.4591 Q1923.27 67.5124 1927.2 67.5124 Q1932.47 67.5124 1935.3 65.73 Q1938.14 63.9071 1938.14 60.6258 Q1938.14 57.5877 1936.07 55.9673 Q1934.05 54.3469 1927.12 52.8481 L1924.53 52.2405 Q1917.6 50.7821 1914.52 47.7845 Q1911.44 44.7463 1911.44 39.4801 Q1911.44 33.0797 1915.98 29.5959 Q1920.52 26.1121 1928.86 26.1121 Q1932.99 26.1121 1936.64 26.7198 Q1940.28 27.3274 1943.36 28.5427 Z\" fill=\"#000000\" fill-rule=\"nonzero\" fill-opacity=\"1\" /><path clip-path=\"url(#clip400)\" d=\"M1957.66 27.2059 L1965.12 27.2059 L1965.12 72.576 L1957.66 72.576 L1957.66 27.2059 M1957.66 9.54393 L1965.12 9.54393 L1965.12 18.9825 L1957.66 18.9825 L1957.66 9.54393 Z\" fill=\"#000000\" fill-rule=\"nonzero\" fill-opacity=\"1\" /><path clip-path=\"url(#clip400)\" d=\"M1998.29 32.4315 Q1992.3 32.4315 1988.81 37.1306 Q1985.33 41.7891 1985.33 49.9314 Q1985.33 58.0738 1988.77 62.7728 Q1992.26 67.4314 1998.29 67.4314 Q2004.25 67.4314 2007.73 62.7323 Q2011.22 58.0333 2011.22 49.9314 Q2011.22 41.8701 2007.73 37.1711 Q2004.25 32.4315 1998.29 32.4315 M1998.29 26.1121 Q2008.02 26.1121 2013.57 32.4315 Q2019.11 38.7509 2019.11 49.9314 Q2019.11 61.0714 2013.57 67.4314 Q2008.02 73.7508 1998.29 73.7508 Q1988.53 73.7508 1982.98 67.4314 Q1977.47 61.0714 1977.47 49.9314 Q1977.47 38.7509 1982.98 32.4315 Q1988.53 26.1121 1998.29 26.1121 Z\" fill=\"#000000\" fill-rule=\"nonzero\" fill-opacity=\"1\" /><path clip-path=\"url(#clip400)\" d=\"M2069.18 45.1919 L2069.18 72.576 L2061.73 72.576 L2061.73 45.4349 Q2061.73 38.994 2059.22 35.7938 Q2056.71 32.5936 2051.68 32.5936 Q2045.65 32.5936 2042.16 36.4419 Q2038.68 40.2903 2038.68 46.9338 L2038.68 72.576 L2031.19 72.576 L2031.19 27.2059 L2038.68 27.2059 L2038.68 34.2544 Q2041.35 30.163 2044.96 28.1376 Q2048.61 26.1121 2053.34 26.1121 Q2061.16 26.1121 2065.17 30.9732 Q2069.18 35.7938 2069.18 45.1919 Z\" fill=\"#000000\" fill-rule=\"nonzero\" fill-opacity=\"1\" /><polyline clip-path=\"url(#clip403)\" style=\"stroke:#009af9; stroke-linecap:round; stroke-linejoin:round; stroke-width:4; stroke-opacity:1; fill:none\" points=\"1413.71,166.495 1461.69,139.405 1509.67,189.521 1557.66,257.921 1605.64,324.717 1653.63,384.009 1701.61,434.787 1749.6,477.637 1797.58,513.569 1845.56,543.619 1893.55,568.719 1941.53,589.674 1989.52,607.165 2037.5,621.762 2085.48,633.944 2133.47,644.111 2181.45,652.595 2229.44,659.675 2277.42,665.584 2325.4,670.515 \"/>\n",
       "<path clip-path=\"url(#clip400)\" d=\"M2171.47 245.918 L2320.54 245.918 L2320.54 142.238 L2171.47 142.238  Z\" fill=\"#ffffff\" fill-rule=\"evenodd\" fill-opacity=\"1\"/>\n",
       "<polyline clip-path=\"url(#clip400)\" style=\"stroke:#000000; stroke-linecap:round; stroke-linejoin:round; stroke-width:4; stroke-opacity:1; fill:none\" points=\"2171.47,245.918 2320.54,245.918 2320.54,142.238 2171.47,142.238 2171.47,245.918 \"/>\n",
       "<polyline clip-path=\"url(#clip400)\" style=\"stroke:#009af9; stroke-linecap:round; stroke-linejoin:round; stroke-width:4; stroke-opacity:1; fill:none\" points=\"2182.21,194.078 2246.64,194.078 \"/>\n",
       "<path clip-path=\"url(#clip400)\" d=\"M2271.22 213.765 Q2269.41 218.395 2267.7 219.807 Q2265.99 221.219 2263.12 221.219 L2259.71 221.219 L2259.71 217.654 L2262.21 217.654 Q2263.97 217.654 2264.94 216.821 Q2265.92 215.988 2267.1 212.886 L2267.86 210.941 L2257.37 185.432 L2261.89 185.432 L2269.99 205.71 L2278.09 185.432 L2282.61 185.432 L2271.22 213.765 Z\" fill=\"#000000\" fill-rule=\"nonzero\" fill-opacity=\"1\" /><path clip-path=\"url(#clip400)\" d=\"M2289.9 207.423 L2297.54 207.423 L2297.54 181.057 L2289.23 182.724 L2289.23 178.465 L2297.49 176.798 L2302.17 176.798 L2302.17 207.423 L2309.8 207.423 L2309.8 211.358 L2289.9 211.358 L2289.9 207.423 Z\" fill=\"#000000\" fill-rule=\"nonzero\" fill-opacity=\"1\" /><path clip-path=\"url(#clip400)\" d=\"M186.436 1486.45 L1152.84 1486.45 L1152.84 923.472 L186.436 923.472  Z\" fill=\"#ffffff\" fill-rule=\"evenodd\" fill-opacity=\"1\"/>\n",
       "<defs>\n",
       "  <clipPath id=\"clip404\">\n",
       "    <rect x=\"186\" y=\"923\" width=\"967\" height=\"564\"/>\n",
       "  </clipPath>\n",
       "</defs>\n",
       "<polyline clip-path=\"url(#clip404)\" style=\"stroke:#000000; stroke-linecap:round; stroke-linejoin:round; stroke-width:2; stroke-opacity:0.1; fill:none\" points=\"405.724,1486.45 405.724,923.472 \"/>\n",
       "<polyline clip-path=\"url(#clip404)\" style=\"stroke:#000000; stroke-linecap:round; stroke-linejoin:round; stroke-width:2; stroke-opacity:0.1; fill:none\" points=\"645.644,1486.45 645.644,923.472 \"/>\n",
       "<polyline clip-path=\"url(#clip404)\" style=\"stroke:#000000; stroke-linecap:round; stroke-linejoin:round; stroke-width:2; stroke-opacity:0.1; fill:none\" points=\"885.565,1486.45 885.565,923.472 \"/>\n",
       "<polyline clip-path=\"url(#clip404)\" style=\"stroke:#000000; stroke-linecap:round; stroke-linejoin:round; stroke-width:2; stroke-opacity:0.1; fill:none\" points=\"1125.49,1486.45 1125.49,923.472 \"/>\n",
       "<polyline clip-path=\"url(#clip404)\" style=\"stroke:#000000; stroke-linecap:round; stroke-linejoin:round; stroke-width:2; stroke-opacity:0.1; fill:none\" points=\"186.436,1436.31 1152.84,1436.31 \"/>\n",
       "<polyline clip-path=\"url(#clip404)\" style=\"stroke:#000000; stroke-linecap:round; stroke-linejoin:round; stroke-width:2; stroke-opacity:0.1; fill:none\" points=\"186.436,1329.83 1152.84,1329.83 \"/>\n",
       "<polyline clip-path=\"url(#clip404)\" style=\"stroke:#000000; stroke-linecap:round; stroke-linejoin:round; stroke-width:2; stroke-opacity:0.1; fill:none\" points=\"186.436,1223.35 1152.84,1223.35 \"/>\n",
       "<polyline clip-path=\"url(#clip404)\" style=\"stroke:#000000; stroke-linecap:round; stroke-linejoin:round; stroke-width:2; stroke-opacity:0.1; fill:none\" points=\"186.436,1116.87 1152.84,1116.87 \"/>\n",
       "<polyline clip-path=\"url(#clip404)\" style=\"stroke:#000000; stroke-linecap:round; stroke-linejoin:round; stroke-width:2; stroke-opacity:0.1; fill:none\" points=\"186.436,1010.39 1152.84,1010.39 \"/>\n",
       "<polyline clip-path=\"url(#clip400)\" style=\"stroke:#000000; stroke-linecap:round; stroke-linejoin:round; stroke-width:4; stroke-opacity:1; fill:none\" points=\"186.436,1486.45 1152.84,1486.45 \"/>\n",
       "<polyline clip-path=\"url(#clip400)\" style=\"stroke:#000000; stroke-linecap:round; stroke-linejoin:round; stroke-width:4; stroke-opacity:1; fill:none\" points=\"405.724,1486.45 405.724,1467.55 \"/>\n",
       "<polyline clip-path=\"url(#clip400)\" style=\"stroke:#000000; stroke-linecap:round; stroke-linejoin:round; stroke-width:4; stroke-opacity:1; fill:none\" points=\"645.644,1486.45 645.644,1467.55 \"/>\n",
       "<polyline clip-path=\"url(#clip400)\" style=\"stroke:#000000; stroke-linecap:round; stroke-linejoin:round; stroke-width:4; stroke-opacity:1; fill:none\" points=\"885.565,1486.45 885.565,1467.55 \"/>\n",
       "<polyline clip-path=\"url(#clip400)\" style=\"stroke:#000000; stroke-linecap:round; stroke-linejoin:round; stroke-width:4; stroke-opacity:1; fill:none\" points=\"1125.49,1486.45 1125.49,1467.55 \"/>\n",
       "<path clip-path=\"url(#clip400)\" d=\"M396.001 1514.29 L414.358 1514.29 L414.358 1518.22 L400.284 1518.22 L400.284 1526.7 Q401.302 1526.35 402.321 1526.19 Q403.339 1526 404.358 1526 Q410.145 1526 413.525 1529.17 Q416.904 1532.34 416.904 1537.76 Q416.904 1543.34 413.432 1546.44 Q409.96 1549.52 403.64 1549.52 Q401.464 1549.52 399.196 1549.15 Q396.951 1548.78 394.543 1548.04 L394.543 1543.34 Q396.626 1544.47 398.849 1545.03 Q401.071 1545.58 403.548 1545.58 Q407.552 1545.58 409.89 1543.48 Q412.228 1541.37 412.228 1537.76 Q412.228 1534.15 409.89 1532.04 Q407.552 1529.94 403.548 1529.94 Q401.673 1529.94 399.798 1530.35 Q397.946 1530.77 396.001 1531.65 L396.001 1514.29 Z\" fill=\"#000000\" fill-rule=\"nonzero\" fill-opacity=\"1\" /><path clip-path=\"url(#clip400)\" d=\"M620.332 1544.91 L627.971 1544.91 L627.971 1518.55 L619.661 1520.21 L619.661 1515.95 L627.925 1514.29 L632.6 1514.29 L632.6 1544.91 L640.239 1544.91 L640.239 1548.85 L620.332 1548.85 L620.332 1544.91 Z\" fill=\"#000000\" fill-rule=\"nonzero\" fill-opacity=\"1\" /><path clip-path=\"url(#clip400)\" d=\"M659.684 1517.37 Q656.073 1517.37 654.244 1520.93 Q652.438 1524.47 652.438 1531.6 Q652.438 1538.71 654.244 1542.27 Q656.073 1545.82 659.684 1545.82 Q663.318 1545.82 665.123 1542.27 Q666.952 1538.71 666.952 1531.6 Q666.952 1524.47 665.123 1520.93 Q663.318 1517.37 659.684 1517.37 M659.684 1513.66 Q665.494 1513.66 668.549 1518.27 Q671.628 1522.85 671.628 1531.6 Q671.628 1540.33 668.549 1544.94 Q665.494 1549.52 659.684 1549.52 Q653.874 1549.52 650.795 1544.94 Q647.739 1540.33 647.739 1531.6 Q647.739 1522.85 650.795 1518.27 Q653.874 1513.66 659.684 1513.66 Z\" fill=\"#000000\" fill-rule=\"nonzero\" fill-opacity=\"1\" /><path clip-path=\"url(#clip400)\" d=\"M860.75 1544.91 L868.389 1544.91 L868.389 1518.55 L860.079 1520.21 L860.079 1515.95 L868.343 1514.29 L873.019 1514.29 L873.019 1544.91 L880.658 1544.91 L880.658 1548.85 L860.75 1548.85 L860.75 1544.91 Z\" fill=\"#000000\" fill-rule=\"nonzero\" fill-opacity=\"1\" /><path clip-path=\"url(#clip400)\" d=\"M890.148 1514.29 L908.505 1514.29 L908.505 1518.22 L894.431 1518.22 L894.431 1526.7 Q895.449 1526.35 896.468 1526.19 Q897.486 1526 898.505 1526 Q904.292 1526 907.672 1529.17 Q911.051 1532.34 911.051 1537.76 Q911.051 1543.34 907.579 1546.44 Q904.107 1549.52 897.787 1549.52 Q895.611 1549.52 893.343 1549.15 Q891.098 1548.78 888.69 1548.04 L888.69 1543.34 Q890.773 1544.47 892.996 1545.03 Q895.218 1545.58 897.695 1545.58 Q901.699 1545.58 904.037 1543.48 Q906.375 1541.37 906.375 1537.76 Q906.375 1534.15 904.037 1532.04 Q901.699 1529.94 897.695 1529.94 Q895.82 1529.94 893.945 1530.35 Q892.093 1530.77 890.148 1531.65 L890.148 1514.29 Z\" fill=\"#000000\" fill-rule=\"nonzero\" fill-opacity=\"1\" /><path clip-path=\"url(#clip400)\" d=\"M1104.26 1544.91 L1120.58 1544.91 L1120.58 1548.85 L1098.63 1548.85 L1098.63 1544.91 Q1101.3 1542.16 1105.88 1537.53 Q1110.49 1532.88 1111.67 1531.53 Q1113.91 1529.01 1114.79 1527.27 Q1115.69 1525.51 1115.69 1523.82 Q1115.69 1521.07 1113.75 1519.33 Q1111.83 1517.6 1108.73 1517.6 Q1106.53 1517.6 1104.07 1518.36 Q1101.64 1519.13 1098.87 1520.68 L1098.87 1515.95 Q1101.69 1514.82 1104.14 1514.24 Q1106.6 1513.66 1108.63 1513.66 Q1114 1513.66 1117.2 1516.35 Q1120.39 1519.03 1120.39 1523.52 Q1120.39 1525.65 1119.58 1527.57 Q1118.8 1529.47 1116.69 1532.07 Q1116.11 1532.74 1113.01 1535.95 Q1109.91 1539.15 1104.26 1544.91 Z\" fill=\"#000000\" fill-rule=\"nonzero\" fill-opacity=\"1\" /><path clip-path=\"url(#clip400)\" d=\"M1140.39 1517.37 Q1136.78 1517.37 1134.95 1520.93 Q1133.15 1524.47 1133.15 1531.6 Q1133.15 1538.71 1134.95 1542.27 Q1136.78 1545.82 1140.39 1545.82 Q1144.03 1545.82 1145.83 1542.27 Q1147.66 1538.71 1147.66 1531.6 Q1147.66 1524.47 1145.83 1520.93 Q1144.03 1517.37 1140.39 1517.37 M1140.39 1513.66 Q1146.2 1513.66 1149.26 1518.27 Q1152.34 1522.85 1152.34 1531.6 Q1152.34 1540.33 1149.26 1544.94 Q1146.2 1549.52 1140.39 1549.52 Q1134.58 1549.52 1131.5 1544.94 Q1128.45 1540.33 1128.45 1531.6 Q1128.45 1522.85 1131.5 1518.27 Q1134.58 1513.66 1140.39 1513.66 Z\" fill=\"#000000\" fill-rule=\"nonzero\" fill-opacity=\"1\" /><polyline clip-path=\"url(#clip400)\" style=\"stroke:#000000; stroke-linecap:round; stroke-linejoin:round; stroke-width:4; stroke-opacity:1; fill:none\" points=\"186.436,1486.45 186.436,923.472 \"/>\n",
       "<polyline clip-path=\"url(#clip400)\" style=\"stroke:#000000; stroke-linecap:round; stroke-linejoin:round; stroke-width:4; stroke-opacity:1; fill:none\" points=\"186.436,1436.31 205.334,1436.31 \"/>\n",
       "<polyline clip-path=\"url(#clip400)\" style=\"stroke:#000000; stroke-linecap:round; stroke-linejoin:round; stroke-width:4; stroke-opacity:1; fill:none\" points=\"186.436,1329.83 205.334,1329.83 \"/>\n",
       "<polyline clip-path=\"url(#clip400)\" style=\"stroke:#000000; stroke-linecap:round; stroke-linejoin:round; stroke-width:4; stroke-opacity:1; fill:none\" points=\"186.436,1223.35 205.334,1223.35 \"/>\n",
       "<polyline clip-path=\"url(#clip400)\" style=\"stroke:#000000; stroke-linecap:round; stroke-linejoin:round; stroke-width:4; stroke-opacity:1; fill:none\" points=\"186.436,1116.87 205.334,1116.87 \"/>\n",
       "<polyline clip-path=\"url(#clip400)\" style=\"stroke:#000000; stroke-linecap:round; stroke-linejoin:round; stroke-width:4; stroke-opacity:1; fill:none\" points=\"186.436,1010.39 205.334,1010.39 \"/>\n",
       "<path clip-path=\"url(#clip400)\" d=\"M62.9365 1422.11 Q59.3254 1422.11 57.4967 1425.67 Q55.6912 1429.22 55.6912 1436.34 Q55.6912 1443.45 57.4967 1447.02 Q59.3254 1450.56 62.9365 1450.56 Q66.5707 1450.56 68.3763 1447.02 Q70.205 1443.45 70.205 1436.34 Q70.205 1429.22 68.3763 1425.67 Q66.5707 1422.11 62.9365 1422.11 M62.9365 1418.41 Q68.7467 1418.41 71.8022 1423.01 Q74.8809 1427.6 74.8809 1436.34 Q74.8809 1445.07 71.8022 1449.68 Q68.7467 1454.26 62.9365 1454.26 Q57.1264 1454.26 54.0477 1449.68 Q50.9921 1445.07 50.9921 1436.34 Q50.9921 1427.6 54.0477 1423.01 Q57.1264 1418.41 62.9365 1418.41 Z\" fill=\"#000000\" fill-rule=\"nonzero\" fill-opacity=\"1\" /><path clip-path=\"url(#clip400)\" d=\"M83.0984 1447.71 L87.9827 1447.71 L87.9827 1453.59 L83.0984 1453.59 L83.0984 1447.71 Z\" fill=\"#000000\" fill-rule=\"nonzero\" fill-opacity=\"1\" /><path clip-path=\"url(#clip400)\" d=\"M108.168 1422.11 Q104.557 1422.11 102.728 1425.67 Q100.922 1429.22 100.922 1436.34 Q100.922 1443.45 102.728 1447.02 Q104.557 1450.56 108.168 1450.56 Q111.802 1450.56 113.608 1447.02 Q115.436 1443.45 115.436 1436.34 Q115.436 1429.22 113.608 1425.67 Q111.802 1422.11 108.168 1422.11 M108.168 1418.41 Q113.978 1418.41 117.033 1423.01 Q120.112 1427.6 120.112 1436.34 Q120.112 1445.07 117.033 1449.68 Q113.978 1454.26 108.168 1454.26 Q102.358 1454.26 99.2789 1449.68 Q96.2234 1445.07 96.2234 1436.34 Q96.2234 1427.6 99.2789 1423.01 Q102.358 1418.41 108.168 1418.41 Z\" fill=\"#000000\" fill-rule=\"nonzero\" fill-opacity=\"1\" /><path clip-path=\"url(#clip400)\" d=\"M138.908 1434.45 Q135.76 1434.45 133.908 1436.6 Q132.08 1438.75 132.08 1442.5 Q132.08 1446.23 133.908 1448.41 Q135.76 1450.56 138.908 1450.56 Q142.056 1450.56 143.885 1448.41 Q145.737 1446.23 145.737 1442.5 Q145.737 1438.75 143.885 1436.6 Q142.056 1434.45 138.908 1434.45 M148.191 1419.79 L148.191 1424.05 Q146.431 1423.22 144.626 1422.78 Q142.843 1422.34 141.084 1422.34 Q136.455 1422.34 134.001 1425.47 Q131.57 1428.59 131.223 1434.91 Q132.589 1432.9 134.649 1431.83 Q136.709 1430.74 139.186 1430.74 Q144.394 1430.74 147.404 1433.91 Q150.436 1437.06 150.436 1442.5 Q150.436 1447.83 147.288 1451.04 Q144.14 1454.26 138.908 1454.26 Q132.913 1454.26 129.742 1449.68 Q126.57 1445.07 126.57 1436.34 Q126.57 1428.15 130.459 1423.29 Q134.348 1418.41 140.899 1418.41 Q142.658 1418.41 144.441 1418.75 Q146.246 1419.1 148.191 1419.79 Z\" fill=\"#000000\" fill-rule=\"nonzero\" fill-opacity=\"1\" /><path clip-path=\"url(#clip400)\" d=\"M63.2837 1315.63 Q59.6726 1315.63 57.8439 1319.19 Q56.0384 1322.74 56.0384 1329.87 Q56.0384 1336.97 57.8439 1340.54 Q59.6726 1344.08 63.2837 1344.08 Q66.918 1344.08 68.7235 1340.54 Q70.5522 1336.97 70.5522 1329.87 Q70.5522 1322.74 68.7235 1319.19 Q66.918 1315.63 63.2837 1315.63 M63.2837 1311.93 Q69.0939 1311.93 72.1494 1316.53 Q75.2281 1321.12 75.2281 1329.87 Q75.2281 1338.59 72.1494 1343.2 Q69.0939 1347.78 63.2837 1347.78 Q57.4736 1347.78 54.3949 1343.2 Q51.3393 1338.59 51.3393 1329.87 Q51.3393 1321.12 54.3949 1316.53 Q57.4736 1311.93 63.2837 1311.93 Z\" fill=\"#000000\" fill-rule=\"nonzero\" fill-opacity=\"1\" /><path clip-path=\"url(#clip400)\" d=\"M83.4457 1341.23 L88.3299 1341.23 L88.3299 1347.11 L83.4457 1347.11 L83.4457 1341.23 Z\" fill=\"#000000\" fill-rule=\"nonzero\" fill-opacity=\"1\" /><path clip-path=\"url(#clip400)\" d=\"M108.515 1315.63 Q104.904 1315.63 103.075 1319.19 Q101.27 1322.74 101.27 1329.87 Q101.27 1336.97 103.075 1340.54 Q104.904 1344.08 108.515 1344.08 Q112.149 1344.08 113.955 1340.54 Q115.783 1336.97 115.783 1329.87 Q115.783 1322.74 113.955 1319.19 Q112.149 1315.63 108.515 1315.63 M108.515 1311.93 Q114.325 1311.93 117.381 1316.53 Q120.459 1321.12 120.459 1329.87 Q120.459 1338.59 117.381 1343.2 Q114.325 1347.78 108.515 1347.78 Q102.705 1347.78 99.6261 1343.2 Q96.5706 1338.59 96.5706 1329.87 Q96.5706 1321.12 99.6261 1316.53 Q102.705 1311.93 108.515 1311.93 Z\" fill=\"#000000\" fill-rule=\"nonzero\" fill-opacity=\"1\" /><path clip-path=\"url(#clip400)\" d=\"M128.816 1346.39 L128.816 1342.13 Q130.575 1342.97 132.381 1343.41 Q134.186 1343.85 135.922 1343.85 Q140.552 1343.85 142.982 1340.74 Q145.436 1337.62 145.783 1331.28 Q144.441 1333.27 142.381 1334.33 Q140.32 1335.4 137.82 1335.4 Q132.635 1335.4 129.603 1332.27 Q126.594 1329.12 126.594 1323.68 Q126.594 1318.36 129.742 1315.14 Q132.89 1311.93 138.121 1311.93 Q144.117 1311.93 147.265 1316.53 Q150.436 1321.12 150.436 1329.87 Q150.436 1338.04 146.547 1342.92 Q142.681 1347.78 136.131 1347.78 Q134.371 1347.78 132.566 1347.43 Q130.76 1347.09 128.816 1346.39 M138.121 1331.74 Q141.269 1331.74 143.098 1329.59 Q144.95 1327.43 144.95 1323.68 Q144.95 1319.96 143.098 1317.81 Q141.269 1315.63 138.121 1315.63 Q134.973 1315.63 133.121 1317.81 Q131.293 1319.96 131.293 1323.68 Q131.293 1327.43 133.121 1329.59 Q134.973 1331.74 138.121 1331.74 Z\" fill=\"#000000\" fill-rule=\"nonzero\" fill-opacity=\"1\" /><path clip-path=\"url(#clip400)\" d=\"M64.6958 1209.15 Q61.0847 1209.15 59.256 1212.71 Q57.4504 1216.26 57.4504 1223.39 Q57.4504 1230.49 59.256 1234.06 Q61.0847 1237.6 64.6958 1237.6 Q68.33 1237.6 70.1355 1234.06 Q71.9642 1230.49 71.9642 1223.39 Q71.9642 1216.26 70.1355 1212.71 Q68.33 1209.15 64.6958 1209.15 M64.6958 1205.45 Q70.5059 1205.45 73.5614 1210.05 Q76.6401 1214.64 76.6401 1223.39 Q76.6401 1232.11 73.5614 1236.72 Q70.5059 1241.3 64.6958 1241.3 Q58.8856 1241.3 55.8069 1236.72 Q52.7514 1232.11 52.7514 1223.39 Q52.7514 1214.64 55.8069 1210.05 Q58.8856 1205.45 64.6958 1205.45 Z\" fill=\"#000000\" fill-rule=\"nonzero\" fill-opacity=\"1\" /><path clip-path=\"url(#clip400)\" d=\"M84.8577 1234.75 L89.7419 1234.75 L89.7419 1240.63 L84.8577 1240.63 L84.8577 1234.75 Z\" fill=\"#000000\" fill-rule=\"nonzero\" fill-opacity=\"1\" /><path clip-path=\"url(#clip400)\" d=\"M100.737 1236.7 L108.376 1236.7 L108.376 1210.33 L100.066 1212 L100.066 1207.74 L108.33 1206.07 L113.006 1206.07 L113.006 1236.7 L120.645 1236.7 L120.645 1240.63 L100.737 1240.63 L100.737 1236.7 Z\" fill=\"#000000\" fill-rule=\"nonzero\" fill-opacity=\"1\" /><path clip-path=\"url(#clip400)\" d=\"M134.117 1236.7 L150.436 1236.7 L150.436 1240.63 L128.492 1240.63 L128.492 1236.7 Q131.154 1233.94 135.737 1229.31 Q140.343 1224.66 141.524 1223.32 Q143.769 1220.79 144.649 1219.06 Q145.552 1217.3 145.552 1215.61 Q145.552 1212.85 143.607 1211.12 Q141.686 1209.38 138.584 1209.38 Q136.385 1209.38 133.931 1210.15 Q131.501 1210.91 128.723 1212.46 L128.723 1207.74 Q131.547 1206.6 134.001 1206.02 Q136.455 1205.45 138.492 1205.45 Q143.862 1205.45 147.056 1208.13 Q150.251 1210.82 150.251 1215.31 Q150.251 1217.44 149.441 1219.36 Q148.654 1221.26 146.547 1223.85 Q145.968 1224.52 142.867 1227.74 Q139.765 1230.93 134.117 1236.7 Z\" fill=\"#000000\" fill-rule=\"nonzero\" fill-opacity=\"1\" /><path clip-path=\"url(#clip400)\" d=\"M64.0939 1102.67 Q60.4828 1102.67 58.6541 1106.23 Q56.8486 1109.78 56.8486 1116.91 Q56.8486 1124.01 58.6541 1127.58 Q60.4828 1131.12 64.0939 1131.12 Q67.7281 1131.12 69.5337 1127.58 Q71.3624 1124.01 71.3624 1116.91 Q71.3624 1109.78 69.5337 1106.23 Q67.7281 1102.67 64.0939 1102.67 M64.0939 1098.97 Q69.9041 1098.97 72.9596 1103.57 Q76.0383 1108.16 76.0383 1116.91 Q76.0383 1125.63 72.9596 1130.24 Q69.9041 1134.82 64.0939 1134.82 Q58.2838 1134.82 55.2051 1130.24 Q52.1495 1125.63 52.1495 1116.91 Q52.1495 1108.16 55.2051 1103.57 Q58.2838 1098.97 64.0939 1098.97 Z\" fill=\"#000000\" fill-rule=\"nonzero\" fill-opacity=\"1\" /><path clip-path=\"url(#clip400)\" d=\"M84.2558 1128.27 L89.1401 1128.27 L89.1401 1134.15 L84.2558 1134.15 L84.2558 1128.27 Z\" fill=\"#000000\" fill-rule=\"nonzero\" fill-opacity=\"1\" /><path clip-path=\"url(#clip400)\" d=\"M100.135 1130.22 L107.774 1130.22 L107.774 1103.85 L99.4641 1105.52 L99.4641 1101.26 L107.728 1099.59 L112.404 1099.59 L112.404 1130.22 L120.043 1130.22 L120.043 1134.15 L100.135 1134.15 L100.135 1130.22 Z\" fill=\"#000000\" fill-rule=\"nonzero\" fill-opacity=\"1\" /><path clip-path=\"url(#clip400)\" d=\"M129.533 1099.59 L147.89 1099.59 L147.89 1103.53 L133.816 1103.53 L133.816 1112 Q134.834 1111.65 135.853 1111.49 Q136.871 1111.3 137.89 1111.3 Q143.677 1111.3 147.056 1114.48 Q150.436 1117.65 150.436 1123.06 Q150.436 1128.64 146.964 1131.74 Q143.492 1134.82 137.172 1134.82 Q134.996 1134.82 132.728 1134.45 Q130.482 1134.08 128.075 1133.34 L128.075 1128.64 Q130.158 1129.78 132.381 1130.33 Q134.603 1130.89 137.08 1130.89 Q141.084 1130.89 143.422 1128.78 Q145.76 1126.67 145.76 1123.06 Q145.76 1119.45 143.422 1117.35 Q141.084 1115.24 137.08 1115.24 Q135.205 1115.24 133.33 1115.66 Q131.478 1116.07 129.533 1116.95 L129.533 1099.59 Z\" fill=\"#000000\" fill-rule=\"nonzero\" fill-opacity=\"1\" /><path clip-path=\"url(#clip400)\" d=\"M63.1911 996.19 Q59.58 996.19 57.7513 999.755 Q55.9458 1003.3 55.9458 1010.43 Q55.9458 1017.53 57.7513 1021.1 Q59.58 1024.64 63.1911 1024.64 Q66.8254 1024.64 68.6309 1021.1 Q70.4596 1017.53 70.4596 1010.43 Q70.4596 1003.3 68.6309 999.755 Q66.8254 996.19 63.1911 996.19 M63.1911 992.487 Q69.0013 992.487 72.0568 997.093 Q75.1355 1001.68 75.1355 1010.43 Q75.1355 1019.15 72.0568 1023.76 Q69.0013 1028.34 63.1911 1028.34 Q57.381 1028.34 54.3023 1023.76 Q51.2468 1019.15 51.2468 1010.43 Q51.2468 1001.68 54.3023 997.093 Q57.381 992.487 63.1911 992.487 Z\" fill=\"#000000\" fill-rule=\"nonzero\" fill-opacity=\"1\" /><path clip-path=\"url(#clip400)\" d=\"M83.3531 1021.79 L88.2373 1021.79 L88.2373 1027.67 L83.3531 1027.67 L83.3531 1021.79 Z\" fill=\"#000000\" fill-rule=\"nonzero\" fill-opacity=\"1\" /><path clip-path=\"url(#clip400)\" d=\"M99.2326 1023.74 L106.871 1023.74 L106.871 997.371 L98.5613 999.038 L98.5613 994.778 L106.825 993.112 L111.501 993.112 L111.501 1023.74 L119.14 1023.74 L119.14 1027.67 L99.2326 1027.67 L99.2326 1023.74 Z\" fill=\"#000000\" fill-rule=\"nonzero\" fill-opacity=\"1\" /><path clip-path=\"url(#clip400)\" d=\"M138.584 1011.26 Q135.251 1011.26 133.33 1013.04 Q131.432 1014.82 131.432 1017.95 Q131.432 1021.07 133.33 1022.86 Q135.251 1024.64 138.584 1024.64 Q141.918 1024.64 143.839 1022.86 Q145.76 1021.05 145.76 1017.95 Q145.76 1014.82 143.839 1013.04 Q141.941 1011.26 138.584 1011.26 M133.908 1009.27 Q130.899 1008.53 129.209 1006.47 Q127.543 1004.41 127.543 1001.45 Q127.543 997.302 130.482 994.894 Q133.445 992.487 138.584 992.487 Q143.746 992.487 146.686 994.894 Q149.626 997.302 149.626 1001.45 Q149.626 1004.41 147.936 1006.47 Q146.269 1008.53 143.283 1009.27 Q146.663 1010.06 148.538 1012.35 Q150.436 1014.64 150.436 1017.95 Q150.436 1022.97 147.357 1025.66 Q144.302 1028.34 138.584 1028.34 Q132.867 1028.34 129.788 1025.66 Q126.732 1022.97 126.732 1017.95 Q126.732 1014.64 128.631 1012.35 Q130.529 1010.06 133.908 1009.27 M132.195 1001.88 Q132.195 1004.57 133.862 1006.07 Q135.552 1007.58 138.584 1007.58 Q141.593 1007.58 143.283 1006.07 Q144.996 1004.57 144.996 1001.88 Q144.996 999.2 143.283 997.695 Q141.593 996.19 138.584 996.19 Q135.552 996.19 133.862 997.695 Q132.195 999.2 132.195 1001.88 Z\" fill=\"#000000\" fill-rule=\"nonzero\" fill-opacity=\"1\" /><path clip-path=\"url(#clip400)\" d=\"M355.691 818.821 L355.691 865.851 L365.576 865.851 Q378.093 865.851 383.886 860.18 Q389.719 854.509 389.719 842.275 Q389.719 830.123 383.886 824.492 Q378.093 818.821 365.576 818.821 L355.691 818.821 M347.509 812.096 L364.32 812.096 Q381.901 812.096 390.124 819.428 Q398.347 826.72 398.347 842.275 Q398.347 857.912 390.084 865.244 Q381.82 872.576 364.32 872.576 L347.509 872.576 L347.509 812.096 Z\" fill=\"#000000\" fill-rule=\"nonzero\" fill-opacity=\"1\" /><path clip-path=\"url(#clip400)\" d=\"M449.875 848.028 L449.875 851.673 L415.604 851.673 Q416.09 859.37 420.222 863.421 Q424.395 867.431 431.808 867.431 Q436.102 867.431 440.112 866.378 Q444.163 865.325 448.133 863.218 L448.133 870.267 Q444.123 871.968 439.91 872.86 Q435.697 873.751 431.362 873.751 Q420.506 873.751 414.146 867.431 Q407.827 861.112 407.827 850.337 Q407.827 839.197 413.822 832.675 Q419.858 826.112 430.066 826.112 Q439.221 826.112 444.528 832.026 Q449.875 837.9 449.875 848.028 M442.421 845.84 Q442.34 839.723 438.978 836.077 Q435.656 832.432 430.147 832.432 Q423.909 832.432 420.141 835.956 Q416.414 839.48 415.847 845.881 L442.421 845.84 Z\" fill=\"#000000\" fill-rule=\"nonzero\" fill-opacity=\"1\" /><path clip-path=\"url(#clip400)\" d=\"M500.916 848.028 L500.916 851.673 L466.646 851.673 Q467.132 859.37 471.264 863.421 Q475.436 867.431 482.849 867.431 Q487.143 867.431 491.154 866.378 Q495.205 865.325 499.174 863.218 L499.174 870.267 Q495.164 871.968 490.951 872.86 Q486.738 873.751 482.404 873.751 Q471.547 873.751 465.187 867.431 Q458.868 861.112 458.868 850.337 Q458.868 839.197 464.863 832.675 Q470.899 826.112 481.107 826.112 Q490.262 826.112 495.569 832.026 Q500.916 837.9 500.916 848.028 M493.463 845.84 Q493.382 839.723 490.019 836.077 Q486.698 832.432 481.188 832.432 Q474.95 832.432 471.183 835.956 Q467.456 839.48 466.889 845.881 L493.463 845.84 Z\" fill=\"#000000\" fill-rule=\"nonzero\" fill-opacity=\"1\" /><path clip-path=\"url(#clip400)\" d=\"M520.361 865.77 L520.361 889.833 L512.866 889.833 L512.866 827.206 L520.361 827.206 L520.361 834.092 Q522.71 830.042 526.275 828.097 Q529.88 826.112 534.863 826.112 Q543.127 826.112 548.271 832.675 Q553.457 839.237 553.457 849.931 Q553.457 860.626 548.271 867.188 Q543.127 873.751 534.863 873.751 Q529.88 873.751 526.275 871.806 Q522.71 869.821 520.361 865.77 M545.719 849.931 Q545.719 841.708 542.317 837.05 Q538.954 832.351 533.04 832.351 Q527.126 832.351 523.723 837.05 Q520.361 841.708 520.361 849.931 Q520.361 858.155 523.723 862.854 Q527.126 867.512 533.04 867.512 Q538.954 867.512 542.317 862.854 Q545.719 858.155 545.719 849.931 Z\" fill=\"#000000\" fill-rule=\"nonzero\" fill-opacity=\"1\" /><path clip-path=\"url(#clip400)\" d=\"M621.188 844.22 Q623.821 845.111 626.292 848.028 Q628.803 850.944 631.315 856.048 L639.619 872.576 L630.829 872.576 L623.092 857.061 Q620.094 850.985 617.258 849 Q614.463 847.015 609.602 847.015 L600.69 847.015 L600.69 872.576 L592.507 872.576 L592.507 812.096 L610.979 812.096 Q621.35 812.096 626.454 816.43 Q631.558 820.765 631.558 829.515 Q631.558 835.227 628.884 838.994 Q626.251 842.761 621.188 844.22 M600.69 818.821 L600.69 840.29 L610.979 840.29 Q616.894 840.29 619.891 837.576 Q622.93 834.822 622.93 829.515 Q622.93 824.208 619.891 821.535 Q616.894 818.821 610.979 818.821 L600.69 818.821 Z\" fill=\"#000000\" fill-rule=\"nonzero\" fill-opacity=\"1\" /><path clip-path=\"url(#clip400)\" d=\"M684.908 848.028 L684.908 851.673 L650.638 851.673 Q651.124 859.37 655.256 863.421 Q659.428 867.431 666.841 867.431 Q671.135 867.431 675.146 866.378 Q679.197 865.325 683.167 863.218 L683.167 870.267 Q679.156 871.968 674.943 872.86 Q670.73 873.751 666.396 873.751 Q655.539 873.751 649.179 867.431 Q642.86 861.112 642.86 850.337 Q642.86 839.197 648.855 832.675 Q654.891 826.112 665.099 826.112 Q674.255 826.112 679.561 832.026 Q684.908 837.9 684.908 848.028 M677.455 845.84 Q677.374 839.723 674.011 836.077 Q670.69 832.432 665.18 832.432 Q658.942 832.432 655.175 835.956 Q651.448 839.48 650.881 845.881 L677.455 845.84 Z\" fill=\"#000000\" fill-rule=\"nonzero\" fill-opacity=\"1\" /><path clip-path=\"url(#clip400)\" d=\"M729.792 828.948 L729.792 835.915 Q726.633 834.173 723.432 833.323 Q720.273 832.432 717.032 832.432 Q709.781 832.432 705.771 837.05 Q701.76 841.627 701.76 849.931 Q701.76 858.236 705.771 862.854 Q709.781 867.431 717.032 867.431 Q720.273 867.431 723.432 866.581 Q726.633 865.689 729.792 863.948 L729.792 870.834 Q726.673 872.292 723.311 873.022 Q719.989 873.751 716.222 873.751 Q705.973 873.751 699.937 867.31 Q693.901 860.869 693.901 849.931 Q693.901 838.832 699.978 832.472 Q706.095 826.112 716.708 826.112 Q720.151 826.112 723.432 826.841 Q726.714 827.53 729.792 828.948 Z\" fill=\"#000000\" fill-rule=\"nonzero\" fill-opacity=\"1\" /><path clip-path=\"url(#clip400)\" d=\"M781.563 848.028 L781.563 851.673 L747.292 851.673 Q747.778 859.37 751.91 863.421 Q756.083 867.431 763.496 867.431 Q767.79 867.431 771.8 866.378 Q775.851 865.325 779.821 863.218 L779.821 870.267 Q775.811 871.968 771.598 872.86 Q767.385 873.751 763.05 873.751 Q752.194 873.751 745.834 867.431 Q739.515 861.112 739.515 850.337 Q739.515 839.197 745.51 832.675 Q751.546 826.112 761.754 826.112 Q770.909 826.112 776.216 832.026 Q781.563 837.9 781.563 848.028 M774.109 845.84 Q774.028 839.723 770.666 836.077 Q767.344 832.432 761.835 832.432 Q755.597 832.432 751.829 835.956 Q748.102 839.48 747.535 845.881 L774.109 845.84 Z\" fill=\"#000000\" fill-rule=\"nonzero\" fill-opacity=\"1\" /><path clip-path=\"url(#clip400)\" d=\"M822.72 828.543 L822.72 835.591 Q819.56 833.971 816.158 833.161 Q812.755 832.351 809.109 832.351 Q803.559 832.351 800.764 834.052 Q798.01 835.753 798.01 839.156 Q798.01 841.749 799.995 843.247 Q801.98 844.706 807.975 846.043 L810.527 846.61 Q818.467 848.311 821.788 851.43 Q825.151 854.509 825.151 860.059 Q825.151 866.378 820.128 870.064 Q815.145 873.751 806.395 873.751 Q802.749 873.751 798.779 873.022 Q794.85 872.333 790.475 870.915 L790.475 863.218 Q794.607 865.365 798.617 866.459 Q802.628 867.512 806.557 867.512 Q811.823 867.512 814.659 865.73 Q817.494 863.907 817.494 860.626 Q817.494 857.588 815.429 855.967 Q813.403 854.347 806.476 852.848 L803.883 852.24 Q796.956 850.782 793.878 847.784 Q790.799 844.746 790.799 839.48 Q790.799 833.08 795.336 829.596 Q799.873 826.112 808.218 826.112 Q812.35 826.112 815.996 826.72 Q819.641 827.327 822.72 828.543 Z\" fill=\"#000000\" fill-rule=\"nonzero\" fill-opacity=\"1\" /><path clip-path=\"url(#clip400)\" d=\"M865.943 828.543 L865.943 835.591 Q862.784 833.971 859.381 833.161 Q855.978 832.351 852.332 832.351 Q846.783 832.351 843.987 834.052 Q841.233 835.753 841.233 839.156 Q841.233 841.749 843.218 843.247 Q845.203 844.706 851.198 846.043 L853.75 846.61 Q861.69 848.311 865.012 851.43 Q868.374 854.509 868.374 860.059 Q868.374 866.378 863.351 870.064 Q858.368 873.751 849.618 873.751 Q845.972 873.751 842.002 873.022 Q838.073 872.333 833.698 870.915 L833.698 863.218 Q837.83 865.365 841.84 866.459 Q845.851 867.512 849.78 867.512 Q855.046 867.512 857.882 865.73 Q860.718 863.907 860.718 860.626 Q860.718 857.588 858.652 855.967 Q856.626 854.347 849.699 852.848 L847.107 852.24 Q840.18 850.782 837.101 847.784 Q834.022 844.746 834.022 839.48 Q834.022 833.08 838.559 829.596 Q843.096 826.112 851.441 826.112 Q855.573 826.112 859.219 826.72 Q862.865 827.327 865.943 828.543 Z\" fill=\"#000000\" fill-rule=\"nonzero\" fill-opacity=\"1\" /><path clip-path=\"url(#clip400)\" d=\"M880.243 827.206 L887.697 827.206 L887.697 872.576 L880.243 872.576 L880.243 827.206 M880.243 809.544 L887.697 809.544 L887.697 818.983 L880.243 818.983 L880.243 809.544 Z\" fill=\"#000000\" fill-rule=\"nonzero\" fill-opacity=\"1\" /><path clip-path=\"url(#clip400)\" d=\"M920.874 832.432 Q914.878 832.432 911.394 837.131 Q907.911 841.789 907.911 849.931 Q907.911 858.074 911.354 862.773 Q914.838 867.431 920.874 867.431 Q926.828 867.431 930.312 862.732 Q933.796 858.033 933.796 849.931 Q933.796 841.87 930.312 837.171 Q926.828 832.432 920.874 832.432 M920.874 826.112 Q930.596 826.112 936.145 832.432 Q941.695 838.751 941.695 849.931 Q941.695 861.071 936.145 867.431 Q930.596 873.751 920.874 873.751 Q911.111 873.751 905.561 867.431 Q900.052 861.071 900.052 849.931 Q900.052 838.751 905.561 832.432 Q911.111 826.112 920.874 826.112 Z\" fill=\"#000000\" fill-rule=\"nonzero\" fill-opacity=\"1\" /><path clip-path=\"url(#clip400)\" d=\"M991.764 845.192 L991.764 872.576 L984.311 872.576 L984.311 845.435 Q984.311 838.994 981.799 835.794 Q979.288 832.594 974.264 832.594 Q968.229 832.594 964.745 836.442 Q961.261 840.29 961.261 846.934 L961.261 872.576 L953.767 872.576 L953.767 827.206 L961.261 827.206 L961.261 834.254 Q963.935 830.163 967.54 828.138 Q971.186 826.112 975.925 826.112 Q983.744 826.112 987.754 830.973 Q991.764 835.794 991.764 845.192 Z\" fill=\"#000000\" fill-rule=\"nonzero\" fill-opacity=\"1\" /><polyline clip-path=\"url(#clip404)\" style=\"stroke:#009af9; stroke-linecap:round; stroke-linejoin:round; stroke-width:4; stroke-opacity:1; fill:none\" points=\"213.787,939.405 261.771,1140.53 309.755,1237.55 357.739,1292.62 405.724,1329.12 453.708,1356.12 501.692,1377.39 549.676,1394.68 597.66,1408.94 645.644,1420.77 693.629,1430.63 741.613,1438.85 789.597,1445.7 837.581,1451.42 885.565,1456.19 933.549,1460.17 981.533,1463.5 1029.52,1466.27 1077.5,1468.58 1125.49,1470.51 \"/>\n",
       "<path clip-path=\"url(#clip400)\" d=\"M971.553 1045.92 L1120.62 1045.92 L1120.62 942.238 L971.553 942.238  Z\" fill=\"#ffffff\" fill-rule=\"evenodd\" fill-opacity=\"1\"/>\n",
       "<polyline clip-path=\"url(#clip400)\" style=\"stroke:#000000; stroke-linecap:round; stroke-linejoin:round; stroke-width:4; stroke-opacity:1; fill:none\" points=\"971.553,1045.92 1120.62,1045.92 1120.62,942.238 971.553,942.238 971.553,1045.92 \"/>\n",
       "<polyline clip-path=\"url(#clip400)\" style=\"stroke:#009af9; stroke-linecap:round; stroke-linejoin:round; stroke-width:4; stroke-opacity:1; fill:none\" points=\"982.291,994.078 1046.72,994.078 \"/>\n",
       "<path clip-path=\"url(#clip400)\" d=\"M1071.3 1013.77 Q1069.49 1018.39 1067.78 1019.81 Q1066.07 1021.22 1063.2 1021.22 L1059.79 1021.22 L1059.79 1017.65 L1062.29 1017.65 Q1064.05 1017.65 1065.02 1016.82 Q1066 1015.99 1067.18 1012.89 L1067.94 1010.94 L1057.46 985.432 L1061.97 985.432 L1070.07 1005.71 L1078.17 985.432 L1082.69 985.432 L1071.3 1013.77 Z\" fill=\"#000000\" fill-rule=\"nonzero\" fill-opacity=\"1\" /><path clip-path=\"url(#clip400)\" d=\"M1089.98 1007.42 L1097.62 1007.42 L1097.62 981.057 L1089.31 982.724 L1089.31 978.465 L1097.57 976.798 L1102.25 976.798 L1102.25 1007.42 L1109.89 1007.42 L1109.89 1011.36 L1089.98 1011.36 L1089.98 1007.42 Z\" fill=\"#000000\" fill-rule=\"nonzero\" fill-opacity=\"1\" /></svg>\n"
      ]
     },
     "metadata": {},
     "output_type": "display_data"
    }
   ],
   "source": [
    "p1 = plot(time, state1, title = \"Normal Growth\") # Plot state 1 probability\n",
    "p2 = plot(time, state2, title = \"Recession\") # Plot state 2 probability\n",
    "p3 = plot(time, state3, title = \"Deep Recession\") # Plot state 3 probability\n",
    "plot(p1, p2, p3)"
   ]
  },
  {
   "cell_type": "markdown",
   "metadata": {},
   "source": [
    "Now let's write a function that computes the probability of a given sequence of outcomes.\n",
    "\n",
    "(You should have seen something like this on Assignment 1.)"
   ]
  },
  {
   "cell_type": "code",
   "execution_count": 52,
   "metadata": {},
   "outputs": [
    {
     "data": {
      "text/plain": [
       "outcome_prob (generic function with 1 method)"
      ]
     },
     "metadata": {},
     "output_type": "display_data"
    }
   ],
   "source": [
    "function outcome_prob(outcome, P0, M)\n",
    "\n",
    "# Make sure `outcome` contains integers\n",
    "# to allow for indexing \n",
    "outcome = floor.(Int64, outcome) \n",
    "\n",
    "# Store probability of initial state \n",
    "probability = P0[outcome[1]]\n",
    "\n",
    "# Compute probability of `outcome` sequence\n",
    "for i in 2:length(outcome)\n",
    "    probability = probability * M[outcome[i-1], outcome[i]]\n",
    "    end \n",
    "    \n",
    "    # Return `probability` -- prob. of sequence `outcome`\n",
    "    return probability\n",
    "end "
   ]
  },
  {
   "cell_type": "markdown",
   "metadata": {},
   "source": [
    "Let's keep using our previously-defined initial distribution $P_0$ and stochastic matrix $M$.\n",
    "\n",
    "We can now feed the function the following sequence of states to check its functionality: $11$ -- the probability of this sequence of outcomes should obviously be (1/3)(19/20) according to our defined $P_0$ and $M$."
   ]
  },
  {
   "cell_type": "code",
   "execution_count": 53,
   "metadata": {
    "scrolled": true
   },
   "outputs": [
    {
     "data": {
      "text/plain": [
       "0.31666666666666665"
      ]
     },
     "metadata": {},
     "output_type": "display_data"
    }
   ],
   "source": [
    "outcome_prob(ones(2), P0, M)"
   ]
  },
  {
   "cell_type": "markdown",
   "metadata": {},
   "source": [
    "What if we want to find out the probability of having one of the following outcomes: (1) $11$, and (2) $22$ ?\n",
    "\n",
    "We can use `outcome_prob()` to compute the probability of each outcome, and then find their sum."
   ]
  },
  {
   "cell_type": "code",
   "execution_count": 75,
   "metadata": {},
   "outputs": [
    {
     "data": {
      "text/plain": [
       "0.5666666666666667"
      ]
     },
     "execution_count": 75,
     "metadata": {},
     "output_type": "execute_result"
    }
   ],
   "source": [
    "outcome_prob([1,1], P0, M) + outcome_prob([2,2], P0, M)"
   ]
  },
  {
   "cell_type": "markdown",
   "metadata": {},
   "source": [
    "---"
   ]
  }
 ],
 "metadata": {
  "kernelspec": {
   "display_name": "Julia 1.11.4",
   "language": "julia",
   "name": "julia-1.11"
  },
  "language_info": {
   "file_extension": ".jl",
   "mimetype": "application/julia",
   "name": "julia",
   "version": "1.11.4"
  },
  "latex_envs": {
   "LaTeX_envs_menu_present": true,
   "autoclose": false,
   "autocomplete": true,
   "bibliofile": "biblio.bib",
   "cite_by": "apalike",
   "current_citInitial": 1,
   "eqLabelWithNumbers": true,
   "eqNumInitial": 1,
   "hotkeys": {
    "equation": "Ctrl-E",
    "itemize": "Ctrl-I"
   },
   "labels_anchors": false,
   "latex_user_defs": false,
   "report_style_numbering": false,
   "user_envs_cfg": false
  },
  "toc": {
   "base_numbering": 1,
   "nav_menu": {},
   "number_sections": true,
   "sideBar": true,
   "skip_h1_title": false,
   "title_cell": "Table of Contents",
   "title_sidebar": "Contents",
   "toc_cell": false,
   "toc_position": {},
   "toc_section_display": true,
   "toc_window_display": false
  }
 },
 "nbformat": 4,
 "nbformat_minor": 4
}

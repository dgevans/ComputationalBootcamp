{
 "cells": [
  {
   "cell_type": "markdown",
   "id": "structured-truth",
   "metadata": {},
   "source": [
    "# Introduction to Julia"
   ]
  },
  {
   "cell_type": "markdown",
   "id": "canadian-syria",
   "metadata": {},
   "source": [
    "Contents:\n",
    "\n",
    "- [Introduction to Julia](#Introduction-to-Julia)  \n",
    "  - [Work Environment](#Work-Environment)  \n",
    "  - [Jupyter Basics](#Jupyter-Basics)  \n",
    "  - [Julia Basics](#Julia-Basics)   \n",
    "\n",
    "\n",
    "In this lab we will: \n",
    "\n",
    "(1) Load the lab GitHub repository locally;\n",
    "\n",
    "(2) Set up our work environment by installing Julia and Jupyter; \n",
    "\n",
    "(3) Cover Jupyter basics; \n",
    "\n",
    "(4) Go over some Julia basics.\n",
    "\n",
    "The goal is to set up a stable work environment for the rest of the quarter while getting a taste of the Julia language.\n",
    "\n",
    "Today's material borrows quite a lot from [Quantitative Economics with Julia by QuantEcon](https://julia.quantecon.org/), so I encourage everyone to check it out for more details."
   ]
  },
  {
   "cell_type": "markdown",
   "id": "isolated-school",
   "metadata": {},
   "source": [
    "---\n",
    "## Work Environment"
   ]
  },
  {
   "cell_type": "markdown",
   "id": "suspended-breed",
   "metadata": {},
   "source": [
    "To set up the necessary work environment for these labs, we need to do the following three things:\n",
    "\n",
    "- Download and install Julia;\n",
    "- Download and install Jupyter;\n",
    "- \"Connect\" Jupyter with Julia.\n",
    "\n",
    "We will first need to download and install the current stable version of Julia by visiting [this page](https://julialang.org/downloads/) and following the instructions for the appropriate operating system. \n",
    "\n",
    "Then we will need to visit [this page](https://www.anaconda.com/products/individual) to download and install Anaconda, which essentially a package management tool that includes Jupyter. To learn more about Anaconda, read the [Wikipedia page](https://en.wikipedia.org/wiki/Anaconda_(Python_distribution)). \n",
    "\n",
    "Once both Julia and Anaconda are installed, we can perform the final step of linking Jupyter with Julia. Open Julia -- we should see the following window pop up:\n",
    "\n",
    "![](images/repl.png)\n",
    "\n",
    "This is the Julia REPL (Read-Evaluate-Print Loop). \n",
    "\n",
    "Now type `]` to enter package mode, then type `add IJulia`.\n",
    "\n",
    "![](images/repl_package_mode.png)\n",
    "\n",
    "We then click `Enter` on the keyboard to run the command. This will install the IJulia kernel, which should automatically link Julia with Jupyter. After the installation is complete, we click `Backspace` on the keyboard to leave package mode.\n",
    "\n",
    "We can now type `using IJulia; notebook()` into the REPL to launch Jupyter Notebook. If this running this command leads to an error or the prompt `install Jupyter via Conda, y/n? [y]:`, then we can alternatively launch Jupyter Notebook by finding where it lives on our machine and/or typing `jupyter notebook` into the Anaconda Prompt. In any case, we should see something similar to the following tab open in our web browser (but in a different directory):\n",
    "\n",
    "![](images/jupyter_repository.png)\n",
    "\n",
    "We can now manually navigate to our preferred directory (folder) and create new notebooks, along with other types of documents. When we open a document, it will open as a new tab in our web browser.\n",
    "\n",
    "At this point we are all set-up and ready to code!"
   ]
  },
  {
   "cell_type": "markdown",
   "id": "naughty-infection",
   "metadata": {},
   "source": [
    "---\n",
    "## Jupyter Basics"
   ]
  },
  {
   "cell_type": "markdown",
   "id": "irish-leader",
   "metadata": {},
   "source": [
    "The keyboard shortcuts window says it best: \"The Jupyter Notebook has two different keyboard input modes. Edit mode allows you to type code or text into a cell and is indicated by a green cell border. Command mode binds the keyboard to notebook level commands and is indicated by a grey cell border with a blue left margin.\"\n",
    "\n",
    "At any given point in time in the Jupyter interface we are either in edit mode or command mode. We can tell which mode we are in using two indicators: (1) the color of the outline around a selected cell, and (2) the presence/absence of a pencil symbol next to the active kernel name at the upper-right corner of the notebook.\n",
    "\n",
    "If we are in edit mode, then we should see the following:\n",
    "\n",
    "![](images/jupyter_edit_mode.png)\n",
    "\n",
    "Otherwise we should see the following:\n",
    "\n",
    "![](images/jupyter_cmd_mode.png)\n",
    "\n",
    "The following is a list of some very useful shortcuts:\n",
    "\n",
    "- `Esc` triggers command mode if currently in edit mode;\n",
    "- `Enter` triggers edit mode if currently in command mode;\n",
    "- `Ctrl-Enter` runs selected cell;\n",
    "- `Shift-Enter` runs selected cell and selects the next cell below;\n",
    "- `Alt-Enter` runs selected cell and creates a new cell below;\n",
    "- `D, D` deletes selected cell.\n",
    "\n",
    "Check out more shortcuts by going into command mode and clicking the `H` key.\n",
    "\n",
    "There are three types of cells (1) code, (2) Markdown, and (3) raw. We will mostly be interested in code and Markdown cells, so we disregard the final category. We can tell what type of cell we are dealing with by either (1) looking up at our toolbar \n",
    "\n",
    "![](images/jupyter_toolbar.png)\n",
    "\n",
    "or by (2) looking to the left of the cell to check whether there is a `In [ ]:` present -- if so, then we have ourselves a code cell, otherwise it is a Markdown cell.\n",
    "\n",
    "A couple more useful shortcuts:\n",
    "\n",
    "- `M` changes a selected cell type to Markdown if in command mode;\n",
    "- `Y` changes a selected cell type to code if in command mode.\n",
    "\n",
    "Jupyter is simple and intuitive enough that the above should be enough to get us going."
   ]
  },
  {
   "cell_type": "markdown",
   "id": "impressive-pearl",
   "metadata": {},
   "source": [
    "---\n",
    "## Julia Basics"
   ]
  },
  {
   "cell_type": "markdown",
   "id": "northern-slovakia",
   "metadata": {},
   "source": [
    "### Packages"
   ]
  },
  {
   "cell_type": "markdown",
   "id": "answering-specific",
   "metadata": {},
   "source": [
    "Let us start by loading Julia packages."
   ]
  },
  {
   "cell_type": "code",
   "execution_count": 1,
   "id": "offensive-modem",
   "metadata": {},
   "outputs": [],
   "source": [
    "using LinearAlgebra # Load LinearAlgebra package\n",
    "using Statistics # Load Statistics package"
   ]
  },
  {
   "cell_type": "markdown",
   "id": "known-drive",
   "metadata": {},
   "source": [
    "Suppose we do not have the `LinearAlgebra` package available in our environment. \n",
    "\n",
    "In this case, loading LinearAlgebra with `using` will not work, since we first need to install the package using the following code: "
   ]
  },
  {
   "cell_type": "code",
   "execution_count": null,
   "id": "hollow-dimension",
   "metadata": {},
   "outputs": [
    {
     "name": "stderr",
     "output_type": "stream",
     "text": [
      "\u001b[32m\u001b[1m   Resolving\u001b[22m\u001b[39m package versions...\n"
     ]
    }
   ],
   "source": [
    "using Pkg # Load `Pkg`, which can be used to install packages\n",
    "Pkg.add(\"LinearAlgebra\") # Install `LinearAlgebra` package\n",
    "using LinearAlgebra"
   ]
  },
  {
   "cell_type": "markdown",
   "id": "prerequisite-reason",
   "metadata": {},
   "source": [
    "We could have alternatively opened the REPL, entered package mode by clicking `]`, and ran `add LinearAlgebra`.\n",
    "\n",
    "![](images/repl_linearalgebra.png)\n"
   ]
  },
  {
   "cell_type": "markdown",
   "id": "understood-apple",
   "metadata": {},
   "source": [
    "### Simple Data Types"
   ]
  },
  {
   "cell_type": "markdown",
   "id": "favorite-garden",
   "metadata": {},
   "source": [
    "Now that basic package management is out of the way, we can start talking about data types."
   ]
  },
  {
   "cell_type": "markdown",
   "id": "serious-vancouver",
   "metadata": {},
   "source": [
    "Suppose we have randomly-generated variables $x$ and $y$, and would like to check whether $x > y$. Let's call this condition A. We can store the status of condition A as a Boolean variable $z$. "
   ]
  },
  {
   "cell_type": "code",
   "execution_count": 11,
   "id": "recognized-lighting",
   "metadata": {},
   "outputs": [
    {
     "data": {
      "text/plain": [
       "\"x = 0.16617983288747074 and y = -1.778412509974055,therefore condition A is true.\""
      ]
     },
     "metadata": {},
     "output_type": "display_data"
    }
   ],
   "source": [
    "x = randn() # Generate random value `x`\n",
    "y = randn() # Generate random value `y`\n",
    "z = x > y   # Store status of condition A as variable `z`\n",
    "message = \"x = $(x) and y = $(y),\" * \"therefore condition A is $(z).\"\n",
    "message"
   ]
  },
  {
   "cell_type": "markdown",
   "id": "deadly-grade",
   "metadata": {},
   "source": [
    "Notice that we used the `randn()` function to generate a random $x,y \\in \\mathbb{R}$. \n",
    "Furthermore, we generated a string called `message` by concatenating two separate strings using `*`.\n",
    "We print the values of variable `x`, `y`, and `z` in `message` using `$`.  "
   ]
  },
  {
   "cell_type": "markdown",
   "id": "acoustic-helena",
   "metadata": {},
   "source": [
    "Let's confirm that `message` is indeed a string:"
   ]
  },
  {
   "cell_type": "code",
   "execution_count": 12,
   "id": "ambient-percentage",
   "metadata": {},
   "outputs": [
    {
     "data": {
      "text/plain": [
       "String"
      ]
     },
     "metadata": {},
     "output_type": "display_data"
    }
   ],
   "source": [
    "typeof(message)"
   ]
  },
  {
   "cell_type": "markdown",
   "id": "handled-brazil",
   "metadata": {},
   "source": [
    "Let's also check the data type of `x` (and equivalently `y`):"
   ]
  },
  {
   "cell_type": "code",
   "execution_count": 5,
   "id": "contemporary-blast",
   "metadata": {},
   "outputs": [
    {
     "data": {
      "text/plain": [
       "Float64"
      ]
     },
     "metadata": {},
     "output_type": "display_data"
    }
   ],
   "source": [
    "typeof(x)"
   ]
  },
  {
   "cell_type": "markdown",
   "id": "written-tract",
   "metadata": {},
   "source": [
    "Now let's check the data type of `z`:"
   ]
  },
  {
   "cell_type": "code",
   "execution_count": 6,
   "id": "scheduled-photography",
   "metadata": {},
   "outputs": [
    {
     "data": {
      "text/plain": [
       "Bool"
      ]
     },
     "metadata": {},
     "output_type": "display_data"
    }
   ],
   "source": [
    "typeof(z)"
   ]
  },
  {
   "cell_type": "markdown",
   "id": "optimum-transfer",
   "metadata": {},
   "source": [
    "So far we've seen strings, floats, and booleans, but we also have integers:"
   ]
  },
  {
   "cell_type": "code",
   "execution_count": 13,
   "id": "conscious-exhaust",
   "metadata": {},
   "outputs": [
    {
     "data": {
      "text/plain": [
       "Int64"
      ]
     },
     "metadata": {},
     "output_type": "display_data"
    }
   ],
   "source": [
    "y = 5\n",
    "typeof(y)"
   ]
  },
  {
   "cell_type": "markdown",
   "id": "quantitative-richardson",
   "metadata": {},
   "source": [
    "Since we have a float `x` and an integer `y`, let's test out some basic arithmetic operations with them:"
   ]
  },
  {
   "cell_type": "code",
   "execution_count": 16,
   "id": "popular-scope",
   "metadata": {},
   "outputs": [
    {
     "name": "stdout",
     "output_type": "stream",
     "text": [
      "x + y = 5.166179832887471\n",
      "x - y = -4.833820167112529\n",
      "x * y = 0.8308991644373537\n",
      "x / y = 0.03323596657749415\n",
      "x - -y = 5.166179832887471\n",
      "3x - 4y = -19.501460501337586\n",
      "x ^ -1 = 6.017577359565366\n"
     ]
    }
   ],
   "source": [
    "@show x + y\n",
    "@show x - y\n",
    "@show x * y\n",
    "@show x / y\n",
    "@show x - (-y)\n",
    "@show 3x - 4y\n",
    "@show x^(-1);\n"
   ]
  },
  {
   "cell_type": "markdown",
   "id": "qualified-preview",
   "metadata": {},
   "source": [
    "Notice that we used the `@show` macro the print out equations.\n",
    "Furthermore, we ended the last line of the cell with a `;` to supress the redundant printing of the output of `x^(-1)`. \n",
    "See what happens when you construct a similar cell without `;` at the end."
   ]
  },
  {
   "cell_type": "markdown",
   "id": "tropical-petite",
   "metadata": {},
   "source": [
    "But did you know we can also apply arithmetic operations to booleans?"
   ]
  },
  {
   "cell_type": "code",
   "execution_count": 18,
   "id": "lined-flight",
   "metadata": {},
   "outputs": [
    {
     "name": "stdout",
     "output_type": "stream",
     "text": [
      "x = 0.16617983288747074\n",
      "z1 + 0 = 1\n",
      "z2 + 0 = 0\n",
      "z1 + z2 = 1\n",
      "x + z1 = 1.1661798328874706\n",
      "x * z1 = 0.16617983288747074\n"
     ]
    }
   ],
   "source": [
    "z1 = true # define a true boolean \n",
    "z2 = false # define a false boolean\n",
    "\n",
    "@show x\n",
    "@show z1 + 0\n",
    "@show z2 + 0\n",
    "@show z1 + z2 \n",
    "@show x + z1\n",
    "@show x * z1\n",
    ";"
   ]
  },
  {
   "cell_type": "markdown",
   "id": "modular-piece",
   "metadata": {},
   "source": [
    "Let's give `x` and `y` imaginary components, and play around with the resulting imaginary numbers."
   ]
  },
  {
   "cell_type": "code",
   "execution_count": 14,
   "id": "covered-lindsay",
   "metadata": {},
   "outputs": [
    {
     "name": "stdout",
     "output_type": "stream",
     "text": [
      "x = x + 3im = 1.3963755552962687 + 3.0im\n",
      "y = y + 2im = 5 + 2im\n",
      "x + y = 6.3963755552962684 + 5.0im\n",
      "x - y = -3.6036244447037316 + 1.0im\n",
      "x * y = 0.9818777764813431 + 17.792751110592537im\n",
      "x / y = 0.44765095780970154 + 0.4209396168761194im\n",
      "x - -y = 6.3963755552962684 + 5.0im\n",
      "3x - 4y = -15.810873334111193 + 1.0im\n",
      "x ^ -1 = 0.12752445757519595 - 0.2739759882465268im\n"
     ]
    }
   ],
   "source": [
    "@show x = x + 3im\n",
    "@show y = y + 2im\n",
    "@show x + y\n",
    "@show x - y\n",
    "@show x * y\n",
    "@show x / y\n",
    "@show x - (-y)\n",
    "@show 3x - 4y\n",
    "@show x^(-1);"
   ]
  },
  {
   "cell_type": "markdown",
   "id": "clean-sunday",
   "metadata": {},
   "source": [
    "### Introduction to Arrays"
   ]
  },
  {
   "cell_type": "markdown",
   "id": "irish-career",
   "metadata": {},
   "source": [
    "We can also collect data into arrays."
   ]
  },
  {
   "cell_type": "code",
   "execution_count": 25,
   "id": "expensive-medicaid",
   "metadata": {},
   "outputs": [
    {
     "name": "stdout",
     "output_type": "stream",
     "text": [
      "ndims(a) = 1\n",
      "typeof(a) = Vector{Int64}\n"
     ]
    },
    {
     "data": {
      "text/plain": [
       "Vector{Int64}\u001b[90m (alias for \u001b[39m\u001b[90mArray{Int64, 1}\u001b[39m\u001b[90m)\u001b[39m"
      ]
     },
     "metadata": {},
     "output_type": "display_data"
    }
   ],
   "source": [
    "a = [10; 20; 30]\n",
    "\n",
    "@show ndims(a)\n",
    "@show typeof(a)"
   ]
  },
  {
   "cell_type": "markdown",
   "id": "sticky-daisy",
   "metadata": {},
   "source": [
    "The output here tells us that `a` is a one-dimensional array containing `Int64` data. "
   ]
  },
  {
   "cell_type": "code",
   "execution_count": 24,
   "id": "wrapped-vietnamese",
   "metadata": {},
   "outputs": [
    {
     "name": "stdout",
     "output_type": "stream",
     "text": [
      "typeof(b) = Vector{Float64}\n"
     ]
    },
    {
     "data": {
      "text/plain": [
       "Vector{Float64}\u001b[90m (alias for \u001b[39m\u001b[90mArray{Float64, 1}\u001b[39m\u001b[90m)\u001b[39m"
      ]
     },
     "metadata": {},
     "output_type": "display_data"
    }
   ],
   "source": [
    "b = [1.0, 2.0, 3.0]\n",
    "@show typeof(b)"
   ]
  },
  {
   "cell_type": "markdown",
   "id": "damaged-nowhere",
   "metadata": {},
   "source": [
    "`b` seems to have the same dimensions as `a`, but it contains `Float64` data instead of integer data."
   ]
  },
  {
   "cell_type": "markdown",
   "id": "realistic-cleaning",
   "metadata": {},
   "source": [
    "Suppose we try to include multiple data types in a single array:"
   ]
  },
  {
   "cell_type": "code",
   "execution_count": 26,
   "id": "cosmetic-minimum",
   "metadata": {},
   "outputs": [
    {
     "data": {
      "text/plain": [
       "4-element Vector{Any}:\n",
       "    1\n",
       "    1.0\n",
       " true\n",
       "     \"text\""
      ]
     },
     "metadata": {},
     "output_type": "display_data"
    }
   ],
   "source": [
    "c = [1, 1.0, true, \"text\"]"
   ]
  },
  {
   "cell_type": "markdown",
   "id": "heavy-bread",
   "metadata": {},
   "source": [
    "This is **undesirable**, but as we can see -- it works."
   ]
  },
  {
   "cell_type": "markdown",
   "id": "backed-leone",
   "metadata": {},
   "source": [
    "Let's check out the dimensions and size of array/vector `b`:"
   ]
  },
  {
   "cell_type": "code",
   "execution_count": 27,
   "id": "piano-breakdown",
   "metadata": {},
   "outputs": [
    {
     "name": "stdout",
     "output_type": "stream",
     "text": [
      "ndims(b) = 1\n",
      "size(b) = (3,)\n"
     ]
    }
   ],
   "source": [
    "@show ndims(b) # Show dimensions of vector `b`\n",
    "@show size(b); # Show size of vector `b`"
   ]
  },
  {
   "cell_type": "markdown",
   "id": "direct-differential",
   "metadata": {},
   "source": [
    "The above output essentially tells us that `b` is a vector with 3 entries. \n",
    "\n",
    "I say that `b` is a vector since a one-dimensional array is equivalent to a vector, while a two-dimensional array is equivalent to a matrix. \n",
    "\n",
    "We confirm this in the following cell:"
   ]
  },
  {
   "cell_type": "code",
   "execution_count": 28,
   "id": "sporting-bryan",
   "metadata": {},
   "outputs": [
    {
     "name": "stdout",
     "output_type": "stream",
     "text": [
      "Array{Float64, 1} == Vector{Float64} = true\n",
      "Array{Float64, 2} == Matrix{Float64} = true\n"
     ]
    }
   ],
   "source": [
    "@show Array{Float64, 1} == Vector{Float64}\n",
    "@show Array{Float64, 2} == Matrix{Float64};"
   ]
  },
  {
   "cell_type": "markdown",
   "id": "checked-contributor",
   "metadata": {},
   "source": [
    "There are two different ways we can create a column vector:"
   ]
  },
  {
   "cell_type": "code",
   "execution_count": 29,
   "id": "obvious-credit",
   "metadata": {},
   "outputs": [
    {
     "data": {
      "text/plain": [
       "true"
      ]
     },
     "metadata": {},
     "output_type": "display_data"
    }
   ],
   "source": [
    "col1 = [1, 2, 3]\n",
    "col2 = [1; 2; 3]\n",
    "col1 == col2 # Test if both are column vectors"
   ]
  },
  {
   "cell_type": "markdown",
   "id": "still-active",
   "metadata": {},
   "source": [
    "We can also create row vectors in the following manner:"
   ]
  },
  {
   "cell_type": "code",
   "execution_count": 30,
   "id": "victorian-romantic",
   "metadata": {},
   "outputs": [
    {
     "data": {
      "text/plain": [
       "1×3 Matrix{Int64}:\n",
       " 1  2  3"
      ]
     },
     "metadata": {},
     "output_type": "display_data"
    }
   ],
   "source": [
    "row1 = [1 2 3]"
   ]
  },
  {
   "cell_type": "markdown",
   "id": "earlier-noise",
   "metadata": {},
   "source": [
    "Let's check the dimensions and size of the row vector `row1`:"
   ]
  },
  {
   "cell_type": "code",
   "execution_count": 31,
   "id": "round-stone",
   "metadata": {},
   "outputs": [
    {
     "name": "stdout",
     "output_type": "stream",
     "text": [
      "ndims(row1) = 2\n",
      "size(row1) = (1, 3)\n"
     ]
    }
   ],
   "source": [
    "@show ndims(row1)\n",
    "@show size(row1);"
   ]
  },
  {
   "cell_type": "markdown",
   "id": "entire-johns",
   "metadata": {},
   "source": [
    "According to the above output, row vectors are 2-dimensional -- in other words, they are matrices.\n",
    "\n",
    "Furthermore, unlike column vectors, row vectors are not flat. The above output shows that `row1` has one row and three columns."
   ]
  },
  {
   "cell_type": "markdown",
   "id": "convertible-satisfaction",
   "metadata": {},
   "source": [
    "Let's create a more traditional-looking matrix `A`:"
   ]
  },
  {
   "cell_type": "code",
   "execution_count": 32,
   "id": "discrete-domain",
   "metadata": {},
   "outputs": [
    {
     "data": {
      "text/plain": [
       "2×2 Matrix{Int64}:\n",
       " 1  2\n",
       " 3  4"
      ]
     },
     "metadata": {},
     "output_type": "display_data"
    }
   ],
   "source": [
    "A = [1 2; 3 4]\n"
   ]
  },
  {
   "cell_type": "markdown",
   "id": "alternative-stuff",
   "metadata": {},
   "source": [
    "Now let's transpose `A`:"
   ]
  },
  {
   "cell_type": "code",
   "execution_count": 33,
   "id": "apparent-buffalo",
   "metadata": {},
   "outputs": [
    {
     "data": {
      "text/plain": [
       "2×2 adjoint(::Matrix{Int64}) with eltype Int64:\n",
       " 1  3\n",
       " 2  4"
      ]
     },
     "metadata": {},
     "output_type": "display_data"
    }
   ],
   "source": [
    "A'"
   ]
  },
  {
   "cell_type": "markdown",
   "id": "animated-cooperation",
   "metadata": {},
   "source": [
    "We can access the second column of `A` in the following manner:"
   ]
  },
  {
   "cell_type": "code",
   "execution_count": 37,
   "id": "cultural-ideal",
   "metadata": {},
   "outputs": [
    {
     "data": {
      "text/plain": [
       "2-element Vector{Int64}:\n",
       " 2\n",
       " 4"
      ]
     },
     "metadata": {},
     "output_type": "display_data"
    }
   ],
   "source": [
    "A[:,2]\n"
   ]
  },
  {
   "cell_type": "markdown",
   "id": "practical-professional",
   "metadata": {},
   "source": [
    "Analogously, we may access the second row of `A` in the following manner:"
   ]
  },
  {
   "cell_type": "code",
   "execution_count": 38,
   "id": "available-intro",
   "metadata": {},
   "outputs": [
    {
     "data": {
      "text/plain": [
       "2-element Vector{Int64}:\n",
       " 3\n",
       " 4"
      ]
     },
     "metadata": {},
     "output_type": "display_data"
    }
   ],
   "source": [
    "A[2,:]\n",
    "\n"
   ]
  },
  {
   "cell_type": "markdown",
   "id": "optional-yacht",
   "metadata": {},
   "source": [
    "Notice that when we accessed the second row of `A`, the output was a flat array (column vector).\n",
    "\n",
    "You may simply transpose it to obtain it in row vector form:"
   ]
  },
  {
   "cell_type": "code",
   "execution_count": 39,
   "id": "imported-rwanda",
   "metadata": {},
   "outputs": [
    {
     "data": {
      "text/plain": [
       "1×2 adjoint(::Vector{Int64}) with eltype Int64:\n",
       " 3  4"
      ]
     },
     "metadata": {},
     "output_type": "display_data"
    }
   ],
   "source": [
    "A[2,:]'"
   ]
  },
  {
   "cell_type": "markdown",
   "id": "vietnamese-affiliate",
   "metadata": {},
   "source": [
    "What if we want to access the $(2,2)$ entry of `A`?"
   ]
  },
  {
   "cell_type": "code",
   "execution_count": 41,
   "id": "deadly-colonial",
   "metadata": {},
   "outputs": [
    {
     "data": {
      "text/plain": [
       "3"
      ]
     },
     "metadata": {},
     "output_type": "display_data"
    }
   ],
   "source": [
    "A[2,1]"
   ]
  },
  {
   "cell_type": "markdown",
   "id": "strategic-bicycle",
   "metadata": {},
   "source": [
    "Now let's talk briefly about array creation."
   ]
  },
  {
   "cell_type": "markdown",
   "id": "mobile-physics",
   "metadata": {},
   "source": [
    "A nice way of creating zero vectors is using the `zeros()` function:"
   ]
  },
  {
   "cell_type": "code",
   "execution_count": 42,
   "id": "alien-ghana",
   "metadata": {},
   "outputs": [
    {
     "data": {
      "text/plain": [
       "2-element Vector{Float64}:\n",
       " 0.0\n",
       " 0.0"
      ]
     },
     "metadata": {},
     "output_type": "display_data"
    }
   ],
   "source": [
    "zeros(2)"
   ]
  },
  {
   "cell_type": "markdown",
   "id": "monetary-brunswick",
   "metadata": {},
   "source": [
    "Similarly, we can use `zeros()` to create matrices:"
   ]
  },
  {
   "cell_type": "code",
   "execution_count": 43,
   "id": "legendary-scope",
   "metadata": {},
   "outputs": [
    {
     "data": {
      "text/plain": [
       "2×2 Matrix{Float64}:\n",
       " 0.0  0.0\n",
       " 0.0  0.0"
      ]
     },
     "metadata": {},
     "output_type": "display_data"
    }
   ],
   "source": [
    "zeros(2,2)"
   ]
  },
  {
   "cell_type": "markdown",
   "id": "frequent-grace",
   "metadata": {},
   "source": [
    "More generally, we may use the `fill()` function to create arrays with customized uniform entries:"
   ]
  },
  {
   "cell_type": "code",
   "execution_count": 44,
   "id": "bibliographic-departure",
   "metadata": {},
   "outputs": [
    {
     "data": {
      "text/plain": [
       "2×4 Matrix{Int64}:\n",
       " 1  1  1  1\n",
       " 1  1  1  1"
      ]
     },
     "metadata": {},
     "output_type": "display_data"
    }
   ],
   "source": [
    "fill(1, 2, 4)"
   ]
  },
  {
   "cell_type": "markdown",
   "id": "improved-clock",
   "metadata": {},
   "source": [
    "How do we copy an array? Let's try simply using an equality:"
   ]
  },
  {
   "cell_type": "code",
   "execution_count": 45,
   "id": "hollow-polls",
   "metadata": {},
   "outputs": [
    {
     "name": "stdout",
     "output_type": "stream",
     "text": [
      "y = [1, 0, 1]\n",
      "x = [1, 0, 1]\n"
     ]
    }
   ],
   "source": [
    "x = fill(1, 3) # create vector `x`\n",
    "y=x\n",
    "y[2]=0\n",
    "@show y\n",
    "@show x;"
   ]
  },
  {
   "cell_type": "markdown",
   "id": "measured-airline",
   "metadata": {},
   "source": [
    "What we did in the above cell is create a vector `x`, bind a new variable `y` to `x`, and then change the second entry of `y`. \n",
    "\n",
    "**We would expect this to alter `y` and not `x`, but it turns out this is not the case!**\n",
    "\n",
    "So *we can't quite \"copy\" arrays using a simple equality. Instead we may use the `copy()` function*:"
   ]
  },
  {
   "cell_type": "code",
   "execution_count": 46,
   "id": "editorial-charity",
   "metadata": {},
   "outputs": [
    {
     "name": "stdout",
     "output_type": "stream",
     "text": [
      "x = [1, 1, 1]\n",
      "y = [1, 0, 1]\n"
     ]
    }
   ],
   "source": [
    "x = fill(1, 3)\n",
    "y = copy(x) \n",
    "y[2] = 0\n",
    "@show x\n",
    "@show y;"
   ]
  },
  {
   "cell_type": "markdown",
   "id": "molecular-skill",
   "metadata": {},
   "source": [
    "**Notice that `x` didn't change, as desired.**"
   ]
  },
  {
   "cell_type": "markdown",
   "id": "naughty-retailer",
   "metadata": {},
   "source": [
    "What if we don't want to copy an array exactly, but instead create an array of the same data type and size?\n",
    "\n",
    "For this we can use the `similar()` function:"
   ]
  },
  {
   "cell_type": "code",
   "execution_count": 49,
   "id": "australian-clarity",
   "metadata": {},
   "outputs": [
    {
     "name": "stdout",
     "output_type": "stream",
     "text": [
      "x = [1, 1, 1]\n",
      "y = [2982237352976, 2982237352800, 2982237352992]\n"
     ]
    }
   ],
   "source": [
    "x = fill(1, 3)\n",
    "y = similar(x)\n",
    "@show x\n",
    "@show y;\n"
   ]
  },
  {
   "cell_type": "markdown",
   "id": "right-juvenile",
   "metadata": {},
   "source": [
    "We may also use `similar()` to change the size while keeping the same data type:"
   ]
  },
  {
   "cell_type": "code",
   "execution_count": 50,
   "id": "russian-swimming",
   "metadata": {},
   "outputs": [
    {
     "name": "stdout",
     "output_type": "stream",
     "text": [
      "x = [1, 1, 1]\n",
      "typeof(x) = Vector{Int64}\n",
      "ndims(x) = 1\n",
      "size(x) = (3,)\n",
      "y = [2981322875024, 2981322875024, 0, 0]\n",
      "typeof(y) = Vector{Int64}\n",
      "ndims(y) = 1\n",
      "size(y) = (4,)\n"
     ]
    }
   ],
   "source": [
    "x = fill(1, 3)\n",
    "y = similar(x, 4)\n",
    "@show x\n",
    "@show typeof(x)\n",
    "@show ndims(x)\n",
    "@show size(x)\n",
    "@show y\n",
    "@show typeof(y)\n",
    "@show ndims(y)\n",
    "@show size(y); "
   ]
  },
  {
   "cell_type": "markdown",
   "id": "first-rainbow",
   "metadata": {},
   "source": [
    "We may also create a matrix similar to a vector:"
   ]
  },
  {
   "cell_type": "code",
   "execution_count": 51,
   "id": "insured-helicopter",
   "metadata": {},
   "outputs": [
    {
     "name": "stdout",
     "output_type": "stream",
     "text": [
      "x = [1, 1, 1]\n",
      "typeof(x) = Vector{Int64}\n",
      "ndims(x) = 1\n",
      "size(x) = (3,)\n",
      "length(x) = 3\n",
      "y = [0 0; 0 0]\n",
      "typeof(y) = Matrix{Int64}\n",
      "ndims(y) = 2\n",
      "size(y) = (2, 2)\n",
      "length(y) = 4\n"
     ]
    }
   ],
   "source": [
    "x = fill(1, 3)\n",
    "y = similar(x, 2, 2)\n",
    "@show x\n",
    "@show typeof(x)\n",
    "@show ndims(x)\n",
    "@show size(x)\n",
    "@show length(x)\n",
    "@show y\n",
    "@show typeof(y)\n",
    "@show ndims(y)\n",
    "@show size(y)\n",
    "@show length(y); "
   ]
  },
  {
   "cell_type": "markdown",
   "id": "outer-brother",
   "metadata": {},
   "source": [
    "### Array Operations"
   ]
  },
  {
   "cell_type": "markdown",
   "id": "phantom-printing",
   "metadata": {},
   "source": [
    "Let's create a random vector and then check out some of its properties:"
   ]
  },
  {
   "cell_type": "code",
   "execution_count": 52,
   "id": "pointed-clerk",
   "metadata": {},
   "outputs": [
    {
     "name": "stdout",
     "output_type": "stream",
     "text": [
      "length(v) = 3\n",
      "sum(v) = 0\n",
      "mean(v) = 0.0\n",
      "std(v) = 1.0\n",
      "var(v) = 1.0\n",
      "maximum(v) = 1\n",
      "minimum(v) = -1\n",
      "extrema(v) = (-1, 1)\n"
     ]
    }
   ],
   "source": [
    "v = [-1, 0, 1] # create vector `v` \n",
    "\n",
    "@show length(v)\n",
    "@show sum(v)\n",
    "@show mean(v)\n",
    "@show std(v)\n",
    "@show var(v)\n",
    "@show maximum(v)\n",
    "@show minimum(v)\n",
    "@show extrema(v);"
   ]
  },
  {
   "cell_type": "markdown",
   "id": "nuclear-black",
   "metadata": {},
   "source": [
    "We can sort the values in vector `v`:"
   ]
  },
  {
   "cell_type": "code",
   "execution_count": 53,
   "id": "expired-powell",
   "metadata": {},
   "outputs": [
    {
     "name": "stdout",
     "output_type": "stream",
     "text": [
      "v = [-1, 0, 1]\n",
      "w = [1, 0, -1]\n"
     ]
    }
   ],
   "source": [
    "w = sort(v, rev = true)\n",
    "@show v\n",
    "@show w;"
   ]
  },
  {
   "cell_type": "markdown",
   "id": "beginning-adventure",
   "metadata": {},
   "source": [
    "The way in which we sorted vector `v` above does not modify `v` itself. \n",
    "\n",
    "We can, however, also modify the original vector using the `sort()` function:"
   ]
  },
  {
   "cell_type": "code",
   "execution_count": 83,
   "id": "weekly-burning",
   "metadata": {},
   "outputs": [
    {
     "name": "stdout",
     "output_type": "stream",
     "text": [
      "v = [1, 0, -1]\n",
      "w = [1, 0, -1]\n",
      "v == w = true\n"
     ]
    }
   ],
   "source": [
    "w = sort!(v, rev = true) \n",
    "\n",
    "@show v\n",
    "@show w\n",
    "@show v == w;"
   ]
  },
  {
   "cell_type": "markdown",
   "id": "needed-documentary",
   "metadata": {},
   "source": [
    "Notice that in the above cell we tested whether vectors `w` and `v` have the same values, and found that they do! This means that the original vector `v` was successfully modified."
   ]
  },
  {
   "cell_type": "markdown",
   "id": "focused-alpha",
   "metadata": {},
   "source": [
    "How to do matrix multiplication?"
   ]
  },
  {
   "cell_type": "code",
   "execution_count": 54,
   "id": "taken-development",
   "metadata": {},
   "outputs": [
    {
     "name": "stdout",
     "output_type": "stream",
     "text": [
      "A * B = [3.0 3.0; 3.0 3.0]\n",
      "A * B' = [3.0 3.0; 3.0 3.0]\n",
      "A * c = [7, 5]\n",
      "c' * A = [7 5]\n"
     ]
    }
   ],
   "source": [
    "A = [1 2; 2 1]\n",
    "B = ones(2,2)\n",
    "c = [1, 3]\n",
    "\n",
    "@show A*B\n",
    "@show A*B'\n",
    "@show A*c \n",
    "@show c'*A;"
   ]
  },
  {
   "cell_type": "markdown",
   "id": "graduate-campus",
   "metadata": {},
   "source": [
    "Let's solve $A \\, x = c$:"
   ]
  },
  {
   "cell_type": "code",
   "execution_count": 55,
   "id": "skilled-principle",
   "metadata": {},
   "outputs": [
    {
     "data": {
      "text/plain": [
       "true"
      ]
     },
     "metadata": {},
     "output_type": "display_data"
    }
   ],
   "source": [
    "x1 = A \\ c # the best approach\n",
    "x2 = inv(A) * c # alternative\n",
    "x1 ≈ x2 # Here we are using \\approx latex syntax + shift + Tab (in Windows, or just tab in Mac) to write the approximate symbol. \n",
    "# You can freely use latex to write greek letters and other alchemical/magical/mystical symbols if you feel like it"
   ]
  },
  {
   "cell_type": "markdown",
   "id": "noble-server",
   "metadata": {},
   "source": [
    "In the above cell I show two equivalent ways of solving for $x$.\n",
    "\n",
    "I check their equivalence by testing whether `x1` is approximately equal to `x2` using the $\\approx$ operator.\n",
    "\n",
    "You may write $\\approx$ in a code cell by typing \"\\approx\" ($\\LaTeX$ syntax) and hitting 'Tab' on your keyboard. \n",
    "\n",
    "In fact, you can write many other characters this way:"
   ]
  },
  {
   "cell_type": "code",
   "execution_count": 56,
   "id": "significant-assurance",
   "metadata": {},
   "outputs": [
    {
     "data": {
      "text/plain": [
       "3"
      ]
     },
     "metadata": {},
     "output_type": "display_data"
    }
   ],
   "source": [
    "α = 1 # \\alpha + Tab\n",
    "β = 2 # \\beta + Tab\n",
    "γ = α + β # \\gamma + Tab\n",
    "γ\n"
   ]
  },
  {
   "cell_type": "markdown",
   "id": "convinced-christianity",
   "metadata": {},
   "source": [
    "## * THIS IS REALLY IMPORTANT *\n",
    "\n",
    "We can also easily do elementwise operations. "
   ]
  },
  {
   "cell_type": "markdown",
   "id": "characteristic-commitment",
   "metadata": {},
   "source": [
    "For example, suppose we would like add 1 to every element of a vector or a matrix.\n",
    "\n",
    "To do so, we **broadcast** the addition (`+`) operator by also including a period (`.+`):"
   ]
  },
  {
   "cell_type": "code",
   "execution_count": 57,
   "id": "atlantic-still",
   "metadata": {},
   "outputs": [
    {
     "name": "stdout",
     "output_type": "stream",
     "text": [
      "A .+ 1 = [2.0 2.0; 2.0 2.0]\n",
      "x .+ 1 = [2.0, 2.0]\n"
     ]
    }
   ],
   "source": [
    "A = ones(2,2)\n",
    "x = ones(2) \n",
    "@show A .+ 1\n",
    "@show x .+ 1;"
   ]
  },
  {
   "cell_type": "markdown",
   "id": "lyric-mileage",
   "metadata": {},
   "source": [
    "Similarly, we can squared every entry of a vector/matrix:"
   ]
  },
  {
   "cell_type": "code",
   "execution_count": 58,
   "id": "intermediate-snowboard",
   "metadata": {},
   "outputs": [
    {
     "name": "stdout",
     "output_type": "stream",
     "text": [
      "(A .+ 1) .^ 2 = [4.0 4.0; 4.0 4.0]\n",
      "(x .+ 1) .^ 2 = [4.0, 4.0]\n"
     ]
    },
    {
     "data": {
      "text/plain": [
       "2-element Vector{Float64}:\n",
       " 4.0\n",
       " 4.0"
      ]
     },
     "metadata": {},
     "output_type": "display_data"
    }
   ],
   "source": [
    "@show (A .+ 1).^2\n",
    "@show (x .+ 1).^2"
   ]
  },
  {
   "cell_type": "markdown",
   "id": "imported-origin",
   "metadata": {},
   "source": [
    "In fact, we can broadcast pretty much any function. Here's another example:"
   ]
  },
  {
   "cell_type": "code",
   "execution_count": 59,
   "id": "criminal-format",
   "metadata": {},
   "outputs": [
    {
     "name": "stdout",
     "output_type": "stream",
     "text": [
      "log.(A .+ 1) = [0.6931471805599453 0.6931471805599453; 0.6931471805599453 0.6931471805599453]\n",
      "log.(x .+ 1) = [0.6931471805599453, 0.6931471805599453]\n"
     ]
    },
    {
     "data": {
      "text/plain": [
       "2-element Vector{Float64}:\n",
       " 0.6931471805599453\n",
       " 0.6931471805599453"
      ]
     },
     "metadata": {},
     "output_type": "display_data"
    }
   ],
   "source": [
    "@show log.(A .+ 1)\n",
    "@show log.(x .+ 1)"
   ]
  },
  {
   "cell_type": "markdown",
   "id": "smooth-shakespeare",
   "metadata": {},
   "source": [
    "Broadcasting is a very handy tool that you should end up using a lot to write efficient code."
   ]
  },
  {
   "cell_type": "markdown",
   "id": "boolean-greenhouse",
   "metadata": {},
   "source": [
    "Lastly, some basic linear algebra tools:"
   ]
  },
  {
   "cell_type": "code",
   "execution_count": 60,
   "id": "martial-parks",
   "metadata": {},
   "outputs": [
    {
     "data": {
      "text/plain": [
       "2×2 Matrix{Int64}:\n",
       " 1  2\n",
       " 2  1"
      ]
     },
     "metadata": {},
     "output_type": "display_data"
    }
   ],
   "source": [
    "A = [1 2; 2 1]"
   ]
  },
  {
   "cell_type": "code",
   "execution_count": 61,
   "id": "mounted-booth",
   "metadata": {},
   "outputs": [
    {
     "data": {
      "text/plain": [
       "-3.0"
      ]
     },
     "metadata": {},
     "output_type": "display_data"
    }
   ],
   "source": [
    "det(A)"
   ]
  },
  {
   "cell_type": "code",
   "execution_count": 62,
   "id": "devoted-shield",
   "metadata": {},
   "outputs": [
    {
     "data": {
      "text/plain": [
       "2"
      ]
     },
     "metadata": {},
     "output_type": "display_data"
    }
   ],
   "source": [
    "tr(A)"
   ]
  },
  {
   "cell_type": "code",
   "execution_count": 63,
   "id": "amazing-prompt",
   "metadata": {},
   "outputs": [
    {
     "data": {
      "text/plain": [
       "2-element Vector{Float64}:\n",
       " -1.0\n",
       "  3.0"
      ]
     },
     "metadata": {},
     "output_type": "display_data"
    }
   ],
   "source": [
    "eigvals(A)"
   ]
  },
  {
   "cell_type": "code",
   "execution_count": 64,
   "id": "secondary-knitting",
   "metadata": {},
   "outputs": [
    {
     "data": {
      "text/plain": [
       "2"
      ]
     },
     "metadata": {},
     "output_type": "display_data"
    }
   ],
   "source": [
    "rank(A)"
   ]
  },
  {
   "cell_type": "markdown",
   "id": "interstate-uruguay",
   "metadata": {},
   "source": [
    "### Tuples"
   ]
  },
  {
   "cell_type": "markdown",
   "id": "willing-cooper",
   "metadata": {},
   "source": [
    "Tuples are essentially **immutable** data containers.\n",
    "\n",
    "Let's create one:"
   ]
  },
  {
   "cell_type": "code",
   "execution_count": 65,
   "id": "better-fisher",
   "metadata": {},
   "outputs": [
    {
     "data": {
      "text/plain": [
       "(\"macro\", 3.0, 2025)"
      ]
     },
     "metadata": {},
     "output_type": "display_data"
    }
   ],
   "source": [
    "tup = (\"macro\", 3.0, 2025)"
   ]
  },
  {
   "cell_type": "markdown",
   "id": "consistent-drill",
   "metadata": {},
   "source": [
    "Now let's try to change the second entry of `tup` to `1.0` (something that we often do with arrays):"
   ]
  },
  {
   "cell_type": "code",
   "execution_count": 66,
   "id": "surface-shirt",
   "metadata": {},
   "outputs": [
    {
     "ename": "MethodError",
     "evalue": "MethodError: no method matching setindex!(::Tuple{String, Float64, Int64}, ::Float64, ::Int64)\nThe function `setindex!` exists, but no method is defined for this combination of argument types.",
     "output_type": "error",
     "traceback": [
      "MethodError: no method matching setindex!(::Tuple{String, Float64, Int64}, ::Float64, ::Int64)\n",
      "The function `setindex!` exists, but no method is defined for this combination of argument types.\n",
      "\n",
      "Stacktrace:\n",
      " [1] top-level scope\n",
      "   @ c:\\Users\\leide\\OneDrive\\Documents\\Macro Spring Discussion Sessions\\jl_notebook_cell_df34fa98e69747e1a8f8a730347b8e2f_Y223sZmlsZQ==.jl:1"
     ]
    }
   ],
   "source": [
    "tup[2] = 2.0"
   ]
  },
  {
   "cell_type": "markdown",
   "id": "pending-bankruptcy",
   "metadata": {},
   "source": [
    "We obtained an error precisely because of the **immutability** of tuples -- once we define a tuple, we cannot change its entry values."
   ]
  },
  {
   "cell_type": "markdown",
   "id": "strong-advisory",
   "metadata": {},
   "source": [
    "Let's try to store tuple entries as distinct variables:"
   ]
  },
  {
   "cell_type": "code",
   "execution_count": 69,
   "id": "overall-hardwood",
   "metadata": {},
   "outputs": [
    {
     "data": {
      "text/plain": [
       "\"Year: 2021, Quarter: 3.0, Class: macro\""
      ]
     },
     "execution_count": 69,
     "metadata": {},
     "output_type": "execute_result"
    }
   ],
   "source": [
    "class, quarter, year = tup\n",
    "\"Year: $year, Quarter: $quarter, Class: $class\""
   ]
  },
  {
   "cell_type": "markdown",
   "id": "genuine-stopping",
   "metadata": {},
   "source": [
    "We may also create **named tuples** and merge them:"
   ]
  },
  {
   "cell_type": "code",
   "execution_count": 67,
   "id": "impressed-pilot",
   "metadata": {},
   "outputs": [
    {
     "data": {
      "text/plain": [
       "(q1 = \"Fall\", q2 = \"Winter\", q3 = \"Spring\")"
      ]
     },
     "metadata": {},
     "output_type": "display_data"
    }
   ],
   "source": [
    "tup3 = (q1 = \"Fall\", )\n",
    "tup4 = (q2 = \"Winter\", q3 = \"Spring\")\n",
    "tup5 = merge(tup3, tup4)"
   ]
  },
  {
   "cell_type": "markdown",
   "id": "fiscal-lafayette",
   "metadata": {},
   "source": [
    "Notice that to define a tuple with only one entry, we still need to include a comma with nothing to its right in the declaration."
   ]
  }
 ],
 "metadata": {
  "kernelspec": {
   "display_name": "Julia 1.11.4",
   "language": "julia",
   "name": "julia-1.11"
  },
  "language_info": {
   "file_extension": ".jl",
   "mimetype": "application/julia",
   "name": "julia",
   "version": "1.11.4"
  },
  "toc": {
   "base_numbering": 1,
   "nav_menu": {
    "height": "171.989px",
    "width": "198.991px"
   },
   "number_sections": true,
   "sideBar": true,
   "skip_h1_title": false,
   "title_cell": "Table of Contents",
   "title_sidebar": "Contents",
   "toc_cell": false,
   "toc_position": {},
   "toc_section_display": true,
   "toc_window_display": false
  }
 },
 "nbformat": 4,
 "nbformat_minor": 5
}

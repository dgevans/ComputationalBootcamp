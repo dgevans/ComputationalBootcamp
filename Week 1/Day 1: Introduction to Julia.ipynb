{
 "cells": [
  {
   "cell_type": "markdown",
   "id": "53ce9ed5",
   "metadata": {},
   "source": [
    "# Introduction to Julia"
   ]
  }
 ],
 "metadata": {
  "language_info": {
   "name": "python"
  }
 },
 "nbformat": 4,
 "nbformat_minor": 5
}

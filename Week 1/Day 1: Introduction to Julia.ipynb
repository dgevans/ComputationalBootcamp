{
 "cells": [
  {
   "cell_type": "markdown",
   "id": "53ce9ed5",
   "metadata": {},
   "source": [
    "# Introduction to Julia"
   ]
  },
  {
   "cell_type": "markdown",
   "id": "fda1183d",
   "metadata": {},
   "source": [
    "Welcome to the computational bootcamp!\n",
    "\n",
    "Over the next two weeks, you will learn the basics of the Julia programming language with examples in economic modelling. You will also learn about some of the modern programming infrastructure used in the profession.\n",
    "\n",
    "The ideas and concepts we learn here are applicable across many languages and programming workflows; some of you may choose to use R or Python in the future.\n",
    "\n",
    "Today, we will first work on getting up and running with Julia, and cover some basics. This material borrows quite a lot from [Quantitative Economics with Julia by QuantEcon](https://julia.quantecon.org/) and the [Julia documentation](https://docs.julialang.org/en/v1/) so I encourage everyone to check those resources out for more details."
   ]
  },
  {
   "cell_type": "markdown",
   "id": "c8334d08",
   "metadata": {},
   "source": [
    "# Setting up a Work Environment\n",
    "\n",
    "Tools matter! In addition to a programming language itself, *coding* in that language requires an environment in which you can:\n",
    "- create, edit, and execute programs\n",
    "- keep track of changes to programs\n",
    "- share your programs with collaborators\n",
    "\n",
    "We're going to start with the first of these, and add more tools later."
   ]
  },
  {
   "cell_type": "markdown",
   "id": "3c0cb2e8",
   "metadata": {},
   "source": [
    "## Installing Jupyter\n",
    "\n",
    "[Jupyter](https://jupyter.org/) is an \"interactive computing\" environment that is compatible with multiple languages. The core concept of Jupyter is a \"notebook\" which combines formatted text, code, and output into a single file.\n",
    "\n",
    "This document is a Jupyter notebook!\n",
    "\n",
    "We will install Jupyter through the [Anaconda](https://www.anaconda.com/) computing package which additionally includes Python and other data science tools. Many, many data science tutorials around the internet start with the assumption of an Anaconda environment, so this will have positive spillover effects for you.\n",
    "\n",
    "To install Anaconda, go here and follow the instructions: https://www.anaconda.com/download/\n",
    "\n",
    "One note: if given the option, let Anaconda add Python to your PATH environment variable."
   ]
  },
  {
   "cell_type": "markdown",
   "id": "14c1c12a",
   "metadata": {},
   "source": [
    "## Installing Julia\n",
    "\n",
    "Now you can install Julia itself.\n",
    "\n",
    "1. Download and install Julia following the [Juliaup instructions](https://github.com/JuliaLang/juliaup#installation)  \n",
    "  - Windows: easiest method is `winget install julia -s msstore` in a Windows terminal  \n",
    "  - Linux/Mac: in a terminal use `curl -fsSL https://install.julialang.org | sh`  \n",
    "  - If you have previously installed Julia manually, you will need to uninstall previous versions before switching to `juliaup`.  \n",
    "  - Alternatively, can manually install from [download page](http://julialang.org/downloads/), accepting all default options\n",
    "2. Open Julia, by either  \n",
    "  - Navigating to Julia through your menus or desktop icons (Windows, Mac), or  \n",
    "  - Opening a terminal and type `julia` (which should work for all OS if you used `juliaup`.  Otherwise see [here](https://julialang.org/downloads/platform/))  \n",
    "  You should now be looking at something like this  \n",
    "  ![https://julia.quantecon.org/_static/figures/julia_term_1.png](https://julia.quantecon.org/_static/figures/julia_term_1.png)\n",
    "  This is called the JULIA *REPL* (Read-Evaluate-Print-Loop), which we will discuss more later.\n",
    "3. In the Julia REPL, hit `]` to enter package mode and then enter:  "
   ]
  },
  {
   "cell_type": "code",
   "execution_count": null,
   "id": "42724fd4",
   "metadata": {},
   "outputs": [],
   "source": [
    "add IJulia"
   ]
  },
  {
   "cell_type": "markdown",
   "id": "c0bd8cec",
   "metadata": {},
   "source": [
    "This adds packages for the `IJulia` kernel which links Julia to Jupyter you previously installed with Anaconda (i.e., allows your browser to run Julia code, manage Julia packages, etc.).\n",
    "\n",
    "4. Exit the Julia REPL by hitting backspace to exit the package mode. Then type"
   ]
  },
  {
   "cell_type": "code",
   "execution_count": null,
   "id": "617b01cb",
   "metadata": {},
   "outputs": [],
   "source": [
    "using IJulia; notebook()"
   ]
  },
  {
   "cell_type": "markdown",
   "id": "4d3d82a5",
   "metadata": {},
   "source": [
    "This should create a new tab in our web browser, where we can manually navigate to our preferred directory (folder) and create new notebooks, along with other types of documents. When we open a document, it will open as a new tab in our web browser."
   ]
  },
  {
   "cell_type": "markdown",
   "id": "ab8c3f59",
   "metadata": {},
   "source": [
    "# Jupyter Basics"
   ]
  },
  {
   "cell_type": "markdown",
   "id": "bc5b9653",
   "metadata": {},
   "source": [
    "The keyboard shortcuts window says it best: \"The Jupyter Notebook has two different keyboard input modes. Edit mode allows you to type code or text into a cell and is indicated by a green cell border. Command mode binds the keyboard to notebook level commands and is indicated by a grey cell border with a blue left margin.\"\n",
    "\n",
    "At any given point in time in the Jupyter interface we are either in edit mode or command mode. We can tell which mode we are in using two indicators: (1) the color of the outline around a selected cell, and (2) the presence/absence of a pencil symbol next to the active kernel name at the upper-right corner of the notebook.\n",
    "\n",
    "The following is a list of some very useful shortcuts:\n",
    "\n",
    "- `Esc` triggers command mode if currently in edit mode;\n",
    "- `Enter` triggers edit mode if currently in command mode;\n",
    "- `Ctrl-Enter` runs selected cell;\n",
    "- `Shift-Enter` runs selected cell and selects the next cell below;\n",
    "- `Alt-Enter` runs selected cell and creates a new cell below;\n",
    "- `D, D` deletes selected cell.\n",
    "\n",
    "Check out more shortcuts by going into command mode and clicking the `H` key.\n",
    "\n",
    "There are three types of cells:\n",
    "- Markdown (text formatted to look nice, like this)\n",
    "- code (text formatted per the conventions of a specific programming language)\n",
    "- raw (unformatted text)\n",
    "\n",
    "We will mostly be interested in code and Markdown cells, so we disregard the final category. We can tell what type of cell we are dealing with by either (1) looking up at our toolbar or by (2) looking to the left of the cell to check whether there is a `In [ ]:` present -- if so, then we have ourselves a code cell, otherwise it is a Markdown cell.\n",
    "\n",
    "A couple more useful shortcuts:\n",
    "\n",
    "- `M` changes a selected cell type to Markdown if in command mode;\n",
    "- `Y` changes a selected cell type to code if in command mode.\n",
    "\n",
    "Jupyter is simple and intuitive enough that the above should be enough to get us going."
   ]
  },
  {
   "cell_type": "markdown",
   "id": "9dc50eac",
   "metadata": {},
   "source": [
    "# Julia Basics\n",
    "\n",
    "## Packages\n",
    "\n",
    "While Julia has quite a lot of functionality built in, very frequently we will want to use functionality which was developed by other programmers in the form of *packages*. In Julia, it is very easy to load packages with the `using` command. Here are a couple of packages that show up commonly in economics applications:"
   ]
  },
  {
   "cell_type": "code",
   "execution_count": 2,
   "id": "95986f5e",
   "metadata": {},
   "outputs": [],
   "source": [
    "using LinearAlgebra\n",
    "using Statistics"
   ]
  },
  {
   "cell_type": "markdown",
   "id": "7ebc0562",
   "metadata": {},
   "source": [
    "If you try to execute this cell for the first time, you may get an error message because the `LinearAlgebra` package is not part of your Julia \"environment.\" We need to install it. There are two ways to do so. If we were in the REPL, we could enter package mode by pressing `]` and then typing `add LinearAlgebra'. Since we are not in the REPL, this is not available to us. Thankfully, Julia lets us do so entirely in code (which can be embedded in a Jupyter notebook like this):"
   ]
  },
  {
   "cell_type": "code",
   "execution_count": null,
   "id": "72006f5f",
   "metadata": {},
   "outputs": [
    {
     "name": "stderr",
     "output_type": "stream",
     "text": [
      "\u001b[32m\u001b[1m    Updating\u001b[22m\u001b[39m registry at `C:\\Users\\keato\\.julia\\registries\\General.toml`\n",
      "\u001b[32m\u001b[1m   Resolving\u001b[22m\u001b[39m package versions...\n",
      "\u001b[32m\u001b[1m    Updating\u001b[22m\u001b[39m `C:\\Users\\keato\\.julia\\environments\\v1.11\\Project.toml`\n",
      "  \u001b[90m[37e2e46d] \u001b[39m\u001b[92m+ LinearAlgebra v1.11.0\u001b[39m\n",
      "\u001b[32m\u001b[1m  No Changes\u001b[22m\u001b[39m to `C:\\Users\\keato\\.julia\\environments\\v1.11\\Manifest.toml`\n"
     ]
    }
   ],
   "source": [
    "using Pkg   # load the `Pkg` package, which is Julia's built-in package-management package.\n",
    "Pkg.add(\"LinearAlgebra\") # Use the `Pkg` interface to install the `LinearAlgebra` package\n",
    "Pkg.add(\"Statistics\") # Do the same with the `Statistics` package\n",
    "using LinearAlgebra"
   ]
  },
  {
   "cell_type": "markdown",
   "id": "09d676b2",
   "metadata": {},
   "source": [
    "You may have already noted that we can add *comments* to our code with the `#` character; when Julia is processing your code and it reaches a `#`, it ignores it and everything that follows until the end of the line."
   ]
  },
  {
   "cell_type": "markdown",
   "id": "9eff27e0",
   "metadata": {},
   "source": [
    "## Variables\n",
    "\n",
    "A variable, in Julia, is a name associated (or bound) to a value. It's useful when you want to store a value (that you obtained after some math, for example) for later use. For example:"
   ]
  },
  {
   "cell_type": "code",
   "execution_count": 19,
   "id": "e25d8c49",
   "metadata": {},
   "outputs": [
    {
     "data": {
      "text/plain": [
       "10"
      ]
     },
     "metadata": {},
     "output_type": "display_data"
    }
   ],
   "source": [
    "# assign the value 10 to the variable x\n",
    "x = 10"
   ]
  },
  {
   "cell_type": "markdown",
   "id": "2d2bb5a1",
   "metadata": {},
   "source": [
    "If you run this cell in a Jupyter notebook, it will output `10`.\n",
    "\n",
    "In Julia, variables can take many different types, and those types could change. We can use the `typeof` function to ask Julia what type a particular variable is."
   ]
  },
  {
   "cell_type": "code",
   "execution_count": 20,
   "id": "1df1ddc9",
   "metadata": {},
   "outputs": [
    {
     "data": {
      "text/plain": [
       "Int64"
      ]
     },
     "metadata": {},
     "output_type": "display_data"
    }
   ],
   "source": [
    "typeof(x)"
   ]
  },
  {
   "cell_type": "markdown",
   "id": "7b06767b",
   "metadata": {},
   "source": [
    "In this case, `x` has type `Int64` which means it is a 64-bit integer (i.e. there are 64 ones and zeros that are used to store the value of `x`).\n",
    "\n",
    "Let's see how the type of `x` changes when we reassign it."
   ]
  },
  {
   "cell_type": "code",
   "execution_count": 21,
   "id": "17600a7c",
   "metadata": {},
   "outputs": [
    {
     "data": {
      "text/plain": [
       "Float64"
      ]
     },
     "metadata": {},
     "output_type": "display_data"
    }
   ],
   "source": [
    "x = 3.14\n",
    "\n",
    "typeof(x)"
   ]
  },
  {
   "cell_type": "markdown",
   "id": "b51891c4",
   "metadata": {},
   "source": [
    "`Float64` means 64-bit floating-point number. Floating point numbers are considerably more complicated than integers. We'll talk about that more later."
   ]
  },
  {
   "cell_type": "code",
   "execution_count": 22,
   "id": "43e110a5",
   "metadata": {},
   "outputs": [
    {
     "data": {
      "text/plain": [
       "String"
      ]
     },
     "metadata": {},
     "output_type": "display_data"
    }
   ],
   "source": [
    "x = \"Hello, World!\"\n",
    "\n",
    "typeof(x)"
   ]
  },
  {
   "cell_type": "markdown",
   "id": "24d84587",
   "metadata": {},
   "source": [
    "A `String` is a series of characters of any length. Strings can contain Unicode characters:"
   ]
  },
  {
   "cell_type": "code",
   "execution_count": 23,
   "id": "456c5611",
   "metadata": {},
   "outputs": [
    {
     "data": {
      "text/plain": [
       "\"人人生而自由，在尊严和权利上一律平等。\""
      ]
     },
     "metadata": {},
     "output_type": "display_data"
    }
   ],
   "source": [
    "x = \"人人生而自由，在尊严和权利上一律平等。\""
   ]
  },
  {
   "cell_type": "markdown",
   "id": "b60d962c",
   "metadata": {},
   "source": [
    "In fact, variable names can contain unicode characters as well!"
   ]
  },
  {
   "cell_type": "code",
   "execution_count": 24,
   "id": "fa09f0c9",
   "metadata": {},
   "outputs": [
    {
     "data": {
      "text/plain": [
       "1.0e-5"
      ]
     },
     "metadata": {},
     "output_type": "display_data"
    }
   ],
   "source": [
    "δ = 0.00001"
   ]
  },
  {
   "cell_type": "markdown",
   "id": "43f02e95",
   "metadata": {},
   "source": [
    "In the Julia REPL and several other Julia editing environments, you can type many Unicode math\n",
    "symbols by typing the backslashed LaTeX symbol name followed by tab. For example, the variable\n",
    "name `δ` can be entered by typing `\\delta`-*tab*, or even `α̂⁽²⁾` by `\\alpha`-*tab*-`\\^(2)`-*tab*."
   ]
  },
  {
   "cell_type": "markdown",
   "id": "1863a504",
   "metadata": {},
   "source": [
    "# `println` and Strings\n",
    "\n",
    "A very powerful tool in Julia is what I will call in-line string interpolation. When defining a `String`, the character `$` will expand a variable into its value within the string. Let's illustrate this with an example.\n",
    "\n",
    "Suppose we have randomly-generated variables $x$ and $y$, and would like to check whether $x > y$. Let's call this condition A. We can store the status of condition A as a Boolean variable $A$. We can then print out a message telling us about the status of condition A."
   ]
  },
  {
   "cell_type": "code",
   "execution_count": 25,
   "id": "c6f87472",
   "metadata": {},
   "outputs": [
    {
     "name": "stdout",
     "output_type": "stream",
     "text": [
      "x = 0.9782210509690409 and y = -0.7319204549617373,therefore condition A is true.\n"
     ]
    }
   ],
   "source": [
    "x = randn() # Generate random value `x`\n",
    "y = randn() # Generate random value `y`\n",
    "A = x > y   # Store status of condition A as variable `A`\n",
    "message = \"x = $x and y = $y,\" * \"therefore condition A is $A.\"\n",
    "println(message)"
   ]
  },
  {
   "cell_type": "markdown",
   "id": "d148cd5f",
   "metadata": {},
   "source": [
    "In this case, we assigned our message to the variable `message` and then used the `println` function to output the contents of `message`. But we could have used `println` directly:"
   ]
  },
  {
   "cell_type": "code",
   "execution_count": 26,
   "id": "13a10726",
   "metadata": {},
   "outputs": [
    {
     "name": "stdout",
     "output_type": "stream",
     "text": [
      "The current value of x is 0.9782210509690409.\n"
     ]
    }
   ],
   "source": [
    "println(\"The current value of x is $x.\")"
   ]
  },
  {
   "cell_type": "markdown",
   "id": "c9f8eb0a",
   "metadata": {},
   "source": [
    "You can even do math inside of `String` defintions, though you must enclose it in parentheses:"
   ]
  },
  {
   "cell_type": "code",
   "execution_count": 27,
   "id": "5ba64127",
   "metadata": {},
   "outputs": [
    {
     "name": "stdout",
     "output_type": "stream",
     "text": [
      "Adding 1 to x gives 1.978221050969041.\n"
     ]
    }
   ],
   "source": [
    "println(\"Adding 1 to x gives $(x+1).\")"
   ]
  },
  {
   "cell_type": "markdown",
   "id": "9a6c3bff",
   "metadata": {},
   "source": [
    "## Arithmetic\n",
    "\n",
    "Julia supports all of the basic arthimetic operations with standard syntax:"
   ]
  },
  {
   "cell_type": "code",
   "execution_count": 28,
   "id": "1cfde25d",
   "metadata": {},
   "outputs": [
    {
     "name": "stdout",
     "output_type": "stream",
     "text": [
      "x + y = 0.24630059600730358\n",
      "x - y = 1.7101415059307783\n",
      "x * y = -0.7159799966784092\n",
      "x / y = -1.3365127922544253\n",
      "x - -y = 0.24630059600730358\n",
      "3x - 4y = 5.862344972754071\n",
      "x ^ -1 = 1.0222638318909458\n"
     ]
    }
   ],
   "source": [
    "@show x + y\n",
    "@show x - y\n",
    "@show x * y\n",
    "@show x / y\n",
    "@show x - (-y)\n",
    "@show 3x - 4y\n",
    "@show x^(-1);"
   ]
  },
  {
   "cell_type": "markdown",
   "id": "7dc07ab9",
   "metadata": {},
   "source": [
    "What's this `@show` thing? Julia supports *macros*, which are essentially shorthand ways to accomplish more complicated operations. The `@show` macro prints out the result of an expression along with the expression itself.\n",
    "\n",
    "Note also that we ended the last line of the cell with a `;` to supress the redundant printing of the output of `x^(-1)`. \n",
    "See what happens when you construct a similar cell without `;` at the end."
   ]
  },
  {
   "cell_type": "markdown",
   "id": "3330c3b4",
   "metadata": {},
   "source": [
    "Arithmetic isn't just for floats and integers. What happens if we apply arithmetic operations to booleans?"
   ]
  },
  {
   "cell_type": "code",
   "execution_count": 29,
   "id": "a64d44bb",
   "metadata": {},
   "outputs": [
    {
     "name": "stdout",
     "output_type": "stream",
     "text": [
      "x = 0.9782210509690409\n",
      "z1 + 0 = 1\n",
      "z2 + 0 = 0\n",
      "z1 + z2 = 1\n",
      "x + z1 = 1.978221050969041\n",
      "x * z1 = 0.9782210509690409\n"
     ]
    }
   ],
   "source": [
    "z1 = true # define a true boolean \n",
    "z2 = false # define a false boolean\n",
    "\n",
    "@show x\n",
    "@show z1 + 0\n",
    "@show z2 + 0\n",
    "@show z1 + z2 \n",
    "@show x + z1\n",
    "@show x * z1\n",
    ";"
   ]
  },
  {
   "cell_type": "markdown",
   "id": "336275c7",
   "metadata": {},
   "source": [
    "Imaginary components work just the same way!"
   ]
  },
  {
   "cell_type": "code",
   "execution_count": 30,
   "id": "8aceb5ff",
   "metadata": {},
   "outputs": [
    {
     "name": "stdout",
     "output_type": "stream",
     "text": [
      "x + y = 5.7 + 3.85im\n",
      "x - y = 5.3 + 2.65im\n",
      "x * y = -0.8499999999999999 + 3.9499999999999997im\n",
      "x / y = 7.625000000000001 - 6.624999999999999im\n",
      "x - -y = 5.7 + 3.85im\n",
      "3x - 4y = 15.7 + 7.35im\n",
      "x ^ -1 = 0.13476263399693722 - 0.07963246554364471im\n"
     ]
    }
   ],
   "source": [
    "x = 5.5 + 3.25im\n",
    "y = 0.2 + 0.6im\n",
    "\n",
    "@show x + y\n",
    "@show x - y\n",
    "@show x * y\n",
    "@show x / y\n",
    "@show x - (-y)\n",
    "@show 3x - 4y\n",
    "@show x^(-1);"
   ]
  },
  {
   "cell_type": "markdown",
   "id": "f52781b0",
   "metadata": {},
   "source": [
    "## Introduction to Arrays\n",
    "\n",
    "We can also collect data into arrays."
   ]
  },
  {
   "cell_type": "code",
   "execution_count": 31,
   "id": "64d35ab1",
   "metadata": {},
   "outputs": [
    {
     "name": "stdout",
     "output_type": "stream",
     "text": [
      "ndims(a) = 1\n",
      "typeof(a) = Vector{Int64}\n"
     ]
    },
    {
     "data": {
      "text/plain": [
       "Vector{Int64}\u001b[90m (alias for \u001b[39m\u001b[90mArray{Int64, 1}\u001b[39m\u001b[90m)\u001b[39m"
      ]
     },
     "metadata": {},
     "output_type": "display_data"
    }
   ],
   "source": [
    "a = [10; 20; 30]\n",
    "\n",
    "@show ndims(a)\n",
    "@show typeof(a)"
   ]
  },
  {
   "cell_type": "markdown",
   "id": "37afd756",
   "metadata": {},
   "source": [
    "The output here tells us that `a` is a one-dimensional array containing `Int64` data. "
   ]
  },
  {
   "cell_type": "code",
   "execution_count": 32,
   "id": "5f7992e9",
   "metadata": {},
   "outputs": [
    {
     "name": "stdout",
     "output_type": "stream",
     "text": [
      "typeof(b) = Vector{Float64}\n"
     ]
    },
    {
     "data": {
      "text/plain": [
       "Vector{Float64}\u001b[90m (alias for \u001b[39m\u001b[90mArray{Float64, 1}\u001b[39m\u001b[90m)\u001b[39m"
      ]
     },
     "metadata": {},
     "output_type": "display_data"
    }
   ],
   "source": [
    "b = [1.0, 2.0, 3.0]\n",
    "@show typeof(b)"
   ]
  },
  {
   "cell_type": "markdown",
   "id": "c8bebe91",
   "metadata": {},
   "source": [
    "`b` has a similar type to `a`, but its contents are `Float64` instead of `Int64`.\n",
    "\n",
    "If we want, we can include multiple types of data in a single array."
   ]
  },
  {
   "cell_type": "code",
   "execution_count": 33,
   "id": "02546bec",
   "metadata": {},
   "outputs": [
    {
     "data": {
      "text/plain": [
       "4-element Vector{Any}:\n",
       "    1\n",
       "    1.0\n",
       " true\n",
       "     \"text\""
      ]
     },
     "metadata": {},
     "output_type": "display_data"
    }
   ],
   "source": [
    "c = [1, 1.0, true, \"text\"]"
   ]
  },
  {
   "cell_type": "markdown",
   "id": "725095e0",
   "metadata": {},
   "source": [
    "This is **undesirable**, but as we can see -- it works."
   ]
  },
  {
   "cell_type": "markdown",
   "id": "0daef2cf",
   "metadata": {},
   "source": [
    "Let's check out the dimensions and size of array/vector `b`:"
   ]
  },
  {
   "cell_type": "code",
   "execution_count": 34,
   "id": "b1248bd4",
   "metadata": {},
   "outputs": [
    {
     "name": "stdout",
     "output_type": "stream",
     "text": [
      "ndims(b) = 1\n",
      "size(b) = (3,)\n"
     ]
    }
   ],
   "source": [
    "@show ndims(b) # Show dimensions of vector `b`\n",
    "@show size(b); # Show size of vector `b`"
   ]
  },
  {
   "cell_type": "markdown",
   "id": "4c3b8316",
   "metadata": {},
   "source": [
    "The above output essentially tells us that `b` is a vector with 3 entries. \n",
    "\n",
    "I say that `b` is a vector since a one-dimensional array is equivalent to a vector, while a two-dimensional array is equivalent to a matrix. \n",
    "\n",
    "We confirm this in the following cell:"
   ]
  },
  {
   "cell_type": "code",
   "execution_count": 35,
   "id": "413fbb6b",
   "metadata": {},
   "outputs": [
    {
     "name": "stdout",
     "output_type": "stream",
     "text": [
      "Array{Float64, 1} == Vector{Float64} = true\n",
      "Array{Float64, 2} == Matrix{Float64} = true\n"
     ]
    }
   ],
   "source": [
    "@show Array{Float64, 1} == Vector{Float64}\n",
    "@show Array{Float64, 2} == Matrix{Float64};"
   ]
  },
  {
   "cell_type": "markdown",
   "id": "646fa359",
   "metadata": {},
   "source": [
    "Note that we use the operator `==` to indicate an equality test; `=` by itself indicates assignment."
   ]
  },
  {
   "cell_type": "markdown",
   "id": "06543a21",
   "metadata": {},
   "source": [
    "There are two different ways we can create a column vector:"
   ]
  },
  {
   "cell_type": "code",
   "execution_count": 36,
   "id": "57f68ea8",
   "metadata": {},
   "outputs": [
    {
     "data": {
      "text/plain": [
       "true"
      ]
     },
     "metadata": {},
     "output_type": "display_data"
    }
   ],
   "source": [
    "col1 = [1, 2, 3]\n",
    "col2 = [1; 2; 3]\n",
    "col1 == col2 # Test if both are column vectors"
   ]
  },
  {
   "cell_type": "markdown",
   "id": "fe8087ff",
   "metadata": {},
   "source": [
    "We can also create row vectors in the following manner:"
   ]
  },
  {
   "cell_type": "code",
   "execution_count": 37,
   "id": "6e7d292e",
   "metadata": {},
   "outputs": [
    {
     "data": {
      "text/plain": [
       "1×3 Matrix{Int64}:\n",
       " 1  2  3"
      ]
     },
     "metadata": {},
     "output_type": "display_data"
    }
   ],
   "source": [
    "row1 = [1 2 3]"
   ]
  },
  {
   "cell_type": "markdown",
   "id": "252ec148",
   "metadata": {},
   "source": [
    "Let's check the dimensions and size of the row vector `row1`:"
   ]
  },
  {
   "cell_type": "code",
   "execution_count": 38,
   "id": "a141fcd0",
   "metadata": {},
   "outputs": [
    {
     "name": "stdout",
     "output_type": "stream",
     "text": [
      "ndims(row1) = 2\n",
      "size(row1) = (1, 3)\n"
     ]
    }
   ],
   "source": [
    "@show ndims(row1)\n",
    "@show size(row1);"
   ]
  },
  {
   "cell_type": "markdown",
   "id": "1669a9d8",
   "metadata": {},
   "source": [
    "According to the above output, row vectors are 2-dimensional -- in other words, they are matrices.\n",
    "\n",
    "Furthermore, unlike column vectors, row vectors are not flat. The above output shows that `row1` has one row and three columns."
   ]
  },
  {
   "cell_type": "markdown",
   "id": "a8cef392",
   "metadata": {},
   "source": [
    "## Matrices\n",
    "\n",
    "Let's create a more traditional-looking matrix `A`:"
   ]
  },
  {
   "cell_type": "code",
   "execution_count": 39,
   "id": "5b15e5d7",
   "metadata": {},
   "outputs": [
    {
     "data": {
      "text/plain": [
       "2×2 Matrix{Int64}:\n",
       " 1  2\n",
       " 3  4"
      ]
     },
     "metadata": {},
     "output_type": "display_data"
    }
   ],
   "source": [
    "A = [1 2; 3 4]"
   ]
  },
  {
   "cell_type": "markdown",
   "id": "eb3c10f4",
   "metadata": {},
   "source": [
    "We can refer to specific elements of `A` using brackets:"
   ]
  },
  {
   "cell_type": "code",
   "execution_count": 43,
   "id": "7084e22a",
   "metadata": {},
   "outputs": [
    {
     "name": "stdout",
     "output_type": "stream",
     "text": [
      "A[1, 1] = 1\n",
      "A[1, 2] = 2\n",
      "A[2, 1] = 3\n",
      "A[2, 2] = 4\n"
     ]
    }
   ],
   "source": [
    "@show A[1,1]\n",
    "@show A[1,2]\n",
    "@show A[2,1]\n",
    "@show A[2,2];"
   ]
  },
  {
   "cell_type": "markdown",
   "id": "1c1ed62f",
   "metadata": {},
   "source": [
    "We can transpose `A` with the character `'`:"
   ]
  },
  {
   "cell_type": "code",
   "execution_count": 44,
   "id": "ba366c9c",
   "metadata": {},
   "outputs": [
    {
     "data": {
      "text/plain": [
       "2×2 adjoint(::Matrix{Int64}) with eltype Int64:\n",
       " 1  3\n",
       " 2  4"
      ]
     },
     "metadata": {},
     "output_type": "display_data"
    }
   ],
   "source": [
    "A'"
   ]
  },
  {
   "cell_type": "markdown",
   "id": "476d6201",
   "metadata": {},
   "source": [
    "A very powerful tool in Julia is the \"slice\" -- the ability to refer to specific submatrices within a larger matrix. Suppose we wanted to extract just the second column of `A`. We can do this by telling Julia we want all rows of `A` with the `:` character:"
   ]
  },
  {
   "cell_type": "code",
   "execution_count": 45,
   "id": "0a47e5a1",
   "metadata": {},
   "outputs": [
    {
     "data": {
      "text/plain": [
       "2-element Vector{Int64}:\n",
       " 2\n",
       " 4"
      ]
     },
     "metadata": {},
     "output_type": "display_data"
    }
   ],
   "source": [
    "A[:,2]"
   ]
  },
  {
   "cell_type": "markdown",
   "id": "ca1663ce",
   "metadata": {},
   "source": [
    "We could also ask Julia for the second row of `A`:"
   ]
  },
  {
   "cell_type": "code",
   "execution_count": 46,
   "id": "42167a65",
   "metadata": {},
   "outputs": [
    {
     "data": {
      "text/plain": [
       "2-element Vector{Int64}:\n",
       " 3\n",
       " 4"
      ]
     },
     "metadata": {},
     "output_type": "display_data"
    }
   ],
   "source": [
    "A[2,:]"
   ]
  },
  {
   "cell_type": "markdown",
   "id": "870bb27f",
   "metadata": {},
   "source": [
    "Notice that when we accessed the second row of `A`, the output was a flat array (column vector).\n",
    "\n",
    "You may simply transpose it to obtain it in row vector form:"
   ]
  },
  {
   "cell_type": "code",
   "execution_count": 47,
   "id": "6a4012a0",
   "metadata": {},
   "outputs": [
    {
     "data": {
      "text/plain": [
       "1×2 adjoint(::Vector{Int64}) with eltype Int64:\n",
       " 3  4"
      ]
     },
     "metadata": {},
     "output_type": "display_data"
    }
   ],
   "source": [
    "A[2,:]'"
   ]
  },
  {
   "cell_type": "markdown",
   "id": "b57cbc03",
   "metadata": {},
   "source": [
    "The keyword `end` is also helpful:"
   ]
  },
  {
   "cell_type": "code",
   "execution_count": 181,
   "id": "1ba93666",
   "metadata": {},
   "outputs": [
    {
     "name": "stdout",
     "output_type": "stream",
     "text": [
      "x[end] = 40\n",
      "x[end - 1] = 30\n"
     ]
    }
   ],
   "source": [
    "x = [10, 20, 30, 40]\n",
    "@show x[end]\n",
    "@show x[end-1];"
   ]
  },
  {
   "cell_type": "markdown",
   "id": "b8a8b7f8",
   "metadata": {},
   "source": [
    "The slice functionality can be combined with the `end` keyword:"
   ]
  },
  {
   "cell_type": "code",
   "execution_count": 182,
   "id": "3a620da0",
   "metadata": {},
   "outputs": [
    {
     "name": "stdout",
     "output_type": "stream",
     "text": [
      "x[2:end] = [20, 30, 40]\n",
      "x[2:end - 1] = [20, 30]\n"
     ]
    }
   ],
   "source": [
    "@show x[2:end]\n",
    "@show x[2:(end-1)];"
   ]
  },
  {
   "cell_type": "markdown",
   "id": "d2d84841",
   "metadata": {},
   "source": [
    "## Creating and Copying Arrays\n",
    "\n",
    "A nice way of creating a zero vector is using the `zeros()` function:"
   ]
  },
  {
   "cell_type": "code",
   "execution_count": 183,
   "id": "9b21e8fd",
   "metadata": {},
   "outputs": [
    {
     "data": {
      "text/plain": [
       "2-element Vector{Float64}:\n",
       " 0.0\n",
       " 0.0"
      ]
     },
     "metadata": {},
     "output_type": "display_data"
    }
   ],
   "source": [
    "zeros(2)"
   ]
  },
  {
   "cell_type": "markdown",
   "id": "115264c5",
   "metadata": {},
   "source": [
    "You can use `zeros()` to create matrices as well:"
   ]
  },
  {
   "cell_type": "code",
   "execution_count": 184,
   "id": "5dae6570",
   "metadata": {},
   "outputs": [
    {
     "data": {
      "text/plain": [
       "2×2 Matrix{Float64}:\n",
       " 0.0  0.0\n",
       " 0.0  0.0"
      ]
     },
     "metadata": {},
     "output_type": "display_data"
    }
   ],
   "source": [
    "zeros(2,2)"
   ]
  },
  {
   "cell_type": "markdown",
   "id": "4c06b9c1",
   "metadata": {},
   "source": [
    "But what if we don't want our matrix to be filled with zeros? We can use the `fill()` function to create a matrix with anything we want:"
   ]
  },
  {
   "cell_type": "code",
   "execution_count": 185,
   "id": "3700f226",
   "metadata": {},
   "outputs": [
    {
     "data": {
      "text/plain": [
       "2×4 Matrix{Float64}:\n",
       " 0.5  0.5  0.5  0.5\n",
       " 0.5  0.5  0.5  0.5"
      ]
     },
     "metadata": {},
     "output_type": "display_data"
    }
   ],
   "source": [
    "fill(0.5, 2, 4)"
   ]
  },
  {
   "cell_type": "markdown",
   "id": "389d3325",
   "metadata": {},
   "source": [
    "Often, we will want to copy arrays, for example if the array represents data that we want to manipulate. Let's see what happens if we use the assignment operator:"
   ]
  },
  {
   "cell_type": "code",
   "execution_count": 186,
   "id": "9c9f4f73",
   "metadata": {},
   "outputs": [
    {
     "name": "stdout",
     "output_type": "stream",
     "text": [
      "y = [1, 0, 1]\n",
      "x = [1, 0, 1]\n"
     ]
    }
   ],
   "source": [
    "x = fill(1, 3)  # create vector `x`: [1, 1, 1]\n",
    "y=x             # copy(?) x into the new vector y\n",
    "y[2]=0          # set the second element of y equal to zero\n",
    "@show y         # what does y look like now?\n",
    "@show x;        # ... but what does x look like now?"
   ]
  },
  {
   "cell_type": "markdown",
   "id": "047b5aaa",
   "metadata": {},
   "source": [
    "What we did in the above cell is create a vector `x`, bind a new variable `y` to `x`, and then change the second entry of `y`. \n",
    "\n",
    "**We would expect this to alter `y` and not `x`, but it turns out this is not the case!**\n",
    "\n",
    "So *we can't quite \"copy\" arrays using a simple equality. Instead we may use the `copy()` function*:"
   ]
  },
  {
   "cell_type": "code",
   "execution_count": 187,
   "id": "10aee489",
   "metadata": {},
   "outputs": [
    {
     "name": "stdout",
     "output_type": "stream",
     "text": [
      "x = [1, 1, 1]\n",
      "y = [1, 0, 1]\n"
     ]
    }
   ],
   "source": [
    "x = fill(1, 3)\n",
    "y = copy(x) \n",
    "y[2] = 0\n",
    "@show x\n",
    "@show y;"
   ]
  },
  {
   "cell_type": "markdown",
   "id": "c8e4aa94",
   "metadata": {},
   "source": [
    "**Notice that `x` didn't change, as desired.**"
   ]
  },
  {
   "cell_type": "markdown",
   "id": "3d19db3c",
   "metadata": {},
   "source": [
    "What if we don't want to copy an array exactly, but instead create an array of the same data type and size?\n",
    "\n",
    "For this we can use the `similar()` function:"
   ]
  },
  {
   "cell_type": "code",
   "execution_count": 188,
   "id": "dc6304d2",
   "metadata": {},
   "outputs": [
    {
     "name": "stdout",
     "output_type": "stream",
     "text": [
      "x = [1, 1, 1]\n",
      "y = [2313642509776, 140718447956304, 140718472235248]\n"
     ]
    }
   ],
   "source": [
    "x = fill(1, 3)\n",
    "y = similar(x)\n",
    "@show x\n",
    "@show y;\n"
   ]
  },
  {
   "cell_type": "markdown",
   "id": "2b436e0c",
   "metadata": {},
   "source": [
    "We may also use `similar()` to change the size while keeping the same data type:"
   ]
  },
  {
   "cell_type": "code",
   "execution_count": 189,
   "id": "194b2f0b",
   "metadata": {},
   "outputs": [
    {
     "name": "stdout",
     "output_type": "stream",
     "text": [
      "x = [1, 1, 1]\n",
      "typeof(x) = Vector{Int64}\n",
      "ndims(x) = 1\n",
      "size(x) = (3,)\n",
      "y = [23, 9223372036854775807, 24, 0]\n",
      "typeof(y) = Vector{Int64}\n",
      "ndims(y) = 1\n",
      "size(y) = (4,)\n"
     ]
    }
   ],
   "source": [
    "x = fill(1, 3)\n",
    "y = similar(x, 4)\n",
    "@show x\n",
    "@show typeof(x)\n",
    "@show ndims(x)\n",
    "@show size(x)\n",
    "@show y\n",
    "@show typeof(y)\n",
    "@show ndims(y)\n",
    "@show size(y); "
   ]
  },
  {
   "cell_type": "markdown",
   "id": "a29e34f0",
   "metadata": {},
   "source": [
    "We may also create a matrix similar to a vector:"
   ]
  },
  {
   "cell_type": "code",
   "execution_count": 190,
   "id": "88584c13",
   "metadata": {},
   "outputs": [
    {
     "name": "stdout",
     "output_type": "stream",
     "text": [
      "x = [1, 1, 1]\n",
      "typeof(x) = Vector{Int64}\n",
      "ndims(x) = 1\n",
      "size(x) = (3,)\n",
      "length(x) = 3\n",
      "y = [2313588544208 140718396675648; 140718396675552 140718396675600]\n",
      "typeof(y) = Matrix{Int64}\n",
      "ndims(y) = 2\n",
      "size(y) = (2, 2)\n",
      "length(y) = 4\n"
     ]
    }
   ],
   "source": [
    "x = fill(1, 3)\n",
    "y = similar(x, 2, 2)\n",
    "@show x\n",
    "@show typeof(x)\n",
    "@show ndims(x)\n",
    "@show size(x)\n",
    "@show length(x)\n",
    "@show y\n",
    "@show typeof(y)\n",
    "@show ndims(y)\n",
    "@show size(y)\n",
    "@show length(y); "
   ]
  },
  {
   "cell_type": "markdown",
   "id": "3524f7e1",
   "metadata": {},
   "source": [
    "## Array and Matrix Operations\n",
    "\n",
    "Let's create a random vector and check out some of its properties using Julia functions!"
   ]
  },
  {
   "cell_type": "code",
   "execution_count": 191,
   "id": "8bc23dab",
   "metadata": {},
   "outputs": [
    {
     "name": "stdout",
     "output_type": "stream",
     "text": [
      "length(v) = 5\n",
      "sum(v) = 4.398537953656874\n",
      "mean(v) = 0.8797075907313747\n",
      "std(v) = 0.5713703021212527\n",
      "var(v) = 0.3264640221461316\n",
      "maximum(v) = 1.841097594780531\n",
      "minimum(v) = 0.39321575039326667\n",
      "extrema(v) = (0.39321575039326667, 1.841097594780531)\n"
     ]
    }
   ],
   "source": [
    "v = randn(5)\n",
    "\n",
    "@show length(v)\n",
    "@show sum(v)\n",
    "@show mean(v)\n",
    "@show std(v)\n",
    "@show var(v)\n",
    "@show maximum(v)\n",
    "@show minimum(v)\n",
    "@show extrema(v);"
   ]
  },
  {
   "cell_type": "markdown",
   "id": "dcc0a43a",
   "metadata": {},
   "source": [
    "The `sort()` function works as expected:"
   ]
  },
  {
   "cell_type": "code",
   "execution_count": 192,
   "id": "3f208397",
   "metadata": {},
   "outputs": [
    {
     "name": "stdout",
     "output_type": "stream",
     "text": [
      "v = [0.39321575039326667, 1.841097594780531, 0.6325604748113244, 0.5956937830917653, 0.9359703505799863]\n",
      "w = [0.39321575039326667, 0.5956937830917653, 0.6325604748113244, 0.9359703505799863, 1.841097594780531]\n"
     ]
    }
   ],
   "source": [
    "w = sort(v)\n",
    "@show v\n",
    "@show w;"
   ]
  },
  {
   "cell_type": "markdown",
   "id": "8b5f7dd6",
   "metadata": {},
   "source": [
    "If we wanted to sort `w` without assigning it to a new variable, we cna use the `!` form of the function:"
   ]
  },
  {
   "cell_type": "code",
   "execution_count": 193,
   "id": "6395fd00",
   "metadata": {},
   "outputs": [
    {
     "name": "stdout",
     "output_type": "stream",
     "text": [
      "w = [0.39321575039326667, 0.5956937830917653, 0.6325604748113244, 0.9359703505799863, 1.841097594780531]\n"
     ]
    }
   ],
   "source": [
    "sort!(w)\n",
    "@show w;"
   ]
  },
  {
   "cell_type": "markdown",
   "id": "600c6b51",
   "metadata": {},
   "source": [
    "Many Julia functions have *mutating* forms which are indicated with the `!` character. By convention, Julia functions without a `!` do not change their arguments. Those with `!` do."
   ]
  },
  {
   "cell_type": "markdown",
   "id": "d6483b69",
   "metadata": {},
   "source": [
    "### Matrix Multiplication\n",
    "\n",
    "Matrix multiplication works as expected:"
   ]
  },
  {
   "cell_type": "code",
   "execution_count": 194,
   "id": "5fbf8695",
   "metadata": {},
   "outputs": [
    {
     "name": "stdout",
     "output_type": "stream",
     "text": [
      "A * B = [3.0 3.0; 3.0 3.0]\n",
      "A * B' = [3.0 3.0; 3.0 3.0]\n",
      "A * c = [7, 5]\n",
      "c' * A = [7 5]\n"
     ]
    }
   ],
   "source": [
    "A = [1 2; 2 1]\n",
    "B = ones(2,2)\n",
    "c = [1, 3]\n",
    "\n",
    "@show A*B\n",
    "@show A*B'\n",
    "@show A*c \n",
    "@show c'*A;"
   ]
  },
  {
   "cell_type": "markdown",
   "id": "960a4acf",
   "metadata": {},
   "source": [
    "Let's solve $A \\, x = c$:"
   ]
  },
  {
   "cell_type": "code",
   "execution_count": 195,
   "id": "61c07ebe",
   "metadata": {},
   "outputs": [
    {
     "data": {
      "text/plain": [
       "true"
      ]
     },
     "metadata": {},
     "output_type": "display_data"
    }
   ],
   "source": [
    "x1 = A \\ c # the best approach\n",
    "x2 = inv(A) * c # alternative\n",
    "x1 ≈ x2 # Here we are using \\approx latex syntax + shift + Tab (in Windows, or just tab in Mac) to write the approximate symbol. \n",
    "# You can freely use latex to write greek letters and other alchemical/magical/mystical symbols if you feel like it"
   ]
  },
  {
   "cell_type": "markdown",
   "id": "70a7027c",
   "metadata": {},
   "source": [
    "In the above cell I show two equivalent ways of solving for $x$.\n",
    "\n",
    "I check their equivalence by testing whether `x1` is approximately equal to `x2` using the $\\approx$ operator.\n",
    "\n",
    "Again, you may write $\\approx$ in a code cell by typing \"\\approx\" ($\\LaTeX$ syntax) and hitting 'Tab' on your keyboard. "
   ]
  },
  {
   "cell_type": "markdown",
   "id": "9fe8d676",
   "metadata": {},
   "source": [
    "### Element-wise Operations\n",
    "\n",
    "Suppose we would like to add 1 to *every element* of a vector or matrix.\n",
    "\n",
    "To do so, we **broadcast** the addition (`+`) operator by also including a period (`.+`):"
   ]
  },
  {
   "cell_type": "code",
   "execution_count": 196,
   "id": "7dbd15e2",
   "metadata": {},
   "outputs": [
    {
     "name": "stdout",
     "output_type": "stream",
     "text": [
      "A .+ 1 = [2.0 2.0; 2.0 2.0]\n",
      "x .+ 1 = [2.0, 2.0]\n"
     ]
    }
   ],
   "source": [
    "A = ones(2,2)\n",
    "x = ones(2) \n",
    "@show A .+ 1\n",
    "@show x .+ 1;"
   ]
  },
  {
   "cell_type": "markdown",
   "id": "b6dc11e5",
   "metadata": {},
   "source": [
    "We can do this with most operations. For example, we could square every element:"
   ]
  },
  {
   "cell_type": "code",
   "execution_count": 197,
   "id": "bbeb9315",
   "metadata": {},
   "outputs": [
    {
     "name": "stdout",
     "output_type": "stream",
     "text": [
      "(A .+ 1) .^ 2 = [4.0 4.0; 4.0 4.0]\n"
     ]
    }
   ],
   "source": [
    "@show (A .+ 1) .^ 2;"
   ]
  },
  {
   "cell_type": "markdown",
   "id": "9fc9eb6c",
   "metadata": {},
   "source": [
    "In fact, most basic functions have a broadcast form. Here's another example:"
   ]
  },
  {
   "cell_type": "code",
   "execution_count": 198,
   "id": "414752bc",
   "metadata": {},
   "outputs": [
    {
     "name": "stdout",
     "output_type": "stream",
     "text": [
      "log.(x .+ 1) = [0.6931471805599453, 0.6931471805599453]\n"
     ]
    }
   ],
   "source": [
    "@show log.(x .+ 1);"
   ]
  },
  {
   "cell_type": "markdown",
   "id": "39a5dc34",
   "metadata": {},
   "source": [
    "Broadcasting is very handy and will help you write efficient code."
   ]
  },
  {
   "cell_type": "markdown",
   "id": "80b54fe5",
   "metadata": {},
   "source": [
    "Lastly, some basic linear algebra functionality:"
   ]
  },
  {
   "cell_type": "code",
   "execution_count": 199,
   "id": "e9a0b6f1",
   "metadata": {},
   "outputs": [
    {
     "name": "stdout",
     "output_type": "stream",
     "text": [
      "det(A) = -3.0\n",
      "tr(A) = 2\n",
      "eigvals(A) = [-1.0, 3.0]\n",
      "rank(A) = 2\n"
     ]
    }
   ],
   "source": [
    "A = [1 2; 2 1]\n",
    "\n",
    "@show det(A)\n",
    "@show tr(A)\n",
    "@show eigvals(A)\n",
    "@show rank(A);"
   ]
  },
  {
   "cell_type": "markdown",
   "id": "70617f9b",
   "metadata": {},
   "source": [
    "### Exercise 1\n",
    "\n",
    "Create a vector `y` and a matrix `X` representing 5 observations of some process. Suppose we want to estimate the parameters of $y = \\beta X + \\epsilon$. Write code to estimate $\\hat{\\beta}$."
   ]
  },
  {
   "cell_type": "markdown",
   "id": "e3e58d73",
   "metadata": {},
   "source": [
    "## Tuples\n",
    "\n",
    "Tuples are *immutable* data containers that can contain different types. You create one with parentheses:"
   ]
  },
  {
   "cell_type": "code",
   "execution_count": 200,
   "id": "ca952aa3",
   "metadata": {},
   "outputs": [
    {
     "name": "stdout",
     "output_type": "stream",
     "text": [
      "tup = (\"micro\", 3.5, 2025)\n",
      "typeof(tup) = Tuple{String, Float64, Int64}\n"
     ]
    }
   ],
   "source": [
    "tup = (\"micro\", 3.5, 2025)\n",
    "@show tup\n",
    "@show typeof(tup);"
   ]
  },
  {
   "cell_type": "markdown",
   "id": "700dbffe",
   "metadata": {},
   "source": [
    "What do I mean by \"immutable?\" Let's see what happens when I try to change the second element of `tup`:"
   ]
  },
  {
   "cell_type": "code",
   "execution_count": 201,
   "id": "9db945c0",
   "metadata": {},
   "outputs": [
    {
     "ename": "MethodError",
     "evalue": "MethodError: no method matching setindex!(::Tuple{String, Float64, Int64}, ::Float64, ::Int64)\nThe function `setindex!` exists, but no method is defined for this combination of argument types.",
     "output_type": "error",
     "traceback": [
      "MethodError: no method matching setindex!(::Tuple{String, Float64, Int64}, ::Float64, ::Int64)\n",
      "The function `setindex!` exists, but no method is defined for this combination of argument types.\n",
      "\n",
      "Stacktrace:\n",
      " [1] top-level scope\n",
      "   @ \\dgevans\\ComputationalBootcamp\\Week 1\\jl_notebook_cell_df34fa98e69747e1a8f8a730347b8e2f_Y443sdnNjb2RlLXZmcw==.jl:1"
     ]
    }
   ],
   "source": [
    "tup[2] = 1.0"
   ]
  },
  {
   "cell_type": "markdown",
   "id": "b3f34fa0",
   "metadata": {},
   "source": [
    "Tuples are a convenient way to *pack* and *unpack* variables. For example, we can do *multiple assignments* with our tuple:"
   ]
  },
  {
   "cell_type": "code",
   "execution_count": 202,
   "id": "68ee301a",
   "metadata": {},
   "outputs": [
    {
     "data": {
      "text/plain": [
       "\"Year: 2025, GE assignment: micro, Current GPA: 3.5\""
      ]
     },
     "metadata": {},
     "output_type": "display_data"
    }
   ],
   "source": [
    "assignment, gpa, year = tup\n",
    "\"Year: $year, GE assignment: $assignment, Current GPA: $gpa\""
   ]
  },
  {
   "cell_type": "markdown",
   "id": "b18642a8",
   "metadata": {},
   "source": [
    "If you want, you can *name* the elements of tuples and refer to entries either through their position or their name with the `:` character:"
   ]
  },
  {
   "cell_type": "code",
   "execution_count": 205,
   "id": "aa7b619c",
   "metadata": {},
   "outputs": [
    {
     "name": "stdout",
     "output_type": "stream",
     "text": [
      "tup2[2] = \"winter\"\n",
      "tup2[:q3] = \"spring\"\n"
     ]
    }
   ],
   "source": [
    "tup2 = (q1 = \"fall\", q2 = \"winter\", q3 = \"spring\")\n",
    "@show tup2[2]\n",
    "@show tup2[:q3];"
   ]
  },
  {
   "cell_type": "markdown",
   "id": "17a28e33",
   "metadata": {},
   "source": [
    "## Dictionaries\n",
    "\n",
    "Another container type worth mentioning is dictionaries.\n",
    "\n",
    "Dictionaries are like arrays except that the items must be named instead of numbered. Use quotes to access elements of a dictionary:"
   ]
  },
  {
   "cell_type": "code",
   "execution_count": 206,
   "id": "c21ffa68",
   "metadata": {},
   "outputs": [
    {
     "name": "stdout",
     "output_type": "stream",
     "text": [
      "d = Dict{String, Any}(\"name\" => \"Frodo\", \"age\" => 33)\n",
      "d[\"age\"] = 33\n"
     ]
    }
   ],
   "source": [
    "d = Dict(\"name\" => \"Frodo\", \"age\" => 33)\n",
    "@show d\n",
    "@show d[\"age\"];"
   ]
  },
  {
   "cell_type": "markdown",
   "id": "4a5214e8",
   "metadata": {},
   "source": [
    "The strings `name` and `age` are called the **keys**.\n",
    "\n",
    "The keys are mapped to **values** (in this case \"Frodo\" and 33).\n",
    "\n",
    "They can be accessed via `keys(d)` and `values(d)` respectively.\n",
    "\n",
    "**Note:** Unlike in Python and some other dynamic languages, dictionaries are rarely the right approach (ie. often referred to as “the devil’s datastructure”).\n",
    "\n",
    "The flexibility (i.e. can store anything and use anything as a key) frequently comes at the cost of performance if misused.\n",
    "\n",
    "It is usually better to have collections of parameters and results in a named tuple, which both provide the compiler with more opportunties to optimize the performance, and also makes the code more safe."
   ]
  },
  {
   "cell_type": "markdown",
   "id": "1d75dd8b",
   "metadata": {},
   "source": [
    "## Iterating with `for` loops\n",
    "\n",
    "One of the most important tasks in computing is stepping through a sequence of data and performing a given action.\n",
    "\n",
    "Julia provides neat and flexible tools for iteration as we now discuss.\n",
    "\n",
    "### Iterables\n",
    "\n",
    "First, many objects in Julia are **iterable** -- meaning that you can easily tell Julia to loop through the elements of the object and do a set of tasks for each one. Here's an example using a `for` loop. We are telling Julia to do something *for* each element of an array."
   ]
  },
  {
   "cell_type": "code",
   "execution_count": 207,
   "id": "62fe09ed",
   "metadata": {},
   "outputs": [
    {
     "name": "stdout",
     "output_type": "stream",
     "text": [
      "Charlie doesn't surf\n",
      "Charlie doesn't ski\n"
     ]
    }
   ],
   "source": [
    "actions = [\"surf\", \"ski\"]\n",
    "for action in actions\n",
    "    println(\"Charlie doesn't $action\")\n",
    "end"
   ]
  },
  {
   "cell_type": "markdown",
   "id": "febeb3c6",
   "metadata": {},
   "source": [
    "If you want to step through a list of numbers, you can use the slice functionality to do so efficiently:"
   ]
  },
  {
   "cell_type": "code",
   "execution_count": 208,
   "id": "6fcda5a8",
   "metadata": {},
   "outputs": [
    {
     "name": "stdout",
     "output_type": "stream",
     "text": [
      "123456789"
     ]
    }
   ],
   "source": [
    "for i in 1:9\n",
    "    print(i)\n",
    "end"
   ]
  },
  {
   "cell_type": "markdown",
   "id": "ea22c33f",
   "metadata": {},
   "source": [
    "Note that in these examples, we are not explicitly indexing the arrays that we are manipulating. To see what I mean, consider the following example:"
   ]
  },
  {
   "cell_type": "code",
   "execution_count": 210,
   "id": "e76ee10e",
   "metadata": {},
   "outputs": [
    {
     "name": "stdout",
     "output_type": "stream",
     "text": [
      "Using explicit indices...\n",
      "36\n",
      "49\n",
      "64\n",
      "81\n",
      "100\n",
      "Without explicit indices...\n",
      "36\n",
      "49\n",
      "64\n",
      "81\n",
      "100\n"
     ]
    }
   ],
   "source": [
    "x_values = [6, 7, 8, 9, 10]\n",
    "\n",
    "println(\"Using explicit indices...\")\n",
    "for i in 1:5\n",
    "    println(x_values[i] * x_values[i])\n",
    "end\n",
    "\n",
    "println(\"Without explicit indices...\")\n",
    "for x in x_values\n",
    "    println(x * x)\n",
    "end"
   ]
  },
  {
   "cell_type": "markdown",
   "id": "a2061553",
   "metadata": {},
   "source": [
    "Often it is neater to use implicit indexing. Sometimes explicit indexing is necessary or desirable.\n",
    "\n",
    "Julia offers some helper functions to assist in writing loops that don't use indices. One nice function is `zip()` which is used for stepping through pairs from two sequences. Here's an example:"
   ]
  },
  {
   "cell_type": "code",
   "execution_count": 211,
   "id": "70b532d2",
   "metadata": {},
   "outputs": [
    {
     "name": "stdout",
     "output_type": "stream",
     "text": [
      "The capital of Japan is Tokyo\n",
      "The capital of Korea is Seoul\n",
      "The capital of China is Beijing\n"
     ]
    }
   ],
   "source": [
    "countries = (\"Japan\", \"Korea\", \"China\")\n",
    "cities = (\"Tokyo\", \"Seoul\", \"Beijing\")\n",
    "for (country, city) in zip(countries, cities)\n",
    "    println(\"The capital of $country is $city\")\n",
    "end"
   ]
  },
  {
   "cell_type": "markdown",
   "id": "7b888efa",
   "metadata": {},
   "source": [
    "If we happen to need the index as well as the value, one option is to use `enumerate()`.\n",
    "\n",
    "The following (somewhat contrived) snippet will give you the idea:"
   ]
  },
  {
   "cell_type": "code",
   "execution_count": 213,
   "id": "ee12015f",
   "metadata": {},
   "outputs": [
    {
     "name": "stdout",
     "output_type": "stream",
     "text": [
      "Entry 1: The capital of Japan is Tokyo\n",
      "Entry 2: The capital of Korea is Seoul\n",
      "Entry 3: The capital of China is Beijing\n"
     ]
    }
   ],
   "source": [
    "countries = (\"Japan\", \"Korea\", \"China\")\n",
    "cities = (\"Tokyo\", \"Seoul\", \"Beijing\")\n",
    "for (i, country) in enumerate(countries)\n",
    "    city = cities[i]\n",
    "    println(\"Entry $i: The capital of $country is $city\")\n",
    "end"
   ]
  },
  {
   "cell_type": "markdown",
   "id": "4d75f14c",
   "metadata": {},
   "source": [
    "### Exercise\n",
    "What will be the value of variable `x` after running of the following code and why?"
   ]
  },
  {
   "cell_type": "code",
   "execution_count": 234,
   "id": "4fa4076c",
   "metadata": {},
   "outputs": [
    {
     "data": {
      "text/plain": [
       "0.9999999999242748"
      ]
     },
     "metadata": {},
     "output_type": "display_data"
    }
   ],
   "source": [
    "x = 0.0\n",
    "for i in 1:7_000_000\n",
    "    global x += 1/7\n",
    "end\n",
    "x /= 1_000_000"
   ]
  },
  {
   "cell_type": "markdown",
   "id": "422c9f63",
   "metadata": {},
   "source": [
    "## Iterating with `while` loops\n",
    "\n",
    "Another common construction is the `while` loop. Here's an example:"
   ]
  },
  {
   "cell_type": "code",
   "execution_count": 235,
   "id": "f2654c17",
   "metadata": {},
   "outputs": [
    {
     "name": "stdout",
     "output_type": "stream",
     "text": [
      "1\n",
      "2\n",
      "3\n",
      "4\n",
      "5\n"
     ]
    }
   ],
   "source": [
    "# Initial value\n",
    "i = 1\n",
    "\n",
    "# While loop:\n",
    "while i <= 5 # Run until i = 5\n",
    "    println(i) # Print i \n",
    "    i = i + 1 # Add 1 to i for the next iteration of the loop\n",
    "end "
   ]
  },
  {
   "cell_type": "markdown",
   "id": "d8475dbe",
   "metadata": {},
   "source": [
    "## Comprehensions\n",
    "\n",
    "Comprehensions are an elegant tool for creating new arrays, matrices, dictionaries, etc. from iterables.\n",
    "\n",
    "Here are some examples:"
   ]
  },
  {
   "cell_type": "code",
   "execution_count": 236,
   "id": "599780b4",
   "metadata": {},
   "outputs": [
    {
     "data": {
      "text/plain": [
       "4-element Vector{Int64}:\n",
       " 2\n",
       " 4\n",
       " 6\n",
       " 8"
      ]
     },
     "metadata": {},
     "output_type": "display_data"
    }
   ],
   "source": [
    "doubles = [2i for i in 1:4]"
   ]
  },
  {
   "cell_type": "code",
   "execution_count": 237,
   "id": "4c19ff12",
   "metadata": {},
   "outputs": [
    {
     "data": {
      "text/plain": [
       "3-element Vector{String}:\n",
       " \"dogs\"\n",
       " \"cats\"\n",
       " \"birds\""
      ]
     },
     "metadata": {},
     "output_type": "display_data"
    }
   ],
   "source": [
    "animals = [\"dog\", \"cat\", \"bird\"]\n",
    "plurals = [animal * \"s\" for animal in animals]"
   ]
  },
  {
   "cell_type": "code",
   "execution_count": 238,
   "id": "bd7b5e85",
   "metadata": {},
   "outputs": [
    {
     "data": {
      "text/plain": [
       "3×3 Matrix{Int64}:\n",
       " 5  6  7\n",
       " 6  7  8\n",
       " 7  8  9"
      ]
     },
     "metadata": {},
     "output_type": "display_data"
    }
   ],
   "source": [
    "[i + j for i in 1:3, j in 4:6]"
   ]
  },
  {
   "cell_type": "code",
   "execution_count": 239,
   "id": "1a968611",
   "metadata": {},
   "outputs": [
    {
     "data": {
      "text/plain": [
       "3×3×3 Array{Int64, 3}:\n",
       "[:, :, 1] =\n",
       " 12  13  14\n",
       " 13  14  15\n",
       " 14  15  16\n",
       "\n",
       "[:, :, 2] =\n",
       " 13  14  15\n",
       " 14  15  16\n",
       " 15  16  17\n",
       "\n",
       "[:, :, 3] =\n",
       " 14  15  16\n",
       " 15  16  17\n",
       " 16  17  18"
      ]
     },
     "metadata": {},
     "output_type": "display_data"
    }
   ],
   "source": [
    "[i + j + k for i in 1:3, j in 4:6, k in 7:9]"
   ]
  },
  {
   "cell_type": "markdown",
   "id": "e2496adf",
   "metadata": {},
   "source": [
    "Comprehensions can also create arrays of tuples or named tuples"
   ]
  },
  {
   "cell_type": "code",
   "execution_count": 240,
   "id": "f5f357c9",
   "metadata": {},
   "outputs": [
    {
     "data": {
      "text/plain": [
       "2×3 Matrix{Tuple{Int64, String}}:\n",
       " (1, \"dog\")  (1, \"cat\")  (1, \"bird\")\n",
       " (2, \"dog\")  (2, \"cat\")  (2, \"bird\")"
      ]
     },
     "metadata": {},
     "output_type": "display_data"
    }
   ],
   "source": [
    "[(i, j) for i in 1:2, j in animals]"
   ]
  },
  {
   "cell_type": "code",
   "execution_count": 241,
   "id": "ad2be3b0",
   "metadata": {},
   "outputs": [
    {
     "data": {
      "text/plain": [
       "2×3 Matrix{@NamedTuple{num::Int64, animal::String}}:\n",
       " (num = 1, animal = \"dog\")  …  (num = 1, animal = \"bird\")\n",
       " (num = 2, animal = \"dog\")     (num = 2, animal = \"bird\")"
      ]
     },
     "metadata": {},
     "output_type": "display_data"
    }
   ],
   "source": [
    "[(num = i, animal = j) for i in 1:2, j in animals]"
   ]
  },
  {
   "cell_type": "markdown",
   "id": "c2d7d8d8",
   "metadata": {},
   "source": [
    "## Generators\n",
    "\n",
    "In some cases, you may wish to use a comprehension to create an iterable list rather than actually making it a concrete array.\n",
    "\n",
    "The benefit of this is that you can use functions which take general iterators rather than arrays without allocating and storing any temporary values.\n",
    "\n",
    "For example, the following code generates a temporary array of size 10,000 and finds the sum."
   ]
  },
  {
   "cell_type": "code",
   "execution_count": 242,
   "id": "f41ece19",
   "metadata": {},
   "outputs": [
    {
     "data": {
      "text/plain": [
       "333383335000"
      ]
     },
     "metadata": {},
     "output_type": "display_data"
    }
   ],
   "source": [
    "xs = 1:10000\n",
    "f(x) = x^2  # this is a simple way to define a function!\n",
    "f_x = f.(xs)    # note that the \"broadcast\" functionality just *works*\n",
    "sum(f_x)"
   ]
  },
  {
   "cell_type": "markdown",
   "id": "938b6bb6",
   "metadata": {},
   "source": [
    "We could have created the temporary using a comprehension, or even done the comprehension within the `sum` function, but these all create temporary arrays."
   ]
  },
  {
   "cell_type": "code",
   "execution_count": 243,
   "id": "1df7d3be",
   "metadata": {},
   "outputs": [
    {
     "name": "stdout",
     "output_type": "stream",
     "text": [
      "sum(f_x2) = 333383335000\n",
      "sum([f(x) for x = xs]) = 333383335000\n"
     ]
    }
   ],
   "source": [
    "f_x2 = [f(x) for x in xs]\n",
    "@show sum(f_x2)\n",
    "@show sum([f(x) for x in xs]); # still allocates temporary array"
   ]
  },
  {
   "cell_type": "markdown",
   "id": "121dc3a5",
   "metadata": {},
   "source": [
    "If you were hand-code this, you would be able to calculate the sum by simply iterating to 10000, applying `f` to each number, and accumulating the results. No temporary vectors would be necessary.\n",
    "\n",
    "A generator can emulate this behavior, leading to clear (and sometimes more efficient) code when used with any function that accepts iterators. All you need to do is drop the `]` brackets."
   ]
  },
  {
   "cell_type": "code",
   "execution_count": 244,
   "id": "b491ac9b",
   "metadata": {},
   "outputs": [
    {
     "data": {
      "text/plain": [
       "333383335000"
      ]
     },
     "metadata": {},
     "output_type": "display_data"
    }
   ],
   "source": [
    "sum(f(x) for x in xs)"
   ]
  },
  {
   "cell_type": "markdown",
   "id": "48c0ea2d",
   "metadata": {},
   "source": [
    "To investigate the performance of this code, we can use the `BenchmarkTools` package."
   ]
  },
  {
   "cell_type": "code",
   "execution_count": 245,
   "id": "ea648d99",
   "metadata": {},
   "outputs": [
    {
     "name": "stdout",
     "output_type": "stream",
     "text": [
      "  3.587 μs (3 allocations: 78.21 KiB)\n",
      "  3.600 μs (3 allocations: 78.21 KiB)\n",
      "  1.800 ns (0 allocations: 0 bytes)\n"
     ]
    }
   ],
   "source": [
    "using BenchmarkTools\n",
    "@btime sum([f(x) for x in $xs])\n",
    "@btime sum(f.($xs))\n",
    "@btime sum(f(x) for x in $xs);"
   ]
  },
  {
   "cell_type": "markdown",
   "id": "c1aeff3c",
   "metadata": {},
   "source": [
    "The `@btime` macro in the `BenchmarkTools` tools both (a) times the execution of the code and (b) tells us how much memory was allocated in service of running the code. These two things are often intertwined: allocating memory takes time for the processor to do.\n",
    "\n",
    "Generally speaking, it is good practice to (1) worry about the clarity of your code first and then (2) think about performance later... if at all."
   ]
  },
  {
   "cell_type": "markdown",
   "id": "74d45fcd",
   "metadata": {},
   "source": [
    "## Exercises\n",
    "\n",
    "1. Let `x_vals = [1, 3, 7, 10]` and `y_vals = [2, 4, 5, 6]`. Compute the inner product of these two vectors by using `zip()`.\n",
    "1. Using a comprehension, count the number of even numbers between 0 and 99.\n",
    "    * Hint: `iseven` returns `true` for even numbers and `false` for odds.\n",
    "1. Using a comprehension, take `my_pairs = ((2, 5), (4, 2), (9, 8), (12, 10))` and count the number of pairs `(a, b)` such that both `a` and `b` are even.\n",
    "\n",
    "Hints:\n",
    "- The operator `&&` is logical AND: `p && q` is `true` if both `p` and `q` are `true`\n",
    "- The operator `||` is logical OR: `p || q` is `true` if either `p` or `q` are `true`\n",
    "- In addition to the equality operator `==`, there is also an inequality operator `!=`. Other operators like `>`, `<`, `>=`, and `<=` work as expected."
   ]
  },
  {
   "cell_type": "markdown",
   "id": "4c6e8081",
   "metadata": {},
   "source": [
    "## User-Defined Functions\n",
    "\n",
    "A function is an object that takes a set of inputs, applies some sort of procedure to said inputs, and spits out a result.\n",
    "\n",
    "Functions can be handy for organizing code that is likely to be routinely re-used in the future with varying inputs.\n",
    "\n",
    "Julia has a lot of convenient features related to functions:\n",
    "- Any number of functions can be defined in a given file.\n",
    "- Any “value” can be passed to a function as an argument, including other functions.\n",
    "- Functions can be (and often are) defined inside other functions.\n",
    "- A function can return any kind of value, including functions."
   ]
  },
  {
   "cell_type": "markdown",
   "id": "41c74c32",
   "metadata": {},
   "source": [
    "Let's define a function named `add` that takes two variables, `x` and `y`, as inputs, and returns their sum."
   ]
  },
  {
   "cell_type": "code",
   "execution_count": 246,
   "id": "09e62537",
   "metadata": {},
   "outputs": [
    {
     "data": {
      "text/plain": [
       "add (generic function with 1 method)"
      ]
     },
     "metadata": {},
     "output_type": "display_data"
    }
   ],
   "source": [
    "function add(x, y)\n",
    "    z = x + y\n",
    "    return z\n",
    "end "
   ]
  },
  {
   "cell_type": "markdown",
   "id": "bf12e5a9",
   "metadata": {},
   "source": [
    "Note that when we execute this cell, we get an object back. Let's check it's functionality:"
   ]
  },
  {
   "cell_type": "code",
   "execution_count": 247,
   "id": "08ded7e7",
   "metadata": {},
   "outputs": [
    {
     "data": {
      "text/plain": [
       "5"
      ]
     },
     "metadata": {},
     "output_type": "display_data"
    }
   ],
   "source": [
    "add(2, 3)"
   ]
  },
  {
   "cell_type": "markdown",
   "id": "0f24bc6a",
   "metadata": {},
   "source": [
    "### Variable Scope\n",
    "\n",
    "Variables defined within functions have **local scope**: they are not accessible outside of the function. We could define a different `z` outside of the function which would not have any bearing on the internal workings of the function, or be modified by the function:"
   ]
  },
  {
   "cell_type": "code",
   "execution_count": 248,
   "id": "bcf7d546",
   "metadata": {},
   "outputs": [
    {
     "name": "stdout",
     "output_type": "stream",
     "text": [
      "external variable\n"
     ]
    }
   ],
   "source": [
    "z = \"external variable\"\n",
    "add(2.0, 3.7)\n",
    "println(z)"
   ]
  },
  {
   "cell_type": "markdown",
   "id": "011f709d",
   "metadata": {},
   "source": [
    "Note that we've called the `add` function with a different type: `2` is an `Int64` while `2.0` is a `Float64`. Unless you specify otherwise, Julia will take care of all of this for you."
   ]
  },
  {
   "cell_type": "markdown",
   "id": "4e9ce0e1",
   "metadata": {},
   "source": [
    "### `return` statements\n",
    "\n",
    "A `return` statement tells Julia to stop executing the function and `return` whatever value is part of the statement. A function can have arbitrarily many `return` statements:"
   ]
  },
  {
   "cell_type": "code",
   "execution_count": 249,
   "id": "d72be038",
   "metadata": {},
   "outputs": [
    {
     "data": {
      "text/plain": [
       "foo (generic function with 1 method)"
      ]
     },
     "metadata": {},
     "output_type": "display_data"
    }
   ],
   "source": [
    "function foo(x)\n",
    "    if x > 0\n",
    "        return \"positive\"\n",
    "    end\n",
    "    return \"nonpositive\"\n",
    "end"
   ]
  },
  {
   "cell_type": "markdown",
   "id": "e4a13a69",
   "metadata": {},
   "source": [
    "Note that I've stuck an `if` statement in there. It's pretty self-explanatory.\n",
    "\n",
    "A `return` statement is not required. If no `return` statement is included, Julia will return the value of the last statement executed:"
   ]
  },
  {
   "cell_type": "code",
   "execution_count": 250,
   "id": "c195be87",
   "metadata": {},
   "outputs": [
    {
     "data": {
      "text/plain": [
       "5"
      ]
     },
     "metadata": {},
     "output_type": "display_data"
    }
   ],
   "source": [
    "function add2(x, y)\n",
    "    x + y\n",
    "end\n",
    "\n",
    "add2(2, 3)"
   ]
  },
  {
   "cell_type": "markdown",
   "id": "65118074",
   "metadata": {},
   "source": [
    "## Short functions\n",
    "\n",
    "When you have a short function, you don't need to use the `function` keyword:"
   ]
  },
  {
   "cell_type": "code",
   "execution_count": 251,
   "id": "863480fa",
   "metadata": {},
   "outputs": [
    {
     "name": "stdout",
     "output_type": "stream",
     "text": [
      "f(1 / π) = 1.2246467991473532e-16\n"
     ]
    }
   ],
   "source": [
    "f(x) = sin(1 / x)\n",
    "\n",
    "@show f(1 / π);"
   ]
  },
  {
   "cell_type": "markdown",
   "id": "8856f7e3",
   "metadata": {},
   "source": [
    "Julia also allows you to define anonymous functions.\n",
    "\n",
    "For example, to define `f(x) = sin(1 / x)` you can use `x -> sin(1 / x)`.\n",
    "\n",
    "The difference is that the second function has no name bound to it.\n",
    "\n",
    "How can you use a function with no name?\n",
    "\n",
    "Typically it’s as an argument to another function:"
   ]
  },
  {
   "cell_type": "code",
   "execution_count": 252,
   "id": "a4a6d450",
   "metadata": {},
   "outputs": [
    {
     "data": {
      "text/plain": [
       "3-element Vector{Float64}:\n",
       " -0.7069206791684636\n",
       " -0.8427867775306944\n",
       " -0.8804770978701577"
      ]
     },
     "metadata": {},
     "output_type": "display_data"
    }
   ],
   "source": [
    "map(x -> sin(1 / x), randn(3))  # apply function to each element"
   ]
  },
  {
   "cell_type": "markdown",
   "id": "c0ad7fb7",
   "metadata": {},
   "source": [
    "There are more advanced things you can do with functions, including **default** and **keyword** arguments, **closures**, and **functions of functions**. We'll bring that up when necessary."
   ]
  },
  {
   "cell_type": "markdown",
   "id": "959620f1",
   "metadata": {},
   "source": [
    "## Exercises\n",
    "\n",
    "1. Consider the polynomial $$p(x) = a_0 + a_1 x + a_2 x^2 + \\cdots a_n x^n = \\sum_{i=0}^n a_i x^i$$\n",
    "Using `enumerate()` in your loop, write a function `p` such that `p(x, coeff)` calculates the value of this polynomial given the point `x` and an array of coefficients `coeff`.\n",
    "1. Write a function that takes a string as an argument and returns the number of capital letters in the string.\n",
    "    - Hint: `uppercase(\"foo\")` returns `\"FOO\"`.\n",
    "1. Write a function that takes two sequences `seq_a` and `seq_b` as arguments and returns `true` if every element in `seq_a` is also an element of `seq_b`, and `false` otherwise\n",
    "1. The Julia libraries include functions for interpolation and approximation. Nevertheless, let’s write our own function approximation routine as an exercise. In particular, write a function `linapprox` that takes as arguments\n",
    "    - a function `f` mapping some interval $[a, b]$ into $\\mathbb R$\n",
    "    - two scalars `a` and `b` providing the limits of this interval\n",
    "    - an integer `n` determining the number of grid points\n",
    "    - a number `x` satisfying $a <= x <= b$\n",
    "\n",
    "    and returns the piecewise linear interpolation of `f` at `x` based on `n` evenly spaced grid points. Aim for clarity, not efficiency.\n",
    "    - Hint: use the function `range` to linearly space numbers."
   ]
  }
 ],
 "metadata": {
  "kernelspec": {
   "display_name": "Julia 1.11.6",
   "language": "julia",
   "name": "julia-1.11"
  },
  "language_info": {
   "file_extension": ".jl",
   "mimetype": "application/julia",
   "name": "julia",
   "version": "1.11.6"
  }
 },
 "nbformat": 4,
 "nbformat_minor": 5
}

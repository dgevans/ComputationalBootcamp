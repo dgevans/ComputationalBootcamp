{
 "cells": [
  {
   "cell_type": "markdown",
   "id": "53ce9ed5",
   "metadata": {},
   "source": [
    "# Introduction to Julia"
   ]
  },
  {
   "cell_type": "markdown",
   "id": "fda1183d",
   "metadata": {},
   "source": [
    "Welcome to the computational bootcamp!\n",
    "\n",
    "Over the next two weeks, you will learn the basics of the Julia programming language with examples in economic modelling. You will also learn about some of the modern programming infrastructure used in the profession.\n",
    "\n",
    "The ideas and concepts we learn here are applicable across many languages and programming workflows; some of you may choose to use R or Python in the future.\n",
    "\n",
    "Today, we will first work on getting up and running with Julia, and cover some basics. This material borrows quite a lot from [Quantitative Economics with Julia by QuantEcon](https://julia.quantecon.org/) and the [Julia documentation](https://docs.julialang.org/en/v1/) so I encourage everyone to check those resources out for more details."
   ]
  },
  {
   "cell_type": "markdown",
   "id": "c8334d08",
   "metadata": {},
   "source": [
    "# Setting up a Work Environment\n",
    "\n",
    "Tools matter! In addition to a programming language itself, *coding* in that language requires an environment in which you can:\n",
    "- create, edit, and execute programs\n",
    "- keep track of changes to programs\n",
    "- share your programs with collaborators\n",
    "\n",
    "We're going to start with the first of these, and add more tools later."
   ]
  },
  {
   "cell_type": "markdown",
   "id": "3c0cb2e8",
   "metadata": {},
   "source": [
    "## Installing Jupyter\n",
    "\n",
    "[Jupyter](https://jupyter.org/) is an \"interactive computing\" environment that is compatible with multiple languages. The core concept of Jupyter is a \"notebook\" which combines formatted text, code, and output into a single file.\n",
    "\n",
    "This document is a Jupyter notebook!\n",
    "\n",
    "We will install Jupyter through the [Anaconda](https://www.anaconda.com/) computing package which additionally includes Python and other data science tools. Many, many data science tutorials around the internet start with the assumption of an Anaconda environment, so this will have positive spillover effects for you.\n",
    "\n",
    "To install Anaconda, go here and follow the instructions: https://www.anaconda.com/download/\n",
    "\n",
    "One note: if given the option, let Anaconda add Python to your PATH environment variable."
   ]
  },
  {
   "cell_type": "markdown",
   "id": "14c1c12a",
   "metadata": {},
   "source": [
    "## Installing Julia\n",
    "\n",
    "Now you can install Julia itself.\n",
    "\n",
    "1. Download and install Julia following the [Juliaup instructions](https://github.com/JuliaLang/juliaup#installation)  \n",
    "  - Windows: easiest method is `winget install julia -s msstore` in a Windows terminal  \n",
    "  - Linux/Mac: in a terminal use `curl -fsSL https://install.julialang.org | sh`  \n",
    "  - If you have previously installed Julia manually, you will need to uninstall previous versions before switching to `juliaup`.  \n",
    "  - Alternatively, can manually install from [download page](http://julialang.org/downloads/), accepting all default options\n",
    "2. Open Julia, by either  \n",
    "  - Navigating to Julia through your menus or desktop icons (Windows, Mac), or  \n",
    "  - Opening a terminal and type `julia` (which should work for all OS if you used `juliaup`.  Otherwise see [here](https://julialang.org/downloads/platform/))  \n",
    "  You should now be looking at something like this  \n",
    "  ![https://julia.quantecon.org/_static/figures/julia_term_1.png](https://julia.quantecon.org/_static/figures/julia_term_1.png)\n",
    "  This is called the JULIA *REPL* (Read-Evaluate-Print-Loop), which we will discuss more later.\n",
    "3. In the Julia REPL, hit `]` to enter package mode and then enter:  "
   ]
  },
  {
   "cell_type": "code",
   "execution_count": null,
   "id": "42724fd4",
   "metadata": {},
   "outputs": [],
   "source": [
    "add IJulia"
   ]
  },
  {
   "cell_type": "markdown",
   "id": "c0bd8cec",
   "metadata": {},
   "source": [
    "This adds packages for the `IJulia` kernel which links Julia to Jupyter you previously installed with Anaconda (i.e., allows your browser to run Julia code, manage Julia packages, etc.).\n",
    "\n",
    "4. Exit the Julia REPL by hitting backspace to exit the package mode. Then type"
   ]
  },
  {
   "cell_type": "code",
   "execution_count": null,
   "id": "617b01cb",
   "metadata": {},
   "outputs": [],
   "source": [
    "using IJulia; notebook()"
   ]
  },
  {
   "cell_type": "markdown",
   "id": "4d3d82a5",
   "metadata": {},
   "source": [
    "This should create a new tab in our web browser, where we can manually navigate to our preferred directory (folder) and create new notebooks, along with other types of documents. When we open a document, it will open as a new tab in our web browser."
   ]
  },
  {
   "cell_type": "markdown",
   "id": "ab8c3f59",
   "metadata": {},
   "source": [
    "# Jupyter Basics"
   ]
  },
  {
   "cell_type": "markdown",
   "id": "bc5b9653",
   "metadata": {},
   "source": [
    "The keyboard shortcuts window says it best: \"The Jupyter Notebook has two different keyboard input modes. Edit mode allows you to type code or text into a cell and is indicated by a green cell border. Command mode binds the keyboard to notebook level commands and is indicated by a grey cell border with a blue left margin.\"\n",
    "\n",
    "At any given point in time in the Jupyter interface we are either in edit mode or command mode. We can tell which mode we are in using two indicators: (1) the color of the outline around a selected cell, and (2) the presence/absence of a pencil symbol next to the active kernel name at the upper-right corner of the notebook.\n",
    "\n",
    "The following is a list of some very useful shortcuts:\n",
    "\n",
    "- `Esc` triggers command mode if currently in edit mode;\n",
    "- `Enter` triggers edit mode if currently in command mode;\n",
    "- `Ctrl-Enter` runs selected cell;\n",
    "- `Shift-Enter` runs selected cell and selects the next cell below;\n",
    "- `Alt-Enter` runs selected cell and creates a new cell below;\n",
    "- `D, D` deletes selected cell.\n",
    "\n",
    "Check out more shortcuts by going into command mode and clicking the `H` key.\n",
    "\n",
    "There are three types of cells:\n",
    "- Markdown (text formatted to look nice, like this)\n",
    "- code (text formatted per the conventions of a specific programming language)\n",
    "- raw (unformatted text)\n",
    "\n",
    "We will mostly be interested in code and Markdown cells, so we disregard the final category. We can tell what type of cell we are dealing with by either (1) looking up at our toolbar or by (2) looking to the left of the cell to check whether there is a `In [ ]:` present -- if so, then we have ourselves a code cell, otherwise it is a Markdown cell.\n",
    "\n",
    "A couple more useful shortcuts:\n",
    "\n",
    "- `M` changes a selected cell type to Markdown if in command mode;\n",
    "- `Y` changes a selected cell type to code if in command mode.\n",
    "\n",
    "Jupyter is simple and intuitive enough that the above should be enough to get us going."
   ]
  },
  {
   "cell_type": "markdown",
   "id": "9dc50eac",
   "metadata": {},
   "source": [
    "# Julia Basics\n",
    "\n",
    "## Packages\n",
    "\n",
    "While Julia has quite a lot of functionality built in, very frequently we will want to use functionality which was developed by other programmers in the form of *packages*. In Julia, it is very easy to load packages with the `using` command. Here are a couple of packages that show up commonly in economics applications:"
   ]
  },
  {
   "cell_type": "code",
   "execution_count": 2,
   "id": "95986f5e",
   "metadata": {},
   "outputs": [],
   "source": [
    "using LinearAlgebra\n",
    "using Statistics"
   ]
  },
  {
   "cell_type": "markdown",
   "id": "7ebc0562",
   "metadata": {},
   "source": [
    "If you try to execute this cell for the first time, you may get an error message because the `LinearAlgebra` package is not part of your Julia \"environment.\" We need to install it. There are two ways to do so. If we were in the REPL, we could enter package mode by pressing `]` and then typing `add LinearAlgebra'. Since we are not in the REPL, this is not available to us. Thankfully, Julia lets us do so entirely in code (which can be embedded in a Jupyter notebook like this):"
   ]
  },
  {
   "cell_type": "code",
   "execution_count": null,
   "id": "72006f5f",
   "metadata": {},
   "outputs": [
    {
     "name": "stderr",
     "output_type": "stream",
     "text": [
      "\u001b[32m\u001b[1m    Updating\u001b[22m\u001b[39m registry at `C:\\Users\\keato\\.julia\\registries\\General.toml`\n",
      "\u001b[32m\u001b[1m   Resolving\u001b[22m\u001b[39m package versions...\n",
      "\u001b[32m\u001b[1m    Updating\u001b[22m\u001b[39m `C:\\Users\\keato\\.julia\\environments\\v1.11\\Project.toml`\n",
      "  \u001b[90m[37e2e46d] \u001b[39m\u001b[92m+ LinearAlgebra v1.11.0\u001b[39m\n",
      "\u001b[32m\u001b[1m  No Changes\u001b[22m\u001b[39m to `C:\\Users\\keato\\.julia\\environments\\v1.11\\Manifest.toml`\n"
     ]
    }
   ],
   "source": [
    "using Pkg   # load the `Pkg` package, which is Julia's built-in package-management package.\n",
    "Pkg.add(\"LinearAlgebra\") # Use the `Pkg` interface to install the `LinearAlgebra` package\n",
    "Pkg.add(\"Statistics\") # Do the same with the `Statistics` package\n",
    "using LinearAlgebra"
   ]
  },
  {
   "cell_type": "markdown",
   "id": "09d676b2",
   "metadata": {},
   "source": [
    "You may have already noted that we can add *comments* to our code with the `#` character; when Julia is processing your code and it reaches a `#`, it ignores it and everything that follows until the end of the line."
   ]
  },
  {
   "cell_type": "markdown",
   "id": "9eff27e0",
   "metadata": {},
   "source": [
    "## Variables\n",
    "\n",
    "A variable, in Julia, is a name associated (or bound) to a value. It's useful when you want to store a value (that you obtained after some math, for example) for later use. For example:"
   ]
  },
  {
   "cell_type": "code",
   "execution_count": 19,
   "id": "e25d8c49",
   "metadata": {},
   "outputs": [
    {
     "data": {
      "text/plain": [
       "10"
      ]
     },
     "metadata": {},
     "output_type": "display_data"
    }
   ],
   "source": [
    "# assign the value 10 to the variable x\n",
    "x = 10"
   ]
  },
  {
   "cell_type": "markdown",
   "id": "2d2bb5a1",
   "metadata": {},
   "source": [
    "If you run this cell in a Jupyter notebook, it will output `10`.\n",
    "\n",
    "In Julia, variables can take many different types, and those types could change. We can use the `typeof` function to ask Julia what type a particular variable is."
   ]
  },
  {
   "cell_type": "code",
   "execution_count": 20,
   "id": "1df1ddc9",
   "metadata": {},
   "outputs": [
    {
     "data": {
      "text/plain": [
       "Int64"
      ]
     },
     "metadata": {},
     "output_type": "display_data"
    }
   ],
   "source": [
    "typeof(x)"
   ]
  },
  {
   "cell_type": "markdown",
   "id": "7b06767b",
   "metadata": {},
   "source": [
    "In this case, `x` has type `Int64` which means it is a 64-bit integer (i.e. there are 64 ones and zeros that are used to store the value of `x`).\n",
    "\n",
    "Let's see how the type of `x` changes when we reassign it."
   ]
  },
  {
   "cell_type": "code",
   "execution_count": 21,
   "id": "17600a7c",
   "metadata": {},
   "outputs": [
    {
     "data": {
      "text/plain": [
       "Float64"
      ]
     },
     "metadata": {},
     "output_type": "display_data"
    }
   ],
   "source": [
    "x = 3.14\n",
    "\n",
    "typeof(x)"
   ]
  },
  {
   "cell_type": "markdown",
   "id": "b51891c4",
   "metadata": {},
   "source": [
    "`Float64` means 64-bit floating-point number. Floating point numbers are considerably more complicated than integers. We'll talk about that more later."
   ]
  },
  {
   "cell_type": "code",
   "execution_count": 22,
   "id": "43e110a5",
   "metadata": {},
   "outputs": [
    {
     "data": {
      "text/plain": [
       "String"
      ]
     },
     "metadata": {},
     "output_type": "display_data"
    }
   ],
   "source": [
    "x = \"Hello, World!\"\n",
    "\n",
    "typeof(x)"
   ]
  },
  {
   "cell_type": "markdown",
   "id": "24d84587",
   "metadata": {},
   "source": [
    "A `String` is a series of characters of any length. Strings can contain Unicode characters:"
   ]
  },
  {
   "cell_type": "code",
   "execution_count": 23,
   "id": "456c5611",
   "metadata": {},
   "outputs": [
    {
     "data": {
      "text/plain": [
       "\"人人生而自由，在尊严和权利上一律平等。\""
      ]
     },
     "metadata": {},
     "output_type": "display_data"
    }
   ],
   "source": [
    "x = \"人人生而自由，在尊严和权利上一律平等。\""
   ]
  },
  {
   "cell_type": "markdown",
   "id": "b60d962c",
   "metadata": {},
   "source": [
    "In fact, variable names can contain unicode characters as well!"
   ]
  },
  {
   "cell_type": "code",
   "execution_count": 24,
   "id": "fa09f0c9",
   "metadata": {},
   "outputs": [
    {
     "data": {
      "text/plain": [
       "1.0e-5"
      ]
     },
     "metadata": {},
     "output_type": "display_data"
    }
   ],
   "source": [
    "δ = 0.00001"
   ]
  },
  {
   "cell_type": "markdown",
   "id": "43f02e95",
   "metadata": {},
   "source": [
    "In the Julia REPL and several other Julia editing environments, you can type many Unicode math\n",
    "symbols by typing the backslashed LaTeX symbol name followed by tab. For example, the variable\n",
    "name `δ` can be entered by typing `\\delta`-*tab*, or even `α̂⁽²⁾` by `\\alpha`-*tab*-`\\^(2)`-*tab*."
   ]
  },
  {
   "cell_type": "markdown",
   "id": "1863a504",
   "metadata": {},
   "source": [
    "# `println` and Strings\n",
    "\n",
    "A very powerful tool in Julia is what I will call in-line string interpolation. When defining a `String`, the character `$` will expand a variable into its value within the string. Let's illustrate this with an example.\n",
    "\n",
    "Suppose we have randomly-generated variables $x$ and $y$, and would like to check whether $x > y$. Let's call this condition A. We can store the status of condition A as a Boolean variable $A$. We can then print out a message telling us about the status of condition A."
   ]
  },
  {
   "cell_type": "code",
   "execution_count": 25,
   "id": "c6f87472",
   "metadata": {},
   "outputs": [
    {
     "name": "stdout",
     "output_type": "stream",
     "text": [
      "x = 0.9782210509690409 and y = -0.7319204549617373,therefore condition A is true.\n"
     ]
    }
   ],
   "source": [
    "x = randn() # Generate random value `x`\n",
    "y = randn() # Generate random value `y`\n",
    "A = x > y   # Store status of condition A as variable `A`\n",
    "message = \"x = $x and y = $y,\" * \"therefore condition A is $A.\"\n",
    "println(message)"
   ]
  },
  {
   "cell_type": "markdown",
   "id": "d148cd5f",
   "metadata": {},
   "source": [
    "In this case, we assigned our message to the variable `message` and then used the `println` function to output the contents of `message`. But we could have used `println` directly:"
   ]
  },
  {
   "cell_type": "code",
   "execution_count": 26,
   "id": "13a10726",
   "metadata": {},
   "outputs": [
    {
     "name": "stdout",
     "output_type": "stream",
     "text": [
      "The current value of x is 0.9782210509690409.\n"
     ]
    }
   ],
   "source": [
    "println(\"The current value of x is $x.\")"
   ]
  },
  {
   "cell_type": "markdown",
   "id": "c9f8eb0a",
   "metadata": {},
   "source": [
    "You can even do math inside of `String` defintions, though you must enclose it in parentheses:"
   ]
  },
  {
   "cell_type": "code",
   "execution_count": 27,
   "id": "5ba64127",
   "metadata": {},
   "outputs": [
    {
     "name": "stdout",
     "output_type": "stream",
     "text": [
      "Adding 1 to x gives 1.978221050969041.\n"
     ]
    }
   ],
   "source": [
    "println(\"Adding 1 to x gives $(x+1).\")"
   ]
  },
  {
   "cell_type": "markdown",
   "id": "9a6c3bff",
   "metadata": {},
   "source": [
    "## Arithmetic\n",
    "\n",
    "Julia supports all of the basic arthimetic operations with standard syntax:"
   ]
  },
  {
   "cell_type": "code",
   "execution_count": 28,
   "id": "1cfde25d",
   "metadata": {},
   "outputs": [
    {
     "name": "stdout",
     "output_type": "stream",
     "text": [
      "x + y = 0.24630059600730358\n",
      "x - y = 1.7101415059307783\n",
      "x * y = -0.7159799966784092\n",
      "x / y = -1.3365127922544253\n",
      "x - -y = 0.24630059600730358\n",
      "3x - 4y = 5.862344972754071\n",
      "x ^ -1 = 1.0222638318909458\n"
     ]
    }
   ],
   "source": [
    "@show x + y\n",
    "@show x - y\n",
    "@show x * y\n",
    "@show x / y\n",
    "@show x - (-y)\n",
    "@show 3x - 4y\n",
    "@show x^(-1);"
   ]
  },
  {
   "cell_type": "markdown",
   "id": "7dc07ab9",
   "metadata": {},
   "source": [
    "What's this `@show` thing? Julia supports *macros*, which are essentially shorthand ways to accomplish more complicated operations. The `@show` macro prints out the result of an expression along with the expression itself.\n",
    "\n",
    "Note also that we ended the last line of the cell with a `;` to supress the redundant printing of the output of `x^(-1)`. \n",
    "See what happens when you construct a similar cell without `;` at the end."
   ]
  },
  {
   "cell_type": "markdown",
   "id": "3330c3b4",
   "metadata": {},
   "source": [
    "Arithmetic isn't just for floats and integers. What happens if we apply arithmetic operations to booleans?"
   ]
  },
  {
   "cell_type": "code",
   "execution_count": 29,
   "id": "a64d44bb",
   "metadata": {},
   "outputs": [
    {
     "name": "stdout",
     "output_type": "stream",
     "text": [
      "x = 0.9782210509690409\n",
      "z1 + 0 = 1\n",
      "z2 + 0 = 0\n",
      "z1 + z2 = 1\n",
      "x + z1 = 1.978221050969041\n",
      "x * z1 = 0.9782210509690409\n"
     ]
    }
   ],
   "source": [
    "z1 = true # define a true boolean \n",
    "z2 = false # define a false boolean\n",
    "\n",
    "@show x\n",
    "@show z1 + 0\n",
    "@show z2 + 0\n",
    "@show z1 + z2 \n",
    "@show x + z1\n",
    "@show x * z1\n",
    ";"
   ]
  },
  {
   "cell_type": "markdown",
   "id": "336275c7",
   "metadata": {},
   "source": [
    "Imaginary components work just the same way!"
   ]
  },
  {
   "cell_type": "code",
   "execution_count": 30,
   "id": "8aceb5ff",
   "metadata": {},
   "outputs": [
    {
     "name": "stdout",
     "output_type": "stream",
     "text": [
      "x + y = 5.7 + 3.85im\n",
      "x - y = 5.3 + 2.65im\n",
      "x * y = -0.8499999999999999 + 3.9499999999999997im\n",
      "x / y = 7.625000000000001 - 6.624999999999999im\n",
      "x - -y = 5.7 + 3.85im\n",
      "3x - 4y = 15.7 + 7.35im\n",
      "x ^ -1 = 0.13476263399693722 - 0.07963246554364471im\n"
     ]
    }
   ],
   "source": [
    "x = 5.5 + 3.25im\n",
    "y = 0.2 + 0.6im\n",
    "\n",
    "@show x + y\n",
    "@show x - y\n",
    "@show x * y\n",
    "@show x / y\n",
    "@show x - (-y)\n",
    "@show 3x - 4y\n",
    "@show x^(-1);"
   ]
  },
  {
   "cell_type": "markdown",
   "id": "f52781b0",
   "metadata": {},
   "source": [
    "## Introduction to Arrays\n",
    "\n",
    "We can also collect data into arrays."
   ]
  },
  {
   "cell_type": "code",
   "execution_count": 31,
   "id": "64d35ab1",
   "metadata": {},
   "outputs": [
    {
     "name": "stdout",
     "output_type": "stream",
     "text": [
      "ndims(a) = 1\n",
      "typeof(a) = Vector{Int64}\n"
     ]
    },
    {
     "data": {
      "text/plain": [
       "Vector{Int64}\u001b[90m (alias for \u001b[39m\u001b[90mArray{Int64, 1}\u001b[39m\u001b[90m)\u001b[39m"
      ]
     },
     "metadata": {},
     "output_type": "display_data"
    }
   ],
   "source": [
    "a = [10; 20; 30]\n",
    "\n",
    "@show ndims(a)\n",
    "@show typeof(a)"
   ]
  },
  {
   "cell_type": "markdown",
   "id": "37afd756",
   "metadata": {},
   "source": [
    "The output here tells us that `a` is a one-dimensional array containing `Int64` data. "
   ]
  },
  {
   "cell_type": "code",
   "execution_count": 32,
   "id": "5f7992e9",
   "metadata": {},
   "outputs": [
    {
     "name": "stdout",
     "output_type": "stream",
     "text": [
      "typeof(b) = Vector{Float64}\n"
     ]
    },
    {
     "data": {
      "text/plain": [
       "Vector{Float64}\u001b[90m (alias for \u001b[39m\u001b[90mArray{Float64, 1}\u001b[39m\u001b[90m)\u001b[39m"
      ]
     },
     "metadata": {},
     "output_type": "display_data"
    }
   ],
   "source": [
    "b = [1.0, 2.0, 3.0]\n",
    "@show typeof(b)"
   ]
  },
  {
   "cell_type": "markdown",
   "id": "c8bebe91",
   "metadata": {},
   "source": [
    "`b` has a similar type to `a`, but its contents are `Float64` instead of `Int64`.\n",
    "\n",
    "If we want, we can include multiple types of data in a single array."
   ]
  },
  {
   "cell_type": "code",
   "execution_count": 33,
   "id": "02546bec",
   "metadata": {},
   "outputs": [
    {
     "data": {
      "text/plain": [
       "4-element Vector{Any}:\n",
       "    1\n",
       "    1.0\n",
       " true\n",
       "     \"text\""
      ]
     },
     "metadata": {},
     "output_type": "display_data"
    }
   ],
   "source": [
    "c = [1, 1.0, true, \"text\"]"
   ]
  },
  {
   "cell_type": "markdown",
   "id": "725095e0",
   "metadata": {},
   "source": [
    "This is **undesirable**, but as we can see -- it works."
   ]
  },
  {
   "cell_type": "markdown",
   "id": "0daef2cf",
   "metadata": {},
   "source": [
    "Let's check out the dimensions and size of array/vector `b`:"
   ]
  },
  {
   "cell_type": "code",
   "execution_count": 34,
   "id": "b1248bd4",
   "metadata": {},
   "outputs": [
    {
     "name": "stdout",
     "output_type": "stream",
     "text": [
      "ndims(b) = 1\n",
      "size(b) = (3,)\n"
     ]
    }
   ],
   "source": [
    "@show ndims(b) # Show dimensions of vector `b`\n",
    "@show size(b); # Show size of vector `b`"
   ]
  },
  {
   "cell_type": "markdown",
   "id": "4c3b8316",
   "metadata": {},
   "source": [
    "The above output essentially tells us that `b` is a vector with 3 entries. \n",
    "\n",
    "I say that `b` is a vector since a one-dimensional array is equivalent to a vector, while a two-dimensional array is equivalent to a matrix. \n",
    "\n",
    "We confirm this in the following cell:"
   ]
  },
  {
   "cell_type": "code",
   "execution_count": 35,
   "id": "413fbb6b",
   "metadata": {},
   "outputs": [
    {
     "name": "stdout",
     "output_type": "stream",
     "text": [
      "Array{Float64, 1} == Vector{Float64} = true\n",
      "Array{Float64, 2} == Matrix{Float64} = true\n"
     ]
    }
   ],
   "source": [
    "@show Array{Float64, 1} == Vector{Float64}\n",
    "@show Array{Float64, 2} == Matrix{Float64};"
   ]
  },
  {
   "cell_type": "markdown",
   "id": "06543a21",
   "metadata": {},
   "source": [
    "There are two different ways we can create a column vector:"
   ]
  },
  {
   "cell_type": "code",
   "execution_count": 36,
   "id": "57f68ea8",
   "metadata": {},
   "outputs": [
    {
     "data": {
      "text/plain": [
       "true"
      ]
     },
     "metadata": {},
     "output_type": "display_data"
    }
   ],
   "source": [
    "col1 = [1, 2, 3]\n",
    "col2 = [1; 2; 3]\n",
    "col1 == col2 # Test if both are column vectors"
   ]
  },
  {
   "cell_type": "markdown",
   "id": "fe8087ff",
   "metadata": {},
   "source": [
    "We can also create row vectors in the following manner:"
   ]
  },
  {
   "cell_type": "code",
   "execution_count": 37,
   "id": "6e7d292e",
   "metadata": {},
   "outputs": [
    {
     "data": {
      "text/plain": [
       "1×3 Matrix{Int64}:\n",
       " 1  2  3"
      ]
     },
     "metadata": {},
     "output_type": "display_data"
    }
   ],
   "source": [
    "row1 = [1 2 3]"
   ]
  },
  {
   "cell_type": "markdown",
   "id": "252ec148",
   "metadata": {},
   "source": [
    "Let's check the dimensions and size of the row vector `row1`:"
   ]
  },
  {
   "cell_type": "code",
   "execution_count": 38,
   "id": "a141fcd0",
   "metadata": {},
   "outputs": [
    {
     "name": "stdout",
     "output_type": "stream",
     "text": [
      "ndims(row1) = 2\n",
      "size(row1) = (1, 3)\n"
     ]
    }
   ],
   "source": [
    "@show ndims(row1)\n",
    "@show size(row1);"
   ]
  },
  {
   "cell_type": "markdown",
   "id": "1669a9d8",
   "metadata": {},
   "source": [
    "According to the above output, row vectors are 2-dimensional -- in other words, they are matrices.\n",
    "\n",
    "Furthermore, unlike column vectors, row vectors are not flat. The above output shows that `row1` has one row and three columns."
   ]
  },
  {
   "cell_type": "markdown",
   "id": "a8cef392",
   "metadata": {},
   "source": [
    "## Matrices\n",
    "\n",
    "Let's create a more traditional-looking matrix `A`:"
   ]
  },
  {
   "cell_type": "code",
   "execution_count": 39,
   "id": "5b15e5d7",
   "metadata": {},
   "outputs": [
    {
     "data": {
      "text/plain": [
       "2×2 Matrix{Int64}:\n",
       " 1  2\n",
       " 3  4"
      ]
     },
     "metadata": {},
     "output_type": "display_data"
    }
   ],
   "source": [
    "A = [1 2; 3 4]"
   ]
  },
  {
   "cell_type": "markdown",
   "id": "eb3c10f4",
   "metadata": {},
   "source": [
    "We can refer to specific elements of `A` using brackets:"
   ]
  },
  {
   "cell_type": "code",
   "execution_count": 43,
   "id": "7084e22a",
   "metadata": {},
   "outputs": [
    {
     "name": "stdout",
     "output_type": "stream",
     "text": [
      "A[1, 1] = 1\n",
      "A[1, 2] = 2\n",
      "A[2, 1] = 3\n",
      "A[2, 2] = 4\n"
     ]
    }
   ],
   "source": [
    "@show A[1,1]\n",
    "@show A[1,2]\n",
    "@show A[2,1]\n",
    "@show A[2,2];"
   ]
  },
  {
   "cell_type": "markdown",
   "id": "1c1ed62f",
   "metadata": {},
   "source": [
    "We can transpose `A` with the character `'`:"
   ]
  },
  {
   "cell_type": "code",
   "execution_count": 44,
   "id": "ba366c9c",
   "metadata": {},
   "outputs": [
    {
     "data": {
      "text/plain": [
       "2×2 adjoint(::Matrix{Int64}) with eltype Int64:\n",
       " 1  3\n",
       " 2  4"
      ]
     },
     "metadata": {},
     "output_type": "display_data"
    }
   ],
   "source": [
    "A'"
   ]
  },
  {
   "cell_type": "markdown",
   "id": "476d6201",
   "metadata": {},
   "source": [
    "A very powerful tool in Julia is the \"slice\" -- the ability to refer to specific submatrices within a larger matrix. Suppose we wanted to extract just the second column of `A`. We can do this by telling Julia we want all rows of `A` with the `:` character:"
   ]
  },
  {
   "cell_type": "code",
   "execution_count": 45,
   "id": "0a47e5a1",
   "metadata": {},
   "outputs": [
    {
     "data": {
      "text/plain": [
       "2-element Vector{Int64}:\n",
       " 2\n",
       " 4"
      ]
     },
     "metadata": {},
     "output_type": "display_data"
    }
   ],
   "source": [
    "A[:,2]"
   ]
  },
  {
   "cell_type": "markdown",
   "id": "ca1663ce",
   "metadata": {},
   "source": [
    "We could also ask Julia for the second row of `A`:"
   ]
  },
  {
   "cell_type": "code",
   "execution_count": 46,
   "id": "42167a65",
   "metadata": {},
   "outputs": [
    {
     "data": {
      "text/plain": [
       "2-element Vector{Int64}:\n",
       " 3\n",
       " 4"
      ]
     },
     "metadata": {},
     "output_type": "display_data"
    }
   ],
   "source": [
    "A[2,:]"
   ]
  },
  {
   "cell_type": "markdown",
   "id": "870bb27f",
   "metadata": {},
   "source": [
    "Notice that when we accessed the second row of `A`, the output was a flat array (column vector).\n",
    "\n",
    "You may simply transpose it to obtain it in row vector form:"
   ]
  },
  {
   "cell_type": "code",
   "execution_count": 47,
   "id": "6a4012a0",
   "metadata": {},
   "outputs": [
    {
     "data": {
      "text/plain": [
       "1×2 adjoint(::Vector{Int64}) with eltype Int64:\n",
       " 3  4"
      ]
     },
     "metadata": {},
     "output_type": "display_data"
    }
   ],
   "source": [
    "A[2,:]'"
   ]
  },
  {
   "cell_type": "markdown",
   "id": "d2d84841",
   "metadata": {},
   "source": [
    "## Creating and Copying Arrays\n",
    "\n",
    "A nice way of creating a zero vector is using the `zeros()` function:"
   ]
  },
  {
   "cell_type": "code",
   "execution_count": 48,
   "id": "9b21e8fd",
   "metadata": {},
   "outputs": [
    {
     "data": {
      "text/plain": [
       "2-element Vector{Float64}:\n",
       " 0.0\n",
       " 0.0"
      ]
     },
     "metadata": {},
     "output_type": "display_data"
    }
   ],
   "source": [
    "zeros(2)"
   ]
  },
  {
   "cell_type": "markdown",
   "id": "115264c5",
   "metadata": {},
   "source": [
    "You can use `zeros()` to create matrices as well:"
   ]
  },
  {
   "cell_type": "code",
   "execution_count": 49,
   "id": "5dae6570",
   "metadata": {},
   "outputs": [
    {
     "data": {
      "text/plain": [
       "2×2 Matrix{Float64}:\n",
       " 0.0  0.0\n",
       " 0.0  0.0"
      ]
     },
     "metadata": {},
     "output_type": "display_data"
    }
   ],
   "source": [
    "zeros(2,2)"
   ]
  },
  {
   "cell_type": "markdown",
   "id": "4c06b9c1",
   "metadata": {},
   "source": [
    "But what if we don't want our matrix to be filled with zeros? We can use the `fill()` function to create a matrix with anything we want:"
   ]
  },
  {
   "cell_type": "code",
   "execution_count": 50,
   "id": "3700f226",
   "metadata": {},
   "outputs": [
    {
     "data": {
      "text/plain": [
       "2×4 Matrix{Float64}:\n",
       " 0.5  0.5  0.5  0.5\n",
       " 0.5  0.5  0.5  0.5"
      ]
     },
     "metadata": {},
     "output_type": "display_data"
    }
   ],
   "source": [
    "fill(0.5, 2, 4)"
   ]
  },
  {
   "cell_type": "markdown",
   "id": "389d3325",
   "metadata": {},
   "source": [
    "Often, we will want to copy arrays, for example if the array represents data that we want to manipulate. Let's see what happens if we use the assignment operator:"
   ]
  },
  {
   "cell_type": "code",
   "execution_count": 51,
   "id": "9c9f4f73",
   "metadata": {},
   "outputs": [
    {
     "name": "stdout",
     "output_type": "stream",
     "text": [
      "y = [1, 0, 1]\n",
      "x = [1, 0, 1]\n"
     ]
    }
   ],
   "source": [
    "x = fill(1, 3)  # create vector `x`: [1, 1, 1]\n",
    "y=x             # copy(?) x into the new vector y\n",
    "y[2]=0          # set the second element of y equal to zero\n",
    "@show y         # what does y look like now?\n",
    "@show x;        # ... but what does x look like now?"
   ]
  },
  {
   "cell_type": "markdown",
   "id": "047b5aaa",
   "metadata": {},
   "source": [
    "What we did in the above cell is create a vector `x`, bind a new variable `y` to `x`, and then change the second entry of `y`. \n",
    "\n",
    "**We would expect this to alter `y` and not `x`, but it turns out this is not the case!**\n",
    "\n",
    "So *we can't quite \"copy\" arrays using a simple equality. Instead we may use the `copy()` function*:"
   ]
  },
  {
   "cell_type": "code",
   "execution_count": 52,
   "id": "10aee489",
   "metadata": {},
   "outputs": [
    {
     "name": "stdout",
     "output_type": "stream",
     "text": [
      "x = [1, 1, 1]\n",
      "y = [1, 0, 1]\n"
     ]
    }
   ],
   "source": [
    "x = fill(1, 3)\n",
    "y = copy(x) \n",
    "y[2] = 0\n",
    "@show x\n",
    "@show y;"
   ]
  },
  {
   "cell_type": "markdown",
   "id": "c8e4aa94",
   "metadata": {},
   "source": [
    "**Notice that `x` didn't change, as desired.**"
   ]
  },
  {
   "cell_type": "markdown",
   "id": "3d19db3c",
   "metadata": {},
   "source": [
    "What if we don't want to copy an array exactly, but instead create an array of the same data type and size?\n",
    "\n",
    "For this we can use the `similar()` function:"
   ]
  },
  {
   "cell_type": "code",
   "execution_count": 53,
   "id": "dc6304d2",
   "metadata": {},
   "outputs": [
    {
     "name": "stdout",
     "output_type": "stream",
     "text": [
      "x = [1, 1, 1]\n",
      "y = [2313589080816, 141733921282, 1]\n"
     ]
    }
   ],
   "source": [
    "x = fill(1, 3)\n",
    "y = similar(x)\n",
    "@show x\n",
    "@show y;\n"
   ]
  },
  {
   "cell_type": "markdown",
   "id": "2b436e0c",
   "metadata": {},
   "source": [
    "We may also use `similar()` to change the size while keeping the same data type:"
   ]
  },
  {
   "cell_type": "code",
   "execution_count": 54,
   "id": "194b2f0b",
   "metadata": {},
   "outputs": [
    {
     "name": "stdout",
     "output_type": "stream",
     "text": [
      "x = [1, 1, 1]\n",
      "typeof(x) = Vector{Int64}\n",
      "ndims(x) = 1\n",
      "size(x) = (3,)\n",
      "y = [776, 0, 2313480924624, 1]\n",
      "typeof(y) = Vector{Int64}\n",
      "ndims(y) = 1\n",
      "size(y) = (4,)\n"
     ]
    }
   ],
   "source": [
    "x = fill(1, 3)\n",
    "y = similar(x, 4)\n",
    "@show x\n",
    "@show typeof(x)\n",
    "@show ndims(x)\n",
    "@show size(x)\n",
    "@show y\n",
    "@show typeof(y)\n",
    "@show ndims(y)\n",
    "@show size(y); "
   ]
  },
  {
   "cell_type": "markdown",
   "id": "a29e34f0",
   "metadata": {},
   "source": [
    "We may also create a matrix similar to a vector:"
   ]
  },
  {
   "cell_type": "code",
   "execution_count": 55,
   "id": "88584c13",
   "metadata": {},
   "outputs": [
    {
     "name": "stdout",
     "output_type": "stream",
     "text": [
      "x = [1, 1, 1]\n",
      "typeof(x) = Vector{Int64}\n",
      "ndims(x) = 1\n",
      "size(x) = (3,)\n",
      "length(x) = 3\n",
      "y = [1 2313618345584; 3 2313618345616]\n",
      "typeof(y) = Matrix{Int64}\n",
      "ndims(y) = 2\n",
      "size(y) = (2, 2)\n",
      "length(y) = 4\n"
     ]
    }
   ],
   "source": [
    "x = fill(1, 3)\n",
    "y = similar(x, 2, 2)\n",
    "@show x\n",
    "@show typeof(x)\n",
    "@show ndims(x)\n",
    "@show size(x)\n",
    "@show length(x)\n",
    "@show y\n",
    "@show typeof(y)\n",
    "@show ndims(y)\n",
    "@show size(y)\n",
    "@show length(y); "
   ]
  },
  {
   "cell_type": "markdown",
   "id": "3524f7e1",
   "metadata": {},
   "source": [
    "## Array and Matrix Operations\n",
    "\n",
    "Let's create a random vector and check out some of its properties using Julia functions!"
   ]
  },
  {
   "cell_type": "code",
   "execution_count": 57,
   "id": "8bc23dab",
   "metadata": {},
   "outputs": [
    {
     "name": "stdout",
     "output_type": "stream",
     "text": [
      "length(v) = 5\n",
      "sum(v) = 1.4452012958559783\n",
      "mean(v) = 0.2890402591711957\n",
      "std(v) = 0.8341950172008715\n",
      "var(v) = 0.6958813267227624\n",
      "maximum(v) = 1.4056641962418164\n",
      "minimum(v) = -0.478980501143865\n",
      "extrema(v) = (-0.478980501143865, 1.4056641962418164)\n"
     ]
    }
   ],
   "source": [
    "v = randn(5)\n",
    "\n",
    "@show length(v)\n",
    "@show sum(v)\n",
    "@show mean(v)\n",
    "@show std(v)\n",
    "@show var(v)\n",
    "@show maximum(v)\n",
    "@show minimum(v)\n",
    "@show extrema(v);"
   ]
  },
  {
   "cell_type": "markdown",
   "id": "dcc0a43a",
   "metadata": {},
   "source": [
    "The `sort()` function works as expected:"
   ]
  },
  {
   "cell_type": "code",
   "execution_count": 58,
   "id": "3f208397",
   "metadata": {},
   "outputs": [
    {
     "name": "stdout",
     "output_type": "stream",
     "text": [
      "v = [-0.25364250935958554, 0.9488776965539445, -0.17671758643633204, -0.478980501143865, 1.4056641962418164]\n",
      "w = [-0.478980501143865, -0.25364250935958554, -0.17671758643633204, 0.9488776965539445, 1.4056641962418164]\n"
     ]
    }
   ],
   "source": [
    "w = sort(v)\n",
    "@show v\n",
    "@show w;"
   ]
  },
  {
   "cell_type": "markdown",
   "id": "8b5f7dd6",
   "metadata": {},
   "source": [
    "If we wanted to sort `w` without assigning it to a new variable, we cna use the `!` form of the function:"
   ]
  },
  {
   "cell_type": "code",
   "execution_count": 59,
   "id": "6395fd00",
   "metadata": {},
   "outputs": [
    {
     "name": "stdout",
     "output_type": "stream",
     "text": [
      "w = [-0.478980501143865, -0.25364250935958554, -0.17671758643633204, 0.9488776965539445, 1.4056641962418164]\n"
     ]
    }
   ],
   "source": [
    "sort!(w)\n",
    "@show w;"
   ]
  },
  {
   "cell_type": "markdown",
   "id": "600c6b51",
   "metadata": {},
   "source": [
    "Many Julia functions have *mutating* forms which are indicated with the `!` character. By convention, Julia functions without a `!` do not change their arguments. Those with `!` do."
   ]
  },
  {
   "cell_type": "markdown",
   "id": "d6483b69",
   "metadata": {},
   "source": [
    "### Matrix Multiplication\n",
    "\n",
    "Matrix multiplication works as expected:"
   ]
  },
  {
   "cell_type": "code",
   "execution_count": 60,
   "id": "5fbf8695",
   "metadata": {},
   "outputs": [
    {
     "name": "stdout",
     "output_type": "stream",
     "text": [
      "A * B = [3.0 3.0; 3.0 3.0]\n",
      "A * B' = [3.0 3.0; 3.0 3.0]\n",
      "A * c = [7, 5]\n",
      "c' * A = [7 5]\n"
     ]
    }
   ],
   "source": [
    "A = [1 2; 2 1]\n",
    "B = ones(2,2)\n",
    "c = [1, 3]\n",
    "\n",
    "@show A*B\n",
    "@show A*B'\n",
    "@show A*c \n",
    "@show c'*A;"
   ]
  },
  {
   "cell_type": "markdown",
   "id": "960a4acf",
   "metadata": {},
   "source": [
    "Let's solve $A \\, x = c$:"
   ]
  },
  {
   "cell_type": "code",
   "execution_count": 61,
   "id": "61c07ebe",
   "metadata": {},
   "outputs": [
    {
     "data": {
      "text/plain": [
       "true"
      ]
     },
     "metadata": {},
     "output_type": "display_data"
    }
   ],
   "source": [
    "x1 = A \\ c # the best approach\n",
    "x2 = inv(A) * c # alternative\n",
    "x1 ≈ x2 # Here we are using \\approx latex syntax + shift + Tab (in Windows, or just tab in Mac) to write the approximate symbol. \n",
    "# You can freely use latex to write greek letters and other alchemical/magical/mystical symbols if you feel like it"
   ]
  },
  {
   "cell_type": "markdown",
   "id": "70a7027c",
   "metadata": {},
   "source": [
    "In the above cell I show two equivalent ways of solving for $x$.\n",
    "\n",
    "I check their equivalence by testing whether `x1` is approximately equal to `x2` using the $\\approx$ operator.\n",
    "\n",
    "Again, you may write $\\approx$ in a code cell by typing \"\\approx\" ($\\LaTeX$ syntax) and hitting 'Tab' on your keyboard. "
   ]
  },
  {
   "cell_type": "markdown",
   "id": "9fe8d676",
   "metadata": {},
   "source": [
    "### Element-wise Operations\n",
    "\n",
    "Suppose we would like to add 1 to *every element* of a vector or matrix.\n",
    "\n",
    "To do so, we **broadcast** the addition (`+`) operator by also including a period (`.+`):"
   ]
  },
  {
   "cell_type": "code",
   "execution_count": 62,
   "id": "7dbd15e2",
   "metadata": {},
   "outputs": [
    {
     "name": "stdout",
     "output_type": "stream",
     "text": [
      "A .+ 1 = [2.0 2.0; 2.0 2.0]\n",
      "x .+ 1 = [2.0, 2.0]\n"
     ]
    }
   ],
   "source": [
    "A = ones(2,2)\n",
    "x = ones(2) \n",
    "@show A .+ 1\n",
    "@show x .+ 1;"
   ]
  },
  {
   "cell_type": "markdown",
   "id": "b6dc11e5",
   "metadata": {},
   "source": [
    "We can do this with most operations. For example, we could square every element:"
   ]
  },
  {
   "cell_type": "code",
   "execution_count": 63,
   "id": "bbeb9315",
   "metadata": {},
   "outputs": [
    {
     "name": "stdout",
     "output_type": "stream",
     "text": [
      "(A .+ 1) .^ 2 = [4.0 4.0; 4.0 4.0]\n"
     ]
    },
    {
     "data": {
      "text/plain": [
       "2×2 Matrix{Float64}:\n",
       " 4.0  4.0\n",
       " 4.0  4.0"
      ]
     },
     "metadata": {},
     "output_type": "display_data"
    }
   ],
   "source": [
    "@show (A .+ 1) .^ 2"
   ]
  },
  {
   "cell_type": "markdown",
   "id": "9fc9eb6c",
   "metadata": {},
   "source": [
    "In fact, most basic functions have a broadcast form. Here's another example:"
   ]
  },
  {
   "cell_type": "code",
   "execution_count": 64,
   "id": "414752bc",
   "metadata": {},
   "outputs": [
    {
     "name": "stdout",
     "output_type": "stream",
     "text": [
      "log.(x .+ 1) = [0.6931471805599453, 0.6931471805599453]\n"
     ]
    },
    {
     "data": {
      "text/plain": [
       "2-element Vector{Float64}:\n",
       " 0.6931471805599453\n",
       " 0.6931471805599453"
      ]
     },
     "metadata": {},
     "output_type": "display_data"
    }
   ],
   "source": [
    "@show log.(x .+ 1)"
   ]
  },
  {
   "cell_type": "markdown",
   "id": "39a5dc34",
   "metadata": {},
   "source": [
    "Broadcasting is very handy and will help you write efficient code."
   ]
  },
  {
   "cell_type": "markdown",
   "id": "80b54fe5",
   "metadata": {},
   "source": [
    "Lastly, some basic linear algebra functionality:"
   ]
  },
  {
   "cell_type": "code",
   "execution_count": 65,
   "id": "e9a0b6f1",
   "metadata": {},
   "outputs": [
    {
     "name": "stdout",
     "output_type": "stream",
     "text": [
      "det(A) = -3.0\n",
      "tr(A) = 2\n",
      "eigvals(A) = [-1.0, 3.0]\n",
      "rank(A) = 2\n"
     ]
    },
    {
     "data": {
      "text/plain": [
       "2"
      ]
     },
     "metadata": {},
     "output_type": "display_data"
    }
   ],
   "source": [
    "A = [1 2; 2 1]\n",
    "\n",
    "@show det(A)\n",
    "@show tr(A)\n",
    "@show eigvals(A)\n",
    "@show rank(A)"
   ]
  }
 ],
 "metadata": {
  "kernelspec": {
   "display_name": "Julia 1.11.6",
   "language": "julia",
   "name": "julia-1.11"
  },
  "language_info": {
   "file_extension": ".jl",
   "mimetype": "application/julia",
   "name": "julia",
   "version": "1.11.6"
  }
 },
 "nbformat": 4,
 "nbformat_minor": 5
}

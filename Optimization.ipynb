{
  "cells": [
    {
      "cell_type": "markdown",
      "metadata": {
        "slideshow": {
          "slide_type": "slide"
        }
      },
      "source": [
        "# Optimization\n",
        "<style type=\"text/css\">\n",
        "  .reveal p {\n",
        "    text-align: left;\n",
        "  }\n",
        "  .reveal ul {\n",
        "    display: block;\n",
        "  }\n",
        "  .reveal ol {\n",
        "    display: block;\n",
        "  }\n",
        "</style>"
      ]
    },
    {
      "cell_type": "code",
      "execution_count": 1,
      "metadata": {
        "slideshow": {
          "slide_type": "skip"
        }
      },
      "outputs": [
        {
          "name": "stderr",
          "output_type": "stream",
          "text": [
            "\u001b[91m\u001b[1mERROR: \u001b[22m\u001b[39mLoadError: ArgumentError: Package Compat does not have Dates in its dependencies:\n",
            "- You may have a partially installed environment. Try `Pkg.instantiate()`\n",
            "  to ensure all packages in the environment are installed.\n",
            "- Or, if you have Compat checked out for development and have\n",
            "  added Dates as a dependency but haven't updated your primary\n",
            "  environment's manifest file, try `Pkg.resolve()`.\n",
            "- Otherwise you may need to report an issue with Compat\n",
            "Stacktrace:\n",
            " [1] \u001b[0m\u001b[1mmacro expansion\u001b[22m\n",
            "\u001b[90m   @ \u001b[39m\u001b[90m./\u001b[39m\u001b[90m\u001b[4mloading.jl:1167\u001b[24m\u001b[39m\u001b[90m [inlined]\u001b[39m\n",
            " [2] \u001b[0m\u001b[1mmacro expansion\u001b[22m\n",
            "\u001b[90m   @ \u001b[39m\u001b[90m./\u001b[39m\u001b[90m\u001b[4mlock.jl:223\u001b[24m\u001b[39m\u001b[90m [inlined]\u001b[39m\n",
            " [3] \u001b[0m\u001b[1mrequire\u001b[22m\u001b[0m\u001b[1m(\u001b[22m\u001b[90minto\u001b[39m::\u001b[0mModule, \u001b[90mmod\u001b[39m::\u001b[0mSymbol\u001b[0m\u001b[1m)\u001b[22m\n",
            "\u001b[90m   @ \u001b[39m\u001b[90mBase\u001b[39m \u001b[90m./\u001b[39m\u001b[90m\u001b[4mloading.jl:1144\u001b[24m\u001b[39m\n",
            " [4] top-level scope\n",
            "\u001b[90m   @ \u001b[39m\u001b[90m~/.julia/packages/Compat/gd6AI/src/\u001b[39m\u001b[90m\u001b[4mCompat.jl:8\u001b[24m\u001b[39m\n",
            " [5] \u001b[0m\u001b[1minclude\u001b[22m\n",
            "\u001b[90m   @ \u001b[39m\u001b[90m./\u001b[39m\u001b[90m\u001b[4mBase.jl:419\u001b[24m\u001b[39m\u001b[90m [inlined]\u001b[39m\n",
            " [6] \u001b[0m\u001b[1minclude_package_for_output\u001b[22m\u001b[0m\u001b[1m(\u001b[22m\u001b[90mpkg\u001b[39m::\u001b[0mBase.PkgId, \u001b[90minput\u001b[39m::\u001b[0mString, \u001b[90mdepot_path\u001b[39m::\u001b[0mVector\u001b[90m{String}\u001b[39m, \u001b[90mdl_load_path\u001b[39m::\u001b[0mVector\u001b[90m{String}\u001b[39m, \u001b[90mload_path\u001b[39m::\u001b[0mVector\u001b[90m{String}\u001b[39m, \u001b[90mconcrete_deps\u001b[39m::\u001b[0mVector\u001b[90m{Pair{Base.PkgId, UInt64}}\u001b[39m, \u001b[90msource\u001b[39m::\u001b[0mString\u001b[0m\u001b[1m)\u001b[22m\n",
            "\u001b[90m   @ \u001b[39m\u001b[90mBase\u001b[39m \u001b[90m./\u001b[39m\u001b[90m\u001b[4mloading.jl:1554\u001b[24m\u001b[39m\n",
            " [7] top-level scope\n",
            "\u001b[90m   @ \u001b[39m\u001b[90m\u001b[4mstdin:1\u001b[24m\u001b[39m\n",
            "in expression starting at /Users/devans/.julia/packages/Compat/gd6AI/src/Compat.jl:1\n",
            "in expression starting at stdin:1\n",
            "\u001b[91m\u001b[1mERROR: \u001b[22m\u001b[39mLoadError: Failed to precompile Compat [34da2185-b29b-5c13-b0c7-acf172513d20] to /Users/devans/.julia/compiled/v1.8/Compat/jl_A1l0oR.\n",
            "Stacktrace:\n",
            "  [1] \u001b[0m\u001b[1merror\u001b[22m\u001b[0m\u001b[1m(\u001b[22m\u001b[90ms\u001b[39m::\u001b[0mString\u001b[0m\u001b[1m)\u001b[22m\n",
            "\u001b[90m    @ \u001b[39m\u001b[90mBase\u001b[39m \u001b[90m./\u001b[39m\u001b[90m\u001b[4merror.jl:35\u001b[24m\u001b[39m\n",
            "  [2] \u001b[0m\u001b[1mcompilecache\u001b[22m\u001b[0m\u001b[1m(\u001b[22m\u001b[90mpkg\u001b[39m::\u001b[0mBase.PkgId, \u001b[90mpath\u001b[39m::\u001b[0mString, \u001b[90minternal_stderr\u001b[39m::\u001b[0mIO, \u001b[90minternal_stdout\u001b[39m::\u001b[0mIO, \u001b[90mkeep_loaded_modules\u001b[39m::\u001b[0mBool\u001b[0m\u001b[1m)\u001b[22m\n",
            "\u001b[90m    @ \u001b[39m\u001b[90mBase\u001b[39m \u001b[90m./\u001b[39m\u001b[90m\u001b[4mloading.jl:1707\u001b[24m\u001b[39m\n",
            "  [3] \u001b[0m\u001b[1mcompilecache\u001b[22m\n",
            "\u001b[90m    @ \u001b[39m\u001b[90m./\u001b[39m\u001b[90m\u001b[4mloading.jl:1651\u001b[24m\u001b[39m\u001b[90m [inlined]\u001b[39m\n",
            "  [4] \u001b[0m\u001b[1m_require\u001b[22m\u001b[0m\u001b[1m(\u001b[22m\u001b[90mpkg\u001b[39m::\u001b[0mBase.PkgId\u001b[0m\u001b[1m)\u001b[22m\n",
            "\u001b[90m    @ \u001b[39m\u001b[90mBase\u001b[39m \u001b[90m./\u001b[39m\u001b[90m\u001b[4mloading.jl:1337\u001b[24m\u001b[39m\n",
            "  [5] \u001b[0m\u001b[1m_require_prelocked\u001b[22m\u001b[0m\u001b[1m(\u001b[22m\u001b[90muuidkey\u001b[39m::\u001b[0mBase.PkgId\u001b[0m\u001b[1m)\u001b[22m\n",
            "\u001b[90m    @ \u001b[39m\u001b[90mBase\u001b[39m \u001b[90m./\u001b[39m\u001b[90m\u001b[4mloading.jl:1200\u001b[24m\u001b[39m\n",
            "  [6] \u001b[0m\u001b[1mmacro expansion\u001b[22m\n",
            "\u001b[90m    @ \u001b[39m\u001b[90m./\u001b[39m\u001b[90m\u001b[4mloading.jl:1180\u001b[24m\u001b[39m\u001b[90m [inlined]\u001b[39m\n",
            "  [7] \u001b[0m\u001b[1mmacro expansion\u001b[22m\n",
            "\u001b[90m    @ \u001b[39m\u001b[90m./\u001b[39m\u001b[90m\u001b[4mlock.jl:223\u001b[24m\u001b[39m\u001b[90m [inlined]\u001b[39m\n",
            "  [8] \u001b[0m\u001b[1mrequire\u001b[22m\u001b[0m\u001b[1m(\u001b[22m\u001b[90minto\u001b[39m::\u001b[0mModule, \u001b[90mmod\u001b[39m::\u001b[0mSymbol\u001b[0m\u001b[1m)\u001b[22m\n",
            "\u001b[90m    @ \u001b[39m\u001b[90mBase\u001b[39m \u001b[90m./\u001b[39m\u001b[90m\u001b[4mloading.jl:1144\u001b[24m\u001b[39m\n",
            "  [9] \u001b[0m\u001b[1minclude\u001b[22m\n",
            "\u001b[90m    @ \u001b[39m\u001b[90m./\u001b[39m\u001b[90m\u001b[4mBase.jl:419\u001b[24m\u001b[39m\u001b[90m [inlined]\u001b[39m\n",
            " [10] \u001b[0m\u001b[1minclude_package_for_output\u001b[22m\u001b[0m\u001b[1m(\u001b[22m\u001b[90mpkg\u001b[39m::\u001b[0mBase.PkgId, \u001b[90minput\u001b[39m::\u001b[0mString, \u001b[90mdepot_path\u001b[39m::\u001b[0mVector\u001b[90m{String}\u001b[39m, \u001b[90mdl_load_path\u001b[39m::\u001b[0mVector\u001b[90m{String}\u001b[39m, \u001b[90mload_path\u001b[39m::\u001b[0mVector\u001b[90m{String}\u001b[39m, \u001b[90mconcrete_deps\u001b[39m::\u001b[0mVector\u001b[90m{Pair{Base.PkgId, UInt64}}\u001b[39m, \u001b[90msource\u001b[39m::\u001b[0mString\u001b[0m\u001b[1m)\u001b[22m\n",
            "\u001b[90m    @ \u001b[39m\u001b[90mBase\u001b[39m \u001b[90m./\u001b[39m\u001b[90m\u001b[4mloading.jl:1554\u001b[24m\u001b[39m\n",
            " [11] top-level scope\n",
            "\u001b[90m    @ \u001b[39m\u001b[90m\u001b[4mstdin:1\u001b[24m\u001b[39m\n",
            "in expression starting at /Users/devans/.julia/packages/DataStructures/95DJa/src/DataStructures.jl:1\n",
            "in expression starting at stdin:1\n",
            "\u001b[91m\u001b[1mERROR: \u001b[22m\u001b[39mLoadError: Failed to precompile DataStructures [864edb3b-99cc-5e75-8d2d-829cb0a9cfe8] to /Users/devans/.julia/compiled/v1.8/DataStructures/jl_ic6GgH.\n",
            "Stacktrace:\n",
            "  [1] \u001b[0m\u001b[1merror\u001b[22m\u001b[0m\u001b[1m(\u001b[22m\u001b[90ms\u001b[39m::\u001b[0mString\u001b[0m\u001b[1m)\u001b[22m\n",
            "\u001b[90m    @ \u001b[39m\u001b[90mBase\u001b[39m \u001b[90m./\u001b[39m\u001b[90m\u001b[4merror.jl:35\u001b[24m\u001b[39m\n",
            "  [2] \u001b[0m\u001b[1mcompilecache\u001b[22m\u001b[0m\u001b[1m(\u001b[22m\u001b[90mpkg\u001b[39m::\u001b[0mBase.PkgId, \u001b[90mpath\u001b[39m::\u001b[0mString, \u001b[90minternal_stderr\u001b[39m::\u001b[0mIO, \u001b[90minternal_stdout\u001b[39m::\u001b[0mIO, \u001b[90mkeep_loaded_modules\u001b[39m::\u001b[0mBool\u001b[0m\u001b[1m)\u001b[22m\n",
            "\u001b[90m    @ \u001b[39m\u001b[90mBase\u001b[39m \u001b[90m./\u001b[39m\u001b[90m\u001b[4mloading.jl:1707\u001b[24m\u001b[39m\n",
            "  [3] \u001b[0m\u001b[1mcompilecache\u001b[22m\n",
            "\u001b[90m    @ \u001b[39m\u001b[90m./\u001b[39m\u001b[90m\u001b[4mloading.jl:1651\u001b[24m\u001b[39m\u001b[90m [inlined]\u001b[39m\n",
            "  [4] \u001b[0m\u001b[1m_require\u001b[22m\u001b[0m\u001b[1m(\u001b[22m\u001b[90mpkg\u001b[39m::\u001b[0mBase.PkgId\u001b[0m\u001b[1m)\u001b[22m\n",
            "\u001b[90m    @ \u001b[39m\u001b[90mBase\u001b[39m \u001b[90m./\u001b[39m\u001b[90m\u001b[4mloading.jl:1337\u001b[24m\u001b[39m\n",
            "  [5] \u001b[0m\u001b[1m_require_prelocked\u001b[22m\u001b[0m\u001b[1m(\u001b[22m\u001b[90muuidkey\u001b[39m::\u001b[0mBase.PkgId\u001b[0m\u001b[1m)\u001b[22m\n",
            "\u001b[90m    @ \u001b[39m\u001b[90mBase\u001b[39m \u001b[90m./\u001b[39m\u001b[90m\u001b[4mloading.jl:1200\u001b[24m\u001b[39m\n",
            "  [6] \u001b[0m\u001b[1mmacro expansion\u001b[22m\n",
            "\u001b[90m    @ \u001b[39m\u001b[90m./\u001b[39m\u001b[90m\u001b[4mloading.jl:1180\u001b[24m\u001b[39m\u001b[90m [inlined]\u001b[39m\n",
            "  [7] \u001b[0m\u001b[1mmacro expansion\u001b[22m\n",
            "\u001b[90m    @ \u001b[39m\u001b[90m./\u001b[39m\u001b[90m\u001b[4mlock.jl:223\u001b[24m\u001b[39m\u001b[90m [inlined]\u001b[39m\n",
            "  [8] \u001b[0m\u001b[1mrequire\u001b[22m\u001b[0m\u001b[1m(\u001b[22m\u001b[90minto\u001b[39m::\u001b[0mModule, \u001b[90mmod\u001b[39m::\u001b[0mSymbol\u001b[0m\u001b[1m)\u001b[22m\n",
            "\u001b[90m    @ \u001b[39m\u001b[90mBase\u001b[39m \u001b[90m./\u001b[39m\u001b[90m\u001b[4mloading.jl:1144\u001b[24m\u001b[39m\n",
            "  [9] \u001b[0m\u001b[1minclude\u001b[22m\n",
            "\u001b[90m    @ \u001b[39m\u001b[90m./\u001b[39m\u001b[90m\u001b[4mBase.jl:419\u001b[24m\u001b[39m\u001b[90m [inlined]\u001b[39m\n",
            " [10] \u001b[0m\u001b[1minclude_package_for_output\u001b[22m\u001b[0m\u001b[1m(\u001b[22m\u001b[90mpkg\u001b[39m::\u001b[0mBase.PkgId, \u001b[90minput\u001b[39m::\u001b[0mString, \u001b[90mdepot_path\u001b[39m::\u001b[0mVector\u001b[90m{String}\u001b[39m, \u001b[90mdl_load_path\u001b[39m::\u001b[0mVector\u001b[90m{String}\u001b[39m, \u001b[90mload_path\u001b[39m::\u001b[0mVector\u001b[90m{String}\u001b[39m, \u001b[90mconcrete_deps\u001b[39m::\u001b[0mVector\u001b[90m{Pair{Base.PkgId, UInt64}}\u001b[39m, \u001b[90msource\u001b[39m::\u001b[0mString\u001b[0m\u001b[1m)\u001b[22m\n",
            "\u001b[90m    @ \u001b[39m\u001b[90mBase\u001b[39m \u001b[90m./\u001b[39m\u001b[90m\u001b[4mloading.jl:1554\u001b[24m\u001b[39m\n",
            " [11] top-level scope\n",
            "\u001b[90m    @ \u001b[39m\u001b[90m\u001b[4mstdin:1\u001b[24m\u001b[39m\n",
            "in expression starting at /Users/devans/.julia/packages/StatsBase/ebrT3/src/StatsBase.jl:1\n",
            "in expression starting at stdin:1\n",
            "\u001b[91m\u001b[1mERROR: \u001b[22m\u001b[39mLoadError: Failed to precompile StatsBase [2913bbd2-ae8a-5f71-8c99-4fb6c76f3a91] to /Users/devans/.julia/compiled/v1.8/StatsBase/jl_CZ5hoj.\n",
            "Stacktrace:\n",
            "  [1] \u001b[0m\u001b[1merror\u001b[22m\u001b[0m\u001b[1m(\u001b[22m\u001b[90ms\u001b[39m::\u001b[0mString\u001b[0m\u001b[1m)\u001b[22m\n",
            "\u001b[90m    @ \u001b[39m\u001b[90mBase\u001b[39m \u001b[90m./\u001b[39m\u001b[90m\u001b[4merror.jl:35\u001b[24m\u001b[39m\n",
            "  [2] \u001b[0m\u001b[1mcompilecache\u001b[22m\u001b[0m\u001b[1m(\u001b[22m\u001b[90mpkg\u001b[39m::\u001b[0mBase.PkgId, \u001b[90mpath\u001b[39m::\u001b[0mString, \u001b[90minternal_stderr\u001b[39m::\u001b[0mIO, \u001b[90minternal_stdout\u001b[39m::\u001b[0mIO, \u001b[90mkeep_loaded_modules\u001b[39m::\u001b[0mBool\u001b[0m\u001b[1m)\u001b[22m\n",
            "\u001b[90m    @ \u001b[39m\u001b[90mBase\u001b[39m \u001b[90m./\u001b[39m\u001b[90m\u001b[4mloading.jl:1707\u001b[24m\u001b[39m\n",
            "  [3] \u001b[0m\u001b[1mcompilecache\u001b[22m\n",
            "\u001b[90m    @ \u001b[39m\u001b[90m./\u001b[39m\u001b[90m\u001b[4mloading.jl:1651\u001b[24m\u001b[39m\u001b[90m [inlined]\u001b[39m\n",
            "  [4] \u001b[0m\u001b[1m_require\u001b[22m\u001b[0m\u001b[1m(\u001b[22m\u001b[90mpkg\u001b[39m::\u001b[0mBase.PkgId\u001b[0m\u001b[1m)\u001b[22m\n",
            "\u001b[90m    @ \u001b[39m\u001b[90mBase\u001b[39m \u001b[90m./\u001b[39m\u001b[90m\u001b[4mloading.jl:1337\u001b[24m\u001b[39m\n",
            "  [5] \u001b[0m\u001b[1m_require_prelocked\u001b[22m\u001b[0m\u001b[1m(\u001b[22m\u001b[90muuidkey\u001b[39m::\u001b[0mBase.PkgId\u001b[0m\u001b[1m)\u001b[22m\n",
            "\u001b[90m    @ \u001b[39m\u001b[90mBase\u001b[39m \u001b[90m./\u001b[39m\u001b[90m\u001b[4mloading.jl:1200\u001b[24m\u001b[39m\n",
            "  [6] \u001b[0m\u001b[1mmacro expansion\u001b[22m\n",
            "\u001b[90m    @ \u001b[39m\u001b[90m./\u001b[39m\u001b[90m\u001b[4mloading.jl:1180\u001b[24m\u001b[39m\u001b[90m [inlined]\u001b[39m\n",
            "  [7] \u001b[0m\u001b[1mmacro expansion\u001b[22m\n",
            "\u001b[90m    @ \u001b[39m\u001b[90m./\u001b[39m\u001b[90m\u001b[4mlock.jl:223\u001b[24m\u001b[39m\u001b[90m [inlined]\u001b[39m\n",
            "  [8] \u001b[0m\u001b[1mrequire\u001b[22m\u001b[0m\u001b[1m(\u001b[22m\u001b[90minto\u001b[39m::\u001b[0mModule, \u001b[90mmod\u001b[39m::\u001b[0mSymbol\u001b[0m\u001b[1m)\u001b[22m\n",
            "\u001b[90m    @ \u001b[39m\u001b[90mBase\u001b[39m \u001b[90m./\u001b[39m\u001b[90m\u001b[4mloading.jl:1144\u001b[24m\u001b[39m\n",
            "  [9] \u001b[0m\u001b[1minclude\u001b[22m\n",
            "\u001b[90m    @ \u001b[39m\u001b[90m./\u001b[39m\u001b[90m\u001b[4mBase.jl:419\u001b[24m\u001b[39m\u001b[90m [inlined]\u001b[39m\n",
            " [10] \u001b[0m\u001b[1minclude_package_for_output\u001b[22m\u001b[0m\u001b[1m(\u001b[22m\u001b[90mpkg\u001b[39m::\u001b[0mBase.PkgId, \u001b[90minput\u001b[39m::\u001b[0mString, \u001b[90mdepot_path\u001b[39m::\u001b[0mVector\u001b[90m{String}\u001b[39m, \u001b[90mdl_load_path\u001b[39m::\u001b[0mVector\u001b[90m{String}\u001b[39m, \u001b[90mload_path\u001b[39m::\u001b[0mVector\u001b[90m{String}\u001b[39m, \u001b[90mconcrete_deps\u001b[39m::\u001b[0mVector\u001b[90m{Pair{Base.PkgId, UInt64}}\u001b[39m, \u001b[90msource\u001b[39m::\u001b[0mString\u001b[0m\u001b[1m)\u001b[22m\n",
            "\u001b[90m    @ \u001b[39m\u001b[90mBase\u001b[39m \u001b[90m./\u001b[39m\u001b[90m\u001b[4mloading.jl:1554\u001b[24m\u001b[39m\n",
            " [11] top-level scope\n",
            "\u001b[90m    @ \u001b[39m\u001b[90m\u001b[4mstdin:1\u001b[24m\u001b[39m\n",
            "in expression starting at /Users/devans/.julia/packages/Plots/kLeqV/src/Plots.jl:1\n",
            "in expression starting at stdin:1\n"
          ]
        },
        {
          "ename": "ErrorException",
          "evalue": "Failed to precompile Plots [91a5bcdd-55d7-5caf-9e0b-520d859cae80] to /Users/devans/.julia/compiled/v1.8/Plots/jl_fjlRVY.",
          "output_type": "error",
          "traceback": [
            "Failed to precompile Plots [91a5bcdd-55d7-5caf-9e0b-520d859cae80] to /Users/devans/.julia/compiled/v1.8/Plots/jl_fjlRVY.\n",
            "\n",
            "Stacktrace:\n",
            "  [1] error(s::String)\n",
            "    @ Base ./error.jl:35\n",
            "  [2] compilecache(pkg::Base.PkgId, path::String, internal_stderr::IO, internal_stdout::IO, keep_loaded_modules::Bool)\n",
            "    @ Base ./loading.jl:1707\n",
            "  [3] compilecache\n",
            "    @ ./loading.jl:1651 [inlined]\n",
            "  [4] _require(pkg::Base.PkgId)\n",
            "    @ Base ./loading.jl:1337\n",
            "  [5] _require_prelocked(uuidkey::Base.PkgId)\n",
            "    @ Base ./loading.jl:1200\n",
            "  [6] macro expansion\n",
            "    @ ./loading.jl:1180 [inlined]\n",
            "  [7] macro expansion\n",
            "    @ ./lock.jl:223 [inlined]\n",
            "  [8] require(into::Module, mod::Symbol)\n",
            "    @ Base ./loading.jl:1144\n",
            "  [9] eval\n",
            "    @ ./boot.jl:368 [inlined]\n",
            " [10] include_string(mapexpr::typeof(REPL.softscope), mod::Module, code::String, filename::String)\n",
            "    @ Base ./loading.jl:1428\n",
            " [11] #invokelatest#2\n",
            "    @ ./essentials.jl:729 [inlined]\n",
            " [12] invokelatest\n",
            "    @ ./essentials.jl:726 [inlined]\n",
            " [13] (::VSCodeServer.var\"#217#218\"{VSCodeServer.NotebookRunCellArguments, String})()\n",
            "    @ VSCodeServer ~/.vscode/extensions/julialang.language-julia-1.127.2/scripts/packages/VSCodeServer/src/serve_notebook.jl:24\n",
            " [14] withpath(f::VSCodeServer.var\"#217#218\"{VSCodeServer.NotebookRunCellArguments, String}, path::String)\n",
            "    @ VSCodeServer ~/.vscode/extensions/julialang.language-julia-1.127.2/scripts/packages/VSCodeServer/src/repl.jl:276\n",
            " [15] notebook_runcell_request(conn::VSCodeServer.JSONRPC.JSONRPCEndpoint{Base.PipeEndpoint, Base.PipeEndpoint}, params::VSCodeServer.NotebookRunCellArguments)\n",
            "    @ VSCodeServer ~/.vscode/extensions/julialang.language-julia-1.127.2/scripts/packages/VSCodeServer/src/serve_notebook.jl:13\n",
            " [16] dispatch_msg(x::VSCodeServer.JSONRPC.JSONRPCEndpoint{Base.PipeEndpoint, Base.PipeEndpoint}, dispatcher::VSCodeServer.JSONRPC.MsgDispatcher, msg::Dict{String, Any})\n",
            "    @ VSCodeServer.JSONRPC ~/.vscode/extensions/julialang.language-julia-1.127.2/scripts/packages/JSONRPC/src/typed.jl:67\n",
            " [17] serve_notebook(pipename::String, debugger_pipename::String, outputchannel_logger::Base.CoreLogging.SimpleLogger; error_handler::var\"#5#10\"{String})\n",
            "    @ VSCodeServer ~/.vscode/extensions/julialang.language-julia-1.127.2/scripts/packages/VSCodeServer/src/serve_notebook.jl:147\n",
            " [18] top-level scope\n",
            "    @ ~/.vscode/extensions/julialang.language-julia-1.127.2/scripts/notebook/notebook.jl:35"
          ]
        }
      ],
      "source": [
        "using Plots\n",
        "default(linewidth=2,legend=false,margin=10Plots.mm)"
      ]
    },
    {
      "cell_type": "markdown",
      "metadata": {
        "slideshow": {
          "slide_type": "slide"
        }
      },
      "source": [
        "## Introduction\n",
        "\n",
        "*  In economics we often find our selves needing to maximize some objective function\n",
        "\n",
        "* i.e. solve a problem of the form\n",
        "$$\n",
        "    \\max_{\\mathbf x} f(\\mathbf x)\n",
        "$$\n",
        "subject to \n",
        "\\begin{align*}\n",
        "    g_i(\\mathbf x)&\\leq 0\\\\\n",
        "    r_j(\\mathbf x)&= 0\n",
        "\\end{align*}\n",
        "\n",
        "* Well begin by looking at \n",
        "$$\n",
        "    \\min_{\\mathbf x} f(\\mathbf x)\n",
        "$$\n"
      ]
    },
    {
      "cell_type": "markdown",
      "metadata": {
        "slideshow": {
          "slide_type": "subslide"
        }
      },
      "source": [
        "\n",
        "## Isomorphism \n",
        "* Start with the standard minimization problem\n",
        "$$\n",
        "    \\min_{\\mathbf x} f(\\mathbf x)\n",
        "$$\n",
        "\n",
        "* If concave, this is isomorphic to the root-solving problem\n",
        "$$\n",
        "    \\nabla f(\\mathbf x) = 0\n",
        "$$\n",
        "\n",
        "*  The multivariate root-finding problem \n",
        "$$\n",
        "    g^i(\\mathbf x) = 0\n",
        "$$\n",
        "can be recast as\n",
        "$$\n",
        "    \\min_{\\mathbf x} \\sum_i g^i(\\mathbf x)^2\n",
        "$$"
      ]
    },
    {
      "cell_type": "markdown",
      "metadata": {
        "slideshow": {
          "slide_type": "subslide"
        }
      },
      "source": [
        "## Basic Concepts\n",
        "* All methods: *Search the space of feasible choices by generating a sequence of guesses that (hopefully) converges to a solution.*\n",
        "\n",
        "* Essentially two types:\n",
        "    * **Comparison Methods:** Compute objective at valious points, find the one which gives smallest value\n",
        "    * **Gradient Based Methods:**  Use information on the slope (and possibly hessian!)\n",
        "\n",
        "* All these methods will find **local** minima.  \n",
        "    * Not a problem if you minimization problem is convex\n",
        "\n",
        "* If not, need multiple initializations to be sure a global minimum is found\n",
        "    * Note: can do this after value function has converged if used in dynamic optimzation."
      ]
    },
    {
      "cell_type": "markdown",
      "metadata": {
        "slideshow": {
          "slide_type": "subslide"
        }
      },
      "source": [
        "## How to Choose an Algorithm\n",
        "\n",
        "* **Speed:**  Optimization is likely goiong to be in the innermost loop\n",
        "\n",
        "    * Want a fast algorithm: i.e. minimizes number of function evaluations\n",
        "\n",
        "    * Gradient Based methods generally involve fewer evaluations\n",
        "\n",
        "* **Robustness to Nonsmoothness:**  If you objective function is not smooth gradient based methods will have difficulty, can get stuck \n",
        "\n",
        "    * Comparison methods are generally better behaved\n",
        "\n",
        "* **Robustness to starting parameters:**  Gradient based are also more likely to find different local minima at different starting values\n",
        "\n",
        "    * Stochastic comparison methods (like simulated annealing) are more likely to find global minima"
      ]
    },
    {
      "cell_type": "markdown",
      "metadata": {
        "slideshow": {
          "slide_type": "subslide"
        }
      },
      "source": [
        "## Bracketing Method\n",
        "* Similar to Brent root search algorithm\n",
        "\n",
        "    * Most reliable method for one dimensional problems\n",
        "\n",
        "    * Guaranteed to find local minima for continuous functions\n",
        "\n",
        "* Initialization: Choose triple $(a,b,c)$ such that $a<b<c$ and  $f(a),f(c) >f(b)$\n",
        "\n",
        "    * Note this implies there must be a local minima in $[a,c]$\n",
        "\n",
        "* Choose $d\\in(a,b)$\n",
        "\n",
        "    * If $f(d) > f(b)$ then there is a minima in $[d,c]$ choose new triple $(d,b,c)$\n",
        "\n",
        "    * If $f(d) < f(b)$ then there is a minima in $[a,b]$ choose new triple $(a,d,b)$\n",
        "\n",
        "* Update the triple $(a,b,c)$ to the new one in previous step\n",
        "\n",
        "* Stop if $c-a <\\delta$\n",
        "\n",
        "* **Golden Search** provides optimal way to choose $b,d$"
      ]
    },
    {
      "cell_type": "markdown",
      "metadata": {
        "slideshow": {
          "slide_type": "subslide"
        }
      },
      "source": [
        "\n",
        "\n",
        "\n",
        "\n",
        "## Example function"
      ]
    },
    {
      "cell_type": "code",
      "execution_count": 2,
      "metadata": {},
      "outputs": [
        {
          "name": "stderr",
          "output_type": "stream",
          "text": [
            "\u001b[91m\u001b[1mERROR: \u001b[22m\u001b[39mLoadError: ArgumentError: Package Compat does not have Dates in its dependencies:\n",
            "- You may have a partially installed environment. Try `Pkg.instantiate()`\n",
            "  to ensure all packages in the environment are installed.\n",
            "- Or, if you have Compat checked out for development and have\n",
            "  added Dates as a dependency but haven't updated your primary\n",
            "  environment's manifest file, try `Pkg.resolve()`.\n",
            "- Otherwise you may need to report an issue with Compat\n",
            "Stacktrace:\n",
            " [1] \u001b[0m\u001b[1mmacro expansion\u001b[22m\n",
            "\u001b[90m   @ \u001b[39m\u001b[90m./\u001b[39m\u001b[90m\u001b[4mloading.jl:1167\u001b[24m\u001b[39m\u001b[90m [inlined]\u001b[39m\n",
            " [2] \u001b[0m\u001b[1mmacro expansion\u001b[22m\n",
            "\u001b[90m   @ \u001b[39m\u001b[90m./\u001b[39m\u001b[90m\u001b[4mlock.jl:223\u001b[24m\u001b[39m\u001b[90m [inlined]\u001b[39m\n",
            " [3] \u001b[0m\u001b[1mrequire\u001b[22m\u001b[0m\u001b[1m(\u001b[22m\u001b[90minto\u001b[39m::\u001b[0mModule, \u001b[90mmod\u001b[39m::\u001b[0mSymbol\u001b[0m\u001b[1m)\u001b[22m\n",
            "\u001b[90m   @ \u001b[39m\u001b[90mBase\u001b[39m \u001b[90m./\u001b[39m\u001b[90m\u001b[4mloading.jl:1144\u001b[24m\u001b[39m\n",
            " [4] top-level scope\n",
            "\u001b[90m   @ \u001b[39m\u001b[90m~/.julia/packages/Compat/gd6AI/src/\u001b[39m\u001b[90m\u001b[4mCompat.jl:8\u001b[24m\u001b[39m\n",
            " [5] \u001b[0m\u001b[1minclude\u001b[22m\n",
            "\u001b[90m   @ \u001b[39m\u001b[90m./\u001b[39m\u001b[90m\u001b[4mBase.jl:419\u001b[24m\u001b[39m\u001b[90m [inlined]\u001b[39m\n",
            " [6] \u001b[0m\u001b[1minclude_package_for_output\u001b[22m\u001b[0m\u001b[1m(\u001b[22m\u001b[90mpkg\u001b[39m::\u001b[0mBase.PkgId, \u001b[90minput\u001b[39m::\u001b[0mString, \u001b[90mdepot_path\u001b[39m::\u001b[0mVector\u001b[90m{String}\u001b[39m, \u001b[90mdl_load_path\u001b[39m::\u001b[0mVector\u001b[90m{String}\u001b[39m, \u001b[90mload_path\u001b[39m::\u001b[0mVector\u001b[90m{String}\u001b[39m, \u001b[90mconcrete_deps\u001b[39m::\u001b[0mVector\u001b[90m{Pair{Base.PkgId, UInt64}}\u001b[39m, \u001b[90msource\u001b[39m::\u001b[0mString\u001b[0m\u001b[1m)\u001b[22m\n",
            "\u001b[90m   @ \u001b[39m\u001b[90mBase\u001b[39m \u001b[90m./\u001b[39m\u001b[90m\u001b[4mloading.jl:1554\u001b[24m\u001b[39m\n",
            " [7] top-level scope\n",
            "\u001b[90m   @ \u001b[39m\u001b[90m\u001b[4mstdin:1\u001b[24m\u001b[39m\n",
            "in expression starting at /Users/devans/.julia/packages/Compat/gd6AI/src/Compat.jl:1\n",
            "in expression starting at stdin:1\n",
            "\u001b[91m\u001b[1mERROR: \u001b[22m\u001b[39mLoadError: Failed to precompile Compat [34da2185-b29b-5c13-b0c7-acf172513d20] to /Users/devans/.julia/compiled/v1.8/Compat/jl_d5n3BC.\n",
            "Stacktrace:\n",
            "  [1] \u001b[0m\u001b[1merror\u001b[22m\u001b[0m\u001b[1m(\u001b[22m\u001b[90ms\u001b[39m::\u001b[0mString\u001b[0m\u001b[1m)\u001b[22m\n",
            "\u001b[90m    @ \u001b[39m\u001b[90mBase\u001b[39m \u001b[90m./\u001b[39m\u001b[90m\u001b[4merror.jl:35\u001b[24m\u001b[39m\n",
            "  [2] \u001b[0m\u001b[1mcompilecache\u001b[22m\u001b[0m\u001b[1m(\u001b[22m\u001b[90mpkg\u001b[39m::\u001b[0mBase.PkgId, \u001b[90mpath\u001b[39m::\u001b[0mString, \u001b[90minternal_stderr\u001b[39m::\u001b[0mIO, \u001b[90minternal_stdout\u001b[39m::\u001b[0mIO, \u001b[90mkeep_loaded_modules\u001b[39m::\u001b[0mBool\u001b[0m\u001b[1m)\u001b[22m\n",
            "\u001b[90m    @ \u001b[39m\u001b[90mBase\u001b[39m \u001b[90m./\u001b[39m\u001b[90m\u001b[4mloading.jl:1707\u001b[24m\u001b[39m\n",
            "  [3] \u001b[0m\u001b[1mcompilecache\u001b[22m\n",
            "\u001b[90m    @ \u001b[39m\u001b[90m./\u001b[39m\u001b[90m\u001b[4mloading.jl:1651\u001b[24m\u001b[39m\u001b[90m [inlined]\u001b[39m\n",
            "  [4] \u001b[0m\u001b[1m_require\u001b[22m\u001b[0m\u001b[1m(\u001b[22m\u001b[90mpkg\u001b[39m::\u001b[0mBase.PkgId\u001b[0m\u001b[1m)\u001b[22m\n",
            "\u001b[90m    @ \u001b[39m\u001b[90mBase\u001b[39m \u001b[90m./\u001b[39m\u001b[90m\u001b[4mloading.jl:1337\u001b[24m\u001b[39m\n",
            "  [5] \u001b[0m\u001b[1m_require_prelocked\u001b[22m\u001b[0m\u001b[1m(\u001b[22m\u001b[90muuidkey\u001b[39m::\u001b[0mBase.PkgId\u001b[0m\u001b[1m)\u001b[22m\n",
            "\u001b[90m    @ \u001b[39m\u001b[90mBase\u001b[39m \u001b[90m./\u001b[39m\u001b[90m\u001b[4mloading.jl:1200\u001b[24m\u001b[39m\n",
            "  [6] \u001b[0m\u001b[1mmacro expansion\u001b[22m\n",
            "\u001b[90m    @ \u001b[39m\u001b[90m./\u001b[39m\u001b[90m\u001b[4mloading.jl:1180\u001b[24m\u001b[39m\u001b[90m [inlined]\u001b[39m\n",
            "  [7] \u001b[0m\u001b[1mmacro expansion\u001b[22m\n",
            "\u001b[90m    @ \u001b[39m\u001b[90m./\u001b[39m\u001b[90m\u001b[4mlock.jl:223\u001b[24m\u001b[39m\u001b[90m [inlined]\u001b[39m\n",
            "  [8] \u001b[0m\u001b[1mrequire\u001b[22m\u001b[0m\u001b[1m(\u001b[22m\u001b[90minto\u001b[39m::\u001b[0mModule, \u001b[90mmod\u001b[39m::\u001b[0mSymbol\u001b[0m\u001b[1m)\u001b[22m\n",
            "\u001b[90m    @ \u001b[39m\u001b[90mBase\u001b[39m \u001b[90m./\u001b[39m\u001b[90m\u001b[4mloading.jl:1144\u001b[24m\u001b[39m\n",
            "  [9] \u001b[0m\u001b[1minclude\u001b[22m\n",
            "\u001b[90m    @ \u001b[39m\u001b[90m./\u001b[39m\u001b[90m\u001b[4mBase.jl:419\u001b[24m\u001b[39m\u001b[90m [inlined]\u001b[39m\n",
            " [10] \u001b[0m\u001b[1minclude_package_for_output\u001b[22m\u001b[0m\u001b[1m(\u001b[22m\u001b[90mpkg\u001b[39m::\u001b[0mBase.PkgId, \u001b[90minput\u001b[39m::\u001b[0mString, \u001b[90mdepot_path\u001b[39m::\u001b[0mVector\u001b[90m{String}\u001b[39m, \u001b[90mdl_load_path\u001b[39m::\u001b[0mVector\u001b[90m{String}\u001b[39m, \u001b[90mload_path\u001b[39m::\u001b[0mVector\u001b[90m{String}\u001b[39m, \u001b[90mconcrete_deps\u001b[39m::\u001b[0mVector\u001b[90m{Pair{Base.PkgId, UInt64}}\u001b[39m, \u001b[90msource\u001b[39m::\u001b[0mString\u001b[0m\u001b[1m)\u001b[22m\n",
            "\u001b[90m    @ \u001b[39m\u001b[90mBase\u001b[39m \u001b[90m./\u001b[39m\u001b[90m\u001b[4mloading.jl:1554\u001b[24m\u001b[39m\n",
            " [11] top-level scope\n",
            "\u001b[90m    @ \u001b[39m\u001b[90m\u001b[4mstdin:1\u001b[24m\u001b[39m\n",
            "in expression starting at /Users/devans/.julia/packages/Optim/ZhuZN/src/Optim.jl:1\n",
            "in expression starting at stdin:1\n"
          ]
        },
        {
          "ename": "ErrorException",
          "evalue": "Failed to precompile Optim [429524aa-4258-5aef-a3af-852621145aeb] to /Users/devans/.julia/compiled/v1.8/Optim/jl_Hhh2Yl.",
          "output_type": "error",
          "traceback": [
            "Failed to precompile Optim [429524aa-4258-5aef-a3af-852621145aeb] to /Users/devans/.julia/compiled/v1.8/Optim/jl_Hhh2Yl.\n",
            "\n",
            "Stacktrace:\n",
            "  [1] error(s::String)\n",
            "    @ Base ./error.jl:35\n",
            "  [2] compilecache(pkg::Base.PkgId, path::String, internal_stderr::IO, internal_stdout::IO, keep_loaded_modules::Bool)\n",
            "    @ Base ./loading.jl:1707\n",
            "  [3] compilecache\n",
            "    @ ./loading.jl:1651 [inlined]\n",
            "  [4] _require(pkg::Base.PkgId)\n",
            "    @ Base ./loading.jl:1337\n",
            "  [5] _require_prelocked(uuidkey::Base.PkgId)\n",
            "    @ Base ./loading.jl:1200\n",
            "  [6] macro expansion\n",
            "    @ ./loading.jl:1180 [inlined]\n",
            "  [7] macro expansion\n",
            "    @ ./lock.jl:223 [inlined]\n",
            "  [8] require(into::Module, mod::Symbol)\n",
            "    @ Base ./loading.jl:1144\n",
            "  [9] eval\n",
            "    @ ./boot.jl:368 [inlined]\n",
            " [10] include_string(mapexpr::typeof(REPL.softscope), mod::Module, code::String, filename::String)\n",
            "    @ Base ./loading.jl:1428\n",
            " [11] #invokelatest#2\n",
            "    @ ./essentials.jl:729 [inlined]\n",
            " [12] invokelatest\n",
            "    @ ./essentials.jl:726 [inlined]\n",
            " [13] (::VSCodeServer.var\"#217#218\"{VSCodeServer.NotebookRunCellArguments, String})()\n",
            "    @ VSCodeServer ~/.vscode/extensions/julialang.language-julia-1.127.2/scripts/packages/VSCodeServer/src/serve_notebook.jl:24\n",
            " [14] withpath(f::VSCodeServer.var\"#217#218\"{VSCodeServer.NotebookRunCellArguments, String}, path::String)\n",
            "    @ VSCodeServer ~/.vscode/extensions/julialang.language-julia-1.127.2/scripts/packages/VSCodeServer/src/repl.jl:276\n",
            " [15] notebook_runcell_request(conn::VSCodeServer.JSONRPC.JSONRPCEndpoint{Base.PipeEndpoint, Base.PipeEndpoint}, params::VSCodeServer.NotebookRunCellArguments)\n",
            "    @ VSCodeServer ~/.vscode/extensions/julialang.language-julia-1.127.2/scripts/packages/VSCodeServer/src/serve_notebook.jl:13\n",
            " [16] dispatch_msg(x::VSCodeServer.JSONRPC.JSONRPCEndpoint{Base.PipeEndpoint, Base.PipeEndpoint}, dispatcher::VSCodeServer.JSONRPC.MsgDispatcher, msg::Dict{String, Any})\n",
            "    @ VSCodeServer.JSONRPC ~/.vscode/extensions/julialang.language-julia-1.127.2/scripts/packages/JSONRPC/src/typed.jl:67\n",
            " [17] serve_notebook(pipename::String, debugger_pipename::String, outputchannel_logger::Base.CoreLogging.SimpleLogger; error_handler::var\"#5#10\"{String})\n",
            "    @ VSCodeServer ~/.vscode/extensions/julialang.language-julia-1.127.2/scripts/packages/VSCodeServer/src/serve_notebook.jl:147\n",
            " [18] top-level scope\n",
            "    @ ~/.vscode/extensions/julialang.language-julia-1.127.2/scripts/notebook/notebook.jl:35"
          ]
        }
      ],
      "source": [
        "using Optim #Our optimization libarary\n",
        "f_univ(x) = 2x^2+3x+1\n",
        "plot(f_univ,-2.,1)"
      ]
    },
    {
      "cell_type": "markdown",
      "metadata": {
        "slideshow": {
          "slide_type": "subslide"
        }
      },
      "source": [
        "## Using Optim Univariate"
      ]
    },
    {
      "cell_type": "code",
      "execution_count": 3,
      "metadata": {},
      "outputs": [
        {
          "ename": "UndefVarError",
          "evalue": "UndefVarError: GoldenSection not defined",
          "output_type": "error",
          "traceback": [
            "UndefVarError: GoldenSection not defined\n",
            "\n",
            "Stacktrace:\n",
            " [1] top-level scope\n",
            "   @ ~/University of Oregon Dropbox/David Evans/University of Oregon/Courses/Spring 2025/EC 607 Computational/EC-607-Computational-Economics-Github/Lectures/Optimization/jl_notebook_cell_df34fa98e69747e1a8f8a730347b8e2f_W5sZmlsZQ==.jl:2"
          ]
        }
      ],
      "source": [
        "#Finds global minimum\n",
        "res = optimize(f_univ,-2.0,1.0,GoldenSection())\n",
        "Optim.minimizer(res)"
      ]
    },
    {
      "cell_type": "code",
      "execution_count": 4,
      "metadata": {},
      "outputs": [
        {
          "ename": "UndefVarError",
          "evalue": "UndefVarError: GoldenSection not defined",
          "output_type": "error",
          "traceback": [
            "UndefVarError: GoldenSection not defined\n",
            "\n",
            "Stacktrace:\n",
            " [1] top-level scope\n",
            "   @ ~/University of Oregon Dropbox/David Evans/University of Oregon/Courses/Spring 2025/EC 607 Computational/EC-607-Computational-Economics-Github/Lectures/Optimization/jl_notebook_cell_df34fa98e69747e1a8f8a730347b8e2f_W6sZmlsZQ==.jl:2"
          ]
        }
      ],
      "source": [
        "#Lower bound binds\n",
        "res = optimize(f_univ,-0.5,1.0,GoldenSection())\n",
        "Optim.minimizer(res)"
      ]
    },
    {
      "cell_type": "markdown",
      "metadata": {
        "slideshow": {
          "slide_type": "subslide"
        }
      },
      "source": [
        "## Brent's Method\n",
        "\n",
        "* An alternative to choosing $d$ through golden search\n",
        "\n",
        "* Construct a quadratic polynomial that fits values for points $(a,b,c)$\n",
        "\n",
        "* Let $d$ be the point that minimizes that polynomial\n",
        "\n",
        "    * Use criteria from above to choose new tuple $(d,b,c)$ or $(a,d,c)$\n",
        "\n",
        "* Can lead to significantly faster convergence"
      ]
    },
    {
      "cell_type": "code",
      "execution_count": 5,
      "metadata": {},
      "outputs": [
        {
          "ename": "UndefVarError",
          "evalue": "UndefVarError: Brent not defined",
          "output_type": "error",
          "traceback": [
            "UndefVarError: Brent not defined\n",
            "\n",
            "Stacktrace:\n",
            " [1] top-level scope\n",
            "   @ ~/University of Oregon Dropbox/David Evans/University of Oregon/Courses/Spring 2025/EC 607 Computational/EC-607-Computational-Economics-Github/Lectures/Optimization/jl_notebook_cell_df34fa98e69747e1a8f8a730347b8e2f_X11sZmlsZQ==.jl:1"
          ]
        }
      ],
      "source": [
        "optimize(f_univ,-2.0,1.0,Brent()) #run once to precompile\n",
        "@time res = optimize(f_univ,-2.0,1.0,Brent());"
      ]
    },
    {
      "cell_type": "code",
      "execution_count": 6,
      "metadata": {},
      "outputs": [
        {
          "ename": "UndefVarError",
          "evalue": "UndefVarError: GoldenSection not defined",
          "output_type": "error",
          "traceback": [
            "UndefVarError: GoldenSection not defined\n",
            "\n",
            "Stacktrace:\n",
            " [1] top-level scope\n",
            "   @ ./timing.jl:262 [inlined]\n",
            " [2] top-level scope\n",
            "   @ ~/University of Oregon Dropbox/David Evans/University of Oregon/Courses/Spring 2025/EC 607 Computational/EC-607-Computational-Economics-Github/Lectures/Optimization/jl_notebook_cell_df34fa98e69747e1a8f8a730347b8e2f_X12sZmlsZQ==.jl:0"
          ]
        }
      ],
      "source": [
        "@time res = optimize(f_univ,-2.0,1.0,GoldenSection());"
      ]
    },
    {
      "cell_type": "markdown",
      "metadata": {
        "slideshow": {
          "slide_type": "slide"
        }
      },
      "source": [
        "# Multivariate Optimization\n"
      ]
    },
    {
      "cell_type": "markdown",
      "metadata": {
        "slideshow": {
          "slide_type": "subslide"
        }
      },
      "source": [
        "## Simplex Methods\n",
        "* This provides a algorithm to extend derivative free methods to $n$ dimensions\n",
        "* Start with $n+1$ points $\\mathbf x_1,\\mathbf x_2,\\ldots,\\mathbf x_{n+1}$\n",
        "    * Ordered such that $f(\\mathbf x_1)\\leq f(\\mathbf x_2)\\leq\\ldots\\leq f(\\mathbf x_{n+1})$\n",
        "* Perform the following operations: Reflection, Expansion, Contraction and Shrinkage\n",
        "\n",
        "1. Order points of simplex by $f$ and calculate centroid $\\mathbf x_0$ of all points but $\\mathbf x_{n+1}$\n",
        "2. **Reflection:** Compute the reflected point $\\mathbf x_r = \\mathbf x_0 + \\alpha (\\mathbf x_0 -\\mathbf x_{n+1})$\n",
        "    * If $f(\\mathbf x_1)\\leq f(\\mathbf x_r)<f (\\mathbf x_n)$: return to 1. with $\\mathbf x_{n+1} = \\mathbf x_r$\n",
        "3. **Expansion:** If $f(\\mathbf x_r)<f(\\mathbf x_1)$ construct $\\mathbf x_e = \\mathbf x_0 + \\gamma (\\mathbf x_r -\\mathbf x_0)$\n",
        "    * If $f(\\mathbf x_r)\\leq f(\\mathbf x_e))$: return to 1. with $\\mathbf x_{n+1} = \\mathbf x_r$\n",
        "    * If $f(\\mathbf x_e)\\leq f(\\mathbf x_r))$: return to 1. with $\\mathbf x_{n+1} = \\mathbf x_e$\n",
        "4. **Contracation:** Now $f(\\mathbf x_r)\\geq f(\\mathbf x_n)$, construct $\\mathbf x_c = \\mathbf x_0 + \\rho(\\mathbf x_{n+1}-\\mathbf x_0)$\n",
        "    * If $f(\\mathbf x_c) < f(\\mathbf x_{n+1})$ return to 1. with $\\mathbf x_{n+1} = \\mathbf x_c$\n",
        "5. **Shrink:** for $i\\geq 2$ replace $\\mathbf x_i = \\mathbf x_1 + \\sigma (\\mathbf x_i - \\mathbf x_1)$ go to step 1\n",
        "\n",
        "Standard values $\\alpha = 1.$, $\\gamma = 2$, $\\rho = 0.5$, and $\\sigma = 0.5$"
      ]
    },
    {
      "cell_type": "markdown",
      "metadata": {
        "slideshow": {
          "slide_type": "subslide"
        }
      },
      "source": [
        "\n",
        "## Reflection, Expansion, Contraction etc. \n",
        "![](assets/simplex_animation.gif)"
      ]
    },
    {
      "cell_type": "markdown",
      "metadata": {
        "slideshow": {
          "slide_type": "subslide"
        }
      },
      "source": [
        "## Example\n",
        "![](assets/Nelder-Mead_Rosenbrock.gif)"
      ]
    },
    {
      "cell_type": "markdown",
      "metadata": {
        "slideshow": {
          "slide_type": "subslide"
        }
      },
      "source": [
        "\n",
        "## Example Code"
      ]
    },
    {
      "cell_type": "code",
      "execution_count": 7,
      "metadata": {},
      "outputs": [
        {
          "ename": "UndefVarError",
          "evalue": "UndefVarError: NelderMead not defined",
          "output_type": "error",
          "traceback": [
            "UndefVarError: NelderMead not defined\n",
            "\n",
            "Stacktrace:\n",
            " [1] top-level scope\n",
            "   @ ~/University of Oregon Dropbox/David Evans/University of Oregon/Courses/Spring 2025/EC 607 Computational/EC-607-Computational-Economics-Github/Lectures/Optimization/jl_notebook_cell_df34fa98e69747e1a8f8a730347b8e2f_X14sZmlsZQ==.jl:3"
          ]
        }
      ],
      "source": [
        "#rosenbrock function\n",
        "f_ros(x) = (1.0 - x[1])^2 + 100.0 * (x[2] - x[1]^2)^2\n",
        "optimize(f_ros,10*ones(2),NelderMead())"
      ]
    },
    {
      "cell_type": "code",
      "execution_count": 8,
      "metadata": {},
      "outputs": [
        {
          "ename": "UndefVarError",
          "evalue": "UndefVarError: Optim not defined",
          "output_type": "error",
          "traceback": [
            "UndefVarError: Optim not defined\n",
            "\n",
            "Stacktrace:\n",
            " [1] top-level scope\n",
            "   @ ~/University of Oregon Dropbox/David Evans/University of Oregon/Courses/Spring 2025/EC 607 Computational/EC-607-Computational-Economics-Github/Lectures/Optimization/jl_notebook_cell_df34fa98e69747e1a8f8a730347b8e2f_X15sZmlsZQ==.jl:2"
          ]
        }
      ],
      "source": [
        "#uses by default AffineSimplexer()\n",
        "Optim.simplexer(Optim.AffineSimplexer(),[0.,1.]);"
      ]
    },
    {
      "cell_type": "markdown",
      "metadata": {
        "slideshow": {
          "slide_type": "subslide"
        }
      },
      "source": [
        "## Simulated Annealing\n",
        "* Very helpful if you need to find global minimum of a function which is plagued a lot of local minima\n",
        "\n",
        "* Algorithm (start from guess $\\mathbf x_0$):\n",
        "\n",
        "    1. Draw $\\mathbf z$ from standard multivariate normal \n",
        "    $$\n",
        "        \\mathbf x_1 = \\mathbf x_0 + \\lambda \\mathbf z \n",
        "    $$\n",
        "\n",
        "    2. Accept $x_1$ if $f(\\mathbf x_1)< f(\\mathbf x_0)$ or with probability\n",
        "    $$\n",
        "        \\exp\\left(-\\frac{f(\\mathbf x_1)-f(\\mathbf x_0)}{T}\\right)\n",
        "    $$\n",
        "     $T$ is called the temperature\n",
        "\n",
        "    3. Go back to step 1 with $x_0 = x_1$\n",
        "\n",
        "    4. Reduce $T$ after each iteration, stop after $n_{max}$ iterations\n",
        "\n",
        "![](assets/Simulated_Annealing.gif)"
      ]
    },
    {
      "cell_type": "markdown",
      "metadata": {
        "slideshow": {
          "slide_type": "subslide"
        }
      },
      "source": [
        "\n",
        "## Code implementation"
      ]
    },
    {
      "cell_type": "code",
      "execution_count": 9,
      "metadata": {},
      "outputs": [
        {
          "ename": "UndefVarError",
          "evalue": "UndefVarError: SimulatedAnnealing not defined",
          "output_type": "error",
          "traceback": [
            "UndefVarError: SimulatedAnnealing not defined\n",
            "\n",
            "Stacktrace:\n",
            " [1] top-level scope\n",
            "   @ ~/University of Oregon Dropbox/David Evans/University of Oregon/Courses/Spring 2025/EC 607 Computational/EC-607-Computational-Economics-Github/Lectures/Optimization/jl_notebook_cell_df34fa98e69747e1a8f8a730347b8e2f_X20sZmlsZQ==.jl:2"
          ]
        }
      ],
      "source": [
        "#Simulated Annealing\n",
        "result = optimize(f_ros,zeros(2),SimulatedAnnealing(),Optim.Options(iterations=10^7)) #very rough right now"
      ]
    },
    {
      "cell_type": "code",
      "execution_count": 10,
      "metadata": {},
      "outputs": [
        {
          "ename": "UndefVarError",
          "evalue": "UndefVarError: result not defined",
          "output_type": "error",
          "traceback": [
            "UndefVarError: result not defined\n",
            "\n",
            "Stacktrace:\n",
            " [1] top-level scope\n",
            "   @ ~/University of Oregon Dropbox/David Evans/University of Oregon/Courses/Spring 2025/EC 607 Computational/EC-607-Computational-Economics-Github/Lectures/Optimization/jl_notebook_cell_df34fa98e69747e1a8f8a730347b8e2f_X21sZmlsZQ==.jl:2"
          ]
        }
      ],
      "source": [
        "#Obtaining solutions\n",
        "println(\"Value of Function at Minimum:$(result.minimum)\")\n",
        "println(\"Point that Acheives Minimum:$(result.minimizer)\")"
      ]
    },
    {
      "cell_type": "markdown",
      "metadata": {
        "slideshow": {
          "slide_type": "slide"
        }
      },
      "source": [
        "# Gradient Based Methods"
      ]
    },
    {
      "cell_type": "markdown",
      "metadata": {
        "slideshow": {
          "slide_type": "subslide"
        }
      },
      "source": [
        "## Newton's Method\n",
        "\n",
        "* Very similar to Newton's Rootfinding method\n",
        "\n",
        "* Do a second order taylor expansion around $x_n$\n",
        "$$\n",
        "f(x) \\approx f(x_n) + f'(x^n)(x-x^n) + \\frac12 f''(x^n)(x-x^n)^2\n",
        "$$\n",
        "\n",
        "* Minimizing this approximated function (taking the first order condition) to get\n",
        "$$\n",
        "    x_{n+1} = x_n - \\frac{f'(x_n)}{f''(x_n)}\n",
        "$$\n",
        "\n",
        "* Need both first and second derivatives\n",
        "\n",
        "* **Note:** $f''(x_n)$ determines how far you move in the direction $f'(x_n)$, will move in the direction that decreases $f$ to first order as long as $f''(x_n) > 0$"
      ]
    },
    {
      "cell_type": "markdown",
      "metadata": {
        "slideshow": {
          "slide_type": "subslide"
        }
      },
      "source": [
        "## Multivariate Extension\n",
        "* For a multivariate function $f(\\mathbf x)$ the second order Taylor expansion is\n",
        "$$\n",
        "    f(\\mathbf x) \\approx f(\\mathbf x_n) + \\nabla f(\\mathbf x_n)(\\mathbf x-\\mathbf x_n) + \\frac12 (\\mathbf x-\\mathbf x_n)' H(\\mathbf x_n)(\\mathbf x-\\mathbf x_n)\n",
        "$$\n",
        "\n",
        "* This yields an updating equation\n",
        "$$\n",
        "    \\mathbf x_{n+1} = \\mathbf x_n - H(\\mathbf x_n)^{-1} \\nabla f(\\mathbf x_n)\n",
        "$$\n",
        "\n",
        "* Problem: Computing $H$ can be time consuming\n",
        "\n",
        "    * May also not be positive definite (can result in algorithm moving in wrong direction (i.e. towards max)"
      ]
    },
    {
      "cell_type": "markdown",
      "metadata": {
        "slideshow": {
          "slide_type": "subslide"
        }
      },
      "source": [
        "## Quasi-Newton Methods\n",
        "\n",
        "* Approximate the Hessian with a positive definite matrix\n",
        "\n",
        "* Example: set Hessian to $I$\n",
        "$$\n",
        "    \\mathbf x_{n+1} = \\mathbf x_{n} -\\nabla f(\\mathbf x_n)\n",
        "$$\n",
        "\n",
        "* Always moves in the right direction but can overshoot, slow convergence rate\n",
        "\n",
        "* BFGS algorithm uses secant to approximate the Hessisan\n",
        "\n",
        "    * Starts with Hessian being $I$, updates it by using changes in the gradient\n",
        "    \n",
        "    * Can show that approximated Hessian will remain Positive definite"
      ]
    },
    {
      "cell_type": "markdown",
      "metadata": {
        "slideshow": {
          "slide_type": "subslide"
        }
      },
      "source": [
        "\n",
        "## Implementation"
      ]
    },
    {
      "cell_type": "code",
      "execution_count": 11,
      "metadata": {},
      "outputs": [
        {
          "ename": "UndefVarError",
          "evalue": "UndefVarError: BFGS not defined",
          "output_type": "error",
          "traceback": [
            "UndefVarError: BFGS not defined\n",
            "\n",
            "Stacktrace:\n",
            " [1] top-level scope\n",
            "   @ ~/University of Oregon Dropbox/David Evans/University of Oregon/Courses/Spring 2025/EC 607 Computational/EC-607-Computational-Economics-Github/Lectures/Optimization/jl_notebook_cell_df34fa98e69747e1a8f8a730347b8e2f_X23sZmlsZQ==.jl:1"
          ]
        }
      ],
      "source": [
        "optimize(f_ros,zeros(2),BFGS())"
      ]
    },
    {
      "cell_type": "code",
      "execution_count": 12,
      "metadata": {},
      "outputs": [
        {
          "ename": "UndefVarError",
          "evalue": "UndefVarError: NelderMead not defined",
          "output_type": "error",
          "traceback": [
            "UndefVarError: NelderMead not defined\n",
            "\n",
            "Stacktrace:\n",
            " [1] top-level scope\n",
            "   @ ./timing.jl:262 [inlined]\n",
            " [2] top-level scope\n",
            "   @ ~/University of Oregon Dropbox/David Evans/University of Oregon/Courses/Spring 2025/EC 607 Computational/EC-607-Computational-Economics-Github/Lectures/Optimization/jl_notebook_cell_df34fa98e69747e1a8f8a730347b8e2f_X24sZmlsZQ==.jl:0"
          ]
        }
      ],
      "source": [
        "@time optimize(f_ros,zeros(2),NelderMead())\n",
        "@time optimize(f_ros,zeros(2),SimulatedAnnealing(),Optim.Options(iterations=10^7))\n",
        "@time optimize(f_ros,zeros(2),BFGS());"
      ]
    },
    {
      "cell_type": "markdown",
      "metadata": {
        "slideshow": {
          "slide_type": "slide"
        }
      },
      "source": [
        "# Problems With Constraints"
      ]
    },
    {
      "cell_type": "markdown",
      "metadata": {
        "slideshow": {
          "slide_type": "subslide"
        }
      },
      "source": [
        "\n",
        "\n",
        "* Many times we will wish to perform the following kind of maximization\n",
        "$$\n",
        "    \\max_{\\mathbf x} f(\\mathbf x)\n",
        "$$\n",
        "subject to \n",
        "\\begin{align*}\n",
        "    g_i(\\mathbf x)&\\leq 0\\\\\n",
        "    r_j(\\mathbf x)&= 0\n",
        "\\end{align*}\n",
        "\n",
        "* Construct a penalty function for violating the constraints\n",
        "$$\n",
        "    P(\\mathbf x) = \\sum_{i=1}^m[\\max\\{0,g_i(\\mathbf x)\\}]^2 + \\sum_{j=1}^k [r_j(\\mathbf x)]^2\n",
        "$$\n",
        "\n",
        "* Create a new objective function\n",
        "$$\n",
        "    h(c,\\mathbf x) = f(\\mathbf x)+cP(\\mathbf x)\n",
        "$$"
      ]
    },
    {
      "cell_type": "markdown",
      "metadata": {
        "slideshow": {
          "slide_type": "subslide"
        }
      },
      "source": [
        "## Augmented Lagrangian Technique\n",
        "* Start with a relatively small value of $c$ and an initial point $\\mathbf x$\n",
        "\n",
        "* Solve a sequence of problems with monotonically increasing values of $c$\n",
        "\n",
        "    1. Choose a growth parameter $\\eta>1$ and initial penalty $c^0$\n",
        "\n",
        "    2. At iteration $n$ minimize $h(c_n,\\mathbf x)$.  Call this solution $\\mathbf x_n$.  If $\\mathbf x_n$ does not violate constraints more than $\\epsilon$ then stop.  Otherwise $c_{n+1}  = (1+\\eta)c_n$ and repeat starting from $\\mathbf x_n$\n",
        "\n",
        "* Can show that this will work as long as such a mininum exists"
      ]
    },
    {
      "cell_type": "markdown",
      "metadata": {
        "slideshow": {
          "slide_type": "subslide"
        }
      },
      "source": [
        "## Example\n",
        "![](assets/NLopt-example.png)"
      ]
    },
    {
      "cell_type": "markdown",
      "metadata": {
        "slideshow": {
          "slide_type": "subslide"
        }
      },
      "source": [
        "\n",
        "## Example Code"
      ]
    },
    {
      "cell_type": "code",
      "execution_count": 13,
      "metadata": {},
      "outputs": [
        {
          "name": "stderr",
          "output_type": "stream",
          "text": [
            "\u001b[91m\u001b[1mERROR: \u001b[22m\u001b[39mLoadError: ArgumentError: Package NLopt does not have MathOptInterface in its dependencies:\n",
            "- You may have a partially installed environment. Try `Pkg.instantiate()`\n",
            "  to ensure all packages in the environment are installed.\n",
            "- Or, if you have NLopt checked out for development and have\n",
            "  added MathOptInterface as a dependency but haven't updated your primary\n",
            "  environment's manifest file, try `Pkg.resolve()`.\n",
            "- Otherwise you may need to report an issue with NLopt\n",
            "Stacktrace:\n",
            " [1] \u001b[0m\u001b[1mmacro expansion\u001b[22m\n",
            "\u001b[90m   @ \u001b[39m\u001b[90m./\u001b[39m\u001b[90m\u001b[4mloading.jl:1167\u001b[24m\u001b[39m\u001b[90m [inlined]\u001b[39m\n",
            " [2] \u001b[0m\u001b[1mmacro expansion\u001b[22m\n",
            "\u001b[90m   @ \u001b[39m\u001b[90m./\u001b[39m\u001b[90m\u001b[4mlock.jl:223\u001b[24m\u001b[39m\u001b[90m [inlined]\u001b[39m\n",
            " [3] \u001b[0m\u001b[1mrequire\u001b[22m\u001b[0m\u001b[1m(\u001b[22m\u001b[90minto\u001b[39m::\u001b[0mModule, \u001b[90mmod\u001b[39m::\u001b[0mSymbol\u001b[0m\u001b[1m)\u001b[22m\n",
            "\u001b[90m   @ \u001b[39m\u001b[90mBase\u001b[39m \u001b[90m./\u001b[39m\u001b[90m\u001b[4mloading.jl:1144\u001b[24m\u001b[39m\n",
            " [4] \u001b[0m\u001b[1minclude\u001b[22m\u001b[0m\u001b[1m(\u001b[22m\u001b[90mmod\u001b[39m::\u001b[0mModule, \u001b[90m_path\u001b[39m::\u001b[0mString\u001b[0m\u001b[1m)\u001b[22m\n",
            "\u001b[90m   @ \u001b[39m\u001b[90mBase\u001b[39m \u001b[90m./\u001b[39m\u001b[90m\u001b[4mBase.jl:419\u001b[24m\u001b[39m\n",
            " [5] \u001b[0m\u001b[1minclude\u001b[22m\u001b[0m\u001b[1m(\u001b[22m\u001b[90mx\u001b[39m::\u001b[0mString\u001b[0m\u001b[1m)\u001b[22m\n",
            "\u001b[90m   @ \u001b[39m\u001b[35mNLopt\u001b[39m \u001b[90m~/.julia/packages/NLopt/XaDCU/src/\u001b[39m\u001b[90m\u001b[4mNLopt.jl:6\u001b[24m\u001b[39m\n",
            " [6] top-level scope\n",
            "\u001b[90m   @ \u001b[39m\u001b[90m~/.julia/packages/NLopt/XaDCU/src/\u001b[39m\u001b[90m\u001b[4mNLopt.jl:800\u001b[24m\u001b[39m\n",
            " [7] \u001b[0m\u001b[1minclude\u001b[22m\n",
            "\u001b[90m   @ \u001b[39m\u001b[90m./\u001b[39m\u001b[90m\u001b[4mBase.jl:419\u001b[24m\u001b[39m\u001b[90m [inlined]\u001b[39m\n",
            " [8] \u001b[0m\u001b[1minclude_package_for_output\u001b[22m\u001b[0m\u001b[1m(\u001b[22m\u001b[90mpkg\u001b[39m::\u001b[0mBase.PkgId, \u001b[90minput\u001b[39m::\u001b[0mString, \u001b[90mdepot_path\u001b[39m::\u001b[0mVector\u001b[90m{String}\u001b[39m, \u001b[90mdl_load_path\u001b[39m::\u001b[0mVector\u001b[90m{String}\u001b[39m, \u001b[90mload_path\u001b[39m::\u001b[0mVector\u001b[90m{String}\u001b[39m, \u001b[90mconcrete_deps\u001b[39m::\u001b[0mVector\u001b[90m{Pair{Base.PkgId, UInt64}}\u001b[39m, \u001b[90msource\u001b[39m::\u001b[0mString\u001b[0m\u001b[1m)\u001b[22m\n",
            "\u001b[90m   @ \u001b[39m\u001b[90mBase\u001b[39m \u001b[90m./\u001b[39m\u001b[90m\u001b[4mloading.jl:1554\u001b[24m\u001b[39m\n",
            " [9] top-level scope\n",
            "\u001b[90m   @ \u001b[39m\u001b[90m\u001b[4mstdin:1\u001b[24m\u001b[39m\n",
            "in expression starting at /Users/devans/.julia/packages/NLopt/XaDCU/ext/NLoptMathOptInterfaceExt.jl:6\n",
            "in expression starting at /Users/devans/.julia/packages/NLopt/XaDCU/src/NLopt.jl:6\n",
            "in expression starting at stdin:1\n"
          ]
        },
        {
          "ename": "ErrorException",
          "evalue": "Failed to precompile NLopt [76087f3c-5699-56af-9a33-bf431cd00edd] to /Users/devans/.julia/compiled/v1.8/NLopt/jl_ckfSxB.",
          "output_type": "error",
          "traceback": [
            "Failed to precompile NLopt [76087f3c-5699-56af-9a33-bf431cd00edd] to /Users/devans/.julia/compiled/v1.8/NLopt/jl_ckfSxB.\n",
            "\n",
            "Stacktrace:\n",
            "  [1] error(s::String)\n",
            "    @ Base ./error.jl:35\n",
            "  [2] compilecache(pkg::Base.PkgId, path::String, internal_stderr::IO, internal_stdout::IO, keep_loaded_modules::Bool)\n",
            "    @ Base ./loading.jl:1707\n",
            "  [3] compilecache\n",
            "    @ ./loading.jl:1651 [inlined]\n",
            "  [4] _require(pkg::Base.PkgId)\n",
            "    @ Base ./loading.jl:1337\n",
            "  [5] _require_prelocked(uuidkey::Base.PkgId)\n",
            "    @ Base ./loading.jl:1200\n",
            "  [6] macro expansion\n",
            "    @ ./loading.jl:1180 [inlined]\n",
            "  [7] macro expansion\n",
            "    @ ./lock.jl:223 [inlined]\n",
            "  [8] require(into::Module, mod::Symbol)\n",
            "    @ Base ./loading.jl:1144\n",
            "  [9] eval\n",
            "    @ ./boot.jl:368 [inlined]\n",
            " [10] include_string(mapexpr::typeof(REPL.softscope), mod::Module, code::String, filename::String)\n",
            "    @ Base ./loading.jl:1428\n",
            " [11] #invokelatest#2\n",
            "    @ ./essentials.jl:729 [inlined]\n",
            " [12] invokelatest\n",
            "    @ ./essentials.jl:726 [inlined]\n",
            " [13] (::VSCodeServer.var\"#217#218\"{VSCodeServer.NotebookRunCellArguments, String})()\n",
            "    @ VSCodeServer ~/.vscode/extensions/julialang.language-julia-1.127.2/scripts/packages/VSCodeServer/src/serve_notebook.jl:24\n",
            " [14] withpath(f::VSCodeServer.var\"#217#218\"{VSCodeServer.NotebookRunCellArguments, String}, path::String)\n",
            "    @ VSCodeServer ~/.vscode/extensions/julialang.language-julia-1.127.2/scripts/packages/VSCodeServer/src/repl.jl:276\n",
            " [15] notebook_runcell_request(conn::VSCodeServer.JSONRPC.JSONRPCEndpoint{Base.PipeEndpoint, Base.PipeEndpoint}, params::VSCodeServer.NotebookRunCellArguments)\n",
            "    @ VSCodeServer ~/.vscode/extensions/julialang.language-julia-1.127.2/scripts/packages/VSCodeServer/src/serve_notebook.jl:13\n",
            " [16] dispatch_msg(x::VSCodeServer.JSONRPC.JSONRPCEndpoint{Base.PipeEndpoint, Base.PipeEndpoint}, dispatcher::VSCodeServer.JSONRPC.MsgDispatcher, msg::Dict{String, Any})\n",
            "    @ VSCodeServer.JSONRPC ~/.vscode/extensions/julialang.language-julia-1.127.2/scripts/packages/JSONRPC/src/typed.jl:67\n",
            " [17] serve_notebook(pipename::String, debugger_pipename::String, outputchannel_logger::Base.CoreLogging.SimpleLogger; error_handler::var\"#5#10\"{String})\n",
            "    @ VSCodeServer ~/.vscode/extensions/julialang.language-julia-1.127.2/scripts/packages/VSCodeServer/src/serve_notebook.jl:147\n",
            " [18] top-level scope\n",
            "    @ ~/.vscode/extensions/julialang.language-julia-1.127.2/scripts/notebook/notebook.jl:35"
          ]
        }
      ],
      "source": [
        "using NLopt\n",
        "function myfunc!(x::Vector, grad::Vector)\n",
        "    if length(grad) > 0\n",
        "        grad[1] = 0\n",
        "        grad[2] = 0.5/sqrt(x[2])\n",
        "    end\n",
        "\n",
        "    sqrt(x[2])\n",
        "end\n",
        "\n",
        "function myconstraint!(x::Vector, grad::Vector, a, b)\n",
        "    if length(grad) > 0\n",
        "        grad[1] = 3a * (a*x[1] + b)^2\n",
        "        grad[2] = -1\n",
        "    end\n",
        "    (a*x[1] + b)^3 - x[2]\n",
        "end"
      ]
    },
    {
      "cell_type": "markdown",
      "metadata": {
        "slideshow": {
          "slide_type": "subslide"
        }
      },
      "source": [
        "## Example Code MMD Algorithm"
      ]
    },
    {
      "cell_type": "code",
      "execution_count": 14,
      "metadata": {},
      "outputs": [
        {
          "ename": "UndefVarError",
          "evalue": "UndefVarError: Opt not defined",
          "output_type": "error",
          "traceback": [
            "UndefVarError: Opt not defined\n",
            "\n",
            "Stacktrace:\n",
            " [1] top-level scope\n",
            "   @ ~/University of Oregon Dropbox/David Evans/University of Oregon/Courses/Spring 2025/EC 607 Computational/EC-607-Computational-Economics-Github/Lectures/Optimization/jl_notebook_cell_df34fa98e69747e1a8f8a730347b8e2f_X31sZmlsZQ==.jl:1"
          ]
        }
      ],
      "source": [
        "opt = Opt(:LD_MMA, 2)\n",
        "lower_bounds!(opt, [-Inf, 0.])\n",
        "ftol_rel!(opt,1e-6)\n",
        "\n",
        "min_objective!(opt, myfunc!)\n",
        "inequality_constraint!(opt, (x,g) -> myconstraint!(x,g,2,0))\n",
        "inequality_constraint!(opt, (x,g) -> myconstraint!(x,g,-1,1))\n",
        "\n",
        "(minf,minx,ret) = NLopt.optimize(opt, [3., 1.])\n",
        "println(\"got $minf at $minx after $count iterations (returned $ret)\")"
      ]
    },
    {
      "cell_type": "markdown",
      "metadata": {
        "slideshow": {
          "slide_type": "subslide"
        }
      },
      "source": [
        "## Example Code SLSQP Algorithm"
      ]
    },
    {
      "cell_type": "code",
      "execution_count": 15,
      "metadata": {},
      "outputs": [
        {
          "ename": "UndefVarError",
          "evalue": "UndefVarError: Opt not defined",
          "output_type": "error",
          "traceback": [
            "UndefVarError: Opt not defined\n",
            "\n",
            "Stacktrace:\n",
            " [1] top-level scope\n",
            "   @ ~/University of Oregon Dropbox/David Evans/University of Oregon/Courses/Spring 2025/EC 607 Computational/EC-607-Computational-Economics-Github/Lectures/Optimization/jl_notebook_cell_df34fa98e69747e1a8f8a730347b8e2f_X33sZmlsZQ==.jl:1"
          ]
        }
      ],
      "source": [
        "opt = Opt(:LD_SLSQP, 2)\n",
        "lower_bounds!(opt, [-Inf, 0.])\n",
        "ftol_rel!(opt,1e-4)\n",
        "\n",
        "min_objective!(opt, myfunc!)\n",
        "inequality_constraint!(opt, (x,g) -> myconstraint!(x,g,2,0))\n",
        "inequality_constraint!(opt, (x,g) -> myconstraint!(x,g,-1,1))\n",
        "\n",
        "(minf,minx,ret) = NLopt.optimize(opt, [3., 1.])\n",
        "println(\"got $minf at $minx after $count iterations (returned $ret)\")"
      ]
    },
    {
      "cell_type": "markdown",
      "metadata": {
        "slideshow": {
          "slide_type": "slide"
        }
      },
      "source": [
        "# Application: Optimal Taxation"
      ]
    },
    {
      "cell_type": "markdown",
      "metadata": {
        "slideshow": {
          "slide_type": "subslide"
        }
      },
      "source": [
        "## Mirelees Meets Ramsey (Heathcote et. al 2016)\n",
        "* Economy is populated by a continuum of agents\n",
        "    * Preferences $U(c,h) = \\frac{c^{1-\\sigma}}{1-\\sigma}-\\frac{h^{1+\\gamma}}{1+\\gamma}$\n",
        "    * Output produced linearly with productivity $\\exp(\\alpha)$\n",
        "* Log productivity $\\alpha$\n",
        "    * $\\alpha\\sim\\mathcal N(-\\sigma_\\alpha^2/2,\\sigma_\\alpha)$\n",
        "* Government chooses tax policy $T(y) = \\tau y - T$ "
      ]
    },
    {
      "cell_type": "markdown",
      "metadata": {
        "slideshow": {
          "slide_type": "subslide"
        }
      },
      "source": [
        "## Agent's Problem\n",
        "* Agents are indexed by their productivity type $\\alpha$\n",
        "* Solve the following problem\n",
        "$$\n",
        "    \\max_{c,h\\geq 0} \\frac{c^{1-\\sigma}}{1-\\sigma}-\\frac{h^{1+\\gamma}}{1+\\gamma}\n",
        "$$\n",
        "subject to\n",
        "$$\n",
        "    c = (1-\\tau)\\exp(\\alpha)h + T\n",
        "$$\n",
        "* Optimal policies $c(\\alpha;\\tau,T)$ and $h(\\alpha;\\tau,T)$ give utility $U(\\alpha;\\tau,T)$"
      ]
    },
    {
      "cell_type": "markdown",
      "metadata": {
        "slideshow": {
          "slide_type": "subslide"
        }
      },
      "source": [
        "## Government's Problem\n",
        "* Government has utilitarian preferences:\n",
        "$$\n",
        "    \\int U(\\alpha;\\tau,T)dF(\\alpha)\n",
        "$$\n",
        "* Chooses $\\tau$ and $T$ to maximize this objective subject to the governments budget constraint\n",
        "$$\n",
        "    T = \\int \\tau \\exp(\\alpha)h(\\alpha;\\tau,T)dF(\\alpha)\n",
        "$$"
      ]
    },
    {
      "cell_type": "markdown",
      "metadata": {
        "slideshow": {
          "slide_type": "subslide"
        }
      },
      "source": [
        "## Computing Consumption and Hours\n",
        "* Household first order condition\n",
        "$$\n",
        "    h^\\gamma = c^{-\\sigma} (1-\\tau)\\exp(\\alpha)\n",
        "$$\n",
        "* Combine with budget constraint:\n",
        "$$\n",
        "    h^\\gamma = \\left((1-\\tau)\\exp(\\alpha)h+T\\right)^{-\\sigma}(1-\\tau)\\exp(\\alpha)\n",
        "$$\n",
        "* To compute $h(\\alpha;\\tau,T)$, find root of \n",
        "$$\n",
        "     \\left((1-\\tau)\\exp(\\alpha)h+T\\right)^{-\\sigma}(1-\\tau)\\exp(\\alpha) - h^\\gamma\n",
        "$$\n"
      ]
    },
    {
      "cell_type": "markdown",
      "metadata": {
        "slideshow": {
          "slide_type": "subslide"
        }
      },
      "source": [
        "\n",
        "## Implementation\n",
        "\n",
        "* A lot of layers to this problem\n",
        "\n",
        "* Start by building up basic components: household decisions"
      ]
    },
    {
      "cell_type": "code",
      "execution_count": 16,
      "metadata": {},
      "outputs": [
        {
          "name": "stderr",
          "output_type": "stream",
          "text": [
            "\u001b[91m\u001b[1mERROR: \u001b[22m\u001b[39mLoadError: ArgumentError: Package InverseFunctions does not have Dates in its dependencies:\n",
            "- You may have a partially installed environment. Try `Pkg.instantiate()`\n",
            "  to ensure all packages in the environment are installed.\n",
            "- Or, if you have InverseFunctions checked out for development and have\n",
            "  added Dates as a dependency but haven't updated your primary\n",
            "  environment's manifest file, try `Pkg.resolve()`.\n",
            "- Otherwise you may need to report an issue with InverseFunctions\n",
            "Stacktrace:\n",
            " [1] \u001b[0m\u001b[1mmacro expansion\u001b[22m\n",
            "\u001b[90m   @ \u001b[39m\u001b[90m./\u001b[39m\u001b[90m\u001b[4mloading.jl:1167\u001b[24m\u001b[39m\u001b[90m [inlined]\u001b[39m\n",
            " [2] \u001b[0m\u001b[1mmacro expansion\u001b[22m\n",
            "\u001b[90m   @ \u001b[39m\u001b[90m./\u001b[39m\u001b[90m\u001b[4mlock.jl:223\u001b[24m\u001b[39m\u001b[90m [inlined]\u001b[39m\n",
            " [3] \u001b[0m\u001b[1mrequire\u001b[22m\u001b[0m\u001b[1m(\u001b[22m\u001b[90minto\u001b[39m::\u001b[0mModule, \u001b[90mmod\u001b[39m::\u001b[0mSymbol\u001b[0m\u001b[1m)\u001b[22m\n",
            "\u001b[90m   @ \u001b[39m\u001b[90mBase\u001b[39m \u001b[90m./\u001b[39m\u001b[90m\u001b[4mloading.jl:1144\u001b[24m\u001b[39m\n",
            " [4] \u001b[0m\u001b[1minclude\u001b[22m\u001b[0m\u001b[1m(\u001b[22m\u001b[90mmod\u001b[39m::\u001b[0mModule, \u001b[90m_path\u001b[39m::\u001b[0mString\u001b[0m\u001b[1m)\u001b[22m\n",
            "\u001b[90m   @ \u001b[39m\u001b[90mBase\u001b[39m \u001b[90m./\u001b[39m\u001b[90m\u001b[4mBase.jl:419\u001b[24m\u001b[39m\n",
            " [5] \u001b[0m\u001b[1minclude\u001b[22m\u001b[0m\u001b[1m(\u001b[22m\u001b[90mx\u001b[39m::\u001b[0mString\u001b[0m\u001b[1m)\u001b[22m\n",
            "\u001b[90m   @ \u001b[39m\u001b[35mInverseFunctions\u001b[39m \u001b[90m~/.julia/packages/InverseFunctions/4sFsZ/src/\u001b[39m\u001b[90m\u001b[4mInverseFunctions.jl:7\u001b[24m\u001b[39m\n",
            " [6] top-level scope\n",
            "\u001b[90m   @ \u001b[39m\u001b[90m~/.julia/packages/InverseFunctions/4sFsZ/src/\u001b[39m\u001b[90m\u001b[4mInverseFunctions.jl:32\u001b[24m\u001b[39m\n",
            " [7] \u001b[0m\u001b[1minclude\u001b[22m\n",
            "\u001b[90m   @ \u001b[39m\u001b[90m./\u001b[39m\u001b[90m\u001b[4mBase.jl:419\u001b[24m\u001b[39m\u001b[90m [inlined]\u001b[39m\n",
            " [8] \u001b[0m\u001b[1minclude_package_for_output\u001b[22m\u001b[0m\u001b[1m(\u001b[22m\u001b[90mpkg\u001b[39m::\u001b[0mBase.PkgId, \u001b[90minput\u001b[39m::\u001b[0mString, \u001b[90mdepot_path\u001b[39m::\u001b[0mVector\u001b[90m{String}\u001b[39m, \u001b[90mdl_load_path\u001b[39m::\u001b[0mVector\u001b[90m{String}\u001b[39m, \u001b[90mload_path\u001b[39m::\u001b[0mVector\u001b[90m{String}\u001b[39m, \u001b[90mconcrete_deps\u001b[39m::\u001b[0mVector\u001b[90m{Pair{Base.PkgId, UInt64}}\u001b[39m, \u001b[90msource\u001b[39m::\u001b[0mString\u001b[0m\u001b[1m)\u001b[22m\n",
            "\u001b[90m   @ \u001b[39m\u001b[90mBase\u001b[39m \u001b[90m./\u001b[39m\u001b[90m\u001b[4mloading.jl:1554\u001b[24m\u001b[39m\n",
            " [9] top-level scope\n",
            "\u001b[90m   @ \u001b[39m\u001b[90m\u001b[4mstdin:1\u001b[24m\u001b[39m\n",
            "in expression starting at /Users/devans/.julia/packages/InverseFunctions/4sFsZ/ext/InverseFunctionsDatesExt.jl:1\n",
            "in expression starting at /Users/devans/.julia/packages/InverseFunctions/4sFsZ/src/InverseFunctions.jl:2\n",
            "in expression starting at stdin:1\n",
            "\u001b[91m\u001b[1mERROR: \u001b[22m\u001b[39mLoadError: Failed to precompile InverseFunctions [3587e190-3f89-42d0-90ee-14403ec27112] to /Users/devans/.julia/compiled/v1.8/InverseFunctions/jl_wBB29N.\n",
            "Stacktrace:\n",
            "  [1] \u001b[0m\u001b[1merror\u001b[22m\u001b[0m\u001b[1m(\u001b[22m\u001b[90ms\u001b[39m::\u001b[0mString\u001b[0m\u001b[1m)\u001b[22m\n",
            "\u001b[90m    @ \u001b[39m\u001b[90mBase\u001b[39m \u001b[90m./\u001b[39m\u001b[90m\u001b[4merror.jl:35\u001b[24m\u001b[39m\n",
            "  [2] \u001b[0m\u001b[1mcompilecache\u001b[22m\u001b[0m\u001b[1m(\u001b[22m\u001b[90mpkg\u001b[39m::\u001b[0mBase.PkgId, \u001b[90mpath\u001b[39m::\u001b[0mString, \u001b[90minternal_stderr\u001b[39m::\u001b[0mIO, \u001b[90minternal_stdout\u001b[39m::\u001b[0mIO, \u001b[90mkeep_loaded_modules\u001b[39m::\u001b[0mBool\u001b[0m\u001b[1m)\u001b[22m\n",
            "\u001b[90m    @ \u001b[39m\u001b[90mBase\u001b[39m \u001b[90m./\u001b[39m\u001b[90m\u001b[4mloading.jl:1707\u001b[24m\u001b[39m\n",
            "  [3] \u001b[0m\u001b[1mcompilecache\u001b[22m\n",
            "\u001b[90m    @ \u001b[39m\u001b[90m./\u001b[39m\u001b[90m\u001b[4mloading.jl:1651\u001b[24m\u001b[39m\u001b[90m [inlined]\u001b[39m\n",
            "  [4] \u001b[0m\u001b[1m_require\u001b[22m\u001b[0m\u001b[1m(\u001b[22m\u001b[90mpkg\u001b[39m::\u001b[0mBase.PkgId\u001b[0m\u001b[1m)\u001b[22m\n",
            "\u001b[90m    @ \u001b[39m\u001b[90mBase\u001b[39m \u001b[90m./\u001b[39m\u001b[90m\u001b[4mloading.jl:1337\u001b[24m\u001b[39m\n",
            "  [5] \u001b[0m\u001b[1m_require_prelocked\u001b[22m\u001b[0m\u001b[1m(\u001b[22m\u001b[90muuidkey\u001b[39m::\u001b[0mBase.PkgId\u001b[0m\u001b[1m)\u001b[22m\n",
            "\u001b[90m    @ \u001b[39m\u001b[90mBase\u001b[39m \u001b[90m./\u001b[39m\u001b[90m\u001b[4mloading.jl:1200\u001b[24m\u001b[39m\n",
            "  [6] \u001b[0m\u001b[1mmacro expansion\u001b[22m\n",
            "\u001b[90m    @ \u001b[39m\u001b[90m./\u001b[39m\u001b[90m\u001b[4mloading.jl:1180\u001b[24m\u001b[39m\u001b[90m [inlined]\u001b[39m\n",
            "  [7] \u001b[0m\u001b[1mmacro expansion\u001b[22m\n",
            "\u001b[90m    @ \u001b[39m\u001b[90m./\u001b[39m\u001b[90m\u001b[4mlock.jl:223\u001b[24m\u001b[39m\u001b[90m [inlined]\u001b[39m\n",
            "  [8] \u001b[0m\u001b[1mrequire\u001b[22m\u001b[0m\u001b[1m(\u001b[22m\u001b[90minto\u001b[39m::\u001b[0mModule, \u001b[90mmod\u001b[39m::\u001b[0mSymbol\u001b[0m\u001b[1m)\u001b[22m\n",
            "\u001b[90m    @ \u001b[39m\u001b[90mBase\u001b[39m \u001b[90m./\u001b[39m\u001b[90m\u001b[4mloading.jl:1144\u001b[24m\u001b[39m\n",
            "  [9] \u001b[0m\u001b[1minclude\u001b[22m\n",
            "\u001b[90m    @ \u001b[39m\u001b[90m./\u001b[39m\u001b[90m\u001b[4mBase.jl:419\u001b[24m\u001b[39m\u001b[90m [inlined]\u001b[39m\n",
            " [10] \u001b[0m\u001b[1minclude_package_for_output\u001b[22m\u001b[0m\u001b[1m(\u001b[22m\u001b[90mpkg\u001b[39m::\u001b[0mBase.PkgId, \u001b[90minput\u001b[39m::\u001b[0mString, \u001b[90mdepot_path\u001b[39m::\u001b[0mVector\u001b[90m{String}\u001b[39m, \u001b[90mdl_load_path\u001b[39m::\u001b[0mVector\u001b[90m{String}\u001b[39m, \u001b[90mload_path\u001b[39m::\u001b[0mVector\u001b[90m{String}\u001b[39m, \u001b[90mconcrete_deps\u001b[39m::\u001b[0mVector\u001b[90m{Pair{Base.PkgId, UInt64}}\u001b[39m, \u001b[90msource\u001b[39m::\u001b[0mString\u001b[0m\u001b[1m)\u001b[22m\n",
            "\u001b[90m    @ \u001b[39m\u001b[90mBase\u001b[39m \u001b[90m./\u001b[39m\u001b[90m\u001b[4mloading.jl:1554\u001b[24m\u001b[39m\n",
            " [11] top-level scope\n",
            "\u001b[90m    @ \u001b[39m\u001b[90m\u001b[4mstdin:1\u001b[24m\u001b[39m\n",
            "in expression starting at /Users/devans/.julia/packages/Accessors/C574d/src/Accessors.jl:1\n",
            "in expression starting at stdin:1\n",
            "\u001b[91m\u001b[1mERROR: \u001b[22m\u001b[39mLoadError: Failed to precompile Accessors [7d9f7c33-5ae7-4f3b-8dc6-eff91059b697] to /Users/devans/.julia/compiled/v1.8/Accessors/jl_fJP6Bd.\n",
            "Stacktrace:\n",
            "  [1] \u001b[0m\u001b[1merror\u001b[22m\u001b[0m\u001b[1m(\u001b[22m\u001b[90ms\u001b[39m::\u001b[0mString\u001b[0m\u001b[1m)\u001b[22m\n",
            "\u001b[90m    @ \u001b[39m\u001b[90mBase\u001b[39m \u001b[90m./\u001b[39m\u001b[90m\u001b[4merror.jl:35\u001b[24m\u001b[39m\n",
            "  [2] \u001b[0m\u001b[1mcompilecache\u001b[22m\u001b[0m\u001b[1m(\u001b[22m\u001b[90mpkg\u001b[39m::\u001b[0mBase.PkgId, \u001b[90mpath\u001b[39m::\u001b[0mString, \u001b[90minternal_stderr\u001b[39m::\u001b[0mIO, \u001b[90minternal_stdout\u001b[39m::\u001b[0mIO, \u001b[90mkeep_loaded_modules\u001b[39m::\u001b[0mBool\u001b[0m\u001b[1m)\u001b[22m\n",
            "\u001b[90m    @ \u001b[39m\u001b[90mBase\u001b[39m \u001b[90m./\u001b[39m\u001b[90m\u001b[4mloading.jl:1707\u001b[24m\u001b[39m\n",
            "  [3] \u001b[0m\u001b[1mcompilecache\u001b[22m\n",
            "\u001b[90m    @ \u001b[39m\u001b[90m./\u001b[39m\u001b[90m\u001b[4mloading.jl:1651\u001b[24m\u001b[39m\u001b[90m [inlined]\u001b[39m\n",
            "  [4] \u001b[0m\u001b[1m_require\u001b[22m\u001b[0m\u001b[1m(\u001b[22m\u001b[90mpkg\u001b[39m::\u001b[0mBase.PkgId\u001b[0m\u001b[1m)\u001b[22m\n",
            "\u001b[90m    @ \u001b[39m\u001b[90mBase\u001b[39m \u001b[90m./\u001b[39m\u001b[90m\u001b[4mloading.jl:1337\u001b[24m\u001b[39m\n",
            "  [5] \u001b[0m\u001b[1m_require_prelocked\u001b[22m\u001b[0m\u001b[1m(\u001b[22m\u001b[90muuidkey\u001b[39m::\u001b[0mBase.PkgId\u001b[0m\u001b[1m)\u001b[22m\n",
            "\u001b[90m    @ \u001b[39m\u001b[90mBase\u001b[39m \u001b[90m./\u001b[39m\u001b[90m\u001b[4mloading.jl:1200\u001b[24m\u001b[39m\n",
            "  [6] \u001b[0m\u001b[1mmacro expansion\u001b[22m\n",
            "\u001b[90m    @ \u001b[39m\u001b[90m./\u001b[39m\u001b[90m\u001b[4mloading.jl:1180\u001b[24m\u001b[39m\u001b[90m [inlined]\u001b[39m\n",
            "  [7] \u001b[0m\u001b[1mmacro expansion\u001b[22m\n",
            "\u001b[90m    @ \u001b[39m\u001b[90m./\u001b[39m\u001b[90m\u001b[4mlock.jl:223\u001b[24m\u001b[39m\u001b[90m [inlined]\u001b[39m\n",
            "  [8] \u001b[0m\u001b[1mrequire\u001b[22m\u001b[0m\u001b[1m(\u001b[22m\u001b[90minto\u001b[39m::\u001b[0mModule, \u001b[90mmod\u001b[39m::\u001b[0mSymbol\u001b[0m\u001b[1m)\u001b[22m\n",
            "\u001b[90m    @ \u001b[39m\u001b[90mBase\u001b[39m \u001b[90m./\u001b[39m\u001b[90m\u001b[4mloading.jl:1144\u001b[24m\u001b[39m\n",
            "  [9] \u001b[0m\u001b[1minclude\u001b[22m\n",
            "\u001b[90m    @ \u001b[39m\u001b[90m./\u001b[39m\u001b[90m\u001b[4mBase.jl:419\u001b[24m\u001b[39m\u001b[90m [inlined]\u001b[39m\n",
            " [10] \u001b[0m\u001b[1minclude_package_for_output\u001b[22m\u001b[0m\u001b[1m(\u001b[22m\u001b[90mpkg\u001b[39m::\u001b[0mBase.PkgId, \u001b[90minput\u001b[39m::\u001b[0mString, \u001b[90mdepot_path\u001b[39m::\u001b[0mVector\u001b[90m{String}\u001b[39m, \u001b[90mdl_load_path\u001b[39m::\u001b[0mVector\u001b[90m{String}\u001b[39m, \u001b[90mload_path\u001b[39m::\u001b[0mVector\u001b[90m{String}\u001b[39m, \u001b[90mconcrete_deps\u001b[39m::\u001b[0mVector\u001b[90m{Pair{Base.PkgId, UInt64}}\u001b[39m, \u001b[90msource\u001b[39m::\u001b[0mString\u001b[0m\u001b[1m)\u001b[22m\n",
            "\u001b[90m    @ \u001b[39m\u001b[90mBase\u001b[39m \u001b[90m./\u001b[39m\u001b[90m\u001b[4mloading.jl:1554\u001b[24m\u001b[39m\n",
            " [11] top-level scope\n",
            "\u001b[90m    @ \u001b[39m\u001b[90m\u001b[4mstdin:1\u001b[24m\u001b[39m\n",
            "in expression starting at /Users/devans/.julia/packages/Roots/KNVCY/src/Roots.jl:1\n",
            "in expression starting at stdin:1\n"
          ]
        },
        {
          "ename": "ErrorException",
          "evalue": "Failed to precompile Roots [f2b01f46-fcfa-551c-844a-d8ac1e96c665] to /Users/devans/.julia/compiled/v1.8/Roots/jl_NpLIST.",
          "output_type": "error",
          "traceback": [
            "Failed to precompile Roots [f2b01f46-fcfa-551c-844a-d8ac1e96c665] to /Users/devans/.julia/compiled/v1.8/Roots/jl_NpLIST.\n",
            "\n",
            "Stacktrace:\n",
            "  [1] error(s::String)\n",
            "    @ Base ./error.jl:35\n",
            "  [2] compilecache(pkg::Base.PkgId, path::String, internal_stderr::IO, internal_stdout::IO, keep_loaded_modules::Bool)\n",
            "    @ Base ./loading.jl:1707\n",
            "  [3] compilecache\n",
            "    @ ./loading.jl:1651 [inlined]\n",
            "  [4] _require(pkg::Base.PkgId)\n",
            "    @ Base ./loading.jl:1337\n",
            "  [5] _require_prelocked(uuidkey::Base.PkgId)\n",
            "    @ Base ./loading.jl:1200\n",
            "  [6] macro expansion\n",
            "    @ ./loading.jl:1180 [inlined]\n",
            "  [7] macro expansion\n",
            "    @ ./lock.jl:223 [inlined]\n",
            "  [8] require(into::Module, mod::Symbol)\n",
            "    @ Base ./loading.jl:1144\n",
            "  [9] eval\n",
            "    @ ./boot.jl:368 [inlined]\n",
            " [10] include_string(mapexpr::typeof(REPL.softscope), mod::Module, code::String, filename::String)\n",
            "    @ Base ./loading.jl:1428\n",
            " [11] #invokelatest#2\n",
            "    @ ./essentials.jl:729 [inlined]\n",
            " [12] invokelatest\n",
            "    @ ./essentials.jl:726 [inlined]\n",
            " [13] (::VSCodeServer.var\"#217#218\"{VSCodeServer.NotebookRunCellArguments, String})()\n",
            "    @ VSCodeServer ~/.vscode/extensions/julialang.language-julia-1.127.2/scripts/packages/VSCodeServer/src/serve_notebook.jl:24\n",
            " [14] withpath(f::VSCodeServer.var\"#217#218\"{VSCodeServer.NotebookRunCellArguments, String}, path::String)\n",
            "    @ VSCodeServer ~/.vscode/extensions/julialang.language-julia-1.127.2/scripts/packages/VSCodeServer/src/repl.jl:276\n",
            " [15] notebook_runcell_request(conn::VSCodeServer.JSONRPC.JSONRPCEndpoint{Base.PipeEndpoint, Base.PipeEndpoint}, params::VSCodeServer.NotebookRunCellArguments)\n",
            "    @ VSCodeServer ~/.vscode/extensions/julialang.language-julia-1.127.2/scripts/packages/VSCodeServer/src/serve_notebook.jl:13\n",
            " [16] dispatch_msg(x::VSCodeServer.JSONRPC.JSONRPCEndpoint{Base.PipeEndpoint, Base.PipeEndpoint}, dispatcher::VSCodeServer.JSONRPC.MsgDispatcher, msg::Dict{String, Any})\n",
            "    @ VSCodeServer.JSONRPC ~/.vscode/extensions/julialang.language-julia-1.127.2/scripts/packages/JSONRPC/src/typed.jl:67\n",
            " [17] serve_notebook(pipename::String, debugger_pipename::String, outputchannel_logger::Base.CoreLogging.SimpleLogger; error_handler::var\"#5#10\"{String})\n",
            "    @ VSCodeServer ~/.vscode/extensions/julialang.language-julia-1.127.2/scripts/packages/VSCodeServer/src/serve_notebook.jl:147\n",
            " [18] top-level scope\n",
            "    @ ~/.vscode/extensions/julialang.language-julia-1.127.2/scripts/notebook/notebook.jl:35"
          ]
        }
      ],
      "source": [
        "using Roots\n",
        "\"\"\"\n",
        "    household_labor(α,τ,T,σ,γ)\n",
        "\n",
        "Solves for HH labor choice given policy and preferences\n",
        "\"\"\"\n",
        "function household_labor(α,τ,T,σ,γ)\n",
        "    Ŵ = (1-τ)*exp(α) #after tax wages\n",
        "    res(h) = (Ŵ*h+T)^(-σ)*Ŵ-h^γ\n",
        "    min_h = max(0,(.0000001-T)/(1-τ)*exp(α)) #ensures c>.0001\n",
        "    h = fzero(res,min_h,20000.) #find hours that solve HH problem\n",
        "    c = Ŵ*h+T\n",
        "    U = c^(1-σ)/(1-σ)-h^(1+γ)/(1+γ)\n",
        "    return c,h,U\n",
        "end"
      ]
    },
    {
      "cell_type": "markdown",
      "metadata": {
        "slideshow": {
          "slide_type": "subslide"
        }
      },
      "source": [
        "## Implementation Cont.\n",
        "\n",
        "* Next we can aggregate to check Govt. Budget Constraint"
      ]
    },
    {
      "cell_type": "code",
      "execution_count": 17,
      "metadata": {},
      "outputs": [
        {
          "data": {
            "text/plain": [
              "budget_residual"
            ]
          },
          "metadata": {},
          "output_type": "display_data"
        }
      ],
      "source": [
        "\"\"\"\n",
        "    budget_residual(τ,T,αvec,σ,γ)\n",
        "\n",
        "Computes the residual of the HH budget constraint given policy (τ,T).\n",
        "αvec contains the vector of α values for each agent\n",
        "\"\"\"\n",
        "function budget_residual(τ,T,αvec,σ,γ)\n",
        "    tax_income = 0.\n",
        "    N = length(αvec)\n",
        "    for i in 1:N\n",
        "        c,h,U = household_labor(αvec[i],τ,T,σ,γ)\n",
        "        tax_income += τ*h*exp(αvec[i])\n",
        "    end\n",
        "    return tax_income/N - T\n",
        "end"
      ]
    },
    {
      "cell_type": "markdown",
      "metadata": {
        "slideshow": {
          "slide_type": "subslide"
        }
      },
      "source": [
        "## Implementation Cont.\n",
        "* Finally we can compute welfare for a given choice of tax rate"
      ]
    },
    {
      "cell_type": "code",
      "execution_count": 18,
      "metadata": {},
      "outputs": [
        {
          "data": {
            "text/plain": [
              "government_welfare"
            ]
          },
          "metadata": {},
          "output_type": "display_data"
        }
      ],
      "source": [
        "\"\"\"\n",
        "    government_welfare(τ,αvec,σ,γ)\n",
        "\n",
        "Solves for government welfare given tax rate τ\n",
        "\"\"\"\n",
        "function government_welfare(τ,αvec,σ,γ)\n",
        "    f(T) = budget_residual(τ,T,αvec,σ,γ)\n",
        "    T =  fzero(f,0.) #Find transfers that balance budget\n",
        "    \n",
        "    welfare = 0.\n",
        "    N = length(αvec)\n",
        "    for i in 1:N\n",
        "        #compute HH welfare given tax rate\n",
        "        c,h,U = household_labor(αvec[i],τ,T,σ,γ)\n",
        "        welfare += U #Aggregate welfare\n",
        "    end\n",
        "    return welfare/N\n",
        "end"
      ]
    },
    {
      "cell_type": "markdown",
      "metadata": {
        "slideshow": {
          "slide_type": "subslide"
        }
      },
      "source": [
        "## Calibration"
      ]
    },
    {
      "cell_type": "code",
      "execution_count": 19,
      "metadata": {},
      "outputs": [
        {
          "name": "stderr",
          "output_type": "stream",
          "text": [
            "\u001b[91m\u001b[1mERROR: \u001b[22m\u001b[39mLoadError: ArgumentError: Package Compat does not have Dates in its dependencies:\n",
            "- You may have a partially installed environment. Try `Pkg.instantiate()`\n",
            "  to ensure all packages in the environment are installed.\n",
            "- Or, if you have Compat checked out for development and have\n",
            "  added Dates as a dependency but haven't updated your primary\n",
            "  environment's manifest file, try `Pkg.resolve()`.\n",
            "- Otherwise you may need to report an issue with Compat\n",
            "Stacktrace:\n",
            " [1] \u001b[0m\u001b[1mmacro expansion\u001b[22m\n",
            "\u001b[90m   @ \u001b[39m\u001b[90m./\u001b[39m\u001b[90m\u001b[4mloading.jl:1167\u001b[24m\u001b[39m\u001b[90m [inlined]\u001b[39m\n",
            " [2] \u001b[0m\u001b[1mmacro expansion\u001b[22m\n",
            "\u001b[90m   @ \u001b[39m\u001b[90m./\u001b[39m\u001b[90m\u001b[4mlock.jl:223\u001b[24m\u001b[39m\u001b[90m [inlined]\u001b[39m\n",
            " [3] \u001b[0m\u001b[1mrequire\u001b[22m\u001b[0m\u001b[1m(\u001b[22m\u001b[90minto\u001b[39m::\u001b[0mModule, \u001b[90mmod\u001b[39m::\u001b[0mSymbol\u001b[0m\u001b[1m)\u001b[22m\n",
            "\u001b[90m   @ \u001b[39m\u001b[90mBase\u001b[39m \u001b[90m./\u001b[39m\u001b[90m\u001b[4mloading.jl:1144\u001b[24m\u001b[39m\n",
            " [4] top-level scope\n",
            "\u001b[90m   @ \u001b[39m\u001b[90m~/.julia/packages/Compat/gd6AI/src/\u001b[39m\u001b[90m\u001b[4mCompat.jl:8\u001b[24m\u001b[39m\n",
            " [5] \u001b[0m\u001b[1minclude\u001b[22m\n",
            "\u001b[90m   @ \u001b[39m\u001b[90m./\u001b[39m\u001b[90m\u001b[4mBase.jl:419\u001b[24m\u001b[39m\u001b[90m [inlined]\u001b[39m\n",
            " [6] \u001b[0m\u001b[1minclude_package_for_output\u001b[22m\u001b[0m\u001b[1m(\u001b[22m\u001b[90mpkg\u001b[39m::\u001b[0mBase.PkgId, \u001b[90minput\u001b[39m::\u001b[0mString, \u001b[90mdepot_path\u001b[39m::\u001b[0mVector\u001b[90m{String}\u001b[39m, \u001b[90mdl_load_path\u001b[39m::\u001b[0mVector\u001b[90m{String}\u001b[39m, \u001b[90mload_path\u001b[39m::\u001b[0mVector\u001b[90m{String}\u001b[39m, \u001b[90mconcrete_deps\u001b[39m::\u001b[0mVector\u001b[90m{Pair{Base.PkgId, UInt64}}\u001b[39m, \u001b[90msource\u001b[39m::\u001b[0mString\u001b[0m\u001b[1m)\u001b[22m\n",
            "\u001b[90m   @ \u001b[39m\u001b[90mBase\u001b[39m \u001b[90m./\u001b[39m\u001b[90m\u001b[4mloading.jl:1554\u001b[24m\u001b[39m\n",
            " [7] top-level scope\n",
            "\u001b[90m   @ \u001b[39m\u001b[90m\u001b[4mstdin:1\u001b[24m\u001b[39m\n",
            "in expression starting at /Users/devans/.julia/packages/Compat/gd6AI/src/Compat.jl:1\n",
            "in expression starting at stdin:1\n",
            "\u001b[91m\u001b[1mERROR: \u001b[22m\u001b[39mLoadError: Failed to precompile Compat [34da2185-b29b-5c13-b0c7-acf172513d20] to /Users/devans/.julia/compiled/v1.8/Compat/jl_1dWOVe.\n",
            "Stacktrace:\n",
            "  [1] \u001b[0m\u001b[1merror\u001b[22m\u001b[0m\u001b[1m(\u001b[22m\u001b[90ms\u001b[39m::\u001b[0mString\u001b[0m\u001b[1m)\u001b[22m\n",
            "\u001b[90m    @ \u001b[39m\u001b[90mBase\u001b[39m \u001b[90m./\u001b[39m\u001b[90m\u001b[4merror.jl:35\u001b[24m\u001b[39m\n",
            "  [2] \u001b[0m\u001b[1mcompilecache\u001b[22m\u001b[0m\u001b[1m(\u001b[22m\u001b[90mpkg\u001b[39m::\u001b[0mBase.PkgId, \u001b[90mpath\u001b[39m::\u001b[0mString, \u001b[90minternal_stderr\u001b[39m::\u001b[0mIO, \u001b[90minternal_stdout\u001b[39m::\u001b[0mIO, \u001b[90mkeep_loaded_modules\u001b[39m::\u001b[0mBool\u001b[0m\u001b[1m)\u001b[22m\n",
            "\u001b[90m    @ \u001b[39m\u001b[90mBase\u001b[39m \u001b[90m./\u001b[39m\u001b[90m\u001b[4mloading.jl:1707\u001b[24m\u001b[39m\n",
            "  [3] \u001b[0m\u001b[1mcompilecache\u001b[22m\n",
            "\u001b[90m    @ \u001b[39m\u001b[90m./\u001b[39m\u001b[90m\u001b[4mloading.jl:1651\u001b[24m\u001b[39m\u001b[90m [inlined]\u001b[39m\n",
            "  [4] \u001b[0m\u001b[1m_require\u001b[22m\u001b[0m\u001b[1m(\u001b[22m\u001b[90mpkg\u001b[39m::\u001b[0mBase.PkgId\u001b[0m\u001b[1m)\u001b[22m\n",
            "\u001b[90m    @ \u001b[39m\u001b[90mBase\u001b[39m \u001b[90m./\u001b[39m\u001b[90m\u001b[4mloading.jl:1337\u001b[24m\u001b[39m\n",
            "  [5] \u001b[0m\u001b[1m_require_prelocked\u001b[22m\u001b[0m\u001b[1m(\u001b[22m\u001b[90muuidkey\u001b[39m::\u001b[0mBase.PkgId\u001b[0m\u001b[1m)\u001b[22m\n",
            "\u001b[90m    @ \u001b[39m\u001b[90mBase\u001b[39m \u001b[90m./\u001b[39m\u001b[90m\u001b[4mloading.jl:1200\u001b[24m\u001b[39m\n",
            "  [6] \u001b[0m\u001b[1mmacro expansion\u001b[22m\n",
            "\u001b[90m    @ \u001b[39m\u001b[90m./\u001b[39m\u001b[90m\u001b[4mloading.jl:1180\u001b[24m\u001b[39m\u001b[90m [inlined]\u001b[39m\n",
            "  [7] \u001b[0m\u001b[1mmacro expansion\u001b[22m\n",
            "\u001b[90m    @ \u001b[39m\u001b[90m./\u001b[39m\u001b[90m\u001b[4mlock.jl:223\u001b[24m\u001b[39m\u001b[90m [inlined]\u001b[39m\n",
            "  [8] \u001b[0m\u001b[1mrequire\u001b[22m\u001b[0m\u001b[1m(\u001b[22m\u001b[90minto\u001b[39m::\u001b[0mModule, \u001b[90mmod\u001b[39m::\u001b[0mSymbol\u001b[0m\u001b[1m)\u001b[22m\n",
            "\u001b[90m    @ \u001b[39m\u001b[90mBase\u001b[39m \u001b[90m./\u001b[39m\u001b[90m\u001b[4mloading.jl:1144\u001b[24m\u001b[39m\n",
            "  [9] \u001b[0m\u001b[1minclude\u001b[22m\n",
            "\u001b[90m    @ \u001b[39m\u001b[90m./\u001b[39m\u001b[90m\u001b[4mBase.jl:419\u001b[24m\u001b[39m\u001b[90m [inlined]\u001b[39m\n",
            " [10] \u001b[0m\u001b[1minclude_package_for_output\u001b[22m\u001b[0m\u001b[1m(\u001b[22m\u001b[90mpkg\u001b[39m::\u001b[0mBase.PkgId, \u001b[90minput\u001b[39m::\u001b[0mString, \u001b[90mdepot_path\u001b[39m::\u001b[0mVector\u001b[90m{String}\u001b[39m, \u001b[90mdl_load_path\u001b[39m::\u001b[0mVector\u001b[90m{String}\u001b[39m, \u001b[90mload_path\u001b[39m::\u001b[0mVector\u001b[90m{String}\u001b[39m, \u001b[90mconcrete_deps\u001b[39m::\u001b[0mVector\u001b[90m{Pair{Base.PkgId, UInt64}}\u001b[39m, \u001b[90msource\u001b[39m::\u001b[0mString\u001b[0m\u001b[1m)\u001b[22m\n",
            "\u001b[90m    @ \u001b[39m\u001b[90mBase\u001b[39m \u001b[90m./\u001b[39m\u001b[90m\u001b[4mloading.jl:1554\u001b[24m\u001b[39m\n",
            " [11] top-level scope\n",
            "\u001b[90m    @ \u001b[39m\u001b[90m\u001b[4mstdin:1\u001b[24m\u001b[39m\n",
            "in expression starting at /Users/devans/.julia/packages/DataStructures/95DJa/src/DataStructures.jl:1\n",
            "in expression starting at stdin:1\n",
            "\u001b[91m\u001b[1mERROR: \u001b[22m\u001b[39mLoadError: Failed to precompile DataStructures [864edb3b-99cc-5e75-8d2d-829cb0a9cfe8] to /Users/devans/.julia/compiled/v1.8/DataStructures/jl_ygdbJD.\n",
            "Stacktrace:\n",
            "  [1] \u001b[0m\u001b[1merror\u001b[22m\u001b[0m\u001b[1m(\u001b[22m\u001b[90ms\u001b[39m::\u001b[0mString\u001b[0m\u001b[1m)\u001b[22m\n",
            "\u001b[90m    @ \u001b[39m\u001b[90mBase\u001b[39m \u001b[90m./\u001b[39m\u001b[90m\u001b[4merror.jl:35\u001b[24m\u001b[39m\n",
            "  [2] \u001b[0m\u001b[1mcompilecache\u001b[22m\u001b[0m\u001b[1m(\u001b[22m\u001b[90mpkg\u001b[39m::\u001b[0mBase.PkgId, \u001b[90mpath\u001b[39m::\u001b[0mString, \u001b[90minternal_stderr\u001b[39m::\u001b[0mIO, \u001b[90minternal_stdout\u001b[39m::\u001b[0mIO, \u001b[90mkeep_loaded_modules\u001b[39m::\u001b[0mBool\u001b[0m\u001b[1m)\u001b[22m\n",
            "\u001b[90m    @ \u001b[39m\u001b[90mBase\u001b[39m \u001b[90m./\u001b[39m\u001b[90m\u001b[4mloading.jl:1707\u001b[24m\u001b[39m\n",
            "  [3] \u001b[0m\u001b[1mcompilecache\u001b[22m\n",
            "\u001b[90m    @ \u001b[39m\u001b[90m./\u001b[39m\u001b[90m\u001b[4mloading.jl:1651\u001b[24m\u001b[39m\u001b[90m [inlined]\u001b[39m\n",
            "  [4] \u001b[0m\u001b[1m_require\u001b[22m\u001b[0m\u001b[1m(\u001b[22m\u001b[90mpkg\u001b[39m::\u001b[0mBase.PkgId\u001b[0m\u001b[1m)\u001b[22m\n",
            "\u001b[90m    @ \u001b[39m\u001b[90mBase\u001b[39m \u001b[90m./\u001b[39m\u001b[90m\u001b[4mloading.jl:1337\u001b[24m\u001b[39m\n",
            "  [5] \u001b[0m\u001b[1m_require_prelocked\u001b[22m\u001b[0m\u001b[1m(\u001b[22m\u001b[90muuidkey\u001b[39m::\u001b[0mBase.PkgId\u001b[0m\u001b[1m)\u001b[22m\n",
            "\u001b[90m    @ \u001b[39m\u001b[90mBase\u001b[39m \u001b[90m./\u001b[39m\u001b[90m\u001b[4mloading.jl:1200\u001b[24m\u001b[39m\n",
            "  [6] \u001b[0m\u001b[1mmacro expansion\u001b[22m\n",
            "\u001b[90m    @ \u001b[39m\u001b[90m./\u001b[39m\u001b[90m\u001b[4mloading.jl:1180\u001b[24m\u001b[39m\u001b[90m [inlined]\u001b[39m\n",
            "  [7] \u001b[0m\u001b[1mmacro expansion\u001b[22m\n",
            "\u001b[90m    @ \u001b[39m\u001b[90m./\u001b[39m\u001b[90m\u001b[4mlock.jl:223\u001b[24m\u001b[39m\u001b[90m [inlined]\u001b[39m\n",
            "  [8] \u001b[0m\u001b[1mrequire\u001b[22m\u001b[0m\u001b[1m(\u001b[22m\u001b[90minto\u001b[39m::\u001b[0mModule, \u001b[90mmod\u001b[39m::\u001b[0mSymbol\u001b[0m\u001b[1m)\u001b[22m\n",
            "\u001b[90m    @ \u001b[39m\u001b[90mBase\u001b[39m \u001b[90m./\u001b[39m\u001b[90m\u001b[4mloading.jl:1144\u001b[24m\u001b[39m\n",
            "  [9] \u001b[0m\u001b[1minclude\u001b[22m\n",
            "\u001b[90m    @ \u001b[39m\u001b[90m./\u001b[39m\u001b[90m\u001b[4mBase.jl:419\u001b[24m\u001b[39m\u001b[90m [inlined]\u001b[39m\n",
            " [10] \u001b[0m\u001b[1minclude_package_for_output\u001b[22m\u001b[0m\u001b[1m(\u001b[22m\u001b[90mpkg\u001b[39m::\u001b[0mBase.PkgId, \u001b[90minput\u001b[39m::\u001b[0mString, \u001b[90mdepot_path\u001b[39m::\u001b[0mVector\u001b[90m{String}\u001b[39m, \u001b[90mdl_load_path\u001b[39m::\u001b[0mVector\u001b[90m{String}\u001b[39m, \u001b[90mload_path\u001b[39m::\u001b[0mVector\u001b[90m{String}\u001b[39m, \u001b[90mconcrete_deps\u001b[39m::\u001b[0mVector\u001b[90m{Pair{Base.PkgId, UInt64}}\u001b[39m, \u001b[90msource\u001b[39m::\u001b[0mString\u001b[0m\u001b[1m)\u001b[22m\n",
            "\u001b[90m    @ \u001b[39m\u001b[90mBase\u001b[39m \u001b[90m./\u001b[39m\u001b[90m\u001b[4mloading.jl:1554\u001b[24m\u001b[39m\n",
            " [11] top-level scope\n",
            "\u001b[90m    @ \u001b[39m\u001b[90m\u001b[4mstdin:1\u001b[24m\u001b[39m\n",
            "in expression starting at /Users/devans/.julia/packages/StatsBase/ebrT3/src/StatsBase.jl:1\n",
            "in expression starting at stdin:1\n",
            "\u001b[91m\u001b[1mERROR: \u001b[22m\u001b[39mLoadError: Failed to precompile StatsBase [2913bbd2-ae8a-5f71-8c99-4fb6c76f3a91] to /Users/devans/.julia/compiled/v1.8/StatsBase/jl_JMCARu.\n",
            "Stacktrace:\n",
            "  [1] \u001b[0m\u001b[1merror\u001b[22m\u001b[0m\u001b[1m(\u001b[22m\u001b[90ms\u001b[39m::\u001b[0mString\u001b[0m\u001b[1m)\u001b[22m\n",
            "\u001b[90m    @ \u001b[39m\u001b[90mBase\u001b[39m \u001b[90m./\u001b[39m\u001b[90m\u001b[4merror.jl:35\u001b[24m\u001b[39m\n",
            "  [2] \u001b[0m\u001b[1mcompilecache\u001b[22m\u001b[0m\u001b[1m(\u001b[22m\u001b[90mpkg\u001b[39m::\u001b[0mBase.PkgId, \u001b[90mpath\u001b[39m::\u001b[0mString, \u001b[90minternal_stderr\u001b[39m::\u001b[0mIO, \u001b[90minternal_stdout\u001b[39m::\u001b[0mIO, \u001b[90mkeep_loaded_modules\u001b[39m::\u001b[0mBool\u001b[0m\u001b[1m)\u001b[22m\n",
            "\u001b[90m    @ \u001b[39m\u001b[90mBase\u001b[39m \u001b[90m./\u001b[39m\u001b[90m\u001b[4mloading.jl:1707\u001b[24m\u001b[39m\n",
            "  [3] \u001b[0m\u001b[1mcompilecache\u001b[22m\n",
            "\u001b[90m    @ \u001b[39m\u001b[90m./\u001b[39m\u001b[90m\u001b[4mloading.jl:1651\u001b[24m\u001b[39m\u001b[90m [inlined]\u001b[39m\n",
            "  [4] \u001b[0m\u001b[1m_require\u001b[22m\u001b[0m\u001b[1m(\u001b[22m\u001b[90mpkg\u001b[39m::\u001b[0mBase.PkgId\u001b[0m\u001b[1m)\u001b[22m\n",
            "\u001b[90m    @ \u001b[39m\u001b[90mBase\u001b[39m \u001b[90m./\u001b[39m\u001b[90m\u001b[4mloading.jl:1337\u001b[24m\u001b[39m\n",
            "  [5] \u001b[0m\u001b[1m_require_prelocked\u001b[22m\u001b[0m\u001b[1m(\u001b[22m\u001b[90muuidkey\u001b[39m::\u001b[0mBase.PkgId\u001b[0m\u001b[1m)\u001b[22m\n",
            "\u001b[90m    @ \u001b[39m\u001b[90mBase\u001b[39m \u001b[90m./\u001b[39m\u001b[90m\u001b[4mloading.jl:1200\u001b[24m\u001b[39m\n",
            "  [6] \u001b[0m\u001b[1mmacro expansion\u001b[22m\n",
            "\u001b[90m    @ \u001b[39m\u001b[90m./\u001b[39m\u001b[90m\u001b[4mloading.jl:1180\u001b[24m\u001b[39m\u001b[90m [inlined]\u001b[39m\n",
            "  [7] \u001b[0m\u001b[1mmacro expansion\u001b[22m\n",
            "\u001b[90m    @ \u001b[39m\u001b[90m./\u001b[39m\u001b[90m\u001b[4mlock.jl:223\u001b[24m\u001b[39m\u001b[90m [inlined]\u001b[39m\n",
            "  [8] \u001b[0m\u001b[1mrequire\u001b[22m\u001b[0m\u001b[1m(\u001b[22m\u001b[90minto\u001b[39m::\u001b[0mModule, \u001b[90mmod\u001b[39m::\u001b[0mSymbol\u001b[0m\u001b[1m)\u001b[22m\n",
            "\u001b[90m    @ \u001b[39m\u001b[90mBase\u001b[39m \u001b[90m./\u001b[39m\u001b[90m\u001b[4mloading.jl:1144\u001b[24m\u001b[39m\n",
            "  [9] \u001b[0m\u001b[1minclude\u001b[22m\n",
            "\u001b[90m    @ \u001b[39m\u001b[90m./\u001b[39m\u001b[90m\u001b[4mBase.jl:419\u001b[24m\u001b[39m\u001b[90m [inlined]\u001b[39m\n",
            " [10] \u001b[0m\u001b[1minclude_package_for_output\u001b[22m\u001b[0m\u001b[1m(\u001b[22m\u001b[90mpkg\u001b[39m::\u001b[0mBase.PkgId, \u001b[90minput\u001b[39m::\u001b[0mString, \u001b[90mdepot_path\u001b[39m::\u001b[0mVector\u001b[90m{String}\u001b[39m, \u001b[90mdl_load_path\u001b[39m::\u001b[0mVector\u001b[90m{String}\u001b[39m, \u001b[90mload_path\u001b[39m::\u001b[0mVector\u001b[90m{String}\u001b[39m, \u001b[90mconcrete_deps\u001b[39m::\u001b[0mVector\u001b[90m{Pair{Base.PkgId, UInt64}}\u001b[39m, \u001b[90msource\u001b[39m::\u001b[0mString\u001b[0m\u001b[1m)\u001b[22m\n",
            "\u001b[90m    @ \u001b[39m\u001b[90mBase\u001b[39m \u001b[90m./\u001b[39m\u001b[90m\u001b[4mloading.jl:1554\u001b[24m\u001b[39m\n",
            " [11] top-level scope\n",
            "\u001b[90m    @ \u001b[39m\u001b[90m\u001b[4mstdin:1\u001b[24m\u001b[39m\n",
            "in expression starting at /Users/devans/.julia/packages/Distributions/Qeo2J/src/Distributions.jl:1\n",
            "in expression starting at stdin:1\n"
          ]
        },
        {
          "ename": "ErrorException",
          "evalue": "Failed to precompile Distributions [31c24e10-a181-5473-b8eb-7969acd0382f] to /Users/devans/.julia/compiled/v1.8/Distributions/jl_qs3vd1.",
          "output_type": "error",
          "traceback": [
            "Failed to precompile Distributions [31c24e10-a181-5473-b8eb-7969acd0382f] to /Users/devans/.julia/compiled/v1.8/Distributions/jl_qs3vd1.\n",
            "\n",
            "Stacktrace:\n",
            "  [1] error(s::String)\n",
            "    @ Base ./error.jl:35\n",
            "  [2] compilecache(pkg::Base.PkgId, path::String, internal_stderr::IO, internal_stdout::IO, keep_loaded_modules::Bool)\n",
            "    @ Base ./loading.jl:1707\n",
            "  [3] compilecache\n",
            "    @ ./loading.jl:1651 [inlined]\n",
            "  [4] _require(pkg::Base.PkgId)\n",
            "    @ Base ./loading.jl:1337\n",
            "  [5] _require_prelocked(uuidkey::Base.PkgId)\n",
            "    @ Base ./loading.jl:1200\n",
            "  [6] macro expansion\n",
            "    @ ./loading.jl:1180 [inlined]\n",
            "  [7] macro expansion\n",
            "    @ ./lock.jl:223 [inlined]\n",
            "  [8] require(into::Module, mod::Symbol)\n",
            "    @ Base ./loading.jl:1144\n",
            "  [9] eval\n",
            "    @ ./boot.jl:368 [inlined]\n",
            " [10] include_string(mapexpr::typeof(REPL.softscope), mod::Module, code::String, filename::String)\n",
            "    @ Base ./loading.jl:1428\n",
            " [11] #invokelatest#2\n",
            "    @ ./essentials.jl:729 [inlined]\n",
            " [12] invokelatest\n",
            "    @ ./essentials.jl:726 [inlined]\n",
            " [13] (::VSCodeServer.var\"#217#218\"{VSCodeServer.NotebookRunCellArguments, String})()\n",
            "    @ VSCodeServer ~/.vscode/extensions/julialang.language-julia-1.127.2/scripts/packages/VSCodeServer/src/serve_notebook.jl:24\n",
            " [14] withpath(f::VSCodeServer.var\"#217#218\"{VSCodeServer.NotebookRunCellArguments, String}, path::String)\n",
            "    @ VSCodeServer ~/.vscode/extensions/julialang.language-julia-1.127.2/scripts/packages/VSCodeServer/src/repl.jl:276\n",
            " [15] notebook_runcell_request(conn::VSCodeServer.JSONRPC.JSONRPCEndpoint{Base.PipeEndpoint, Base.PipeEndpoint}, params::VSCodeServer.NotebookRunCellArguments)\n",
            "    @ VSCodeServer ~/.vscode/extensions/julialang.language-julia-1.127.2/scripts/packages/VSCodeServer/src/serve_notebook.jl:13\n",
            " [16] dispatch_msg(x::VSCodeServer.JSONRPC.JSONRPCEndpoint{Base.PipeEndpoint, Base.PipeEndpoint}, dispatcher::VSCodeServer.JSONRPC.MsgDispatcher, msg::Dict{String, Any})\n",
            "    @ VSCodeServer.JSONRPC ~/.vscode/extensions/julialang.language-julia-1.127.2/scripts/packages/JSONRPC/src/typed.jl:67\n",
            " [17] serve_notebook(pipename::String, debugger_pipename::String, outputchannel_logger::Base.CoreLogging.SimpleLogger; error_handler::var\"#5#10\"{String})\n",
            "    @ VSCodeServer ~/.vscode/extensions/julialang.language-julia-1.127.2/scripts/packages/VSCodeServer/src/serve_notebook.jl:147\n",
            " [18] top-level scope\n",
            "    @ ~/.vscode/extensions/julialang.language-julia-1.127.2/scripts/notebook/notebook.jl:35"
          ]
        }
      ],
      "source": [
        "using Distributions\n",
        "σ = 2. #Standard\n",
        "γ = 2. #Targets Frisch elasticity of 0.5\n",
        "σ_α = sqrt(0.147) #Taken from HSV\n",
        "N = 1000\n",
        "alphaDist = Normal(-σ_α^2/2,σ_α)\n",
        "αvec = rand(alphaDist,N);"
      ]
    },
    {
      "cell_type": "markdown",
      "metadata": {
        "slideshow": {
          "slide_type": "subslide"
        }
      },
      "source": [
        "## Welfare Function"
      ]
    },
    {
      "cell_type": "code",
      "execution_count": 20,
      "metadata": {},
      "outputs": [
        {
          "ename": "UndefVarError",
          "evalue": "UndefVarError: plot not defined",
          "output_type": "error",
          "traceback": [
            "UndefVarError: plot not defined\n",
            "\n",
            "Stacktrace:\n",
            " [1] top-level scope\n",
            "   @ ~/University of Oregon Dropbox/David Evans/University of Oregon/Courses/Spring 2025/EC 607 Computational/EC-607-Computational-Economics-Github/Lectures/Optimization/jl_notebook_cell_df34fa98e69747e1a8f8a730347b8e2f_X46sZmlsZQ==.jl:1"
          ]
        }
      ],
      "source": [
        "plot(τ->government_welfare(τ,αvec,σ,γ),0.,0.8,ylabel=\"Welfare\",xlabel=\"Tax Rate\")"
      ]
    },
    {
      "cell_type": "markdown",
      "metadata": {
        "slideshow": {
          "slide_type": "subslide"
        }
      },
      "source": [
        "## Optimization"
      ]
    },
    {
      "cell_type": "code",
      "execution_count": 21,
      "metadata": {},
      "outputs": [
        {
          "ename": "UndefVarError",
          "evalue": "UndefVarError: Optim not defined",
          "output_type": "error",
          "traceback": [
            "UndefVarError: Optim not defined\n",
            "\n",
            "Stacktrace:\n",
            " [1] top-level scope\n",
            "   @ ./timing.jl:262 [inlined]\n",
            " [2] top-level scope\n",
            "   @ ~/University of Oregon Dropbox/David Evans/University of Oregon/Courses/Spring 2025/EC 607 Computational/EC-607-Computational-Economics-Github/Lectures/Optimization/jl_notebook_cell_df34fa98e69747e1a8f8a730347b8e2f_X51sZmlsZQ==.jl:0"
          ]
        }
      ],
      "source": [
        "@time minx_optim = Optim.optimize(τ->-government_welfare(τ,αvec,σ,γ),0.,0.8)\n",
        "println(minx_optim)"
      ]
    },
    {
      "cell_type": "markdown",
      "metadata": {
        "slideshow": {
          "slide_type": "subslide"
        }
      },
      "source": [
        "## Using NLopt\n",
        "* First allow government welfare to be evaluated at any level of transfers"
      ]
    },
    {
      "cell_type": "code",
      "execution_count": 22,
      "metadata": {},
      "outputs": [
        {
          "data": {
            "text/plain": [
              "government_welfare"
            ]
          },
          "metadata": {},
          "output_type": "display_data"
        }
      ],
      "source": [
        "\"\"\"\n",
        "    government_welfare(τ,T,αvec,σ,γ)\n",
        "\n",
        "Solves for government welfare given tax rate τ\n",
        "\"\"\"\n",
        "function government_welfare(τ,T,αvec,σ,γ)\n",
        "    welfare = 0.\n",
        "    N = length(αvec)\n",
        "    for i in 1:N\n",
        "        #compute HH welfare given tax rate\n",
        "        c,h,U = household_labor(αvec[i],τ,T,σ,γ)\n",
        "        welfare += U #Aggregate welfare\n",
        "    end\n",
        "    return welfare/N\n",
        "end"
      ]
    },
    {
      "cell_type": "markdown",
      "metadata": {
        "slideshow": {
          "slide_type": "subslide"
        }
      },
      "source": [
        "## Setup Optimization Problem\n",
        "* Note only a few algorithms can use equality constraints\n",
        "    * One derivative free algorithm is COBYLA"
      ]
    },
    {
      "cell_type": "code",
      "execution_count": 23,
      "metadata": {},
      "outputs": [
        {
          "ename": "UndefVarError",
          "evalue": "UndefVarError: Opt not defined",
          "output_type": "error",
          "traceback": [
            "UndefVarError: Opt not defined\n",
            "\n",
            "Stacktrace:\n",
            " [1] top-level scope\n",
            "   @ ~/University of Oregon Dropbox/David Evans/University of Oregon/Courses/Spring 2025/EC 607 Computational/EC-607-Computational-Economics-Github/Lectures/Optimization/jl_notebook_cell_df34fa98e69747e1a8f8a730347b8e2f_X55sZmlsZQ==.jl:1"
          ]
        }
      ],
      "source": [
        "opt = Opt(:LN_COBYLA, 2)\n",
        "\n",
        "lower_bounds!(opt, [0., -1.]) #x[1] is tau, x[2] is T\n",
        "upper_bounds!(opt, [0.8,Inf])\n",
        "ftol_rel!(opt,1e-8)\n",
        "\n",
        "min_objective!(opt, (x,g)->-government_welfare(x[1],x[2],αvec,σ,γ))\n",
        "equality_constraint!(opt, (x,g) -> -budget_residual(x[1],x[2],αvec,σ,γ))\n",
        "\n",
        "@time (minf,minx_nlopt,ret) = NLopt.optimize(opt, [0.3, 0.3])\n",
        "println(minx_nlopt[1])"
      ]
    },
    {
      "cell_type": "code",
      "execution_count": 24,
      "metadata": {},
      "outputs": [],
      "source": []
    }
  ],
  "metadata": {
    "kernelspec": {
      "display_name": "Julia 1.8.5",
      "language": "julia",
      "name": "julia-1.8"
    },
    "language_info": {
      "file_extension": ".jl",
      "mimetype": "application/julia",
      "name": "julia",
      "version": "1.8.5"
    }
  },
  "nbformat": 4,
  "nbformat_minor": 2
}

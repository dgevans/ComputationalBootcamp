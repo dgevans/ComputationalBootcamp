{
  "cells": [
    {
      "cell_type": "markdown",
      "metadata": {
        "slideshow": {
          "slide_type": "slide"
        }
      },
      "source": [
        "# Optimization\n",
        "<style type=\"text/css\">\n",
        "  .reveal p {\n",
        "    text-align: left;\n",
        "  }\n",
        "  .reveal ul {\n",
        "    display: block;\n",
        "  }\n",
        "  .reveal ol {\n",
        "    display: block;\n",
        "  }\n",
        "</style>"
      ]
    },
    {
      "cell_type": "code",
      "execution_count": 7,
      "metadata": {
        "slideshow": {
          "slide_type": "skip"
        }
      },
      "outputs": [],
      "source": [
        "using Plots\n",
        "default(linewidth=2,legend=false,margin=5Plots.mm)"
      ]
    },
    {
      "cell_type": "markdown",
      "metadata": {
        "slideshow": {
          "slide_type": "slide"
        }
      },
      "source": [
        "## Introduction\n",
        "\n",
        "*  In economics we often find our selves needing to maximize some objective function\n",
        "\n",
        "* i.e. solve a problem of the form\n",
        "$$\n",
        "    \\max_{\\mathbf x} f(\\mathbf x)\n",
        "$$\n",
        "subject to \n",
        "\\begin{align*}\n",
        "    g_i(\\mathbf x)&\\leq 0\\\\\n",
        "    r_j(\\mathbf x)&= 0\n",
        "\\end{align*}\n",
        "\n",
        "* Well begin by looking at \n",
        "$$\n",
        "    \\min_{\\mathbf x} f(\\mathbf x)\n",
        "$$\n"
      ]
    },
    {
      "cell_type": "markdown",
      "metadata": {
        "slideshow": {
          "slide_type": "subslide"
        }
      },
      "source": [
        "\n",
        "## Isomorphism \n",
        "* Start with the standard minimization problem\n",
        "$$\n",
        "    \\min_{\\mathbf x} f(\\mathbf x)\n",
        "$$\n",
        "\n",
        "* If concave, this is isomorphic to the root-solving problem\n",
        "$$\n",
        "    \\nabla f(\\mathbf x) = 0\n",
        "$$\n",
        "\n",
        "*  The multivariate root-finding problem \n",
        "$$\n",
        "    g^i(\\mathbf x) = 0\n",
        "$$\n",
        "can be recast as\n",
        "$$\n",
        "    \\min_{\\mathbf x} \\sum_i g^i(\\mathbf x)^2\n",
        "$$"
      ]
    },
    {
      "cell_type": "markdown",
      "metadata": {
        "slideshow": {
          "slide_type": "subslide"
        }
      },
      "source": [
        "## Basic Concepts\n",
        "* All methods: *Search the space of feasible choices by generating a sequence of guesses that (hopefully) converges to a solution.*\n",
        "\n",
        "* Essentially two types:\n",
        "    * **Comparison Methods:** Compute objective at valious points, find the one which gives smallest value\n",
        "    * **Gradient Based Methods:**  Use information on the slope (and possibly hessian!)\n",
        "\n",
        "* All these methods will find **local** minima.  \n",
        "    * Not a problem if you minimization problem is convex\n",
        "\n",
        "* If not, need multiple initializations to be sure a global minimum is found\n",
        "    * Note: can do this after value function has converged if used in dynamic optimzation."
      ]
    },
    {
      "cell_type": "markdown",
      "metadata": {
        "slideshow": {
          "slide_type": "subslide"
        }
      },
      "source": [
        "## How to Choose an Algorithm\n",
        "\n",
        "* **Speed:**  Optimization is likely goiong to be in the innermost loop\n",
        "\n",
        "    * Want a fast algorithm: i.e. minimizes number of function evaluations\n",
        "\n",
        "    * Gradient Based methods generally involve fewer evaluations\n",
        "\n",
        "* **Robustness to Nonsmoothness:**  If you objective function is not smooth gradient based methods will have difficulty, can get stuck \n",
        "\n",
        "    * Comparison methods are generally better behaved\n",
        "\n",
        "* **Robustness to starting parameters:**  Gradient based are also more likely to find different local minima at different starting values\n",
        "\n",
        "    * Stochastic comparison methods (like simulated annealing) are more likely to find global minima"
      ]
    },
    {
      "cell_type": "markdown",
      "metadata": {
        "slideshow": {
          "slide_type": "subslide"
        }
      },
      "source": [
        "## Bracketing Method\n",
        "* Similar to Brent root search algorithm\n",
        "\n",
        "    * Most reliable method for one dimensional problems\n",
        "\n",
        "    * Guaranteed to find local minima for continuous functions\n",
        "\n",
        "* Initialization: Choose triple $(a,b,c)$ such that $a<b<c$ and  $f(a),f(c) >f(b)$\n",
        "\n",
        "    * Note this implies there must be a local minima in $[a,c]$\n",
        "\n",
        "* Choose $d\\in(a,b)$\n",
        "\n",
        "    * If $f(d) > f(b)$ then there is a minima in $[d,c]$ choose new triple $(d,b,c)$\n",
        "\n",
        "    * If $f(d) < f(b)$ then there is a minima in $[a,b]$ choose new triple $(a,d,b)$\n",
        "\n",
        "* Update the triple $(a,b,c)$ to the new one in previous step\n",
        "\n",
        "* Stop if $c-a <\\delta$\n",
        "\n",
        "* **Golden Search** provides optimal way to choose $b,d$"
      ]
    },
    {
      "cell_type": "markdown",
      "metadata": {
        "slideshow": {
          "slide_type": "subslide"
        }
      },
      "source": [
        "\n",
        "\n",
        "\n",
        "\n",
        "## Example function"
      ]
    },
    {
      "cell_type": "code",
      "execution_count": 20,
      "metadata": {},
      "outputs": [
        {
          "data": {
            "image/png": "[encoded data removed]",
            "image/svg+xml": [
              "<?xml version=\"1.0\" encoding=\"utf-8\"?>\n",
              "<svg xmlns=\"http://www.w3.org/2000/svg\" xmlns:xlink=\"http://www.w3.org/1999/xlink\" width=\"600\" height=\"400\" viewBox=\"0 0 2400 1600\">\n",
              "<defs>\n",
              "  <clipPath id=\"clip220\">\n",
              "    <rect x=\"0\" y=\"0\" width=\"2400\" height=\"1600\"/>\n",
              "  </clipPath>\n",
              "</defs>\n",
              "<path clip-path=\"url(#clip220)\" d=\"M0 1600 L2400 1600 L2400 8.88178e-14 L0 8.88178e-14  Z\" fill=\"#ffffff\" fill-rule=\"evenodd\" fill-opacity=\"1\"/>\n",
              "<defs>\n",
              "  <clipPath id=\"clip221\">\n",
              "    <rect x=\"480\" y=\"0\" width=\"1681\" height=\"1600\"/>\n",
              "  </clipPath>\n",
              "</defs>\n",
              "<path clip-path=\"url(#clip220)\" d=\"M175.169 1423.46 L2289.76 1423.46 L2289.76 110.236 L175.169 110.236  Z\" fill=\"#ffffff\" fill-rule=\"evenodd\" fill-opacity=\"1\"/>\n",
              "<defs>\n",
              "  <clipPath id=\"clip222\">\n",
              "    <rect x=\"175\" y=\"110\" width=\"2116\" height=\"1314\"/>\n",
              "  </clipPath>\n",
              "</defs>\n",
              "<polyline clip-path=\"url(#clip222)\" style=\"stroke:#000000; stroke-linecap:round; stroke-linejoin:round; stroke-width:2; stroke-opacity:0.1; fill:none\" points=\"235.016,1423.46 235.016,110.236 \"/>\n",
              "<polyline clip-path=\"url(#clip222)\" style=\"stroke:#000000; stroke-linecap:round; stroke-linejoin:round; stroke-width:2; stroke-opacity:0.1; fill:none\" points=\"899.983,1423.46 899.983,110.236 \"/>\n",
              "<polyline clip-path=\"url(#clip222)\" style=\"stroke:#000000; stroke-linecap:round; stroke-linejoin:round; stroke-width:2; stroke-opacity:0.1; fill:none\" points=\"1564.95,1423.46 1564.95,110.236 \"/>\n",
              "<polyline clip-path=\"url(#clip222)\" style=\"stroke:#000000; stroke-linecap:round; stroke-linejoin:round; stroke-width:2; stroke-opacity:0.1; fill:none\" points=\"2229.92,1423.46 2229.92,110.236 \"/>\n",
              "<polyline clip-path=\"url(#clip222)\" style=\"stroke:#000000; stroke-linecap:round; stroke-linejoin:round; stroke-width:2; stroke-opacity:0.1; fill:none\" points=\"175.169,1361.01 2289.76,1361.01 \"/>\n",
              "<polyline clip-path=\"url(#clip222)\" style=\"stroke:#000000; stroke-linecap:round; stroke-linejoin:round; stroke-width:2; stroke-opacity:0.1; fill:none\" points=\"175.169,1158.74 2289.76,1158.74 \"/>\n",
              "<polyline clip-path=\"url(#clip222)\" style=\"stroke:#000000; stroke-linecap:round; stroke-linejoin:round; stroke-width:2; stroke-opacity:0.1; fill:none\" points=\"175.169,956.475 2289.76,956.475 \"/>\n",
              "<polyline clip-path=\"url(#clip222)\" style=\"stroke:#000000; stroke-linecap:round; stroke-linejoin:round; stroke-width:2; stroke-opacity:0.1; fill:none\" points=\"175.169,754.207 2289.76,754.207 \"/>\n",
              "<polyline clip-path=\"url(#clip222)\" style=\"stroke:#000000; stroke-linecap:round; stroke-linejoin:round; stroke-width:2; stroke-opacity:0.1; fill:none\" points=\"175.169,551.939 2289.76,551.939 \"/>\n",
              "<polyline clip-path=\"url(#clip222)\" style=\"stroke:#000000; stroke-linecap:round; stroke-linejoin:round; stroke-width:2; stroke-opacity:0.1; fill:none\" points=\"175.169,349.671 2289.76,349.671 \"/>\n",
              "<polyline clip-path=\"url(#clip222)\" style=\"stroke:#000000; stroke-linecap:round; stroke-linejoin:round; stroke-width:2; stroke-opacity:0.1; fill:none\" points=\"175.169,147.403 2289.76,147.403 \"/>\n",
              "<polyline clip-path=\"url(#clip220)\" style=\"stroke:#000000; stroke-linecap:round; stroke-linejoin:round; stroke-width:4; stroke-opacity:1; fill:none\" points=\"175.169,1423.46 2289.76,1423.46 \"/>\n",
              "<polyline clip-path=\"url(#clip220)\" style=\"stroke:#000000; stroke-linecap:round; stroke-linejoin:round; stroke-width:4; stroke-opacity:1; fill:none\" points=\"235.016,1423.46 235.016,1404.56 \"/>\n",
              "<polyline clip-path=\"url(#clip220)\" style=\"stroke:#000000; stroke-linecap:round; stroke-linejoin:round; stroke-width:4; stroke-opacity:1; fill:none\" points=\"899.983,1423.46 899.983,1404.56 \"/>\n",
              "<polyline clip-path=\"url(#clip220)\" style=\"stroke:#000000; stroke-linecap:round; stroke-linejoin:round; stroke-width:4; stroke-opacity:1; fill:none\" points=\"1564.95,1423.46 1564.95,1404.56 \"/>\n",
              "<polyline clip-path=\"url(#clip220)\" style=\"stroke:#000000; stroke-linecap:round; stroke-linejoin:round; stroke-width:4; stroke-opacity:1; fill:none\" points=\"2229.92,1423.46 2229.92,1404.56 \"/>\n",
              "<path clip-path=\"url(#clip220)\" d=\"M204.959 1469.03 L234.634 1469.03 L234.634 1472.96 L204.959 1472.96 L204.959 1469.03 Z\" fill=\"#000000\" fill-rule=\"nonzero\" fill-opacity=\"1\" /><path clip-path=\"url(#clip220)\" d=\"M248.755 1481.92 L265.074 1481.92 L265.074 1485.86 L243.13 1485.86 L243.13 1481.92 Q245.792 1479.17 250.375 1474.54 Q254.981 1469.88 256.162 1468.54 Q258.407 1466.02 259.287 1464.28 Q260.19 1462.52 260.19 1460.83 Q260.19 1458.08 258.245 1456.34 Q256.324 1454.61 253.222 1454.61 Q251.023 1454.61 248.569 1455.37 Q246.139 1456.13 243.361 1457.68 L243.361 1452.96 Q246.185 1451.83 248.639 1451.25 Q251.093 1450.67 253.13 1450.67 Q258.5 1450.67 261.694 1453.36 Q264.889 1456.04 264.889 1460.53 Q264.889 1462.66 264.079 1464.58 Q263.292 1466.48 261.185 1469.07 Q260.606 1469.74 257.505 1472.96 Q254.403 1476.16 248.755 1481.92 Z\" fill=\"#000000\" fill-rule=\"nonzero\" fill-opacity=\"1\" /><path clip-path=\"url(#clip220)\" d=\"M869.74 1469.03 L899.416 1469.03 L899.416 1472.96 L869.74 1472.96 L869.74 1469.03 Z\" fill=\"#000000\" fill-rule=\"nonzero\" fill-opacity=\"1\" /><path clip-path=\"url(#clip220)\" d=\"M910.319 1481.92 L917.958 1481.92 L917.958 1455.55 L909.647 1457.22 L909.647 1452.96 L917.911 1451.3 L922.587 1451.3 L922.587 1481.92 L930.226 1481.92 L930.226 1485.86 L910.319 1485.86 L910.319 1481.92 Z\" fill=\"#000000\" fill-rule=\"nonzero\" fill-opacity=\"1\" /><path clip-path=\"url(#clip220)\" d=\"M1564.95 1454.37 Q1561.34 1454.37 1559.51 1457.94 Q1557.7 1461.48 1557.7 1468.61 Q1557.7 1475.72 1559.51 1479.28 Q1561.34 1482.82 1564.95 1482.82 Q1568.58 1482.82 1570.39 1479.28 Q1572.22 1475.72 1572.22 1468.61 Q1572.22 1461.48 1570.39 1457.94 Q1568.58 1454.37 1564.95 1454.37 M1564.95 1450.67 Q1570.76 1450.67 1573.82 1455.28 Q1576.89 1459.86 1576.89 1468.61 Q1576.89 1477.34 1573.82 1481.94 Q1570.76 1486.53 1564.95 1486.53 Q1559.14 1486.53 1556.06 1481.94 Q1553.01 1477.34 1553.01 1468.61 Q1553.01 1459.86 1556.06 1455.28 Q1559.14 1450.67 1564.95 1450.67 Z\" fill=\"#000000\" fill-rule=\"nonzero\" fill-opacity=\"1\" /><path clip-path=\"url(#clip220)\" d=\"M2220.3 1481.92 L2227.94 1481.92 L2227.94 1455.55 L2219.63 1457.22 L2219.63 1452.96 L2227.89 1451.3 L2232.57 1451.3 L2232.57 1481.92 L2240.21 1481.92 L2240.21 1485.86 L2220.3 1485.86 L2220.3 1481.92 Z\" fill=\"#000000\" fill-rule=\"nonzero\" fill-opacity=\"1\" /><polyline clip-path=\"url(#clip220)\" style=\"stroke:#000000; stroke-linecap:round; stroke-linejoin:round; stroke-width:4; stroke-opacity:1; fill:none\" points=\"175.169,1423.46 175.169,110.236 \"/>\n",
              "<polyline clip-path=\"url(#clip220)\" style=\"stroke:#000000; stroke-linecap:round; stroke-linejoin:round; stroke-width:4; stroke-opacity:1; fill:none\" points=\"175.169,1361.01 194.067,1361.01 \"/>\n",
              "<polyline clip-path=\"url(#clip220)\" style=\"stroke:#000000; stroke-linecap:round; stroke-linejoin:round; stroke-width:4; stroke-opacity:1; fill:none\" points=\"175.169,1158.74 194.067,1158.74 \"/>\n",
              "<polyline clip-path=\"url(#clip220)\" style=\"stroke:#000000; stroke-linecap:round; stroke-linejoin:round; stroke-width:4; stroke-opacity:1; fill:none\" points=\"175.169,956.475 194.067,956.475 \"/>\n",
              "<polyline clip-path=\"url(#clip220)\" style=\"stroke:#000000; stroke-linecap:round; stroke-linejoin:round; stroke-width:4; stroke-opacity:1; fill:none\" points=\"175.169,754.207 194.067,754.207 \"/>\n",
              "<polyline clip-path=\"url(#clip220)\" style=\"stroke:#000000; stroke-linecap:round; stroke-linejoin:round; stroke-width:4; stroke-opacity:1; fill:none\" points=\"175.169,551.939 194.067,551.939 \"/>\n",
              "<polyline clip-path=\"url(#clip220)\" style=\"stroke:#000000; stroke-linecap:round; stroke-linejoin:round; stroke-width:4; stroke-opacity:1; fill:none\" points=\"175.169,349.671 194.067,349.671 \"/>\n",
              "<polyline clip-path=\"url(#clip220)\" style=\"stroke:#000000; stroke-linecap:round; stroke-linejoin:round; stroke-width:4; stroke-opacity:1; fill:none\" points=\"175.169,147.403 194.067,147.403 \"/>\n",
              "<path clip-path=\"url(#clip220)\" d=\"M127.225 1346.81 Q123.614 1346.81 121.785 1350.37 Q119.98 1353.92 119.98 1361.05 Q119.98 1368.15 121.785 1371.72 Q123.614 1375.26 127.225 1375.26 Q130.859 1375.26 132.665 1371.72 Q134.493 1368.15 134.493 1361.05 Q134.493 1353.92 132.665 1350.37 Q130.859 1346.81 127.225 1346.81 M127.225 1343.11 Q133.035 1343.11 136.091 1347.71 Q139.169 1352.3 139.169 1361.05 Q139.169 1369.77 136.091 1374.38 Q133.035 1378.96 127.225 1378.96 Q121.415 1378.96 118.336 1374.38 Q115.281 1369.77 115.281 1361.05 Q115.281 1352.3 118.336 1347.71 Q121.415 1343.11 127.225 1343.11 Z\" fill=\"#000000\" fill-rule=\"nonzero\" fill-opacity=\"1\" /><path clip-path=\"url(#clip220)\" d=\"M119.262 1172.09 L126.901 1172.09 L126.901 1145.72 L118.591 1147.39 L118.591 1143.13 L126.855 1141.46 L131.53 1141.46 L131.53 1172.09 L139.169 1172.09 L139.169 1176.02 L119.262 1176.02 L119.262 1172.09 Z\" fill=\"#000000\" fill-rule=\"nonzero\" fill-opacity=\"1\" /><path clip-path=\"url(#clip220)\" d=\"M122.85 969.819 L139.169 969.819 L139.169 973.755 L117.225 973.755 L117.225 969.819 Q119.887 967.065 124.47 962.435 Q129.077 957.782 130.257 956.44 Q132.503 953.917 133.382 952.181 Q134.285 950.421 134.285 948.732 Q134.285 945.977 132.341 944.241 Q130.419 942.505 127.318 942.505 Q125.118 942.505 122.665 943.269 Q120.234 944.032 117.456 945.583 L117.456 940.861 Q120.281 939.727 122.734 939.148 Q125.188 938.57 127.225 938.57 Q132.595 938.57 135.79 941.255 Q138.984 943.94 138.984 948.431 Q138.984 950.56 138.174 952.482 Q137.387 954.38 135.28 956.972 Q134.702 957.644 131.6 960.861 Q128.498 964.056 122.85 969.819 Z\" fill=\"#000000\" fill-rule=\"nonzero\" fill-opacity=\"1\" /><path clip-path=\"url(#clip220)\" d=\"M132.04 752.852 Q135.396 753.57 137.271 755.839 Q139.169 758.107 139.169 761.44 Q139.169 766.556 135.651 769.357 Q132.132 772.158 125.651 772.158 Q123.475 772.158 121.16 771.718 Q118.868 771.301 116.415 770.445 L116.415 765.931 Q118.359 767.065 120.674 767.644 Q122.989 768.223 125.512 768.223 Q129.91 768.223 132.202 766.487 Q134.517 764.751 134.517 761.44 Q134.517 758.385 132.364 756.672 Q130.234 754.936 126.415 754.936 L122.387 754.936 L122.387 751.093 L126.6 751.093 Q130.049 751.093 131.878 749.727 Q133.706 748.339 133.706 745.746 Q133.706 743.084 131.808 741.672 Q129.933 740.237 126.415 740.237 Q124.493 740.237 122.294 740.653 Q120.095 741.07 117.456 741.95 L117.456 737.783 Q120.118 737.042 122.433 736.672 Q124.771 736.302 126.831 736.302 Q132.155 736.302 135.257 738.732 Q138.359 741.14 138.359 745.26 Q138.359 748.13 136.716 750.121 Q135.072 752.089 132.04 752.852 Z\" fill=\"#000000\" fill-rule=\"nonzero\" fill-opacity=\"1\" /><path clip-path=\"url(#clip220)\" d=\"M129.586 538.733 L117.781 557.182 L129.586 557.182 L129.586 538.733 M128.359 534.659 L134.239 534.659 L134.239 557.182 L139.169 557.182 L139.169 561.071 L134.239 561.071 L134.239 569.219 L129.586 569.219 L129.586 561.071 L113.984 561.071 L113.984 556.557 L128.359 534.659 Z\" fill=\"#000000\" fill-rule=\"nonzero\" fill-opacity=\"1\" /><path clip-path=\"url(#clip220)\" d=\"M118.267 332.391 L136.623 332.391 L136.623 336.326 L122.549 336.326 L122.549 344.798 Q123.568 344.451 124.586 344.289 Q125.605 344.104 126.623 344.104 Q132.41 344.104 135.79 347.275 Q139.169 350.446 139.169 355.863 Q139.169 361.442 135.697 364.543 Q132.225 367.622 125.905 367.622 Q123.73 367.622 121.461 367.252 Q119.216 366.881 116.808 366.141 L116.808 361.442 Q118.892 362.576 121.114 363.131 Q123.336 363.687 125.813 363.687 Q129.818 363.687 132.155 361.58 Q134.493 359.474 134.493 355.863 Q134.493 352.252 132.155 350.145 Q129.818 348.039 125.813 348.039 Q123.938 348.039 122.063 348.455 Q120.211 348.872 118.267 349.752 L118.267 332.391 Z\" fill=\"#000000\" fill-rule=\"nonzero\" fill-opacity=\"1\" /><path clip-path=\"url(#clip220)\" d=\"M127.642 145.539 Q124.493 145.539 122.642 147.692 Q120.813 149.845 120.813 153.595 Q120.813 157.322 122.642 159.498 Q124.493 161.65 127.642 161.65 Q130.79 161.65 132.618 159.498 Q134.47 157.322 134.47 153.595 Q134.47 149.845 132.618 147.692 Q130.79 145.539 127.642 145.539 M136.924 130.887 L136.924 135.146 Q135.165 134.313 133.359 133.873 Q131.577 133.433 129.818 133.433 Q125.188 133.433 122.734 136.558 Q120.304 139.683 119.956 146.002 Q121.322 143.988 123.382 142.924 Q125.443 141.836 127.919 141.836 Q133.128 141.836 136.137 145.007 Q139.169 148.155 139.169 153.595 Q139.169 158.919 136.021 162.137 Q132.873 165.354 127.642 165.354 Q121.646 165.354 118.475 160.771 Q115.304 156.164 115.304 147.438 Q115.304 139.243 119.193 134.382 Q123.081 129.498 129.632 129.498 Q131.392 129.498 133.174 129.845 Q134.98 130.192 136.924 130.887 Z\" fill=\"#000000\" fill-rule=\"nonzero\" fill-opacity=\"1\" /><polyline clip-path=\"url(#clip222)\" style=\"stroke:#009af9; stroke-linecap:round; stroke-linejoin:round; stroke-width:8; stroke-opacity:1; fill:none\" points=\"235.016,754.207 245.314,769.771 255.611,785.141 285.766,829.036 315.922,871.266 346.077,911.833 376.233,950.737 404.289,985.438 432.346,1018.7 469.952,1061.02 507.559,1100.76 538.633,1131.64 569.707,1160.75 598.603,1186.24 627.5,1210.2 663.774,1238.12 700.049,1263.62 732.587,1284.46 765.126,1303.35 802.37,1322.6 839.615,1339.31 867.455,1350.15 895.296,1359.56 930.904,1369.54 966.512,1377.2 999.012,1382.16 1031.51,1385.19 1068.5,1386.29 1105.49,1384.88 1134.81,1381.99 1164.13,1377.52 1200.56,1369.78 1236.99,1359.62 1264.89,1350.19 1292.79,1339.33 1332.12,1321.61 1371.45,1301.06 1400.85,1283.85 1430.24,1265.07 1463.67,1241.78 1497.09,1216.45 1530.2,1189.35 1563.3,1160.25 1599.72,1125.91 1636.14,1089.14 1663.96,1059.43 1691.78,1028.29 1726.88,986.987 1761.98,943.424 1794.45,901.126 1826.92,856.899 1860.41,809.267 1893.89,759.583 1927.83,707.128 1961.77,652.566 1997.21,593.343 2032.65,531.822 2060.57,481.74 2088.49,430.233 2120.28,369.847 2152.07,307.612 2183.86,243.527 2215.65,177.594 2219.22,170.081 2222.78,162.545 2226.35,154.985 2229.92,147.403 \"/>\n",
              "</svg>\n"
            ],
            "text/html": [
              "<?xml version=\"1.0\" encoding=\"utf-8\"?>\n",
              "<svg xmlns=\"http://www.w3.org/2000/svg\" xmlns:xlink=\"http://www.w3.org/1999/xlink\" width=\"600\" height=\"400\" viewBox=\"0 0 2400 1600\">\n",
              "<defs>\n",
              "  <clipPath id=\"clip270\">\n",
              "    <rect x=\"0\" y=\"0\" width=\"2400\" height=\"1600\"/>\n",
              "  </clipPath>\n",
              "</defs>\n",
              "<path clip-path=\"url(#clip270)\" d=\"M0 1600 L2400 1600 L2400 8.88178e-14 L0 8.88178e-14  Z\" fill=\"#ffffff\" fill-rule=\"evenodd\" fill-opacity=\"1\"/>\n",
              "<defs>\n",
              "  <clipPath id=\"clip271\">\n",
              "    <rect x=\"480\" y=\"0\" width=\"1681\" height=\"1600\"/>\n",
              "  </clipPath>\n",
              "</defs>\n",
              "<path clip-path=\"url(#clip270)\" d=\"M175.169 1423.46 L2289.76 1423.46 L2289.76 110.236 L175.169 110.236  Z\" fill=\"#ffffff\" fill-rule=\"evenodd\" fill-opacity=\"1\"/>\n",
              "<defs>\n",
              "  <clipPath id=\"clip272\">\n",
              "    <rect x=\"175\" y=\"110\" width=\"2116\" height=\"1314\"/>\n",
              "  </clipPath>\n",
              "</defs>\n",
              "<polyline clip-path=\"url(#clip272)\" style=\"stroke:#000000; stroke-linecap:round; stroke-linejoin:round; stroke-width:2; stroke-opacity:0.1; fill:none\" points=\"235.016,1423.46 235.016,110.236 \"/>\n",
              "<polyline clip-path=\"url(#clip272)\" style=\"stroke:#000000; stroke-linecap:round; stroke-linejoin:round; stroke-width:2; stroke-opacity:0.1; fill:none\" points=\"899.983,1423.46 899.983,110.236 \"/>\n",
              "<polyline clip-path=\"url(#clip272)\" style=\"stroke:#000000; stroke-linecap:round; stroke-linejoin:round; stroke-width:2; stroke-opacity:0.1; fill:none\" points=\"1564.95,1423.46 1564.95,110.236 \"/>\n",
              "<polyline clip-path=\"url(#clip272)\" style=\"stroke:#000000; stroke-linecap:round; stroke-linejoin:round; stroke-width:2; stroke-opacity:0.1; fill:none\" points=\"2229.92,1423.46 2229.92,110.236 \"/>\n",
              "<polyline clip-path=\"url(#clip272)\" style=\"stroke:#000000; stroke-linecap:round; stroke-linejoin:round; stroke-width:2; stroke-opacity:0.1; fill:none\" points=\"175.169,1361.01 2289.76,1361.01 \"/>\n",
              "<polyline clip-path=\"url(#clip272)\" style=\"stroke:#000000; stroke-linecap:round; stroke-linejoin:round; stroke-width:2; stroke-opacity:0.1; fill:none\" points=\"175.169,1158.74 2289.76,1158.74 \"/>\n",
              "<polyline clip-path=\"url(#clip272)\" style=\"stroke:#000000; stroke-linecap:round; stroke-linejoin:round; stroke-width:2; stroke-opacity:0.1; fill:none\" points=\"175.169,956.475 2289.76,956.475 \"/>\n",
              "<polyline clip-path=\"url(#clip272)\" style=\"stroke:#000000; stroke-linecap:round; stroke-linejoin:round; stroke-width:2; stroke-opacity:0.1; fill:none\" points=\"175.169,754.207 2289.76,754.207 \"/>\n",
              "<polyline clip-path=\"url(#clip272)\" style=\"stroke:#000000; stroke-linecap:round; stroke-linejoin:round; stroke-width:2; stroke-opacity:0.1; fill:none\" points=\"175.169,551.939 2289.76,551.939 \"/>\n",
              "<polyline clip-path=\"url(#clip272)\" style=\"stroke:#000000; stroke-linecap:round; stroke-linejoin:round; stroke-width:2; stroke-opacity:0.1; fill:none\" points=\"175.169,349.671 2289.76,349.671 \"/>\n",
              "<polyline clip-path=\"url(#clip272)\" style=\"stroke:#000000; stroke-linecap:round; stroke-linejoin:round; stroke-width:2; stroke-opacity:0.1; fill:none\" points=\"175.169,147.403 2289.76,147.403 \"/>\n",
              "<polyline clip-path=\"url(#clip270)\" style=\"stroke:#000000; stroke-linecap:round; stroke-linejoin:round; stroke-width:4; stroke-opacity:1; fill:none\" points=\"175.169,1423.46 2289.76,1423.46 \"/>\n",
              "<polyline clip-path=\"url(#clip270)\" style=\"stroke:#000000; stroke-linecap:round; stroke-linejoin:round; stroke-width:4; stroke-opacity:1; fill:none\" points=\"235.016,1423.46 235.016,1404.56 \"/>\n",
              "<polyline clip-path=\"url(#clip270)\" style=\"stroke:#000000; stroke-linecap:round; stroke-linejoin:round; stroke-width:4; stroke-opacity:1; fill:none\" points=\"899.983,1423.46 899.983,1404.56 \"/>\n",
              "<polyline clip-path=\"url(#clip270)\" style=\"stroke:#000000; stroke-linecap:round; stroke-linejoin:round; stroke-width:4; stroke-opacity:1; fill:none\" points=\"1564.95,1423.46 1564.95,1404.56 \"/>\n",
              "<polyline clip-path=\"url(#clip270)\" style=\"stroke:#000000; stroke-linecap:round; stroke-linejoin:round; stroke-width:4; stroke-opacity:1; fill:none\" points=\"2229.92,1423.46 2229.92,1404.56 \"/>\n",
              "<path clip-path=\"url(#clip270)\" d=\"M204.959 1469.03 L234.634 1469.03 L234.634 1472.96 L204.959 1472.96 L204.959 1469.03 Z\" fill=\"#000000\" fill-rule=\"nonzero\" fill-opacity=\"1\" /><path clip-path=\"url(#clip270)\" d=\"M248.755 1481.92 L265.074 1481.92 L265.074 1485.86 L243.13 1485.86 L243.13 1481.92 Q245.792 1479.17 250.375 1474.54 Q254.981 1469.88 256.162 1468.54 Q258.407 1466.02 259.287 1464.28 Q260.19 1462.52 260.19 1460.83 Q260.19 1458.08 258.245 1456.34 Q256.324 1454.61 253.222 1454.61 Q251.023 1454.61 248.569 1455.37 Q246.139 1456.13 243.361 1457.68 L243.361 1452.96 Q246.185 1451.83 248.639 1451.25 Q251.093 1450.67 253.13 1450.67 Q258.5 1450.67 261.694 1453.36 Q264.889 1456.04 264.889 1460.53 Q264.889 1462.66 264.079 1464.58 Q263.292 1466.48 261.185 1469.07 Q260.606 1469.74 257.505 1472.96 Q254.403 1476.16 248.755 1481.92 Z\" fill=\"#000000\" fill-rule=\"nonzero\" fill-opacity=\"1\" /><path clip-path=\"url(#clip270)\" d=\"M869.74 1469.03 L899.416 1469.03 L899.416 1472.96 L869.74 1472.96 L869.74 1469.03 Z\" fill=\"#000000\" fill-rule=\"nonzero\" fill-opacity=\"1\" /><path clip-path=\"url(#clip270)\" d=\"M910.319 1481.92 L917.958 1481.92 L917.958 1455.55 L909.647 1457.22 L909.647 1452.96 L917.911 1451.3 L922.587 1451.3 L922.587 1481.92 L930.226 1481.92 L930.226 1485.86 L910.319 1485.86 L910.319 1481.92 Z\" fill=\"#000000\" fill-rule=\"nonzero\" fill-opacity=\"1\" /><path clip-path=\"url(#clip270)\" d=\"M1564.95 1454.37 Q1561.34 1454.37 1559.51 1457.94 Q1557.7 1461.48 1557.7 1468.61 Q1557.7 1475.72 1559.51 1479.28 Q1561.34 1482.82 1564.95 1482.82 Q1568.58 1482.82 1570.39 1479.28 Q1572.22 1475.72 1572.22 1468.61 Q1572.22 1461.48 1570.39 1457.94 Q1568.58 1454.37 1564.95 1454.37 M1564.95 1450.67 Q1570.76 1450.67 1573.82 1455.28 Q1576.89 1459.86 1576.89 1468.61 Q1576.89 1477.34 1573.82 1481.94 Q1570.76 1486.53 1564.95 1486.53 Q1559.14 1486.53 1556.06 1481.94 Q1553.01 1477.34 1553.01 1468.61 Q1553.01 1459.86 1556.06 1455.28 Q1559.14 1450.67 1564.95 1450.67 Z\" fill=\"#000000\" fill-rule=\"nonzero\" fill-opacity=\"1\" /><path clip-path=\"url(#clip270)\" d=\"M2220.3 1481.92 L2227.94 1481.92 L2227.94 1455.55 L2219.63 1457.22 L2219.63 1452.96 L2227.89 1451.3 L2232.57 1451.3 L2232.57 1481.92 L2240.21 1481.92 L2240.21 1485.86 L2220.3 1485.86 L2220.3 1481.92 Z\" fill=\"#000000\" fill-rule=\"nonzero\" fill-opacity=\"1\" /><polyline clip-path=\"url(#clip270)\" style=\"stroke:#000000; stroke-linecap:round; stroke-linejoin:round; stroke-width:4; stroke-opacity:1; fill:none\" points=\"175.169,1423.46 175.169,110.236 \"/>\n",
              "<polyline clip-path=\"url(#clip270)\" style=\"stroke:#000000; stroke-linecap:round; stroke-linejoin:round; stroke-width:4; stroke-opacity:1; fill:none\" points=\"175.169,1361.01 194.067,1361.01 \"/>\n",
              "<polyline clip-path=\"url(#clip270)\" style=\"stroke:#000000; stroke-linecap:round; stroke-linejoin:round; stroke-width:4; stroke-opacity:1; fill:none\" points=\"175.169,1158.74 194.067,1158.74 \"/>\n",
              "<polyline clip-path=\"url(#clip270)\" style=\"stroke:#000000; stroke-linecap:round; stroke-linejoin:round; stroke-width:4; stroke-opacity:1; fill:none\" points=\"175.169,956.475 194.067,956.475 \"/>\n",
              "<polyline clip-path=\"url(#clip270)\" style=\"stroke:#000000; stroke-linecap:round; stroke-linejoin:round; stroke-width:4; stroke-opacity:1; fill:none\" points=\"175.169,754.207 194.067,754.207 \"/>\n",
              "<polyline clip-path=\"url(#clip270)\" style=\"stroke:#000000; stroke-linecap:round; stroke-linejoin:round; stroke-width:4; stroke-opacity:1; fill:none\" points=\"175.169,551.939 194.067,551.939 \"/>\n",
              "<polyline clip-path=\"url(#clip270)\" style=\"stroke:#000000; stroke-linecap:round; stroke-linejoin:round; stroke-width:4; stroke-opacity:1; fill:none\" points=\"175.169,349.671 194.067,349.671 \"/>\n",
              "<polyline clip-path=\"url(#clip270)\" style=\"stroke:#000000; stroke-linecap:round; stroke-linejoin:round; stroke-width:4; stroke-opacity:1; fill:none\" points=\"175.169,147.403 194.067,147.403 \"/>\n",
              "<path clip-path=\"url(#clip270)\" d=\"M127.225 1346.81 Q123.614 1346.81 121.785 1350.37 Q119.98 1353.92 119.98 1361.05 Q119.98 1368.15 121.785 1371.72 Q123.614 1375.26 127.225 1375.26 Q130.859 1375.26 132.665 1371.72 Q134.493 1368.15 134.493 1361.05 Q134.493 1353.92 132.665 1350.37 Q130.859 1346.81 127.225 1346.81 M127.225 1343.11 Q133.035 1343.11 136.091 1347.71 Q139.169 1352.3 139.169 1361.05 Q139.169 1369.77 136.091 1374.38 Q133.035 1378.96 127.225 1378.96 Q121.415 1378.96 118.336 1374.38 Q115.281 1369.77 115.281 1361.05 Q115.281 1352.3 118.336 1347.71 Q121.415 1343.11 127.225 1343.11 Z\" fill=\"#000000\" fill-rule=\"nonzero\" fill-opacity=\"1\" /><path clip-path=\"url(#clip270)\" d=\"M119.262 1172.09 L126.901 1172.09 L126.901 1145.72 L118.591 1147.39 L118.591 1143.13 L126.855 1141.46 L131.53 1141.46 L131.53 1172.09 L139.169 1172.09 L139.169 1176.02 L119.262 1176.02 L119.262 1172.09 Z\" fill=\"#000000\" fill-rule=\"nonzero\" fill-opacity=\"1\" /><path clip-path=\"url(#clip270)\" d=\"M122.85 969.819 L139.169 969.819 L139.169 973.755 L117.225 973.755 L117.225 969.819 Q119.887 967.065 124.47 962.435 Q129.077 957.782 130.257 956.44 Q132.503 953.917 133.382 952.181 Q134.285 950.421 134.285 948.732 Q134.285 945.977 132.341 944.241 Q130.419 942.505 127.318 942.505 Q125.118 942.505 122.665 943.269 Q120.234 944.032 117.456 945.583 L117.456 940.861 Q120.281 939.727 122.734 939.148 Q125.188 938.57 127.225 938.57 Q132.595 938.57 135.79 941.255 Q138.984 943.94 138.984 948.431 Q138.984 950.56 138.174 952.482 Q137.387 954.38 135.28 956.972 Q134.702 957.644 131.6 960.861 Q128.498 964.056 122.85 969.819 Z\" fill=\"#000000\" fill-rule=\"nonzero\" fill-opacity=\"1\" /><path clip-path=\"url(#clip270)\" d=\"M132.04 752.852 Q135.396 753.57 137.271 755.839 Q139.169 758.107 139.169 761.44 Q139.169 766.556 135.651 769.357 Q132.132 772.158 125.651 772.158 Q123.475 772.158 121.16 771.718 Q118.868 771.301 116.415 770.445 L116.415 765.931 Q118.359 767.065 120.674 767.644 Q122.989 768.223 125.512 768.223 Q129.91 768.223 132.202 766.487 Q134.517 764.751 134.517 761.44 Q134.517 758.385 132.364 756.672 Q130.234 754.936 126.415 754.936 L122.387 754.936 L122.387 751.093 L126.6 751.093 Q130.049 751.093 131.878 749.727 Q133.706 748.339 133.706 745.746 Q133.706 743.084 131.808 741.672 Q129.933 740.237 126.415 740.237 Q124.493 740.237 122.294 740.653 Q120.095 741.07 117.456 741.95 L117.456 737.783 Q120.118 737.042 122.433 736.672 Q124.771 736.302 126.831 736.302 Q132.155 736.302 135.257 738.732 Q138.359 741.14 138.359 745.26 Q138.359 748.13 136.716 750.121 Q135.072 752.089 132.04 752.852 Z\" fill=\"#000000\" fill-rule=\"nonzero\" fill-opacity=\"1\" /><path clip-path=\"url(#clip270)\" d=\"M129.586 538.733 L117.781 557.182 L129.586 557.182 L129.586 538.733 M128.359 534.659 L134.239 534.659 L134.239 557.182 L139.169 557.182 L139.169 561.071 L134.239 561.071 L134.239 569.219 L129.586 569.219 L129.586 561.071 L113.984 561.071 L113.984 556.557 L128.359 534.659 Z\" fill=\"#000000\" fill-rule=\"nonzero\" fill-opacity=\"1\" /><path clip-path=\"url(#clip270)\" d=\"M118.267 332.391 L136.623 332.391 L136.623 336.326 L122.549 336.326 L122.549 344.798 Q123.568 344.451 124.586 344.289 Q125.605 344.104 126.623 344.104 Q132.41 344.104 135.79 347.275 Q139.169 350.446 139.169 355.863 Q139.169 361.442 135.697 364.543 Q132.225 367.622 125.905 367.622 Q123.73 367.622 121.461 367.252 Q119.216 366.881 116.808 366.141 L116.808 361.442 Q118.892 362.576 121.114 363.131 Q123.336 363.687 125.813 363.687 Q129.818 363.687 132.155 361.58 Q134.493 359.474 134.493 355.863 Q134.493 352.252 132.155 350.145 Q129.818 348.039 125.813 348.039 Q123.938 348.039 122.063 348.455 Q120.211 348.872 118.267 349.752 L118.267 332.391 Z\" fill=\"#000000\" fill-rule=\"nonzero\" fill-opacity=\"1\" /><path clip-path=\"url(#clip270)\" d=\"M127.642 145.539 Q124.493 145.539 122.642 147.692 Q120.813 149.845 120.813 153.595 Q120.813 157.322 122.642 159.498 Q124.493 161.65 127.642 161.65 Q130.79 161.65 132.618 159.498 Q134.47 157.322 134.47 153.595 Q134.47 149.845 132.618 147.692 Q130.79 145.539 127.642 145.539 M136.924 130.887 L136.924 135.146 Q135.165 134.313 133.359 133.873 Q131.577 133.433 129.818 133.433 Q125.188 133.433 122.734 136.558 Q120.304 139.683 119.956 146.002 Q121.322 143.988 123.382 142.924 Q125.443 141.836 127.919 141.836 Q133.128 141.836 136.137 145.007 Q139.169 148.155 139.169 153.595 Q139.169 158.919 136.021 162.137 Q132.873 165.354 127.642 165.354 Q121.646 165.354 118.475 160.771 Q115.304 156.164 115.304 147.438 Q115.304 139.243 119.193 134.382 Q123.081 129.498 129.632 129.498 Q131.392 129.498 133.174 129.845 Q134.98 130.192 136.924 130.887 Z\" fill=\"#000000\" fill-rule=\"nonzero\" fill-opacity=\"1\" /><polyline clip-path=\"url(#clip272)\" style=\"stroke:#009af9; stroke-linecap:round; stroke-linejoin:round; stroke-width:8; stroke-opacity:1; fill:none\" points=\"235.016,754.207 245.314,769.771 255.611,785.141 285.766,829.036 315.922,871.266 346.077,911.833 376.233,950.737 404.289,985.438 432.346,1018.7 469.952,1061.02 507.559,1100.76 538.633,1131.64 569.707,1160.75 598.603,1186.24 627.5,1210.2 663.774,1238.12 700.049,1263.62 732.587,1284.46 765.126,1303.35 802.37,1322.6 839.615,1339.31 867.455,1350.15 895.296,1359.56 930.904,1369.54 966.512,1377.2 999.012,1382.16 1031.51,1385.19 1068.5,1386.29 1105.49,1384.88 1134.81,1381.99 1164.13,1377.52 1200.56,1369.78 1236.99,1359.62 1264.89,1350.19 1292.79,1339.33 1332.12,1321.61 1371.45,1301.06 1400.85,1283.85 1430.24,1265.07 1463.67,1241.78 1497.09,1216.45 1530.2,1189.35 1563.3,1160.25 1599.72,1125.91 1636.14,1089.14 1663.96,1059.43 1691.78,1028.29 1726.88,986.987 1761.98,943.424 1794.45,901.126 1826.92,856.899 1860.41,809.267 1893.89,759.583 1927.83,707.128 1961.77,652.566 1997.21,593.343 2032.65,531.822 2060.57,481.74 2088.49,430.233 2120.28,369.847 2152.07,307.612 2183.86,243.527 2215.65,177.594 2219.22,170.081 2222.78,162.545 2226.35,154.985 2229.92,147.403 \"/>\n",
              "</svg>\n"
            ]
          },
          "metadata": {},
          "output_type": "display_data"
        }
      ],
      "source": [
        "using Optim #Our optimization libarary\n",
        "f_univ(x) = 2x^2+3x+1\n",
        "plot(f_univ,-2.,1)"
      ]
    },
    {
      "cell_type": "markdown",
      "metadata": {
        "slideshow": {
          "slide_type": "subslide"
        }
      },
      "source": [
        "## Using Optim Univariate"
      ]
    },
    {
      "cell_type": "code",
      "execution_count": 3,
      "metadata": {},
      "outputs": [
        {
          "data": {
            "text/plain": [
              "-0.749999994377939"
            ]
          },
          "metadata": {},
          "output_type": "display_data"
        }
      ],
      "source": [
        "#Finds global minimum\n",
        "res = optimize(f_univ,-2.0,1.0,GoldenSection())\n",
        "Optim.minimizer(res)"
      ]
    },
    {
      "cell_type": "code",
      "execution_count": 4,
      "metadata": {},
      "outputs": [
        {
          "data": {
            "text/plain": [
              "-0.49999998939347085"
            ]
          },
          "metadata": {},
          "output_type": "display_data"
        }
      ],
      "source": [
        "#Lower bound binds\n",
        "res = optimize(f_univ,-0.5,1.0,GoldenSection())\n",
        "Optim.minimizer(res)"
      ]
    },
    {
      "cell_type": "markdown",
      "metadata": {
        "slideshow": {
          "slide_type": "subslide"
        }
      },
      "source": [
        "## Brent's Method\n",
        "\n",
        "* An alternative to choosing $d$ through golden search\n",
        "\n",
        "* Construct a quadratic polynomial that fits values for points $(a,b,c)$\n",
        "\n",
        "* Let $d$ be the point that minimizes that polynomial\n",
        "\n",
        "    * Use criteria from above to choose new tuple $(d,b,c)$ or $(a,d,c)$\n",
        "\n",
        "* Can lead to significantly faster convergence"
      ]
    },
    {
      "cell_type": "code",
      "execution_count": 5,
      "metadata": {},
      "outputs": [
        {
          "name": "stdout",
          "output_type": "stream",
          "text": [
            "  0.000001 seconds (2 allocations: 144 bytes)\n"
          ]
        }
      ],
      "source": [
        "optimize(f_univ,-2.0,1.0,Brent()) #run once to precompile\n",
        "@time res = optimize(f_univ,-2.0,1.0,Brent());"
      ]
    },
    {
      "cell_type": "code",
      "execution_count": 6,
      "metadata": {},
      "outputs": [
        {
          "name": "stdout",
          "output_type": "stream",
          "text": [
            "  0.000002 seconds (2 allocations: 144 bytes)\n"
          ]
        }
      ],
      "source": [
        "@time res = optimize(f_univ,-2.0,1.0,GoldenSection());"
      ]
    },
    {
      "cell_type": "markdown",
      "metadata": {
        "slideshow": {
          "slide_type": "slide"
        }
      },
      "source": [
        "# Multivariate Optimization\n"
      ]
    },
    {
      "cell_type": "markdown",
      "metadata": {
        "slideshow": {
          "slide_type": "subslide"
        }
      },
      "source": [
        "## Simplex Methods\n",
        "* This provides a algorithm to extend derivative free methods to $n$ dimensions\n",
        "* Start with $n+1$ points $\\mathbf x_1,\\mathbf x_2,\\ldots,\\mathbf x_{n+1}$\n",
        "    * Ordered such that $f(\\mathbf x_1)\\leq f(\\mathbf x_2)\\leq\\ldots\\leq f(\\mathbf x_{n+1})$\n",
        "* Perform the following operations: Reflection, Expansion, Contraction and Shrinkage\n",
        "\n",
        "1. Order points of simplex by $f$ and calculate centroid $\\mathbf x_0$ of all points but $\\mathbf x_{n+1}$\n",
        "2. **Reflection:** Compute the reflected point $\\mathbf x_r = \\mathbf x_0 + \\alpha (\\mathbf x_0 -\\mathbf x_{n+1})$\n",
        "    * If $f(\\mathbf x_1)\\leq f(\\mathbf x_r)<f (\\mathbf x_n)$: return to 1. with $\\mathbf x_{n+1} = \\mathbf x_r$\n",
        "3. **Expansion:** If $f(\\mathbf x_r)<f(\\mathbf x_1)$ construct $\\mathbf x_e = \\mathbf x_0 + \\gamma (\\mathbf x_r -\\mathbf x_0)$\n",
        "    * If $f(\\mathbf x_r)\\leq f(\\mathbf x_e))$: return to 1. with $\\mathbf x_{n+1} = \\mathbf x_r$\n",
        "    * If $f(\\mathbf x_e)\\leq f(\\mathbf x_r))$: return to 1. with $\\mathbf x_{n+1} = \\mathbf x_e$\n",
        "4. **Contracation:** Now $f(\\mathbf x_r)\\geq f(\\mathbf x_n)$, construct $\\mathbf x_c = \\mathbf x_0 + \\rho(\\mathbf x_{n+1}-\\mathbf x_0)$\n",
        "    * If $f(\\mathbf x_c) < f(\\mathbf x_{n+1})$ return to 1. with $\\mathbf x_{n+1} = \\mathbf x_c$\n",
        "5. **Shrink:** for $i\\geq 2$ replace $\\mathbf x_i = \\mathbf x_1 + \\sigma (\\mathbf x_i - \\mathbf x_1)$ go to step 1\n",
        "\n",
        "Standard values $\\alpha = 1.$, $\\gamma = 2$, $\\rho = 0.5$, and $\\sigma = 0.5$"
      ]
    },
    {
      "cell_type": "markdown",
      "metadata": {
        "slideshow": {
          "slide_type": "subslide"
        }
      },
      "source": [
        "\n",
        "## Reflection, Expansion, Contraction etc. \n",
        "![](assets/simplex_animation.gif)"
      ]
    },
    {
      "cell_type": "markdown",
      "metadata": {
        "slideshow": {
          "slide_type": "subslide"
        }
      },
      "source": [
        "## Example\n",
        "![](assets/Nelder-Mead_Rosenbrock.gif)"
      ]
    },
    {
      "cell_type": "markdown",
      "metadata": {
        "slideshow": {
          "slide_type": "subslide"
        }
      },
      "source": [
        "\n",
        "## Example Code"
      ]
    },
    {
      "cell_type": "code",
      "execution_count": 7,
      "metadata": {},
      "outputs": [
        {
          "data": {
            "text/plain": [
              " * Status: success\n",
              "\n",
              " * Candidate solution\n",
              "    Final objective value:     3.950131e-09\n",
              "\n",
              " * Found with\n",
              "    Algorithm:     Nelder-Mead\n",
              "\n",
              " * Convergence measures\n",
              "    √(Σ(yᵢ-ȳ)²)/n ≤ 1.0e-08\n",
              "\n",
              " * Work counters\n",
              "    Seconds run:   0  (vs limit Inf)\n",
              "    Iterations:    103\n",
              "    f(x) calls:    198\n"
            ]
          },
          "metadata": {},
          "output_type": "display_data"
        }
      ],
      "source": [
        "#rosenbrock function\n",
        "f_ros(x) = (1.0 - x[1])^2 + 100.0 * (x[2] - x[1]^2)^2\n",
        "optimize(f_ros,10*ones(2),NelderMead())"
      ]
    },
    {
      "cell_type": "markdown",
      "metadata": {
        "slideshow": {
          "slide_type": "slide"
        }
      },
      "source": [
        "# Gradient Based Methods"
      ]
    },
    {
      "cell_type": "markdown",
      "metadata": {
        "slideshow": {
          "slide_type": "subslide"
        }
      },
      "source": [
        "## Newton's Method\n",
        "\n",
        "* Very similar to Newton's Rootfinding method\n",
        "\n",
        "* Do a second order taylor expansion around $x_n$\n",
        "$$\n",
        "f(x) \\approx f(x_n) + f'(x^n)(x-x^n) + \\frac12 f''(x^n)(x-x^n)^2\n",
        "$$\n",
        "\n",
        "* Minimizing this approximated function (taking the first order condition) to get\n",
        "$$\n",
        "    x_{n+1} = x_n - \\frac{f'(x_n)}{f''(x_n)}\n",
        "$$\n",
        "\n",
        "* Need both first and second derivatives\n",
        "\n",
        "* **Note:** $f''(x_n)$ determines how far you move in the direction $f'(x_n)$, will move in the direction that decreases $f$ to first order as long as $f''(x_n) > 0$"
      ]
    },
    {
      "cell_type": "markdown",
      "metadata": {
        "slideshow": {
          "slide_type": "subslide"
        }
      },
      "source": [
        "## Multivariate Extension\n",
        "* For a multivariate function $f(\\mathbf x)$ the second order Taylor expansion is\n",
        "$$\n",
        "    f(\\mathbf x) \\approx f(\\mathbf x_n) + \\nabla f(\\mathbf x_n)(\\mathbf x-\\mathbf x_n) + \\frac12 (\\mathbf x-\\mathbf x_n)' H(\\mathbf x_n)(\\mathbf x-\\mathbf x_n)\n",
        "$$\n",
        "\n",
        "* This yields an updating equation\n",
        "$$\n",
        "    \\mathbf x_{n+1} = \\mathbf x_n - H(\\mathbf x_n)^{-1} \\nabla f(\\mathbf x_n)\n",
        "$$\n",
        "\n",
        "* Problem: Computing $H$ can be time consuming\n",
        "\n",
        "    * May also not be positive definite (can result in algorithm moving in wrong direction (i.e. towards max)"
      ]
    },
    {
      "cell_type": "markdown",
      "metadata": {
        "slideshow": {
          "slide_type": "subslide"
        }
      },
      "source": [
        "## Quasi-Newton Methods\n",
        "\n",
        "* Approximate the Hessian with a positive definite matrix\n",
        "\n",
        "* Example: set Hessian to $I$\n",
        "$$\n",
        "    \\mathbf x_{n+1} = \\mathbf x_{n} -\\nabla f(\\mathbf x_n)\n",
        "$$\n",
        "\n",
        "* Always moves in the right direction but can overshoot, slow convergence rate\n",
        "\n",
        "* BFGS algorithm uses secant to approximate the Hessisan\n",
        "\n",
        "    * Starts with Hessian being $I$, updates it by using changes in the gradient\n",
        "    \n",
        "    * Can show that approximated Hessian will remain Positive definite"
      ]
    },
    {
      "cell_type": "markdown",
      "metadata": {
        "slideshow": {
          "slide_type": "subslide"
        }
      },
      "source": [
        "\n",
        "## Implementation"
      ]
    },
    {
      "cell_type": "code",
      "execution_count": 8,
      "metadata": {},
      "outputs": [
        {
          "data": {
            "text/plain": [
              " * Status: success\n",
              "\n",
              " * Candidate solution\n",
              "    Final objective value:     5.471417e-17\n",
              "\n",
              " * Found with\n",
              "    Algorithm:     BFGS\n",
              "\n",
              " * Convergence measures\n",
              "    |x - x'|               = 3.47e-07 ≰ 0.0e+00\n",
              "    |x - x'|/|x'|          = 3.47e-07 ≰ 0.0e+00\n",
              "    |f(x) - f(x')|         = 6.59e-14 ≰ 0.0e+00\n",
              "    |f(x) - f(x')|/|f(x')| = 1.20e+03 ≰ 0.0e+00\n",
              "    |g(x)|                 = 2.33e-09 ≤ 1.0e-08\n",
              "\n",
              " * Work counters\n",
              "    Seconds run:   0  (vs limit Inf)\n",
              "    Iterations:    16\n",
              "    f(x) calls:    53\n",
              "    ∇f(x) calls:   53\n"
            ]
          },
          "metadata": {},
          "output_type": "display_data"
        }
      ],
      "source": [
        "optimize(f_ros,zeros(2),BFGS())"
      ]
    },
    {
      "cell_type": "code",
      "execution_count": 9,
      "metadata": {},
      "outputs": [
        {
          "name": "stdout",
          "output_type": "stream",
          "text": [
            "  0.000038 seconds (313 allocations: 6.859 KiB)\n",
            "  1.115030 seconds (30.00 M allocations: 457.772 MiB, 4.59% gc time, 0.42% compilation time)\n",
            "  0.000065 seconds (450 allocations: 16.797 KiB)\n"
          ]
        }
      ],
      "source": [
        "@time optimize(f_ros,zeros(2),NelderMead())\n",
        "@time optimize(f_ros,zeros(2),SimulatedAnnealing(),Optim.Options(iterations=10^7))\n",
        "@time optimize(f_ros,zeros(2),BFGS());"
      ]
    },
    {
      "cell_type": "markdown",
      "metadata": {
        "slideshow": {
          "slide_type": "slide"
        }
      },
      "source": [
        "# Problems With Constraints"
      ]
    },
    {
      "cell_type": "markdown",
      "metadata": {
        "slideshow": {
          "slide_type": "subslide"
        }
      },
      "source": [
        "\n",
        "\n",
        "* Many times we will wish to perform the following kind of maximization\n",
        "$$\n",
        "    \\max_{\\mathbf x} f(\\mathbf x)\n",
        "$$\n",
        "subject to \n",
        "\\begin{align*}\n",
        "    g_i(\\mathbf x)&\\leq 0\\\\\n",
        "    r_j(\\mathbf x)&= 0\n",
        "\\end{align*}\n",
        "\n",
        "* Construct a penalty function for violating the constraints\n",
        "$$\n",
        "    P(\\mathbf x) = \\sum_{i=1}^m[\\max\\{0,g_i(\\mathbf x)\\}]^2 + \\sum_{j=1}^k [r_j(\\mathbf x)]^2\n",
        "$$\n",
        "\n",
        "* Create a new objective function\n",
        "$$\n",
        "    h(c,\\mathbf x) = f(\\mathbf x)+cP(\\mathbf x)\n",
        "$$"
      ]
    },
    {
      "cell_type": "markdown",
      "metadata": {
        "slideshow": {
          "slide_type": "subslide"
        }
      },
      "source": [
        "## Augmented Lagrangian Technique\n",
        "* Start with a relatively small value of $c$ and an initial point $\\mathbf x$\n",
        "\n",
        "* Solve a sequence of problems with monotonically increasing values of $c$\n",
        "\n",
        "    1. Choose a growth parameter $\\eta>1$ and initial penalty $c^0$\n",
        "\n",
        "    2. At iteration $n$ minimize $h(c_n,\\mathbf x)$.  Call this solution $\\mathbf x_n$.  If $\\mathbf x_n$ does not violate constraints more than $\\epsilon$ then stop.  Otherwise $c_{n+1}  = (1+\\eta)c_n$ and repeat starting from $\\mathbf x_n$\n",
        "\n",
        "* Can show that this will work as long as such a mininum exists"
      ]
    },
    {
      "cell_type": "markdown",
      "metadata": {
        "slideshow": {
          "slide_type": "subslide"
        }
      },
      "source": [
        "## Example\n",
        "![](assets/NLopt-example.png)"
      ]
    },
    {
      "cell_type": "markdown",
      "metadata": {
        "slideshow": {
          "slide_type": "subslide"
        }
      },
      "source": [
        "\n",
        "## Example Code"
      ]
    },
    {
      "cell_type": "code",
      "execution_count": 10,
      "metadata": {},
      "outputs": [
        {
          "name": "stderr",
          "output_type": "stream",
          "text": [
            "WARNING: using NLopt.optimize in module Main conflicts with an existing identifier.\n"
          ]
        },
        {
          "data": {
            "text/plain": [
              "myconstraint! (generic function with 1 method)"
            ]
          },
          "metadata": {},
          "output_type": "display_data"
        }
      ],
      "source": [
        "using NLopt\n",
        "function myfunc!(x::Vector, grad::Vector)\n",
        "    if length(grad) > 0\n",
        "        grad[1] = 0\n",
        "        grad[2] = 0.5/sqrt(x[2])\n",
        "    end\n",
        "\n",
        "    sqrt(x[2])\n",
        "end\n",
        "\n",
        "function myconstraint!(x::Vector, grad::Vector, a, b)\n",
        "    if length(grad) > 0\n",
        "        grad[1] = 3a * (a*x[1] + b)^2\n",
        "        grad[2] = -1\n",
        "    end\n",
        "    (a*x[1] + b)^3 - x[2]\n",
        "end"
      ]
    },
    {
      "cell_type": "markdown",
      "metadata": {
        "slideshow": {
          "slide_type": "subslide"
        }
      },
      "source": [
        "## Example Code MMD Algorithm"
      ]
    },
    {
      "cell_type": "code",
      "execution_count": 11,
      "metadata": {},
      "outputs": [
        {
          "name": "stdout",
          "output_type": "stream",
          "text": [
            "got 0.5443310582637382 at [0.333333330123988, 0.2962963009905211] after count iterations (returned FTOL_REACHED)\n"
          ]
        }
      ],
      "source": [
        "opt = Opt(:LD_MMA, 2)\n",
        "lower_bounds!(opt, [-Inf, 0.])\n",
        "ftol_rel!(opt,1e-6)\n",
        "\n",
        "min_objective!(opt, myfunc!)\n",
        "inequality_constraint!(opt, (x,g) -> myconstraint!(x,g,2,0))\n",
        "inequality_constraint!(opt, (x,g) -> myconstraint!(x,g,-1,1))\n",
        "\n",
        "(minf,minx,ret) = NLopt.optimize(opt, [3., 1.])\n",
        "println(\"got $minf at $minx after $count iterations (returned $ret)\")"
      ]
    },
    {
      "cell_type": "markdown",
      "metadata": {
        "slideshow": {
          "slide_type": "subslide"
        }
      },
      "source": [
        "## Example Code SLSQP Algorithm"
      ]
    },
    {
      "cell_type": "code",
      "execution_count": 12,
      "metadata": {},
      "outputs": [
        {
          "name": "stdout",
          "output_type": "stream",
          "text": [
            "got 0.5443310809303847 at [0.3333333211928888, 0.296296325666841] after count iterations (returned ROUNDOFF_LIMITED)\n"
          ]
        }
      ],
      "source": [
        "opt = Opt(:LD_SLSQP, 2)\n",
        "lower_bounds!(opt, [-Inf, 0.])\n",
        "ftol_rel!(opt,1e-4)\n",
        "\n",
        "min_objective!(opt, myfunc!)\n",
        "inequality_constraint!(opt, (x,g) -> myconstraint!(x,g,2,0))\n",
        "inequality_constraint!(opt, (x,g) -> myconstraint!(x,g,-1,1))\n",
        "\n",
        "(minf,minx,ret) = NLopt.optimize(opt, [3., 1.])\n",
        "println(\"got $minf at $minx after $count iterations (returned $ret)\")"
      ]
    },
    {
      "cell_type": "markdown",
      "metadata": {
        "slideshow": {
          "slide_type": "slide"
        }
      },
      "source": [
        "# Application: Optimal Taxation"
      ]
    },
    {
      "cell_type": "markdown",
      "metadata": {
        "slideshow": {
          "slide_type": "subslide"
        }
      },
      "source": [
        "## Mirelees Meets Ramsey (Heathcote et. al 2016)\n",
        "* Economy is populated by a continuum of agents\n",
        "    * Preferences $U(c,h) = \\frac{c^{1-\\sigma}}{1-\\sigma}-\\frac{h^{1+\\gamma}}{1+\\gamma}$\n",
        "    * Output produced linearly with productivity $\\exp(\\alpha)$\n",
        "* Log productivity $\\alpha$\n",
        "    * $\\alpha\\sim\\mathcal N(-\\sigma_\\alpha^2/2,\\sigma_\\alpha)$\n",
        "* Government chooses tax policy $T(y) = \\tau y - T$ "
      ]
    },
    {
      "cell_type": "markdown",
      "metadata": {
        "slideshow": {
          "slide_type": "subslide"
        }
      },
      "source": [
        "## Agent's Problem\n",
        "* Agents are indexed by their productivity type $\\alpha$\n",
        "* Solve the following problem\n",
        "$$\n",
        "    \\max_{c,h\\geq 0} \\frac{c^{1-\\sigma}}{1-\\sigma}-\\frac{h^{1+\\gamma}}{1+\\gamma}\n",
        "$$\n",
        "subject to\n",
        "$$\n",
        "    c = (1-\\tau)\\exp(\\alpha)h + T\n",
        "$$\n",
        "* Optimal policies $c(\\alpha;\\tau,T)$ and $h(\\alpha;\\tau,T)$ give utility $U(\\alpha;\\tau,T)$"
      ]
    },
    {
      "cell_type": "markdown",
      "metadata": {
        "slideshow": {
          "slide_type": "subslide"
        }
      },
      "source": [
        "## Government's Problem\n",
        "* Government has utilitarian preferences:\n",
        "$$\n",
        "    \\int U(\\alpha;\\tau,T)dF(\\alpha)\n",
        "$$\n",
        "* Chooses $\\tau$ and $T$ to maximize this objective subject to the governments budget constraint\n",
        "$$\n",
        "    T = \\int \\tau \\exp(\\alpha)h(\\alpha;\\tau,T)dF(\\alpha)\n",
        "$$"
      ]
    },
    {
      "cell_type": "markdown",
      "metadata": {
        "slideshow": {
          "slide_type": "subslide"
        }
      },
      "source": [
        "## Computing Consumption and Hours\n",
        "* Household first order condition\n",
        "$$\n",
        "    h^\\gamma = c^{-\\sigma} (1-\\tau)\\exp(\\alpha)\n",
        "$$\n",
        "* Combine with budget constraint:\n",
        "$$\n",
        "    h^\\gamma = \\left((1-\\tau)\\exp(\\alpha)h+T\\right)^{-\\sigma}(1-\\tau)\\exp(\\alpha)\n",
        "$$\n",
        "* To compute $h(\\alpha;\\tau,T)$, find root of \n",
        "$$\n",
        "     \\left((1-\\tau)\\exp(\\alpha)h+T\\right)^{-\\sigma}(1-\\tau)\\exp(\\alpha) - h^\\gamma\n",
        "$$\n"
      ]
    },
    {
      "cell_type": "markdown",
      "metadata": {
        "slideshow": {
          "slide_type": "subslide"
        }
      },
      "source": [
        "## Parameter Struct And Calibration"
      ]
    },
    {
      "cell_type": "code",
      "execution_count": 9,
      "metadata": {},
      "outputs": [
        {
          "data": {
            "text/plain": [
              "TaxParams\n",
              "  σ: Float64 2.0\n",
              "  γ: Float64 2.0\n",
              "  σ_α: Float64 0.38340579025361626\n",
              "  N: Int64 1000\n",
              "  αvec: Array{Float64}((1000,)) [0.3944238951777254, -0.1619052513329272, -0.032730160159497944, 0.5172273307542494, -0.2183904477206749, 0.44168860536812243, -0.2698167881216335, -0.15236086940099158, 0.4647967573228809, 0.09369852597007133  …  -0.20103107106080503, -0.32006224767706254, -0.025039024078596418, 0.17455676536954073, 0.00264386908534864, -0.4511566306942058, -0.22441630001570093, -0.14757213354781085, -0.06468732601314514, 0.220628469741886]\n"
            ]
          },
          "metadata": {},
          "output_type": "display_data"
        }
      ],
      "source": [
        "using Parameters,Distributions\n",
        "@with_kw mutable struct TaxParams\n",
        "    σ::Float64 = 2.  #Standard\n",
        "    γ::Float64 = 2.  #Targets Frisch elasticity of 0.5\n",
        "    σ_α::Float64 = sqrt(0.147) #Taken from HSV\n",
        "    N::Int64 = 1000 #Number of agents\n",
        "    αvec::Vector{Float64} = rand(Normal(-σ_α^2/2,σ_α),N)\n",
        "end\n",
        "\n",
        "params = TaxParams()"
      ]
    },
    {
      "cell_type": "markdown",
      "metadata": {
        "slideshow": {
          "slide_type": "subslide"
        }
      },
      "source": [
        "\n",
        "## Implementation\n",
        "\n",
        "* A lot of layers to this problem\n",
        "\n",
        "* Start by building up basic components: household decisions"
      ]
    },
    {
      "cell_type": "code",
      "execution_count": 11,
      "metadata": {},
      "outputs": [
        {
          "data": {
            "text/plain": [
              "household_labor"
            ]
          },
          "metadata": {},
          "output_type": "display_data"
        }
      ],
      "source": [
        "using Roots\n",
        "\"\"\"\n",
        "    household_labor(params,α,τ,T)\n",
        "\n",
        "Solves for HH labor choice given policy and preferences\n",
        "\"\"\"\n",
        "function household_labor(params,α,τ,T)\n",
        "    @unpack σ,γ = params\n",
        "    Ŵ = (1-τ)*exp(α) #after tax wages\n",
        "    res(h) = (Ŵ*h+T)^(-σ)*Ŵ-h^γ\n",
        "    min_h = max(0,(.0000001-T)/(1-τ)*exp(α)) #ensures c>.0001\n",
        "    h = fzero(res,min_h,20000.) #find hours that solve HH problem\n",
        "    c = Ŵ*h+T\n",
        "    U = c^(1-σ)/(1-σ)-h^(1+γ)/(1+γ)\n",
        "    return c,h,U\n",
        "end"
      ]
    },
    {
      "cell_type": "markdown",
      "metadata": {
        "slideshow": {
          "slide_type": "subslide"
        }
      },
      "source": [
        "## Implementation Cont.\n",
        "\n",
        "* Next we can aggregate to check Govt. Budget Constraint"
      ]
    },
    {
      "cell_type": "code",
      "execution_count": 17,
      "metadata": {},
      "outputs": [
        {
          "data": {
            "text/plain": [
              "budget_residual"
            ]
          },
          "metadata": {},
          "output_type": "display_data"
        }
      ],
      "source": [
        "\"\"\"\n",
        "    budget_residual(params,τ,T)\n",
        "\n",
        "Computes the residual of the HH budget constraint given policy (τ,T) given model\n",
        "parameters params\n",
        "\"\"\"\n",
        "function budget_residual(params,τ,T)\n",
        "    @unpack αvec,σ,γ = params\n",
        "    tax_income = 0.\n",
        "    N = length(αvec)\n",
        "    for i in 1:N\n",
        "        c,h,U = household_labor(params,αvec[i],τ,T)\n",
        "        tax_income += τ*h*exp(αvec[i])\n",
        "    end\n",
        "    return tax_income/N - T\n",
        "end"
      ]
    },
    {
      "cell_type": "markdown",
      "metadata": {
        "slideshow": {
          "slide_type": "subslide"
        }
      },
      "source": [
        "## Implementation Cont.\n",
        "* Finally we can compute welfare for a given choice of tax rate"
      ]
    },
    {
      "cell_type": "code",
      "execution_count": 15,
      "metadata": {},
      "outputs": [
        {
          "data": {
            "text/plain": [
              "government_welfare"
            ]
          },
          "metadata": {},
          "output_type": "display_data"
        }
      ],
      "source": [
        "\"\"\"\n",
        "    government_welfare(params,τ,T)\n",
        "\n",
        "Solves for government welfare given tax rate τ\n",
        "\"\"\"\n",
        "function government_welfare(params,τ)\n",
        "    @unpack αvec,σ,γ = params\n",
        "    f(T) = budget_residual(params,τ,T)\n",
        "    T =  fzero(f,0.) #Find transfers that balance budget\n",
        "    \n",
        "    welfare = 0.\n",
        "    N = length(αvec)\n",
        "    for i in 1:N\n",
        "        #compute HH welfare given tax rate\n",
        "        c,h,U = household_labor(params,αvec[i],τ,T)\n",
        "        welfare += U #Aggregate welfare\n",
        "    end\n",
        "    return welfare/N\n",
        "end"
      ]
    },
    {
      "cell_type": "markdown",
      "metadata": {
        "slideshow": {
          "slide_type": "subslide"
        }
      },
      "source": [
        "## Welfare Function"
      ]
    },
    {
      "cell_type": "code",
      "execution_count": 18,
      "metadata": {},
      "outputs": [
        {
          "data": {
            "image/png": "[encoded data removed]",
            "image/svg+xml": [
              "<?xml version=\"1.0\" encoding=\"utf-8\"?>\n",
              "<svg xmlns=\"http://www.w3.org/2000/svg\" xmlns:xlink=\"http://www.w3.org/1999/xlink\" width=\"600\" height=\"400\" viewBox=\"0 0 2400 1600\">\n",
              "<defs>\n",
              "  <clipPath id=\"clip130\">\n",
              "    <rect x=\"0\" y=\"0\" width=\"2400\" height=\"1600\"/>\n",
              "  </clipPath>\n",
              "</defs>\n",
              "<path clip-path=\"url(#clip130)\" d=\"M0 1600 L2400 1600 L2400 8.88178e-14 L0 8.88178e-14  Z\" fill=\"#ffffff\" fill-rule=\"evenodd\" fill-opacity=\"1\"/>\n",
              "<defs>\n",
              "  <clipPath id=\"clip131\">\n",
              "    <rect x=\"480\" y=\"0\" width=\"1681\" height=\"1600\"/>\n",
              "  </clipPath>\n",
              "</defs>\n",
              "<path clip-path=\"url(#clip130)\" d=\"M380.52 1360.19 L2289.76 1360.19 L2289.76 110.236 L380.52 110.236  Z\" fill=\"#ffffff\" fill-rule=\"evenodd\" fill-opacity=\"1\"/>\n",
              "<defs>\n",
              "  <clipPath id=\"clip132\">\n",
              "    <rect x=\"380\" y=\"110\" width=\"1910\" height=\"1251\"/>\n",
              "  </clipPath>\n",
              "</defs>\n",
              "<polyline clip-path=\"url(#clip132)\" style=\"stroke:#000000; stroke-linecap:round; stroke-linejoin:round; stroke-width:2; stroke-opacity:0.1; fill:none\" points=\"434.555,1360.19 434.555,110.236 \"/>\n",
              "<polyline clip-path=\"url(#clip132)\" style=\"stroke:#000000; stroke-linecap:round; stroke-linejoin:round; stroke-width:2; stroke-opacity:0.1; fill:none\" points=\"884.848,1360.19 884.848,110.236 \"/>\n",
              "<polyline clip-path=\"url(#clip132)\" style=\"stroke:#000000; stroke-linecap:round; stroke-linejoin:round; stroke-width:2; stroke-opacity:0.1; fill:none\" points=\"1335.14,1360.19 1335.14,110.236 \"/>\n",
              "<polyline clip-path=\"url(#clip132)\" style=\"stroke:#000000; stroke-linecap:round; stroke-linejoin:round; stroke-width:2; stroke-opacity:0.1; fill:none\" points=\"1785.44,1360.19 1785.44,110.236 \"/>\n",
              "<polyline clip-path=\"url(#clip132)\" style=\"stroke:#000000; stroke-linecap:round; stroke-linejoin:round; stroke-width:2; stroke-opacity:0.1; fill:none\" points=\"2235.73,1360.19 2235.73,110.236 \"/>\n",
              "<polyline clip-path=\"url(#clip132)\" style=\"stroke:#000000; stroke-linecap:round; stroke-linejoin:round; stroke-width:2; stroke-opacity:0.1; fill:none\" points=\"380.52,1274.03 2289.76,1274.03 \"/>\n",
              "<polyline clip-path=\"url(#clip132)\" style=\"stroke:#000000; stroke-linecap:round; stroke-linejoin:round; stroke-width:2; stroke-opacity:0.1; fill:none\" points=\"380.52,1098.21 2289.76,1098.21 \"/>\n",
              "<polyline clip-path=\"url(#clip132)\" style=\"stroke:#000000; stroke-linecap:round; stroke-linejoin:round; stroke-width:2; stroke-opacity:0.1; fill:none\" points=\"380.52,922.384 2289.76,922.384 \"/>\n",
              "<polyline clip-path=\"url(#clip132)\" style=\"stroke:#000000; stroke-linecap:round; stroke-linejoin:round; stroke-width:2; stroke-opacity:0.1; fill:none\" points=\"380.52,746.559 2289.76,746.559 \"/>\n",
              "<polyline clip-path=\"url(#clip132)\" style=\"stroke:#000000; stroke-linecap:round; stroke-linejoin:round; stroke-width:2; stroke-opacity:0.1; fill:none\" points=\"380.52,570.735 2289.76,570.735 \"/>\n",
              "<polyline clip-path=\"url(#clip132)\" style=\"stroke:#000000; stroke-linecap:round; stroke-linejoin:round; stroke-width:2; stroke-opacity:0.1; fill:none\" points=\"380.52,394.911 2289.76,394.911 \"/>\n",
              "<polyline clip-path=\"url(#clip132)\" style=\"stroke:#000000; stroke-linecap:round; stroke-linejoin:round; stroke-width:2; stroke-opacity:0.1; fill:none\" points=\"380.52,219.087 2289.76,219.087 \"/>\n",
              "<polyline clip-path=\"url(#clip130)\" style=\"stroke:#000000; stroke-linecap:round; stroke-linejoin:round; stroke-width:4; stroke-opacity:1; fill:none\" points=\"380.52,1360.19 2289.76,1360.19 \"/>\n",
              "<polyline clip-path=\"url(#clip130)\" style=\"stroke:#000000; stroke-linecap:round; stroke-linejoin:round; stroke-width:4; stroke-opacity:1; fill:none\" points=\"434.555,1360.19 434.555,1341.29 \"/>\n",
              "<polyline clip-path=\"url(#clip130)\" style=\"stroke:#000000; stroke-linecap:round; stroke-linejoin:round; stroke-width:4; stroke-opacity:1; fill:none\" points=\"884.848,1360.19 884.848,1341.29 \"/>\n",
              "<polyline clip-path=\"url(#clip130)\" style=\"stroke:#000000; stroke-linecap:round; stroke-linejoin:round; stroke-width:4; stroke-opacity:1; fill:none\" points=\"1335.14,1360.19 1335.14,1341.29 \"/>\n",
              "<polyline clip-path=\"url(#clip130)\" style=\"stroke:#000000; stroke-linecap:round; stroke-linejoin:round; stroke-width:4; stroke-opacity:1; fill:none\" points=\"1785.44,1360.19 1785.44,1341.29 \"/>\n",
              "<polyline clip-path=\"url(#clip130)\" style=\"stroke:#000000; stroke-linecap:round; stroke-linejoin:round; stroke-width:4; stroke-opacity:1; fill:none\" points=\"2235.73,1360.19 2235.73,1341.29 \"/>\n",
              "<path clip-path=\"url(#clip130)\" d=\"M411.939 1391.11 Q408.328 1391.11 406.5 1394.67 Q404.694 1398.21 404.694 1405.34 Q404.694 1412.45 406.5 1416.01 Q408.328 1419.56 411.939 1419.56 Q415.574 1419.56 417.379 1416.01 Q419.208 1412.45 419.208 1405.34 Q419.208 1398.21 417.379 1394.67 Q415.574 1391.11 411.939 1391.11 M411.939 1387.4 Q417.75 1387.4 420.805 1392.01 Q423.884 1396.59 423.884 1405.34 Q423.884 1414.07 420.805 1418.68 Q417.75 1423.26 411.939 1423.26 Q406.129 1423.26 403.051 1418.68 Q399.995 1414.07 399.995 1405.34 Q399.995 1396.59 403.051 1392.01 Q406.129 1387.4 411.939 1387.4 Z\" fill=\"#000000\" fill-rule=\"nonzero\" fill-opacity=\"1\" /><path clip-path=\"url(#clip130)\" d=\"M432.101 1416.71 L436.986 1416.71 L436.986 1422.59 L432.101 1422.59 L432.101 1416.71 Z\" fill=\"#000000\" fill-rule=\"nonzero\" fill-opacity=\"1\" /><path clip-path=\"url(#clip130)\" d=\"M457.171 1391.11 Q453.56 1391.11 451.731 1394.67 Q449.925 1398.21 449.925 1405.34 Q449.925 1412.45 451.731 1416.01 Q453.56 1419.56 457.171 1419.56 Q460.805 1419.56 462.611 1416.01 Q464.439 1412.45 464.439 1405.34 Q464.439 1398.21 462.611 1394.67 Q460.805 1391.11 457.171 1391.11 M457.171 1387.4 Q462.981 1387.4 466.036 1392.01 Q469.115 1396.59 469.115 1405.34 Q469.115 1414.07 466.036 1418.68 Q462.981 1423.26 457.171 1423.26 Q451.361 1423.26 448.282 1418.68 Q445.226 1414.07 445.226 1405.34 Q445.226 1396.59 448.282 1392.01 Q451.361 1387.4 457.171 1387.4 Z\" fill=\"#000000\" fill-rule=\"nonzero\" fill-opacity=\"1\" /><path clip-path=\"url(#clip130)\" d=\"M863.031 1391.11 Q859.42 1391.11 857.592 1394.67 Q855.786 1398.21 855.786 1405.34 Q855.786 1412.45 857.592 1416.01 Q859.42 1419.56 863.031 1419.56 Q866.666 1419.56 868.471 1416.01 Q870.3 1412.45 870.3 1405.34 Q870.3 1398.21 868.471 1394.67 Q866.666 1391.11 863.031 1391.11 M863.031 1387.4 Q868.842 1387.4 871.897 1392.01 Q874.976 1396.59 874.976 1405.34 Q874.976 1414.07 871.897 1418.68 Q868.842 1423.26 863.031 1423.26 Q857.221 1423.26 854.143 1418.68 Q851.087 1414.07 851.087 1405.34 Q851.087 1396.59 854.143 1392.01 Q857.221 1387.4 863.031 1387.4 Z\" fill=\"#000000\" fill-rule=\"nonzero\" fill-opacity=\"1\" /><path clip-path=\"url(#clip130)\" d=\"M883.193 1416.71 L888.078 1416.71 L888.078 1422.59 L883.193 1422.59 L883.193 1416.71 Z\" fill=\"#000000\" fill-rule=\"nonzero\" fill-opacity=\"1\" /><path clip-path=\"url(#clip130)\" d=\"M902.291 1418.65 L918.61 1418.65 L918.61 1422.59 L896.666 1422.59 L896.666 1418.65 Q899.328 1415.9 903.911 1411.27 Q908.517 1406.62 909.698 1405.27 Q911.943 1402.75 912.823 1401.01 Q913.726 1399.25 913.726 1397.56 Q913.726 1394.81 911.781 1393.07 Q909.86 1391.34 906.758 1391.34 Q904.559 1391.34 902.105 1392.1 Q899.675 1392.87 896.897 1394.42 L896.897 1389.69 Q899.721 1388.56 902.175 1387.98 Q904.628 1387.4 906.665 1387.4 Q912.036 1387.4 915.23 1390.09 Q918.425 1392.77 918.425 1397.26 Q918.425 1399.39 917.615 1401.31 Q916.827 1403.21 914.721 1405.81 Q914.142 1406.48 911.04 1409.69 Q907.939 1412.89 902.291 1418.65 Z\" fill=\"#000000\" fill-rule=\"nonzero\" fill-opacity=\"1\" /><path clip-path=\"url(#clip130)\" d=\"M1312.28 1391.11 Q1308.67 1391.11 1306.84 1394.67 Q1305.04 1398.21 1305.04 1405.34 Q1305.04 1412.45 1306.84 1416.01 Q1308.67 1419.56 1312.28 1419.56 Q1315.92 1419.56 1317.72 1416.01 Q1319.55 1412.45 1319.55 1405.34 Q1319.55 1398.21 1317.72 1394.67 Q1315.92 1391.11 1312.28 1391.11 M1312.28 1387.4 Q1318.09 1387.4 1321.15 1392.01 Q1324.23 1396.59 1324.23 1405.34 Q1324.23 1414.07 1321.15 1418.68 Q1318.09 1423.26 1312.28 1423.26 Q1306.47 1423.26 1303.39 1418.68 Q1300.34 1414.07 1300.34 1405.34 Q1300.34 1396.59 1303.39 1392.01 Q1306.47 1387.4 1312.28 1387.4 Z\" fill=\"#000000\" fill-rule=\"nonzero\" fill-opacity=\"1\" /><path clip-path=\"url(#clip130)\" d=\"M1332.45 1416.71 L1337.33 1416.71 L1337.33 1422.59 L1332.45 1422.59 L1332.45 1416.71 Z\" fill=\"#000000\" fill-rule=\"nonzero\" fill-opacity=\"1\" /><path clip-path=\"url(#clip130)\" d=\"M1360.36 1392.1 L1348.56 1410.55 L1360.36 1410.55 L1360.36 1392.1 M1359.13 1388.03 L1365.01 1388.03 L1365.01 1410.55 L1369.94 1410.55 L1369.94 1414.44 L1365.01 1414.44 L1365.01 1422.59 L1360.36 1422.59 L1360.36 1414.44 L1344.76 1414.44 L1344.76 1409.93 L1359.13 1388.03 Z\" fill=\"#000000\" fill-rule=\"nonzero\" fill-opacity=\"1\" /><path clip-path=\"url(#clip130)\" d=\"M1762.74 1391.11 Q1759.13 1391.11 1757.3 1394.67 Q1755.49 1398.21 1755.49 1405.34 Q1755.49 1412.45 1757.3 1416.01 Q1759.13 1419.56 1762.74 1419.56 Q1766.37 1419.56 1768.18 1416.01 Q1770.01 1412.45 1770.01 1405.34 Q1770.01 1398.21 1768.18 1394.67 Q1766.37 1391.11 1762.74 1391.11 M1762.74 1387.4 Q1768.55 1387.4 1771.6 1392.01 Q1774.68 1396.59 1774.68 1405.34 Q1774.68 1414.07 1771.6 1418.68 Q1768.55 1423.26 1762.74 1423.26 Q1756.93 1423.26 1753.85 1418.68 Q1750.79 1414.07 1750.79 1405.34 Q1750.79 1396.59 1753.85 1392.01 Q1756.93 1387.4 1762.74 1387.4 Z\" fill=\"#000000\" fill-rule=\"nonzero\" fill-opacity=\"1\" /><path clip-path=\"url(#clip130)\" d=\"M1782.9 1416.71 L1787.78 1416.71 L1787.78 1422.59 L1782.9 1422.59 L1782.9 1416.71 Z\" fill=\"#000000\" fill-rule=\"nonzero\" fill-opacity=\"1\" /><path clip-path=\"url(#clip130)\" d=\"M1808.55 1403.44 Q1805.4 1403.44 1803.55 1405.6 Q1801.72 1407.75 1801.72 1411.5 Q1801.72 1415.23 1803.55 1417.4 Q1805.4 1419.56 1808.55 1419.56 Q1811.7 1419.56 1813.53 1417.4 Q1815.38 1415.23 1815.38 1411.5 Q1815.38 1407.75 1813.53 1405.6 Q1811.7 1403.44 1808.55 1403.44 M1817.83 1388.79 L1817.83 1393.05 Q1816.07 1392.22 1814.27 1391.78 Q1812.48 1391.34 1810.72 1391.34 Q1806.09 1391.34 1803.64 1394.46 Q1801.21 1397.59 1800.86 1403.91 Q1802.23 1401.89 1804.29 1400.83 Q1806.35 1399.74 1808.83 1399.74 Q1814.03 1399.74 1817.04 1402.91 Q1820.08 1406.06 1820.08 1411.5 Q1820.08 1416.82 1816.93 1420.04 Q1813.78 1423.26 1808.55 1423.26 Q1802.55 1423.26 1799.38 1418.68 Q1796.21 1414.07 1796.21 1405.34 Q1796.21 1397.15 1800.1 1392.29 Q1803.99 1387.4 1810.54 1387.4 Q1812.3 1387.4 1814.08 1387.75 Q1815.89 1388.1 1817.83 1388.79 Z\" fill=\"#000000\" fill-rule=\"nonzero\" fill-opacity=\"1\" /><path clip-path=\"url(#clip130)\" d=\"M2213.16 1391.11 Q2209.55 1391.11 2207.72 1394.67 Q2205.91 1398.21 2205.91 1405.34 Q2205.91 1412.45 2207.72 1416.01 Q2209.55 1419.56 2213.16 1419.56 Q2216.79 1419.56 2218.6 1416.01 Q2220.43 1412.45 2220.43 1405.34 Q2220.43 1398.21 2218.6 1394.67 Q2216.79 1391.11 2213.16 1391.11 M2213.16 1387.4 Q2218.97 1387.4 2222.02 1392.01 Q2225.1 1396.59 2225.1 1405.34 Q2225.1 1414.07 2222.02 1418.68 Q2218.97 1423.26 2213.16 1423.26 Q2207.35 1423.26 2204.27 1418.68 Q2201.21 1414.07 2201.21 1405.34 Q2201.21 1396.59 2204.27 1392.01 Q2207.35 1387.4 2213.16 1387.4 Z\" fill=\"#000000\" fill-rule=\"nonzero\" fill-opacity=\"1\" /><path clip-path=\"url(#clip130)\" d=\"M2233.32 1416.71 L2238.21 1416.71 L2238.21 1422.59 L2233.32 1422.59 L2233.32 1416.71 Z\" fill=\"#000000\" fill-rule=\"nonzero\" fill-opacity=\"1\" /><path clip-path=\"url(#clip130)\" d=\"M2258.39 1406.18 Q2255.06 1406.18 2253.14 1407.96 Q2251.24 1409.74 2251.24 1412.87 Q2251.24 1415.99 2253.14 1417.77 Q2255.06 1419.56 2258.39 1419.56 Q2261.72 1419.56 2263.65 1417.77 Q2265.57 1415.97 2265.57 1412.87 Q2265.57 1409.74 2263.65 1407.96 Q2261.75 1406.18 2258.39 1406.18 M2253.71 1404.19 Q2250.71 1403.44 2249.02 1401.38 Q2247.35 1399.32 2247.35 1396.36 Q2247.35 1392.22 2250.29 1389.81 Q2253.25 1387.4 2258.39 1387.4 Q2263.55 1387.4 2266.49 1389.81 Q2269.43 1392.22 2269.43 1396.36 Q2269.43 1399.32 2267.74 1401.38 Q2266.08 1403.44 2263.09 1404.19 Q2266.47 1404.97 2268.34 1407.26 Q2270.24 1409.56 2270.24 1412.87 Q2270.24 1417.89 2267.16 1420.57 Q2264.11 1423.26 2258.39 1423.26 Q2252.67 1423.26 2249.59 1420.57 Q2246.54 1417.89 2246.54 1412.87 Q2246.54 1409.56 2248.44 1407.26 Q2250.33 1404.97 2253.71 1404.19 M2252 1396.8 Q2252 1399.49 2253.67 1400.99 Q2255.36 1402.5 2258.39 1402.5 Q2261.4 1402.5 2263.09 1400.99 Q2264.8 1399.49 2264.8 1396.8 Q2264.8 1394.12 2263.09 1392.61 Q2261.4 1391.11 2258.39 1391.11 Q2255.36 1391.11 2253.67 1392.61 Q2252 1394.12 2252 1396.8 Z\" fill=\"#000000\" fill-rule=\"nonzero\" fill-opacity=\"1\" /><path clip-path=\"url(#clip130)\" d=\"M1197.91 1457.53 L1238.11 1457.53 L1238.11 1462.94 L1221.24 1462.94 L1221.24 1505.05 L1214.78 1505.05 L1214.78 1462.94 L1197.91 1462.94 L1197.91 1457.53 Z\" fill=\"#000000\" fill-rule=\"nonzero\" fill-opacity=\"1\" /><path clip-path=\"url(#clip130)\" d=\"M1249.48 1487.13 Q1242.38 1487.13 1239.64 1488.76 Q1236.9 1490.38 1236.9 1494.29 Q1236.9 1497.41 1238.94 1499.26 Q1241.01 1501.07 1244.54 1501.07 Q1249.41 1501.07 1252.34 1497.64 Q1255.3 1494.17 1255.3 1488.44 L1255.3 1487.13 L1249.48 1487.13 M1261.16 1484.71 L1261.16 1505.05 L1255.3 1505.05 L1255.3 1499.64 Q1253.29 1502.89 1250.3 1504.45 Q1247.31 1505.97 1242.98 1505.97 Q1237.51 1505.97 1234.26 1502.92 Q1231.05 1499.83 1231.05 1494.68 Q1231.05 1488.66 1235.06 1485.6 Q1239.1 1482.55 1247.09 1482.55 L1255.3 1482.55 L1255.3 1481.98 Q1255.3 1477.93 1252.63 1475.74 Q1249.98 1473.51 1245.18 1473.51 Q1242.12 1473.51 1239.23 1474.24 Q1236.33 1474.97 1233.66 1476.44 L1233.66 1471.03 Q1236.87 1469.79 1239.89 1469.18 Q1242.92 1468.54 1245.78 1468.54 Q1253.52 1468.54 1257.34 1472.55 Q1261.16 1476.57 1261.16 1484.71 Z\" fill=\"#000000\" fill-rule=\"nonzero\" fill-opacity=\"1\" /><path clip-path=\"url(#clip130)\" d=\"M1302.85 1469.4 L1289.96 1486.75 L1303.52 1505.05 L1296.61 1505.05 L1286.24 1491.05 L1275.86 1505.05 L1268.95 1505.05 L1282.8 1486.4 L1270.13 1469.4 L1277.04 1469.4 L1286.49 1482.1 L1295.95 1469.4 L1302.85 1469.4 Z\" fill=\"#000000\" fill-rule=\"nonzero\" fill-opacity=\"1\" /><path clip-path=\"url(#clip130)\" d=\"M1355.31 1482.77 Q1357.37 1483.47 1359.32 1485.76 Q1361.29 1488.06 1363.26 1492.07 L1369.79 1505.05 L1362.88 1505.05 L1356.8 1492.86 Q1354.45 1488.09 1352.22 1486.53 Q1350.02 1484.97 1346.2 1484.97 L1339.2 1484.97 L1339.2 1505.05 L1332.77 1505.05 L1332.77 1457.53 L1347.28 1457.53 Q1355.43 1457.53 1359.44 1460.94 Q1363.45 1464.34 1363.45 1471.22 Q1363.45 1475.71 1361.35 1478.67 Q1359.28 1481.63 1355.31 1482.77 M1339.2 1462.82 L1339.2 1479.68 L1347.28 1479.68 Q1351.93 1479.68 1354.29 1477.55 Q1356.67 1475.39 1356.67 1471.22 Q1356.67 1467.05 1354.29 1464.95 Q1351.93 1462.82 1347.28 1462.82 L1339.2 1462.82 Z\" fill=\"#000000\" fill-rule=\"nonzero\" fill-opacity=\"1\" /><path clip-path=\"url(#clip130)\" d=\"M1392.58 1487.13 Q1385.48 1487.13 1382.74 1488.76 Q1380 1490.38 1380 1494.29 Q1380 1497.41 1382.04 1499.26 Q1384.11 1501.07 1387.64 1501.07 Q1392.51 1501.07 1395.44 1497.64 Q1398.4 1494.17 1398.4 1488.44 L1398.4 1487.13 L1392.58 1487.13 M1404.26 1484.71 L1404.26 1505.05 L1398.4 1505.05 L1398.4 1499.64 Q1396.4 1502.89 1393.4 1504.45 Q1390.41 1505.97 1386.08 1505.97 Q1380.61 1505.97 1377.36 1502.92 Q1374.15 1499.83 1374.15 1494.68 Q1374.15 1488.66 1378.16 1485.6 Q1382.2 1482.55 1390.19 1482.55 L1398.4 1482.55 L1398.4 1481.98 Q1398.4 1477.93 1395.73 1475.74 Q1393.09 1473.51 1388.28 1473.51 Q1385.22 1473.51 1382.33 1474.24 Q1379.43 1474.97 1376.76 1476.44 L1376.76 1471.03 Q1379.97 1469.79 1383 1469.18 Q1386.02 1468.54 1388.88 1468.54 Q1396.62 1468.54 1400.44 1472.55 Q1404.26 1476.57 1404.26 1484.71 Z\" fill=\"#000000\" fill-rule=\"nonzero\" fill-opacity=\"1\" /><path clip-path=\"url(#clip130)\" d=\"M1422.11 1459.28 L1422.11 1469.4 L1434.18 1469.4 L1434.18 1473.96 L1422.11 1473.96 L1422.11 1493.31 Q1422.11 1497.67 1423.29 1498.91 Q1424.5 1500.15 1428.16 1500.15 L1434.18 1500.15 L1434.18 1505.05 L1428.16 1505.05 Q1421.38 1505.05 1418.8 1502.54 Q1416.23 1499.99 1416.23 1493.31 L1416.23 1473.96 L1411.93 1473.96 L1411.93 1469.4 L1416.23 1469.4 L1416.23 1459.28 L1422.11 1459.28 Z\" fill=\"#000000\" fill-rule=\"nonzero\" fill-opacity=\"1\" /><path clip-path=\"url(#clip130)\" d=\"M1472.37 1485.76 L1472.37 1488.63 L1445.44 1488.63 Q1445.83 1494.68 1449.07 1497.86 Q1452.35 1501.01 1458.18 1501.01 Q1461.55 1501.01 1464.7 1500.18 Q1467.88 1499.35 1471 1497.7 L1471 1503.24 Q1467.85 1504.57 1464.54 1505.27 Q1461.23 1505.97 1457.82 1505.97 Q1449.29 1505.97 1444.3 1501.01 Q1439.33 1496.04 1439.33 1487.58 Q1439.33 1478.83 1444.04 1473.7 Q1448.79 1468.54 1456.81 1468.54 Q1464 1468.54 1468.17 1473.19 Q1472.37 1477.81 1472.37 1485.76 M1466.51 1484.04 Q1466.45 1479.24 1463.81 1476.37 Q1461.2 1473.51 1456.87 1473.51 Q1451.97 1473.51 1449.01 1476.28 Q1446.08 1479.05 1445.63 1484.08 L1466.51 1484.04 Z\" fill=\"#000000\" fill-rule=\"nonzero\" fill-opacity=\"1\" /><polyline clip-path=\"url(#clip130)\" style=\"stroke:#000000; stroke-linecap:round; stroke-linejoin:round; stroke-width:4; stroke-opacity:1; fill:none\" points=\"380.52,1360.19 380.52,110.236 \"/>\n",
              "<polyline clip-path=\"url(#clip130)\" style=\"stroke:#000000; stroke-linecap:round; stroke-linejoin:round; stroke-width:4; stroke-opacity:1; fill:none\" points=\"380.52,1274.03 399.418,1274.03 \"/>\n",
              "<polyline clip-path=\"url(#clip130)\" style=\"stroke:#000000; stroke-linecap:round; stroke-linejoin:round; stroke-width:4; stroke-opacity:1; fill:none\" points=\"380.52,1098.21 399.418,1098.21 \"/>\n",
              "<polyline clip-path=\"url(#clip130)\" style=\"stroke:#000000; stroke-linecap:round; stroke-linejoin:round; stroke-width:4; stroke-opacity:1; fill:none\" points=\"380.52,922.384 399.418,922.384 \"/>\n",
              "<polyline clip-path=\"url(#clip130)\" style=\"stroke:#000000; stroke-linecap:round; stroke-linejoin:round; stroke-width:4; stroke-opacity:1; fill:none\" points=\"380.52,746.559 399.418,746.559 \"/>\n",
              "<polyline clip-path=\"url(#clip130)\" style=\"stroke:#000000; stroke-linecap:round; stroke-linejoin:round; stroke-width:4; stroke-opacity:1; fill:none\" points=\"380.52,570.735 399.418,570.735 \"/>\n",
              "<polyline clip-path=\"url(#clip130)\" style=\"stroke:#000000; stroke-linecap:round; stroke-linejoin:round; stroke-width:4; stroke-opacity:1; fill:none\" points=\"380.52,394.911 399.418,394.911 \"/>\n",
              "<polyline clip-path=\"url(#clip130)\" style=\"stroke:#000000; stroke-linecap:round; stroke-linejoin:round; stroke-width:4; stroke-opacity:1; fill:none\" points=\"380.52,219.087 399.418,219.087 \"/>\n",
              "<path clip-path=\"url(#clip130)\" d=\"M178.248 1274.48 L207.923 1274.48 L207.923 1278.42 L178.248 1278.42 L178.248 1274.48 Z\" fill=\"#000000\" fill-rule=\"nonzero\" fill-opacity=\"1\" /><path clip-path=\"url(#clip130)\" d=\"M218.826 1287.38 L226.465 1287.38 L226.465 1261.01 L218.155 1262.68 L218.155 1258.42 L226.419 1256.75 L231.095 1256.75 L231.095 1287.38 L238.733 1287.38 L238.733 1291.31 L218.826 1291.31 L218.826 1287.38 Z\" fill=\"#000000\" fill-rule=\"nonzero\" fill-opacity=\"1\" /><path clip-path=\"url(#clip130)\" d=\"M248.178 1285.43 L253.062 1285.43 L253.062 1291.31 L248.178 1291.31 L248.178 1285.43 Z\" fill=\"#000000\" fill-rule=\"nonzero\" fill-opacity=\"1\" /><path clip-path=\"url(#clip130)\" d=\"M263.293 1256.75 L281.65 1256.75 L281.65 1260.69 L267.576 1260.69 L267.576 1269.16 Q268.594 1268.81 269.613 1268.65 Q270.631 1268.46 271.65 1268.46 Q277.437 1268.46 280.817 1271.64 Q284.196 1274.81 284.196 1280.22 Q284.196 1285.8 280.724 1288.9 Q277.252 1291.98 270.932 1291.98 Q268.756 1291.98 266.488 1291.61 Q264.243 1291.24 261.835 1290.5 L261.835 1285.8 Q263.918 1286.94 266.141 1287.49 Q268.363 1288.05 270.84 1288.05 Q274.844 1288.05 277.182 1285.94 Q279.52 1283.84 279.52 1280.22 Q279.52 1276.61 277.182 1274.51 Q274.844 1272.4 270.84 1272.4 Q268.965 1272.4 267.09 1272.82 Q265.238 1273.23 263.293 1274.11 L263.293 1256.75 Z\" fill=\"#000000\" fill-rule=\"nonzero\" fill-opacity=\"1\" /><path clip-path=\"url(#clip130)\" d=\"M292.229 1256.75 L314.451 1256.75 L314.451 1258.74 L301.904 1291.31 L297.02 1291.31 L308.826 1260.69 L292.229 1260.69 L292.229 1256.75 Z\" fill=\"#000000\" fill-rule=\"nonzero\" fill-opacity=\"1\" /><path clip-path=\"url(#clip130)\" d=\"M323.617 1256.75 L341.974 1256.75 L341.974 1260.69 L327.9 1260.69 L327.9 1269.16 Q328.918 1268.81 329.937 1268.65 Q330.955 1268.46 331.974 1268.46 Q337.761 1268.46 341.14 1271.64 Q344.52 1274.81 344.52 1280.22 Q344.52 1285.8 341.048 1288.9 Q337.575 1291.98 331.256 1291.98 Q329.08 1291.98 326.812 1291.61 Q324.566 1291.24 322.159 1290.5 L322.159 1285.8 Q324.242 1286.94 326.464 1287.49 Q328.687 1288.05 331.163 1288.05 Q335.168 1288.05 337.506 1285.94 Q339.844 1283.84 339.844 1280.22 Q339.844 1276.61 337.506 1274.51 Q335.168 1272.4 331.163 1272.4 Q329.289 1272.4 327.414 1272.82 Q325.562 1273.23 323.617 1274.11 L323.617 1256.75 Z\" fill=\"#000000\" fill-rule=\"nonzero\" fill-opacity=\"1\" /><path clip-path=\"url(#clip130)\" d=\"M177.252 1098.66 L206.928 1098.66 L206.928 1102.59 L177.252 1102.59 L177.252 1098.66 Z\" fill=\"#000000\" fill-rule=\"nonzero\" fill-opacity=\"1\" /><path clip-path=\"url(#clip130)\" d=\"M217.831 1111.55 L225.47 1111.55 L225.47 1085.19 L217.159 1086.85 L217.159 1082.59 L225.423 1080.93 L230.099 1080.93 L230.099 1111.55 L237.738 1111.55 L237.738 1115.49 L217.831 1115.49 L217.831 1111.55 Z\" fill=\"#000000\" fill-rule=\"nonzero\" fill-opacity=\"1\" /><path clip-path=\"url(#clip130)\" d=\"M247.182 1109.61 L252.067 1109.61 L252.067 1115.49 L247.182 1115.49 L247.182 1109.61 Z\" fill=\"#000000\" fill-rule=\"nonzero\" fill-opacity=\"1\" /><path clip-path=\"url(#clip130)\" d=\"M262.298 1080.93 L280.655 1080.93 L280.655 1084.86 L266.581 1084.86 L266.581 1093.34 Q267.599 1092.99 268.618 1092.83 Q269.636 1092.64 270.655 1092.64 Q276.442 1092.64 279.821 1095.81 Q283.201 1098.98 283.201 1104.4 Q283.201 1109.98 279.729 1113.08 Q276.256 1116.16 269.937 1116.16 Q267.761 1116.16 265.493 1115.79 Q263.247 1115.42 260.84 1114.68 L260.84 1109.98 Q262.923 1111.11 265.145 1111.67 Q267.368 1112.22 269.844 1112.22 Q273.849 1112.22 276.187 1110.12 Q278.525 1108.01 278.525 1104.4 Q278.525 1100.79 276.187 1098.68 Q273.849 1096.58 269.844 1096.58 Q267.969 1096.58 266.094 1096.99 Q264.243 1097.41 262.298 1098.29 L262.298 1080.93 Z\" fill=\"#000000\" fill-rule=\"nonzero\" fill-opacity=\"1\" /><path clip-path=\"url(#clip130)\" d=\"M292.46 1080.93 L310.816 1080.93 L310.816 1084.86 L296.742 1084.86 L296.742 1093.34 Q297.761 1092.99 298.779 1092.83 Q299.798 1092.64 300.816 1092.64 Q306.603 1092.64 309.983 1095.81 Q313.363 1098.98 313.363 1104.4 Q313.363 1109.98 309.89 1113.08 Q306.418 1116.16 300.099 1116.16 Q297.923 1116.16 295.654 1115.79 Q293.409 1115.42 291.002 1114.68 L291.002 1109.98 Q293.085 1111.11 295.307 1111.67 Q297.529 1112.22 300.006 1112.22 Q304.011 1112.22 306.349 1110.12 Q308.687 1108.01 308.687 1104.4 Q308.687 1100.79 306.349 1098.68 Q304.011 1096.58 300.006 1096.58 Q298.131 1096.58 296.256 1096.99 Q294.404 1097.41 292.46 1098.29 L292.46 1080.93 Z\" fill=\"#000000\" fill-rule=\"nonzero\" fill-opacity=\"1\" /><path clip-path=\"url(#clip130)\" d=\"M332.576 1084.01 Q328.964 1084.01 327.136 1087.57 Q325.33 1091.11 325.33 1098.24 Q325.33 1105.35 327.136 1108.91 Q328.964 1112.46 332.576 1112.46 Q336.21 1112.46 338.015 1108.91 Q339.844 1105.35 339.844 1098.24 Q339.844 1091.11 338.015 1087.57 Q336.21 1084.01 332.576 1084.01 M332.576 1080.3 Q338.386 1080.3 341.441 1084.91 Q344.52 1089.49 344.52 1098.24 Q344.52 1106.97 341.441 1111.58 Q338.386 1116.16 332.576 1116.16 Q326.765 1116.16 323.687 1111.58 Q320.631 1106.97 320.631 1098.24 Q320.631 1089.49 323.687 1084.91 Q326.765 1080.3 332.576 1080.3 Z\" fill=\"#000000\" fill-rule=\"nonzero\" fill-opacity=\"1\" /><path clip-path=\"url(#clip130)\" d=\"M178.248 922.835 L207.923 922.835 L207.923 926.77 L178.248 926.77 L178.248 922.835 Z\" fill=\"#000000\" fill-rule=\"nonzero\" fill-opacity=\"1\" /><path clip-path=\"url(#clip130)\" d=\"M218.826 935.728 L226.465 935.728 L226.465 909.363 L218.155 911.03 L218.155 906.77 L226.419 905.104 L231.095 905.104 L231.095 935.728 L238.733 935.728 L238.733 939.664 L218.826 939.664 L218.826 935.728 Z\" fill=\"#000000\" fill-rule=\"nonzero\" fill-opacity=\"1\" /><path clip-path=\"url(#clip130)\" d=\"M248.178 933.784 L253.062 933.784 L253.062 939.664 L248.178 939.664 L248.178 933.784 Z\" fill=\"#000000\" fill-rule=\"nonzero\" fill-opacity=\"1\" /><path clip-path=\"url(#clip130)\" d=\"M263.293 905.104 L281.65 905.104 L281.65 909.039 L267.576 909.039 L267.576 917.511 Q268.594 917.164 269.613 917.002 Q270.631 916.817 271.65 916.817 Q277.437 916.817 280.817 919.988 Q284.196 923.159 284.196 928.576 Q284.196 934.154 280.724 937.256 Q277.252 940.335 270.932 940.335 Q268.756 940.335 266.488 939.965 Q264.243 939.594 261.835 938.853 L261.835 934.154 Q263.918 935.289 266.141 935.844 Q268.363 936.4 270.84 936.4 Q274.844 936.4 277.182 934.293 Q279.52 932.187 279.52 928.576 Q279.52 924.965 277.182 922.858 Q274.844 920.752 270.84 920.752 Q268.965 920.752 267.09 921.168 Q265.238 921.585 263.293 922.465 L263.293 905.104 Z\" fill=\"#000000\" fill-rule=\"nonzero\" fill-opacity=\"1\" /><path clip-path=\"url(#clip130)\" d=\"M297.437 935.728 L313.756 935.728 L313.756 939.664 L291.812 939.664 L291.812 935.728 Q294.474 932.974 299.057 928.344 Q303.664 923.691 304.844 922.349 Q307.09 919.826 307.969 918.09 Q308.872 916.33 308.872 914.641 Q308.872 911.886 306.928 910.15 Q305.006 908.414 301.904 908.414 Q299.705 908.414 297.252 909.178 Q294.821 909.942 292.043 911.492 L292.043 906.77 Q294.867 905.636 297.321 905.057 Q299.775 904.479 301.812 904.479 Q307.182 904.479 310.377 907.164 Q313.571 909.849 313.571 914.34 Q313.571 916.469 312.761 918.391 Q311.974 920.289 309.867 922.881 Q309.289 923.553 306.187 926.77 Q303.085 929.965 297.437 935.728 Z\" fill=\"#000000\" fill-rule=\"nonzero\" fill-opacity=\"1\" /><path clip-path=\"url(#clip130)\" d=\"M323.617 905.104 L341.974 905.104 L341.974 909.039 L327.9 909.039 L327.9 917.511 Q328.918 917.164 329.937 917.002 Q330.955 916.817 331.974 916.817 Q337.761 916.817 341.14 919.988 Q344.52 923.159 344.52 928.576 Q344.52 934.154 341.048 937.256 Q337.575 940.335 331.256 940.335 Q329.08 940.335 326.812 939.965 Q324.566 939.594 322.159 938.853 L322.159 934.154 Q324.242 935.289 326.464 935.844 Q328.687 936.4 331.163 936.4 Q335.168 936.4 337.506 934.293 Q339.844 932.187 339.844 928.576 Q339.844 924.965 337.506 922.858 Q335.168 920.752 331.163 920.752 Q329.289 920.752 327.414 921.168 Q325.562 921.585 323.617 922.465 L323.617 905.104 Z\" fill=\"#000000\" fill-rule=\"nonzero\" fill-opacity=\"1\" /><path clip-path=\"url(#clip130)\" d=\"M177.252 747.011 L206.928 747.011 L206.928 750.946 L177.252 750.946 L177.252 747.011 Z\" fill=\"#000000\" fill-rule=\"nonzero\" fill-opacity=\"1\" /><path clip-path=\"url(#clip130)\" d=\"M217.831 759.904 L225.47 759.904 L225.47 733.539 L217.159 735.205 L217.159 730.946 L225.423 729.279 L230.099 729.279 L230.099 759.904 L237.738 759.904 L237.738 763.839 L217.831 763.839 L217.831 759.904 Z\" fill=\"#000000\" fill-rule=\"nonzero\" fill-opacity=\"1\" /><path clip-path=\"url(#clip130)\" d=\"M247.182 757.96 L252.067 757.96 L252.067 763.839 L247.182 763.839 L247.182 757.96 Z\" fill=\"#000000\" fill-rule=\"nonzero\" fill-opacity=\"1\" /><path clip-path=\"url(#clip130)\" d=\"M262.298 729.279 L280.655 729.279 L280.655 733.215 L266.581 733.215 L266.581 741.687 Q267.599 741.34 268.618 741.178 Q269.636 740.992 270.655 740.992 Q276.442 740.992 279.821 744.164 Q283.201 747.335 283.201 752.752 Q283.201 758.33 279.729 761.432 Q276.256 764.511 269.937 764.511 Q267.761 764.511 265.493 764.14 Q263.247 763.77 260.84 763.029 L260.84 758.33 Q262.923 759.464 265.145 760.02 Q267.368 760.576 269.844 760.576 Q273.849 760.576 276.187 758.469 Q278.525 756.363 278.525 752.752 Q278.525 749.14 276.187 747.034 Q273.849 744.928 269.844 744.928 Q267.969 744.928 266.094 745.344 Q264.243 745.761 262.298 746.64 L262.298 729.279 Z\" fill=\"#000000\" fill-rule=\"nonzero\" fill-opacity=\"1\" /><path clip-path=\"url(#clip130)\" d=\"M302.414 732.358 Q298.803 732.358 296.974 735.923 Q295.168 739.465 295.168 746.594 Q295.168 753.701 296.974 757.265 Q298.803 760.807 302.414 760.807 Q306.048 760.807 307.853 757.265 Q309.682 753.701 309.682 746.594 Q309.682 739.465 307.853 735.923 Q306.048 732.358 302.414 732.358 M302.414 728.654 Q308.224 728.654 311.279 733.261 Q314.358 737.844 314.358 746.594 Q314.358 755.321 311.279 759.927 Q308.224 764.511 302.414 764.511 Q296.603 764.511 293.525 759.927 Q290.469 755.321 290.469 746.594 Q290.469 737.844 293.525 733.261 Q296.603 728.654 302.414 728.654 Z\" fill=\"#000000\" fill-rule=\"nonzero\" fill-opacity=\"1\" /><path clip-path=\"url(#clip130)\" d=\"M332.576 732.358 Q328.964 732.358 327.136 735.923 Q325.33 739.465 325.33 746.594 Q325.33 753.701 327.136 757.265 Q328.964 760.807 332.576 760.807 Q336.21 760.807 338.015 757.265 Q339.844 753.701 339.844 746.594 Q339.844 739.465 338.015 735.923 Q336.21 732.358 332.576 732.358 M332.576 728.654 Q338.386 728.654 341.441 733.261 Q344.52 737.844 344.52 746.594 Q344.52 755.321 341.441 759.927 Q338.386 764.511 332.576 764.511 Q326.765 764.511 323.687 759.927 Q320.631 755.321 320.631 746.594 Q320.631 737.844 323.687 733.261 Q326.765 728.654 332.576 728.654 Z\" fill=\"#000000\" fill-rule=\"nonzero\" fill-opacity=\"1\" /><path clip-path=\"url(#clip130)\" d=\"M178.248 571.187 L207.923 571.187 L207.923 575.122 L178.248 575.122 L178.248 571.187 Z\" fill=\"#000000\" fill-rule=\"nonzero\" fill-opacity=\"1\" /><path clip-path=\"url(#clip130)\" d=\"M218.826 584.08 L226.465 584.08 L226.465 557.715 L218.155 559.381 L218.155 555.122 L226.419 553.455 L231.095 553.455 L231.095 584.08 L238.733 584.08 L238.733 588.015 L218.826 588.015 L218.826 584.08 Z\" fill=\"#000000\" fill-rule=\"nonzero\" fill-opacity=\"1\" /><path clip-path=\"url(#clip130)\" d=\"M248.178 582.136 L253.062 582.136 L253.062 588.015 L248.178 588.015 L248.178 582.136 Z\" fill=\"#000000\" fill-rule=\"nonzero\" fill-opacity=\"1\" /><path clip-path=\"url(#clip130)\" d=\"M276.094 557.529 L264.289 575.978 L276.094 575.978 L276.094 557.529 M274.868 553.455 L280.747 553.455 L280.747 575.978 L285.678 575.978 L285.678 579.867 L280.747 579.867 L280.747 588.015 L276.094 588.015 L276.094 579.867 L260.493 579.867 L260.493 575.353 L274.868 553.455 Z\" fill=\"#000000\" fill-rule=\"nonzero\" fill-opacity=\"1\" /><path clip-path=\"url(#clip130)\" d=\"M292.229 553.455 L314.451 553.455 L314.451 555.446 L301.904 588.015 L297.02 588.015 L308.826 557.39 L292.229 557.39 L292.229 553.455 Z\" fill=\"#000000\" fill-rule=\"nonzero\" fill-opacity=\"1\" /><path clip-path=\"url(#clip130)\" d=\"M323.617 553.455 L341.974 553.455 L341.974 557.39 L327.9 557.39 L327.9 565.863 Q328.918 565.515 329.937 565.353 Q330.955 565.168 331.974 565.168 Q337.761 565.168 341.14 568.339 Q344.52 571.511 344.52 576.927 Q344.52 582.506 341.048 585.608 Q337.575 588.687 331.256 588.687 Q329.08 588.687 326.812 588.316 Q324.566 587.946 322.159 587.205 L322.159 582.506 Q324.242 583.64 326.464 584.196 Q328.687 584.751 331.163 584.751 Q335.168 584.751 337.506 582.645 Q339.844 580.538 339.844 576.927 Q339.844 573.316 337.506 571.21 Q335.168 569.103 331.163 569.103 Q329.289 569.103 327.414 569.52 Q325.562 569.937 323.617 570.816 L323.617 553.455 Z\" fill=\"#000000\" fill-rule=\"nonzero\" fill-opacity=\"1\" /><path clip-path=\"url(#clip130)\" d=\"M177.252 395.362 L206.928 395.362 L206.928 399.298 L177.252 399.298 L177.252 395.362 Z\" fill=\"#000000\" fill-rule=\"nonzero\" fill-opacity=\"1\" /><path clip-path=\"url(#clip130)\" d=\"M217.831 408.256 L225.47 408.256 L225.47 381.89 L217.159 383.557 L217.159 379.298 L225.423 377.631 L230.099 377.631 L230.099 408.256 L237.738 408.256 L237.738 412.191 L217.831 412.191 L217.831 408.256 Z\" fill=\"#000000\" fill-rule=\"nonzero\" fill-opacity=\"1\" /><path clip-path=\"url(#clip130)\" d=\"M247.182 406.311 L252.067 406.311 L252.067 412.191 L247.182 412.191 L247.182 406.311 Z\" fill=\"#000000\" fill-rule=\"nonzero\" fill-opacity=\"1\" /><path clip-path=\"url(#clip130)\" d=\"M275.099 381.705 L263.293 400.154 L275.099 400.154 L275.099 381.705 M273.872 377.631 L279.752 377.631 L279.752 400.154 L284.682 400.154 L284.682 404.043 L279.752 404.043 L279.752 412.191 L275.099 412.191 L275.099 404.043 L259.497 404.043 L259.497 399.529 L273.872 377.631 Z\" fill=\"#000000\" fill-rule=\"nonzero\" fill-opacity=\"1\" /><path clip-path=\"url(#clip130)\" d=\"M292.46 377.631 L310.816 377.631 L310.816 381.566 L296.742 381.566 L296.742 390.038 Q297.761 389.691 298.779 389.529 Q299.798 389.344 300.816 389.344 Q306.603 389.344 309.983 392.515 Q313.363 395.687 313.363 401.103 Q313.363 406.682 309.89 409.784 Q306.418 412.862 300.099 412.862 Q297.923 412.862 295.654 412.492 Q293.409 412.122 291.002 411.381 L291.002 406.682 Q293.085 407.816 295.307 408.372 Q297.529 408.927 300.006 408.927 Q304.011 408.927 306.349 406.821 Q308.687 404.714 308.687 401.103 Q308.687 397.492 306.349 395.386 Q304.011 393.279 300.006 393.279 Q298.131 393.279 296.256 393.696 Q294.404 394.112 292.46 394.992 L292.46 377.631 Z\" fill=\"#000000\" fill-rule=\"nonzero\" fill-opacity=\"1\" /><path clip-path=\"url(#clip130)\" d=\"M332.576 380.71 Q328.964 380.71 327.136 384.275 Q325.33 387.816 325.33 394.946 Q325.33 402.052 327.136 405.617 Q328.964 409.159 332.576 409.159 Q336.21 409.159 338.015 405.617 Q339.844 402.052 339.844 394.946 Q339.844 387.816 338.015 384.275 Q336.21 380.71 332.576 380.71 M332.576 377.006 Q338.386 377.006 341.441 381.613 Q344.52 386.196 344.52 394.946 Q344.52 403.673 341.441 408.279 Q338.386 412.862 332.576 412.862 Q326.765 412.862 323.687 408.279 Q320.631 403.673 320.631 394.946 Q320.631 386.196 323.687 381.613 Q326.765 377.006 332.576 377.006 Z\" fill=\"#000000\" fill-rule=\"nonzero\" fill-opacity=\"1\" /><path clip-path=\"url(#clip130)\" d=\"M178.248 219.538 L207.923 219.538 L207.923 223.473 L178.248 223.473 L178.248 219.538 Z\" fill=\"#000000\" fill-rule=\"nonzero\" fill-opacity=\"1\" /><path clip-path=\"url(#clip130)\" d=\"M218.826 232.432 L226.465 232.432 L226.465 206.066 L218.155 207.733 L218.155 203.474 L226.419 201.807 L231.095 201.807 L231.095 232.432 L238.733 232.432 L238.733 236.367 L218.826 236.367 L218.826 232.432 Z\" fill=\"#000000\" fill-rule=\"nonzero\" fill-opacity=\"1\" /><path clip-path=\"url(#clip130)\" d=\"M248.178 230.487 L253.062 230.487 L253.062 236.367 L248.178 236.367 L248.178 230.487 Z\" fill=\"#000000\" fill-rule=\"nonzero\" fill-opacity=\"1\" /><path clip-path=\"url(#clip130)\" d=\"M276.094 205.881 L264.289 224.33 L276.094 224.33 L276.094 205.881 M274.868 201.807 L280.747 201.807 L280.747 224.33 L285.678 224.33 L285.678 228.219 L280.747 228.219 L280.747 236.367 L276.094 236.367 L276.094 228.219 L260.493 228.219 L260.493 223.705 L274.868 201.807 Z\" fill=\"#000000\" fill-rule=\"nonzero\" fill-opacity=\"1\" /><path clip-path=\"url(#clip130)\" d=\"M297.437 232.432 L313.756 232.432 L313.756 236.367 L291.812 236.367 L291.812 232.432 Q294.474 229.677 299.057 225.048 Q303.664 220.395 304.844 219.052 Q307.09 216.529 307.969 214.793 Q308.872 213.034 308.872 211.344 Q308.872 208.589 306.928 206.853 Q305.006 205.117 301.904 205.117 Q299.705 205.117 297.252 205.881 Q294.821 206.645 292.043 208.196 L292.043 203.474 Q294.867 202.339 297.321 201.761 Q299.775 201.182 301.812 201.182 Q307.182 201.182 310.377 203.867 Q313.571 206.552 313.571 211.043 Q313.571 213.173 312.761 215.094 Q311.974 216.992 309.867 219.585 Q309.289 220.256 306.187 223.473 Q303.085 226.668 297.437 232.432 Z\" fill=\"#000000\" fill-rule=\"nonzero\" fill-opacity=\"1\" /><path clip-path=\"url(#clip130)\" d=\"M323.617 201.807 L341.974 201.807 L341.974 205.742 L327.9 205.742 L327.9 214.214 Q328.918 213.867 329.937 213.705 Q330.955 213.52 331.974 213.52 Q337.761 213.52 341.14 216.691 Q344.52 219.862 344.52 225.279 Q344.52 230.858 341.048 233.96 Q337.575 237.038 331.256 237.038 Q329.08 237.038 326.812 236.668 Q324.566 236.297 322.159 235.557 L322.159 230.858 Q324.242 231.992 326.464 232.547 Q328.687 233.103 331.163 233.103 Q335.168 233.103 337.506 230.997 Q339.844 228.89 339.844 225.279 Q339.844 221.668 337.506 219.561 Q335.168 217.455 331.163 217.455 Q329.289 217.455 327.414 217.872 Q325.562 218.288 323.617 219.168 L323.617 201.807 Z\" fill=\"#000000\" fill-rule=\"nonzero\" fill-opacity=\"1\" /><path clip-path=\"url(#clip130)\" d=\"M79.4763 856.001 L79.4763 849.508 L119.644 839.514 L79.4763 829.552 L79.4763 822.327 L119.644 812.333 L79.4763 802.37 L79.4763 795.845 L126.996 807.781 L126.996 815.865 L85.7465 825.891 L126.996 836.013 L126.996 844.097 L79.4763 856.001 Z\" fill=\"#000000\" fill-rule=\"nonzero\" fill-opacity=\"1\" /><path clip-path=\"url(#clip130)\" d=\"M107.708 760.898 L110.573 760.898 L110.573 787.825 Q116.62 787.443 119.803 784.196 Q122.954 780.918 122.954 775.093 Q122.954 771.719 122.127 768.568 Q121.299 765.385 119.644 762.266 L125.182 762.266 Q126.519 765.417 127.219 768.727 Q127.919 772.038 127.919 775.443 Q127.919 783.973 122.954 788.97 Q117.989 793.936 109.522 793.936 Q100.77 793.936 95.6452 789.225 Q90.489 784.483 90.489 776.462 Q90.489 769.268 95.1359 765.099 Q99.7511 760.898 107.708 760.898 M105.989 766.754 Q101.183 766.818 98.3188 769.459 Q95.4542 772.069 95.4542 776.398 Q95.4542 781.3 98.2233 784.26 Q100.992 787.188 106.021 787.634 L105.989 766.754 Z\" fill=\"#000000\" fill-rule=\"nonzero\" fill-opacity=\"1\" /><path clip-path=\"url(#clip130)\" d=\"M77.4711 751.285 L77.4711 745.429 L126.996 745.429 L126.996 751.285 L77.4711 751.285 Z\" fill=\"#000000\" fill-rule=\"nonzero\" fill-opacity=\"1\" /><path clip-path=\"url(#clip130)\" d=\"M77.4711 715.128 L82.3409 715.128 L82.3409 720.73 Q82.3409 723.881 83.614 725.122 Q84.8871 726.332 88.1973 726.332 L91.3483 726.332 L91.3483 716.688 L95.8998 716.688 L95.8998 726.332 L126.996 726.332 L126.996 732.22 L95.8998 732.22 L95.8998 737.822 L91.3483 737.822 L91.3483 732.22 L88.8657 732.22 Q82.9138 732.22 80.2083 729.451 Q77.4711 726.682 77.4711 720.666 L77.4711 715.128 Z\" fill=\"#000000\" fill-rule=\"nonzero\" fill-opacity=\"1\" /><path clip-path=\"url(#clip130)\" d=\"M109.077 694.026 Q109.077 701.124 110.7 703.861 Q112.323 706.598 116.238 706.598 Q119.357 706.598 121.203 704.561 Q123.018 702.492 123.018 698.959 Q123.018 694.09 119.58 691.161 Q116.111 688.201 110.382 688.201 L109.077 688.201 L109.077 694.026 M106.658 682.345 L126.996 682.345 L126.996 688.201 L121.585 688.201 Q124.832 690.206 126.392 693.198 Q127.919 696.19 127.919 700.519 Q127.919 705.993 124.864 709.24 Q121.776 712.455 116.62 712.455 Q110.605 712.455 107.549 708.444 Q104.494 704.402 104.494 696.413 L104.494 688.201 L103.921 688.201 Q99.8784 688.201 97.6822 690.875 Q95.4542 693.517 95.4542 698.323 Q95.4542 701.378 96.1863 704.275 Q96.9183 707.171 98.3824 709.845 L92.9716 709.845 Q91.7303 706.63 91.1255 703.606 Q90.489 700.583 90.489 697.718 Q90.489 689.984 94.4994 686.164 Q98.5097 682.345 106.658 682.345 Z\" fill=\"#000000\" fill-rule=\"nonzero\" fill-opacity=\"1\" /><path clip-path=\"url(#clip130)\" d=\"M96.8228 649.625 Q96.2499 650.612 95.9953 651.789 Q95.7088 652.935 95.7088 654.336 Q95.7088 659.301 98.9553 661.975 Q102.17 664.616 108.217 664.616 L126.996 664.616 L126.996 670.505 L91.3483 670.505 L91.3483 664.616 L96.8865 664.616 Q93.64 662.77 92.0804 659.81 Q90.489 656.85 90.489 652.617 Q90.489 652.012 90.5844 651.28 Q90.6481 650.548 90.8072 649.657 L96.8228 649.625 Z\" fill=\"#000000\" fill-rule=\"nonzero\" fill-opacity=\"1\" /><path clip-path=\"url(#clip130)\" d=\"M107.708 614.423 L110.573 614.423 L110.573 641.35 Q116.62 640.968 119.803 637.721 Q122.954 634.443 122.954 628.618 Q122.954 625.244 122.127 622.093 Q121.299 618.911 119.644 615.791 L125.182 615.791 Q126.519 618.942 127.219 622.253 Q127.919 625.563 127.919 628.968 Q127.919 637.498 122.954 642.495 Q117.989 647.461 109.522 647.461 Q100.77 647.461 95.6452 642.75 Q90.489 638.008 90.489 629.987 Q90.489 622.794 95.1359 618.624 Q99.7511 614.423 107.708 614.423 M105.989 620.279 Q101.183 620.343 98.3188 622.985 Q95.4542 625.595 95.4542 629.923 Q95.4542 634.825 98.2233 637.785 Q100.992 640.713 106.021 641.159 L105.989 620.279 Z\" fill=\"#000000\" fill-rule=\"nonzero\" fill-opacity=\"1\" /><polyline clip-path=\"url(#clip132)\" style=\"stroke:#009af9; stroke-linecap:round; stroke-linejoin:round; stroke-width:8; stroke-opacity:1; fill:none\" points=\"434.555,441.836 453.15,430.373 562.058,366.699 612.722,339.205 680.63,304.625 736.744,278.126 788.924,255.269 854.428,229.156 913.185,208.333 980.44,187.73 1030.71,174.737 1062.86,167.572 1095.01,161.341 1124.36,156.502 1153.7,152.503 1187.1,149.015 1220.5,146.71 1246.97,145.758 1273.45,145.612 1306.34,146.601 1339.23,148.946 1364.42,151.701 1389.61,155.325 1425.12,161.978 1460.63,170.535 1487.17,178.242 1513.71,187.131 1543.89,198.747 1574.07,212.057 1603.96,227.004 1633.85,243.815 1666.73,264.601 1699.61,287.953 1724.73,307.634 1749.85,329.015 1781.54,358.581 1813.24,391.24 1827.9,407.458 1842.55,424.419 1857.21,442.152 1871.87,460.686 1886.98,480.676 1902.1,501.591 1917.22,523.471 1932.33,546.36 1947.66,570.637 1962.98,596.047 1978.3,622.647 1993.62,650.494 2009.62,680.97 2025.62,712.952 2041.62,746.524 2057.62,781.775 2070.23,810.791 2082.83,840.961 2095.43,872.342 2108.04,904.992 2122.39,943.796 2136.74,984.43 2151.09,1027.01 2165.44,1071.64 2179.79,1118.47 2194.14,1167.63 2208.5,1219.29 2222.85,1273.62 2226.07,1286.2 2229.29,1298.92 2232.51,1311.79 2235.73,1324.81 \"/>\n",
              "</svg>\n"
            ],
            "text/html": [
              "<?xml version=\"1.0\" encoding=\"utf-8\"?>\n",
              "<svg xmlns=\"http://www.w3.org/2000/svg\" xmlns:xlink=\"http://www.w3.org/1999/xlink\" width=\"600\" height=\"400\" viewBox=\"0 0 2400 1600\">\n",
              "<defs>\n",
              "  <clipPath id=\"clip180\">\n",
              "    <rect x=\"0\" y=\"0\" width=\"2400\" height=\"1600\"/>\n",
              "  </clipPath>\n",
              "</defs>\n",
              "<path clip-path=\"url(#clip180)\" d=\"M0 1600 L2400 1600 L2400 8.88178e-14 L0 8.88178e-14  Z\" fill=\"#ffffff\" fill-rule=\"evenodd\" fill-opacity=\"1\"/>\n",
              "<defs>\n",
              "  <clipPath id=\"clip181\">\n",
              "    <rect x=\"480\" y=\"0\" width=\"1681\" height=\"1600\"/>\n",
              "  </clipPath>\n",
              "</defs>\n",
              "<path clip-path=\"url(#clip180)\" d=\"M380.52 1360.19 L2289.76 1360.19 L2289.76 110.236 L380.52 110.236  Z\" fill=\"#ffffff\" fill-rule=\"evenodd\" fill-opacity=\"1\"/>\n",
              "<defs>\n",
              "  <clipPath id=\"clip182\">\n",
              "    <rect x=\"380\" y=\"110\" width=\"1910\" height=\"1251\"/>\n",
              "  </clipPath>\n",
              "</defs>\n",
              "<polyline clip-path=\"url(#clip182)\" style=\"stroke:#000000; stroke-linecap:round; stroke-linejoin:round; stroke-width:2; stroke-opacity:0.1; fill:none\" points=\"434.555,1360.19 434.555,110.236 \"/>\n",
              "<polyline clip-path=\"url(#clip182)\" style=\"stroke:#000000; stroke-linecap:round; stroke-linejoin:round; stroke-width:2; stroke-opacity:0.1; fill:none\" points=\"884.848,1360.19 884.848,110.236 \"/>\n",
              "<polyline clip-path=\"url(#clip182)\" style=\"stroke:#000000; stroke-linecap:round; stroke-linejoin:round; stroke-width:2; stroke-opacity:0.1; fill:none\" points=\"1335.14,1360.19 1335.14,110.236 \"/>\n",
              "<polyline clip-path=\"url(#clip182)\" style=\"stroke:#000000; stroke-linecap:round; stroke-linejoin:round; stroke-width:2; stroke-opacity:0.1; fill:none\" points=\"1785.44,1360.19 1785.44,110.236 \"/>\n",
              "<polyline clip-path=\"url(#clip182)\" style=\"stroke:#000000; stroke-linecap:round; stroke-linejoin:round; stroke-width:2; stroke-opacity:0.1; fill:none\" points=\"2235.73,1360.19 2235.73,110.236 \"/>\n",
              "<polyline clip-path=\"url(#clip182)\" style=\"stroke:#000000; stroke-linecap:round; stroke-linejoin:round; stroke-width:2; stroke-opacity:0.1; fill:none\" points=\"380.52,1274.03 2289.76,1274.03 \"/>\n",
              "<polyline clip-path=\"url(#clip182)\" style=\"stroke:#000000; stroke-linecap:round; stroke-linejoin:round; stroke-width:2; stroke-opacity:0.1; fill:none\" points=\"380.52,1098.21 2289.76,1098.21 \"/>\n",
              "<polyline clip-path=\"url(#clip182)\" style=\"stroke:#000000; stroke-linecap:round; stroke-linejoin:round; stroke-width:2; stroke-opacity:0.1; fill:none\" points=\"380.52,922.384 2289.76,922.384 \"/>\n",
              "<polyline clip-path=\"url(#clip182)\" style=\"stroke:#000000; stroke-linecap:round; stroke-linejoin:round; stroke-width:2; stroke-opacity:0.1; fill:none\" points=\"380.52,746.559 2289.76,746.559 \"/>\n",
              "<polyline clip-path=\"url(#clip182)\" style=\"stroke:#000000; stroke-linecap:round; stroke-linejoin:round; stroke-width:2; stroke-opacity:0.1; fill:none\" points=\"380.52,570.735 2289.76,570.735 \"/>\n",
              "<polyline clip-path=\"url(#clip182)\" style=\"stroke:#000000; stroke-linecap:round; stroke-linejoin:round; stroke-width:2; stroke-opacity:0.1; fill:none\" points=\"380.52,394.911 2289.76,394.911 \"/>\n",
              "<polyline clip-path=\"url(#clip182)\" style=\"stroke:#000000; stroke-linecap:round; stroke-linejoin:round; stroke-width:2; stroke-opacity:0.1; fill:none\" points=\"380.52,219.087 2289.76,219.087 \"/>\n",
              "<polyline clip-path=\"url(#clip180)\" style=\"stroke:#000000; stroke-linecap:round; stroke-linejoin:round; stroke-width:4; stroke-opacity:1; fill:none\" points=\"380.52,1360.19 2289.76,1360.19 \"/>\n",
              "<polyline clip-path=\"url(#clip180)\" style=\"stroke:#000000; stroke-linecap:round; stroke-linejoin:round; stroke-width:4; stroke-opacity:1; fill:none\" points=\"434.555,1360.19 434.555,1341.29 \"/>\n",
              "<polyline clip-path=\"url(#clip180)\" style=\"stroke:#000000; stroke-linecap:round; stroke-linejoin:round; stroke-width:4; stroke-opacity:1; fill:none\" points=\"884.848,1360.19 884.848,1341.29 \"/>\n",
              "<polyline clip-path=\"url(#clip180)\" style=\"stroke:#000000; stroke-linecap:round; stroke-linejoin:round; stroke-width:4; stroke-opacity:1; fill:none\" points=\"1335.14,1360.19 1335.14,1341.29 \"/>\n",
              "<polyline clip-path=\"url(#clip180)\" style=\"stroke:#000000; stroke-linecap:round; stroke-linejoin:round; stroke-width:4; stroke-opacity:1; fill:none\" points=\"1785.44,1360.19 1785.44,1341.29 \"/>\n",
              "<polyline clip-path=\"url(#clip180)\" style=\"stroke:#000000; stroke-linecap:round; stroke-linejoin:round; stroke-width:4; stroke-opacity:1; fill:none\" points=\"2235.73,1360.19 2235.73,1341.29 \"/>\n",
              "<path clip-path=\"url(#clip180)\" d=\"M411.939 1391.11 Q408.328 1391.11 406.5 1394.67 Q404.694 1398.21 404.694 1405.34 Q404.694 1412.45 406.5 1416.01 Q408.328 1419.56 411.939 1419.56 Q415.574 1419.56 417.379 1416.01 Q419.208 1412.45 419.208 1405.34 Q419.208 1398.21 417.379 1394.67 Q415.574 1391.11 411.939 1391.11 M411.939 1387.4 Q417.75 1387.4 420.805 1392.01 Q423.884 1396.59 423.884 1405.34 Q423.884 1414.07 420.805 1418.68 Q417.75 1423.26 411.939 1423.26 Q406.129 1423.26 403.051 1418.68 Q399.995 1414.07 399.995 1405.34 Q399.995 1396.59 403.051 1392.01 Q406.129 1387.4 411.939 1387.4 Z\" fill=\"#000000\" fill-rule=\"nonzero\" fill-opacity=\"1\" /><path clip-path=\"url(#clip180)\" d=\"M432.101 1416.71 L436.986 1416.71 L436.986 1422.59 L432.101 1422.59 L432.101 1416.71 Z\" fill=\"#000000\" fill-rule=\"nonzero\" fill-opacity=\"1\" /><path clip-path=\"url(#clip180)\" d=\"M457.171 1391.11 Q453.56 1391.11 451.731 1394.67 Q449.925 1398.21 449.925 1405.34 Q449.925 1412.45 451.731 1416.01 Q453.56 1419.56 457.171 1419.56 Q460.805 1419.56 462.611 1416.01 Q464.439 1412.45 464.439 1405.34 Q464.439 1398.21 462.611 1394.67 Q460.805 1391.11 457.171 1391.11 M457.171 1387.4 Q462.981 1387.4 466.036 1392.01 Q469.115 1396.59 469.115 1405.34 Q469.115 1414.07 466.036 1418.68 Q462.981 1423.26 457.171 1423.26 Q451.361 1423.26 448.282 1418.68 Q445.226 1414.07 445.226 1405.34 Q445.226 1396.59 448.282 1392.01 Q451.361 1387.4 457.171 1387.4 Z\" fill=\"#000000\" fill-rule=\"nonzero\" fill-opacity=\"1\" /><path clip-path=\"url(#clip180)\" d=\"M863.031 1391.11 Q859.42 1391.11 857.592 1394.67 Q855.786 1398.21 855.786 1405.34 Q855.786 1412.45 857.592 1416.01 Q859.42 1419.56 863.031 1419.56 Q866.666 1419.56 868.471 1416.01 Q870.3 1412.45 870.3 1405.34 Q870.3 1398.21 868.471 1394.67 Q866.666 1391.11 863.031 1391.11 M863.031 1387.4 Q868.842 1387.4 871.897 1392.01 Q874.976 1396.59 874.976 1405.34 Q874.976 1414.07 871.897 1418.68 Q868.842 1423.26 863.031 1423.26 Q857.221 1423.26 854.143 1418.68 Q851.087 1414.07 851.087 1405.34 Q851.087 1396.59 854.143 1392.01 Q857.221 1387.4 863.031 1387.4 Z\" fill=\"#000000\" fill-rule=\"nonzero\" fill-opacity=\"1\" /><path clip-path=\"url(#clip180)\" d=\"M883.193 1416.71 L888.078 1416.71 L888.078 1422.59 L883.193 1422.59 L883.193 1416.71 Z\" fill=\"#000000\" fill-rule=\"nonzero\" fill-opacity=\"1\" /><path clip-path=\"url(#clip180)\" d=\"M902.291 1418.65 L918.61 1418.65 L918.61 1422.59 L896.666 1422.59 L896.666 1418.65 Q899.328 1415.9 903.911 1411.27 Q908.517 1406.62 909.698 1405.27 Q911.943 1402.75 912.823 1401.01 Q913.726 1399.25 913.726 1397.56 Q913.726 1394.81 911.781 1393.07 Q909.86 1391.34 906.758 1391.34 Q904.559 1391.34 902.105 1392.1 Q899.675 1392.87 896.897 1394.42 L896.897 1389.69 Q899.721 1388.56 902.175 1387.98 Q904.628 1387.4 906.665 1387.4 Q912.036 1387.4 915.23 1390.09 Q918.425 1392.77 918.425 1397.26 Q918.425 1399.39 917.615 1401.31 Q916.827 1403.21 914.721 1405.81 Q914.142 1406.48 911.04 1409.69 Q907.939 1412.89 902.291 1418.65 Z\" fill=\"#000000\" fill-rule=\"nonzero\" fill-opacity=\"1\" /><path clip-path=\"url(#clip180)\" d=\"M1312.28 1391.11 Q1308.67 1391.11 1306.84 1394.67 Q1305.04 1398.21 1305.04 1405.34 Q1305.04 1412.45 1306.84 1416.01 Q1308.67 1419.56 1312.28 1419.56 Q1315.92 1419.56 1317.72 1416.01 Q1319.55 1412.45 1319.55 1405.34 Q1319.55 1398.21 1317.72 1394.67 Q1315.92 1391.11 1312.28 1391.11 M1312.28 1387.4 Q1318.09 1387.4 1321.15 1392.01 Q1324.23 1396.59 1324.23 1405.34 Q1324.23 1414.07 1321.15 1418.68 Q1318.09 1423.26 1312.28 1423.26 Q1306.47 1423.26 1303.39 1418.68 Q1300.34 1414.07 1300.34 1405.34 Q1300.34 1396.59 1303.39 1392.01 Q1306.47 1387.4 1312.28 1387.4 Z\" fill=\"#000000\" fill-rule=\"nonzero\" fill-opacity=\"1\" /><path clip-path=\"url(#clip180)\" d=\"M1332.45 1416.71 L1337.33 1416.71 L1337.33 1422.59 L1332.45 1422.59 L1332.45 1416.71 Z\" fill=\"#000000\" fill-rule=\"nonzero\" fill-opacity=\"1\" /><path clip-path=\"url(#clip180)\" d=\"M1360.36 1392.1 L1348.56 1410.55 L1360.36 1410.55 L1360.36 1392.1 M1359.13 1388.03 L1365.01 1388.03 L1365.01 1410.55 L1369.94 1410.55 L1369.94 1414.44 L1365.01 1414.44 L1365.01 1422.59 L1360.36 1422.59 L1360.36 1414.44 L1344.76 1414.44 L1344.76 1409.93 L1359.13 1388.03 Z\" fill=\"#000000\" fill-rule=\"nonzero\" fill-opacity=\"1\" /><path clip-path=\"url(#clip180)\" d=\"M1762.74 1391.11 Q1759.13 1391.11 1757.3 1394.67 Q1755.49 1398.21 1755.49 1405.34 Q1755.49 1412.45 1757.3 1416.01 Q1759.13 1419.56 1762.74 1419.56 Q1766.37 1419.56 1768.18 1416.01 Q1770.01 1412.45 1770.01 1405.34 Q1770.01 1398.21 1768.18 1394.67 Q1766.37 1391.11 1762.74 1391.11 M1762.74 1387.4 Q1768.55 1387.4 1771.6 1392.01 Q1774.68 1396.59 1774.68 1405.34 Q1774.68 1414.07 1771.6 1418.68 Q1768.55 1423.26 1762.74 1423.26 Q1756.93 1423.26 1753.85 1418.68 Q1750.79 1414.07 1750.79 1405.34 Q1750.79 1396.59 1753.85 1392.01 Q1756.93 1387.4 1762.74 1387.4 Z\" fill=\"#000000\" fill-rule=\"nonzero\" fill-opacity=\"1\" /><path clip-path=\"url(#clip180)\" d=\"M1782.9 1416.71 L1787.78 1416.71 L1787.78 1422.59 L1782.9 1422.59 L1782.9 1416.71 Z\" fill=\"#000000\" fill-rule=\"nonzero\" fill-opacity=\"1\" /><path clip-path=\"url(#clip180)\" d=\"M1808.55 1403.44 Q1805.4 1403.44 1803.55 1405.6 Q1801.72 1407.75 1801.72 1411.5 Q1801.72 1415.23 1803.55 1417.4 Q1805.4 1419.56 1808.55 1419.56 Q1811.7 1419.56 1813.53 1417.4 Q1815.38 1415.23 1815.38 1411.5 Q1815.38 1407.75 1813.53 1405.6 Q1811.7 1403.44 1808.55 1403.44 M1817.83 1388.79 L1817.83 1393.05 Q1816.07 1392.22 1814.27 1391.78 Q1812.48 1391.34 1810.72 1391.34 Q1806.09 1391.34 1803.64 1394.46 Q1801.21 1397.59 1800.86 1403.91 Q1802.23 1401.89 1804.29 1400.83 Q1806.35 1399.74 1808.83 1399.74 Q1814.03 1399.74 1817.04 1402.91 Q1820.08 1406.06 1820.08 1411.5 Q1820.08 1416.82 1816.93 1420.04 Q1813.78 1423.26 1808.55 1423.26 Q1802.55 1423.26 1799.38 1418.68 Q1796.21 1414.07 1796.21 1405.34 Q1796.21 1397.15 1800.1 1392.29 Q1803.99 1387.4 1810.54 1387.4 Q1812.3 1387.4 1814.08 1387.75 Q1815.89 1388.1 1817.83 1388.79 Z\" fill=\"#000000\" fill-rule=\"nonzero\" fill-opacity=\"1\" /><path clip-path=\"url(#clip180)\" d=\"M2213.16 1391.11 Q2209.55 1391.11 2207.72 1394.67 Q2205.91 1398.21 2205.91 1405.34 Q2205.91 1412.45 2207.72 1416.01 Q2209.55 1419.56 2213.16 1419.56 Q2216.79 1419.56 2218.6 1416.01 Q2220.43 1412.45 2220.43 1405.34 Q2220.43 1398.21 2218.6 1394.67 Q2216.79 1391.11 2213.16 1391.11 M2213.16 1387.4 Q2218.97 1387.4 2222.02 1392.01 Q2225.1 1396.59 2225.1 1405.34 Q2225.1 1414.07 2222.02 1418.68 Q2218.97 1423.26 2213.16 1423.26 Q2207.35 1423.26 2204.27 1418.68 Q2201.21 1414.07 2201.21 1405.34 Q2201.21 1396.59 2204.27 1392.01 Q2207.35 1387.4 2213.16 1387.4 Z\" fill=\"#000000\" fill-rule=\"nonzero\" fill-opacity=\"1\" /><path clip-path=\"url(#clip180)\" d=\"M2233.32 1416.71 L2238.21 1416.71 L2238.21 1422.59 L2233.32 1422.59 L2233.32 1416.71 Z\" fill=\"#000000\" fill-rule=\"nonzero\" fill-opacity=\"1\" /><path clip-path=\"url(#clip180)\" d=\"M2258.39 1406.18 Q2255.06 1406.18 2253.14 1407.96 Q2251.24 1409.74 2251.24 1412.87 Q2251.24 1415.99 2253.14 1417.77 Q2255.06 1419.56 2258.39 1419.56 Q2261.72 1419.56 2263.65 1417.77 Q2265.57 1415.97 2265.57 1412.87 Q2265.57 1409.74 2263.65 1407.96 Q2261.75 1406.18 2258.39 1406.18 M2253.71 1404.19 Q2250.71 1403.44 2249.02 1401.38 Q2247.35 1399.32 2247.35 1396.36 Q2247.35 1392.22 2250.29 1389.81 Q2253.25 1387.4 2258.39 1387.4 Q2263.55 1387.4 2266.49 1389.81 Q2269.43 1392.22 2269.43 1396.36 Q2269.43 1399.32 2267.74 1401.38 Q2266.08 1403.44 2263.09 1404.19 Q2266.47 1404.97 2268.34 1407.26 Q2270.24 1409.56 2270.24 1412.87 Q2270.24 1417.89 2267.16 1420.57 Q2264.11 1423.26 2258.39 1423.26 Q2252.67 1423.26 2249.59 1420.57 Q2246.54 1417.89 2246.54 1412.87 Q2246.54 1409.56 2248.44 1407.26 Q2250.33 1404.97 2253.71 1404.19 M2252 1396.8 Q2252 1399.49 2253.67 1400.99 Q2255.36 1402.5 2258.39 1402.5 Q2261.4 1402.5 2263.09 1400.99 Q2264.8 1399.49 2264.8 1396.8 Q2264.8 1394.12 2263.09 1392.61 Q2261.4 1391.11 2258.39 1391.11 Q2255.36 1391.11 2253.67 1392.61 Q2252 1394.12 2252 1396.8 Z\" fill=\"#000000\" fill-rule=\"nonzero\" fill-opacity=\"1\" /><path clip-path=\"url(#clip180)\" d=\"M1197.91 1457.53 L1238.11 1457.53 L1238.11 1462.94 L1221.24 1462.94 L1221.24 1505.05 L1214.78 1505.05 L1214.78 1462.94 L1197.91 1462.94 L1197.91 1457.53 Z\" fill=\"#000000\" fill-rule=\"nonzero\" fill-opacity=\"1\" /><path clip-path=\"url(#clip180)\" d=\"M1249.48 1487.13 Q1242.38 1487.13 1239.64 1488.76 Q1236.9 1490.38 1236.9 1494.29 Q1236.9 1497.41 1238.94 1499.26 Q1241.01 1501.07 1244.54 1501.07 Q1249.41 1501.07 1252.34 1497.64 Q1255.3 1494.17 1255.3 1488.44 L1255.3 1487.13 L1249.48 1487.13 M1261.16 1484.71 L1261.16 1505.05 L1255.3 1505.05 L1255.3 1499.64 Q1253.29 1502.89 1250.3 1504.45 Q1247.31 1505.97 1242.98 1505.97 Q1237.51 1505.97 1234.26 1502.92 Q1231.05 1499.83 1231.05 1494.68 Q1231.05 1488.66 1235.06 1485.6 Q1239.1 1482.55 1247.09 1482.55 L1255.3 1482.55 L1255.3 1481.98 Q1255.3 1477.93 1252.63 1475.74 Q1249.98 1473.51 1245.18 1473.51 Q1242.12 1473.51 1239.23 1474.24 Q1236.33 1474.97 1233.66 1476.44 L1233.66 1471.03 Q1236.87 1469.79 1239.89 1469.18 Q1242.92 1468.54 1245.78 1468.54 Q1253.52 1468.54 1257.34 1472.55 Q1261.16 1476.57 1261.16 1484.71 Z\" fill=\"#000000\" fill-rule=\"nonzero\" fill-opacity=\"1\" /><path clip-path=\"url(#clip180)\" d=\"M1302.85 1469.4 L1289.96 1486.75 L1303.52 1505.05 L1296.61 1505.05 L1286.24 1491.05 L1275.86 1505.05 L1268.95 1505.05 L1282.8 1486.4 L1270.13 1469.4 L1277.04 1469.4 L1286.49 1482.1 L1295.95 1469.4 L1302.85 1469.4 Z\" fill=\"#000000\" fill-rule=\"nonzero\" fill-opacity=\"1\" /><path clip-path=\"url(#clip180)\" d=\"M1355.31 1482.77 Q1357.37 1483.47 1359.32 1485.76 Q1361.29 1488.06 1363.26 1492.07 L1369.79 1505.05 L1362.88 1505.05 L1356.8 1492.86 Q1354.45 1488.09 1352.22 1486.53 Q1350.02 1484.97 1346.2 1484.97 L1339.2 1484.97 L1339.2 1505.05 L1332.77 1505.05 L1332.77 1457.53 L1347.28 1457.53 Q1355.43 1457.53 1359.44 1460.94 Q1363.45 1464.34 1363.45 1471.22 Q1363.45 1475.71 1361.35 1478.67 Q1359.28 1481.63 1355.31 1482.77 M1339.2 1462.82 L1339.2 1479.68 L1347.28 1479.68 Q1351.93 1479.68 1354.29 1477.55 Q1356.67 1475.39 1356.67 1471.22 Q1356.67 1467.05 1354.29 1464.95 Q1351.93 1462.82 1347.28 1462.82 L1339.2 1462.82 Z\" fill=\"#000000\" fill-rule=\"nonzero\" fill-opacity=\"1\" /><path clip-path=\"url(#clip180)\" d=\"M1392.58 1487.13 Q1385.48 1487.13 1382.74 1488.76 Q1380 1490.38 1380 1494.29 Q1380 1497.41 1382.04 1499.26 Q1384.11 1501.07 1387.64 1501.07 Q1392.51 1501.07 1395.44 1497.64 Q1398.4 1494.17 1398.4 1488.44 L1398.4 1487.13 L1392.58 1487.13 M1404.26 1484.71 L1404.26 1505.05 L1398.4 1505.05 L1398.4 1499.64 Q1396.4 1502.89 1393.4 1504.45 Q1390.41 1505.97 1386.08 1505.97 Q1380.61 1505.97 1377.36 1502.92 Q1374.15 1499.83 1374.15 1494.68 Q1374.15 1488.66 1378.16 1485.6 Q1382.2 1482.55 1390.19 1482.55 L1398.4 1482.55 L1398.4 1481.98 Q1398.4 1477.93 1395.73 1475.74 Q1393.09 1473.51 1388.28 1473.51 Q1385.22 1473.51 1382.33 1474.24 Q1379.43 1474.97 1376.76 1476.44 L1376.76 1471.03 Q1379.97 1469.79 1383 1469.18 Q1386.02 1468.54 1388.88 1468.54 Q1396.62 1468.54 1400.44 1472.55 Q1404.26 1476.57 1404.26 1484.71 Z\" fill=\"#000000\" fill-rule=\"nonzero\" fill-opacity=\"1\" /><path clip-path=\"url(#clip180)\" d=\"M1422.11 1459.28 L1422.11 1469.4 L1434.18 1469.4 L1434.18 1473.96 L1422.11 1473.96 L1422.11 1493.31 Q1422.11 1497.67 1423.29 1498.91 Q1424.5 1500.15 1428.16 1500.15 L1434.18 1500.15 L1434.18 1505.05 L1428.16 1505.05 Q1421.38 1505.05 1418.8 1502.54 Q1416.23 1499.99 1416.23 1493.31 L1416.23 1473.96 L1411.93 1473.96 L1411.93 1469.4 L1416.23 1469.4 L1416.23 1459.28 L1422.11 1459.28 Z\" fill=\"#000000\" fill-rule=\"nonzero\" fill-opacity=\"1\" /><path clip-path=\"url(#clip180)\" d=\"M1472.37 1485.76 L1472.37 1488.63 L1445.44 1488.63 Q1445.83 1494.68 1449.07 1497.86 Q1452.35 1501.01 1458.18 1501.01 Q1461.55 1501.01 1464.7 1500.18 Q1467.88 1499.35 1471 1497.7 L1471 1503.24 Q1467.85 1504.57 1464.54 1505.27 Q1461.23 1505.97 1457.82 1505.97 Q1449.29 1505.97 1444.3 1501.01 Q1439.33 1496.04 1439.33 1487.58 Q1439.33 1478.83 1444.04 1473.7 Q1448.79 1468.54 1456.81 1468.54 Q1464 1468.54 1468.17 1473.19 Q1472.37 1477.81 1472.37 1485.76 M1466.51 1484.04 Q1466.45 1479.24 1463.81 1476.37 Q1461.2 1473.51 1456.87 1473.51 Q1451.97 1473.51 1449.01 1476.28 Q1446.08 1479.05 1445.63 1484.08 L1466.51 1484.04 Z\" fill=\"#000000\" fill-rule=\"nonzero\" fill-opacity=\"1\" /><polyline clip-path=\"url(#clip180)\" style=\"stroke:#000000; stroke-linecap:round; stroke-linejoin:round; stroke-width:4; stroke-opacity:1; fill:none\" points=\"380.52,1360.19 380.52,110.236 \"/>\n",
              "<polyline clip-path=\"url(#clip180)\" style=\"stroke:#000000; stroke-linecap:round; stroke-linejoin:round; stroke-width:4; stroke-opacity:1; fill:none\" points=\"380.52,1274.03 399.418,1274.03 \"/>\n",
              "<polyline clip-path=\"url(#clip180)\" style=\"stroke:#000000; stroke-linecap:round; stroke-linejoin:round; stroke-width:4; stroke-opacity:1; fill:none\" points=\"380.52,1098.21 399.418,1098.21 \"/>\n",
              "<polyline clip-path=\"url(#clip180)\" style=\"stroke:#000000; stroke-linecap:round; stroke-linejoin:round; stroke-width:4; stroke-opacity:1; fill:none\" points=\"380.52,922.384 399.418,922.384 \"/>\n",
              "<polyline clip-path=\"url(#clip180)\" style=\"stroke:#000000; stroke-linecap:round; stroke-linejoin:round; stroke-width:4; stroke-opacity:1; fill:none\" points=\"380.52,746.559 399.418,746.559 \"/>\n",
              "<polyline clip-path=\"url(#clip180)\" style=\"stroke:#000000; stroke-linecap:round; stroke-linejoin:round; stroke-width:4; stroke-opacity:1; fill:none\" points=\"380.52,570.735 399.418,570.735 \"/>\n",
              "<polyline clip-path=\"url(#clip180)\" style=\"stroke:#000000; stroke-linecap:round; stroke-linejoin:round; stroke-width:4; stroke-opacity:1; fill:none\" points=\"380.52,394.911 399.418,394.911 \"/>\n",
              "<polyline clip-path=\"url(#clip180)\" style=\"stroke:#000000; stroke-linecap:round; stroke-linejoin:round; stroke-width:4; stroke-opacity:1; fill:none\" points=\"380.52,219.087 399.418,219.087 \"/>\n",
              "<path clip-path=\"url(#clip180)\" d=\"M178.248 1274.48 L207.923 1274.48 L207.923 1278.42 L178.248 1278.42 L178.248 1274.48 Z\" fill=\"#000000\" fill-rule=\"nonzero\" fill-opacity=\"1\" /><path clip-path=\"url(#clip180)\" d=\"M218.826 1287.38 L226.465 1287.38 L226.465 1261.01 L218.155 1262.68 L218.155 1258.42 L226.419 1256.75 L231.095 1256.75 L231.095 1287.38 L238.733 1287.38 L238.733 1291.31 L218.826 1291.31 L218.826 1287.38 Z\" fill=\"#000000\" fill-rule=\"nonzero\" fill-opacity=\"1\" /><path clip-path=\"url(#clip180)\" d=\"M248.178 1285.43 L253.062 1285.43 L253.062 1291.31 L248.178 1291.31 L248.178 1285.43 Z\" fill=\"#000000\" fill-rule=\"nonzero\" fill-opacity=\"1\" /><path clip-path=\"url(#clip180)\" d=\"M263.293 1256.75 L281.65 1256.75 L281.65 1260.69 L267.576 1260.69 L267.576 1269.16 Q268.594 1268.81 269.613 1268.65 Q270.631 1268.46 271.65 1268.46 Q277.437 1268.46 280.817 1271.64 Q284.196 1274.81 284.196 1280.22 Q284.196 1285.8 280.724 1288.9 Q277.252 1291.98 270.932 1291.98 Q268.756 1291.98 266.488 1291.61 Q264.243 1291.24 261.835 1290.5 L261.835 1285.8 Q263.918 1286.94 266.141 1287.49 Q268.363 1288.05 270.84 1288.05 Q274.844 1288.05 277.182 1285.94 Q279.52 1283.84 279.52 1280.22 Q279.52 1276.61 277.182 1274.51 Q274.844 1272.4 270.84 1272.4 Q268.965 1272.4 267.09 1272.82 Q265.238 1273.23 263.293 1274.11 L263.293 1256.75 Z\" fill=\"#000000\" fill-rule=\"nonzero\" fill-opacity=\"1\" /><path clip-path=\"url(#clip180)\" d=\"M292.229 1256.75 L314.451 1256.75 L314.451 1258.74 L301.904 1291.31 L297.02 1291.31 L308.826 1260.69 L292.229 1260.69 L292.229 1256.75 Z\" fill=\"#000000\" fill-rule=\"nonzero\" fill-opacity=\"1\" /><path clip-path=\"url(#clip180)\" d=\"M323.617 1256.75 L341.974 1256.75 L341.974 1260.69 L327.9 1260.69 L327.9 1269.16 Q328.918 1268.81 329.937 1268.65 Q330.955 1268.46 331.974 1268.46 Q337.761 1268.46 341.14 1271.64 Q344.52 1274.81 344.52 1280.22 Q344.52 1285.8 341.048 1288.9 Q337.575 1291.98 331.256 1291.98 Q329.08 1291.98 326.812 1291.61 Q324.566 1291.24 322.159 1290.5 L322.159 1285.8 Q324.242 1286.94 326.464 1287.49 Q328.687 1288.05 331.163 1288.05 Q335.168 1288.05 337.506 1285.94 Q339.844 1283.84 339.844 1280.22 Q339.844 1276.61 337.506 1274.51 Q335.168 1272.4 331.163 1272.4 Q329.289 1272.4 327.414 1272.82 Q325.562 1273.23 323.617 1274.11 L323.617 1256.75 Z\" fill=\"#000000\" fill-rule=\"nonzero\" fill-opacity=\"1\" /><path clip-path=\"url(#clip180)\" d=\"M177.252 1098.66 L206.928 1098.66 L206.928 1102.59 L177.252 1102.59 L177.252 1098.66 Z\" fill=\"#000000\" fill-rule=\"nonzero\" fill-opacity=\"1\" /><path clip-path=\"url(#clip180)\" d=\"M217.831 1111.55 L225.47 1111.55 L225.47 1085.19 L217.159 1086.85 L217.159 1082.59 L225.423 1080.93 L230.099 1080.93 L230.099 1111.55 L237.738 1111.55 L237.738 1115.49 L217.831 1115.49 L217.831 1111.55 Z\" fill=\"#000000\" fill-rule=\"nonzero\" fill-opacity=\"1\" /><path clip-path=\"url(#clip180)\" d=\"M247.182 1109.61 L252.067 1109.61 L252.067 1115.49 L247.182 1115.49 L247.182 1109.61 Z\" fill=\"#000000\" fill-rule=\"nonzero\" fill-opacity=\"1\" /><path clip-path=\"url(#clip180)\" d=\"M262.298 1080.93 L280.655 1080.93 L280.655 1084.86 L266.581 1084.86 L266.581 1093.34 Q267.599 1092.99 268.618 1092.83 Q269.636 1092.64 270.655 1092.64 Q276.442 1092.64 279.821 1095.81 Q283.201 1098.98 283.201 1104.4 Q283.201 1109.98 279.729 1113.08 Q276.256 1116.16 269.937 1116.16 Q267.761 1116.16 265.493 1115.79 Q263.247 1115.42 260.84 1114.68 L260.84 1109.98 Q262.923 1111.11 265.145 1111.67 Q267.368 1112.22 269.844 1112.22 Q273.849 1112.22 276.187 1110.12 Q278.525 1108.01 278.525 1104.4 Q278.525 1100.79 276.187 1098.68 Q273.849 1096.58 269.844 1096.58 Q267.969 1096.58 266.094 1096.99 Q264.243 1097.41 262.298 1098.29 L262.298 1080.93 Z\" fill=\"#000000\" fill-rule=\"nonzero\" fill-opacity=\"1\" /><path clip-path=\"url(#clip180)\" d=\"M292.46 1080.93 L310.816 1080.93 L310.816 1084.86 L296.742 1084.86 L296.742 1093.34 Q297.761 1092.99 298.779 1092.83 Q299.798 1092.64 300.816 1092.64 Q306.603 1092.64 309.983 1095.81 Q313.363 1098.98 313.363 1104.4 Q313.363 1109.98 309.89 1113.08 Q306.418 1116.16 300.099 1116.16 Q297.923 1116.16 295.654 1115.79 Q293.409 1115.42 291.002 1114.68 L291.002 1109.98 Q293.085 1111.11 295.307 1111.67 Q297.529 1112.22 300.006 1112.22 Q304.011 1112.22 306.349 1110.12 Q308.687 1108.01 308.687 1104.4 Q308.687 1100.79 306.349 1098.68 Q304.011 1096.58 300.006 1096.58 Q298.131 1096.58 296.256 1096.99 Q294.404 1097.41 292.46 1098.29 L292.46 1080.93 Z\" fill=\"#000000\" fill-rule=\"nonzero\" fill-opacity=\"1\" /><path clip-path=\"url(#clip180)\" d=\"M332.576 1084.01 Q328.964 1084.01 327.136 1087.57 Q325.33 1091.11 325.33 1098.24 Q325.33 1105.35 327.136 1108.91 Q328.964 1112.46 332.576 1112.46 Q336.21 1112.46 338.015 1108.91 Q339.844 1105.35 339.844 1098.24 Q339.844 1091.11 338.015 1087.57 Q336.21 1084.01 332.576 1084.01 M332.576 1080.3 Q338.386 1080.3 341.441 1084.91 Q344.52 1089.49 344.52 1098.24 Q344.52 1106.97 341.441 1111.58 Q338.386 1116.16 332.576 1116.16 Q326.765 1116.16 323.687 1111.58 Q320.631 1106.97 320.631 1098.24 Q320.631 1089.49 323.687 1084.91 Q326.765 1080.3 332.576 1080.3 Z\" fill=\"#000000\" fill-rule=\"nonzero\" fill-opacity=\"1\" /><path clip-path=\"url(#clip180)\" d=\"M178.248 922.835 L207.923 922.835 L207.923 926.77 L178.248 926.77 L178.248 922.835 Z\" fill=\"#000000\" fill-rule=\"nonzero\" fill-opacity=\"1\" /><path clip-path=\"url(#clip180)\" d=\"M218.826 935.728 L226.465 935.728 L226.465 909.363 L218.155 911.03 L218.155 906.77 L226.419 905.104 L231.095 905.104 L231.095 935.728 L238.733 935.728 L238.733 939.664 L218.826 939.664 L218.826 935.728 Z\" fill=\"#000000\" fill-rule=\"nonzero\" fill-opacity=\"1\" /><path clip-path=\"url(#clip180)\" d=\"M248.178 933.784 L253.062 933.784 L253.062 939.664 L248.178 939.664 L248.178 933.784 Z\" fill=\"#000000\" fill-rule=\"nonzero\" fill-opacity=\"1\" /><path clip-path=\"url(#clip180)\" d=\"M263.293 905.104 L281.65 905.104 L281.65 909.039 L267.576 909.039 L267.576 917.511 Q268.594 917.164 269.613 917.002 Q270.631 916.817 271.65 916.817 Q277.437 916.817 280.817 919.988 Q284.196 923.159 284.196 928.576 Q284.196 934.154 280.724 937.256 Q277.252 940.335 270.932 940.335 Q268.756 940.335 266.488 939.965 Q264.243 939.594 261.835 938.853 L261.835 934.154 Q263.918 935.289 266.141 935.844 Q268.363 936.4 270.84 936.4 Q274.844 936.4 277.182 934.293 Q279.52 932.187 279.52 928.576 Q279.52 924.965 277.182 922.858 Q274.844 920.752 270.84 920.752 Q268.965 920.752 267.09 921.168 Q265.238 921.585 263.293 922.465 L263.293 905.104 Z\" fill=\"#000000\" fill-rule=\"nonzero\" fill-opacity=\"1\" /><path clip-path=\"url(#clip180)\" d=\"M297.437 935.728 L313.756 935.728 L313.756 939.664 L291.812 939.664 L291.812 935.728 Q294.474 932.974 299.057 928.344 Q303.664 923.691 304.844 922.349 Q307.09 919.826 307.969 918.09 Q308.872 916.33 308.872 914.641 Q308.872 911.886 306.928 910.15 Q305.006 908.414 301.904 908.414 Q299.705 908.414 297.252 909.178 Q294.821 909.942 292.043 911.492 L292.043 906.77 Q294.867 905.636 297.321 905.057 Q299.775 904.479 301.812 904.479 Q307.182 904.479 310.377 907.164 Q313.571 909.849 313.571 914.34 Q313.571 916.469 312.761 918.391 Q311.974 920.289 309.867 922.881 Q309.289 923.553 306.187 926.77 Q303.085 929.965 297.437 935.728 Z\" fill=\"#000000\" fill-rule=\"nonzero\" fill-opacity=\"1\" /><path clip-path=\"url(#clip180)\" d=\"M323.617 905.104 L341.974 905.104 L341.974 909.039 L327.9 909.039 L327.9 917.511 Q328.918 917.164 329.937 917.002 Q330.955 916.817 331.974 916.817 Q337.761 916.817 341.14 919.988 Q344.52 923.159 344.52 928.576 Q344.52 934.154 341.048 937.256 Q337.575 940.335 331.256 940.335 Q329.08 940.335 326.812 939.965 Q324.566 939.594 322.159 938.853 L322.159 934.154 Q324.242 935.289 326.464 935.844 Q328.687 936.4 331.163 936.4 Q335.168 936.4 337.506 934.293 Q339.844 932.187 339.844 928.576 Q339.844 924.965 337.506 922.858 Q335.168 920.752 331.163 920.752 Q329.289 920.752 327.414 921.168 Q325.562 921.585 323.617 922.465 L323.617 905.104 Z\" fill=\"#000000\" fill-rule=\"nonzero\" fill-opacity=\"1\" /><path clip-path=\"url(#clip180)\" d=\"M177.252 747.011 L206.928 747.011 L206.928 750.946 L177.252 750.946 L177.252 747.011 Z\" fill=\"#000000\" fill-rule=\"nonzero\" fill-opacity=\"1\" /><path clip-path=\"url(#clip180)\" d=\"M217.831 759.904 L225.47 759.904 L225.47 733.539 L217.159 735.205 L217.159 730.946 L225.423 729.279 L230.099 729.279 L230.099 759.904 L237.738 759.904 L237.738 763.839 L217.831 763.839 L217.831 759.904 Z\" fill=\"#000000\" fill-rule=\"nonzero\" fill-opacity=\"1\" /><path clip-path=\"url(#clip180)\" d=\"M247.182 757.96 L252.067 757.96 L252.067 763.839 L247.182 763.839 L247.182 757.96 Z\" fill=\"#000000\" fill-rule=\"nonzero\" fill-opacity=\"1\" /><path clip-path=\"url(#clip180)\" d=\"M262.298 729.279 L280.655 729.279 L280.655 733.215 L266.581 733.215 L266.581 741.687 Q267.599 741.34 268.618 741.178 Q269.636 740.992 270.655 740.992 Q276.442 740.992 279.821 744.164 Q283.201 747.335 283.201 752.752 Q283.201 758.33 279.729 761.432 Q276.256 764.511 269.937 764.511 Q267.761 764.511 265.493 764.14 Q263.247 763.77 260.84 763.029 L260.84 758.33 Q262.923 759.464 265.145 760.02 Q267.368 760.576 269.844 760.576 Q273.849 760.576 276.187 758.469 Q278.525 756.363 278.525 752.752 Q278.525 749.14 276.187 747.034 Q273.849 744.928 269.844 744.928 Q267.969 744.928 266.094 745.344 Q264.243 745.761 262.298 746.64 L262.298 729.279 Z\" fill=\"#000000\" fill-rule=\"nonzero\" fill-opacity=\"1\" /><path clip-path=\"url(#clip180)\" d=\"M302.414 732.358 Q298.803 732.358 296.974 735.923 Q295.168 739.465 295.168 746.594 Q295.168 753.701 296.974 757.265 Q298.803 760.807 302.414 760.807 Q306.048 760.807 307.853 757.265 Q309.682 753.701 309.682 746.594 Q309.682 739.465 307.853 735.923 Q306.048 732.358 302.414 732.358 M302.414 728.654 Q308.224 728.654 311.279 733.261 Q314.358 737.844 314.358 746.594 Q314.358 755.321 311.279 759.927 Q308.224 764.511 302.414 764.511 Q296.603 764.511 293.525 759.927 Q290.469 755.321 290.469 746.594 Q290.469 737.844 293.525 733.261 Q296.603 728.654 302.414 728.654 Z\" fill=\"#000000\" fill-rule=\"nonzero\" fill-opacity=\"1\" /><path clip-path=\"url(#clip180)\" d=\"M332.576 732.358 Q328.964 732.358 327.136 735.923 Q325.33 739.465 325.33 746.594 Q325.33 753.701 327.136 757.265 Q328.964 760.807 332.576 760.807 Q336.21 760.807 338.015 757.265 Q339.844 753.701 339.844 746.594 Q339.844 739.465 338.015 735.923 Q336.21 732.358 332.576 732.358 M332.576 728.654 Q338.386 728.654 341.441 733.261 Q344.52 737.844 344.52 746.594 Q344.52 755.321 341.441 759.927 Q338.386 764.511 332.576 764.511 Q326.765 764.511 323.687 759.927 Q320.631 755.321 320.631 746.594 Q320.631 737.844 323.687 733.261 Q326.765 728.654 332.576 728.654 Z\" fill=\"#000000\" fill-rule=\"nonzero\" fill-opacity=\"1\" /><path clip-path=\"url(#clip180)\" d=\"M178.248 571.187 L207.923 571.187 L207.923 575.122 L178.248 575.122 L178.248 571.187 Z\" fill=\"#000000\" fill-rule=\"nonzero\" fill-opacity=\"1\" /><path clip-path=\"url(#clip180)\" d=\"M218.826 584.08 L226.465 584.08 L226.465 557.715 L218.155 559.381 L218.155 555.122 L226.419 553.455 L231.095 553.455 L231.095 584.08 L238.733 584.08 L238.733 588.015 L218.826 588.015 L218.826 584.08 Z\" fill=\"#000000\" fill-rule=\"nonzero\" fill-opacity=\"1\" /><path clip-path=\"url(#clip180)\" d=\"M248.178 582.136 L253.062 582.136 L253.062 588.015 L248.178 588.015 L248.178 582.136 Z\" fill=\"#000000\" fill-rule=\"nonzero\" fill-opacity=\"1\" /><path clip-path=\"url(#clip180)\" d=\"M276.094 557.529 L264.289 575.978 L276.094 575.978 L276.094 557.529 M274.868 553.455 L280.747 553.455 L280.747 575.978 L285.678 575.978 L285.678 579.867 L280.747 579.867 L280.747 588.015 L276.094 588.015 L276.094 579.867 L260.493 579.867 L260.493 575.353 L274.868 553.455 Z\" fill=\"#000000\" fill-rule=\"nonzero\" fill-opacity=\"1\" /><path clip-path=\"url(#clip180)\" d=\"M292.229 553.455 L314.451 553.455 L314.451 555.446 L301.904 588.015 L297.02 588.015 L308.826 557.39 L292.229 557.39 L292.229 553.455 Z\" fill=\"#000000\" fill-rule=\"nonzero\" fill-opacity=\"1\" /><path clip-path=\"url(#clip180)\" d=\"M323.617 553.455 L341.974 553.455 L341.974 557.39 L327.9 557.39 L327.9 565.863 Q328.918 565.515 329.937 565.353 Q330.955 565.168 331.974 565.168 Q337.761 565.168 341.14 568.339 Q344.52 571.511 344.52 576.927 Q344.52 582.506 341.048 585.608 Q337.575 588.687 331.256 588.687 Q329.08 588.687 326.812 588.316 Q324.566 587.946 322.159 587.205 L322.159 582.506 Q324.242 583.64 326.464 584.196 Q328.687 584.751 331.163 584.751 Q335.168 584.751 337.506 582.645 Q339.844 580.538 339.844 576.927 Q339.844 573.316 337.506 571.21 Q335.168 569.103 331.163 569.103 Q329.289 569.103 327.414 569.52 Q325.562 569.937 323.617 570.816 L323.617 553.455 Z\" fill=\"#000000\" fill-rule=\"nonzero\" fill-opacity=\"1\" /><path clip-path=\"url(#clip180)\" d=\"M177.252 395.362 L206.928 395.362 L206.928 399.298 L177.252 399.298 L177.252 395.362 Z\" fill=\"#000000\" fill-rule=\"nonzero\" fill-opacity=\"1\" /><path clip-path=\"url(#clip180)\" d=\"M217.831 408.256 L225.47 408.256 L225.47 381.89 L217.159 383.557 L217.159 379.298 L225.423 377.631 L230.099 377.631 L230.099 408.256 L237.738 408.256 L237.738 412.191 L217.831 412.191 L217.831 408.256 Z\" fill=\"#000000\" fill-rule=\"nonzero\" fill-opacity=\"1\" /><path clip-path=\"url(#clip180)\" d=\"M247.182 406.311 L252.067 406.311 L252.067 412.191 L247.182 412.191 L247.182 406.311 Z\" fill=\"#000000\" fill-rule=\"nonzero\" fill-opacity=\"1\" /><path clip-path=\"url(#clip180)\" d=\"M275.099 381.705 L263.293 400.154 L275.099 400.154 L275.099 381.705 M273.872 377.631 L279.752 377.631 L279.752 400.154 L284.682 400.154 L284.682 404.043 L279.752 404.043 L279.752 412.191 L275.099 412.191 L275.099 404.043 L259.497 404.043 L259.497 399.529 L273.872 377.631 Z\" fill=\"#000000\" fill-rule=\"nonzero\" fill-opacity=\"1\" /><path clip-path=\"url(#clip180)\" d=\"M292.46 377.631 L310.816 377.631 L310.816 381.566 L296.742 381.566 L296.742 390.038 Q297.761 389.691 298.779 389.529 Q299.798 389.344 300.816 389.344 Q306.603 389.344 309.983 392.515 Q313.363 395.687 313.363 401.103 Q313.363 406.682 309.89 409.784 Q306.418 412.862 300.099 412.862 Q297.923 412.862 295.654 412.492 Q293.409 412.122 291.002 411.381 L291.002 406.682 Q293.085 407.816 295.307 408.372 Q297.529 408.927 300.006 408.927 Q304.011 408.927 306.349 406.821 Q308.687 404.714 308.687 401.103 Q308.687 397.492 306.349 395.386 Q304.011 393.279 300.006 393.279 Q298.131 393.279 296.256 393.696 Q294.404 394.112 292.46 394.992 L292.46 377.631 Z\" fill=\"#000000\" fill-rule=\"nonzero\" fill-opacity=\"1\" /><path clip-path=\"url(#clip180)\" d=\"M332.576 380.71 Q328.964 380.71 327.136 384.275 Q325.33 387.816 325.33 394.946 Q325.33 402.052 327.136 405.617 Q328.964 409.159 332.576 409.159 Q336.21 409.159 338.015 405.617 Q339.844 402.052 339.844 394.946 Q339.844 387.816 338.015 384.275 Q336.21 380.71 332.576 380.71 M332.576 377.006 Q338.386 377.006 341.441 381.613 Q344.52 386.196 344.52 394.946 Q344.52 403.673 341.441 408.279 Q338.386 412.862 332.576 412.862 Q326.765 412.862 323.687 408.279 Q320.631 403.673 320.631 394.946 Q320.631 386.196 323.687 381.613 Q326.765 377.006 332.576 377.006 Z\" fill=\"#000000\" fill-rule=\"nonzero\" fill-opacity=\"1\" /><path clip-path=\"url(#clip180)\" d=\"M178.248 219.538 L207.923 219.538 L207.923 223.473 L178.248 223.473 L178.248 219.538 Z\" fill=\"#000000\" fill-rule=\"nonzero\" fill-opacity=\"1\" /><path clip-path=\"url(#clip180)\" d=\"M218.826 232.432 L226.465 232.432 L226.465 206.066 L218.155 207.733 L218.155 203.474 L226.419 201.807 L231.095 201.807 L231.095 232.432 L238.733 232.432 L238.733 236.367 L218.826 236.367 L218.826 232.432 Z\" fill=\"#000000\" fill-rule=\"nonzero\" fill-opacity=\"1\" /><path clip-path=\"url(#clip180)\" d=\"M248.178 230.487 L253.062 230.487 L253.062 236.367 L248.178 236.367 L248.178 230.487 Z\" fill=\"#000000\" fill-rule=\"nonzero\" fill-opacity=\"1\" /><path clip-path=\"url(#clip180)\" d=\"M276.094 205.881 L264.289 224.33 L276.094 224.33 L276.094 205.881 M274.868 201.807 L280.747 201.807 L280.747 224.33 L285.678 224.33 L285.678 228.219 L280.747 228.219 L280.747 236.367 L276.094 236.367 L276.094 228.219 L260.493 228.219 L260.493 223.705 L274.868 201.807 Z\" fill=\"#000000\" fill-rule=\"nonzero\" fill-opacity=\"1\" /><path clip-path=\"url(#clip180)\" d=\"M297.437 232.432 L313.756 232.432 L313.756 236.367 L291.812 236.367 L291.812 232.432 Q294.474 229.677 299.057 225.048 Q303.664 220.395 304.844 219.052 Q307.09 216.529 307.969 214.793 Q308.872 213.034 308.872 211.344 Q308.872 208.589 306.928 206.853 Q305.006 205.117 301.904 205.117 Q299.705 205.117 297.252 205.881 Q294.821 206.645 292.043 208.196 L292.043 203.474 Q294.867 202.339 297.321 201.761 Q299.775 201.182 301.812 201.182 Q307.182 201.182 310.377 203.867 Q313.571 206.552 313.571 211.043 Q313.571 213.173 312.761 215.094 Q311.974 216.992 309.867 219.585 Q309.289 220.256 306.187 223.473 Q303.085 226.668 297.437 232.432 Z\" fill=\"#000000\" fill-rule=\"nonzero\" fill-opacity=\"1\" /><path clip-path=\"url(#clip180)\" d=\"M323.617 201.807 L341.974 201.807 L341.974 205.742 L327.9 205.742 L327.9 214.214 Q328.918 213.867 329.937 213.705 Q330.955 213.52 331.974 213.52 Q337.761 213.52 341.14 216.691 Q344.52 219.862 344.52 225.279 Q344.52 230.858 341.048 233.96 Q337.575 237.038 331.256 237.038 Q329.08 237.038 326.812 236.668 Q324.566 236.297 322.159 235.557 L322.159 230.858 Q324.242 231.992 326.464 232.547 Q328.687 233.103 331.163 233.103 Q335.168 233.103 337.506 230.997 Q339.844 228.89 339.844 225.279 Q339.844 221.668 337.506 219.561 Q335.168 217.455 331.163 217.455 Q329.289 217.455 327.414 217.872 Q325.562 218.288 323.617 219.168 L323.617 201.807 Z\" fill=\"#000000\" fill-rule=\"nonzero\" fill-opacity=\"1\" /><path clip-path=\"url(#clip180)\" d=\"M79.4763 856.001 L79.4763 849.508 L119.644 839.514 L79.4763 829.552 L79.4763 822.327 L119.644 812.333 L79.4763 802.37 L79.4763 795.845 L126.996 807.781 L126.996 815.865 L85.7465 825.891 L126.996 836.013 L126.996 844.097 L79.4763 856.001 Z\" fill=\"#000000\" fill-rule=\"nonzero\" fill-opacity=\"1\" /><path clip-path=\"url(#clip180)\" d=\"M107.708 760.898 L110.573 760.898 L110.573 787.825 Q116.62 787.443 119.803 784.196 Q122.954 780.918 122.954 775.093 Q122.954 771.719 122.127 768.568 Q121.299 765.385 119.644 762.266 L125.182 762.266 Q126.519 765.417 127.219 768.727 Q127.919 772.038 127.919 775.443 Q127.919 783.973 122.954 788.97 Q117.989 793.936 109.522 793.936 Q100.77 793.936 95.6452 789.225 Q90.489 784.483 90.489 776.462 Q90.489 769.268 95.1359 765.099 Q99.7511 760.898 107.708 760.898 M105.989 766.754 Q101.183 766.818 98.3188 769.459 Q95.4542 772.069 95.4542 776.398 Q95.4542 781.3 98.2233 784.26 Q100.992 787.188 106.021 787.634 L105.989 766.754 Z\" fill=\"#000000\" fill-rule=\"nonzero\" fill-opacity=\"1\" /><path clip-path=\"url(#clip180)\" d=\"M77.4711 751.285 L77.4711 745.429 L126.996 745.429 L126.996 751.285 L77.4711 751.285 Z\" fill=\"#000000\" fill-rule=\"nonzero\" fill-opacity=\"1\" /><path clip-path=\"url(#clip180)\" d=\"M77.4711 715.128 L82.3409 715.128 L82.3409 720.73 Q82.3409 723.881 83.614 725.122 Q84.8871 726.332 88.1973 726.332 L91.3483 726.332 L91.3483 716.688 L95.8998 716.688 L95.8998 726.332 L126.996 726.332 L126.996 732.22 L95.8998 732.22 L95.8998 737.822 L91.3483 737.822 L91.3483 732.22 L88.8657 732.22 Q82.9138 732.22 80.2083 729.451 Q77.4711 726.682 77.4711 720.666 L77.4711 715.128 Z\" fill=\"#000000\" fill-rule=\"nonzero\" fill-opacity=\"1\" /><path clip-path=\"url(#clip180)\" d=\"M109.077 694.026 Q109.077 701.124 110.7 703.861 Q112.323 706.598 116.238 706.598 Q119.357 706.598 121.203 704.561 Q123.018 702.492 123.018 698.959 Q123.018 694.09 119.58 691.161 Q116.111 688.201 110.382 688.201 L109.077 688.201 L109.077 694.026 M106.658 682.345 L126.996 682.345 L126.996 688.201 L121.585 688.201 Q124.832 690.206 126.392 693.198 Q127.919 696.19 127.919 700.519 Q127.919 705.993 124.864 709.24 Q121.776 712.455 116.62 712.455 Q110.605 712.455 107.549 708.444 Q104.494 704.402 104.494 696.413 L104.494 688.201 L103.921 688.201 Q99.8784 688.201 97.6822 690.875 Q95.4542 693.517 95.4542 698.323 Q95.4542 701.378 96.1863 704.275 Q96.9183 707.171 98.3824 709.845 L92.9716 709.845 Q91.7303 706.63 91.1255 703.606 Q90.489 700.583 90.489 697.718 Q90.489 689.984 94.4994 686.164 Q98.5097 682.345 106.658 682.345 Z\" fill=\"#000000\" fill-rule=\"nonzero\" fill-opacity=\"1\" /><path clip-path=\"url(#clip180)\" d=\"M96.8228 649.625 Q96.2499 650.612 95.9953 651.789 Q95.7088 652.935 95.7088 654.336 Q95.7088 659.301 98.9553 661.975 Q102.17 664.616 108.217 664.616 L126.996 664.616 L126.996 670.505 L91.3483 670.505 L91.3483 664.616 L96.8865 664.616 Q93.64 662.77 92.0804 659.81 Q90.489 656.85 90.489 652.617 Q90.489 652.012 90.5844 651.28 Q90.6481 650.548 90.8072 649.657 L96.8228 649.625 Z\" fill=\"#000000\" fill-rule=\"nonzero\" fill-opacity=\"1\" /><path clip-path=\"url(#clip180)\" d=\"M107.708 614.423 L110.573 614.423 L110.573 641.35 Q116.62 640.968 119.803 637.721 Q122.954 634.443 122.954 628.618 Q122.954 625.244 122.127 622.093 Q121.299 618.911 119.644 615.791 L125.182 615.791 Q126.519 618.942 127.219 622.253 Q127.919 625.563 127.919 628.968 Q127.919 637.498 122.954 642.495 Q117.989 647.461 109.522 647.461 Q100.77 647.461 95.6452 642.75 Q90.489 638.008 90.489 629.987 Q90.489 622.794 95.1359 618.624 Q99.7511 614.423 107.708 614.423 M105.989 620.279 Q101.183 620.343 98.3188 622.985 Q95.4542 625.595 95.4542 629.923 Q95.4542 634.825 98.2233 637.785 Q100.992 640.713 106.021 641.159 L105.989 620.279 Z\" fill=\"#000000\" fill-rule=\"nonzero\" fill-opacity=\"1\" /><polyline clip-path=\"url(#clip182)\" style=\"stroke:#009af9; stroke-linecap:round; stroke-linejoin:round; stroke-width:8; stroke-opacity:1; fill:none\" points=\"434.555,441.836 453.15,430.373 562.058,366.699 612.722,339.205 680.63,304.625 736.744,278.126 788.924,255.269 854.428,229.156 913.185,208.333 980.44,187.73 1030.71,174.737 1062.86,167.572 1095.01,161.341 1124.36,156.502 1153.7,152.503 1187.1,149.015 1220.5,146.71 1246.97,145.758 1273.45,145.612 1306.34,146.601 1339.23,148.946 1364.42,151.701 1389.61,155.325 1425.12,161.978 1460.63,170.535 1487.17,178.242 1513.71,187.131 1543.89,198.747 1574.07,212.057 1603.96,227.004 1633.85,243.815 1666.73,264.601 1699.61,287.953 1724.73,307.634 1749.85,329.015 1781.54,358.581 1813.24,391.24 1827.9,407.458 1842.55,424.419 1857.21,442.152 1871.87,460.686 1886.98,480.676 1902.1,501.591 1917.22,523.471 1932.33,546.36 1947.66,570.637 1962.98,596.047 1978.3,622.647 1993.62,650.494 2009.62,680.97 2025.62,712.952 2041.62,746.524 2057.62,781.775 2070.23,810.791 2082.83,840.961 2095.43,872.342 2108.04,904.992 2122.39,943.796 2136.74,984.43 2151.09,1027.01 2165.44,1071.64 2179.79,1118.47 2194.14,1167.63 2208.5,1219.29 2222.85,1273.62 2226.07,1286.2 2229.29,1298.92 2232.51,1311.79 2235.73,1324.81 \"/>\n",
              "</svg>\n"
            ]
          },
          "metadata": {},
          "output_type": "display_data"
        }
      ],
      "source": [
        "plot(τ->government_welfare(params,τ),0.,0.8,ylabel=\"Welfare\",xlabel=\"Tax Rate\")"
      ]
    },
    {
      "cell_type": "markdown",
      "metadata": {
        "slideshow": {
          "slide_type": "subslide"
        }
      },
      "source": [
        "## Optimization"
      ]
    },
    {
      "cell_type": "code",
      "execution_count": 22,
      "metadata": {},
      "outputs": [
        {
          "name": "stdout",
          "output_type": "stream",
          "text": [
            "  2.676190 seconds (101.36 M allocations: 1.655 GiB, 6.79% gc time, 2.52% compilation time)\n",
            "Results of Optimization Algorithm\n",
            " * Status: success\n",
            " * Algorithm: Brent's Method\n",
            " * Search Interval: [0.000000, 0.800000]\n",
            " * Minimizer: 3.688151e-01\n",
            " * Minimum: 1.414547e+00\n",
            " * Iterations: 14\n",
            " * Convergence: max(|x - x_upper|, |x - x_lower|) <= 2*(1.5e-08*|x|+2.2e-16): true\n",
            " * Objective Function Calls: 15\n"
          ]
        }
      ],
      "source": [
        "@time minx_optim = Optim.optimize(τ->-government_welfare(params,τ),0.,0.8)\n",
        "println(minx_optim)"
      ]
    },
    {
      "cell_type": "markdown",
      "metadata": {
        "slideshow": {
          "slide_type": "subslide"
        }
      },
      "source": [
        "## Excercise 2\n",
        "\n",
        "Adapt Code to use constrained optimization:\n",
        "\n",
        "* Optimize over $(\\tau,T)$\n",
        "\n",
        "* Impose government's budget constraint as a constraint\n",
        "\n",
        "* Use NLOPT: LN_COBYLA  is a good choice for an algroithm"
      ]
    }
  ],
  "metadata": {
    "kernelspec": {
      "display_name": "Julia 1.11.3",
      "language": "julia",
      "name": "julia-1.11"
    },
    "language_info": {
      "file_extension": ".jl",
      "mimetype": "application/julia",
      "name": "julia",
      "version": "1.11.3"
    }
  },
  "nbformat": 4,
  "nbformat_minor": 2
}

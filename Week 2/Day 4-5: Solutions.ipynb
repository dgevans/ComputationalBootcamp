{
 "cells": [
  {
   "cell_type": "markdown",
   "id": "4abe2536",
   "metadata": {},
   "source": [
    "## Excersize 3"
   ]
  },
  {
   "cell_type": "code",
   "execution_count": 2,
   "id": "1da6fa13",
   "metadata": {},
   "outputs": [
    {
     "data": {
      "text/plain": [
       "TaxParams\n",
       "  σ: Float64 2.0\n",
       "  γ: Float64 2.0\n",
       "  σ_α: Float64 0.38340579025361626\n",
       "  N: Int64 1000\n",
       "  alphaDist: Normal{Float64}\n",
       "  αvec: Array{Float64}((1000,)) [-0.07494931334069896, -0.7951433894129252, -0.2963813570687809, -0.5203570149299562, -0.708993048089964, 0.22761345497944485, 0.16190034743208634, 0.11443901857031341, 0.19487791252305486, -0.7741346441784632  …  -0.32275155893724, 0.4997499959471932, -0.5111566459216346, 0.38478439229799927, 0.38995043513130423, -0.23923020645477752, 0.29620766099549306, 0.35220045053415727, -0.2753249510472501, -0.28623280956510916]\n"
      ]
     },
     "metadata": {},
     "output_type": "display_data"
    }
   ],
   "source": [
    "using Roots,Distributions,Parameters,BasisMatrices\n",
    "@with_kw mutable struct TaxParams\n",
    "    σ::Float64 = 2. #Standard\n",
    "    γ::Float64 = 2. #Targets Frisch elasticity of 0.5\n",
    "    σ_α::Float64 = sqrt(0.147) #Taken from HSV\n",
    "    N::Int64 = 1000\n",
    "    alphaDist::Distribution = Normal(-σ_α^2/2,σ_α)\n",
    "    αvec::Vector{Float64} = rand(alphaDist,N)\n",
    "end\n",
    "params = TaxParams()"
   ]
  },
  {
   "cell_type": "markdown",
   "id": "a7f5b891",
   "metadata": {},
   "source": [
    "## Interpolating the HH policy functions\n",
    "* Try using Chebyshev polynomials"
   ]
  },
  {
   "cell_type": "code",
   "execution_count": null,
   "id": "3c0b14b8",
   "metadata": {},
   "outputs": [],
   "source": [
    "\"\"\"\n",
    "    approximate_household_labor(params,NlŴ,NT)\n",
    "\n",
    "Approximates HH policies as a function of log after tax wage and transfers.\n",
    "\"\"\"\n",
    "function approximate_household_labor(params,NlŴ,NT)\n",
    "    @unpack σ_α,σ,γ = params\n",
    "    lŴbasis = ChebParams(NlŴ,-5*σ_α+log(1-.8),5*σ_α)\n",
    "    Tbasis = ChebParams(NT,0.,2.) #we know optimal tax will always be positive\n",
    "    basis = Basis(lŴbasis,Tbasis)\n",
    "    X = nodes(basis)[1]\n",
    "    N = size(X,1) #How many nodes are there?\n",
    "    c,h = zeros(N),zeros(N)\n",
    "    for i in 1:N \n",
    "        Ŵ,T = exp(X[i,1]),X[i,2]\n",
    "        res(h) = (Ŵ*h+T)^(-σ)*Ŵ-h^γ\n",
    "        min_h = max(0,(.0000001-T)/Ŵ) #ensures c>.0001\n",
    "        h[i] = fzero(res,min_h,20000.) #find hours that solve HH problem\n",
    "        c[i] = Ŵ*h[i]+T\n",
    "    end\n",
    "    U = @. c^(1-σ)/(1-σ)-h^(1+γ)/(1+γ)\n",
    "    return (cf=Interpoland(basis,c),hf=Interpoland(basis,h),Uf=Interpoland(basis,U))\n",
    "end;"
   ]
  },
  {
   "cell_type": "markdown",
   "id": "52ab4237",
   "metadata": {},
   "source": [
    "## Government Welfare and Budget Constraint\n",
    "* Adjust Government budget constraint to us pre-stored functions"
   ]
  },
  {
   "cell_type": "code",
   "execution_count": null,
   "id": "ca164e4f",
   "metadata": {},
   "outputs": [],
   "source": [
    "\"\"\"\n",
    "    budget_residual(params,policies,τ,T)\n",
    "\n",
    "Computes the residual of the HH budget constraint given policy (τ,T)\n",
    "\"\"\"\n",
    "function budget_residual(params,policies,τ,T)\n",
    "    @unpack αvec = params\n",
    "    @unpack hf = policies\n",
    "    N = length(αvec)\n",
    "    X = [αvec .+ log(1-τ)  T*ones(N)]\n",
    "    tax_income = sum(hf(X).*exp.(αvec).*τ)/N\n",
    "    return tax_income - T\n",
    "end;"
   ]
  },
  {
   "cell_type": "markdown",
   "id": "2744abaa",
   "metadata": {},
   "source": [
    "* Same with objective function"
   ]
  },
  {
   "cell_type": "code",
   "execution_count": null,
   "id": "b487575a",
   "metadata": {},
   "outputs": [],
   "source": [
    "\"\"\"\n",
    "    government_welfare(params,policies,τ,T)\n",
    "\n",
    "Solves for government welfare given tax rate τ\n",
    "\"\"\"\n",
    "function government_welfare(params,policies,τ,T)\n",
    "    @unpack αvec = params\n",
    "    @unpack Uf = policies\n",
    "    N = length(αvec)\n",
    "    X = [αvec .+ log(1-τ)  T*ones(N)]\n",
    "    return sum(Uf(X))/N\n",
    "end;"
   ]
  },
  {
   "cell_type": "markdown",
   "id": "f2cf1f10",
   "metadata": {},
   "source": [
    "## Solving For Optimal Policy\n",
    "* Wrap NLopt in a function for ease of use"
   ]
  },
  {
   "cell_type": "code",
   "execution_count": null,
   "id": "a7858a32",
   "metadata": {},
   "outputs": [],
   "source": [
    "using NLopt\n",
    "\"\"\" \n",
    "    find_optimal_policy(αvec,Uf,hf)\n",
    "\n",
    "Computes the optimal policy given policy fuctions hf and indirect utility Uf\n",
    "\"\"\"\n",
    "function find_optimal_policy(params,policies)\n",
    "    @unpack αvec = params\n",
    "    @unpack Uf,hf = policies\n",
    "    opt = Opt(:LN_COBYLA, 2)\n",
    "    lower_bounds!(opt, [0., 0.])\n",
    "    upper_bounds!(opt, [0.5,Inf])\n",
    "    ftol_rel!(opt,1e-8)\n",
    "\n",
    "    min_objective!(opt, (x,g)->-government_welfare(params,policies,x[1],x[2]))\n",
    "    equality_constraint!(opt, (x,g) -> -budget_residual(params,policies,x[1],x[2]))\n",
    "\n",
    "    minf,minx,ret = NLopt.optimize(opt, [0.3, 0.3])\n",
    "    if ret == :FTOL_REACHED\n",
    "        return minx\n",
    "    end\n",
    "end;"
   ]
  },
  {
   "cell_type": "markdown",
   "id": "295f7dcc",
   "metadata": {},
   "source": [
    "## Let's try this out"
   ]
  },
  {
   "cell_type": "code",
   "execution_count": null,
   "id": "4a158431",
   "metadata": {},
   "outputs": [
    {
     "name": "stdout",
     "output_type": "stream",
     "text": [
      "  0.012600 seconds (16.66 k allocations: 48.834 MiB, 21.09% gc time)\n"
     ]
    },
    {
     "data": {
      "text/plain": [
       "2-element Vector{Float64}:\n",
       " 0.3612118543260959\n",
       " 0.3177638391495579"
      ]
     },
     "metadata": {},
     "output_type": "display_data"
    }
   ],
   "source": [
    "policies = approximate_household_labor(params,10,10)\n",
    "find_optimal_policy(params,policies)\n",
    "@time find_optimal_policy(params,policies)\n",
    "#Remember the old code took 2 seconds"
   ]
  },
  {
   "cell_type": "markdown",
   "id": "8c442119",
   "metadata": {},
   "source": [
    "## How Does the Policy Depend On the Degree of Approximation?"
   ]
  },
  {
   "cell_type": "code",
   "execution_count": null,
   "id": "35eb126a",
   "metadata": {},
   "outputs": [
    {
     "data": {
      "text/plain": [
       "2-element Vector{Float64}:\n",
       " 0.41625303281897674\n",
       " 0.35949657855401695"
      ]
     },
     "metadata": {},
     "output_type": "display_data"
    }
   ],
   "source": [
    "policies = approximate_household_labor(params,5,5)\n",
    "find_optimal_policy(params,policies)"
   ]
  },
  {
   "cell_type": "code",
   "execution_count": null,
   "id": "9a5e17ae",
   "metadata": {},
   "outputs": [
    {
     "data": {
      "text/plain": [
       "2-element Vector{Float64}:\n",
       " 0.3612118543260959\n",
       " 0.3177638391495579"
      ]
     },
     "metadata": {},
     "output_type": "display_data"
    }
   ],
   "source": [
    "policies = approximate_household_labor(params,10,10)\n",
    "find_optimal_policy(params,policies)"
   ]
  },
  {
   "cell_type": "code",
   "execution_count": null,
   "id": "d2ead8aa",
   "metadata": {},
   "outputs": [
    {
     "data": {
      "text/plain": [
       "2-element Vector{Float64}:\n",
       " 0.36142838596726296\n",
       " 0.317927168481032"
      ]
     },
     "metadata": {},
     "output_type": "display_data"
    }
   ],
   "source": [
    "policies = approximate_household_labor(params,20,20)\n",
    "find_optimal_policy(params,policies)"
   ]
  },
  {
   "cell_type": "markdown",
   "id": "14f55645",
   "metadata": {},
   "source": [
    "* Big difference going from 5 degree to 10 degree\n",
    "    * But 10 to 20 degree only effects the 4th decimal place"
   ]
  }
 ],
 "metadata": {
  "kernelspec": {
   "display_name": "Julia 1.11.3",
   "language": "julia",
   "name": "julia-1.11"
  },
  "language_info": {
   "file_extension": ".jl",
   "mimetype": "application/julia",
   "name": "julia",
   "version": "1.11.3"
  }
 },
 "nbformat": 4,
 "nbformat_minor": 5
}

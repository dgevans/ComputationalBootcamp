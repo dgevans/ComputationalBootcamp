{
  "cells": [
    {
      "cell_type": "markdown",
      "metadata": {
        "slideshow": {
          "slide_type": "slide"
        }
      },
      "source": [
        "# Optimization\n",
        "<style type=\"text/css\">\n",
        "  .reveal p {\n",
        "    text-align: left;\n",
        "  }\n",
        "  .reveal ul {\n",
        "    display: block;\n",
        "  }\n",
        "  .reveal ol {\n",
        "    display: block;\n",
        "  }\n",
        "</style>"
      ]
    },
    {
      "cell_type": "code",
      "execution_count": 1,
      "metadata": {
        "slideshow": {
          "slide_type": "skip"
        }
      },
      "outputs": [],
      "source": [
        "using Plots\n",
        "default(linewidth=2,legend=false,margin=10Plots.mm)"
      ]
    },
    {
      "cell_type": "markdown",
      "metadata": {
        "slideshow": {
          "slide_type": "slide"
        }
      },
      "source": [
        "## Introduction\n",
        "\n",
        "*  In economics we often find our selves needing to maximize some objective function\n",
        "\n",
        "* i.e. solve a problem of the form\n",
        "$$\n",
        "    \\max_{\\mathbf x} f(\\mathbf x)\n",
        "$$\n",
        "subject to \n",
        "\\begin{align*}\n",
        "    g_i(\\mathbf x)&\\leq 0\\\\\n",
        "    r_j(\\mathbf x)&= 0\n",
        "\\end{align*}\n",
        "\n",
        "* Well begin by looking at \n",
        "$$\n",
        "    \\min_{\\mathbf x} f(\\mathbf x)\n",
        "$$\n"
      ]
    },
    {
      "cell_type": "markdown",
      "metadata": {
        "slideshow": {
          "slide_type": "subslide"
        }
      },
      "source": [
        "\n",
        "## Isomorphism \n",
        "* Start with the standard minimization problem\n",
        "$$\n",
        "    \\min_{\\mathbf x} f(\\mathbf x)\n",
        "$$\n",
        "\n",
        "* If concave, this is isomorphic to the root-solving problem\n",
        "$$\n",
        "    \\nabla f(\\mathbf x) = 0\n",
        "$$\n",
        "\n",
        "*  The multivariate root-finding problem \n",
        "$$\n",
        "    g^i(\\mathbf x) = 0\n",
        "$$\n",
        "can be recast as\n",
        "$$\n",
        "    \\min_{\\mathbf x} \\sum_i g^i(\\mathbf x)^2\n",
        "$$"
      ]
    },
    {
      "cell_type": "markdown",
      "metadata": {
        "slideshow": {
          "slide_type": "subslide"
        }
      },
      "source": [
        "## Basic Concepts\n",
        "* All methods: *Search the space of feasible choices by generating a sequence of guesses that (hopefully) converges to a solution.*\n",
        "\n",
        "* Essentially two types:\n",
        "    * **Comparison Methods:** Compute objective at valious points, find the one which gives smallest value\n",
        "    * **Gradient Based Methods:**  Use information on the slope (and possibly hessian!)\n",
        "\n",
        "* All these methods will find **local** minima.  \n",
        "    * Not a problem if you minimization problem is convex\n",
        "\n",
        "* If not, need multiple initializations to be sure a global minimum is found\n",
        "    * Note: can do this after value function has converged if used in dynamic optimzation."
      ]
    },
    {
      "cell_type": "markdown",
      "metadata": {
        "slideshow": {
          "slide_type": "subslide"
        }
      },
      "source": [
        "## How to Choose an Algorithm\n",
        "\n",
        "* **Speed:**  Optimization is likely goiong to be in the innermost loop\n",
        "\n",
        "    * Want a fast algorithm: i.e. minimizes number of function evaluations\n",
        "\n",
        "    * Gradient Based methods generally involve fewer evaluations\n",
        "\n",
        "* **Robustness to Nonsmoothness:**  If you objective function is not smooth gradient based methods will have difficulty, can get stuck \n",
        "\n",
        "    * Comparison methods are generally better behaved\n",
        "\n",
        "* **Robustness to starting parameters:**  Gradient based are also more likely to find different local minima at different starting values\n",
        "\n",
        "    * Stochastic comparison methods (like simulated annealing) are more likely to find global minima"
      ]
    },
    {
      "cell_type": "markdown",
      "metadata": {
        "slideshow": {
          "slide_type": "subslide"
        }
      },
      "source": [
        "## Bracketing Method\n",
        "* Similar to Brent root search algorithm\n",
        "\n",
        "    * Most reliable method for one dimensional problems\n",
        "\n",
        "    * Guaranteed to find local minima for continuous functions\n",
        "\n",
        "* Initialization: Choose triple $(a,b,c)$ such that $a<b<c$ and  $f(a),f(c) >f(b)$\n",
        "\n",
        "    * Note this implies there must be a local minima in $[a,c]$\n",
        "\n",
        "* Choose $d\\in(a,b)$\n",
        "\n",
        "    * If $f(d) > f(b)$ then there is a minima in $[d,c]$ choose new triple $(d,b,c)$\n",
        "\n",
        "    * If $f(d) < f(b)$ then there is a minima in $[a,b]$ choose new triple $(a,d,b)$\n",
        "\n",
        "* Update the triple $(a,b,c)$ to the new one in previous step\n",
        "\n",
        "* Stop if $c-a <\\delta$\n",
        "\n",
        "* **Golden Search** provides optimal way to choose $b,d$"
      ]
    },
    {
      "cell_type": "markdown",
      "metadata": {
        "slideshow": {
          "slide_type": "subslide"
        }
      },
      "source": [
        "\n",
        "\n",
        "\n",
        "\n",
        "## Example function"
      ]
    },
    {
      "cell_type": "code",
      "execution_count": 2,
      "metadata": {},
      "outputs": [
        {
          "data": {
            "image/png": "[encoded data removed]",
            "image/svg+xml": [
              "<?xml version=\"1.0\" encoding=\"utf-8\"?>\n",
              "<svg xmlns=\"http://www.w3.org/2000/svg\" xmlns:xlink=\"http://www.w3.org/1999/xlink\" width=\"600\" height=\"400\" viewBox=\"0 0 2400 1600\">\n",
              "<defs>\n",
              "  <clipPath id=\"clip900\">\n",
              "    <rect x=\"0\" y=\"0\" width=\"2400\" height=\"1600\"/>\n",
              "  </clipPath>\n",
              "</defs>\n",
              "<path clip-path=\"url(#clip900)\" d=\"M0 1600 L2400 1600 L2400 8.88178e-14 L0 8.88178e-14  Z\" fill=\"#ffffff\" fill-rule=\"evenodd\" fill-opacity=\"1\"/>\n",
              "<defs>\n",
              "  <clipPath id=\"clip901\">\n",
              "    <rect x=\"480\" y=\"0\" width=\"1681\" height=\"1600\"/>\n",
              "  </clipPath>\n",
              "</defs>\n",
              "<path clip-path=\"url(#clip900)\" d=\"M253.909 1344.72 L2211.02 1344.72 L2211.02 188.976 L253.909 188.976  Z\" fill=\"#ffffff\" fill-rule=\"evenodd\" fill-opacity=\"1\"/>\n",
              "<defs>\n",
              "  <clipPath id=\"clip902\">\n",
              "    <rect x=\"253\" y=\"188\" width=\"1958\" height=\"1157\"/>\n",
              "  </clipPath>\n",
              "</defs>\n",
              "<polyline clip-path=\"url(#clip902)\" style=\"stroke:#000000; stroke-linecap:round; stroke-linejoin:round; stroke-width:2; stroke-opacity:0.1; fill:none\" points=\"309.299,1344.72 309.299,188.976 \"/>\n",
              "<polyline clip-path=\"url(#clip902)\" style=\"stroke:#000000; stroke-linecap:round; stroke-linejoin:round; stroke-width:2; stroke-opacity:0.1; fill:none\" points=\"924.744,1344.72 924.744,188.976 \"/>\n",
              "<polyline clip-path=\"url(#clip902)\" style=\"stroke:#000000; stroke-linecap:round; stroke-linejoin:round; stroke-width:2; stroke-opacity:0.1; fill:none\" points=\"1540.19,1344.72 1540.19,188.976 \"/>\n",
              "<polyline clip-path=\"url(#clip902)\" style=\"stroke:#000000; stroke-linecap:round; stroke-linejoin:round; stroke-width:2; stroke-opacity:0.1; fill:none\" points=\"2155.63,1344.72 2155.63,188.976 \"/>\n",
              "<polyline clip-path=\"url(#clip902)\" style=\"stroke:#000000; stroke-linecap:round; stroke-linejoin:round; stroke-width:2; stroke-opacity:0.1; fill:none\" points=\"253.909,1289.76 2211.02,1289.76 \"/>\n",
              "<polyline clip-path=\"url(#clip902)\" style=\"stroke:#000000; stroke-linecap:round; stroke-linejoin:round; stroke-width:2; stroke-opacity:0.1; fill:none\" points=\"253.909,1111.75 2211.02,1111.75 \"/>\n",
              "<polyline clip-path=\"url(#clip902)\" style=\"stroke:#000000; stroke-linecap:round; stroke-linejoin:round; stroke-width:2; stroke-opacity:0.1; fill:none\" points=\"253.909,933.734 2211.02,933.734 \"/>\n",
              "<polyline clip-path=\"url(#clip902)\" style=\"stroke:#000000; stroke-linecap:round; stroke-linejoin:round; stroke-width:2; stroke-opacity:0.1; fill:none\" points=\"253.909,755.722 2211.02,755.722 \"/>\n",
              "<polyline clip-path=\"url(#clip902)\" style=\"stroke:#000000; stroke-linecap:round; stroke-linejoin:round; stroke-width:2; stroke-opacity:0.1; fill:none\" points=\"253.909,577.71 2211.02,577.71 \"/>\n",
              "<polyline clip-path=\"url(#clip902)\" style=\"stroke:#000000; stroke-linecap:round; stroke-linejoin:round; stroke-width:2; stroke-opacity:0.1; fill:none\" points=\"253.909,399.698 2211.02,399.698 \"/>\n",
              "<polyline clip-path=\"url(#clip902)\" style=\"stroke:#000000; stroke-linecap:round; stroke-linejoin:round; stroke-width:2; stroke-opacity:0.1; fill:none\" points=\"253.909,221.686 2211.02,221.686 \"/>\n",
              "<polyline clip-path=\"url(#clip900)\" style=\"stroke:#000000; stroke-linecap:round; stroke-linejoin:round; stroke-width:4; stroke-opacity:1; fill:none\" points=\"253.909,1344.72 2211.02,1344.72 \"/>\n",
              "<polyline clip-path=\"url(#clip900)\" style=\"stroke:#000000; stroke-linecap:round; stroke-linejoin:round; stroke-width:4; stroke-opacity:1; fill:none\" points=\"309.299,1344.72 309.299,1325.82 \"/>\n",
              "<polyline clip-path=\"url(#clip900)\" style=\"stroke:#000000; stroke-linecap:round; stroke-linejoin:round; stroke-width:4; stroke-opacity:1; fill:none\" points=\"924.744,1344.72 924.744,1325.82 \"/>\n",
              "<polyline clip-path=\"url(#clip900)\" style=\"stroke:#000000; stroke-linecap:round; stroke-linejoin:round; stroke-width:4; stroke-opacity:1; fill:none\" points=\"1540.19,1344.72 1540.19,1325.82 \"/>\n",
              "<polyline clip-path=\"url(#clip900)\" style=\"stroke:#000000; stroke-linecap:round; stroke-linejoin:round; stroke-width:4; stroke-opacity:1; fill:none\" points=\"2155.63,1344.72 2155.63,1325.82 \"/>\n",
              "<path clip-path=\"url(#clip900)\" d=\"M279.242 1390.29 L308.918 1390.29 L308.918 1394.22 L279.242 1394.22 L279.242 1390.29 Z\" fill=\"#000000\" fill-rule=\"nonzero\" fill-opacity=\"1\" /><path clip-path=\"url(#clip900)\" d=\"M323.038 1403.18 L339.357 1403.18 L339.357 1407.12 L317.413 1407.12 L317.413 1403.18 Q320.075 1400.43 324.658 1395.8 Q329.265 1391.14 330.445 1389.8 Q332.691 1387.28 333.57 1385.54 Q334.473 1383.78 334.473 1382.09 Q334.473 1379.34 332.529 1377.6 Q330.607 1375.87 327.505 1375.87 Q325.306 1375.87 322.853 1376.63 Q320.422 1377.39 317.644 1378.94 L317.644 1374.22 Q320.468 1373.09 322.922 1372.51 Q325.376 1371.93 327.413 1371.93 Q332.783 1371.93 335.978 1374.62 Q339.172 1377.3 339.172 1381.79 Q339.172 1383.92 338.362 1385.84 Q337.575 1387.74 335.468 1390.33 Q334.89 1391 331.788 1394.22 Q328.686 1397.42 323.038 1403.18 Z\" fill=\"#000000\" fill-rule=\"nonzero\" fill-opacity=\"1\" /><path clip-path=\"url(#clip900)\" d=\"M894.501 1390.29 L924.177 1390.29 L924.177 1394.22 L894.501 1394.22 L894.501 1390.29 Z\" fill=\"#000000\" fill-rule=\"nonzero\" fill-opacity=\"1\" /><path clip-path=\"url(#clip900)\" d=\"M935.08 1403.18 L942.719 1403.18 L942.719 1376.81 L934.408 1378.48 L934.408 1374.22 L942.672 1372.56 L947.348 1372.56 L947.348 1403.18 L954.987 1403.18 L954.987 1407.12 L935.08 1407.12 L935.08 1403.18 Z\" fill=\"#000000\" fill-rule=\"nonzero\" fill-opacity=\"1\" /><path clip-path=\"url(#clip900)\" d=\"M1540.19 1375.63 Q1536.58 1375.63 1534.75 1379.2 Q1532.94 1382.74 1532.94 1389.87 Q1532.94 1396.98 1534.75 1400.54 Q1536.58 1404.08 1540.19 1404.08 Q1543.82 1404.08 1545.63 1400.54 Q1547.46 1396.98 1547.46 1389.87 Q1547.46 1382.74 1545.63 1379.2 Q1543.82 1375.63 1540.19 1375.63 M1540.19 1371.93 Q1546 1371.93 1549.05 1376.54 Q1552.13 1381.12 1552.13 1389.87 Q1552.13 1398.6 1549.05 1403.2 Q1546 1407.79 1540.19 1407.79 Q1534.38 1407.79 1531.3 1403.2 Q1528.24 1398.6 1528.24 1389.87 Q1528.24 1381.12 1531.3 1376.54 Q1534.38 1371.93 1540.19 1371.93 Z\" fill=\"#000000\" fill-rule=\"nonzero\" fill-opacity=\"1\" /><path clip-path=\"url(#clip900)\" d=\"M2146.02 1403.18 L2153.65 1403.18 L2153.65 1376.81 L2145.34 1378.48 L2145.34 1374.22 L2153.61 1372.56 L2158.28 1372.56 L2158.28 1403.18 L2165.92 1403.18 L2165.92 1407.12 L2146.02 1407.12 L2146.02 1403.18 Z\" fill=\"#000000\" fill-rule=\"nonzero\" fill-opacity=\"1\" /><polyline clip-path=\"url(#clip900)\" style=\"stroke:#000000; stroke-linecap:round; stroke-linejoin:round; stroke-width:4; stroke-opacity:1; fill:none\" points=\"253.909,1344.72 253.909,188.976 \"/>\n",
              "<polyline clip-path=\"url(#clip900)\" style=\"stroke:#000000; stroke-linecap:round; stroke-linejoin:round; stroke-width:4; stroke-opacity:1; fill:none\" points=\"253.909,1289.76 272.807,1289.76 \"/>\n",
              "<polyline clip-path=\"url(#clip900)\" style=\"stroke:#000000; stroke-linecap:round; stroke-linejoin:round; stroke-width:4; stroke-opacity:1; fill:none\" points=\"253.909,1111.75 272.807,1111.75 \"/>\n",
              "<polyline clip-path=\"url(#clip900)\" style=\"stroke:#000000; stroke-linecap:round; stroke-linejoin:round; stroke-width:4; stroke-opacity:1; fill:none\" points=\"253.909,933.734 272.807,933.734 \"/>\n",
              "<polyline clip-path=\"url(#clip900)\" style=\"stroke:#000000; stroke-linecap:round; stroke-linejoin:round; stroke-width:4; stroke-opacity:1; fill:none\" points=\"253.909,755.722 272.807,755.722 \"/>\n",
              "<polyline clip-path=\"url(#clip900)\" style=\"stroke:#000000; stroke-linecap:round; stroke-linejoin:round; stroke-width:4; stroke-opacity:1; fill:none\" points=\"253.909,577.71 272.807,577.71 \"/>\n",
              "<polyline clip-path=\"url(#clip900)\" style=\"stroke:#000000; stroke-linecap:round; stroke-linejoin:round; stroke-width:4; stroke-opacity:1; fill:none\" points=\"253.909,399.698 272.807,399.698 \"/>\n",
              "<polyline clip-path=\"url(#clip900)\" style=\"stroke:#000000; stroke-linecap:round; stroke-linejoin:round; stroke-width:4; stroke-opacity:1; fill:none\" points=\"253.909,221.686 272.807,221.686 \"/>\n",
              "<path clip-path=\"url(#clip900)\" d=\"M205.965 1275.56 Q202.354 1275.56 200.525 1279.12 Q198.72 1282.66 198.72 1289.79 Q198.72 1296.9 200.525 1300.46 Q202.354 1304.01 205.965 1304.01 Q209.599 1304.01 211.405 1300.46 Q213.234 1296.9 213.234 1289.79 Q213.234 1282.66 211.405 1279.12 Q209.599 1275.56 205.965 1275.56 M205.965 1271.85 Q211.775 1271.85 214.831 1276.46 Q217.909 1281.04 217.909 1289.79 Q217.909 1298.52 214.831 1303.13 Q211.775 1307.71 205.965 1307.71 Q200.155 1307.71 197.076 1303.13 Q194.021 1298.52 194.021 1289.79 Q194.021 1281.04 197.076 1276.46 Q200.155 1271.85 205.965 1271.85 Z\" fill=\"#000000\" fill-rule=\"nonzero\" fill-opacity=\"1\" /><path clip-path=\"url(#clip900)\" d=\"M198.002 1125.09 L205.641 1125.09 L205.641 1098.73 L197.331 1100.39 L197.331 1096.13 L205.595 1094.47 L210.271 1094.47 L210.271 1125.09 L217.909 1125.09 L217.909 1129.03 L198.002 1129.03 L198.002 1125.09 Z\" fill=\"#000000\" fill-rule=\"nonzero\" fill-opacity=\"1\" /><path clip-path=\"url(#clip900)\" d=\"M201.59 947.079 L217.909 947.079 L217.909 951.014 L195.965 951.014 L195.965 947.079 Q198.627 944.325 203.21 939.695 Q207.817 935.042 208.997 933.7 Q211.243 931.177 212.122 929.44 Q213.025 927.681 213.025 925.991 Q213.025 923.237 211.081 921.501 Q209.16 919.765 206.058 919.765 Q203.859 919.765 201.405 920.528 Q198.974 921.292 196.197 922.843 L196.197 918.121 Q199.021 916.987 201.474 916.408 Q203.928 915.829 205.965 915.829 Q211.335 915.829 214.53 918.515 Q217.724 921.2 217.724 925.69 Q217.724 927.82 216.914 929.741 Q216.127 931.64 214.021 934.232 Q213.442 934.903 210.34 938.121 Q207.238 941.315 201.59 947.079 Z\" fill=\"#000000\" fill-rule=\"nonzero\" fill-opacity=\"1\" /><path clip-path=\"url(#clip900)\" d=\"M210.78 754.368 Q214.136 755.086 216.011 757.354 Q217.909 759.623 217.909 762.956 Q217.909 768.072 214.391 770.873 Q210.872 773.674 204.391 773.674 Q202.215 773.674 199.9 773.234 Q197.609 772.817 195.155 771.961 L195.155 767.447 Q197.099 768.581 199.414 769.16 Q201.729 769.738 204.252 769.738 Q208.65 769.738 210.942 768.002 Q213.257 766.266 213.257 762.956 Q213.257 759.901 211.104 758.188 Q208.974 756.451 205.155 756.451 L201.127 756.451 L201.127 752.609 L205.34 752.609 Q208.789 752.609 210.618 751.243 Q212.447 749.854 212.447 747.262 Q212.447 744.6 210.548 743.188 Q208.673 741.752 205.155 741.752 Q203.234 741.752 201.035 742.169 Q198.835 742.586 196.197 743.465 L196.197 739.299 Q198.859 738.558 201.173 738.188 Q203.511 737.817 205.572 737.817 Q210.896 737.817 213.997 740.248 Q217.099 742.655 217.099 746.776 Q217.099 749.646 215.456 751.637 Q213.812 753.604 210.78 754.368 Z\" fill=\"#000000\" fill-rule=\"nonzero\" fill-opacity=\"1\" /><path clip-path=\"url(#clip900)\" d=\"M208.326 564.504 L196.521 582.953 L208.326 582.953 L208.326 564.504 M207.099 560.43 L212.979 560.43 L212.979 582.953 L217.909 582.953 L217.909 586.842 L212.979 586.842 L212.979 594.99 L208.326 594.99 L208.326 586.842 L192.724 586.842 L192.724 582.328 L207.099 560.43 Z\" fill=\"#000000\" fill-rule=\"nonzero\" fill-opacity=\"1\" /><path clip-path=\"url(#clip900)\" d=\"M197.007 382.418 L215.363 382.418 L215.363 386.353 L201.289 386.353 L201.289 394.825 Q202.308 394.478 203.326 394.316 Q204.345 394.131 205.363 394.131 Q211.15 394.131 214.53 397.302 Q217.909 400.474 217.909 405.89 Q217.909 411.469 214.437 414.571 Q210.965 417.649 204.646 417.649 Q202.47 417.649 200.201 417.279 Q197.956 416.909 195.548 416.168 L195.548 411.469 Q197.632 412.603 199.854 413.159 Q202.076 413.714 204.553 413.714 Q208.558 413.714 210.896 411.608 Q213.234 409.501 213.234 405.89 Q213.234 402.279 210.896 400.173 Q208.558 398.066 204.553 398.066 Q202.678 398.066 200.803 398.483 Q198.951 398.899 197.007 399.779 L197.007 382.418 Z\" fill=\"#000000\" fill-rule=\"nonzero\" fill-opacity=\"1\" /><path clip-path=\"url(#clip900)\" d=\"M206.382 219.823 Q203.234 219.823 201.382 221.975 Q199.553 224.128 199.553 227.878 Q199.553 231.605 201.382 233.781 Q203.234 235.934 206.382 235.934 Q209.53 235.934 211.359 233.781 Q213.21 231.605 213.21 227.878 Q213.21 224.128 211.359 221.975 Q209.53 219.823 206.382 219.823 M215.664 205.17 L215.664 209.429 Q213.905 208.596 212.099 208.156 Q210.317 207.716 208.558 207.716 Q203.928 207.716 201.474 210.841 Q199.044 213.966 198.697 220.286 Q200.062 218.272 202.123 217.207 Q204.183 216.119 206.66 216.119 Q211.868 216.119 214.877 219.29 Q217.909 222.438 217.909 227.878 Q217.909 233.202 214.761 236.42 Q211.613 239.637 206.382 239.637 Q200.386 239.637 197.215 235.054 Q194.044 230.448 194.044 221.721 Q194.044 213.526 197.933 208.665 Q201.822 203.781 208.372 203.781 Q210.132 203.781 211.914 204.128 Q213.72 204.475 215.664 205.17 Z\" fill=\"#000000\" fill-rule=\"nonzero\" fill-opacity=\"1\" /><polyline clip-path=\"url(#clip902)\" style=\"stroke:#009af9; stroke-linecap:round; stroke-linejoin:round; stroke-width:8; stroke-opacity:1; fill:none\" points=\"309.299,755.722 318.83,769.42 328.36,782.947 356.27,821.578 384.18,858.744 412.089,894.447 439.999,928.685 465.966,959.224 491.933,988.497 526.739,1025.74 561.545,1060.71 590.305,1087.89 619.065,1113.52 645.809,1135.95 672.553,1157.03 706.126,1181.6 739.699,1204.05 769.815,1222.38 799.93,1239.01 834.401,1255.96 868.872,1270.66 894.639,1280.2 920.406,1288.49 953.362,1297.27 986.319,1304 1016.4,1308.37 1046.48,1311.04 1080.71,1312.01 1114.95,1310.77 1142.08,1308.22 1169.22,1304.29 1202.94,1297.48 1236.65,1288.53 1262.48,1280.23 1288.3,1270.68 1324.7,1255.08 1361.1,1237 1388.31,1221.86 1415.51,1205.32 1446.45,1184.83 1477.38,1162.54 1508.02,1138.69 1538.66,1113.07 1572.37,1082.85 1606.08,1050.49 1631.82,1024.34 1657.57,996.942 1690.06,960.588 1722.55,922.249 1752.6,885.023 1782.65,846.1 1813.64,804.18 1844.63,760.454 1876.05,714.289 1907.46,666.27 1940.26,614.149 1973.06,560.006 1998.9,515.93 2024.74,470.599 2054.16,417.455 2083.59,362.683 2113.01,306.283 2142.43,248.257 2145.73,241.645 2149.03,235.012 2152.33,228.359 2155.63,221.686 \"/>\n",
              "</svg>\n"
            ],
            "text/html": [
              "<?xml version=\"1.0\" encoding=\"utf-8\"?>\n",
              "<svg xmlns=\"http://www.w3.org/2000/svg\" xmlns:xlink=\"http://www.w3.org/1999/xlink\" width=\"600\" height=\"400\" viewBox=\"0 0 2400 1600\">\n",
              "<defs>\n",
              "  <clipPath id=\"clip950\">\n",
              "    <rect x=\"0\" y=\"0\" width=\"2400\" height=\"1600\"/>\n",
              "  </clipPath>\n",
              "</defs>\n",
              "<path clip-path=\"url(#clip950)\" d=\"M0 1600 L2400 1600 L2400 8.88178e-14 L0 8.88178e-14  Z\" fill=\"#ffffff\" fill-rule=\"evenodd\" fill-opacity=\"1\"/>\n",
              "<defs>\n",
              "  <clipPath id=\"clip951\">\n",
              "    <rect x=\"480\" y=\"0\" width=\"1681\" height=\"1600\"/>\n",
              "  </clipPath>\n",
              "</defs>\n",
              "<path clip-path=\"url(#clip950)\" d=\"M253.909 1344.72 L2211.02 1344.72 L2211.02 188.976 L253.909 188.976  Z\" fill=\"#ffffff\" fill-rule=\"evenodd\" fill-opacity=\"1\"/>\n",
              "<defs>\n",
              "  <clipPath id=\"clip952\">\n",
              "    <rect x=\"253\" y=\"188\" width=\"1958\" height=\"1157\"/>\n",
              "  </clipPath>\n",
              "</defs>\n",
              "<polyline clip-path=\"url(#clip952)\" style=\"stroke:#000000; stroke-linecap:round; stroke-linejoin:round; stroke-width:2; stroke-opacity:0.1; fill:none\" points=\"309.299,1344.72 309.299,188.976 \"/>\n",
              "<polyline clip-path=\"url(#clip952)\" style=\"stroke:#000000; stroke-linecap:round; stroke-linejoin:round; stroke-width:2; stroke-opacity:0.1; fill:none\" points=\"924.744,1344.72 924.744,188.976 \"/>\n",
              "<polyline clip-path=\"url(#clip952)\" style=\"stroke:#000000; stroke-linecap:round; stroke-linejoin:round; stroke-width:2; stroke-opacity:0.1; fill:none\" points=\"1540.19,1344.72 1540.19,188.976 \"/>\n",
              "<polyline clip-path=\"url(#clip952)\" style=\"stroke:#000000; stroke-linecap:round; stroke-linejoin:round; stroke-width:2; stroke-opacity:0.1; fill:none\" points=\"2155.63,1344.72 2155.63,188.976 \"/>\n",
              "<polyline clip-path=\"url(#clip952)\" style=\"stroke:#000000; stroke-linecap:round; stroke-linejoin:round; stroke-width:2; stroke-opacity:0.1; fill:none\" points=\"253.909,1289.76 2211.02,1289.76 \"/>\n",
              "<polyline clip-path=\"url(#clip952)\" style=\"stroke:#000000; stroke-linecap:round; stroke-linejoin:round; stroke-width:2; stroke-opacity:0.1; fill:none\" points=\"253.909,1111.75 2211.02,1111.75 \"/>\n",
              "<polyline clip-path=\"url(#clip952)\" style=\"stroke:#000000; stroke-linecap:round; stroke-linejoin:round; stroke-width:2; stroke-opacity:0.1; fill:none\" points=\"253.909,933.734 2211.02,933.734 \"/>\n",
              "<polyline clip-path=\"url(#clip952)\" style=\"stroke:#000000; stroke-linecap:round; stroke-linejoin:round; stroke-width:2; stroke-opacity:0.1; fill:none\" points=\"253.909,755.722 2211.02,755.722 \"/>\n",
              "<polyline clip-path=\"url(#clip952)\" style=\"stroke:#000000; stroke-linecap:round; stroke-linejoin:round; stroke-width:2; stroke-opacity:0.1; fill:none\" points=\"253.909,577.71 2211.02,577.71 \"/>\n",
              "<polyline clip-path=\"url(#clip952)\" style=\"stroke:#000000; stroke-linecap:round; stroke-linejoin:round; stroke-width:2; stroke-opacity:0.1; fill:none\" points=\"253.909,399.698 2211.02,399.698 \"/>\n",
              "<polyline clip-path=\"url(#clip952)\" style=\"stroke:#000000; stroke-linecap:round; stroke-linejoin:round; stroke-width:2; stroke-opacity:0.1; fill:none\" points=\"253.909,221.686 2211.02,221.686 \"/>\n",
              "<polyline clip-path=\"url(#clip950)\" style=\"stroke:#000000; stroke-linecap:round; stroke-linejoin:round; stroke-width:4; stroke-opacity:1; fill:none\" points=\"253.909,1344.72 2211.02,1344.72 \"/>\n",
              "<polyline clip-path=\"url(#clip950)\" style=\"stroke:#000000; stroke-linecap:round; stroke-linejoin:round; stroke-width:4; stroke-opacity:1; fill:none\" points=\"309.299,1344.72 309.299,1325.82 \"/>\n",
              "<polyline clip-path=\"url(#clip950)\" style=\"stroke:#000000; stroke-linecap:round; stroke-linejoin:round; stroke-width:4; stroke-opacity:1; fill:none\" points=\"924.744,1344.72 924.744,1325.82 \"/>\n",
              "<polyline clip-path=\"url(#clip950)\" style=\"stroke:#000000; stroke-linecap:round; stroke-linejoin:round; stroke-width:4; stroke-opacity:1; fill:none\" points=\"1540.19,1344.72 1540.19,1325.82 \"/>\n",
              "<polyline clip-path=\"url(#clip950)\" style=\"stroke:#000000; stroke-linecap:round; stroke-linejoin:round; stroke-width:4; stroke-opacity:1; fill:none\" points=\"2155.63,1344.72 2155.63,1325.82 \"/>\n",
              "<path clip-path=\"url(#clip950)\" d=\"M279.242 1390.29 L308.918 1390.29 L308.918 1394.22 L279.242 1394.22 L279.242 1390.29 Z\" fill=\"#000000\" fill-rule=\"nonzero\" fill-opacity=\"1\" /><path clip-path=\"url(#clip950)\" d=\"M323.038 1403.18 L339.357 1403.18 L339.357 1407.12 L317.413 1407.12 L317.413 1403.18 Q320.075 1400.43 324.658 1395.8 Q329.265 1391.14 330.445 1389.8 Q332.691 1387.28 333.57 1385.54 Q334.473 1383.78 334.473 1382.09 Q334.473 1379.34 332.529 1377.6 Q330.607 1375.87 327.505 1375.87 Q325.306 1375.87 322.853 1376.63 Q320.422 1377.39 317.644 1378.94 L317.644 1374.22 Q320.468 1373.09 322.922 1372.51 Q325.376 1371.93 327.413 1371.93 Q332.783 1371.93 335.978 1374.62 Q339.172 1377.3 339.172 1381.79 Q339.172 1383.92 338.362 1385.84 Q337.575 1387.74 335.468 1390.33 Q334.89 1391 331.788 1394.22 Q328.686 1397.42 323.038 1403.18 Z\" fill=\"#000000\" fill-rule=\"nonzero\" fill-opacity=\"1\" /><path clip-path=\"url(#clip950)\" d=\"M894.501 1390.29 L924.177 1390.29 L924.177 1394.22 L894.501 1394.22 L894.501 1390.29 Z\" fill=\"#000000\" fill-rule=\"nonzero\" fill-opacity=\"1\" /><path clip-path=\"url(#clip950)\" d=\"M935.08 1403.18 L942.719 1403.18 L942.719 1376.81 L934.408 1378.48 L934.408 1374.22 L942.672 1372.56 L947.348 1372.56 L947.348 1403.18 L954.987 1403.18 L954.987 1407.12 L935.08 1407.12 L935.08 1403.18 Z\" fill=\"#000000\" fill-rule=\"nonzero\" fill-opacity=\"1\" /><path clip-path=\"url(#clip950)\" d=\"M1540.19 1375.63 Q1536.58 1375.63 1534.75 1379.2 Q1532.94 1382.74 1532.94 1389.87 Q1532.94 1396.98 1534.75 1400.54 Q1536.58 1404.08 1540.19 1404.08 Q1543.82 1404.08 1545.63 1400.54 Q1547.46 1396.98 1547.46 1389.87 Q1547.46 1382.74 1545.63 1379.2 Q1543.82 1375.63 1540.19 1375.63 M1540.19 1371.93 Q1546 1371.93 1549.05 1376.54 Q1552.13 1381.12 1552.13 1389.87 Q1552.13 1398.6 1549.05 1403.2 Q1546 1407.79 1540.19 1407.79 Q1534.38 1407.79 1531.3 1403.2 Q1528.24 1398.6 1528.24 1389.87 Q1528.24 1381.12 1531.3 1376.54 Q1534.38 1371.93 1540.19 1371.93 Z\" fill=\"#000000\" fill-rule=\"nonzero\" fill-opacity=\"1\" /><path clip-path=\"url(#clip950)\" d=\"M2146.02 1403.18 L2153.65 1403.18 L2153.65 1376.81 L2145.34 1378.48 L2145.34 1374.22 L2153.61 1372.56 L2158.28 1372.56 L2158.28 1403.18 L2165.92 1403.18 L2165.92 1407.12 L2146.02 1407.12 L2146.02 1403.18 Z\" fill=\"#000000\" fill-rule=\"nonzero\" fill-opacity=\"1\" /><polyline clip-path=\"url(#clip950)\" style=\"stroke:#000000; stroke-linecap:round; stroke-linejoin:round; stroke-width:4; stroke-opacity:1; fill:none\" points=\"253.909,1344.72 253.909,188.976 \"/>\n",
              "<polyline clip-path=\"url(#clip950)\" style=\"stroke:#000000; stroke-linecap:round; stroke-linejoin:round; stroke-width:4; stroke-opacity:1; fill:none\" points=\"253.909,1289.76 272.807,1289.76 \"/>\n",
              "<polyline clip-path=\"url(#clip950)\" style=\"stroke:#000000; stroke-linecap:round; stroke-linejoin:round; stroke-width:4; stroke-opacity:1; fill:none\" points=\"253.909,1111.75 272.807,1111.75 \"/>\n",
              "<polyline clip-path=\"url(#clip950)\" style=\"stroke:#000000; stroke-linecap:round; stroke-linejoin:round; stroke-width:4; stroke-opacity:1; fill:none\" points=\"253.909,933.734 272.807,933.734 \"/>\n",
              "<polyline clip-path=\"url(#clip950)\" style=\"stroke:#000000; stroke-linecap:round; stroke-linejoin:round; stroke-width:4; stroke-opacity:1; fill:none\" points=\"253.909,755.722 272.807,755.722 \"/>\n",
              "<polyline clip-path=\"url(#clip950)\" style=\"stroke:#000000; stroke-linecap:round; stroke-linejoin:round; stroke-width:4; stroke-opacity:1; fill:none\" points=\"253.909,577.71 272.807,577.71 \"/>\n",
              "<polyline clip-path=\"url(#clip950)\" style=\"stroke:#000000; stroke-linecap:round; stroke-linejoin:round; stroke-width:4; stroke-opacity:1; fill:none\" points=\"253.909,399.698 272.807,399.698 \"/>\n",
              "<polyline clip-path=\"url(#clip950)\" style=\"stroke:#000000; stroke-linecap:round; stroke-linejoin:round; stroke-width:4; stroke-opacity:1; fill:none\" points=\"253.909,221.686 272.807,221.686 \"/>\n",
              "<path clip-path=\"url(#clip950)\" d=\"M205.965 1275.56 Q202.354 1275.56 200.525 1279.12 Q198.72 1282.66 198.72 1289.79 Q198.72 1296.9 200.525 1300.46 Q202.354 1304.01 205.965 1304.01 Q209.599 1304.01 211.405 1300.46 Q213.234 1296.9 213.234 1289.79 Q213.234 1282.66 211.405 1279.12 Q209.599 1275.56 205.965 1275.56 M205.965 1271.85 Q211.775 1271.85 214.831 1276.46 Q217.909 1281.04 217.909 1289.79 Q217.909 1298.52 214.831 1303.13 Q211.775 1307.71 205.965 1307.71 Q200.155 1307.71 197.076 1303.13 Q194.021 1298.52 194.021 1289.79 Q194.021 1281.04 197.076 1276.46 Q200.155 1271.85 205.965 1271.85 Z\" fill=\"#000000\" fill-rule=\"nonzero\" fill-opacity=\"1\" /><path clip-path=\"url(#clip950)\" d=\"M198.002 1125.09 L205.641 1125.09 L205.641 1098.73 L197.331 1100.39 L197.331 1096.13 L205.595 1094.47 L210.271 1094.47 L210.271 1125.09 L217.909 1125.09 L217.909 1129.03 L198.002 1129.03 L198.002 1125.09 Z\" fill=\"#000000\" fill-rule=\"nonzero\" fill-opacity=\"1\" /><path clip-path=\"url(#clip950)\" d=\"M201.59 947.079 L217.909 947.079 L217.909 951.014 L195.965 951.014 L195.965 947.079 Q198.627 944.325 203.21 939.695 Q207.817 935.042 208.997 933.7 Q211.243 931.177 212.122 929.44 Q213.025 927.681 213.025 925.991 Q213.025 923.237 211.081 921.501 Q209.16 919.765 206.058 919.765 Q203.859 919.765 201.405 920.528 Q198.974 921.292 196.197 922.843 L196.197 918.121 Q199.021 916.987 201.474 916.408 Q203.928 915.829 205.965 915.829 Q211.335 915.829 214.53 918.515 Q217.724 921.2 217.724 925.69 Q217.724 927.82 216.914 929.741 Q216.127 931.64 214.021 934.232 Q213.442 934.903 210.34 938.121 Q207.238 941.315 201.59 947.079 Z\" fill=\"#000000\" fill-rule=\"nonzero\" fill-opacity=\"1\" /><path clip-path=\"url(#clip950)\" d=\"M210.78 754.368 Q214.136 755.086 216.011 757.354 Q217.909 759.623 217.909 762.956 Q217.909 768.072 214.391 770.873 Q210.872 773.674 204.391 773.674 Q202.215 773.674 199.9 773.234 Q197.609 772.817 195.155 771.961 L195.155 767.447 Q197.099 768.581 199.414 769.16 Q201.729 769.738 204.252 769.738 Q208.65 769.738 210.942 768.002 Q213.257 766.266 213.257 762.956 Q213.257 759.901 211.104 758.188 Q208.974 756.451 205.155 756.451 L201.127 756.451 L201.127 752.609 L205.34 752.609 Q208.789 752.609 210.618 751.243 Q212.447 749.854 212.447 747.262 Q212.447 744.6 210.548 743.188 Q208.673 741.752 205.155 741.752 Q203.234 741.752 201.035 742.169 Q198.835 742.586 196.197 743.465 L196.197 739.299 Q198.859 738.558 201.173 738.188 Q203.511 737.817 205.572 737.817 Q210.896 737.817 213.997 740.248 Q217.099 742.655 217.099 746.776 Q217.099 749.646 215.456 751.637 Q213.812 753.604 210.78 754.368 Z\" fill=\"#000000\" fill-rule=\"nonzero\" fill-opacity=\"1\" /><path clip-path=\"url(#clip950)\" d=\"M208.326 564.504 L196.521 582.953 L208.326 582.953 L208.326 564.504 M207.099 560.43 L212.979 560.43 L212.979 582.953 L217.909 582.953 L217.909 586.842 L212.979 586.842 L212.979 594.99 L208.326 594.99 L208.326 586.842 L192.724 586.842 L192.724 582.328 L207.099 560.43 Z\" fill=\"#000000\" fill-rule=\"nonzero\" fill-opacity=\"1\" /><path clip-path=\"url(#clip950)\" d=\"M197.007 382.418 L215.363 382.418 L215.363 386.353 L201.289 386.353 L201.289 394.825 Q202.308 394.478 203.326 394.316 Q204.345 394.131 205.363 394.131 Q211.15 394.131 214.53 397.302 Q217.909 400.474 217.909 405.89 Q217.909 411.469 214.437 414.571 Q210.965 417.649 204.646 417.649 Q202.47 417.649 200.201 417.279 Q197.956 416.909 195.548 416.168 L195.548 411.469 Q197.632 412.603 199.854 413.159 Q202.076 413.714 204.553 413.714 Q208.558 413.714 210.896 411.608 Q213.234 409.501 213.234 405.89 Q213.234 402.279 210.896 400.173 Q208.558 398.066 204.553 398.066 Q202.678 398.066 200.803 398.483 Q198.951 398.899 197.007 399.779 L197.007 382.418 Z\" fill=\"#000000\" fill-rule=\"nonzero\" fill-opacity=\"1\" /><path clip-path=\"url(#clip950)\" d=\"M206.382 219.823 Q203.234 219.823 201.382 221.975 Q199.553 224.128 199.553 227.878 Q199.553 231.605 201.382 233.781 Q203.234 235.934 206.382 235.934 Q209.53 235.934 211.359 233.781 Q213.21 231.605 213.21 227.878 Q213.21 224.128 211.359 221.975 Q209.53 219.823 206.382 219.823 M215.664 205.17 L215.664 209.429 Q213.905 208.596 212.099 208.156 Q210.317 207.716 208.558 207.716 Q203.928 207.716 201.474 210.841 Q199.044 213.966 198.697 220.286 Q200.062 218.272 202.123 217.207 Q204.183 216.119 206.66 216.119 Q211.868 216.119 214.877 219.29 Q217.909 222.438 217.909 227.878 Q217.909 233.202 214.761 236.42 Q211.613 239.637 206.382 239.637 Q200.386 239.637 197.215 235.054 Q194.044 230.448 194.044 221.721 Q194.044 213.526 197.933 208.665 Q201.822 203.781 208.372 203.781 Q210.132 203.781 211.914 204.128 Q213.72 204.475 215.664 205.17 Z\" fill=\"#000000\" fill-rule=\"nonzero\" fill-opacity=\"1\" /><polyline clip-path=\"url(#clip952)\" style=\"stroke:#009af9; stroke-linecap:round; stroke-linejoin:round; stroke-width:8; stroke-opacity:1; fill:none\" points=\"309.299,755.722 318.83,769.42 328.36,782.947 356.27,821.578 384.18,858.744 412.089,894.447 439.999,928.685 465.966,959.224 491.933,988.497 526.739,1025.74 561.545,1060.71 590.305,1087.89 619.065,1113.52 645.809,1135.95 672.553,1157.03 706.126,1181.6 739.699,1204.05 769.815,1222.38 799.93,1239.01 834.401,1255.96 868.872,1270.66 894.639,1280.2 920.406,1288.49 953.362,1297.27 986.319,1304 1016.4,1308.37 1046.48,1311.04 1080.71,1312.01 1114.95,1310.77 1142.08,1308.22 1169.22,1304.29 1202.94,1297.48 1236.65,1288.53 1262.48,1280.23 1288.3,1270.68 1324.7,1255.08 1361.1,1237 1388.31,1221.86 1415.51,1205.32 1446.45,1184.83 1477.38,1162.54 1508.02,1138.69 1538.66,1113.07 1572.37,1082.85 1606.08,1050.49 1631.82,1024.34 1657.57,996.942 1690.06,960.588 1722.55,922.249 1752.6,885.023 1782.65,846.1 1813.64,804.18 1844.63,760.454 1876.05,714.289 1907.46,666.27 1940.26,614.149 1973.06,560.006 1998.9,515.93 2024.74,470.599 2054.16,417.455 2083.59,362.683 2113.01,306.283 2142.43,248.257 2145.73,241.645 2149.03,235.012 2152.33,228.359 2155.63,221.686 \"/>\n",
              "</svg>\n"
            ]
          },
          "metadata": {},
          "output_type": "display_data"
        }
      ],
      "source": [
        "using Optim #Our optimization libarary\n",
        "f_univ(x) = 2x^2+3x+1\n",
        "plot(f_univ,-2.,1)"
      ]
    },
    {
      "cell_type": "markdown",
      "metadata": {
        "slideshow": {
          "slide_type": "subslide"
        }
      },
      "source": [
        "## Using Optim Univariate"
      ]
    },
    {
      "cell_type": "code",
      "execution_count": 3,
      "metadata": {},
      "outputs": [
        {
          "data": {
            "text/plain": [
              "-0.749999994377939"
            ]
          },
          "metadata": {},
          "output_type": "display_data"
        }
      ],
      "source": [
        "#Finds global minimum\n",
        "res = optimize(f_univ,-2.0,1.0,GoldenSection())\n",
        "Optim.minimizer(res)"
      ]
    },
    {
      "cell_type": "code",
      "execution_count": 4,
      "metadata": {},
      "outputs": [
        {
          "data": {
            "text/plain": [
              "-0.49999998939347085"
            ]
          },
          "metadata": {},
          "output_type": "display_data"
        }
      ],
      "source": [
        "#Lower bound binds\n",
        "res = optimize(f_univ,-0.5,1.0,GoldenSection())\n",
        "Optim.minimizer(res)"
      ]
    },
    {
      "cell_type": "markdown",
      "metadata": {
        "slideshow": {
          "slide_type": "subslide"
        }
      },
      "source": [
        "## Brent's Method\n",
        "\n",
        "* An alternative to choosing $d$ through golden search\n",
        "\n",
        "* Construct a quadratic polynomial that fits values for points $(a,b,c)$\n",
        "\n",
        "* Let $d$ be the point that minimizes that polynomial\n",
        "\n",
        "    * Use criteria from above to choose new tuple $(d,b,c)$ or $(a,d,c)$\n",
        "\n",
        "* Can lead to significantly faster convergence"
      ]
    },
    {
      "cell_type": "code",
      "execution_count": 5,
      "metadata": {},
      "outputs": [
        {
          "name": "stdout",
          "output_type": "stream",
          "text": [
            "  0.000001 seconds (2 allocations: 144 bytes)\n"
          ]
        }
      ],
      "source": [
        "optimize(f_univ,-2.0,1.0,Brent()) #run once to precompile\n",
        "@time res = optimize(f_univ,-2.0,1.0,Brent());"
      ]
    },
    {
      "cell_type": "code",
      "execution_count": 6,
      "metadata": {},
      "outputs": [
        {
          "name": "stdout",
          "output_type": "stream",
          "text": [
            "  0.000002 seconds (2 allocations: 144 bytes)\n"
          ]
        }
      ],
      "source": [
        "@time res = optimize(f_univ,-2.0,1.0,GoldenSection());"
      ]
    },
    {
      "cell_type": "markdown",
      "metadata": {
        "slideshow": {
          "slide_type": "slide"
        }
      },
      "source": [
        "# Multivariate Optimization\n"
      ]
    },
    {
      "cell_type": "markdown",
      "metadata": {
        "slideshow": {
          "slide_type": "subslide"
        }
      },
      "source": [
        "## Simplex Methods\n",
        "* This provides a algorithm to extend derivative free methods to $n$ dimensions\n",
        "* Start with $n+1$ points $\\mathbf x_1,\\mathbf x_2,\\ldots,\\mathbf x_{n+1}$\n",
        "    * Ordered such that $f(\\mathbf x_1)\\leq f(\\mathbf x_2)\\leq\\ldots\\leq f(\\mathbf x_{n+1})$\n",
        "* Perform the following operations: Reflection, Expansion, Contraction and Shrinkage\n",
        "\n",
        "1. Order points of simplex by $f$ and calculate centroid $\\mathbf x_0$ of all points but $\\mathbf x_{n+1}$\n",
        "2. **Reflection:** Compute the reflected point $\\mathbf x_r = \\mathbf x_0 + \\alpha (\\mathbf x_0 -\\mathbf x_{n+1})$\n",
        "    * If $f(\\mathbf x_1)\\leq f(\\mathbf x_r)<f (\\mathbf x_n)$: return to 1. with $\\mathbf x_{n+1} = \\mathbf x_r$\n",
        "3. **Expansion:** If $f(\\mathbf x_r)<f(\\mathbf x_1)$ construct $\\mathbf x_e = \\mathbf x_0 + \\gamma (\\mathbf x_r -\\mathbf x_0)$\n",
        "    * If $f(\\mathbf x_r)\\leq f(\\mathbf x_e))$: return to 1. with $\\mathbf x_{n+1} = \\mathbf x_r$\n",
        "    * If $f(\\mathbf x_e)\\leq f(\\mathbf x_r))$: return to 1. with $\\mathbf x_{n+1} = \\mathbf x_e$\n",
        "4. **Contracation:** Now $f(\\mathbf x_r)\\geq f(\\mathbf x_n)$, construct $\\mathbf x_c = \\mathbf x_0 + \\rho(\\mathbf x_{n+1}-\\mathbf x_0)$\n",
        "    * If $f(\\mathbf x_c) < f(\\mathbf x_{n+1})$ return to 1. with $\\mathbf x_{n+1} = \\mathbf x_c$\n",
        "5. **Shrink:** for $i\\geq 2$ replace $\\mathbf x_i = \\mathbf x_1 + \\sigma (\\mathbf x_i - \\mathbf x_1)$ go to step 1\n",
        "\n",
        "Standard values $\\alpha = 1.$, $\\gamma = 2$, $\\rho = 0.5$, and $\\sigma = 0.5$"
      ]
    },
    {
      "cell_type": "markdown",
      "metadata": {
        "slideshow": {
          "slide_type": "subslide"
        }
      },
      "source": [
        "\n",
        "## Reflection, Expansion, Contraction etc. \n",
        "![](assets/simplex_animation.gif)"
      ]
    },
    {
      "cell_type": "markdown",
      "metadata": {
        "slideshow": {
          "slide_type": "subslide"
        }
      },
      "source": [
        "## Example\n",
        "![](assets/Nelder-Mead_Rosenbrock.gif)"
      ]
    },
    {
      "cell_type": "markdown",
      "metadata": {
        "slideshow": {
          "slide_type": "subslide"
        }
      },
      "source": [
        "\n",
        "## Example Code"
      ]
    },
    {
      "cell_type": "code",
      "execution_count": 7,
      "metadata": {},
      "outputs": [
        {
          "data": {
            "text/plain": [
              " * Status: success\n",
              "\n",
              " * Candidate solution\n",
              "    Final objective value:     3.950131e-09\n",
              "\n",
              " * Found with\n",
              "    Algorithm:     Nelder-Mead\n",
              "\n",
              " * Convergence measures\n",
              "    √(Σ(yᵢ-ȳ)²)/n ≤ 1.0e-08\n",
              "\n",
              " * Work counters\n",
              "    Seconds run:   0  (vs limit Inf)\n",
              "    Iterations:    103\n",
              "    f(x) calls:    198\n"
            ]
          },
          "metadata": {},
          "output_type": "display_data"
        }
      ],
      "source": [
        "#rosenbrock function\n",
        "f_ros(x) = (1.0 - x[1])^2 + 100.0 * (x[2] - x[1]^2)^2\n",
        "optimize(f_ros,10*ones(2),NelderMead())"
      ]
    },
    {
      "cell_type": "markdown",
      "metadata": {
        "slideshow": {
          "slide_type": "slide"
        }
      },
      "source": [
        "# Gradient Based Methods"
      ]
    },
    {
      "cell_type": "markdown",
      "metadata": {
        "slideshow": {
          "slide_type": "subslide"
        }
      },
      "source": [
        "## Newton's Method\n",
        "\n",
        "* Very similar to Newton's Rootfinding method\n",
        "\n",
        "* Do a second order taylor expansion around $x_n$\n",
        "$$\n",
        "f(x) \\approx f(x_n) + f'(x^n)(x-x^n) + \\frac12 f''(x^n)(x-x^n)^2\n",
        "$$\n",
        "\n",
        "* Minimizing this approximated function (taking the first order condition) to get\n",
        "$$\n",
        "    x_{n+1} = x_n - \\frac{f'(x_n)}{f''(x_n)}\n",
        "$$\n",
        "\n",
        "* Need both first and second derivatives\n",
        "\n",
        "* **Note:** $f''(x_n)$ determines how far you move in the direction $f'(x_n)$, will move in the direction that decreases $f$ to first order as long as $f''(x_n) > 0$"
      ]
    },
    {
      "cell_type": "markdown",
      "metadata": {
        "slideshow": {
          "slide_type": "subslide"
        }
      },
      "source": [
        "## Multivariate Extension\n",
        "* For a multivariate function $f(\\mathbf x)$ the second order Taylor expansion is\n",
        "$$\n",
        "    f(\\mathbf x) \\approx f(\\mathbf x_n) + \\nabla f(\\mathbf x_n)(\\mathbf x-\\mathbf x_n) + \\frac12 (\\mathbf x-\\mathbf x_n)' H(\\mathbf x_n)(\\mathbf x-\\mathbf x_n)\n",
        "$$\n",
        "\n",
        "* This yields an updating equation\n",
        "$$\n",
        "    \\mathbf x_{n+1} = \\mathbf x_n - H(\\mathbf x_n)^{-1} \\nabla f(\\mathbf x_n)\n",
        "$$\n",
        "\n",
        "* Problem: Computing $H$ can be time consuming\n",
        "\n",
        "    * May also not be positive definite (can result in algorithm moving in wrong direction (i.e. towards max)"
      ]
    },
    {
      "cell_type": "markdown",
      "metadata": {
        "slideshow": {
          "slide_type": "subslide"
        }
      },
      "source": [
        "## Quasi-Newton Methods\n",
        "\n",
        "* Approximate the Hessian with a positive definite matrix\n",
        "\n",
        "* Example: set Hessian to $I$\n",
        "$$\n",
        "    \\mathbf x_{n+1} = \\mathbf x_{n} -\\nabla f(\\mathbf x_n)\n",
        "$$\n",
        "\n",
        "* Always moves in the right direction but can overshoot, slow convergence rate\n",
        "\n",
        "* BFGS algorithm uses secant to approximate the Hessisan\n",
        "\n",
        "    * Starts with Hessian being $I$, updates it by using changes in the gradient\n",
        "    \n",
        "    * Can show that approximated Hessian will remain Positive definite"
      ]
    },
    {
      "cell_type": "markdown",
      "metadata": {
        "slideshow": {
          "slide_type": "subslide"
        }
      },
      "source": [
        "\n",
        "## Implementation"
      ]
    },
    {
      "cell_type": "code",
      "execution_count": 8,
      "metadata": {},
      "outputs": [
        {
          "data": {
            "text/plain": [
              " * Status: success\n",
              "\n",
              " * Candidate solution\n",
              "    Final objective value:     5.471417e-17\n",
              "\n",
              " * Found with\n",
              "    Algorithm:     BFGS\n",
              "\n",
              " * Convergence measures\n",
              "    |x - x'|               = 3.47e-07 ≰ 0.0e+00\n",
              "    |x - x'|/|x'|          = 3.47e-07 ≰ 0.0e+00\n",
              "    |f(x) - f(x')|         = 6.59e-14 ≰ 0.0e+00\n",
              "    |f(x) - f(x')|/|f(x')| = 1.20e+03 ≰ 0.0e+00\n",
              "    |g(x)|                 = 2.33e-09 ≤ 1.0e-08\n",
              "\n",
              " * Work counters\n",
              "    Seconds run:   0  (vs limit Inf)\n",
              "    Iterations:    16\n",
              "    f(x) calls:    53\n",
              "    ∇f(x) calls:   53\n"
            ]
          },
          "metadata": {},
          "output_type": "display_data"
        }
      ],
      "source": [
        "optimize(f_ros,zeros(2),BFGS())"
      ]
    },
    {
      "cell_type": "code",
      "execution_count": 9,
      "metadata": {},
      "outputs": [
        {
          "name": "stdout",
          "output_type": "stream",
          "text": [
            "  0.000038 seconds (313 allocations: 6.859 KiB)\n",
            "  1.115030 seconds (30.00 M allocations: 457.772 MiB, 4.59% gc time, 0.42% compilation time)\n",
            "  0.000065 seconds (450 allocations: 16.797 KiB)\n"
          ]
        }
      ],
      "source": [
        "@time optimize(f_ros,zeros(2),NelderMead())\n",
        "@time optimize(f_ros,zeros(2),SimulatedAnnealing(),Optim.Options(iterations=10^7))\n",
        "@time optimize(f_ros,zeros(2),BFGS());"
      ]
    },
    {
      "cell_type": "markdown",
      "metadata": {
        "slideshow": {
          "slide_type": "slide"
        }
      },
      "source": [
        "# Problems With Constraints"
      ]
    },
    {
      "cell_type": "markdown",
      "metadata": {
        "slideshow": {
          "slide_type": "subslide"
        }
      },
      "source": [
        "\n",
        "\n",
        "* Many times we will wish to perform the following kind of maximization\n",
        "$$\n",
        "    \\max_{\\mathbf x} f(\\mathbf x)\n",
        "$$\n",
        "subject to \n",
        "\\begin{align*}\n",
        "    g_i(\\mathbf x)&\\leq 0\\\\\n",
        "    r_j(\\mathbf x)&= 0\n",
        "\\end{align*}\n",
        "\n",
        "* Construct a penalty function for violating the constraints\n",
        "$$\n",
        "    P(\\mathbf x) = \\sum_{i=1}^m[\\max\\{0,g_i(\\mathbf x)\\}]^2 + \\sum_{j=1}^k [r_j(\\mathbf x)]^2\n",
        "$$\n",
        "\n",
        "* Create a new objective function\n",
        "$$\n",
        "    h(c,\\mathbf x) = f(\\mathbf x)+cP(\\mathbf x)\n",
        "$$"
      ]
    },
    {
      "cell_type": "markdown",
      "metadata": {
        "slideshow": {
          "slide_type": "subslide"
        }
      },
      "source": [
        "## Augmented Lagrangian Technique\n",
        "* Start with a relatively small value of $c$ and an initial point $\\mathbf x$\n",
        "\n",
        "* Solve a sequence of problems with monotonically increasing values of $c$\n",
        "\n",
        "    1. Choose a growth parameter $\\eta>1$ and initial penalty $c^0$\n",
        "\n",
        "    2. At iteration $n$ minimize $h(c_n,\\mathbf x)$.  Call this solution $\\mathbf x_n$.  If $\\mathbf x_n$ does not violate constraints more than $\\epsilon$ then stop.  Otherwise $c_{n+1}  = (1+\\eta)c_n$ and repeat starting from $\\mathbf x_n$\n",
        "\n",
        "* Can show that this will work as long as such a mininum exists"
      ]
    },
    {
      "cell_type": "markdown",
      "metadata": {
        "slideshow": {
          "slide_type": "subslide"
        }
      },
      "source": [
        "## Example\n",
        "![](assets/NLopt-example.png)"
      ]
    },
    {
      "cell_type": "markdown",
      "metadata": {
        "slideshow": {
          "slide_type": "subslide"
        }
      },
      "source": [
        "\n",
        "## Example Code"
      ]
    },
    {
      "cell_type": "code",
      "execution_count": 10,
      "metadata": {},
      "outputs": [
        {
          "name": "stderr",
          "output_type": "stream",
          "text": [
            "WARNING: using NLopt.optimize in module Main conflicts with an existing identifier.\n"
          ]
        },
        {
          "data": {
            "text/plain": [
              "myconstraint! (generic function with 1 method)"
            ]
          },
          "metadata": {},
          "output_type": "display_data"
        }
      ],
      "source": [
        "using NLopt\n",
        "function myfunc!(x::Vector, grad::Vector)\n",
        "    if length(grad) > 0\n",
        "        grad[1] = 0\n",
        "        grad[2] = 0.5/sqrt(x[2])\n",
        "    end\n",
        "\n",
        "    sqrt(x[2])\n",
        "end\n",
        "\n",
        "function myconstraint!(x::Vector, grad::Vector, a, b)\n",
        "    if length(grad) > 0\n",
        "        grad[1] = 3a * (a*x[1] + b)^2\n",
        "        grad[2] = -1\n",
        "    end\n",
        "    (a*x[1] + b)^3 - x[2]\n",
        "end"
      ]
    },
    {
      "cell_type": "markdown",
      "metadata": {
        "slideshow": {
          "slide_type": "subslide"
        }
      },
      "source": [
        "## Example Code MMD Algorithm"
      ]
    },
    {
      "cell_type": "code",
      "execution_count": 11,
      "metadata": {},
      "outputs": [
        {
          "name": "stdout",
          "output_type": "stream",
          "text": [
            "got 0.5443310582637382 at [0.333333330123988, 0.2962963009905211] after count iterations (returned FTOL_REACHED)\n"
          ]
        }
      ],
      "source": [
        "opt = Opt(:LD_MMA, 2)\n",
        "lower_bounds!(opt, [-Inf, 0.])\n",
        "ftol_rel!(opt,1e-6)\n",
        "\n",
        "min_objective!(opt, myfunc!)\n",
        "inequality_constraint!(opt, (x,g) -> myconstraint!(x,g,2,0))\n",
        "inequality_constraint!(opt, (x,g) -> myconstraint!(x,g,-1,1))\n",
        "\n",
        "(minf,minx,ret) = NLopt.optimize(opt, [3., 1.])\n",
        "println(\"got $minf at $minx after $count iterations (returned $ret)\")"
      ]
    },
    {
      "cell_type": "markdown",
      "metadata": {
        "slideshow": {
          "slide_type": "subslide"
        }
      },
      "source": [
        "## Example Code SLSQP Algorithm"
      ]
    },
    {
      "cell_type": "code",
      "execution_count": 12,
      "metadata": {},
      "outputs": [
        {
          "name": "stdout",
          "output_type": "stream",
          "text": [
            "got 0.5443310809303847 at [0.3333333211928888, 0.296296325666841] after count iterations (returned ROUNDOFF_LIMITED)\n"
          ]
        }
      ],
      "source": [
        "opt = Opt(:LD_SLSQP, 2)\n",
        "lower_bounds!(opt, [-Inf, 0.])\n",
        "ftol_rel!(opt,1e-4)\n",
        "\n",
        "min_objective!(opt, myfunc!)\n",
        "inequality_constraint!(opt, (x,g) -> myconstraint!(x,g,2,0))\n",
        "inequality_constraint!(opt, (x,g) -> myconstraint!(x,g,-1,1))\n",
        "\n",
        "(minf,minx,ret) = NLopt.optimize(opt, [3., 1.])\n",
        "println(\"got $minf at $minx after $count iterations (returned $ret)\")"
      ]
    },
    {
      "cell_type": "markdown",
      "metadata": {
        "slideshow": {
          "slide_type": "slide"
        }
      },
      "source": [
        "# Application: Optimal Taxation"
      ]
    },
    {
      "cell_type": "markdown",
      "metadata": {
        "slideshow": {
          "slide_type": "subslide"
        }
      },
      "source": [
        "## Mirelees Meets Ramsey (Heathcote et. al 2016)\n",
        "* Economy is populated by a continuum of agents\n",
        "    * Preferences $U(c,h) = \\frac{c^{1-\\sigma}}{1-\\sigma}-\\frac{h^{1+\\gamma}}{1+\\gamma}$\n",
        "    * Output produced linearly with productivity $\\exp(\\alpha)$\n",
        "* Log productivity $\\alpha$\n",
        "    * $\\alpha\\sim\\mathcal N(-\\sigma_\\alpha^2/2,\\sigma_\\alpha)$\n",
        "* Government chooses tax policy $T(y) = \\tau y - T$ "
      ]
    },
    {
      "cell_type": "markdown",
      "metadata": {
        "slideshow": {
          "slide_type": "subslide"
        }
      },
      "source": [
        "## Agent's Problem\n",
        "* Agents are indexed by their productivity type $\\alpha$\n",
        "* Solve the following problem\n",
        "$$\n",
        "    \\max_{c,h\\geq 0} \\frac{c^{1-\\sigma}}{1-\\sigma}-\\frac{h^{1+\\gamma}}{1+\\gamma}\n",
        "$$\n",
        "subject to\n",
        "$$\n",
        "    c = (1-\\tau)\\exp(\\alpha)h + T\n",
        "$$\n",
        "* Optimal policies $c(\\alpha;\\tau,T)$ and $h(\\alpha;\\tau,T)$ give utility $U(\\alpha;\\tau,T)$"
      ]
    },
    {
      "cell_type": "markdown",
      "metadata": {
        "slideshow": {
          "slide_type": "subslide"
        }
      },
      "source": [
        "## Government's Problem\n",
        "* Government has utilitarian preferences:\n",
        "$$\n",
        "    \\int U(\\alpha;\\tau,T)dF(\\alpha)\n",
        "$$\n",
        "* Chooses $\\tau$ and $T$ to maximize this objective subject to the governments budget constraint\n",
        "$$\n",
        "    T = \\int \\tau \\exp(\\alpha)h(\\alpha;\\tau,T)dF(\\alpha)\n",
        "$$"
      ]
    },
    {
      "cell_type": "markdown",
      "metadata": {
        "slideshow": {
          "slide_type": "subslide"
        }
      },
      "source": [
        "## Computing Consumption and Hours\n",
        "* Household first order condition\n",
        "$$\n",
        "    h^\\gamma = c^{-\\sigma} (1-\\tau)\\exp(\\alpha)\n",
        "$$\n",
        "* Combine with budget constraint:\n",
        "$$\n",
        "    h^\\gamma = \\left((1-\\tau)\\exp(\\alpha)h+T\\right)^{-\\sigma}(1-\\tau)\\exp(\\alpha)\n",
        "$$\n",
        "* To compute $h(\\alpha;\\tau,T)$, find root of \n",
        "$$\n",
        "     \\left((1-\\tau)\\exp(\\alpha)h+T\\right)^{-\\sigma}(1-\\tau)\\exp(\\alpha) - h^\\gamma\n",
        "$$\n"
      ]
    },
    {
      "cell_type": "markdown",
      "metadata": {
        "slideshow": {
          "slide_type": "subslide"
        }
      },
      "source": [
        "\n",
        "## Implementation\n",
        "\n",
        "* A lot of layers to this problem\n",
        "\n",
        "* Start by building up basic components: household decisions"
      ]
    },
    {
      "cell_type": "code",
      "execution_count": 13,
      "metadata": {},
      "outputs": [
        {
          "data": {
            "text/plain": [
              "household_labor"
            ]
          },
          "metadata": {},
          "output_type": "display_data"
        }
      ],
      "source": [
        "using Roots\n",
        "\"\"\"\n",
        "    household_labor(α,τ,T,σ,γ)\n",
        "\n",
        "Solves for HH labor choice given policy and preferences\n",
        "\"\"\"\n",
        "function household_labor(α,τ,T,σ,γ)\n",
        "    Ŵ = (1-τ)*exp(α) #after tax wages\n",
        "    res(h) = (Ŵ*h+T)^(-σ)*Ŵ-h^γ\n",
        "    min_h = max(0,(.0000001-T)/(1-τ)*exp(α)) #ensures c>.0001\n",
        "    h = fzero(res,min_h,20000.) #find hours that solve HH problem\n",
        "    c = Ŵ*h+T\n",
        "    U = c^(1-σ)/(1-σ)-h^(1+γ)/(1+γ)\n",
        "    return c,h,U\n",
        "end"
      ]
    },
    {
      "cell_type": "markdown",
      "metadata": {
        "slideshow": {
          "slide_type": "subslide"
        }
      },
      "source": [
        "## Implementation Cont.\n",
        "\n",
        "* Next we can aggregate to check Govt. Budget Constraint"
      ]
    },
    {
      "cell_type": "code",
      "execution_count": 14,
      "metadata": {},
      "outputs": [
        {
          "data": {
            "text/plain": [
              "budget_residual"
            ]
          },
          "metadata": {},
          "output_type": "display_data"
        }
      ],
      "source": [
        "\"\"\"\n",
        "    budget_residual(τ,T,αvec,σ,γ)\n",
        "\n",
        "Computes the residual of the HH budget constraint given policy (τ,T).\n",
        "αvec contains the vector of α values for each agent\n",
        "\"\"\"\n",
        "function budget_residual(τ,T,αvec,σ,γ)\n",
        "    tax_income = 0.\n",
        "    N = length(αvec)\n",
        "    for i in 1:N\n",
        "        c,h,U = household_labor(αvec[i],τ,T,σ,γ)\n",
        "        tax_income += τ*h*exp(αvec[i])\n",
        "    end\n",
        "    return tax_income/N - T\n",
        "end"
      ]
    },
    {
      "cell_type": "markdown",
      "metadata": {
        "slideshow": {
          "slide_type": "subslide"
        }
      },
      "source": [
        "## Implementation Cont.\n",
        "* Finally we can compute welfare for a given choice of tax rate"
      ]
    },
    {
      "cell_type": "code",
      "execution_count": 15,
      "metadata": {},
      "outputs": [
        {
          "data": {
            "text/plain": [
              "government_welfare"
            ]
          },
          "metadata": {},
          "output_type": "display_data"
        }
      ],
      "source": [
        "\"\"\"\n",
        "    government_welfare(τ,αvec,σ,γ)\n",
        "\n",
        "Solves for government welfare given tax rate τ\n",
        "\"\"\"\n",
        "function government_welfare(τ,αvec,σ,γ)\n",
        "    f(T) = budget_residual(τ,T,αvec,σ,γ)\n",
        "    T =  fzero(f,0.) #Find transfers that balance budget\n",
        "    \n",
        "    welfare = 0.\n",
        "    N = length(αvec)\n",
        "    for i in 1:N\n",
        "        #compute HH welfare given tax rate\n",
        "        c,h,U = household_labor(αvec[i],τ,T,σ,γ)\n",
        "        welfare += U #Aggregate welfare\n",
        "    end\n",
        "    return welfare/N\n",
        "end"
      ]
    },
    {
      "cell_type": "markdown",
      "metadata": {
        "slideshow": {
          "slide_type": "subslide"
        }
      },
      "source": [
        "## Calibration"
      ]
    },
    {
      "cell_type": "code",
      "execution_count": 16,
      "metadata": {},
      "outputs": [],
      "source": [
        "using Distributions\n",
        "σ = 2. #Standard\n",
        "γ = 2. #Targets Frisch elasticity of 0.5\n",
        "σ_α = sqrt(0.147) #Taken from HSV\n",
        "N = 1000\n",
        "alphaDist = Normal(-σ_α^2/2,σ_α)\n",
        "αvec = rand(alphaDist,N);"
      ]
    },
    {
      "cell_type": "markdown",
      "metadata": {
        "slideshow": {
          "slide_type": "subslide"
        }
      },
      "source": [
        "## Welfare Function"
      ]
    },
    {
      "cell_type": "code",
      "execution_count": 17,
      "metadata": {},
      "outputs": [
        {
          "data": {
            "image/png": "[encoded data removed]",
            "image/svg+xml": [
              "<?xml version=\"1.0\" encoding=\"utf-8\"?>\n",
              "<svg xmlns=\"http://www.w3.org/2000/svg\" xmlns:xlink=\"http://www.w3.org/1999/xlink\" width=\"600\" height=\"400\" viewBox=\"0 0 2400 1600\">\n",
              "<defs>\n",
              "  <clipPath id=\"clip990\">\n",
              "    <rect x=\"0\" y=\"0\" width=\"2400\" height=\"1600\"/>\n",
              "  </clipPath>\n",
              "</defs>\n",
              "<path clip-path=\"url(#clip990)\" d=\"M0 1600 L2400 1600 L2400 8.88178e-14 L0 8.88178e-14  Z\" fill=\"#ffffff\" fill-rule=\"evenodd\" fill-opacity=\"1\"/>\n",
              "<defs>\n",
              "  <clipPath id=\"clip991\">\n",
              "    <rect x=\"480\" y=\"0\" width=\"1681\" height=\"1600\"/>\n",
              "  </clipPath>\n",
              "</defs>\n",
              "<path clip-path=\"url(#clip990)\" d=\"M429.098 1281.45 L2211.02 1281.45 L2211.02 188.976 L429.098 188.976  Z\" fill=\"#ffffff\" fill-rule=\"evenodd\" fill-opacity=\"1\"/>\n",
              "<defs>\n",
              "  <clipPath id=\"clip992\">\n",
              "    <rect x=\"429\" y=\"188\" width=\"1783\" height=\"1093\"/>\n",
              "  </clipPath>\n",
              "</defs>\n",
              "<polyline clip-path=\"url(#clip992)\" style=\"stroke:#000000; stroke-linecap:round; stroke-linejoin:round; stroke-width:2; stroke-opacity:0.1; fill:none\" points=\"479.53,1281.45 479.53,188.976 \"/>\n",
              "<polyline clip-path=\"url(#clip992)\" style=\"stroke:#000000; stroke-linecap:round; stroke-linejoin:round; stroke-width:2; stroke-opacity:0.1; fill:none\" points=\"899.795,1281.45 899.795,188.976 \"/>\n",
              "<polyline clip-path=\"url(#clip992)\" style=\"stroke:#000000; stroke-linecap:round; stroke-linejoin:round; stroke-width:2; stroke-opacity:0.1; fill:none\" points=\"1320.06,1281.45 1320.06,188.976 \"/>\n",
              "<polyline clip-path=\"url(#clip992)\" style=\"stroke:#000000; stroke-linecap:round; stroke-linejoin:round; stroke-width:2; stroke-opacity:0.1; fill:none\" points=\"1740.33,1281.45 1740.33,188.976 \"/>\n",
              "<polyline clip-path=\"url(#clip992)\" style=\"stroke:#000000; stroke-linecap:round; stroke-linejoin:round; stroke-width:2; stroke-opacity:0.1; fill:none\" points=\"2160.59,1281.45 2160.59,188.976 \"/>\n",
              "<polyline clip-path=\"url(#clip992)\" style=\"stroke:#000000; stroke-linecap:round; stroke-linejoin:round; stroke-width:2; stroke-opacity:0.1; fill:none\" points=\"429.098,1231.05 2211.02,1231.05 \"/>\n",
              "<polyline clip-path=\"url(#clip992)\" style=\"stroke:#000000; stroke-linecap:round; stroke-linejoin:round; stroke-width:2; stroke-opacity:0.1; fill:none\" points=\"429.098,927.86 2211.02,927.86 \"/>\n",
              "<polyline clip-path=\"url(#clip992)\" style=\"stroke:#000000; stroke-linecap:round; stroke-linejoin:round; stroke-width:2; stroke-opacity:0.1; fill:none\" points=\"429.098,624.668 2211.02,624.668 \"/>\n",
              "<polyline clip-path=\"url(#clip992)\" style=\"stroke:#000000; stroke-linecap:round; stroke-linejoin:round; stroke-width:2; stroke-opacity:0.1; fill:none\" points=\"429.098,321.476 2211.02,321.476 \"/>\n",
              "<polyline clip-path=\"url(#clip990)\" style=\"stroke:#000000; stroke-linecap:round; stroke-linejoin:round; stroke-width:4; stroke-opacity:1; fill:none\" points=\"429.098,1281.45 2211.02,1281.45 \"/>\n",
              "<polyline clip-path=\"url(#clip990)\" style=\"stroke:#000000; stroke-linecap:round; stroke-linejoin:round; stroke-width:4; stroke-opacity:1; fill:none\" points=\"479.53,1281.45 479.53,1262.55 \"/>\n",
              "<polyline clip-path=\"url(#clip990)\" style=\"stroke:#000000; stroke-linecap:round; stroke-linejoin:round; stroke-width:4; stroke-opacity:1; fill:none\" points=\"899.795,1281.45 899.795,1262.55 \"/>\n",
              "<polyline clip-path=\"url(#clip990)\" style=\"stroke:#000000; stroke-linecap:round; stroke-linejoin:round; stroke-width:4; stroke-opacity:1; fill:none\" points=\"1320.06,1281.45 1320.06,1262.55 \"/>\n",
              "<polyline clip-path=\"url(#clip990)\" style=\"stroke:#000000; stroke-linecap:round; stroke-linejoin:round; stroke-width:4; stroke-opacity:1; fill:none\" points=\"1740.33,1281.45 1740.33,1262.55 \"/>\n",
              "<polyline clip-path=\"url(#clip990)\" style=\"stroke:#000000; stroke-linecap:round; stroke-linejoin:round; stroke-width:4; stroke-opacity:1; fill:none\" points=\"2160.59,1281.45 2160.59,1262.55 \"/>\n",
              "<path clip-path=\"url(#clip990)\" d=\"M456.914 1312.37 Q453.303 1312.37 451.475 1315.93 Q449.669 1319.47 449.669 1326.6 Q449.669 1333.71 451.475 1337.27 Q453.303 1340.82 456.914 1340.82 Q460.549 1340.82 462.354 1337.27 Q464.183 1333.71 464.183 1326.6 Q464.183 1319.47 462.354 1315.93 Q460.549 1312.37 456.914 1312.37 M456.914 1308.66 Q462.725 1308.66 465.78 1313.27 Q468.859 1317.85 468.859 1326.6 Q468.859 1335.33 465.78 1339.94 Q462.725 1344.52 456.914 1344.52 Q451.104 1344.52 448.026 1339.94 Q444.97 1335.33 444.97 1326.6 Q444.97 1317.85 448.026 1313.27 Q451.104 1308.66 456.914 1308.66 Z\" fill=\"#000000\" fill-rule=\"nonzero\" fill-opacity=\"1\" /><path clip-path=\"url(#clip990)\" d=\"M477.076 1337.97 L481.961 1337.97 L481.961 1343.85 L477.076 1343.85 L477.076 1337.97 Z\" fill=\"#000000\" fill-rule=\"nonzero\" fill-opacity=\"1\" /><path clip-path=\"url(#clip990)\" d=\"M502.146 1312.37 Q498.535 1312.37 496.706 1315.93 Q494.9 1319.47 494.9 1326.6 Q494.9 1333.71 496.706 1337.27 Q498.535 1340.82 502.146 1340.82 Q505.78 1340.82 507.585 1337.27 Q509.414 1333.71 509.414 1326.6 Q509.414 1319.47 507.585 1315.93 Q505.78 1312.37 502.146 1312.37 M502.146 1308.66 Q507.956 1308.66 511.011 1313.27 Q514.09 1317.85 514.09 1326.6 Q514.09 1335.33 511.011 1339.94 Q507.956 1344.52 502.146 1344.52 Q496.336 1344.52 493.257 1339.94 Q490.201 1335.33 490.201 1326.6 Q490.201 1317.85 493.257 1313.27 Q496.336 1308.66 502.146 1308.66 Z\" fill=\"#000000\" fill-rule=\"nonzero\" fill-opacity=\"1\" /><path clip-path=\"url(#clip990)\" d=\"M877.978 1312.37 Q874.367 1312.37 872.539 1315.93 Q870.733 1319.47 870.733 1326.6 Q870.733 1333.71 872.539 1337.27 Q874.367 1340.82 877.978 1340.82 Q881.613 1340.82 883.418 1337.27 Q885.247 1333.71 885.247 1326.6 Q885.247 1319.47 883.418 1315.93 Q881.613 1312.37 877.978 1312.37 M877.978 1308.66 Q883.789 1308.66 886.844 1313.27 Q889.923 1317.85 889.923 1326.6 Q889.923 1335.33 886.844 1339.94 Q883.789 1344.52 877.978 1344.52 Q872.168 1344.52 869.09 1339.94 Q866.034 1335.33 866.034 1326.6 Q866.034 1317.85 869.09 1313.27 Q872.168 1308.66 877.978 1308.66 Z\" fill=\"#000000\" fill-rule=\"nonzero\" fill-opacity=\"1\" /><path clip-path=\"url(#clip990)\" d=\"M898.14 1337.97 L903.025 1337.97 L903.025 1343.85 L898.14 1343.85 L898.14 1337.97 Z\" fill=\"#000000\" fill-rule=\"nonzero\" fill-opacity=\"1\" /><path clip-path=\"url(#clip990)\" d=\"M917.238 1339.91 L933.557 1339.91 L933.557 1343.85 L911.613 1343.85 L911.613 1339.91 Q914.275 1337.16 918.858 1332.53 Q923.464 1327.88 924.645 1326.53 Q926.89 1324.01 927.77 1322.27 Q928.673 1320.51 928.673 1318.82 Q928.673 1316.07 926.728 1314.33 Q924.807 1312.6 921.705 1312.6 Q919.506 1312.6 917.052 1313.36 Q914.622 1314.13 911.844 1315.68 L911.844 1310.95 Q914.668 1309.82 917.122 1309.24 Q919.575 1308.66 921.612 1308.66 Q926.983 1308.66 930.177 1311.35 Q933.372 1314.03 933.372 1318.52 Q933.372 1320.65 932.562 1322.57 Q931.774 1324.47 929.668 1327.07 Q929.089 1327.74 925.987 1330.95 Q922.886 1334.15 917.238 1339.91 Z\" fill=\"#000000\" fill-rule=\"nonzero\" fill-opacity=\"1\" /><path clip-path=\"url(#clip990)\" d=\"M1297.2 1312.37 Q1293.59 1312.37 1291.76 1315.93 Q1289.96 1319.47 1289.96 1326.6 Q1289.96 1333.71 1291.76 1337.27 Q1293.59 1340.82 1297.2 1340.82 Q1300.84 1340.82 1302.64 1337.27 Q1304.47 1333.71 1304.47 1326.6 Q1304.47 1319.47 1302.64 1315.93 Q1300.84 1312.37 1297.2 1312.37 M1297.2 1308.66 Q1303.01 1308.66 1306.07 1313.27 Q1309.15 1317.85 1309.15 1326.6 Q1309.15 1335.33 1306.07 1339.94 Q1303.01 1344.52 1297.2 1344.52 Q1291.39 1344.52 1288.31 1339.94 Q1285.26 1335.33 1285.26 1326.6 Q1285.26 1317.85 1288.31 1313.27 Q1291.39 1308.66 1297.2 1308.66 Z\" fill=\"#000000\" fill-rule=\"nonzero\" fill-opacity=\"1\" /><path clip-path=\"url(#clip990)\" d=\"M1317.36 1337.97 L1322.25 1337.97 L1322.25 1343.85 L1317.36 1343.85 L1317.36 1337.97 Z\" fill=\"#000000\" fill-rule=\"nonzero\" fill-opacity=\"1\" /><path clip-path=\"url(#clip990)\" d=\"M1345.28 1313.36 L1333.48 1331.81 L1345.28 1331.81 L1345.28 1313.36 M1344.05 1309.29 L1349.93 1309.29 L1349.93 1331.81 L1354.86 1331.81 L1354.86 1335.7 L1349.93 1335.7 L1349.93 1343.85 L1345.28 1343.85 L1345.28 1335.7 L1329.68 1335.7 L1329.68 1331.19 L1344.05 1309.29 Z\" fill=\"#000000\" fill-rule=\"nonzero\" fill-opacity=\"1\" /><path clip-path=\"url(#clip990)\" d=\"M1717.63 1312.37 Q1714.02 1312.37 1712.19 1315.93 Q1710.38 1319.47 1710.38 1326.6 Q1710.38 1333.71 1712.19 1337.27 Q1714.02 1340.82 1717.63 1340.82 Q1721.26 1340.82 1723.07 1337.27 Q1724.9 1333.71 1724.9 1326.6 Q1724.9 1319.47 1723.07 1315.93 Q1721.26 1312.37 1717.63 1312.37 M1717.63 1308.66 Q1723.44 1308.66 1726.5 1313.27 Q1729.57 1317.85 1729.57 1326.6 Q1729.57 1335.33 1726.5 1339.94 Q1723.44 1344.52 1717.63 1344.52 Q1711.82 1344.52 1708.74 1339.94 Q1705.69 1335.33 1705.69 1326.6 Q1705.69 1317.85 1708.74 1313.27 Q1711.82 1308.66 1717.63 1308.66 Z\" fill=\"#000000\" fill-rule=\"nonzero\" fill-opacity=\"1\" /><path clip-path=\"url(#clip990)\" d=\"M1737.79 1337.97 L1742.68 1337.97 L1742.68 1343.85 L1737.79 1343.85 L1737.79 1337.97 Z\" fill=\"#000000\" fill-rule=\"nonzero\" fill-opacity=\"1\" /><path clip-path=\"url(#clip990)\" d=\"M1763.44 1324.7 Q1760.29 1324.7 1758.44 1326.86 Q1756.61 1329.01 1756.61 1332.76 Q1756.61 1336.49 1758.44 1338.66 Q1760.29 1340.82 1763.44 1340.82 Q1766.59 1340.82 1768.42 1338.66 Q1770.27 1336.49 1770.27 1332.76 Q1770.27 1329.01 1768.42 1326.86 Q1766.59 1324.7 1763.44 1324.7 M1772.72 1310.05 L1772.72 1314.31 Q1770.96 1313.48 1769.16 1313.04 Q1767.37 1312.6 1765.62 1312.6 Q1760.99 1312.6 1758.53 1315.72 Q1756.1 1318.85 1755.75 1325.17 Q1757.12 1323.15 1759.18 1322.09 Q1761.24 1321 1763.72 1321 Q1768.93 1321 1771.93 1324.17 Q1774.97 1327.32 1774.97 1332.76 Q1774.97 1338.08 1771.82 1341.3 Q1768.67 1344.52 1763.44 1344.52 Q1757.44 1344.52 1754.27 1339.94 Q1751.1 1335.33 1751.1 1326.6 Q1751.1 1318.41 1754.99 1313.55 Q1758.88 1308.66 1765.43 1308.66 Q1767.19 1308.66 1768.97 1309.01 Q1770.78 1309.36 1772.72 1310.05 Z\" fill=\"#000000\" fill-rule=\"nonzero\" fill-opacity=\"1\" /><path clip-path=\"url(#clip990)\" d=\"M2138.02 1312.37 Q2134.41 1312.37 2132.58 1315.93 Q2130.78 1319.47 2130.78 1326.6 Q2130.78 1333.71 2132.58 1337.27 Q2134.41 1340.82 2138.02 1340.82 Q2141.66 1340.82 2143.46 1337.27 Q2145.29 1333.71 2145.29 1326.6 Q2145.29 1319.47 2143.46 1315.93 Q2141.66 1312.37 2138.02 1312.37 M2138.02 1308.66 Q2143.83 1308.66 2146.89 1313.27 Q2149.97 1317.85 2149.97 1326.6 Q2149.97 1335.33 2146.89 1339.94 Q2143.83 1344.52 2138.02 1344.52 Q2132.21 1344.52 2129.13 1339.94 Q2126.08 1335.33 2126.08 1326.6 Q2126.08 1317.85 2129.13 1313.27 Q2132.21 1308.66 2138.02 1308.66 Z\" fill=\"#000000\" fill-rule=\"nonzero\" fill-opacity=\"1\" /><path clip-path=\"url(#clip990)\" d=\"M2158.18 1337.97 L2163.07 1337.97 L2163.07 1343.85 L2158.18 1343.85 L2158.18 1337.97 Z\" fill=\"#000000\" fill-rule=\"nonzero\" fill-opacity=\"1\" /><path clip-path=\"url(#clip990)\" d=\"M2183.25 1327.44 Q2179.92 1327.44 2178 1329.22 Q2176.1 1331 2176.1 1334.13 Q2176.1 1337.25 2178 1339.03 Q2179.92 1340.82 2183.25 1340.82 Q2186.59 1340.82 2188.51 1339.03 Q2190.43 1337.23 2190.43 1334.13 Q2190.43 1331 2188.51 1329.22 Q2186.61 1327.44 2183.25 1327.44 M2178.58 1325.44 Q2175.57 1324.7 2173.88 1322.64 Q2172.21 1320.58 2172.21 1317.62 Q2172.21 1313.48 2175.15 1311.07 Q2178.11 1308.66 2183.25 1308.66 Q2188.42 1308.66 2191.36 1311.07 Q2194.3 1313.48 2194.3 1317.62 Q2194.3 1320.58 2192.61 1322.64 Q2190.94 1324.7 2187.95 1325.44 Q2191.33 1326.23 2193.21 1328.52 Q2195.11 1330.82 2195.11 1334.13 Q2195.11 1339.15 2192.03 1341.83 Q2188.97 1344.52 2183.25 1344.52 Q2177.54 1344.52 2174.46 1341.83 Q2171.4 1339.15 2171.4 1334.13 Q2171.4 1330.82 2173.3 1328.52 Q2175.2 1326.23 2178.58 1325.44 M2176.86 1318.06 Q2176.86 1320.75 2178.53 1322.25 Q2180.22 1323.76 2183.25 1323.76 Q2186.26 1323.76 2187.95 1322.25 Q2189.67 1320.75 2189.67 1318.06 Q2189.67 1315.38 2187.95 1313.87 Q2186.26 1312.37 2183.25 1312.37 Q2180.22 1312.37 2178.53 1313.87 Q2176.86 1315.38 2176.86 1318.06 Z\" fill=\"#000000\" fill-rule=\"nonzero\" fill-opacity=\"1\" /><path clip-path=\"url(#clip990)\" d=\"M1182.83 1378.79 L1223.03 1378.79 L1223.03 1384.2 L1206.16 1384.2 L1206.16 1426.31 L1199.7 1426.31 L1199.7 1384.2 L1182.83 1384.2 L1182.83 1378.79 Z\" fill=\"#000000\" fill-rule=\"nonzero\" fill-opacity=\"1\" /><path clip-path=\"url(#clip990)\" d=\"M1234.39 1408.39 Q1227.3 1408.39 1224.56 1410.02 Q1221.82 1411.64 1221.82 1415.55 Q1221.82 1418.67 1223.86 1420.52 Q1225.93 1422.33 1229.46 1422.33 Q1234.33 1422.33 1237.26 1418.9 Q1240.22 1415.43 1240.22 1409.7 L1240.22 1408.39 L1234.39 1408.39 M1246.08 1405.97 L1246.08 1426.31 L1240.22 1426.31 L1240.22 1420.9 Q1238.21 1424.15 1235.22 1425.71 Q1232.23 1427.23 1227.9 1427.23 Q1222.43 1427.23 1219.18 1424.18 Q1215.97 1421.09 1215.97 1415.94 Q1215.97 1409.92 1219.98 1406.86 Q1224.02 1403.81 1232.01 1403.81 L1240.22 1403.81 L1240.22 1403.24 Q1240.22 1399.19 1237.55 1397 Q1234.9 1394.77 1230.1 1394.77 Q1227.04 1394.77 1224.15 1395.5 Q1221.25 1396.23 1218.58 1397.7 L1218.58 1392.29 Q1221.79 1391.05 1224.81 1390.44 Q1227.84 1389.8 1230.7 1389.8 Q1238.44 1389.8 1242.26 1393.81 Q1246.08 1397.83 1246.08 1405.97 Z\" fill=\"#000000\" fill-rule=\"nonzero\" fill-opacity=\"1\" /><path clip-path=\"url(#clip990)\" d=\"M1287.77 1390.66 L1274.88 1408.01 L1288.44 1426.31 L1281.53 1426.31 L1271.16 1412.31 L1260.78 1426.31 L1253.87 1426.31 L1267.72 1407.66 L1255.05 1390.66 L1261.96 1390.66 L1271.41 1403.36 L1280.86 1390.66 L1287.77 1390.66 Z\" fill=\"#000000\" fill-rule=\"nonzero\" fill-opacity=\"1\" /><path clip-path=\"url(#clip990)\" d=\"M1340.22 1404.03 Q1342.29 1404.73 1344.23 1407.02 Q1346.21 1409.32 1348.18 1413.33 L1354.71 1426.31 L1347.8 1426.31 L1341.72 1414.12 Q1339.36 1409.35 1337.14 1407.79 Q1334.94 1406.23 1331.12 1406.23 L1324.12 1406.23 L1324.12 1426.31 L1317.69 1426.31 L1317.69 1378.79 L1332.2 1378.79 Q1340.35 1378.79 1344.36 1382.2 Q1348.37 1385.6 1348.37 1392.48 Q1348.37 1396.97 1346.27 1399.93 Q1344.2 1402.89 1340.22 1404.03 M1324.12 1384.08 L1324.12 1400.94 L1332.2 1400.94 Q1336.85 1400.94 1339.21 1398.81 Q1341.59 1396.65 1341.59 1392.48 Q1341.59 1388.31 1339.21 1386.21 Q1336.85 1384.08 1332.2 1384.08 L1324.12 1384.08 Z\" fill=\"#000000\" fill-rule=\"nonzero\" fill-opacity=\"1\" /><path clip-path=\"url(#clip990)\" d=\"M1377.5 1408.39 Q1370.4 1408.39 1367.66 1410.02 Q1364.92 1411.64 1364.92 1415.55 Q1364.92 1418.67 1366.96 1420.52 Q1369.03 1422.33 1372.56 1422.33 Q1377.43 1422.33 1380.36 1418.9 Q1383.32 1415.43 1383.32 1409.7 L1383.32 1408.39 L1377.5 1408.39 M1389.18 1405.97 L1389.18 1426.31 L1383.32 1426.31 L1383.32 1420.9 Q1381.31 1424.15 1378.32 1425.71 Q1375.33 1427.23 1371 1427.23 Q1365.53 1427.23 1362.28 1424.18 Q1359.07 1421.09 1359.07 1415.94 Q1359.07 1409.92 1363.08 1406.86 Q1367.12 1403.81 1375.11 1403.81 L1383.32 1403.81 L1383.32 1403.24 Q1383.32 1399.19 1380.65 1397 Q1378 1394.77 1373.2 1394.77 Q1370.14 1394.77 1367.25 1395.5 Q1364.35 1396.23 1361.68 1397.7 L1361.68 1392.29 Q1364.89 1391.05 1367.92 1390.44 Q1370.94 1389.8 1373.8 1389.8 Q1381.54 1389.8 1385.36 1393.81 Q1389.18 1397.83 1389.18 1405.97 Z\" fill=\"#000000\" fill-rule=\"nonzero\" fill-opacity=\"1\" /><path clip-path=\"url(#clip990)\" d=\"M1407.03 1380.54 L1407.03 1390.66 L1419.1 1390.66 L1419.1 1395.22 L1407.03 1395.22 L1407.03 1414.57 Q1407.03 1418.93 1408.21 1420.17 Q1409.42 1421.41 1413.08 1421.41 L1419.1 1421.41 L1419.1 1426.31 L1413.08 1426.31 Q1406.3 1426.31 1403.72 1423.8 Q1401.14 1421.25 1401.14 1414.57 L1401.14 1395.22 L1396.85 1395.22 L1396.85 1390.66 L1401.14 1390.66 L1401.14 1380.54 L1407.03 1380.54 Z\" fill=\"#000000\" fill-rule=\"nonzero\" fill-opacity=\"1\" /><path clip-path=\"url(#clip990)\" d=\"M1457.29 1407.02 L1457.29 1409.89 L1430.36 1409.89 Q1430.74 1415.94 1433.99 1419.12 Q1437.27 1422.27 1443.09 1422.27 Q1446.47 1422.27 1449.62 1421.44 Q1452.8 1420.61 1455.92 1418.96 L1455.92 1424.5 Q1452.77 1425.83 1449.46 1426.53 Q1446.15 1427.23 1442.74 1427.23 Q1434.21 1427.23 1429.22 1422.27 Q1424.25 1417.3 1424.25 1408.84 Q1424.25 1400.08 1428.96 1394.96 Q1433.7 1389.8 1441.73 1389.8 Q1448.92 1389.8 1453.09 1394.45 Q1457.29 1399.07 1457.29 1407.02 M1451.43 1405.3 Q1451.37 1400.5 1448.73 1397.63 Q1446.12 1394.77 1441.79 1394.77 Q1436.89 1394.77 1433.93 1397.54 Q1431 1400.31 1430.55 1405.34 L1451.43 1405.3 Z\" fill=\"#000000\" fill-rule=\"nonzero\" fill-opacity=\"1\" /><polyline clip-path=\"url(#clip990)\" style=\"stroke:#000000; stroke-linecap:round; stroke-linejoin:round; stroke-width:4; stroke-opacity:1; fill:none\" points=\"429.098,1281.45 429.098,188.976 \"/>\n",
              "<polyline clip-path=\"url(#clip990)\" style=\"stroke:#000000; stroke-linecap:round; stroke-linejoin:round; stroke-width:4; stroke-opacity:1; fill:none\" points=\"429.098,1231.05 447.996,1231.05 \"/>\n",
              "<polyline clip-path=\"url(#clip990)\" style=\"stroke:#000000; stroke-linecap:round; stroke-linejoin:round; stroke-width:4; stroke-opacity:1; fill:none\" points=\"429.098,927.86 447.996,927.86 \"/>\n",
              "<polyline clip-path=\"url(#clip990)\" style=\"stroke:#000000; stroke-linecap:round; stroke-linejoin:round; stroke-width:4; stroke-opacity:1; fill:none\" points=\"429.098,624.668 447.996,624.668 \"/>\n",
              "<polyline clip-path=\"url(#clip990)\" style=\"stroke:#000000; stroke-linecap:round; stroke-linejoin:round; stroke-width:4; stroke-opacity:1; fill:none\" points=\"429.098,321.476 447.996,321.476 \"/>\n",
              "<path clip-path=\"url(#clip990)\" d=\"M255.992 1231.5 L285.668 1231.5 L285.668 1235.44 L255.992 1235.44 L255.992 1231.5 Z\" fill=\"#000000\" fill-rule=\"nonzero\" fill-opacity=\"1\" /><path clip-path=\"url(#clip990)\" d=\"M296.571 1244.4 L304.21 1244.4 L304.21 1218.03 L295.9 1219.7 L295.9 1215.44 L304.163 1213.77 L308.839 1213.77 L308.839 1244.4 L316.478 1244.4 L316.478 1248.33 L296.571 1248.33 L296.571 1244.4 Z\" fill=\"#000000\" fill-rule=\"nonzero\" fill-opacity=\"1\" /><path clip-path=\"url(#clip990)\" d=\"M325.923 1242.45 L330.807 1242.45 L330.807 1248.33 L325.923 1248.33 L325.923 1242.45 Z\" fill=\"#000000\" fill-rule=\"nonzero\" fill-opacity=\"1\" /><path clip-path=\"url(#clip990)\" d=\"M351.571 1229.19 Q348.423 1229.19 346.571 1231.34 Q344.742 1233.49 344.742 1237.24 Q344.742 1240.97 346.571 1243.15 Q348.423 1245.3 351.571 1245.3 Q354.719 1245.3 356.547 1243.15 Q358.399 1240.97 358.399 1237.24 Q358.399 1233.49 356.547 1231.34 Q354.719 1229.19 351.571 1229.19 M360.853 1214.54 L360.853 1218.8 Q359.094 1217.96 357.288 1217.52 Q355.506 1217.08 353.747 1217.08 Q349.117 1217.08 346.663 1220.21 Q344.233 1223.33 343.885 1229.65 Q345.251 1227.64 347.311 1226.57 Q349.372 1225.49 351.848 1225.49 Q357.057 1225.49 360.066 1228.66 Q363.098 1231.81 363.098 1237.24 Q363.098 1242.57 359.95 1245.79 Q356.802 1249 351.571 1249 Q345.575 1249 342.404 1244.42 Q339.233 1239.81 339.233 1231.09 Q339.233 1222.89 343.122 1218.03 Q347.01 1213.15 353.561 1213.15 Q355.321 1213.15 357.103 1213.5 Q358.909 1213.84 360.853 1214.54 Z\" fill=\"#000000\" fill-rule=\"nonzero\" fill-opacity=\"1\" /><path clip-path=\"url(#clip990)\" d=\"M381.154 1216.85 Q377.543 1216.85 375.714 1220.42 Q373.908 1223.96 373.908 1231.09 Q373.908 1238.19 375.714 1241.76 Q377.543 1245.3 381.154 1245.3 Q384.788 1245.3 386.594 1241.76 Q388.422 1238.19 388.422 1231.09 Q388.422 1223.96 386.594 1220.42 Q384.788 1216.85 381.154 1216.85 M381.154 1213.15 Q386.964 1213.15 390.02 1217.75 Q393.098 1222.34 393.098 1231.09 Q393.098 1239.81 390.02 1244.42 Q386.964 1249 381.154 1249 Q375.344 1249 372.265 1244.42 Q369.209 1239.81 369.209 1231.09 Q369.209 1222.34 372.265 1217.75 Q375.344 1213.15 381.154 1213.15 Z\" fill=\"#000000\" fill-rule=\"nonzero\" fill-opacity=\"1\" /><path clip-path=\"url(#clip990)\" d=\"M256.988 928.312 L286.664 928.312 L286.664 932.247 L256.988 932.247 L256.988 928.312 Z\" fill=\"#000000\" fill-rule=\"nonzero\" fill-opacity=\"1\" /><path clip-path=\"url(#clip990)\" d=\"M297.566 941.205 L305.205 941.205 L305.205 914.84 L296.895 916.506 L296.895 912.247 L305.159 910.58 L309.835 910.58 L309.835 941.205 L317.474 941.205 L317.474 945.14 L297.566 945.14 L297.566 941.205 Z\" fill=\"#000000\" fill-rule=\"nonzero\" fill-opacity=\"1\" /><path clip-path=\"url(#clip990)\" d=\"M326.918 939.261 L331.802 939.261 L331.802 945.14 L326.918 945.14 L326.918 939.261 Z\" fill=\"#000000\" fill-rule=\"nonzero\" fill-opacity=\"1\" /><path clip-path=\"url(#clip990)\" d=\"M342.034 910.58 L360.39 910.58 L360.39 914.516 L346.316 914.516 L346.316 922.988 Q347.335 922.641 348.353 922.479 Q349.372 922.293 350.39 922.293 Q356.177 922.293 359.557 925.465 Q362.936 928.636 362.936 934.053 Q362.936 939.631 359.464 942.733 Q355.992 945.812 349.672 945.812 Q347.497 945.812 345.228 945.441 Q342.983 945.071 340.575 944.33 L340.575 939.631 Q342.659 940.765 344.881 941.321 Q347.103 941.877 349.58 941.877 Q353.585 941.877 355.922 939.77 Q358.26 937.664 358.26 934.053 Q358.26 930.441 355.922 928.335 Q353.585 926.229 349.58 926.229 Q347.705 926.229 345.83 926.645 Q343.978 927.062 342.034 927.941 L342.034 910.58 Z\" fill=\"#000000\" fill-rule=\"nonzero\" fill-opacity=\"1\" /><path clip-path=\"url(#clip990)\" d=\"M372.196 910.58 L390.552 910.58 L390.552 914.516 L376.478 914.516 L376.478 922.988 Q377.496 922.641 378.515 922.479 Q379.533 922.293 380.552 922.293 Q386.339 922.293 389.719 925.465 Q393.098 928.636 393.098 934.053 Q393.098 939.631 389.626 942.733 Q386.154 945.812 379.834 945.812 Q377.658 945.812 375.39 945.441 Q373.145 945.071 370.737 944.33 L370.737 939.631 Q372.821 940.765 375.043 941.321 Q377.265 941.877 379.742 941.877 Q383.746 941.877 386.084 939.77 Q388.422 937.664 388.422 934.053 Q388.422 930.441 386.084 928.335 Q383.746 926.229 379.742 926.229 Q377.867 926.229 375.992 926.645 Q374.14 927.062 372.196 927.941 L372.196 910.58 Z\" fill=\"#000000\" fill-rule=\"nonzero\" fill-opacity=\"1\" /><path clip-path=\"url(#clip990)\" d=\"M255.992 625.119 L285.668 625.119 L285.668 629.055 L255.992 629.055 L255.992 625.119 Z\" fill=\"#000000\" fill-rule=\"nonzero\" fill-opacity=\"1\" /><path clip-path=\"url(#clip990)\" d=\"M296.571 638.013 L304.21 638.013 L304.21 611.647 L295.9 613.314 L295.9 609.055 L304.163 607.388 L308.839 607.388 L308.839 638.013 L316.478 638.013 L316.478 641.948 L296.571 641.948 L296.571 638.013 Z\" fill=\"#000000\" fill-rule=\"nonzero\" fill-opacity=\"1\" /><path clip-path=\"url(#clip990)\" d=\"M325.923 636.068 L330.807 636.068 L330.807 641.948 L325.923 641.948 L325.923 636.068 Z\" fill=\"#000000\" fill-rule=\"nonzero\" fill-opacity=\"1\" /><path clip-path=\"url(#clip990)\" d=\"M341.038 607.388 L359.395 607.388 L359.395 611.323 L345.321 611.323 L345.321 619.795 Q346.339 619.448 347.358 619.286 Q348.376 619.101 349.395 619.101 Q355.182 619.101 358.561 622.272 Q361.941 625.444 361.941 630.86 Q361.941 636.439 358.469 639.541 Q354.997 642.619 348.677 642.619 Q346.501 642.619 344.233 642.249 Q341.987 641.879 339.58 641.138 L339.58 636.439 Q341.663 637.573 343.885 638.129 Q346.108 638.684 348.585 638.684 Q352.589 638.684 354.927 636.578 Q357.265 634.471 357.265 630.86 Q357.265 627.249 354.927 625.143 Q352.589 623.036 348.585 623.036 Q346.71 623.036 344.835 623.453 Q342.983 623.869 341.038 624.749 L341.038 607.388 Z\" fill=\"#000000\" fill-rule=\"nonzero\" fill-opacity=\"1\" /><path clip-path=\"url(#clip990)\" d=\"M381.154 610.467 Q377.543 610.467 375.714 614.032 Q373.908 617.573 373.908 624.703 Q373.908 631.809 375.714 635.374 Q377.543 638.916 381.154 638.916 Q384.788 638.916 386.594 635.374 Q388.422 631.809 388.422 624.703 Q388.422 617.573 386.594 614.032 Q384.788 610.467 381.154 610.467 M381.154 606.763 Q386.964 606.763 390.02 611.37 Q393.098 615.953 393.098 624.703 Q393.098 633.43 390.02 638.036 Q386.964 642.619 381.154 642.619 Q375.344 642.619 372.265 638.036 Q369.209 633.43 369.209 624.703 Q369.209 615.953 372.265 611.37 Q375.344 606.763 381.154 606.763 Z\" fill=\"#000000\" fill-rule=\"nonzero\" fill-opacity=\"1\" /><path clip-path=\"url(#clip990)\" d=\"M256.988 321.927 L286.664 321.927 L286.664 325.862 L256.988 325.862 L256.988 321.927 Z\" fill=\"#000000\" fill-rule=\"nonzero\" fill-opacity=\"1\" /><path clip-path=\"url(#clip990)\" d=\"M297.566 334.82 L305.205 334.82 L305.205 308.455 L296.895 310.122 L296.895 305.862 L305.159 304.196 L309.835 304.196 L309.835 334.82 L317.474 334.82 L317.474 338.756 L297.566 338.756 L297.566 334.82 Z\" fill=\"#000000\" fill-rule=\"nonzero\" fill-opacity=\"1\" /><path clip-path=\"url(#clip990)\" d=\"M326.918 332.876 L331.802 332.876 L331.802 338.756 L326.918 338.756 L326.918 332.876 Z\" fill=\"#000000\" fill-rule=\"nonzero\" fill-opacity=\"1\" /><path clip-path=\"url(#clip990)\" d=\"M354.835 308.27 L343.029 326.719 L354.835 326.719 L354.835 308.27 M353.608 304.196 L359.487 304.196 L359.487 326.719 L364.418 326.719 L364.418 330.608 L359.487 330.608 L359.487 338.756 L354.835 338.756 L354.835 330.608 L339.233 330.608 L339.233 326.094 L353.608 304.196 Z\" fill=\"#000000\" fill-rule=\"nonzero\" fill-opacity=\"1\" /><path clip-path=\"url(#clip990)\" d=\"M372.196 304.196 L390.552 304.196 L390.552 308.131 L376.478 308.131 L376.478 316.603 Q377.496 316.256 378.515 316.094 Q379.533 315.909 380.552 315.909 Q386.339 315.909 389.719 319.08 Q393.098 322.251 393.098 327.668 Q393.098 333.246 389.626 336.348 Q386.154 339.427 379.834 339.427 Q377.658 339.427 375.39 339.057 Q373.145 338.686 370.737 337.945 L370.737 333.246 Q372.821 334.381 375.043 334.936 Q377.265 335.492 379.742 335.492 Q383.746 335.492 386.084 333.385 Q388.422 331.279 388.422 327.668 Q388.422 324.057 386.084 321.95 Q383.746 319.844 379.742 319.844 Q377.867 319.844 375.992 320.26 Q374.14 320.677 372.196 321.557 L372.196 304.196 Z\" fill=\"#000000\" fill-rule=\"nonzero\" fill-opacity=\"1\" /><path clip-path=\"url(#clip990)\" d=\"M158.216 856.001 L158.216 849.508 L198.384 839.514 L158.216 829.552 L158.216 822.327 L198.384 812.333 L158.216 802.37 L158.216 795.845 L205.736 807.781 L205.736 815.865 L164.487 825.891 L205.736 836.013 L205.736 844.097 L158.216 856.001 Z\" fill=\"#000000\" fill-rule=\"nonzero\" fill-opacity=\"1\" /><path clip-path=\"url(#clip990)\" d=\"M186.448 760.898 L189.313 760.898 L189.313 787.825 Q195.36 787.443 198.543 784.196 Q201.694 780.918 201.694 775.093 Q201.694 771.719 200.867 768.568 Q200.039 765.385 198.384 762.266 L203.922 762.266 Q205.259 765.417 205.959 768.727 Q206.659 772.038 206.659 775.443 Q206.659 783.973 201.694 788.97 Q196.729 793.936 188.263 793.936 Q179.51 793.936 174.385 789.225 Q169.229 784.483 169.229 776.462 Q169.229 769.268 173.876 765.099 Q178.491 760.898 186.448 760.898 M184.73 766.754 Q179.924 766.818 177.059 769.459 Q174.194 772.069 174.194 776.398 Q174.194 781.3 176.963 784.26 Q179.733 787.188 184.761 787.634 L184.73 766.754 Z\" fill=\"#000000\" fill-rule=\"nonzero\" fill-opacity=\"1\" /><path clip-path=\"url(#clip990)\" d=\"M156.211 751.285 L156.211 745.429 L205.736 745.429 L205.736 751.285 L156.211 751.285 Z\" fill=\"#000000\" fill-rule=\"nonzero\" fill-opacity=\"1\" /><path clip-path=\"url(#clip990)\" d=\"M156.211 715.128 L161.081 715.128 L161.081 720.73 Q161.081 723.881 162.354 725.122 Q163.627 726.332 166.937 726.332 L170.088 726.332 L170.088 716.688 L174.64 716.688 L174.64 726.332 L205.736 726.332 L205.736 732.22 L174.64 732.22 L174.64 737.822 L170.088 737.822 L170.088 732.22 L167.606 732.22 Q161.654 732.22 158.948 729.451 Q156.211 726.682 156.211 720.666 L156.211 715.128 Z\" fill=\"#000000\" fill-rule=\"nonzero\" fill-opacity=\"1\" /><path clip-path=\"url(#clip990)\" d=\"M187.817 694.026 Q187.817 701.124 189.44 703.861 Q191.063 706.598 194.978 706.598 Q198.098 706.598 199.944 704.561 Q201.758 702.492 201.758 698.959 Q201.758 694.09 198.32 691.161 Q194.851 688.201 189.122 688.201 L187.817 688.201 L187.817 694.026 M185.398 682.345 L205.736 682.345 L205.736 688.201 L200.326 688.201 Q203.572 690.206 205.132 693.198 Q206.659 696.19 206.659 700.519 Q206.659 705.993 203.604 709.24 Q200.517 712.455 195.36 712.455 Q189.345 712.455 186.289 708.444 Q183.234 704.402 183.234 696.413 L183.234 688.201 L182.661 688.201 Q178.619 688.201 176.422 690.875 Q174.194 693.517 174.194 698.323 Q174.194 701.378 174.926 704.275 Q175.658 707.171 177.123 709.845 L171.712 709.845 Q170.47 706.63 169.866 703.606 Q169.229 700.583 169.229 697.718 Q169.229 689.984 173.24 686.164 Q177.25 682.345 185.398 682.345 Z\" fill=\"#000000\" fill-rule=\"nonzero\" fill-opacity=\"1\" /><path clip-path=\"url(#clip990)\" d=\"M175.563 649.625 Q174.99 650.612 174.735 651.789 Q174.449 652.935 174.449 654.336 Q174.449 659.301 177.696 661.975 Q180.91 664.616 186.958 664.616 L205.736 664.616 L205.736 670.505 L170.088 670.505 L170.088 664.616 L175.627 664.616 Q172.38 662.77 170.821 659.81 Q169.229 656.85 169.229 652.617 Q169.229 652.012 169.325 651.28 Q169.388 650.548 169.547 649.657 L175.563 649.625 Z\" fill=\"#000000\" fill-rule=\"nonzero\" fill-opacity=\"1\" /><path clip-path=\"url(#clip990)\" d=\"M186.448 614.423 L189.313 614.423 L189.313 641.35 Q195.36 640.968 198.543 637.721 Q201.694 634.443 201.694 628.618 Q201.694 625.244 200.867 622.093 Q200.039 618.911 198.384 615.791 L203.922 615.791 Q205.259 618.942 205.959 622.253 Q206.659 625.563 206.659 628.968 Q206.659 637.498 201.694 642.495 Q196.729 647.461 188.263 647.461 Q179.51 647.461 174.385 642.75 Q169.229 638.008 169.229 629.987 Q169.229 622.794 173.876 618.624 Q178.491 614.423 186.448 614.423 M184.73 620.279 Q179.924 620.343 177.059 622.985 Q174.194 625.595 174.194 629.923 Q174.194 634.825 176.963 637.785 Q179.733 640.713 184.761 641.159 L184.73 620.279 Z\" fill=\"#000000\" fill-rule=\"nonzero\" fill-opacity=\"1\" /><polyline clip-path=\"url(#clip992)\" style=\"stroke:#009af9; stroke-linecap:round; stroke-linejoin:round; stroke-width:8; stroke-opacity:1; fill:none\" points=\"479.53,479.221 496.885,469.173 598.53,413.372 645.816,389.283 709.196,358.992 761.567,335.785 810.268,315.771 871.403,292.913 926.242,274.69 989.013,256.666 1035.93,245.305 1065.94,239.042 1095.95,233.598 1123.33,229.372 1150.72,225.882 1181.89,222.841 1213.06,220.836 1237.77,220.013 1262.48,219.895 1293.18,220.773 1323.87,222.838 1347.38,225.259 1370.89,228.439 1404.04,234.274 1437.18,241.774 1461.95,248.526 1486.72,256.311 1514.89,266.483 1543.06,278.135 1570.95,291.218 1598.85,305.929 1629.54,324.116 1660.23,344.545 1683.67,361.761 1707.11,380.461 1736.69,406.316 1766.28,434.873 1779.96,449.054 1793.64,463.883 1807.32,479.385 1821,495.588 1835.1,513.062 1849.21,531.344 1863.32,550.469 1877.43,570.475 1891.73,591.692 1906.03,613.9 1920.33,637.146 1934.63,661.48 1949.57,688.112 1964.5,716.057 1979.43,745.391 1994.36,776.19 2006.13,801.541 2017.89,827.899 2029.65,855.315 2041.42,883.838 2054.81,917.736 2068.2,953.232 2081.6,990.422 2094.99,1029.41 2108.39,1070.31 2121.78,1113.25 2135.18,1158.37 2148.57,1205.82 2151.58,1216.8 2154.58,1227.91 2157.59,1239.16 2160.59,1250.53 \"/>\n",
              "</svg>\n"
            ],
            "text/html": [
              "<?xml version=\"1.0\" encoding=\"utf-8\"?>\n",
              "<svg xmlns=\"http://www.w3.org/2000/svg\" xmlns:xlink=\"http://www.w3.org/1999/xlink\" width=\"600\" height=\"400\" viewBox=\"0 0 2400 1600\">\n",
              "<defs>\n",
              "  <clipPath id=\"clip040\">\n",
              "    <rect x=\"0\" y=\"0\" width=\"2400\" height=\"1600\"/>\n",
              "  </clipPath>\n",
              "</defs>\n",
              "<path clip-path=\"url(#clip040)\" d=\"M0 1600 L2400 1600 L2400 8.88178e-14 L0 8.88178e-14  Z\" fill=\"#ffffff\" fill-rule=\"evenodd\" fill-opacity=\"1\"/>\n",
              "<defs>\n",
              "  <clipPath id=\"clip041\">\n",
              "    <rect x=\"480\" y=\"0\" width=\"1681\" height=\"1600\"/>\n",
              "  </clipPath>\n",
              "</defs>\n",
              "<path clip-path=\"url(#clip040)\" d=\"M429.098 1281.45 L2211.02 1281.45 L2211.02 188.976 L429.098 188.976  Z\" fill=\"#ffffff\" fill-rule=\"evenodd\" fill-opacity=\"1\"/>\n",
              "<defs>\n",
              "  <clipPath id=\"clip042\">\n",
              "    <rect x=\"429\" y=\"188\" width=\"1783\" height=\"1093\"/>\n",
              "  </clipPath>\n",
              "</defs>\n",
              "<polyline clip-path=\"url(#clip042)\" style=\"stroke:#000000; stroke-linecap:round; stroke-linejoin:round; stroke-width:2; stroke-opacity:0.1; fill:none\" points=\"479.53,1281.45 479.53,188.976 \"/>\n",
              "<polyline clip-path=\"url(#clip042)\" style=\"stroke:#000000; stroke-linecap:round; stroke-linejoin:round; stroke-width:2; stroke-opacity:0.1; fill:none\" points=\"899.795,1281.45 899.795,188.976 \"/>\n",
              "<polyline clip-path=\"url(#clip042)\" style=\"stroke:#000000; stroke-linecap:round; stroke-linejoin:round; stroke-width:2; stroke-opacity:0.1; fill:none\" points=\"1320.06,1281.45 1320.06,188.976 \"/>\n",
              "<polyline clip-path=\"url(#clip042)\" style=\"stroke:#000000; stroke-linecap:round; stroke-linejoin:round; stroke-width:2; stroke-opacity:0.1; fill:none\" points=\"1740.33,1281.45 1740.33,188.976 \"/>\n",
              "<polyline clip-path=\"url(#clip042)\" style=\"stroke:#000000; stroke-linecap:round; stroke-linejoin:round; stroke-width:2; stroke-opacity:0.1; fill:none\" points=\"2160.59,1281.45 2160.59,188.976 \"/>\n",
              "<polyline clip-path=\"url(#clip042)\" style=\"stroke:#000000; stroke-linecap:round; stroke-linejoin:round; stroke-width:2; stroke-opacity:0.1; fill:none\" points=\"429.098,1231.05 2211.02,1231.05 \"/>\n",
              "<polyline clip-path=\"url(#clip042)\" style=\"stroke:#000000; stroke-linecap:round; stroke-linejoin:round; stroke-width:2; stroke-opacity:0.1; fill:none\" points=\"429.098,927.86 2211.02,927.86 \"/>\n",
              "<polyline clip-path=\"url(#clip042)\" style=\"stroke:#000000; stroke-linecap:round; stroke-linejoin:round; stroke-width:2; stroke-opacity:0.1; fill:none\" points=\"429.098,624.668 2211.02,624.668 \"/>\n",
              "<polyline clip-path=\"url(#clip042)\" style=\"stroke:#000000; stroke-linecap:round; stroke-linejoin:round; stroke-width:2; stroke-opacity:0.1; fill:none\" points=\"429.098,321.476 2211.02,321.476 \"/>\n",
              "<polyline clip-path=\"url(#clip040)\" style=\"stroke:#000000; stroke-linecap:round; stroke-linejoin:round; stroke-width:4; stroke-opacity:1; fill:none\" points=\"429.098,1281.45 2211.02,1281.45 \"/>\n",
              "<polyline clip-path=\"url(#clip040)\" style=\"stroke:#000000; stroke-linecap:round; stroke-linejoin:round; stroke-width:4; stroke-opacity:1; fill:none\" points=\"479.53,1281.45 479.53,1262.55 \"/>\n",
              "<polyline clip-path=\"url(#clip040)\" style=\"stroke:#000000; stroke-linecap:round; stroke-linejoin:round; stroke-width:4; stroke-opacity:1; fill:none\" points=\"899.795,1281.45 899.795,1262.55 \"/>\n",
              "<polyline clip-path=\"url(#clip040)\" style=\"stroke:#000000; stroke-linecap:round; stroke-linejoin:round; stroke-width:4; stroke-opacity:1; fill:none\" points=\"1320.06,1281.45 1320.06,1262.55 \"/>\n",
              "<polyline clip-path=\"url(#clip040)\" style=\"stroke:#000000; stroke-linecap:round; stroke-linejoin:round; stroke-width:4; stroke-opacity:1; fill:none\" points=\"1740.33,1281.45 1740.33,1262.55 \"/>\n",
              "<polyline clip-path=\"url(#clip040)\" style=\"stroke:#000000; stroke-linecap:round; stroke-linejoin:round; stroke-width:4; stroke-opacity:1; fill:none\" points=\"2160.59,1281.45 2160.59,1262.55 \"/>\n",
              "<path clip-path=\"url(#clip040)\" d=\"M456.914 1312.37 Q453.303 1312.37 451.475 1315.93 Q449.669 1319.47 449.669 1326.6 Q449.669 1333.71 451.475 1337.27 Q453.303 1340.82 456.914 1340.82 Q460.549 1340.82 462.354 1337.27 Q464.183 1333.71 464.183 1326.6 Q464.183 1319.47 462.354 1315.93 Q460.549 1312.37 456.914 1312.37 M456.914 1308.66 Q462.725 1308.66 465.78 1313.27 Q468.859 1317.85 468.859 1326.6 Q468.859 1335.33 465.78 1339.94 Q462.725 1344.52 456.914 1344.52 Q451.104 1344.52 448.026 1339.94 Q444.97 1335.33 444.97 1326.6 Q444.97 1317.85 448.026 1313.27 Q451.104 1308.66 456.914 1308.66 Z\" fill=\"#000000\" fill-rule=\"nonzero\" fill-opacity=\"1\" /><path clip-path=\"url(#clip040)\" d=\"M477.076 1337.97 L481.961 1337.97 L481.961 1343.85 L477.076 1343.85 L477.076 1337.97 Z\" fill=\"#000000\" fill-rule=\"nonzero\" fill-opacity=\"1\" /><path clip-path=\"url(#clip040)\" d=\"M502.146 1312.37 Q498.535 1312.37 496.706 1315.93 Q494.9 1319.47 494.9 1326.6 Q494.9 1333.71 496.706 1337.27 Q498.535 1340.82 502.146 1340.82 Q505.78 1340.82 507.585 1337.27 Q509.414 1333.71 509.414 1326.6 Q509.414 1319.47 507.585 1315.93 Q505.78 1312.37 502.146 1312.37 M502.146 1308.66 Q507.956 1308.66 511.011 1313.27 Q514.09 1317.85 514.09 1326.6 Q514.09 1335.33 511.011 1339.94 Q507.956 1344.52 502.146 1344.52 Q496.336 1344.52 493.257 1339.94 Q490.201 1335.33 490.201 1326.6 Q490.201 1317.85 493.257 1313.27 Q496.336 1308.66 502.146 1308.66 Z\" fill=\"#000000\" fill-rule=\"nonzero\" fill-opacity=\"1\" /><path clip-path=\"url(#clip040)\" d=\"M877.978 1312.37 Q874.367 1312.37 872.539 1315.93 Q870.733 1319.47 870.733 1326.6 Q870.733 1333.71 872.539 1337.27 Q874.367 1340.82 877.978 1340.82 Q881.613 1340.82 883.418 1337.27 Q885.247 1333.71 885.247 1326.6 Q885.247 1319.47 883.418 1315.93 Q881.613 1312.37 877.978 1312.37 M877.978 1308.66 Q883.789 1308.66 886.844 1313.27 Q889.923 1317.85 889.923 1326.6 Q889.923 1335.33 886.844 1339.94 Q883.789 1344.52 877.978 1344.52 Q872.168 1344.52 869.09 1339.94 Q866.034 1335.33 866.034 1326.6 Q866.034 1317.85 869.09 1313.27 Q872.168 1308.66 877.978 1308.66 Z\" fill=\"#000000\" fill-rule=\"nonzero\" fill-opacity=\"1\" /><path clip-path=\"url(#clip040)\" d=\"M898.14 1337.97 L903.025 1337.97 L903.025 1343.85 L898.14 1343.85 L898.14 1337.97 Z\" fill=\"#000000\" fill-rule=\"nonzero\" fill-opacity=\"1\" /><path clip-path=\"url(#clip040)\" d=\"M917.238 1339.91 L933.557 1339.91 L933.557 1343.85 L911.613 1343.85 L911.613 1339.91 Q914.275 1337.16 918.858 1332.53 Q923.464 1327.88 924.645 1326.53 Q926.89 1324.01 927.77 1322.27 Q928.673 1320.51 928.673 1318.82 Q928.673 1316.07 926.728 1314.33 Q924.807 1312.6 921.705 1312.6 Q919.506 1312.6 917.052 1313.36 Q914.622 1314.13 911.844 1315.68 L911.844 1310.95 Q914.668 1309.82 917.122 1309.24 Q919.575 1308.66 921.612 1308.66 Q926.983 1308.66 930.177 1311.35 Q933.372 1314.03 933.372 1318.52 Q933.372 1320.65 932.562 1322.57 Q931.774 1324.47 929.668 1327.07 Q929.089 1327.74 925.987 1330.95 Q922.886 1334.15 917.238 1339.91 Z\" fill=\"#000000\" fill-rule=\"nonzero\" fill-opacity=\"1\" /><path clip-path=\"url(#clip040)\" d=\"M1297.2 1312.37 Q1293.59 1312.37 1291.76 1315.93 Q1289.96 1319.47 1289.96 1326.6 Q1289.96 1333.71 1291.76 1337.27 Q1293.59 1340.82 1297.2 1340.82 Q1300.84 1340.82 1302.64 1337.27 Q1304.47 1333.71 1304.47 1326.6 Q1304.47 1319.47 1302.64 1315.93 Q1300.84 1312.37 1297.2 1312.37 M1297.2 1308.66 Q1303.01 1308.66 1306.07 1313.27 Q1309.15 1317.85 1309.15 1326.6 Q1309.15 1335.33 1306.07 1339.94 Q1303.01 1344.52 1297.2 1344.52 Q1291.39 1344.52 1288.31 1339.94 Q1285.26 1335.33 1285.26 1326.6 Q1285.26 1317.85 1288.31 1313.27 Q1291.39 1308.66 1297.2 1308.66 Z\" fill=\"#000000\" fill-rule=\"nonzero\" fill-opacity=\"1\" /><path clip-path=\"url(#clip040)\" d=\"M1317.36 1337.97 L1322.25 1337.97 L1322.25 1343.85 L1317.36 1343.85 L1317.36 1337.97 Z\" fill=\"#000000\" fill-rule=\"nonzero\" fill-opacity=\"1\" /><path clip-path=\"url(#clip040)\" d=\"M1345.28 1313.36 L1333.48 1331.81 L1345.28 1331.81 L1345.28 1313.36 M1344.05 1309.29 L1349.93 1309.29 L1349.93 1331.81 L1354.86 1331.81 L1354.86 1335.7 L1349.93 1335.7 L1349.93 1343.85 L1345.28 1343.85 L1345.28 1335.7 L1329.68 1335.7 L1329.68 1331.19 L1344.05 1309.29 Z\" fill=\"#000000\" fill-rule=\"nonzero\" fill-opacity=\"1\" /><path clip-path=\"url(#clip040)\" d=\"M1717.63 1312.37 Q1714.02 1312.37 1712.19 1315.93 Q1710.38 1319.47 1710.38 1326.6 Q1710.38 1333.71 1712.19 1337.27 Q1714.02 1340.82 1717.63 1340.82 Q1721.26 1340.82 1723.07 1337.27 Q1724.9 1333.71 1724.9 1326.6 Q1724.9 1319.47 1723.07 1315.93 Q1721.26 1312.37 1717.63 1312.37 M1717.63 1308.66 Q1723.44 1308.66 1726.5 1313.27 Q1729.57 1317.85 1729.57 1326.6 Q1729.57 1335.33 1726.5 1339.94 Q1723.44 1344.52 1717.63 1344.52 Q1711.82 1344.52 1708.74 1339.94 Q1705.69 1335.33 1705.69 1326.6 Q1705.69 1317.85 1708.74 1313.27 Q1711.82 1308.66 1717.63 1308.66 Z\" fill=\"#000000\" fill-rule=\"nonzero\" fill-opacity=\"1\" /><path clip-path=\"url(#clip040)\" d=\"M1737.79 1337.97 L1742.68 1337.97 L1742.68 1343.85 L1737.79 1343.85 L1737.79 1337.97 Z\" fill=\"#000000\" fill-rule=\"nonzero\" fill-opacity=\"1\" /><path clip-path=\"url(#clip040)\" d=\"M1763.44 1324.7 Q1760.29 1324.7 1758.44 1326.86 Q1756.61 1329.01 1756.61 1332.76 Q1756.61 1336.49 1758.44 1338.66 Q1760.29 1340.82 1763.44 1340.82 Q1766.59 1340.82 1768.42 1338.66 Q1770.27 1336.49 1770.27 1332.76 Q1770.27 1329.01 1768.42 1326.86 Q1766.59 1324.7 1763.44 1324.7 M1772.72 1310.05 L1772.72 1314.31 Q1770.96 1313.48 1769.16 1313.04 Q1767.37 1312.6 1765.62 1312.6 Q1760.99 1312.6 1758.53 1315.72 Q1756.1 1318.85 1755.75 1325.17 Q1757.12 1323.15 1759.18 1322.09 Q1761.24 1321 1763.72 1321 Q1768.93 1321 1771.93 1324.17 Q1774.97 1327.32 1774.97 1332.76 Q1774.97 1338.08 1771.82 1341.3 Q1768.67 1344.52 1763.44 1344.52 Q1757.44 1344.52 1754.27 1339.94 Q1751.1 1335.33 1751.1 1326.6 Q1751.1 1318.41 1754.99 1313.55 Q1758.88 1308.66 1765.43 1308.66 Q1767.19 1308.66 1768.97 1309.01 Q1770.78 1309.36 1772.72 1310.05 Z\" fill=\"#000000\" fill-rule=\"nonzero\" fill-opacity=\"1\" /><path clip-path=\"url(#clip040)\" d=\"M2138.02 1312.37 Q2134.41 1312.37 2132.58 1315.93 Q2130.78 1319.47 2130.78 1326.6 Q2130.78 1333.71 2132.58 1337.27 Q2134.41 1340.82 2138.02 1340.82 Q2141.66 1340.82 2143.46 1337.27 Q2145.29 1333.71 2145.29 1326.6 Q2145.29 1319.47 2143.46 1315.93 Q2141.66 1312.37 2138.02 1312.37 M2138.02 1308.66 Q2143.83 1308.66 2146.89 1313.27 Q2149.97 1317.85 2149.97 1326.6 Q2149.97 1335.33 2146.89 1339.94 Q2143.83 1344.52 2138.02 1344.52 Q2132.21 1344.52 2129.13 1339.94 Q2126.08 1335.33 2126.08 1326.6 Q2126.08 1317.85 2129.13 1313.27 Q2132.21 1308.66 2138.02 1308.66 Z\" fill=\"#000000\" fill-rule=\"nonzero\" fill-opacity=\"1\" /><path clip-path=\"url(#clip040)\" d=\"M2158.18 1337.97 L2163.07 1337.97 L2163.07 1343.85 L2158.18 1343.85 L2158.18 1337.97 Z\" fill=\"#000000\" fill-rule=\"nonzero\" fill-opacity=\"1\" /><path clip-path=\"url(#clip040)\" d=\"M2183.25 1327.44 Q2179.92 1327.44 2178 1329.22 Q2176.1 1331 2176.1 1334.13 Q2176.1 1337.25 2178 1339.03 Q2179.92 1340.82 2183.25 1340.82 Q2186.59 1340.82 2188.51 1339.03 Q2190.43 1337.23 2190.43 1334.13 Q2190.43 1331 2188.51 1329.22 Q2186.61 1327.44 2183.25 1327.44 M2178.58 1325.44 Q2175.57 1324.7 2173.88 1322.64 Q2172.21 1320.58 2172.21 1317.62 Q2172.21 1313.48 2175.15 1311.07 Q2178.11 1308.66 2183.25 1308.66 Q2188.42 1308.66 2191.36 1311.07 Q2194.3 1313.48 2194.3 1317.62 Q2194.3 1320.58 2192.61 1322.64 Q2190.94 1324.7 2187.95 1325.44 Q2191.33 1326.23 2193.21 1328.52 Q2195.11 1330.82 2195.11 1334.13 Q2195.11 1339.15 2192.03 1341.83 Q2188.97 1344.52 2183.25 1344.52 Q2177.54 1344.52 2174.46 1341.83 Q2171.4 1339.15 2171.4 1334.13 Q2171.4 1330.82 2173.3 1328.52 Q2175.2 1326.23 2178.58 1325.44 M2176.86 1318.06 Q2176.86 1320.75 2178.53 1322.25 Q2180.22 1323.76 2183.25 1323.76 Q2186.26 1323.76 2187.95 1322.25 Q2189.67 1320.75 2189.67 1318.06 Q2189.67 1315.38 2187.95 1313.87 Q2186.26 1312.37 2183.25 1312.37 Q2180.22 1312.37 2178.53 1313.87 Q2176.86 1315.38 2176.86 1318.06 Z\" fill=\"#000000\" fill-rule=\"nonzero\" fill-opacity=\"1\" /><path clip-path=\"url(#clip040)\" d=\"M1182.83 1378.79 L1223.03 1378.79 L1223.03 1384.2 L1206.16 1384.2 L1206.16 1426.31 L1199.7 1426.31 L1199.7 1384.2 L1182.83 1384.2 L1182.83 1378.79 Z\" fill=\"#000000\" fill-rule=\"nonzero\" fill-opacity=\"1\" /><path clip-path=\"url(#clip040)\" d=\"M1234.39 1408.39 Q1227.3 1408.39 1224.56 1410.02 Q1221.82 1411.64 1221.82 1415.55 Q1221.82 1418.67 1223.86 1420.52 Q1225.93 1422.33 1229.46 1422.33 Q1234.33 1422.33 1237.26 1418.9 Q1240.22 1415.43 1240.22 1409.7 L1240.22 1408.39 L1234.39 1408.39 M1246.08 1405.97 L1246.08 1426.31 L1240.22 1426.31 L1240.22 1420.9 Q1238.21 1424.15 1235.22 1425.71 Q1232.23 1427.23 1227.9 1427.23 Q1222.43 1427.23 1219.18 1424.18 Q1215.97 1421.09 1215.97 1415.94 Q1215.97 1409.92 1219.98 1406.86 Q1224.02 1403.81 1232.01 1403.81 L1240.22 1403.81 L1240.22 1403.24 Q1240.22 1399.19 1237.55 1397 Q1234.9 1394.77 1230.1 1394.77 Q1227.04 1394.77 1224.15 1395.5 Q1221.25 1396.23 1218.58 1397.7 L1218.58 1392.29 Q1221.79 1391.05 1224.81 1390.44 Q1227.84 1389.8 1230.7 1389.8 Q1238.44 1389.8 1242.26 1393.81 Q1246.08 1397.83 1246.08 1405.97 Z\" fill=\"#000000\" fill-rule=\"nonzero\" fill-opacity=\"1\" /><path clip-path=\"url(#clip040)\" d=\"M1287.77 1390.66 L1274.88 1408.01 L1288.44 1426.31 L1281.53 1426.31 L1271.16 1412.31 L1260.78 1426.31 L1253.87 1426.31 L1267.72 1407.66 L1255.05 1390.66 L1261.96 1390.66 L1271.41 1403.36 L1280.86 1390.66 L1287.77 1390.66 Z\" fill=\"#000000\" fill-rule=\"nonzero\" fill-opacity=\"1\" /><path clip-path=\"url(#clip040)\" d=\"M1340.22 1404.03 Q1342.29 1404.73 1344.23 1407.02 Q1346.21 1409.32 1348.18 1413.33 L1354.71 1426.31 L1347.8 1426.31 L1341.72 1414.12 Q1339.36 1409.35 1337.14 1407.79 Q1334.94 1406.23 1331.12 1406.23 L1324.12 1406.23 L1324.12 1426.31 L1317.69 1426.31 L1317.69 1378.79 L1332.2 1378.79 Q1340.35 1378.79 1344.36 1382.2 Q1348.37 1385.6 1348.37 1392.48 Q1348.37 1396.97 1346.27 1399.93 Q1344.2 1402.89 1340.22 1404.03 M1324.12 1384.08 L1324.12 1400.94 L1332.2 1400.94 Q1336.85 1400.94 1339.21 1398.81 Q1341.59 1396.65 1341.59 1392.48 Q1341.59 1388.31 1339.21 1386.21 Q1336.85 1384.08 1332.2 1384.08 L1324.12 1384.08 Z\" fill=\"#000000\" fill-rule=\"nonzero\" fill-opacity=\"1\" /><path clip-path=\"url(#clip040)\" d=\"M1377.5 1408.39 Q1370.4 1408.39 1367.66 1410.02 Q1364.92 1411.64 1364.92 1415.55 Q1364.92 1418.67 1366.96 1420.52 Q1369.03 1422.33 1372.56 1422.33 Q1377.43 1422.33 1380.36 1418.9 Q1383.32 1415.43 1383.32 1409.7 L1383.32 1408.39 L1377.5 1408.39 M1389.18 1405.97 L1389.18 1426.31 L1383.32 1426.31 L1383.32 1420.9 Q1381.31 1424.15 1378.32 1425.71 Q1375.33 1427.23 1371 1427.23 Q1365.53 1427.23 1362.28 1424.18 Q1359.07 1421.09 1359.07 1415.94 Q1359.07 1409.92 1363.08 1406.86 Q1367.12 1403.81 1375.11 1403.81 L1383.32 1403.81 L1383.32 1403.24 Q1383.32 1399.19 1380.65 1397 Q1378 1394.77 1373.2 1394.77 Q1370.14 1394.77 1367.25 1395.5 Q1364.35 1396.23 1361.68 1397.7 L1361.68 1392.29 Q1364.89 1391.05 1367.92 1390.44 Q1370.94 1389.8 1373.8 1389.8 Q1381.54 1389.8 1385.36 1393.81 Q1389.18 1397.83 1389.18 1405.97 Z\" fill=\"#000000\" fill-rule=\"nonzero\" fill-opacity=\"1\" /><path clip-path=\"url(#clip040)\" d=\"M1407.03 1380.54 L1407.03 1390.66 L1419.1 1390.66 L1419.1 1395.22 L1407.03 1395.22 L1407.03 1414.57 Q1407.03 1418.93 1408.21 1420.17 Q1409.42 1421.41 1413.08 1421.41 L1419.1 1421.41 L1419.1 1426.31 L1413.08 1426.31 Q1406.3 1426.31 1403.72 1423.8 Q1401.14 1421.25 1401.14 1414.57 L1401.14 1395.22 L1396.85 1395.22 L1396.85 1390.66 L1401.14 1390.66 L1401.14 1380.54 L1407.03 1380.54 Z\" fill=\"#000000\" fill-rule=\"nonzero\" fill-opacity=\"1\" /><path clip-path=\"url(#clip040)\" d=\"M1457.29 1407.02 L1457.29 1409.89 L1430.36 1409.89 Q1430.74 1415.94 1433.99 1419.12 Q1437.27 1422.27 1443.09 1422.27 Q1446.47 1422.27 1449.62 1421.44 Q1452.8 1420.61 1455.92 1418.96 L1455.92 1424.5 Q1452.77 1425.83 1449.46 1426.53 Q1446.15 1427.23 1442.74 1427.23 Q1434.21 1427.23 1429.22 1422.27 Q1424.25 1417.3 1424.25 1408.84 Q1424.25 1400.08 1428.96 1394.96 Q1433.7 1389.8 1441.73 1389.8 Q1448.92 1389.8 1453.09 1394.45 Q1457.29 1399.07 1457.29 1407.02 M1451.43 1405.3 Q1451.37 1400.5 1448.73 1397.63 Q1446.12 1394.77 1441.79 1394.77 Q1436.89 1394.77 1433.93 1397.54 Q1431 1400.31 1430.55 1405.34 L1451.43 1405.3 Z\" fill=\"#000000\" fill-rule=\"nonzero\" fill-opacity=\"1\" /><polyline clip-path=\"url(#clip040)\" style=\"stroke:#000000; stroke-linecap:round; stroke-linejoin:round; stroke-width:4; stroke-opacity:1; fill:none\" points=\"429.098,1281.45 429.098,188.976 \"/>\n",
              "<polyline clip-path=\"url(#clip040)\" style=\"stroke:#000000; stroke-linecap:round; stroke-linejoin:round; stroke-width:4; stroke-opacity:1; fill:none\" points=\"429.098,1231.05 447.996,1231.05 \"/>\n",
              "<polyline clip-path=\"url(#clip040)\" style=\"stroke:#000000; stroke-linecap:round; stroke-linejoin:round; stroke-width:4; stroke-opacity:1; fill:none\" points=\"429.098,927.86 447.996,927.86 \"/>\n",
              "<polyline clip-path=\"url(#clip040)\" style=\"stroke:#000000; stroke-linecap:round; stroke-linejoin:round; stroke-width:4; stroke-opacity:1; fill:none\" points=\"429.098,624.668 447.996,624.668 \"/>\n",
              "<polyline clip-path=\"url(#clip040)\" style=\"stroke:#000000; stroke-linecap:round; stroke-linejoin:round; stroke-width:4; stroke-opacity:1; fill:none\" points=\"429.098,321.476 447.996,321.476 \"/>\n",
              "<path clip-path=\"url(#clip040)\" d=\"M255.992 1231.5 L285.668 1231.5 L285.668 1235.44 L255.992 1235.44 L255.992 1231.5 Z\" fill=\"#000000\" fill-rule=\"nonzero\" fill-opacity=\"1\" /><path clip-path=\"url(#clip040)\" d=\"M296.571 1244.4 L304.21 1244.4 L304.21 1218.03 L295.9 1219.7 L295.9 1215.44 L304.163 1213.77 L308.839 1213.77 L308.839 1244.4 L316.478 1244.4 L316.478 1248.33 L296.571 1248.33 L296.571 1244.4 Z\" fill=\"#000000\" fill-rule=\"nonzero\" fill-opacity=\"1\" /><path clip-path=\"url(#clip040)\" d=\"M325.923 1242.45 L330.807 1242.45 L330.807 1248.33 L325.923 1248.33 L325.923 1242.45 Z\" fill=\"#000000\" fill-rule=\"nonzero\" fill-opacity=\"1\" /><path clip-path=\"url(#clip040)\" d=\"M351.571 1229.19 Q348.423 1229.19 346.571 1231.34 Q344.742 1233.49 344.742 1237.24 Q344.742 1240.97 346.571 1243.15 Q348.423 1245.3 351.571 1245.3 Q354.719 1245.3 356.547 1243.15 Q358.399 1240.97 358.399 1237.24 Q358.399 1233.49 356.547 1231.34 Q354.719 1229.19 351.571 1229.19 M360.853 1214.54 L360.853 1218.8 Q359.094 1217.96 357.288 1217.52 Q355.506 1217.08 353.747 1217.08 Q349.117 1217.08 346.663 1220.21 Q344.233 1223.33 343.885 1229.65 Q345.251 1227.64 347.311 1226.57 Q349.372 1225.49 351.848 1225.49 Q357.057 1225.49 360.066 1228.66 Q363.098 1231.81 363.098 1237.24 Q363.098 1242.57 359.95 1245.79 Q356.802 1249 351.571 1249 Q345.575 1249 342.404 1244.42 Q339.233 1239.81 339.233 1231.09 Q339.233 1222.89 343.122 1218.03 Q347.01 1213.15 353.561 1213.15 Q355.321 1213.15 357.103 1213.5 Q358.909 1213.84 360.853 1214.54 Z\" fill=\"#000000\" fill-rule=\"nonzero\" fill-opacity=\"1\" /><path clip-path=\"url(#clip040)\" d=\"M381.154 1216.85 Q377.543 1216.85 375.714 1220.42 Q373.908 1223.96 373.908 1231.09 Q373.908 1238.19 375.714 1241.76 Q377.543 1245.3 381.154 1245.3 Q384.788 1245.3 386.594 1241.76 Q388.422 1238.19 388.422 1231.09 Q388.422 1223.96 386.594 1220.42 Q384.788 1216.85 381.154 1216.85 M381.154 1213.15 Q386.964 1213.15 390.02 1217.75 Q393.098 1222.34 393.098 1231.09 Q393.098 1239.81 390.02 1244.42 Q386.964 1249 381.154 1249 Q375.344 1249 372.265 1244.42 Q369.209 1239.81 369.209 1231.09 Q369.209 1222.34 372.265 1217.75 Q375.344 1213.15 381.154 1213.15 Z\" fill=\"#000000\" fill-rule=\"nonzero\" fill-opacity=\"1\" /><path clip-path=\"url(#clip040)\" d=\"M256.988 928.312 L286.664 928.312 L286.664 932.247 L256.988 932.247 L256.988 928.312 Z\" fill=\"#000000\" fill-rule=\"nonzero\" fill-opacity=\"1\" /><path clip-path=\"url(#clip040)\" d=\"M297.566 941.205 L305.205 941.205 L305.205 914.84 L296.895 916.506 L296.895 912.247 L305.159 910.58 L309.835 910.58 L309.835 941.205 L317.474 941.205 L317.474 945.14 L297.566 945.14 L297.566 941.205 Z\" fill=\"#000000\" fill-rule=\"nonzero\" fill-opacity=\"1\" /><path clip-path=\"url(#clip040)\" d=\"M326.918 939.261 L331.802 939.261 L331.802 945.14 L326.918 945.14 L326.918 939.261 Z\" fill=\"#000000\" fill-rule=\"nonzero\" fill-opacity=\"1\" /><path clip-path=\"url(#clip040)\" d=\"M342.034 910.58 L360.39 910.58 L360.39 914.516 L346.316 914.516 L346.316 922.988 Q347.335 922.641 348.353 922.479 Q349.372 922.293 350.39 922.293 Q356.177 922.293 359.557 925.465 Q362.936 928.636 362.936 934.053 Q362.936 939.631 359.464 942.733 Q355.992 945.812 349.672 945.812 Q347.497 945.812 345.228 945.441 Q342.983 945.071 340.575 944.33 L340.575 939.631 Q342.659 940.765 344.881 941.321 Q347.103 941.877 349.58 941.877 Q353.585 941.877 355.922 939.77 Q358.26 937.664 358.26 934.053 Q358.26 930.441 355.922 928.335 Q353.585 926.229 349.58 926.229 Q347.705 926.229 345.83 926.645 Q343.978 927.062 342.034 927.941 L342.034 910.58 Z\" fill=\"#000000\" fill-rule=\"nonzero\" fill-opacity=\"1\" /><path clip-path=\"url(#clip040)\" d=\"M372.196 910.58 L390.552 910.58 L390.552 914.516 L376.478 914.516 L376.478 922.988 Q377.496 922.641 378.515 922.479 Q379.533 922.293 380.552 922.293 Q386.339 922.293 389.719 925.465 Q393.098 928.636 393.098 934.053 Q393.098 939.631 389.626 942.733 Q386.154 945.812 379.834 945.812 Q377.658 945.812 375.39 945.441 Q373.145 945.071 370.737 944.33 L370.737 939.631 Q372.821 940.765 375.043 941.321 Q377.265 941.877 379.742 941.877 Q383.746 941.877 386.084 939.77 Q388.422 937.664 388.422 934.053 Q388.422 930.441 386.084 928.335 Q383.746 926.229 379.742 926.229 Q377.867 926.229 375.992 926.645 Q374.14 927.062 372.196 927.941 L372.196 910.58 Z\" fill=\"#000000\" fill-rule=\"nonzero\" fill-opacity=\"1\" /><path clip-path=\"url(#clip040)\" d=\"M255.992 625.119 L285.668 625.119 L285.668 629.055 L255.992 629.055 L255.992 625.119 Z\" fill=\"#000000\" fill-rule=\"nonzero\" fill-opacity=\"1\" /><path clip-path=\"url(#clip040)\" d=\"M296.571 638.013 L304.21 638.013 L304.21 611.647 L295.9 613.314 L295.9 609.055 L304.163 607.388 L308.839 607.388 L308.839 638.013 L316.478 638.013 L316.478 641.948 L296.571 641.948 L296.571 638.013 Z\" fill=\"#000000\" fill-rule=\"nonzero\" fill-opacity=\"1\" /><path clip-path=\"url(#clip040)\" d=\"M325.923 636.068 L330.807 636.068 L330.807 641.948 L325.923 641.948 L325.923 636.068 Z\" fill=\"#000000\" fill-rule=\"nonzero\" fill-opacity=\"1\" /><path clip-path=\"url(#clip040)\" d=\"M341.038 607.388 L359.395 607.388 L359.395 611.323 L345.321 611.323 L345.321 619.795 Q346.339 619.448 347.358 619.286 Q348.376 619.101 349.395 619.101 Q355.182 619.101 358.561 622.272 Q361.941 625.444 361.941 630.86 Q361.941 636.439 358.469 639.541 Q354.997 642.619 348.677 642.619 Q346.501 642.619 344.233 642.249 Q341.987 641.879 339.58 641.138 L339.58 636.439 Q341.663 637.573 343.885 638.129 Q346.108 638.684 348.585 638.684 Q352.589 638.684 354.927 636.578 Q357.265 634.471 357.265 630.86 Q357.265 627.249 354.927 625.143 Q352.589 623.036 348.585 623.036 Q346.71 623.036 344.835 623.453 Q342.983 623.869 341.038 624.749 L341.038 607.388 Z\" fill=\"#000000\" fill-rule=\"nonzero\" fill-opacity=\"1\" /><path clip-path=\"url(#clip040)\" d=\"M381.154 610.467 Q377.543 610.467 375.714 614.032 Q373.908 617.573 373.908 624.703 Q373.908 631.809 375.714 635.374 Q377.543 638.916 381.154 638.916 Q384.788 638.916 386.594 635.374 Q388.422 631.809 388.422 624.703 Q388.422 617.573 386.594 614.032 Q384.788 610.467 381.154 610.467 M381.154 606.763 Q386.964 606.763 390.02 611.37 Q393.098 615.953 393.098 624.703 Q393.098 633.43 390.02 638.036 Q386.964 642.619 381.154 642.619 Q375.344 642.619 372.265 638.036 Q369.209 633.43 369.209 624.703 Q369.209 615.953 372.265 611.37 Q375.344 606.763 381.154 606.763 Z\" fill=\"#000000\" fill-rule=\"nonzero\" fill-opacity=\"1\" /><path clip-path=\"url(#clip040)\" d=\"M256.988 321.927 L286.664 321.927 L286.664 325.862 L256.988 325.862 L256.988 321.927 Z\" fill=\"#000000\" fill-rule=\"nonzero\" fill-opacity=\"1\" /><path clip-path=\"url(#clip040)\" d=\"M297.566 334.82 L305.205 334.82 L305.205 308.455 L296.895 310.122 L296.895 305.862 L305.159 304.196 L309.835 304.196 L309.835 334.82 L317.474 334.82 L317.474 338.756 L297.566 338.756 L297.566 334.82 Z\" fill=\"#000000\" fill-rule=\"nonzero\" fill-opacity=\"1\" /><path clip-path=\"url(#clip040)\" d=\"M326.918 332.876 L331.802 332.876 L331.802 338.756 L326.918 338.756 L326.918 332.876 Z\" fill=\"#000000\" fill-rule=\"nonzero\" fill-opacity=\"1\" /><path clip-path=\"url(#clip040)\" d=\"M354.835 308.27 L343.029 326.719 L354.835 326.719 L354.835 308.27 M353.608 304.196 L359.487 304.196 L359.487 326.719 L364.418 326.719 L364.418 330.608 L359.487 330.608 L359.487 338.756 L354.835 338.756 L354.835 330.608 L339.233 330.608 L339.233 326.094 L353.608 304.196 Z\" fill=\"#000000\" fill-rule=\"nonzero\" fill-opacity=\"1\" /><path clip-path=\"url(#clip040)\" d=\"M372.196 304.196 L390.552 304.196 L390.552 308.131 L376.478 308.131 L376.478 316.603 Q377.496 316.256 378.515 316.094 Q379.533 315.909 380.552 315.909 Q386.339 315.909 389.719 319.08 Q393.098 322.251 393.098 327.668 Q393.098 333.246 389.626 336.348 Q386.154 339.427 379.834 339.427 Q377.658 339.427 375.39 339.057 Q373.145 338.686 370.737 337.945 L370.737 333.246 Q372.821 334.381 375.043 334.936 Q377.265 335.492 379.742 335.492 Q383.746 335.492 386.084 333.385 Q388.422 331.279 388.422 327.668 Q388.422 324.057 386.084 321.95 Q383.746 319.844 379.742 319.844 Q377.867 319.844 375.992 320.26 Q374.14 320.677 372.196 321.557 L372.196 304.196 Z\" fill=\"#000000\" fill-rule=\"nonzero\" fill-opacity=\"1\" /><path clip-path=\"url(#clip040)\" d=\"M158.216 856.001 L158.216 849.508 L198.384 839.514 L158.216 829.552 L158.216 822.327 L198.384 812.333 L158.216 802.37 L158.216 795.845 L205.736 807.781 L205.736 815.865 L164.487 825.891 L205.736 836.013 L205.736 844.097 L158.216 856.001 Z\" fill=\"#000000\" fill-rule=\"nonzero\" fill-opacity=\"1\" /><path clip-path=\"url(#clip040)\" d=\"M186.448 760.898 L189.313 760.898 L189.313 787.825 Q195.36 787.443 198.543 784.196 Q201.694 780.918 201.694 775.093 Q201.694 771.719 200.867 768.568 Q200.039 765.385 198.384 762.266 L203.922 762.266 Q205.259 765.417 205.959 768.727 Q206.659 772.038 206.659 775.443 Q206.659 783.973 201.694 788.97 Q196.729 793.936 188.263 793.936 Q179.51 793.936 174.385 789.225 Q169.229 784.483 169.229 776.462 Q169.229 769.268 173.876 765.099 Q178.491 760.898 186.448 760.898 M184.73 766.754 Q179.924 766.818 177.059 769.459 Q174.194 772.069 174.194 776.398 Q174.194 781.3 176.963 784.26 Q179.733 787.188 184.761 787.634 L184.73 766.754 Z\" fill=\"#000000\" fill-rule=\"nonzero\" fill-opacity=\"1\" /><path clip-path=\"url(#clip040)\" d=\"M156.211 751.285 L156.211 745.429 L205.736 745.429 L205.736 751.285 L156.211 751.285 Z\" fill=\"#000000\" fill-rule=\"nonzero\" fill-opacity=\"1\" /><path clip-path=\"url(#clip040)\" d=\"M156.211 715.128 L161.081 715.128 L161.081 720.73 Q161.081 723.881 162.354 725.122 Q163.627 726.332 166.937 726.332 L170.088 726.332 L170.088 716.688 L174.64 716.688 L174.64 726.332 L205.736 726.332 L205.736 732.22 L174.64 732.22 L174.64 737.822 L170.088 737.822 L170.088 732.22 L167.606 732.22 Q161.654 732.22 158.948 729.451 Q156.211 726.682 156.211 720.666 L156.211 715.128 Z\" fill=\"#000000\" fill-rule=\"nonzero\" fill-opacity=\"1\" /><path clip-path=\"url(#clip040)\" d=\"M187.817 694.026 Q187.817 701.124 189.44 703.861 Q191.063 706.598 194.978 706.598 Q198.098 706.598 199.944 704.561 Q201.758 702.492 201.758 698.959 Q201.758 694.09 198.32 691.161 Q194.851 688.201 189.122 688.201 L187.817 688.201 L187.817 694.026 M185.398 682.345 L205.736 682.345 L205.736 688.201 L200.326 688.201 Q203.572 690.206 205.132 693.198 Q206.659 696.19 206.659 700.519 Q206.659 705.993 203.604 709.24 Q200.517 712.455 195.36 712.455 Q189.345 712.455 186.289 708.444 Q183.234 704.402 183.234 696.413 L183.234 688.201 L182.661 688.201 Q178.619 688.201 176.422 690.875 Q174.194 693.517 174.194 698.323 Q174.194 701.378 174.926 704.275 Q175.658 707.171 177.123 709.845 L171.712 709.845 Q170.47 706.63 169.866 703.606 Q169.229 700.583 169.229 697.718 Q169.229 689.984 173.24 686.164 Q177.25 682.345 185.398 682.345 Z\" fill=\"#000000\" fill-rule=\"nonzero\" fill-opacity=\"1\" /><path clip-path=\"url(#clip040)\" d=\"M175.563 649.625 Q174.99 650.612 174.735 651.789 Q174.449 652.935 174.449 654.336 Q174.449 659.301 177.696 661.975 Q180.91 664.616 186.958 664.616 L205.736 664.616 L205.736 670.505 L170.088 670.505 L170.088 664.616 L175.627 664.616 Q172.38 662.77 170.821 659.81 Q169.229 656.85 169.229 652.617 Q169.229 652.012 169.325 651.28 Q169.388 650.548 169.547 649.657 L175.563 649.625 Z\" fill=\"#000000\" fill-rule=\"nonzero\" fill-opacity=\"1\" /><path clip-path=\"url(#clip040)\" d=\"M186.448 614.423 L189.313 614.423 L189.313 641.35 Q195.36 640.968 198.543 637.721 Q201.694 634.443 201.694 628.618 Q201.694 625.244 200.867 622.093 Q200.039 618.911 198.384 615.791 L203.922 615.791 Q205.259 618.942 205.959 622.253 Q206.659 625.563 206.659 628.968 Q206.659 637.498 201.694 642.495 Q196.729 647.461 188.263 647.461 Q179.51 647.461 174.385 642.75 Q169.229 638.008 169.229 629.987 Q169.229 622.794 173.876 618.624 Q178.491 614.423 186.448 614.423 M184.73 620.279 Q179.924 620.343 177.059 622.985 Q174.194 625.595 174.194 629.923 Q174.194 634.825 176.963 637.785 Q179.733 640.713 184.761 641.159 L184.73 620.279 Z\" fill=\"#000000\" fill-rule=\"nonzero\" fill-opacity=\"1\" /><polyline clip-path=\"url(#clip042)\" style=\"stroke:#009af9; stroke-linecap:round; stroke-linejoin:round; stroke-width:8; stroke-opacity:1; fill:none\" points=\"479.53,479.221 496.885,469.173 598.53,413.372 645.816,389.283 709.196,358.992 761.567,335.785 810.268,315.771 871.403,292.913 926.242,274.69 989.013,256.666 1035.93,245.305 1065.94,239.042 1095.95,233.598 1123.33,229.372 1150.72,225.882 1181.89,222.841 1213.06,220.836 1237.77,220.013 1262.48,219.895 1293.18,220.773 1323.87,222.838 1347.38,225.259 1370.89,228.439 1404.04,234.274 1437.18,241.774 1461.95,248.526 1486.72,256.311 1514.89,266.483 1543.06,278.135 1570.95,291.218 1598.85,305.929 1629.54,324.116 1660.23,344.545 1683.67,361.761 1707.11,380.461 1736.69,406.316 1766.28,434.873 1779.96,449.054 1793.64,463.883 1807.32,479.385 1821,495.588 1835.1,513.062 1849.21,531.344 1863.32,550.469 1877.43,570.475 1891.73,591.692 1906.03,613.9 1920.33,637.146 1934.63,661.48 1949.57,688.112 1964.5,716.057 1979.43,745.391 1994.36,776.19 2006.13,801.541 2017.89,827.899 2029.65,855.315 2041.42,883.838 2054.81,917.736 2068.2,953.232 2081.6,990.422 2094.99,1029.41 2108.39,1070.31 2121.78,1113.25 2135.18,1158.37 2148.57,1205.82 2151.58,1216.8 2154.58,1227.91 2157.59,1239.16 2160.59,1250.53 \"/>\n",
              "</svg>\n"
            ]
          },
          "metadata": {},
          "output_type": "display_data"
        }
      ],
      "source": [
        "plot(τ->government_welfare(τ,αvec,σ,γ),0.,0.8,ylabel=\"Welfare\",xlabel=\"Tax Rate\")"
      ]
    },
    {
      "cell_type": "markdown",
      "metadata": {
        "slideshow": {
          "slide_type": "subslide"
        }
      },
      "source": [
        "## Optimization"
      ]
    },
    {
      "cell_type": "code",
      "execution_count": 18,
      "metadata": {},
      "outputs": [
        {
          "name": "stdout",
          "output_type": "stream",
          "text": [
            "  3.394752 seconds (120.21 M allocations: 1.963 GiB, 5.74% gc time, 1.37% compilation time)\n",
            "Results of Optimization Algorithm\n",
            " * Status: success\n",
            " * Algorithm: Brent's Method\n",
            " * Search Interval: [0.000000, 0.800000]\n",
            " * Minimizer: 3.686490e-01\n",
            " * Minimum: 1.433241e+00\n",
            " * Iterations: 17\n",
            " * Convergence: max(|x - x_upper|, |x - x_lower|) <= 2*(1.5e-08*|x|+2.2e-16): true\n",
            " * Objective Function Calls: 18\n"
          ]
        }
      ],
      "source": [
        "@time minx_optim = Optim.optimize(τ->-government_welfare(τ,αvec,σ,γ),0.,0.8)\n",
        "println(minx_optim)"
      ]
    },
    {
      "cell_type": "markdown",
      "metadata": {
        "slideshow": {
          "slide_type": "subslide"
        }
      },
      "source": [
        "## Using NLopt\n",
        "* First allow government welfare to be evaluated at any level of transfers"
      ]
    },
    {
      "cell_type": "code",
      "execution_count": 19,
      "metadata": {},
      "outputs": [
        {
          "data": {
            "text/plain": [
              "government_welfare"
            ]
          },
          "metadata": {},
          "output_type": "display_data"
        }
      ],
      "source": [
        "\"\"\"\n",
        "    government_welfare(τ,T,αvec,σ,γ)\n",
        "\n",
        "Solves for government welfare given tax rate τ\n",
        "\"\"\"\n",
        "function government_welfare(τ,T,αvec,σ,γ)\n",
        "    welfare = 0.\n",
        "    N = length(αvec)\n",
        "    for i in 1:N\n",
        "        #compute HH welfare given tax rate\n",
        "        c,h,U = household_labor(αvec[i],τ,T,σ,γ)\n",
        "        welfare += U #Aggregate welfare\n",
        "    end\n",
        "    return welfare/N\n",
        "end"
      ]
    },
    {
      "cell_type": "markdown",
      "metadata": {
        "slideshow": {
          "slide_type": "subslide"
        }
      },
      "source": [
        "## Setup Optimization Problem\n",
        "* Note only a few algorithms can use equality constraints\n",
        "    * One derivative free algorithm is COBYLA"
      ]
    },
    {
      "cell_type": "code",
      "execution_count": 20,
      "metadata": {},
      "outputs": [
        {
          "name": "stdout",
          "output_type": "stream",
          "text": [
            "  0.678954 seconds (23.73 M allocations: 399.670 MiB, 4.93% gc time, 2.75% compilation time)\n",
            "0.3686893107639547\n"
          ]
        }
      ],
      "source": [
        "opt = Opt(:LN_COBYLA, 2)\n",
        "\n",
        "lower_bounds!(opt, [0., -1.]) #x[1] is tau, x[2] is T\n",
        "upper_bounds!(opt, [0.8,Inf])\n",
        "ftol_rel!(opt,1e-8)\n",
        "\n",
        "min_objective!(opt, (x,g)->-government_welfare(x[1],x[2],αvec,σ,γ))\n",
        "equality_constraint!(opt, (x,g) -> -budget_residual(x[1],x[2],αvec,σ,γ))\n",
        "\n",
        "@time (minf,minx_nlopt,ret) = NLopt.optimize(opt, [0.3, 0.3])\n",
        "println(minx_nlopt[1])"
      ]
    }
  ],
  "metadata": {
    "kernelspec": {
      "display_name": "Julia 1.11.3",
      "language": "julia",
      "name": "julia-1.11"
    },
    "language_info": {
      "file_extension": ".jl",
      "mimetype": "application/julia",
      "name": "julia",
      "version": "1.11.3"
    }
  },
  "nbformat": 4,
  "nbformat_minor": 2
}
